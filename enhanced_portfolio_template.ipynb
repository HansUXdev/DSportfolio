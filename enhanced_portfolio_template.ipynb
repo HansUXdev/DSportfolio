{
 "cells": [
  {
   "attachments": {},
   "cell_type": "markdown",
   "metadata": {},
   "source": [
    "# Studying Weekly Options on DAX Index\n",
    "\n",
    "## Introduction\n",
    "\n",
    "The purpose of this study is to develop a simple and reliable forecasting model for options trading, specifically focusing on weekly options on the DAX index. The study aims to create a forecasting model that does not incorporate the added complexities of dividends and American-style options, making it more accessible and easier to understand for traders.\n",
    "\n",
    "\n",
    "## Goals\n",
    "- Develop a simple and reliable forecasting model for options trading.\n",
    "- Utilize machine learning and AI techniques to enhance prediction accuracy.\n",
    "- Study the effectiveness of using daily and weekly pivot points to determine strike prices for options trading.\n"
   ]
  },
  {
   "cell_type": "code",
   "execution_count": null,
   "metadata": {},
   "outputs": [],
   "source": []
  },
  {
   "attachments": {},
   "cell_type": "markdown",
   "metadata": {},
   "source": [
    "### Data Collection\n",
    "- Historical price data for the DAX index will be obtained from a reliable financial data source.\n",
    "- Option chain data for weekly options on the DAX will be collected, including strike prices, expiration dates, and option prices.\n"
   ]
  },
  {
   "cell_type": "code",
   "execution_count": null,
   "metadata": {},
   "outputs": [],
   "source": []
  },
  {
   "attachments": {},
   "cell_type": "markdown",
   "metadata": {},
   "source": [
    "### Feature Selection\n",
    "- Daily and weekly pivot points will be calculated from the historical price data.\n",
    "- The nearest strike price to the pivot points (R1 for calls, S1 for puts) will be identified.\n"
   ]
  },
  {
   "cell_type": "code",
   "execution_count": null,
   "metadata": {},
   "outputs": [],
   "source": []
  },
  {
   "cell_type": "code",
   "execution_count": null,
   "metadata": {},
   "outputs": [],
   "source": [
    "### Forecasting Model\n",
    "- Machine learning and AI techniques will be employed to develop the forecasting model.\n",
    "- Theoretical prices of the options will be computed based on the identified strike prices and other relevant factors.\n",
    "- The theoretical probability of assignment will be calculated for the nearest call or put option to R1 or S1.\n"
   ]
  },
  {
   "cell_type": "code",
   "execution_count": null,
   "metadata": {},
   "outputs": [],
   "source": []
  },
  {
   "attachments": {},
   "cell_type": "markdown",
   "metadata": {},
   "source": [
    "## Conclusion\n",
    "This study aims to provide valuable insights into the prediction of option prices and the likelihood of assignment for weekly options on the DAX index. By focusing on simplicity and reliability, the developed forecasting model can be easily implemented by traders looking to enhance their options trading strategies."
   ]
  },
  {
   "cell_type": "code",
   "execution_count": null,
   "metadata": {},
   "outputs": [],
   "source": []
  },
  {
   "cell_type": "markdown",
   "id": "354d8295",
   "metadata": {},
   "source": [
    "\n",
    "## 1. Data Collection & Technical Analysis\n",
    "\n",
    "In this section, we will collect the necessary data for options analysis and perform technical analysis to understand market trends and patterns. This will involve:\n",
    "- Collecting historical options data using APIs such as Yahoo Finance, Alpha Vantage, or other financial data providers.\n",
    "- Performing technical analysis using popular indicators.\n",
    "- Implementing data cleaning and preprocessing steps.\n"
   ]
  },
  {
   "cell_type": "code",
   "execution_count": null,
   "id": "c1904cf6",
   "metadata": {},
   "outputs": [],
   "source": [
    "\n",
    "import yfinance as yf\n",
    "import pandas as pd\n",
    "\n",
    "def get_options_data(ticker):\n",
    "    # Getting historical data\n",
    "    opt = yf.Ticker(ticker)\n",
    "    opt_hist = opt.history(period=\"1y\")\n",
    "    \n",
    "    # Extract options data\n",
    "    calls = opt.option_chain(opt.options[0]).calls\n",
    "    puts = opt.option_chain(opt.options[0]).puts\n",
    "    \n",
    "    # Merge data\n",
    "    options_data = pd.concat([calls, puts], keys=['calls', 'puts'])\n",
    "    return opt_hist, options_data\n",
    "\n",
    "# Example usage\n",
    "ticker = 'AAPL'\n",
    "opt_hist, options_data = get_options_data(ticker)\n",
    "\n",
    "# Displaying the data\n",
    "opt_hist.head(), options_data.head()\n"
   ]
  },
  {
   "cell_type": "markdown",
   "id": "0febee9c",
   "metadata": {},
   "source": [
    "\n",
    "### Technical Analysis\n",
    "\n",
    "Technical analysis involves using historical price and volume data to forecast future price movements. Common technical indicators include moving averages, Bollinger Bands, relative strength index (RSI), and MACD.\n",
    "\n",
    "In this section, we will implement these indicators using `pandas` and `numpy` libraries.\n"
   ]
  },
  {
   "cell_type": "code",
   "execution_count": null,
   "id": "ba4639b5",
   "metadata": {},
   "outputs": [],
   "source": [
    "\n",
    "import numpy as np\n",
    "\n",
    "def compute_technical_indicators(df):\n",
    "    # Moving Average\n",
    "    df['SMA50'] = df['Close'].rolling(window=50).mean()\n",
    "    df['SMA200'] = df['Close'].rolling(window=200).mean()\n",
    "    \n",
    "    # Bollinger Bands\n",
    "    df['20_SMA'] = df['Close'].rolling(window=20).mean()\n",
    "    df['20_STD'] = df['Close'].rolling(window=20).std()\n",
    "    df['Upper_Band'] = df['20_SMA'] + (df['20_STD'] * 2)\n",
    "    df['Lower_Band'] = df['20_SMA'] - (df['20_STD'] * 2)\n",
    "    \n",
    "    # Relative Strength Index (RSI)\n",
    "    delta = df['Close'].diff(1)\n",
    "    delta = delta[1:]\n",
    "    up = delta.copy()\n",
    "    down = delta.copy()\n",
    "    up[up < 0] = 0\n",
    "    down[down > 0] = 0\n",
    "    avg_gain = up.rolling(window=14).mean()\n",
    "    avg_loss = abs(down.rolling(window=14).mean())\n",
    "    rs = avg_gain / avg_loss\n",
    "    df['RSI'] = 100.0 - (100.0 / (1.0 + rs))\n",
    "    \n",
    "    # MACD\n",
    "    df['26_EMA'] = df['Close'].ewm(span=26).mean()\n",
    "    df['12_EMA'] = df['Close'].ewm(span=12).mean()\n",
    "    df['MACD'] = df['12_EMA'] - df['26_EMA']\n",
    "    df['Signal_Line'] = df['MACD'].ewm(span=9).mean()\n",
    "    \n",
    "    return df\n",
    "\n",
    "# Example usage\n",
    "opt_hist_with_indicators = compute_technical_indicators(opt_hist)\n",
    "opt_hist_with_indicators.tail()\n"
   ]
  }
 ],
 "metadata": {
  "kernelspec": {
   "display_name": "jupyter-ai",
   "language": "python",
   "name": "python3"
  },
  "language_info": {
   "codemirror_mode": {
    "name": "ipython",
    "version": 3
   },
   "file_extension": ".py",
   "mimetype": "text/x-python",
   "name": "python",
   "nbconvert_exporter": "python",
   "pygments_lexer": "ipython3",
   "version": "3.11.7"
  }
 },
 "nbformat": 4,
 "nbformat_minor": 2
}
