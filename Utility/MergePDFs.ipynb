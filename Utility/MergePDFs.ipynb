{
 "cells": [
  {
   "cell_type": "code",
   "execution_count": null,
   "id": "96c69af3",
   "metadata": {},
   "outputs": [],
   "source": [
    "!pip install PdfMerger "
   ]
  },
  {
   "cell_type": "code",
   "execution_count": null,
   "id": "9cd3cbc1",
   "metadata": {},
   "outputs": [],
   "source": [
    "import os\n",
    "os.getcwd()  # outputs (for me) '/home/Cowboyboats'"
   ]
  },
  {
   "cell_type": "code",
   "execution_count": null,
   "id": "98e3fd76",
   "metadata": {},
   "outputs": [],
   "source": [
    "!dir"
   ]
  },
  {
   "cell_type": "code",
   "execution_count": null,
   "id": "8138005f",
   "metadata": {},
   "outputs": [],
   "source": [
    "from PyPDF2 import PdfReader, PdfMerger\n",
    "import os\n",
    "\n",
    "# Define the directory containing the PDFs to merge\n",
    "pdf_dir = './'  # Update this path to your directory\n",
    "pdf_files = [f for f in os.listdir(pdf_dir) if f.endswith('.pdf')]\n",
    "\n",
    "# Create a PDF merger object\n",
    "merger = PdfMerger()\n",
    "\n",
    "# Loop through all PDF files and append them to the merger object\n",
    "for pdf in pdf_files:\n",
    "    try:\n",
    "        # Open the PDF file and append it to the merger object\n",
    "        with open(os.path.join(pdf_dir, pdf), 'rb') as file_obj:\n",
    "            reader = PdfReader(file_obj)\n",
    "            merger.append(reader)\n",
    "    except Exception as e:\n",
    "        print(f\"Error appending {pdf}: {e}\")\n",
    "\n",
    "# Define the output PDF file name\n",
    "output_pdf_path = os.path.join(pdf_dir, 'knowledge', 'merged_document.pdf')  # This will save the merged PDF in the specified directory\n",
    "\n",
    "# Ensure the output directory exists\n",
    "os.makedirs(os.path.dirname(output_pdf_path), exist_ok=True)\n",
    "\n",
    "# Write the merged PDF to file\n",
    "merger.write(output_pdf_path)\n",
    "merger.close()\n",
    "\n",
    "# Print the path to the merged PDF\n",
    "print(f'Merged document saved to: {output_pdf_path}')\n"
   ]
  },
  {
   "cell_type": "code",
   "execution_count": null,
   "id": "c857e35d",
   "metadata": {},
   "outputs": [],
   "source": []
  }
 ],
 "metadata": {
  "kernelspec": {
   "display_name": "Python 3 (ipykernel)",
   "language": "python",
   "name": "python3"
  },
  "language_info": {
   "codemirror_mode": {
    "name": "ipython",
    "version": 3
   },
   "file_extension": ".py",
   "mimetype": "text/x-python",
   "name": "python",
   "nbconvert_exporter": "python",
   "pygments_lexer": "ipython3",
   "version": "3.11.5"
  },
  "nbTranslate": {
   "displayLangs": [
    "*"
   ],
   "hotkey": "alt-t",
   "langInMainMenu": true,
   "sourceLang": "en",
   "targetLang": "fr",
   "useGoogleTranslate": true
  },
  "toc": {
   "base_numbering": 1,
   "nav_menu": {},
   "number_sections": true,
   "sideBar": true,
   "skip_h1_title": false,
   "title_cell": "Table of Contents",
   "title_sidebar": "Contents",
   "toc_cell": false,
   "toc_position": {},
   "toc_section_display": true,
   "toc_window_display": false
  },
  "varInspector": {
   "cols": {
    "lenName": 16,
    "lenType": 16,
    "lenVar": 40
   },
   "kernels_config": {
    "python": {
     "delete_cmd_postfix": "",
     "delete_cmd_prefix": "del ",
     "library": "var_list.py",
     "varRefreshCmd": "print(var_dic_list())"
    },
    "r": {
     "delete_cmd_postfix": ") ",
     "delete_cmd_prefix": "rm(",
     "library": "var_list.r",
     "varRefreshCmd": "cat(var_dic_list()) "
    }
   },
   "types_to_exclude": [
    "module",
    "function",
    "builtin_function_or_method",
    "instance",
    "_Feature"
   ],
   "window_display": false
  }
 },
 "nbformat": 4,
 "nbformat_minor": 5
}
