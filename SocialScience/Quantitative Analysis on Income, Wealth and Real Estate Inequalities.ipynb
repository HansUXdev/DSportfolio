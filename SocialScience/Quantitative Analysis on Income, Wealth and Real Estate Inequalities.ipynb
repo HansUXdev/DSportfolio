{
 "cells": [
  {
   "cell_type": "markdown",
   "id": "f3d1fcdf",
   "metadata": {},
   "source": [
    "# Quantitative Analysis on Income, Wealth and Real Estate Inequalities"
   ]
  },
  {
   "cell_type": "markdown",
   "id": "694ce000",
   "metadata": {},
   "source": [
    "## I. Introduction\n",
    "- Overview of the importance of studying income, wealth, and real estate inequalities in sociology\n",
    "- Brief explanation of the research questions and objectives of the analysis\n"
   ]
  },
  {
   "cell_type": "code",
   "execution_count": null,
   "id": "e7ba149d",
   "metadata": {},
   "outputs": [],
   "source": []
  },
  {
   "cell_type": "markdown",
   "id": "5b82fd1c",
   "metadata": {},
   "source": [
    "## II. Theoretical Framework\n",
    "- Review of sociological theories and concepts relevant to understanding income, wealth, and real estate inequalities (e.g., social stratification, intersectionality, structural inequality)\n",
    "- Discussion of key factors influencing income, wealth, and real estate disparities (e.g., race, gender, education, occupation, inheritance)\n"
   ]
  },
  {
   "cell_type": "code",
   "execution_count": null,
   "id": "ae3acd72",
   "metadata": {},
   "outputs": [],
   "source": []
  },
  {
   "cell_type": "markdown",
   "id": "ee5dcf6e",
   "metadata": {},
   "source": [
    "## III. Data Sources and Methodology\n",
    "- Overview of data sources and datasets used in the analysis\n",
    "- Explanation of the methodology for data collection, cleaning, and analysis\n",
    "- Description of quantitative methods and statistical techniques employed (e.g., regression analysis, geospatial analysis, longitudinal analysis)\n"
   ]
  },
  {
   "cell_type": "code",
   "execution_count": null,
   "id": "f3ccb1b8",
   "metadata": {},
   "outputs": [],
   "source": []
  },
  {
   "cell_type": "markdown",
   "id": "d1c8a826",
   "metadata": {},
   "source": [
    "## IV. Analysis of Income Inequality\n",
    "- Examination of income distribution trends over time and geography\n",
    "- Analysis of income disparities by demographic factors (e.g., race, gender, education)\n",
    "- Case studies or examples of income inequality studies (e.g., Thomas Piketty's \"Capital in the Twenty-First Century\")\n"
   ]
  },
  {
   "cell_type": "code",
   "execution_count": null,
   "id": "7aca1d79",
   "metadata": {},
   "outputs": [],
   "source": []
  },
  {
   "cell_type": "markdown",
   "id": "69d376f7",
   "metadata": {},
   "source": [
    "## V. Analysis of Wealth Inequality\n",
    "- Assessment of wealth accumulation patterns and disparities\n",
    "- Exploration of intergenerational wealth transmission and inheritance\n",
    "- Review of studies on wealth inequality (e.g., \"The Color of Wealth\" by Barbara Robles et al.)\n"
   ]
  },
  {
   "cell_type": "code",
   "execution_count": null,
   "id": "563e2c94",
   "metadata": {},
   "outputs": [],
   "source": []
  },
  {
   "cell_type": "markdown",
   "id": "c60defdf",
   "metadata": {},
   "source": [
    "## VI. Analysis of Real Estate Inequality\n",
    "- Investigation of housing market dynamics and disparities\n",
    "- Examination of housing affordability, homeownership rates, and residential segregation\n",
    "- Discussion of gentrification and its impact on real estate inequalities\n",
    "- Example studies on real estate inequality (e.g., \"Evicted\" by Matthew Desmond)\n"
   ]
  },
  {
   "cell_type": "code",
   "execution_count": null,
   "id": "04bf79b9",
   "metadata": {},
   "outputs": [],
   "source": []
  },
  {
   "cell_type": "markdown",
   "id": "d4ab25d9",
   "metadata": {},
   "source": [
    "## VII. Case Studies\n",
    "- Presentation of case studies or examples illustrating income, wealth, and real estate inequalities in specific contexts or regions\n",
    "- Analysis of key findings and implications for understanding broader social dynamics\n"
   ]
  },
  {
   "cell_type": "code",
   "execution_count": null,
   "id": "ff945c6b",
   "metadata": {},
   "outputs": [],
   "source": []
  },
  {
   "cell_type": "markdown",
   "id": "a82285c3",
   "metadata": {},
   "source": [
    "## VIII. Conclusion\n",
    "- Summary of key findings from the analysis\n",
    "- Reflection on the significance of income, wealth, and real estate inequalities for understanding social stratification and structural inequality\n",
    "- Recommendations for future research directions and policy implications\n"
   ]
  },
  {
   "cell_type": "code",
   "execution_count": null,
   "id": "5e92fd48",
   "metadata": {},
   "outputs": [],
   "source": []
  },
  {
   "cell_type": "markdown",
   "id": "e53a3164",
   "metadata": {},
   "source": [
    "## IX. References\n",
    "- List of cited studies, datasets, and other resources used in the analysis\n"
   ]
  },
  {
   "cell_type": "code",
   "execution_count": null,
   "id": "3b7ac64c",
   "metadata": {},
   "outputs": [],
   "source": []
  },
  {
   "cell_type": "markdown",
   "id": "48fe3b41",
   "metadata": {},
   "source": [
    "## X. Appendix\n",
    "- Additional data tables, charts, or supplementary information supporting the analysis\n"
   ]
  },
  {
   "cell_type": "code",
   "execution_count": null,
   "id": "a86b340a",
   "metadata": {},
   "outputs": [],
   "source": []
  },
  {
   "cell_type": "markdown",
   "id": "b2b18d20",
   "metadata": {},
   "source": [
    "### Specific Studies and Data Sources:\n",
    "- **Studies on Income Inequality:**\n",
    "  - \"The Spirit Level: Why More Equal Societies Almost Always Do Better\" by Richard Wilkinson and Kate Pickett\n",
    "  - \"Capital in the Twenty-First Century\" by Thomas Piketty\n",
    "- **Studies on Wealth Inequality:**\n",
    "  - \"The Color of Wealth: The Story Behind the U.S. Racial Wealth Divide\" by Barbara Robles et al.\n",
    "  - \"The Hidden Wealth of Nations: The Scourge of Tax Havens\" by Gabriel Zucman\n",
    "- **Studies on Real Estate Inequality:**\n",
    "  - \"Evicted: Poverty and Profit in the American City\" by Matthew Desmond\n",
    "  - \"Homeward: Life in the Year After Prison\" by Bruce Western\n"
   ]
  },
  {
   "cell_type": "code",
   "execution_count": null,
   "id": "451eda99",
   "metadata": {},
   "outputs": [],
   "source": []
  },
  {
   "cell_type": "markdown",
   "id": "2f85b0b7",
   "metadata": {},
   "source": [
    "### Data Sources:\n",
    "- **Income Data:**\n",
    "  - U.S. Census Bureau: American Community Survey (ACS)\n",
    "  - World Income Database (WID)\n",
    "- **Wealth Data:**\n",
    "  - Survey of Consumer Finances (SCF)\n",
    "  - Federal Reserve Board's Distributional Financial Accounts (DFA)\n",
    "- **Real Estate Data:**\n",
    "  - Zillow Research Data\n",
    "  - National Association of Realtors (NAR) Housing Market Data\n",
    "  - Home Mortgage Disclosure Act (HMDA) Data\n"
   ]
  },
  {
   "cell_type": "code",
   "execution_count": null,
   "id": "40023b45",
   "metadata": {},
   "outputs": [],
   "source": []
  },
  {
   "cell_type": "markdown",
   "id": "1a41d5ac",
   "metadata": {},
   "source": [
    "### Methodology Details:\n",
    "- **Data Collection:** Utilize APIs or download datasets from official sources mentioned above.\n",
    "- **Data Cleaning:** Handle missing values, outliers, and inconsistencies using pandas and numpy libraries.\n",
    "- **Analysis:** Use statistical methods such as regression analysis, descriptive statistics, and geospatial analysis using libraries like scipy, statsmodels, and geopandas.\n",
    "- **Visualization:** Create visualizations (e.g., plots, maps) using matplotlib, seaborn, and folium libraries to present findings effectively."
   ]
  },
  {
   "cell_type": "code",
   "execution_count": null,
   "id": "e3e84c79",
   "metadata": {},
   "outputs": [],
   "source": []
  }
 ],
 "metadata": {
  "kernelspec": {
   "display_name": "Python 3 (ipykernel)",
   "language": "python",
   "name": "python3"
  },
  "language_info": {
   "codemirror_mode": {
    "name": "ipython",
    "version": 3
   },
   "file_extension": ".py",
   "mimetype": "text/x-python",
   "name": "python",
   "nbconvert_exporter": "python",
   "pygments_lexer": "ipython3",
   "version": "3.11.5"
  },
  "nbTranslate": {
   "displayLangs": [
    "*"
   ],
   "hotkey": "alt-t",
   "langInMainMenu": true,
   "sourceLang": "en",
   "targetLang": "fr",
   "useGoogleTranslate": true
  },
  "toc": {
   "base_numbering": 1,
   "nav_menu": {},
   "number_sections": true,
   "sideBar": true,
   "skip_h1_title": false,
   "title_cell": "Table of Contents",
   "title_sidebar": "Contents",
   "toc_cell": false,
   "toc_position": {},
   "toc_section_display": true,
   "toc_window_display": false
  },
  "varInspector": {
   "cols": {
    "lenName": 16,
    "lenType": 16,
    "lenVar": 40
   },
   "kernels_config": {
    "python": {
     "delete_cmd_postfix": "",
     "delete_cmd_prefix": "del ",
     "library": "var_list.py",
     "varRefreshCmd": "print(var_dic_list())"
    },
    "r": {
     "delete_cmd_postfix": ") ",
     "delete_cmd_prefix": "rm(",
     "library": "var_list.r",
     "varRefreshCmd": "cat(var_dic_list()) "
    }
   },
   "types_to_exclude": [
    "module",
    "function",
    "builtin_function_or_method",
    "instance",
    "_Feature"
   ],
   "window_display": false
  }
 },
 "nbformat": 4,
 "nbformat_minor": 5
}
