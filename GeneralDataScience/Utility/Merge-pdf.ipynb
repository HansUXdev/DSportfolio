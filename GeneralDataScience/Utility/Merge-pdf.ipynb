{
 "cells": [
  {
   "cell_type": "markdown",
   "id": "527eb05b",
   "metadata": {},
   "source": [
    "# Use Cases\n",
    "There are a lot of usecases for this. Personally, I use this on a daily basis when training custom GPTs on books or especially Juptyer Notebooks, printed out as pdfs."
   ]
  },
  {
   "cell_type": "code",
   "execution_count": null,
   "id": "1b75e1a3",
   "metadata": {},
   "outputs": [],
   "source": [
    "import os\n",
    "from PyPDF2 import PdfMerger\n",
    "\n",
    "def merge_pdfs_in_current_directory(output_pdf_name=\"merged_output.pdf\"):\n",
    "    # Get the current working directory\n",
    "    current_directory = os.getcwd()\n",
    "    \n",
    "    # Initialize a PDF merger object\n",
    "    merger = PdfMerger()\n",
    "    \n",
    "    # Counter for the number of PDFs found and merged\n",
    "    pdf_count = 0\n",
    "    \n",
    "    # Search current directory for PDF files and merge them\n",
    "    for item in os.listdir(current_directory):\n",
    "        if item.endswith('.pdf'):\n",
    "            pdf_path = os.path.join(current_directory, item)\n",
    "            merger.append(pdf_path)\n",
    "            pdf_count += 1\n",
    "    \n",
    "    # If PDFs were found and merged, write the output file\n",
    "    if pdf_count > 0:\n",
    "        merger.write(output_pdf_name)\n",
    "        merger.close()\n",
    "        print(f\"{pdf_count} PDFs merged into '{output_pdf_name}'\")\n",
    "    else:\n",
    "        print(\"No PDF files found in the current directory.\")\n",
    "\n",
    "# Call the function to merge PDFs in the current directory\n",
    "merge_pdfs_in_current_directory()\n"
   ]
  }
 ],
 "metadata": {
  "kernelspec": {
   "display_name": "Python 3 (ipykernel)",
   "language": "python",
   "name": "python3"
  },
  "language_info": {
   "codemirror_mode": {
    "name": "ipython",
    "version": 3
   },
   "file_extension": ".py",
   "mimetype": "text/x-python",
   "name": "python",
   "nbconvert_exporter": "python",
   "pygments_lexer": "ipython3",
   "version": "3.11.5"
  },
  "nbTranslate": {
   "displayLangs": [
    "*"
   ],
   "hotkey": "alt-t",
   "langInMainMenu": true,
   "sourceLang": "en",
   "targetLang": "fr",
   "useGoogleTranslate": true
  },
  "toc": {
   "base_numbering": 1,
   "nav_menu": {},
   "number_sections": true,
   "sideBar": true,
   "skip_h1_title": false,
   "title_cell": "Table of Contents",
   "title_sidebar": "Contents",
   "toc_cell": false,
   "toc_position": {},
   "toc_section_display": true,
   "toc_window_display": false
  },
  "varInspector": {
   "cols": {
    "lenName": 16,
    "lenType": 16,
    "lenVar": 40
   },
   "kernels_config": {
    "python": {
     "delete_cmd_postfix": "",
     "delete_cmd_prefix": "del ",
     "library": "var_list.py",
     "varRefreshCmd": "print(var_dic_list())"
    },
    "r": {
     "delete_cmd_postfix": ") ",
     "delete_cmd_prefix": "rm(",
     "library": "var_list.r",
     "varRefreshCmd": "cat(var_dic_list()) "
    }
   },
   "types_to_exclude": [
    "module",
    "function",
    "builtin_function_or_method",
    "instance",
    "_Feature"
   ],
   "window_display": false
  }
 },
 "nbformat": 4,
 "nbformat_minor": 5
}
