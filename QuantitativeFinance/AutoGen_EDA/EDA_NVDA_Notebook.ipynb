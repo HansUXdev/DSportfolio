{
 "cells": [
  {
   "cell_type": "markdown",
   "id": "dcc074bd",
   "metadata": {},
   "source": [
    "# Time Series Analysis of NVDA Stock Prices"
   ]
  },
  {
   "cell_type": "code",
   "execution_count": null,
   "id": "88138396",
   "metadata": {},
   "outputs": [],
   "source": [
    "\n",
    "import pandas as pd\n",
    "from statsmodels.tsa.stattools import adfuller\n",
    "\n",
    "# Load the dataset (assuming the dataset is already loaded in the notebook)\n",
    "# Replace 'stock_data' with the actual DataFrame variable name\n",
    "stock_data = stock_data.set_index('Date')  # Ensure 'Date' is the index\n",
    "nvda_series = stock_data['NVDA']\n",
    "\n",
    "# Perform Augmented Dickey-Fuller test\n",
    "adf_result = adfuller(nvda_series.dropna())\n",
    "print('ADF Statistic:', adf_result[0])\n",
    "print('p-value:', adf_result[1])\n",
    "print('Critical Values:', adf_result[4])\n"
   ]
  },
  {
   "cell_type": "code",
   "execution_count": null,
   "id": "1f5cb719",
   "metadata": {},
   "outputs": [],
   "source": [
    "\n",
    "from statsmodels.tsa.seasonal import STL\n",
    "import matplotlib.pyplot as plt\n",
    "\n",
    "# STL decomposition\n",
    "stl = STL(nvda_series.dropna(), seasonal=13)\n",
    "result = stl.fit()\n",
    "\n",
    "# Plot the decomposition\n",
    "result.plot()\n",
    "plt.show()\n"
   ]
  },
  {
   "cell_type": "code",
   "execution_count": null,
   "id": "d503a2eb",
   "metadata": {},
   "outputs": [],
   "source": [
    "\n",
    "from statsmodels.graphics.tsaplots import plot_acf, plot_pacf\n",
    "\n",
    "# Plot ACF and PACF\n",
    "fig, ax = plt.subplots(2, 1, figsize=(12, 8))\n",
    "plot_acf(nvda_series.dropna(), ax=ax[0])\n",
    "plot_pacf(nvda_series.dropna(), ax=ax[1])\n",
    "plt.show()\n"
   ]
  },
  {
   "cell_type": "code",
   "execution_count": null,
   "id": "de87edfb",
   "metadata": {},
   "outputs": [],
   "source": [
    "\n",
    "# Extract the trend component from the STL decomposition\n",
    "trend = result.trend\n",
    "\n",
    "# Plot the trend\n",
    "plt.figure(figsize=(10, 6))\n",
    "plt.plot(trend, label='Trend')\n",
    "plt.title('Trend Component of NVDA Stock Prices')\n",
    "plt.legend()\n",
    "plt.show()\n"
   ]
  },
  {
   "cell_type": "code",
   "execution_count": null,
   "id": "0da3453b",
   "metadata": {},
   "outputs": [],
   "source": [
    "\n",
    "# Descriptive Statistics for NVDA, INTC, and AMD\n",
    "nvda_stats = nvda_data.describe()\n",
    "intc_stats = intc_data.describe()\n",
    "amd_stats = amd_data.describe()\n",
    "\n",
    "print(\"NVDA Descriptive Statistics:\\n\", nvda_stats)\n",
    "print(\"\\nINTC Descriptive Statistics:\\n\", intc_stats)\n",
    "print(\"\\nAMD Descriptive Statistics:\\n\", amd_stats)\n"
   ]
  },
  {
   "cell_type": "code",
   "execution_count": null,
   "id": "b27892ea",
   "metadata": {},
   "outputs": [],
   "source": [
    "\n",
    "import matplotlib.pyplot as plt\n",
    "import seaborn as sns\n",
    "\n",
    "# Histograms\n",
    "plt.figure(figsize=(14, 6))\n",
    "plt.subplot(1, 3, 1)\n",
    "nvda_data['Close'].hist(bins=50)\n",
    "plt.title('NVDA Close Price Distribution')\n",
    "\n",
    "plt.subplot(1, 3, 2)\n",
    "intc_data['Close'].hist(bins=50)\n",
    "plt.title('INTC Close Price Distribution')\n",
    "\n",
    "plt.subplot(1, 3, 3)\n",
    "amd_data['Close'].hist(bins=50)\n",
    "plt.title('AMD Close Price Distribution')\n",
    "plt.show()\n",
    "\n",
    "# Density Plots\n",
    "plt.figure(figsize=(14, 6))\n",
    "sns.kdeplot(nvda_data['Close'], label='NVDA', shade=True)\n",
    "sns.kdeplot(intc_data['Close'], label='INTC', shade=True)\n",
    "sns.kdeplot(amd_data['Close'], label='AMD', shade=True)\n",
    "plt.title('Density Plot of Close Prices')\n",
    "plt.legend()\n",
    "plt.show()\n",
    "\n",
    "# Scatter Plots\n",
    "plt.figure(figsize=(14, 6))\n",
    "plt.subplot(1, 3, 1)\n",
    "plt.scatter(nvda_data['Close'], intc_data['Close'])\n",
    "plt.title('NVDA vs INTC Close Prices')\n",
    "\n",
    "plt.subplot(1, 3, 2)\n",
    "plt.scatter(nvda_data['Close'], amd_data['Close'])\n",
    "plt.title('NVDA vs AMD Close Prices')\n",
    "\n",
    "plt.subplot(1, 3, 3)\n",
    "plt.scatter(intc_data['Close'], amd_data['Close'])\n",
    "plt.title('INTC vs AMD Close Prices')\n",
    "plt.show()\n"
   ]
  }
 ],
 "metadata": {},
 "nbformat": 4,
 "nbformat_minor": 5
}
