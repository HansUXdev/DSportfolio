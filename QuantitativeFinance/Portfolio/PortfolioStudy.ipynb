{
 "cells": [
  {
   "cell_type": "code",
   "execution_count": 1,
   "metadata": {},
   "outputs": [],
   "source": [
    "!pip install pandas numpy matplotlib yfinance backtrader\n",
    "from IPython.core.display import clear_output\n",
    "clear_output()"
   ]
  },
  {
   "cell_type": "code",
   "execution_count": 2,
   "metadata": {},
   "outputs": [],
   "source": [
    "import yfinance as yf\n",
    "import backtrader as bt\n",
    "import matplotlib.pyplot as plt\n",
    "import pandas as pd\n",
    "import numpy as np\n",
    "from scipy.stats import linregress\n",
    "from sklearn.linear_model import LinearRegression\n",
    "from statsmodels.tsa.seasonal import seasonal_decompose"
   ]
  },
  {
   "attachments": {},
   "cell_type": "markdown",
   "metadata": {},
   "source": [
    "# Introduction\n",
    "This notebook is designed to showcase a comprehensive analysis of a diverse portfolio, integrating Index Funds, Leveraged ETFs, monthly dividend REITs and ETFs, and quarterly dividend stocks. The analysis includes portfolio beta evaluation, backtesting a Dollar-Cost Averaging (DCA) strategy, and options pricing.\n"
   ]
  },
  {
   "cell_type": "code",
   "execution_count": 8,
   "metadata": {},
   "outputs": [],
   "source": [
    "# Define Portfolio Assets\n",
    "index_funds = ['SPY', 'QQQ', 'DAX']\n",
    "leveraged_etfs = ['TQQQ', 'UMDD', 'UDOW', 'SOXL', 'NVDL', 'TSLL', 'BITX']\n",
    "monthly_dividend_reits_etfs = ['O', 'AGNC', 'CSHI', 'JEPI', 'NUSI']\n",
    "quarterly_dividend_stocks = [\n",
    "    'SPYD', 'MSFT', 'INTC', 'F', 'CSCO', 'BAC', 'PFE', 'BX', 'MO', \n",
    "    'DOW', 'WMT', 'T', 'KMB', 'SWK', 'IBM', 'PEP', 'KO', 'JNJ'\n",
    "]"
   ]
  },
  {
   "cell_type": "code",
   "execution_count": 12,
   "metadata": {},
   "outputs": [],
   "source": [
    "############################################################################################################\n",
    "# Define Technical Indicators Functions\n",
    "############################################################################################################\n",
    "def bollinger_bands(data, window=20, num_std=2):\n",
    "    rolling_mean = data['Close'].rolling(window=window).mean()\n",
    "    rolling_std = data['Close'].rolling(window=window).std()\n",
    "    data['Bollinger_High'] = rolling_mean + (rolling_std * num_std)\n",
    "    data['Bollinger_Low'] = rolling_mean - (rolling_std * num_std)\n",
    "    return data\n",
    "\n",
    "def macd(data, short_window=12, long_window=26, signal_window=9):\n",
    "    short_ema = data['Close'].ewm(span=short_window, adjust=False).mean()\n",
    "    long_ema = data['Close'].ewm(span=long_window, adjust=False).mean()\n",
    "    data['MACD'] = short_ema - long_ema\n",
    "    data['Signal'] = data['MACD'].ewm(span=signal_window, adjust=False).mean()\n",
    "    return data\n",
    "\n",
    "def rsi(data, periods=14, ema=True):\n",
    "    close_delta = data['Close'].diff()\n",
    "    up = close_delta.clip(lower=0)\n",
    "    down = -1 * close_delta.clip(upper=0)\n",
    "    if ema:\n",
    "        ma_up = up.ewm(com=periods - 1, adjust=True, min_periods=periods).mean()\n",
    "        ma_down = down.ewm(com=periods - 1, adjust=True, min_periods=periods).mean()\n",
    "    else:\n",
    "        ma_up = up.rolling(window=periods).mean()\n",
    "        ma_down = down.rolling(window=periods).mean()\n",
    "    rsi = ma_up / ma_down\n",
    "    data['RSI'] = 100 - (100 / (1 + rsi))\n",
    "    return data\n",
    "\n",
    "def woodie_pivots(data):\n",
    "    high = data['High']\n",
    "    low = data['Low']\n",
    "    close = data['Close']\n",
    "    pivot = (high + low + 2 * close) / 4\n",
    "    data['Pivot'] = pivot\n",
    "    data['R1'] = 2 * pivot - low\n",
    "    data['S1'] = 2 * pivot - high\n",
    "    data['R2'] = pivot + (high - low)\n",
    "    data['S2'] = pivot - (high - low)\n",
    "    data['R3'] = high + 2 * (pivot - low)\n",
    "    data['S3'] = low - 2 * (high - pivot)\n",
    "    data['R4'] = pivot + 3 * (high - low)\n",
    "    data['S4'] = pivot - 3 * (high - low)\n",
    "    return data\n",
    "\n",
    "def obv(data):\n",
    "    data['OBV'] = np.where(data['Close'] > data['Close'].shift(1), data['Volume'],\n",
    "                           np.where(data['Close'] < data['Close'].shift(1), -data['Volume'], 0)).cumsum()\n",
    "    return data\n",
    "\n",
    "def atr(data, window=14):\n",
    "    high_low = data['High'] - data['Low']\n",
    "    high_close = np.abs(data['High'] - data['Close'].shift())\n",
    "    low_close = np.abs(data['Low'] - data['Close'].shift())\n",
    "    ranges = pd.concat([high_low, high_close, low_close], axis=1)\n",
    "    true_range = np.max(ranges, axis=1)\n",
    "    data['ATR'] = true_range.rolling(window=window).mean()\n",
    "    return data\n",
    "\n",
    "def stochastic_oscillator(data, window=14):\n",
    "    low_min = data['Low'].rolling(window=window).min()\n",
    "    high_max = data['High'].rolling(window=window).max()\n",
    "    data['%K'] = 100 * ((data['Close'] - low_min) / (high_max - low_min))\n",
    "    data['%D'] = data['%K'].rolling(window=3).mean()\n",
    "    return data\n",
    "\n",
    "############################################################################################################\n",
    "# Process other non-stationary data\n",
    "############################################################################################################\n",
    "# Function to detrend time series data using a linear regression model\n",
    "def detrend_data(data, column):\n",
    "    # Linear regression model requires reshaped index as a feature\n",
    "    X = np.arange(len(data)).reshape(-1, 1)\n",
    "    y = data[column].values  # Original values to detrend\n",
    "    \n",
    "    # Create and fit the model\n",
    "    model = LinearRegression()\n",
    "    model.fit(X, y)\n",
    "    \n",
    "    # Predict the trend\n",
    "    trend = model.predict(X)\n",
    "    \n",
    "    # Detrend by subtracting the trend from the original data\n",
    "    detrended = y - trend\n",
    "    data[f'{column}_detrended'] = detrended\n",
    "    \n",
    "    # Return the detrended data and the trend for further analysis\n",
    "    return data, trend\n",
    "\n",
    "def seasonal_decomposition(data, column, period):\n",
    "    # Perform seasonal decomposition\n",
    "    decomposition = seasonal_decompose(data[column], model='multiplicative', period=period)\n",
    "    \n",
    "    # Add components to DataFrame\n",
    "    data['trend_component'] = decomposition.trend\n",
    "    data['seasonal_component'] = decomposition.seasonal\n",
    "    data['residual_component'] = decomposition.resid\n",
    "    \n",
    "    # Seasonally adjust the data\n",
    "    data[column + '_seasonally_adjusted'] = data[column] / data['seasonal_component']\n",
    "    \n",
    "    return data\n",
    "\n",
    "# Function to calculate price differences\n",
    "def calculate_price_differences(data, column):\n",
    "    data[f'{column}_diff'] = data[column].diff()\n",
    "    return data\n",
    "\n",
    "# Function to calculate log returns\n",
    "def calculate_log_returns(data, column):\n",
    "    data[f'{column}_log_return'] = np.log(data[column] / data[column].shift(1))\n",
    "    return data\n",
    "\n",
    "# Function to calculate volume changes\n",
    "def calculate_volume_changes(data, volume_column):\n",
    "    data[f'{volume_column}_changes'] = data[volume_column].diff()\n",
    "    return data\n"
   ]
  },
  {
   "cell_type": "code",
   "execution_count": 13,
   "metadata": {},
   "outputs": [],
   "source": [
    "############################################################################################################\n",
    "# Fetch Financial Data Function with Technical Indicators\n",
    "############################################################################################################\n",
    "def fetch_financial_data(ticker='SPY', start_year=1993, end_year=None, interval='1d', export_csv=False, csv_file=None,  calculate_indicators=False,):\n",
    "    \"\"\"\n",
    "    Fetches data for a specified ticker from Yahoo Finance from the given start year to the current year or specified end year at specified intervals.\n",
    "    \n",
    "    Parameters:\n",
    "        ticker (str): The ticker symbol for the asset. Defaults to 'SPY'.\n",
    "        start_year (int): The year from which to start fetching the data. Defaults to 1993.\n",
    "        end_year (int): The last year for which to fetch the data. Defaults to the current year if None.\n",
    "        interval (str): The data interval ('1d' for daily, '1wk' for weekly, '1mo' for monthly, '1h' for hourly).\n",
    "        export_csv (bool): Whether to export the data to a CSV file. Defaults to False.\n",
    "        csv_file (str): The path of the CSV file to export the data to. Automatically determined if None.\n",
    "    \"\"\"\n",
    "    # If end_year is not specified, use the current year\n",
    "    # Hourly data can only be fetched for the last 730 days\n",
    "    if end_year is None:\n",
    "        end_year = pd.Timestamp.today().year\n",
    "        \n",
    "    # If csv_file is not specified, automatically generate a file name based on the ticker and interval\n",
    "    if csv_file is None:\n",
    "        csv_file = f'{ticker}_{interval}_data_{start_year}_to_{end_year}.csv'\n",
    "    \n",
    "    # Adjust end_date to ensure data is fetched through the end of the end_year\n",
    "    end_date = f\"{end_year}-12-31\"\n",
    "    \n",
    "    # Download the data before attempting to access it\n",
    "    data = yf.download(ticker, start=f'{start_year}-01-01', end=end_date, interval=interval)\n",
    "    \n",
    "    # Ensure 'data' has been successfully downloaded and is not empty\n",
    "    if not data.empty and calculate_indicators:\n",
    "        data = bollinger_bands(data)\n",
    "        data = macd(data)\n",
    "        data = rsi(data)\n",
    "        data = woodie_pivots(data)\n",
    "        data = obv(data)\n",
    "        data = atr(data)\n",
    "        data = stochastic_oscillator(data)\n",
    "\n",
    "        # Non-stationary data processing\n",
    "        data = calculate_price_differences(data, 'Close')  # Calculate price differences\n",
    "        data = calculate_log_returns(data, 'Close')  # Calculate log returns for the 'Close' column\n",
    "        data = calculate_volume_changes(data, 'Volume')  # Calculate volume changes\n",
    "\n",
    "\n",
    "    else:\n",
    "        print(\"Data download failed or returned an empty DataFrame.\")\n",
    "    \n",
    "    if export_csv and not data.empty:\n",
    "        data.to_csv(csv_file)\n",
    "        print(f'Data exported to {csv_file}')\n",
    "    \n",
    "    return data "
   ]
  },
  {
   "cell_type": "code",
   "execution_count": null,
   "metadata": {},
   "outputs": [],
   "source": [
    "# Initialize an empty dictionary to store data for each fund\n",
    "funds_data = {}\n",
    "\n",
    "# Iterate over the index funds to fetch data for each and store it in the dictionary\n",
    "for fund in index_funds:\n",
    "    print(f\"Fetching data for {fund}...\")\n",
    "    # Note: Adjust the parameters according to your fetch_financial_data function's definition\n",
    "    # Here it's assumed that fetch_financial_data only requires the ticker symbol as a parameter\n",
    "    funds_data[fund] = fetch_financial_data(ticker=fund, calculate_indicators=True)\n",
    "\n",
    "# Now, extract the data for each fund into its own variable\n",
    "SPY_data = funds_data['SPY']\n",
    "QQQ_data = funds_data['QQQ']\n",
    "DAX_data = funds_data.get('DAX')  # Using .get() for 'DAX' in case it's not available/fetched correctly\n"
   ]
  },
  {
   "cell_type": "code",
   "execution_count": null,
   "metadata": {},
   "outputs": [],
   "source": [
    "# Initialize an empty dictionary to store data for each ETF\n",
    "etfs_data = {}\n",
    "\n",
    "# Iterate over the leveraged ETFs to fetch data for each and store it in the dictionary\n",
    "for etf in leveraged_etfs:\n",
    "    print(f\"Fetching data for {etf}...\")\n",
    "    # Adjust parameters as per your fetch_financial_data function's requirements\n",
    "    etfs_data[etf] = fetch_financial_data(ticker=etf, calculate_indicators=True)\n",
    "# Now, let's assume you want to access the data specifically for TQQQ, UDOW, and SOXL\n",
    "TQQQ_data = etfs_data['TQQQ']\n",
    "UMDD_data = etfs_data['UMDD']\n",
    "UDOW_data = etfs_data['UDOW']\n",
    "SOXL_data = etfs_data['SOXL']\n",
    "NVDL_data = etfs_data['NVDL']\n",
    "TSLL_data = etfs_data['TSLL']\n",
    "BITX_data = etfs_data['BITX']\n"
   ]
  },
  {
   "cell_type": "code",
   "execution_count": null,
   "metadata": {},
   "outputs": [],
   "source": [
    "# monthly_dividend_reits_etfs\n",
    "monthly_dividend_data = {}\n",
    "\n",
    "# Iterate over the monthly dividend REITs and ETFs to fetch data for each and store it in the dictionary\n",
    "for asset in monthly_dividend_reits_etfs:\n",
    "    print(f\"Fetching data for {asset}...\")\n",
    "    # Adjust parameters as per your fetch_financial_data function's requirements\n",
    "    monthly_dividend_data[asset] = fetch_financial_data(ticker=asset, calculate_indicators=True)\n",
    "\n",
    "# Access the data specifically for each asset\n",
    "O_data = monthly_dividend_data['O']\n",
    "AGNC_data = monthly_dividend_data['AGNC']\n",
    "CSHI_data = monthly_dividend_data['CSHI']\n",
    "JEPI_data = monthly_dividend_data['JEPI']\n",
    "NUSI_data = monthly_dividend_data['NUSI']"
   ]
  },
  {
   "cell_type": "code",
   "execution_count": null,
   "metadata": {},
   "outputs": [],
   "source": [
    "# Initialize an empty dictionary to store data for each stock\n",
    "quarterly_dividend_data = {}\n",
    "\n",
    "# Iterate over the quarterly dividend stocks to fetch data for each and store it in the dictionary\n",
    "for stock in quarterly_dividend_stocks:\n",
    "    print(f\"Fetching data for {stock}...\")\n",
    "    quarterly_dividend_data[stock] = fetch_financial_data(ticker=stock, calculate_indicators=True)\n",
    "\n",
    "# Now, you can access the data specifically for each stock, for example:\n",
    "MSFT_data = quarterly_dividend_data['MSFT']\n",
    "INTC_data = quarterly_dividend_data['INTC']\n",
    "F_data = quarterly_dividend_data['F']\n",
    "CSCO_data = quarterly_dividend_data['CSCO']\n",
    "MSFT_data = quarterly_dividend_data['MSFT']\n",
    "INTC_data = quarterly_dividend_data['INTC']\n",
    "IBM_data = quarterly_dividend_data['IBM']\n",
    "BAC_data = quarterly_dividend_data['BAC']\n",
    "PFE_data = quarterly_dividend_data['PFE']\n",
    "BX_data = quarterly_dividend_data['BX']\n",
    "MO_data = quarterly_dividend_data['MO']\n",
    "DOW_data = quarterly_dividend_data['DOW']\n",
    "WMT_data = quarterly_dividend_data['WMT']\n",
    "T_data = quarterly_dividend_data['T']\n",
    "KMB_data = quarterly_dividend_data['KMB']\n",
    "SWK_data = quarterly_dividend_data['SWK']\n",
    "PEP_data = quarterly_dividend_data['PEP']\n",
    "KO_data = quarterly_dividend_data['KO']\n",
    "JNJ_data = quarterly_dividend_data['JNJ']"
   ]
  },
  {
   "attachments": {},
   "cell_type": "markdown",
   "metadata": {},
   "source": [
    "# Beta Weight"
   ]
  },
  {
   "cell_type": "code",
   "execution_count": 26,
   "metadata": {},
   "outputs": [],
   "source": [
    "def calculate_beta(stock_symbol, market_symbol='^GSPC', start='2020-01-01', end='2023-01-01'):\n",
    "    try:\n",
    "        stock_data = yf.download(stock_symbol, start=start, end=end)['Adj Close']\n",
    "        market_data = yf.download(market_symbol, start=start, end=end)['Adj Close']\n",
    "    except Exception as e:\n",
    "        return {'error': f'Failed to download data: {str(e)}'}\n",
    "    \n",
    "    returns = pd.DataFrame({\n",
    "        'stock_returns': stock_data.pct_change(),\n",
    "        'market_returns': market_data.pct_change()\n",
    "    }).dropna()\n",
    "    \n",
    "    betas = {}\n",
    "    \n",
    "    # Method 1: Linear Regression\n",
    "    try:\n",
    "        model = LinearRegression().fit(returns[['market_returns']], returns['stock_returns'])\n",
    "        betas['linear_regression'] = model.coef_[0]\n",
    "    except Exception as e:\n",
    "        betas['linear_regression_error'] = str(e)\n",
    "    \n",
    "    # Method 2: Covariance Method\n",
    "    try:\n",
    "        covariance = returns.cov().iloc[0, 1]\n",
    "        market_var = returns['market_returns'].var()\n",
    "        betas['covariance_method'] = covariance / market_var\n",
    "    except Exception as e:\n",
    "        betas['covariance_method_error'] = str(e)\n",
    "    \n",
    "    # Method 3: Variance Ratio\n",
    "    try:\n",
    "        stock_var = returns['stock_returns'].var()\n",
    "        betas['variance_ratio'] = stock_var / market_var\n",
    "    except Exception as e:\n",
    "        betas['variance_ratio_error'] = str(e)\n",
    "    \n",
    "    # Method 4: Using scipy linregress for an alternative linear regression method\n",
    "    try:\n",
    "        slope, _, _, _, _ = linregress(returns['market_returns'], returns['stock_returns'])\n",
    "        betas['linregress'] = slope\n",
    "    except Exception as e:\n",
    "        betas['linregress_error'] = str(e)\n",
    "    \n",
    "    return betas"
   ]
  },
  {
   "cell_type": "code",
   "execution_count": 27,
   "metadata": {},
   "outputs": [
    {
     "name": "stdout",
     "output_type": "stream",
     "text": [
      "\n",
      "Calculating beta for Index Funds:\n"
     ]
    },
    {
     "name": "stderr",
     "output_type": "stream",
     "text": [
      "[*********************100%%**********************]  1 of 1 completed\n",
      "[*********************100%%**********************]  1 of 1 completed\n",
      "[*********************100%%**********************]  1 of 1 completed\n",
      "[*********************100%%**********************]  1 of 1 completed\n"
     ]
    },
    {
     "name": "stdout",
     "output_type": "stream",
     "text": [
      "  SPY: {'linear_regression': 0.9807573192281638, 'covariance_method': 0.9807573192281639, 'variance_ratio': 0.9640129508634715, 'linregress_error': \"name 'linregress' is not defined\"}\n",
      "  QQQ: {'linear_regression': 1.0864855480105435, 'covariance_method': 1.086485548010543, 'variance_ratio': 1.3591367271807535, 'linregress_error': \"name 'linregress' is not defined\"}\n"
     ]
    },
    {
     "name": "stderr",
     "output_type": "stream",
     "text": [
      "[*********************100%%**********************]  1 of 1 completed\n",
      "[*********************100%%**********************]  1 of 1 completed\n",
      "[*********************100%%**********************]  1 of 1 completed\n",
      "[*********************100%%**********************]  1 of 1 completed\n"
     ]
    },
    {
     "name": "stdout",
     "output_type": "stream",
     "text": [
      "  DAX: {'linear_regression': 0.8825334837886392, 'covariance_method': 0.8825334837886386, 'variance_ratio': 1.2270075325550236, 'linregress_error': \"name 'linregress' is not defined\"}\n",
      "\n",
      "Calculating beta for Monthly Dividend REITs/ETFs:\n",
      "  O: {'linear_regression': 0.9530986255253945, 'covariance_method': 0.9530986255253937, 'variance_ratio': 2.16326303695141, 'linregress_error': \"name 'linregress' is not defined\"}\n"
     ]
    },
    {
     "name": "stderr",
     "output_type": "stream",
     "text": [
      "[*********************100%%**********************]  1 of 1 completed\n",
      "[*********************100%%**********************]  1 of 1 completed\n",
      "[*********************100%%**********************]  1 of 1 completed\n",
      "[*********************100%%**********************]  1 of 1 completed\n"
     ]
    },
    {
     "name": "stdout",
     "output_type": "stream",
     "text": [
      "  AGNC: {'linear_regression': 0.7885076022463374, 'covariance_method': 0.7885076022463371, 'variance_ratio': 2.012153327556101, 'linregress_error': \"name 'linregress' is not defined\"}\n",
      "  CSHI: {'linear_regression': 0.021816465606245592, 'covariance_method': 0.021816465606245585, 'variance_ratio': 0.0013103351613954139, 'linregress_error': \"name 'linregress' is not defined\"}\n"
     ]
    },
    {
     "name": "stderr",
     "output_type": "stream",
     "text": [
      "[*********************100%%**********************]  1 of 1 completed\n",
      "[*********************100%%**********************]  1 of 1 completed\n",
      "[*********************100%%**********************]  1 of 1 completed\n",
      "[*********************100%%**********************]  1 of 1 completed\n"
     ]
    },
    {
     "name": "stdout",
     "output_type": "stream",
     "text": [
      "  JEPI: {'linear_regression': 0.5346861682740263, 'covariance_method': 0.5346861682740262, 'variance_ratio': 0.37354580188874537, 'linregress_error': \"name 'linregress' is not defined\"}\n",
      "  NUSI: {'linear_regression': 0.3427239488232195, 'covariance_method': 0.3427239488232191, 'variance_ratio': 0.28968519281356536, 'linregress_error': \"name 'linregress' is not defined\"}\n",
      "\n",
      "Calculating beta for Quarterly Dividend Stocks:\n"
     ]
    },
    {
     "name": "stderr",
     "output_type": "stream",
     "text": [
      "[*********************100%%**********************]  1 of 1 completed\n",
      "[*********************100%%**********************]  1 of 1 completed\n"
     ]
    },
    {
     "name": "stdout",
     "output_type": "stream",
     "text": [
      "  SPYD: {'linear_regression': 0.980336404647159, 'covariance_method': 0.9803364046471584, 'variance_ratio': 1.3805153271809842, 'linregress_error': \"name 'linregress' is not defined\"}\n"
     ]
    },
    {
     "name": "stderr",
     "output_type": "stream",
     "text": [
      "[*********************100%%**********************]  1 of 1 completed\n",
      "[*********************100%%**********************]  1 of 1 completed\n"
     ]
    },
    {
     "name": "stdout",
     "output_type": "stream",
     "text": [
      "  MSFT: {'linear_regression': 1.1727978449660525, 'covariance_method': 1.1727978449660523, 'variance_ratio': 1.863093995597248, 'linregress_error': \"name 'linregress' is not defined\"}\n"
     ]
    },
    {
     "name": "stderr",
     "output_type": "stream",
     "text": [
      "[*********************100%%**********************]  1 of 1 completed\n",
      "[*********************100%%**********************]  1 of 1 completed\n",
      "[*********************100%%**********************]  1 of 1 completed\n",
      "[*********************100%%**********************]  1 of 1 completed"
     ]
    },
    {
     "name": "stdout",
     "output_type": "stream",
     "text": [
      "  INTC: {'linear_regression': 1.1852680404816687, 'covariance_method': 1.1852680404816687, 'variance_ratio': 2.730387030608507, 'linregress_error': \"name 'linregress' is not defined\"}\n"
     ]
    },
    {
     "name": "stderr",
     "output_type": "stream",
     "text": [
      "\n",
      "[*********************100%%**********************]  1 of 1 completed\n",
      "[*********************100%%**********************]  1 of 1 completed\n"
     ]
    },
    {
     "name": "stdout",
     "output_type": "stream",
     "text": [
      "  F: {'linear_regression': 1.214281608689817, 'covariance_method': 1.214281608689818, 'variance_ratio': 3.788059275092534, 'linregress_error': \"name 'linregress' is not defined\"}\n",
      "  CSCO: {'linear_regression': 0.9307123848855793, 'covariance_method': 0.9307123848855797, 'variance_ratio': 1.5342718263335713, 'linregress_error': \"name 'linregress' is not defined\"}\n"
     ]
    },
    {
     "name": "stderr",
     "output_type": "stream",
     "text": [
      "[*********************100%%**********************]  1 of 1 completed\n",
      "[*********************100%%**********************]  1 of 1 completed\n",
      "[*********************100%%**********************]  1 of 1 completed"
     ]
    },
    {
     "name": "stdout",
     "output_type": "stream",
     "text": [
      "  BAC: {'linear_regression': 1.224233764099381, 'covariance_method': 1.2242337640993808, 'variance_ratio': 2.648172147129387, 'linregress_error': \"name 'linregress' is not defined\"}\n"
     ]
    },
    {
     "name": "stderr",
     "output_type": "stream",
     "text": [
      "\n",
      "[*********************100%%**********************]  1 of 1 completed\n",
      "[*********************100%%**********************]  1 of 1 completed\n",
      "[*********************100%%**********************]  1 of 1 completed\n"
     ]
    },
    {
     "name": "stdout",
     "output_type": "stream",
     "text": [
      "  PFE: {'linear_regression': 0.5745466770847829, 'covariance_method': 0.5745466770847825, 'variance_ratio': 1.3827259767023081, 'linregress_error': \"name 'linregress' is not defined\"}\n",
      "  BX: {'linear_regression': 1.433514055417847, 'covariance_method': 1.4335140554178458, 'variance_ratio': 3.338992364399656, 'linregress_error': \"name 'linregress' is not defined\"}\n"
     ]
    },
    {
     "name": "stderr",
     "output_type": "stream",
     "text": [
      "[*********************100%%**********************]  1 of 1 completed\n",
      "[*********************100%%**********************]  1 of 1 completed\n",
      "[*********************100%%**********************]  1 of 1 completed\n",
      "[*********************100%%**********************]  1 of 1 completed\n"
     ]
    },
    {
     "name": "stdout",
     "output_type": "stream",
     "text": [
      "  MO: {'linear_regression': 0.5991406514706654, 'covariance_method': 0.5991406514706651, 'variance_ratio': 1.225869965640212, 'linregress_error': \"name 'linregress' is not defined\"}\n",
      "  DOW: {'linear_regression': 1.1399644717966424, 'covariance_method': 1.1399644717966428, 'variance_ratio': 2.8705519263712658, 'linregress_error': \"name 'linregress' is not defined\"}\n"
     ]
    },
    {
     "name": "stderr",
     "output_type": "stream",
     "text": [
      "[*********************100%%**********************]  1 of 1 completed\n",
      "[*********************100%%**********************]  1 of 1 completed\n",
      "[*********************100%%**********************]  1 of 1 completed\n",
      "[*********************100%%**********************]  1 of 1 completed"
     ]
    },
    {
     "name": "stdout",
     "output_type": "stream",
     "text": [
      "  WMT: {'linear_regression': 0.48746636659585707, 'covariance_method': 0.487466366595857, 'variance_ratio': 1.0204929193900127, 'linregress_error': \"name 'linregress' is not defined\"}\n"
     ]
    },
    {
     "name": "stderr",
     "output_type": "stream",
     "text": [
      "\n",
      "[*********************100%%**********************]  1 of 1 completed\n",
      "[*********************100%%**********************]  1 of 1 completed\n"
     ]
    },
    {
     "name": "stdout",
     "output_type": "stream",
     "text": [
      "  T: {'linear_regression': 0.6871323738080067, 'covariance_method': 0.6871323738080073, 'variance_ratio': 1.2313085782505946, 'linregress_error': \"name 'linregress' is not defined\"}\n",
      "  KMB: {'linear_regression': 0.4614531906259107, 'covariance_method': 0.4614531906259102, 'variance_ratio': 0.8933436384082574, 'linregress_error': \"name 'linregress' is not defined\"}\n"
     ]
    },
    {
     "name": "stderr",
     "output_type": "stream",
     "text": [
      "[*********************100%%**********************]  1 of 1 completed\n",
      "[*********************100%%**********************]  1 of 1 completed\n"
     ]
    },
    {
     "name": "stdout",
     "output_type": "stream",
     "text": [
      "  SWK: {'linear_regression': 1.322569276436186, 'covariance_method': 1.3225692764361872, 'variance_ratio': 3.2446310480712177, 'linregress_error': \"name 'linregress' is not defined\"}\n"
     ]
    },
    {
     "name": "stderr",
     "output_type": "stream",
     "text": [
      "[*********************100%%**********************]  1 of 1 completed\n",
      "[*********************100%%**********************]  1 of 1 completed\n",
      "[*********************100%%**********************]  1 of 1 completed\n",
      "[*********************100%%**********************]  1 of 1 completed\n"
     ]
    },
    {
     "name": "stdout",
     "output_type": "stream",
     "text": [
      "  IBM: {'linear_regression': 0.8093401230560937, 'covariance_method': 0.8093401230560937, 'variance_ratio': 1.4199949642884129, 'linregress_error': \"name 'linregress' is not defined\"}\n",
      "  PEP: {'linear_regression': 0.7336125249600887, 'covariance_method': 0.7336125249600887, 'variance_ratio': 0.9933018970871755, 'linregress_error': \"name 'linregress' is not defined\"}\n"
     ]
    },
    {
     "name": "stderr",
     "output_type": "stream",
     "text": [
      "[*********************100%%**********************]  1 of 1 completed\n",
      "[*********************100%%**********************]  1 of 1 completed\n",
      "[*********************100%%**********************]  1 of 1 completed"
     ]
    },
    {
     "name": "stdout",
     "output_type": "stream",
     "text": [
      "  KO: {'linear_regression': 0.6863211621910452, 'covariance_method': 0.6863211621910449, 'variance_ratio': 0.9347488828571606, 'linregress_error': \"name 'linregress' is not defined\"}\n"
     ]
    },
    {
     "name": "stderr",
     "output_type": "stream",
     "text": [
      "\n",
      "[*********************100%%**********************]  1 of 1 completed"
     ]
    },
    {
     "name": "stdout",
     "output_type": "stream",
     "text": [
      "  JNJ: {'linear_regression': 0.5395775104998733, 'covariance_method': 0.539577510499874, 'variance_ratio': 0.7351049575409733, 'linregress_error': \"name 'linregress' is not defined\"}\n"
     ]
    },
    {
     "name": "stderr",
     "output_type": "stream",
     "text": [
      "\n"
     ]
    }
   ],
   "source": [
    "# Combine all asset lists into a single dictionary for easier iteration\n",
    "assets = {\n",
    "    'Index Funds': index_funds,\n",
    "    'Monthly Dividend REITs/ETFs': monthly_dividend_reits_etfs,\n",
    "    'Quarterly Dividend Stocks': quarterly_dividend_stocks\n",
    "}\n",
    "\n",
    "# Initialize a dictionary to store beta values for each asset category\n",
    "beta_values = {category: {} for category in assets.keys()}\n",
    "\n",
    "# Iterate through each category and asset to calculate beta values\n",
    "for category, asset_list in assets.items():\n",
    "    print(f\"\\nCalculating beta for {category}:\")\n",
    "    for asset in asset_list:\n",
    "        try:\n",
    "            # Assuming 'calculate_beta' function uses the default market symbol and dates\n",
    "            beta = calculate_beta(asset)\n",
    "            # Store the beta values (or errors) for each asset under its category\n",
    "            beta_values[category][asset] = beta\n",
    "            print(f\"  {asset}: {beta}\")\n",
    "        except Exception as e:\n",
    "            print(f\"  Error calculating beta for {asset}: {str(e)}\")"
   ]
  },
  {
   "attachments": {},
   "cell_type": "markdown",
   "metadata": {},
   "source": [
    "# Valuation Models for Each Asset Class:"
   ]
  },
  {
   "cell_type": "code",
   "execution_count": null,
   "metadata": {},
   "outputs": [],
   "source": []
  },
  {
   "attachments": {},
   "cell_type": "markdown",
   "metadata": {},
   "source": [
    "# Backtesting for DCA Strategy"
   ]
  },
  {
   "cell_type": "code",
   "execution_count": null,
   "metadata": {},
   "outputs": [],
   "source": []
  },
  {
   "attachments": {},
   "cell_type": "markdown",
   "metadata": {},
   "source": [
    "# Options Pricing Analysis"
   ]
  },
  {
   "cell_type": "code",
   "execution_count": null,
   "metadata": {},
   "outputs": [],
   "source": []
  },
  {
   "cell_type": "code",
   "execution_count": null,
   "metadata": {},
   "outputs": [],
   "source": []
  },
  {
   "cell_type": "code",
   "execution_count": null,
   "metadata": {},
   "outputs": [],
   "source": []
  },
  {
   "cell_type": "code",
   "execution_count": null,
   "metadata": {},
   "outputs": [],
   "source": []
  },
  {
   "cell_type": "code",
   "execution_count": null,
   "metadata": {},
   "outputs": [],
   "source": []
  },
  {
   "cell_type": "code",
   "execution_count": null,
   "metadata": {},
   "outputs": [],
   "source": []
  }
 ],
 "metadata": {
  "kernelspec": {
   "display_name": "jupyter-ai",
   "language": "python",
   "name": "python3"
  },
  "language_info": {
   "codemirror_mode": {
    "name": "ipython",
    "version": 3
   },
   "file_extension": ".py",
   "mimetype": "text/x-python",
   "name": "python",
   "nbconvert_exporter": "python",
   "pygments_lexer": "ipython3",
   "version": "3.11.7"
  },
  "orig_nbformat": 4
 },
 "nbformat": 4,
 "nbformat_minor": 2
}
