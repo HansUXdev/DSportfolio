{
 "cells": [
  {
   "cell_type": "code",
   "execution_count": 62,
   "metadata": {},
   "outputs": [],
   "source": [
    "!pip install pandas numpy matplotlib yfinance backtrader datetime timedelta\n",
    "from IPython.core.display import clear_output\n",
    "clear_output()"
   ]
  },
  {
   "cell_type": "code",
   "execution_count": 95,
   "metadata": {},
   "outputs": [],
   "source": [
    "import yfinance as yf\n",
    "import backtrader as bt\n",
    "import matplotlib.pyplot as plt\n",
    "import pandas as pd\n",
    "import numpy as np\n",
    "from datetime import datetime, timedelta\n",
    "\n",
    "from scipy.stats import linregress\n",
    "from sklearn.linear_model import LinearRegression\n",
    "from statsmodels.tsa.seasonal import seasonal_decompose"
   ]
  },
  {
   "cell_type": "code",
   "execution_count": 96,
   "metadata": {},
   "outputs": [],
   "source": [
    "# Set option to display all columns\n",
    "pd.set_option('display.max_columns', None)\n",
    "\n",
    "# Optionally, set the max rows displayed in the output as well\n",
    "pd.set_option('display.max_rows', 100)"
   ]
  },
  {
   "attachments": {},
   "cell_type": "markdown",
   "metadata": {},
   "source": [
    "# Introduction\n",
    "This notebook is designed to showcase a comprehensive analysis of a diverse portfolio, integrating Index Funds, Leveraged ETFs, monthly dividend REITs and ETFs, and quarterly dividend stocks. The analysis includes portfolio beta evaluation, backtesting a Dollar-Cost Averaging (DCA) strategy that optimizes timing and risk management with technical and quantative analysis, and hedged with options pricing.\n"
   ]
  },
  {
   "cell_type": "code",
   "execution_count": 97,
   "metadata": {},
   "outputs": [],
   "source": [
    "# Define Portfolio Assets\n",
    "index_funds = ['SPY', 'QQQ', 'DAX']\n",
    "leveraged_etfs = ['TQQQ', 'UMDD', 'UDOW', 'SOXL', 'NVDL', 'TSLL']\n",
    "monthly_dividend_reits_etfs = ['O', 'AGNC', 'CSHI', 'JEPI', 'NUSI']\n",
    "quarterly_dividend_stocks = [\n",
    "    'SPYD', 'MSFT', 'INTC', 'F', 'CSCO', 'BAC', 'PFE', 'BX', 'MO', \n",
    "    'DOW', 'WMT', 'T', 'KMB', 'SWK', 'IBM', 'PEP', 'KO', 'JNJ'\n",
    "]"
   ]
  },
  {
   "cell_type": "code",
   "execution_count": 98,
   "metadata": {},
   "outputs": [],
   "source": [
    "############################################################################################################\n",
    "# Define Technical Indicators Functions\n",
    "############################################################################################################\n",
    "def bollinger_bands(data, window=20, num_std=2):\n",
    "    rolling_mean = data['Close'].rolling(window=window).mean()\n",
    "    rolling_std = data['Close'].rolling(window=window).std()\n",
    "    data['Bollinger_High'] = rolling_mean + (rolling_std * num_std)\n",
    "    data['Bollinger_Low'] = rolling_mean - (rolling_std * num_std)\n",
    "    return data\n",
    "\n",
    "def macd(data, short_window=12, long_window=26, signal_window=9):\n",
    "    short_ema = data['Close'].ewm(span=short_window, adjust=False).mean()\n",
    "    long_ema = data['Close'].ewm(span=long_window, adjust=False).mean()\n",
    "    data['MACD'] = short_ema - long_ema\n",
    "    data['Signal'] = data['MACD'].ewm(span=signal_window, adjust=False).mean()\n",
    "    return data\n",
    "\n",
    "def rsi(data, periods=14, ema=True):\n",
    "    close_delta = data['Close'].diff()\n",
    "    up = close_delta.clip(lower=0)\n",
    "    down = -1 * close_delta.clip(upper=0)\n",
    "    if ema:\n",
    "        ma_up = up.ewm(com=periods - 1, adjust=True, min_periods=periods).mean()\n",
    "        ma_down = down.ewm(com=periods - 1, adjust=True, min_periods=periods).mean()\n",
    "    else:\n",
    "        ma_up = up.rolling(window=periods).mean()\n",
    "        ma_down = down.rolling(window=periods).mean()\n",
    "    rsi = ma_up / ma_down\n",
    "    data['RSI'] = 100 - (100 / (1 + rsi))\n",
    "    return data\n",
    "\n",
    "def woodie_pivots(data):\n",
    "    high = data['High']\n",
    "    low = data['Low']\n",
    "    close = data['Close']\n",
    "    pivot = (high + low + 2 * close) / 4\n",
    "    data['Pivot'] = pivot\n",
    "    data['R1'] = 2 * pivot - low\n",
    "    data['S1'] = 2 * pivot - high\n",
    "    data['R2'] = pivot + (high - low)\n",
    "    data['S2'] = pivot - (high - low)\n",
    "    data['R3'] = high + 2 * (pivot - low)\n",
    "    data['S3'] = low - 2 * (high - pivot)\n",
    "    data['R4'] = pivot + 3 * (high - low)\n",
    "    data['S4'] = pivot - 3 * (high - low)\n",
    "    return data\n",
    "\n",
    "def obv(data):\n",
    "    data['OBV'] = np.where(data['Close'] > data['Close'].shift(1), data['Volume'],\n",
    "                           np.where(data['Close'] < data['Close'].shift(1), -data['Volume'], 0)).cumsum()\n",
    "    return data\n",
    "\n",
    "def atr(data, window=14):\n",
    "    high_low = data['High'] - data['Low']\n",
    "    high_close = np.abs(data['High'] - data['Close'].shift())\n",
    "    low_close = np.abs(data['Low'] - data['Close'].shift())\n",
    "    ranges = pd.concat([high_low, high_close, low_close], axis=1)\n",
    "    true_range = np.max(ranges, axis=1)\n",
    "    data['ATR'] = true_range.rolling(window=window).mean()\n",
    "    return data\n",
    "\n",
    "def stochastic_oscillator(data, window=14):\n",
    "    low_min = data['Low'].rolling(window=window).min()\n",
    "    high_max = data['High'].rolling(window=window).max()\n",
    "    data['%K'] = 100 * ((data['Close'] - low_min) / (high_max - low_min))\n",
    "    data['%D'] = data['%K'].rolling(window=3).mean()\n",
    "    return data\n",
    "\n",
    "############################################################################################################\n",
    "# Process other non-stationary data\n",
    "############################################################################################################\n",
    "# Function to detrend time series data using a linear regression model\n",
    "def detrend_data(data, column):\n",
    "    # Linear regression model requires reshaped index as a feature\n",
    "    X = np.arange(len(data)).reshape(-1, 1)\n",
    "    y = data[column].values  # Original values to detrend\n",
    "    \n",
    "    # Create and fit the model\n",
    "    model = LinearRegression()\n",
    "    model.fit(X, y)\n",
    "    \n",
    "    # Predict the trend\n",
    "    trend = model.predict(X)\n",
    "    \n",
    "    # Detrend by subtracting the trend from the original data\n",
    "    detrended = y - trend\n",
    "    data[f'{column}_detrended'] = detrended\n",
    "    \n",
    "    # Return the detrended data and the trend for further analysis\n",
    "    return data, trend\n",
    "\n",
    "def seasonal_decomposition(data, column, period):\n",
    "    # Perform seasonal decomposition\n",
    "    decomposition = seasonal_decompose(data[column], model='multiplicative', period=period)\n",
    "    \n",
    "    # Add components to DataFrame\n",
    "    data['trend_component'] = decomposition.trend\n",
    "    data['seasonal_component'] = decomposition.seasonal\n",
    "    data['residual_component'] = decomposition.resid\n",
    "    \n",
    "    # Seasonally adjust the data\n",
    "    data[column + '_seasonally_adjusted'] = data[column] / data['seasonal_component']\n",
    "    \n",
    "    return data\n",
    "\n",
    "# Function to calculate price differences\n",
    "def calculate_price_differences(data, column):\n",
    "    data[f'{column}_diff'] = data[column].diff()\n",
    "    return data\n",
    "\n",
    "# Function to calculate log returns\n",
    "def calculate_log_returns(data, column):\n",
    "    data[f'{column}_log_return'] = np.log(data[column] / data[column].shift(1))\n",
    "    return data\n",
    "\n",
    "# Function to calculate volume changes\n",
    "def calculate_volume_changes(data, volume_column):\n",
    "    data[f'{volume_column}_changes'] = data[volume_column].diff()\n",
    "    return data\n"
   ]
  },
  {
   "cell_type": "code",
   "execution_count": 118,
   "metadata": {},
   "outputs": [],
   "source": [
    "############################################################################################################\n",
    "# Fetch Financial Data Function with Technical Indicators\n",
    "############################################################################################################\n",
    "def fetch_financial_data(ticker='SPY', start_year=1993, end_year=None, interval='1d', export_csv=False, csv_file=None, calculate_indicators=False, include_fundamentals=False):\n",
    "    \"\"\"\n",
    "    Fetches data for a specified ticker from Yahoo Finance from the given start year to the current year or specified end year at specified intervals.\n",
    "    \n",
    "    Parameters:\n",
    "        ticker (str): The ticker symbol for the asset. Defaults to 'SPY'.\n",
    "        start_year (int): The year from which to start fetching the data. Defaults to 1993.\n",
    "        end_year (int): The last year for which to fetch the data. Defaults to the current year if None.\n",
    "        interval (str): The data interval ('1d' for daily, '1wk' for weekly, '1mo' for monthly, '1h' for hourly).\n",
    "        export_csv (bool): Whether to export the data to a CSV file. Defaults to False.\n",
    "        csv_file (str): The path of the CSV file to export the data to. Automatically determined if None.\n",
    "    \"\"\"\n",
    "    # Adjust for hourly data to limit to the last 730 days\n",
    "    if interval == '1h':\n",
    "        start_date = (datetime.now() - timedelta(days=730)).strftime('%Y-%m-%d')\n",
    "    else:\n",
    "        start_date = f'{start_year}-01-01'\n",
    "    \n",
    "    if end_year is None:\n",
    "        end_date = datetime.now().strftime('%Y-%m-%d')\n",
    "    else:\n",
    "        end_date = f\"{end_year}-12-31\"\n",
    "    \n",
    "    if csv_file is None:\n",
    "        csv_file = f'{ticker}_{interval}_data_{start_date}_to_{end_date}.csv'\n",
    "    \n",
    "    data = yf.download(ticker, start=start_date, end=end_date, interval=interval, progress=False)\n",
    "    \n",
    "    if not data.empty:\n",
    "        if calculate_indicators:\n",
    "            # Here you would call your indicator functions on the `data` DataFrame\n",
    "            data = bollinger_bands(data)\n",
    "            data = macd(data)\n",
    "            data = rsi(data)\n",
    "            data = woodie_pivots(data)\n",
    "            data = obv(data)\n",
    "            data = atr(data)\n",
    "            data = stochastic_oscillator(data)\n",
    "\n",
    "            # Non-stationary data processing\n",
    "            data = calculate_price_differences(data, 'Close')  # Calculate price differences\n",
    "            data = calculate_log_returns(data, 'Close')  # Calculate log returns for the 'Close' column\n",
    "            data = calculate_volume_changes(data, 'Volume')  # Calculate volume changes\n",
    "            # Handling NaN values by forward filling then dropping rows with NaN values\n",
    "            data.ffill(inplace=True)\n",
    "            data.dropna(inplace=True)\n",
    "\n",
    "       # Fetch and include fundamental data\n",
    "        if include_fundamentals:\n",
    "            ticker_obj = yf.Ticker(ticker)\n",
    "            try:\n",
    "                # Fetch fundamental data\n",
    "                dividends = ticker_obj.dividends.last('1Y').sum()  # Sum of dividends over the last year\n",
    "                splits = len(ticker_obj.splits.last('1Y'))  # Count of splits over the last year\n",
    "                # Attempt to summarize cashflow, financials, and balance_sheet\n",
    "                latest_cashflow = ticker_obj.cashflow.iloc[:, 0]  # Latest cash flow data\n",
    "                latest_financials = ticker_obj.financials.iloc[:, 0]  # Latest financial data\n",
    "                latest_balance_sheet = ticker_obj.balance_sheet.iloc[:, 0]  # Latest balance sheet data\n",
    "                \n",
    "                # Create summary metrics (example: total cash flow, net income, total assets)\n",
    "                total_cashflow = latest_cashflow.get('Total Cash From Operating Activities')\n",
    "                net_income = latest_financials.get('Net Income')\n",
    "                total_assets = latest_balance_sheet.get('Total Assets')\n",
    "                \n",
    "                # Append these as new columns to 'data'; handle missing values as needed\n",
    "                data['Dividends_Sum_Last_Year'] = dividends\n",
    "                data['Splits_Count_Last_Year'] = splits\n",
    "                data['Total_Cashflow'] = total_cashflow\n",
    "                data['Net_Income'] = net_income\n",
    "                data['Total_Assets'] = total_assets\n",
    "                \n",
    "            except Exception as e:\n",
    "                print(f\"Failed to fetch fundamental data for {ticker}: {e}\")\n",
    "                # Optionally, handle missing fundamental data (e.g., fill with NaN or zeros)\n",
    "\n",
    "        # Export CSV if requested\n",
    "        if export_csv:\n",
    "            data.to_csv(csv_file)\n",
    "            print(f'Data exported to {csv_file}')\n",
    "\n",
    "    else:\n",
    "        print(\"Data download failed or returned an empty DataFrame.\")\n",
    "\n",
    "    return data"
   ]
  },
  {
   "cell_type": "code",
   "execution_count": 119,
   "metadata": {},
   "outputs": [
    {
     "name": "stdout",
     "output_type": "stream",
     "text": [
      "Fetching data for SPY...\n",
      "Fetching data for QQQ...\n",
      "Fetching data for DAX...\n"
     ]
    }
   ],
   "source": [
    "# Initialize an empty dictionary to store data for each fund\n",
    "funds_data = {}\n",
    "\n",
    "# Iterate over the index funds to fetch data for each and store it in the dictionary\n",
    "for fund in index_funds:\n",
    "    print(f\"Fetching data for {fund}...\")\n",
    "    # Note: Adjust the parameters according to your fetch_financial_data function's definition\n",
    "    # Here it's assumed that fetch_financial_data only requires the ticker symbol as a parameter\n",
    "    funds_data[fund] = fetch_financial_data(ticker=fund, calculate_indicators=True)\n",
    "\n",
    "# Now, extract the data for each fund into its own variable\n",
    "SPY_data = funds_data['SPY']\n",
    "QQQ_data = funds_data['QQQ']\n",
    "DAX_data = funds_data.get('DAX')  # Using .get() for 'DAX' in case it's not available/fetched correctly\n"
   ]
  },
  {
   "cell_type": "code",
   "execution_count": 120,
   "metadata": {},
   "outputs": [
    {
     "name": "stdout",
     "output_type": "stream",
     "text": [
      "Fetching data for TQQQ...\n",
      "Fetching data for UMDD...\n",
      "Fetching data for UDOW...\n",
      "Fetching data for SOXL...\n",
      "Fetching data for NVDL...\n",
      "Fetching data for TSLL...\n"
     ]
    }
   ],
   "source": [
    "# Initialize an empty dictionary to store data for each ETF\n",
    "etfs_data = {}\n",
    "\n",
    "# Iterate over the leveraged ETFs to fetch data for each and store it in the dictionary\n",
    "for etf in leveraged_etfs:\n",
    "    print(f\"Fetching data for {etf}...\")\n",
    "    # Adjust parameters as per your fetch_financial_data function's requirements\n",
    "    etfs_data[etf] = fetch_financial_data(ticker=etf, calculate_indicators=True)\n",
    "# Now, let's assume you want to access the data specifically for TQQQ, UDOW, and SOXL\n",
    "# etfs_data\n",
    "# TQQQ_data = etfs_data['TQQQ']\n",
    "# UMDD_data = etfs_data['UMDD']\n",
    "# UDOW_data = etfs_data['UDOW']\n",
    "# SOXL_data = etfs_data['SOXL']\n",
    "# NVDL_data = etfs_data['NVDL']\n",
    "# TSLL_data = etfs_data['TSLL']\n",
    "# BITX_data = etfs_data['BITX']\n"
   ]
  },
  {
   "cell_type": "code",
   "execution_count": 124,
   "metadata": {},
   "outputs": [
    {
     "name": "stdout",
     "output_type": "stream",
     "text": [
      "Fetching data for O...\n"
     ]
    },
    {
     "name": "stderr",
     "output_type": "stream",
     "text": [
      "C:\\Users\\Administrator\\AppData\\Local\\Temp\\ipykernel_24060\\1994543604.py:56: FutureWarning: last is deprecated and will be removed in a future version. Please create a mask and filter using `.loc` instead\n",
      "  dividends = ticker_obj.dividends.last('1Y').sum()  # Sum of dividends over the last year\n",
      "C:\\Users\\Administrator\\AppData\\Local\\Temp\\ipykernel_24060\\1994543604.py:56: FutureWarning: 'Y' is deprecated and will be removed in a future version, please use 'YE' instead.\n",
      "  dividends = ticker_obj.dividends.last('1Y').sum()  # Sum of dividends over the last year\n",
      "C:\\Users\\Administrator\\AppData\\Local\\Temp\\ipykernel_24060\\1994543604.py:57: FutureWarning: last is deprecated and will be removed in a future version. Please create a mask and filter using `.loc` instead\n",
      "  splits = len(ticker_obj.splits.last('1Y'))  # Count of splits over the last year\n",
      "C:\\Users\\Administrator\\AppData\\Local\\Temp\\ipykernel_24060\\1994543604.py:57: FutureWarning: 'Y' is deprecated and will be removed in a future version, please use 'YE' instead.\n",
      "  splits = len(ticker_obj.splits.last('1Y'))  # Count of splits over the last year\n"
     ]
    },
    {
     "name": "stdout",
     "output_type": "stream",
     "text": [
      "Fetching data for AGNC...\n"
     ]
    },
    {
     "name": "stderr",
     "output_type": "stream",
     "text": [
      "C:\\Users\\Administrator\\AppData\\Local\\Temp\\ipykernel_24060\\1994543604.py:56: FutureWarning: last is deprecated and will be removed in a future version. Please create a mask and filter using `.loc` instead\n",
      "  dividends = ticker_obj.dividends.last('1Y').sum()  # Sum of dividends over the last year\n",
      "C:\\Users\\Administrator\\AppData\\Local\\Temp\\ipykernel_24060\\1994543604.py:56: FutureWarning: 'Y' is deprecated and will be removed in a future version, please use 'YE' instead.\n",
      "  dividends = ticker_obj.dividends.last('1Y').sum()  # Sum of dividends over the last year\n",
      "C:\\Users\\Administrator\\AppData\\Local\\Temp\\ipykernel_24060\\1994543604.py:57: FutureWarning: last is deprecated and will be removed in a future version. Please create a mask and filter using `.loc` instead\n",
      "  splits = len(ticker_obj.splits.last('1Y'))  # Count of splits over the last year\n",
      "C:\\Users\\Administrator\\AppData\\Local\\Temp\\ipykernel_24060\\1994543604.py:56: FutureWarning: last is deprecated and will be removed in a future version. Please create a mask and filter using `.loc` instead\n",
      "  dividends = ticker_obj.dividends.last('1Y').sum()  # Sum of dividends over the last year\n",
      "C:\\Users\\Administrator\\AppData\\Local\\Temp\\ipykernel_24060\\1994543604.py:56: FutureWarning: 'Y' is deprecated and will be removed in a future version, please use 'YE' instead.\n",
      "  dividends = ticker_obj.dividends.last('1Y').sum()  # Sum of dividends over the last year\n",
      "C:\\Users\\Administrator\\AppData\\Local\\Temp\\ipykernel_24060\\1994543604.py:57: FutureWarning: last is deprecated and will be removed in a future version. Please create a mask and filter using `.loc` instead\n",
      "  splits = len(ticker_obj.splits.last('1Y'))  # Count of splits over the last year\n"
     ]
    },
    {
     "name": "stdout",
     "output_type": "stream",
     "text": [
      "Fetching data for CSHI...\n",
      "Failed to fetch fundamental data for CSHI: single positional indexer is out-of-bounds\n",
      "Fetching data for JEPI...\n",
      "Failed to fetch fundamental data for JEPI: single positional indexer is out-of-bounds\n",
      "Fetching data for NUSI...\n",
      "Failed to fetch fundamental data for NUSI: single positional indexer is out-of-bounds\n"
     ]
    },
    {
     "name": "stderr",
     "output_type": "stream",
     "text": [
      "C:\\Users\\Administrator\\AppData\\Local\\Temp\\ipykernel_24060\\1994543604.py:56: FutureWarning: last is deprecated and will be removed in a future version. Please create a mask and filter using `.loc` instead\n",
      "  dividends = ticker_obj.dividends.last('1Y').sum()  # Sum of dividends over the last year\n",
      "C:\\Users\\Administrator\\AppData\\Local\\Temp\\ipykernel_24060\\1994543604.py:56: FutureWarning: 'Y' is deprecated and will be removed in a future version, please use 'YE' instead.\n",
      "  dividends = ticker_obj.dividends.last('1Y').sum()  # Sum of dividends over the last year\n",
      "C:\\Users\\Administrator\\AppData\\Local\\Temp\\ipykernel_24060\\1994543604.py:57: FutureWarning: last is deprecated and will be removed in a future version. Please create a mask and filter using `.loc` instead\n",
      "  splits = len(ticker_obj.splits.last('1Y'))  # Count of splits over the last year\n",
      "C:\\Users\\Administrator\\AppData\\Local\\Temp\\ipykernel_24060\\1994543604.py:56: FutureWarning: last is deprecated and will be removed in a future version. Please create a mask and filter using `.loc` instead\n",
      "  dividends = ticker_obj.dividends.last('1Y').sum()  # Sum of dividends over the last year\n",
      "C:\\Users\\Administrator\\AppData\\Local\\Temp\\ipykernel_24060\\1994543604.py:56: FutureWarning: 'Y' is deprecated and will be removed in a future version, please use 'YE' instead.\n",
      "  dividends = ticker_obj.dividends.last('1Y').sum()  # Sum of dividends over the last year\n",
      "C:\\Users\\Administrator\\AppData\\Local\\Temp\\ipykernel_24060\\1994543604.py:57: FutureWarning: last is deprecated and will be removed in a future version. Please create a mask and filter using `.loc` instead\n",
      "  splits = len(ticker_obj.splits.last('1Y'))  # Count of splits over the last year\n"
     ]
    }
   ],
   "source": [
    "monthly_dividend_data = {}\n",
    "\n",
    "# Iterate over the monthly dividend REITs and ETFs to fetch data for each and store it in the dictionary\n",
    "for asset in monthly_dividend_reits_etfs:\n",
    "    print(f\"Fetching data for {asset}...\")\n",
    "    # Adjust parameters as per your fetch_financial_data function's requirements\n",
    "    monthly_dividend_data[asset] = fetch_financial_data(ticker=asset, calculate_indicators=True, include_fundamentals=True)\n",
    "\n",
    "# Access the data specifically for each asset\n",
    "# monthly_dividend_data\n",
    "# monthly_dividend_data['O']\n",
    "# Access the market data for 'O'\n",
    "o_market_data = monthly_dividend_data['O']\n"
   ]
  },
  {
   "cell_type": "code",
   "execution_count": 126,
   "metadata": {},
   "outputs": [
    {
     "name": "stdout",
     "output_type": "stream",
     "text": [
      "Fetching data for SPYD...\n"
     ]
    },
    {
     "name": "stderr",
     "output_type": "stream",
     "text": [
      "C:\\Users\\Administrator\\AppData\\Local\\Temp\\ipykernel_24060\\1994543604.py:56: FutureWarning: last is deprecated and will be removed in a future version. Please create a mask and filter using `.loc` instead\n",
      "  dividends = ticker_obj.dividends.last('1Y').sum()  # Sum of dividends over the last year\n",
      "C:\\Users\\Administrator\\AppData\\Local\\Temp\\ipykernel_24060\\1994543604.py:56: FutureWarning: 'Y' is deprecated and will be removed in a future version, please use 'YE' instead.\n",
      "  dividends = ticker_obj.dividends.last('1Y').sum()  # Sum of dividends over the last year\n",
      "C:\\Users\\Administrator\\AppData\\Local\\Temp\\ipykernel_24060\\1994543604.py:57: FutureWarning: last is deprecated and will be removed in a future version. Please create a mask and filter using `.loc` instead\n",
      "  splits = len(ticker_obj.splits.last('1Y'))  # Count of splits over the last year\n"
     ]
    },
    {
     "name": "stdout",
     "output_type": "stream",
     "text": [
      "Failed to fetch fundamental data for SPYD: single positional indexer is out-of-bounds\n",
      "Fetching data for MSFT...\n"
     ]
    },
    {
     "name": "stderr",
     "output_type": "stream",
     "text": [
      "C:\\Users\\Administrator\\AppData\\Local\\Temp\\ipykernel_24060\\1994543604.py:56: FutureWarning: last is deprecated and will be removed in a future version. Please create a mask and filter using `.loc` instead\n",
      "  dividends = ticker_obj.dividends.last('1Y').sum()  # Sum of dividends over the last year\n",
      "C:\\Users\\Administrator\\AppData\\Local\\Temp\\ipykernel_24060\\1994543604.py:56: FutureWarning: 'Y' is deprecated and will be removed in a future version, please use 'YE' instead.\n",
      "  dividends = ticker_obj.dividends.last('1Y').sum()  # Sum of dividends over the last year\n",
      "C:\\Users\\Administrator\\AppData\\Local\\Temp\\ipykernel_24060\\1994543604.py:57: FutureWarning: last is deprecated and will be removed in a future version. Please create a mask and filter using `.loc` instead\n",
      "  splits = len(ticker_obj.splits.last('1Y'))  # Count of splits over the last year\n",
      "C:\\Users\\Administrator\\AppData\\Local\\Temp\\ipykernel_24060\\1994543604.py:57: FutureWarning: 'Y' is deprecated and will be removed in a future version, please use 'YE' instead.\n",
      "  splits = len(ticker_obj.splits.last('1Y'))  # Count of splits over the last year\n"
     ]
    },
    {
     "name": "stdout",
     "output_type": "stream",
     "text": [
      "Fetching data for INTC...\n"
     ]
    },
    {
     "name": "stderr",
     "output_type": "stream",
     "text": [
      "C:\\Users\\Administrator\\AppData\\Local\\Temp\\ipykernel_24060\\1994543604.py:56: FutureWarning: last is deprecated and will be removed in a future version. Please create a mask and filter using `.loc` instead\n",
      "  dividends = ticker_obj.dividends.last('1Y').sum()  # Sum of dividends over the last year\n",
      "C:\\Users\\Administrator\\AppData\\Local\\Temp\\ipykernel_24060\\1994543604.py:56: FutureWarning: 'Y' is deprecated and will be removed in a future version, please use 'YE' instead.\n",
      "  dividends = ticker_obj.dividends.last('1Y').sum()  # Sum of dividends over the last year\n",
      "C:\\Users\\Administrator\\AppData\\Local\\Temp\\ipykernel_24060\\1994543604.py:57: FutureWarning: last is deprecated and will be removed in a future version. Please create a mask and filter using `.loc` instead\n",
      "  splits = len(ticker_obj.splits.last('1Y'))  # Count of splits over the last year\n",
      "C:\\Users\\Administrator\\AppData\\Local\\Temp\\ipykernel_24060\\1994543604.py:57: FutureWarning: 'Y' is deprecated and will be removed in a future version, please use 'YE' instead.\n",
      "  splits = len(ticker_obj.splits.last('1Y'))  # Count of splits over the last year\n"
     ]
    },
    {
     "name": "stdout",
     "output_type": "stream",
     "text": [
      "Fetching data for F...\n"
     ]
    },
    {
     "name": "stderr",
     "output_type": "stream",
     "text": [
      "C:\\Users\\Administrator\\AppData\\Local\\Temp\\ipykernel_24060\\1994543604.py:56: FutureWarning: last is deprecated and will be removed in a future version. Please create a mask and filter using `.loc` instead\n",
      "  dividends = ticker_obj.dividends.last('1Y').sum()  # Sum of dividends over the last year\n",
      "C:\\Users\\Administrator\\AppData\\Local\\Temp\\ipykernel_24060\\1994543604.py:56: FutureWarning: 'Y' is deprecated and will be removed in a future version, please use 'YE' instead.\n",
      "  dividends = ticker_obj.dividends.last('1Y').sum()  # Sum of dividends over the last year\n",
      "C:\\Users\\Administrator\\AppData\\Local\\Temp\\ipykernel_24060\\1994543604.py:57: FutureWarning: last is deprecated and will be removed in a future version. Please create a mask and filter using `.loc` instead\n",
      "  splits = len(ticker_obj.splits.last('1Y'))  # Count of splits over the last year\n",
      "C:\\Users\\Administrator\\AppData\\Local\\Temp\\ipykernel_24060\\1994543604.py:57: FutureWarning: 'Y' is deprecated and will be removed in a future version, please use 'YE' instead.\n",
      "  splits = len(ticker_obj.splits.last('1Y'))  # Count of splits over the last year\n"
     ]
    },
    {
     "name": "stdout",
     "output_type": "stream",
     "text": [
      "Fetching data for CSCO...\n"
     ]
    },
    {
     "name": "stderr",
     "output_type": "stream",
     "text": [
      "C:\\Users\\Administrator\\AppData\\Local\\Temp\\ipykernel_24060\\1994543604.py:56: FutureWarning: last is deprecated and will be removed in a future version. Please create a mask and filter using `.loc` instead\n",
      "  dividends = ticker_obj.dividends.last('1Y').sum()  # Sum of dividends over the last year\n",
      "C:\\Users\\Administrator\\AppData\\Local\\Temp\\ipykernel_24060\\1994543604.py:56: FutureWarning: 'Y' is deprecated and will be removed in a future version, please use 'YE' instead.\n",
      "  dividends = ticker_obj.dividends.last('1Y').sum()  # Sum of dividends over the last year\n",
      "C:\\Users\\Administrator\\AppData\\Local\\Temp\\ipykernel_24060\\1994543604.py:57: FutureWarning: last is deprecated and will be removed in a future version. Please create a mask and filter using `.loc` instead\n",
      "  splits = len(ticker_obj.splits.last('1Y'))  # Count of splits over the last year\n",
      "C:\\Users\\Administrator\\AppData\\Local\\Temp\\ipykernel_24060\\1994543604.py:57: FutureWarning: 'Y' is deprecated and will be removed in a future version, please use 'YE' instead.\n",
      "  splits = len(ticker_obj.splits.last('1Y'))  # Count of splits over the last year\n"
     ]
    },
    {
     "name": "stdout",
     "output_type": "stream",
     "text": [
      "Fetching data for BAC...\n"
     ]
    },
    {
     "name": "stderr",
     "output_type": "stream",
     "text": [
      "C:\\Users\\Administrator\\AppData\\Local\\Temp\\ipykernel_24060\\1994543604.py:56: FutureWarning: last is deprecated and will be removed in a future version. Please create a mask and filter using `.loc` instead\n",
      "  dividends = ticker_obj.dividends.last('1Y').sum()  # Sum of dividends over the last year\n",
      "C:\\Users\\Administrator\\AppData\\Local\\Temp\\ipykernel_24060\\1994543604.py:56: FutureWarning: 'Y' is deprecated and will be removed in a future version, please use 'YE' instead.\n",
      "  dividends = ticker_obj.dividends.last('1Y').sum()  # Sum of dividends over the last year\n",
      "C:\\Users\\Administrator\\AppData\\Local\\Temp\\ipykernel_24060\\1994543604.py:57: FutureWarning: last is deprecated and will be removed in a future version. Please create a mask and filter using `.loc` instead\n",
      "  splits = len(ticker_obj.splits.last('1Y'))  # Count of splits over the last year\n",
      "C:\\Users\\Administrator\\AppData\\Local\\Temp\\ipykernel_24060\\1994543604.py:57: FutureWarning: 'Y' is deprecated and will be removed in a future version, please use 'YE' instead.\n",
      "  splits = len(ticker_obj.splits.last('1Y'))  # Count of splits over the last year\n"
     ]
    },
    {
     "name": "stdout",
     "output_type": "stream",
     "text": [
      "Fetching data for PFE...\n"
     ]
    },
    {
     "name": "stderr",
     "output_type": "stream",
     "text": [
      "C:\\Users\\Administrator\\AppData\\Local\\Temp\\ipykernel_24060\\1994543604.py:56: FutureWarning: last is deprecated and will be removed in a future version. Please create a mask and filter using `.loc` instead\n",
      "  dividends = ticker_obj.dividends.last('1Y').sum()  # Sum of dividends over the last year\n",
      "C:\\Users\\Administrator\\AppData\\Local\\Temp\\ipykernel_24060\\1994543604.py:56: FutureWarning: 'Y' is deprecated and will be removed in a future version, please use 'YE' instead.\n",
      "  dividends = ticker_obj.dividends.last('1Y').sum()  # Sum of dividends over the last year\n",
      "C:\\Users\\Administrator\\AppData\\Local\\Temp\\ipykernel_24060\\1994543604.py:57: FutureWarning: last is deprecated and will be removed in a future version. Please create a mask and filter using `.loc` instead\n",
      "  splits = len(ticker_obj.splits.last('1Y'))  # Count of splits over the last year\n",
      "C:\\Users\\Administrator\\AppData\\Local\\Temp\\ipykernel_24060\\1994543604.py:57: FutureWarning: 'Y' is deprecated and will be removed in a future version, please use 'YE' instead.\n",
      "  splits = len(ticker_obj.splits.last('1Y'))  # Count of splits over the last year\n"
     ]
    },
    {
     "name": "stdout",
     "output_type": "stream",
     "text": [
      "Fetching data for BX...\n"
     ]
    },
    {
     "name": "stderr",
     "output_type": "stream",
     "text": [
      "C:\\Users\\Administrator\\AppData\\Local\\Temp\\ipykernel_24060\\1994543604.py:56: FutureWarning: last is deprecated and will be removed in a future version. Please create a mask and filter using `.loc` instead\n",
      "  dividends = ticker_obj.dividends.last('1Y').sum()  # Sum of dividends over the last year\n",
      "C:\\Users\\Administrator\\AppData\\Local\\Temp\\ipykernel_24060\\1994543604.py:56: FutureWarning: 'Y' is deprecated and will be removed in a future version, please use 'YE' instead.\n",
      "  dividends = ticker_obj.dividends.last('1Y').sum()  # Sum of dividends over the last year\n",
      "C:\\Users\\Administrator\\AppData\\Local\\Temp\\ipykernel_24060\\1994543604.py:57: FutureWarning: last is deprecated and will be removed in a future version. Please create a mask and filter using `.loc` instead\n",
      "  splits = len(ticker_obj.splits.last('1Y'))  # Count of splits over the last year\n"
     ]
    },
    {
     "name": "stdout",
     "output_type": "stream",
     "text": [
      "Fetching data for MO...\n"
     ]
    },
    {
     "name": "stderr",
     "output_type": "stream",
     "text": [
      "C:\\Users\\Administrator\\AppData\\Local\\Temp\\ipykernel_24060\\1994543604.py:56: FutureWarning: last is deprecated and will be removed in a future version. Please create a mask and filter using `.loc` instead\n",
      "  dividends = ticker_obj.dividends.last('1Y').sum()  # Sum of dividends over the last year\n",
      "C:\\Users\\Administrator\\AppData\\Local\\Temp\\ipykernel_24060\\1994543604.py:56: FutureWarning: 'Y' is deprecated and will be removed in a future version, please use 'YE' instead.\n",
      "  dividends = ticker_obj.dividends.last('1Y').sum()  # Sum of dividends over the last year\n",
      "C:\\Users\\Administrator\\AppData\\Local\\Temp\\ipykernel_24060\\1994543604.py:57: FutureWarning: last is deprecated and will be removed in a future version. Please create a mask and filter using `.loc` instead\n",
      "  splits = len(ticker_obj.splits.last('1Y'))  # Count of splits over the last year\n",
      "C:\\Users\\Administrator\\AppData\\Local\\Temp\\ipykernel_24060\\1994543604.py:57: FutureWarning: 'Y' is deprecated and will be removed in a future version, please use 'YE' instead.\n",
      "  splits = len(ticker_obj.splits.last('1Y'))  # Count of splits over the last year\n"
     ]
    },
    {
     "name": "stdout",
     "output_type": "stream",
     "text": [
      "Fetching data for DOW...\n"
     ]
    },
    {
     "name": "stderr",
     "output_type": "stream",
     "text": [
      "C:\\Users\\Administrator\\AppData\\Local\\Temp\\ipykernel_24060\\1994543604.py:56: FutureWarning: last is deprecated and will be removed in a future version. Please create a mask and filter using `.loc` instead\n",
      "  dividends = ticker_obj.dividends.last('1Y').sum()  # Sum of dividends over the last year\n",
      "C:\\Users\\Administrator\\AppData\\Local\\Temp\\ipykernel_24060\\1994543604.py:56: FutureWarning: 'Y' is deprecated and will be removed in a future version, please use 'YE' instead.\n",
      "  dividends = ticker_obj.dividends.last('1Y').sum()  # Sum of dividends over the last year\n",
      "C:\\Users\\Administrator\\AppData\\Local\\Temp\\ipykernel_24060\\1994543604.py:57: FutureWarning: last is deprecated and will be removed in a future version. Please create a mask and filter using `.loc` instead\n",
      "  splits = len(ticker_obj.splits.last('1Y'))  # Count of splits over the last year\n"
     ]
    },
    {
     "name": "stdout",
     "output_type": "stream",
     "text": [
      "Fetching data for WMT...\n"
     ]
    },
    {
     "name": "stderr",
     "output_type": "stream",
     "text": [
      "C:\\Users\\Administrator\\AppData\\Local\\Temp\\ipykernel_24060\\1994543604.py:56: FutureWarning: last is deprecated and will be removed in a future version. Please create a mask and filter using `.loc` instead\n",
      "  dividends = ticker_obj.dividends.last('1Y').sum()  # Sum of dividends over the last year\n",
      "C:\\Users\\Administrator\\AppData\\Local\\Temp\\ipykernel_24060\\1994543604.py:56: FutureWarning: 'Y' is deprecated and will be removed in a future version, please use 'YE' instead.\n",
      "  dividends = ticker_obj.dividends.last('1Y').sum()  # Sum of dividends over the last year\n",
      "C:\\Users\\Administrator\\AppData\\Local\\Temp\\ipykernel_24060\\1994543604.py:57: FutureWarning: last is deprecated and will be removed in a future version. Please create a mask and filter using `.loc` instead\n",
      "  splits = len(ticker_obj.splits.last('1Y'))  # Count of splits over the last year\n",
      "C:\\Users\\Administrator\\AppData\\Local\\Temp\\ipykernel_24060\\1994543604.py:57: FutureWarning: 'Y' is deprecated and will be removed in a future version, please use 'YE' instead.\n",
      "  splits = len(ticker_obj.splits.last('1Y'))  # Count of splits over the last year\n"
     ]
    },
    {
     "name": "stdout",
     "output_type": "stream",
     "text": [
      "Fetching data for T...\n"
     ]
    },
    {
     "name": "stderr",
     "output_type": "stream",
     "text": [
      "C:\\Users\\Administrator\\AppData\\Local\\Temp\\ipykernel_24060\\1994543604.py:56: FutureWarning: last is deprecated and will be removed in a future version. Please create a mask and filter using `.loc` instead\n",
      "  dividends = ticker_obj.dividends.last('1Y').sum()  # Sum of dividends over the last year\n",
      "C:\\Users\\Administrator\\AppData\\Local\\Temp\\ipykernel_24060\\1994543604.py:56: FutureWarning: 'Y' is deprecated and will be removed in a future version, please use 'YE' instead.\n",
      "  dividends = ticker_obj.dividends.last('1Y').sum()  # Sum of dividends over the last year\n",
      "C:\\Users\\Administrator\\AppData\\Local\\Temp\\ipykernel_24060\\1994543604.py:57: FutureWarning: last is deprecated and will be removed in a future version. Please create a mask and filter using `.loc` instead\n",
      "  splits = len(ticker_obj.splits.last('1Y'))  # Count of splits over the last year\n",
      "C:\\Users\\Administrator\\AppData\\Local\\Temp\\ipykernel_24060\\1994543604.py:57: FutureWarning: 'Y' is deprecated and will be removed in a future version, please use 'YE' instead.\n",
      "  splits = len(ticker_obj.splits.last('1Y'))  # Count of splits over the last year\n"
     ]
    },
    {
     "name": "stdout",
     "output_type": "stream",
     "text": [
      "Fetching data for KMB...\n"
     ]
    },
    {
     "name": "stderr",
     "output_type": "stream",
     "text": [
      "C:\\Users\\Administrator\\AppData\\Local\\Temp\\ipykernel_24060\\1994543604.py:56: FutureWarning: last is deprecated and will be removed in a future version. Please create a mask and filter using `.loc` instead\n",
      "  dividends = ticker_obj.dividends.last('1Y').sum()  # Sum of dividends over the last year\n",
      "C:\\Users\\Administrator\\AppData\\Local\\Temp\\ipykernel_24060\\1994543604.py:56: FutureWarning: 'Y' is deprecated and will be removed in a future version, please use 'YE' instead.\n",
      "  dividends = ticker_obj.dividends.last('1Y').sum()  # Sum of dividends over the last year\n",
      "C:\\Users\\Administrator\\AppData\\Local\\Temp\\ipykernel_24060\\1994543604.py:57: FutureWarning: last is deprecated and will be removed in a future version. Please create a mask and filter using `.loc` instead\n",
      "  splits = len(ticker_obj.splits.last('1Y'))  # Count of splits over the last year\n",
      "C:\\Users\\Administrator\\AppData\\Local\\Temp\\ipykernel_24060\\1994543604.py:57: FutureWarning: 'Y' is deprecated and will be removed in a future version, please use 'YE' instead.\n",
      "  splits = len(ticker_obj.splits.last('1Y'))  # Count of splits over the last year\n"
     ]
    },
    {
     "name": "stdout",
     "output_type": "stream",
     "text": [
      "Fetching data for SWK...\n"
     ]
    },
    {
     "name": "stderr",
     "output_type": "stream",
     "text": [
      "C:\\Users\\Administrator\\AppData\\Local\\Temp\\ipykernel_24060\\1994543604.py:56: FutureWarning: last is deprecated and will be removed in a future version. Please create a mask and filter using `.loc` instead\n",
      "  dividends = ticker_obj.dividends.last('1Y').sum()  # Sum of dividends over the last year\n",
      "C:\\Users\\Administrator\\AppData\\Local\\Temp\\ipykernel_24060\\1994543604.py:56: FutureWarning: 'Y' is deprecated and will be removed in a future version, please use 'YE' instead.\n",
      "  dividends = ticker_obj.dividends.last('1Y').sum()  # Sum of dividends over the last year\n",
      "C:\\Users\\Administrator\\AppData\\Local\\Temp\\ipykernel_24060\\1994543604.py:57: FutureWarning: last is deprecated and will be removed in a future version. Please create a mask and filter using `.loc` instead\n",
      "  splits = len(ticker_obj.splits.last('1Y'))  # Count of splits over the last year\n",
      "C:\\Users\\Administrator\\AppData\\Local\\Temp\\ipykernel_24060\\1994543604.py:57: FutureWarning: 'Y' is deprecated and will be removed in a future version, please use 'YE' instead.\n",
      "  splits = len(ticker_obj.splits.last('1Y'))  # Count of splits over the last year\n"
     ]
    },
    {
     "name": "stdout",
     "output_type": "stream",
     "text": [
      "Fetching data for IBM...\n"
     ]
    },
    {
     "name": "stderr",
     "output_type": "stream",
     "text": [
      "C:\\Users\\Administrator\\AppData\\Local\\Temp\\ipykernel_24060\\1994543604.py:56: FutureWarning: last is deprecated and will be removed in a future version. Please create a mask and filter using `.loc` instead\n",
      "  dividends = ticker_obj.dividends.last('1Y').sum()  # Sum of dividends over the last year\n",
      "C:\\Users\\Administrator\\AppData\\Local\\Temp\\ipykernel_24060\\1994543604.py:56: FutureWarning: 'Y' is deprecated and will be removed in a future version, please use 'YE' instead.\n",
      "  dividends = ticker_obj.dividends.last('1Y').sum()  # Sum of dividends over the last year\n",
      "C:\\Users\\Administrator\\AppData\\Local\\Temp\\ipykernel_24060\\1994543604.py:57: FutureWarning: last is deprecated and will be removed in a future version. Please create a mask and filter using `.loc` instead\n",
      "  splits = len(ticker_obj.splits.last('1Y'))  # Count of splits over the last year\n",
      "C:\\Users\\Administrator\\AppData\\Local\\Temp\\ipykernel_24060\\1994543604.py:57: FutureWarning: 'Y' is deprecated and will be removed in a future version, please use 'YE' instead.\n",
      "  splits = len(ticker_obj.splits.last('1Y'))  # Count of splits over the last year\n"
     ]
    },
    {
     "name": "stdout",
     "output_type": "stream",
     "text": [
      "Fetching data for PEP...\n"
     ]
    },
    {
     "name": "stderr",
     "output_type": "stream",
     "text": [
      "C:\\Users\\Administrator\\AppData\\Local\\Temp\\ipykernel_24060\\1994543604.py:56: FutureWarning: last is deprecated and will be removed in a future version. Please create a mask and filter using `.loc` instead\n",
      "  dividends = ticker_obj.dividends.last('1Y').sum()  # Sum of dividends over the last year\n",
      "C:\\Users\\Administrator\\AppData\\Local\\Temp\\ipykernel_24060\\1994543604.py:56: FutureWarning: 'Y' is deprecated and will be removed in a future version, please use 'YE' instead.\n",
      "  dividends = ticker_obj.dividends.last('1Y').sum()  # Sum of dividends over the last year\n",
      "C:\\Users\\Administrator\\AppData\\Local\\Temp\\ipykernel_24060\\1994543604.py:57: FutureWarning: last is deprecated and will be removed in a future version. Please create a mask and filter using `.loc` instead\n",
      "  splits = len(ticker_obj.splits.last('1Y'))  # Count of splits over the last year\n",
      "C:\\Users\\Administrator\\AppData\\Local\\Temp\\ipykernel_24060\\1994543604.py:57: FutureWarning: 'Y' is deprecated and will be removed in a future version, please use 'YE' instead.\n",
      "  splits = len(ticker_obj.splits.last('1Y'))  # Count of splits over the last year\n"
     ]
    },
    {
     "name": "stdout",
     "output_type": "stream",
     "text": [
      "Fetching data for KO...\n"
     ]
    },
    {
     "name": "stderr",
     "output_type": "stream",
     "text": [
      "C:\\Users\\Administrator\\AppData\\Local\\Temp\\ipykernel_24060\\1994543604.py:56: FutureWarning: last is deprecated and will be removed in a future version. Please create a mask and filter using `.loc` instead\n",
      "  dividends = ticker_obj.dividends.last('1Y').sum()  # Sum of dividends over the last year\n",
      "C:\\Users\\Administrator\\AppData\\Local\\Temp\\ipykernel_24060\\1994543604.py:56: FutureWarning: 'Y' is deprecated and will be removed in a future version, please use 'YE' instead.\n",
      "  dividends = ticker_obj.dividends.last('1Y').sum()  # Sum of dividends over the last year\n",
      "C:\\Users\\Administrator\\AppData\\Local\\Temp\\ipykernel_24060\\1994543604.py:57: FutureWarning: last is deprecated and will be removed in a future version. Please create a mask and filter using `.loc` instead\n",
      "  splits = len(ticker_obj.splits.last('1Y'))  # Count of splits over the last year\n",
      "C:\\Users\\Administrator\\AppData\\Local\\Temp\\ipykernel_24060\\1994543604.py:57: FutureWarning: 'Y' is deprecated and will be removed in a future version, please use 'YE' instead.\n",
      "  splits = len(ticker_obj.splits.last('1Y'))  # Count of splits over the last year\n"
     ]
    },
    {
     "name": "stdout",
     "output_type": "stream",
     "text": [
      "Fetching data for JNJ...\n"
     ]
    },
    {
     "name": "stderr",
     "output_type": "stream",
     "text": [
      "C:\\Users\\Administrator\\AppData\\Local\\Temp\\ipykernel_24060\\1994543604.py:56: FutureWarning: last is deprecated and will be removed in a future version. Please create a mask and filter using `.loc` instead\n",
      "  dividends = ticker_obj.dividends.last('1Y').sum()  # Sum of dividends over the last year\n",
      "C:\\Users\\Administrator\\AppData\\Local\\Temp\\ipykernel_24060\\1994543604.py:56: FutureWarning: 'Y' is deprecated and will be removed in a future version, please use 'YE' instead.\n",
      "  dividends = ticker_obj.dividends.last('1Y').sum()  # Sum of dividends over the last year\n",
      "C:\\Users\\Administrator\\AppData\\Local\\Temp\\ipykernel_24060\\1994543604.py:57: FutureWarning: last is deprecated and will be removed in a future version. Please create a mask and filter using `.loc` instead\n",
      "  splits = len(ticker_obj.splits.last('1Y'))  # Count of splits over the last year\n",
      "C:\\Users\\Administrator\\AppData\\Local\\Temp\\ipykernel_24060\\1994543604.py:57: FutureWarning: 'Y' is deprecated and will be removed in a future version, please use 'YE' instead.\n",
      "  splits = len(ticker_obj.splits.last('1Y'))  # Count of splits over the last year\n"
     ]
    }
   ],
   "source": [
    "# Initialize an empty dictionary to store data for each stock\n",
    "quarterly_dividend_data = {}\n",
    "\n",
    "# Iterate over the quarterly dividend stocks to fetch data for each and store it in the dictionary\n",
    "for stock in quarterly_dividend_stocks:\n",
    "    print(f\"Fetching data for {stock}...\")\n",
    "    quarterly_dividend_data[stock] = fetch_financial_data(ticker=stock, calculate_indicators=True, include_fundamentals=True)\n",
    "\n",
    "# Now, you can access the data specifically for each stock, for example:\n",
    "# MSFT_data = quarterly_dividend_data['MSFT']\n",
    "# quarterly_dividend_data\n",
    "# MSFT_data"
   ]
  },
  {
   "cell_type": "code",
   "execution_count": 128,
   "metadata": {},
   "outputs": [
    {
     "data": {
      "text/html": [
       "<div>\n",
       "<style scoped>\n",
       "    .dataframe tbody tr th:only-of-type {\n",
       "        vertical-align: middle;\n",
       "    }\n",
       "\n",
       "    .dataframe tbody tr th {\n",
       "        vertical-align: top;\n",
       "    }\n",
       "\n",
       "    .dataframe thead th {\n",
       "        text-align: right;\n",
       "    }\n",
       "</style>\n",
       "<table border=\"1\" class=\"dataframe\">\n",
       "  <thead>\n",
       "    <tr style=\"text-align: right;\">\n",
       "      <th></th>\n",
       "      <th>Open</th>\n",
       "      <th>High</th>\n",
       "      <th>Low</th>\n",
       "      <th>Close</th>\n",
       "      <th>Adj Close</th>\n",
       "      <th>Volume</th>\n",
       "      <th>Bollinger_High</th>\n",
       "      <th>Bollinger_Low</th>\n",
       "      <th>MACD</th>\n",
       "      <th>Signal</th>\n",
       "      <th>RSI</th>\n",
       "      <th>Pivot</th>\n",
       "      <th>R1</th>\n",
       "      <th>S1</th>\n",
       "      <th>R2</th>\n",
       "      <th>S2</th>\n",
       "      <th>R3</th>\n",
       "      <th>S3</th>\n",
       "      <th>R4</th>\n",
       "      <th>S4</th>\n",
       "      <th>OBV</th>\n",
       "      <th>ATR</th>\n",
       "      <th>%K</th>\n",
       "      <th>%D</th>\n",
       "      <th>Close_diff</th>\n",
       "      <th>Close_log_return</th>\n",
       "      <th>Volume_changes</th>\n",
       "      <th>Dividends_Sum_Last_Year</th>\n",
       "      <th>Splits_Count_Last_Year</th>\n",
       "      <th>Total_Cashflow</th>\n",
       "      <th>Net_Income</th>\n",
       "      <th>Total_Assets</th>\n",
       "    </tr>\n",
       "    <tr>\n",
       "      <th>Date</th>\n",
       "      <th></th>\n",
       "      <th></th>\n",
       "      <th></th>\n",
       "      <th></th>\n",
       "      <th></th>\n",
       "      <th></th>\n",
       "      <th></th>\n",
       "      <th></th>\n",
       "      <th></th>\n",
       "      <th></th>\n",
       "      <th></th>\n",
       "      <th></th>\n",
       "      <th></th>\n",
       "      <th></th>\n",
       "      <th></th>\n",
       "      <th></th>\n",
       "      <th></th>\n",
       "      <th></th>\n",
       "      <th></th>\n",
       "      <th></th>\n",
       "      <th></th>\n",
       "      <th></th>\n",
       "      <th></th>\n",
       "      <th></th>\n",
       "      <th></th>\n",
       "      <th></th>\n",
       "      <th></th>\n",
       "      <th></th>\n",
       "      <th></th>\n",
       "      <th></th>\n",
       "      <th></th>\n",
       "      <th></th>\n",
       "    </tr>\n",
       "  </thead>\n",
       "  <tbody>\n",
       "    <tr>\n",
       "      <th>1993-01-29</th>\n",
       "      <td>2.734375</td>\n",
       "      <td>2.750000</td>\n",
       "      <td>2.679688</td>\n",
       "      <td>2.703125</td>\n",
       "      <td>1.672746</td>\n",
       "      <td>39424000</td>\n",
       "      <td>2.864005</td>\n",
       "      <td>2.658652</td>\n",
       "      <td>0.008243</td>\n",
       "      <td>0.021679</td>\n",
       "      <td>43.908854</td>\n",
       "      <td>2.708984</td>\n",
       "      <td>2.738281</td>\n",
       "      <td>2.667969</td>\n",
       "      <td>2.779297</td>\n",
       "      <td>2.638672</td>\n",
       "      <td>2.808593</td>\n",
       "      <td>2.597657</td>\n",
       "      <td>2.919921</td>\n",
       "      <td>2.498048</td>\n",
       "      <td>-96377600</td>\n",
       "      <td>0.077846</td>\n",
       "      <td>18.918785</td>\n",
       "      <td>17.355565</td>\n",
       "      <td>-0.015625</td>\n",
       "      <td>-0.005764</td>\n",
       "      <td>-37606400.0</td>\n",
       "      <td>0.75</td>\n",
       "      <td>1</td>\n",
       "      <td>None</td>\n",
       "      <td>7.236100e+10</td>\n",
       "      <td>4.119760e+11</td>\n",
       "    </tr>\n",
       "    <tr>\n",
       "      <th>1993-02-01</th>\n",
       "      <td>2.695313</td>\n",
       "      <td>2.750000</td>\n",
       "      <td>2.671875</td>\n",
       "      <td>2.734375</td>\n",
       "      <td>1.692085</td>\n",
       "      <td>42854400</td>\n",
       "      <td>2.857140</td>\n",
       "      <td>2.672939</td>\n",
       "      <td>0.006781</td>\n",
       "      <td>0.018700</td>\n",
       "      <td>49.769723</td>\n",
       "      <td>2.722656</td>\n",
       "      <td>2.773438</td>\n",
       "      <td>2.695312</td>\n",
       "      <td>2.800781</td>\n",
       "      <td>2.644531</td>\n",
       "      <td>2.851562</td>\n",
       "      <td>2.617188</td>\n",
       "      <td>2.957031</td>\n",
       "      <td>2.488281</td>\n",
       "      <td>-53523200</td>\n",
       "      <td>0.077846</td>\n",
       "      <td>29.729614</td>\n",
       "      <td>24.324199</td>\n",
       "      <td>0.031250</td>\n",
       "      <td>0.011494</td>\n",
       "      <td>3430400.0</td>\n",
       "      <td>0.75</td>\n",
       "      <td>1</td>\n",
       "      <td>None</td>\n",
       "      <td>7.236100e+10</td>\n",
       "      <td>4.119760e+11</td>\n",
       "    </tr>\n",
       "    <tr>\n",
       "      <th>1993-02-02</th>\n",
       "      <td>2.730469</td>\n",
       "      <td>2.796875</td>\n",
       "      <td>2.726563</td>\n",
       "      <td>2.781250</td>\n",
       "      <td>1.721091</td>\n",
       "      <td>70371200</td>\n",
       "      <td>2.856504</td>\n",
       "      <td>2.681387</td>\n",
       "      <td>0.009298</td>\n",
       "      <td>0.016819</td>\n",
       "      <td>57.023650</td>\n",
       "      <td>2.771484</td>\n",
       "      <td>2.816406</td>\n",
       "      <td>2.746094</td>\n",
       "      <td>2.841797</td>\n",
       "      <td>2.701172</td>\n",
       "      <td>2.886718</td>\n",
       "      <td>2.675782</td>\n",
       "      <td>2.982421</td>\n",
       "      <td>2.560548</td>\n",
       "      <td>16848000</td>\n",
       "      <td>0.073940</td>\n",
       "      <td>45.945857</td>\n",
       "      <td>31.531419</td>\n",
       "      <td>0.046875</td>\n",
       "      <td>0.016998</td>\n",
       "      <td>27516800.0</td>\n",
       "      <td>0.75</td>\n",
       "      <td>1</td>\n",
       "      <td>None</td>\n",
       "      <td>7.236100e+10</td>\n",
       "      <td>4.119760e+11</td>\n",
       "    </tr>\n",
       "    <tr>\n",
       "      <th>1993-02-03</th>\n",
       "      <td>2.796875</td>\n",
       "      <td>2.820313</td>\n",
       "      <td>2.750000</td>\n",
       "      <td>2.761719</td>\n",
       "      <td>1.709006</td>\n",
       "      <td>71728000</td>\n",
       "      <td>2.855385</td>\n",
       "      <td>2.680552</td>\n",
       "      <td>0.009606</td>\n",
       "      <td>0.015377</td>\n",
       "      <td>53.553385</td>\n",
       "      <td>2.773438</td>\n",
       "      <td>2.796875</td>\n",
       "      <td>2.726562</td>\n",
       "      <td>2.843751</td>\n",
       "      <td>2.703125</td>\n",
       "      <td>2.867188</td>\n",
       "      <td>2.656250</td>\n",
       "      <td>2.984377</td>\n",
       "      <td>2.562499</td>\n",
       "      <td>-54880000</td>\n",
       "      <td>0.071149</td>\n",
       "      <td>58.000020</td>\n",
       "      <td>44.558497</td>\n",
       "      <td>-0.019531</td>\n",
       "      <td>-0.007047</td>\n",
       "      <td>1356800.0</td>\n",
       "      <td>0.75</td>\n",
       "      <td>1</td>\n",
       "      <td>None</td>\n",
       "      <td>7.236100e+10</td>\n",
       "      <td>4.119760e+11</td>\n",
       "    </tr>\n",
       "    <tr>\n",
       "      <th>1993-02-04</th>\n",
       "      <td>2.742188</td>\n",
       "      <td>2.742188</td>\n",
       "      <td>2.640625</td>\n",
       "      <td>2.656250</td>\n",
       "      <td>1.643739</td>\n",
       "      <td>124214400</td>\n",
       "      <td>2.863732</td>\n",
       "      <td>2.665175</td>\n",
       "      <td>0.001325</td>\n",
       "      <td>0.012566</td>\n",
       "      <td>39.554622</td>\n",
       "      <td>2.673828</td>\n",
       "      <td>2.707031</td>\n",
       "      <td>2.605469</td>\n",
       "      <td>2.775391</td>\n",
       "      <td>2.572265</td>\n",
       "      <td>2.808594</td>\n",
       "      <td>2.503906</td>\n",
       "      <td>2.978517</td>\n",
       "      <td>2.369139</td>\n",
       "      <td>-179094400</td>\n",
       "      <td>0.070312</td>\n",
       "      <td>8.695629</td>\n",
       "      <td>37.547168</td>\n",
       "      <td>-0.105469</td>\n",
       "      <td>-0.038938</td>\n",
       "      <td>52486400.0</td>\n",
       "      <td>0.75</td>\n",
       "      <td>1</td>\n",
       "      <td>None</td>\n",
       "      <td>7.236100e+10</td>\n",
       "      <td>4.119760e+11</td>\n",
       "    </tr>\n",
       "    <tr>\n",
       "      <th>...</th>\n",
       "      <td>...</td>\n",
       "      <td>...</td>\n",
       "      <td>...</td>\n",
       "      <td>...</td>\n",
       "      <td>...</td>\n",
       "      <td>...</td>\n",
       "      <td>...</td>\n",
       "      <td>...</td>\n",
       "      <td>...</td>\n",
       "      <td>...</td>\n",
       "      <td>...</td>\n",
       "      <td>...</td>\n",
       "      <td>...</td>\n",
       "      <td>...</td>\n",
       "      <td>...</td>\n",
       "      <td>...</td>\n",
       "      <td>...</td>\n",
       "      <td>...</td>\n",
       "      <td>...</td>\n",
       "      <td>...</td>\n",
       "      <td>...</td>\n",
       "      <td>...</td>\n",
       "      <td>...</td>\n",
       "      <td>...</td>\n",
       "      <td>...</td>\n",
       "      <td>...</td>\n",
       "      <td>...</td>\n",
       "      <td>...</td>\n",
       "      <td>...</td>\n",
       "      <td>...</td>\n",
       "      <td>...</td>\n",
       "      <td>...</td>\n",
       "    </tr>\n",
       "    <tr>\n",
       "      <th>2024-03-12</th>\n",
       "      <td>407.619995</td>\n",
       "      <td>415.570007</td>\n",
       "      <td>406.790009</td>\n",
       "      <td>415.279999</td>\n",
       "      <td>415.279999</td>\n",
       "      <td>22457000</td>\n",
       "      <td>416.855170</td>\n",
       "      <td>399.153832</td>\n",
       "      <td>2.023858</td>\n",
       "      <td>2.658752</td>\n",
       "      <td>58.279030</td>\n",
       "      <td>413.230003</td>\n",
       "      <td>419.669998</td>\n",
       "      <td>410.889999</td>\n",
       "      <td>422.010002</td>\n",
       "      <td>404.450005</td>\n",
       "      <td>428.449997</td>\n",
       "      <td>402.110001</td>\n",
       "      <td>439.570000</td>\n",
       "      <td>386.890007</td>\n",
       "      <td>5026972300</td>\n",
       "      <td>7.137857</td>\n",
       "      <td>89.082235</td>\n",
       "      <td>56.685275</td>\n",
       "      <td>10.760010</td>\n",
       "      <td>0.026252</td>\n",
       "      <td>6336200.0</td>\n",
       "      <td>0.75</td>\n",
       "      <td>1</td>\n",
       "      <td>None</td>\n",
       "      <td>7.236100e+10</td>\n",
       "      <td>4.119760e+11</td>\n",
       "    </tr>\n",
       "    <tr>\n",
       "      <th>2024-03-13</th>\n",
       "      <td>418.100006</td>\n",
       "      <td>418.179993</td>\n",
       "      <td>411.450012</td>\n",
       "      <td>415.100006</td>\n",
       "      <td>415.100006</td>\n",
       "      <td>17115900</td>\n",
       "      <td>417.798966</td>\n",
       "      <td>399.088037</td>\n",
       "      <td>2.389025</td>\n",
       "      <td>2.604806</td>\n",
       "      <td>58.084471</td>\n",
       "      <td>414.957504</td>\n",
       "      <td>418.464996</td>\n",
       "      <td>411.735016</td>\n",
       "      <td>421.687485</td>\n",
       "      <td>408.227524</td>\n",
       "      <td>425.194977</td>\n",
       "      <td>405.005035</td>\n",
       "      <td>435.147446</td>\n",
       "      <td>394.767563</td>\n",
       "      <td>5009856400</td>\n",
       "      <td>6.857856</td>\n",
       "      <td>84.436635</td>\n",
       "      <td>69.927694</td>\n",
       "      <td>-0.179993</td>\n",
       "      <td>-0.000434</td>\n",
       "      <td>-5341100.0</td>\n",
       "      <td>0.75</td>\n",
       "      <td>1</td>\n",
       "      <td>None</td>\n",
       "      <td>7.236100e+10</td>\n",
       "      <td>4.119760e+11</td>\n",
       "    </tr>\n",
       "    <tr>\n",
       "      <th>2024-03-14</th>\n",
       "      <td>420.239990</td>\n",
       "      <td>427.820007</td>\n",
       "      <td>417.989990</td>\n",
       "      <td>425.220001</td>\n",
       "      <td>425.220001</td>\n",
       "      <td>34157300</td>\n",
       "      <td>421.227603</td>\n",
       "      <td>397.232401</td>\n",
       "      <td>3.455192</td>\n",
       "      <td>2.774884</td>\n",
       "      <td>65.132515</td>\n",
       "      <td>424.062500</td>\n",
       "      <td>430.135010</td>\n",
       "      <td>420.304993</td>\n",
       "      <td>433.892517</td>\n",
       "      <td>414.232483</td>\n",
       "      <td>439.965027</td>\n",
       "      <td>410.474976</td>\n",
       "      <td>453.552551</td>\n",
       "      <td>394.572449</td>\n",
       "      <td>5044013700</td>\n",
       "      <td>7.274285</td>\n",
       "      <td>91.165454</td>\n",
       "      <td>88.228108</td>\n",
       "      <td>10.119995</td>\n",
       "      <td>0.024087</td>\n",
       "      <td>17041400.0</td>\n",
       "      <td>0.75</td>\n",
       "      <td>1</td>\n",
       "      <td>None</td>\n",
       "      <td>7.236100e+10</td>\n",
       "      <td>4.119760e+11</td>\n",
       "    </tr>\n",
       "    <tr>\n",
       "      <th>2024-03-15</th>\n",
       "      <td>419.290009</td>\n",
       "      <td>422.600006</td>\n",
       "      <td>412.790009</td>\n",
       "      <td>416.420013</td>\n",
       "      <td>416.420013</td>\n",
       "      <td>45049800</td>\n",
       "      <td>422.064058</td>\n",
       "      <td>397.381947</td>\n",
       "      <td>3.549140</td>\n",
       "      <td>2.929735</td>\n",
       "      <td>56.271762</td>\n",
       "      <td>417.057510</td>\n",
       "      <td>421.325012</td>\n",
       "      <td>411.515015</td>\n",
       "      <td>426.867508</td>\n",
       "      <td>407.247513</td>\n",
       "      <td>431.135010</td>\n",
       "      <td>401.705017</td>\n",
       "      <td>446.487503</td>\n",
       "      <td>387.627518</td>\n",
       "      <td>4998963900</td>\n",
       "      <td>7.819284</td>\n",
       "      <td>61.264027</td>\n",
       "      <td>78.955372</td>\n",
       "      <td>-8.799988</td>\n",
       "      <td>-0.020912</td>\n",
       "      <td>10892500.0</td>\n",
       "      <td>0.75</td>\n",
       "      <td>1</td>\n",
       "      <td>None</td>\n",
       "      <td>7.236100e+10</td>\n",
       "      <td>4.119760e+11</td>\n",
       "    </tr>\n",
       "    <tr>\n",
       "      <th>2024-03-18</th>\n",
       "      <td>414.250000</td>\n",
       "      <td>420.730011</td>\n",
       "      <td>413.779999</td>\n",
       "      <td>417.320007</td>\n",
       "      <td>417.320007</td>\n",
       "      <td>20084800</td>\n",
       "      <td>422.869983</td>\n",
       "      <td>397.902023</td>\n",
       "      <td>3.654094</td>\n",
       "      <td>3.074607</td>\n",
       "      <td>56.917295</td>\n",
       "      <td>417.287506</td>\n",
       "      <td>420.795013</td>\n",
       "      <td>413.845001</td>\n",
       "      <td>424.237518</td>\n",
       "      <td>410.337494</td>\n",
       "      <td>427.745026</td>\n",
       "      <td>406.894989</td>\n",
       "      <td>438.137543</td>\n",
       "      <td>396.437469</td>\n",
       "      <td>5019048700</td>\n",
       "      <td>7.996427</td>\n",
       "      <td>64.322111</td>\n",
       "      <td>72.250531</td>\n",
       "      <td>0.899994</td>\n",
       "      <td>0.002159</td>\n",
       "      <td>-24965000.0</td>\n",
       "      <td>0.75</td>\n",
       "      <td>1</td>\n",
       "      <td>None</td>\n",
       "      <td>7.236100e+10</td>\n",
       "      <td>4.119760e+11</td>\n",
       "    </tr>\n",
       "  </tbody>\n",
       "</table>\n",
       "<p>7839 rows × 32 columns</p>\n",
       "</div>"
      ],
      "text/plain": [
       "                  Open        High         Low       Close   Adj Close  \\\n",
       "Date                                                                     \n",
       "1993-01-29    2.734375    2.750000    2.679688    2.703125    1.672746   \n",
       "1993-02-01    2.695313    2.750000    2.671875    2.734375    1.692085   \n",
       "1993-02-02    2.730469    2.796875    2.726563    2.781250    1.721091   \n",
       "1993-02-03    2.796875    2.820313    2.750000    2.761719    1.709006   \n",
       "1993-02-04    2.742188    2.742188    2.640625    2.656250    1.643739   \n",
       "...                ...         ...         ...         ...         ...   \n",
       "2024-03-12  407.619995  415.570007  406.790009  415.279999  415.279999   \n",
       "2024-03-13  418.100006  418.179993  411.450012  415.100006  415.100006   \n",
       "2024-03-14  420.239990  427.820007  417.989990  425.220001  425.220001   \n",
       "2024-03-15  419.290009  422.600006  412.790009  416.420013  416.420013   \n",
       "2024-03-18  414.250000  420.730011  413.779999  417.320007  417.320007   \n",
       "\n",
       "               Volume  Bollinger_High  Bollinger_Low      MACD    Signal  \\\n",
       "Date                                                                       \n",
       "1993-01-29   39424000        2.864005       2.658652  0.008243  0.021679   \n",
       "1993-02-01   42854400        2.857140       2.672939  0.006781  0.018700   \n",
       "1993-02-02   70371200        2.856504       2.681387  0.009298  0.016819   \n",
       "1993-02-03   71728000        2.855385       2.680552  0.009606  0.015377   \n",
       "1993-02-04  124214400        2.863732       2.665175  0.001325  0.012566   \n",
       "...               ...             ...            ...       ...       ...   \n",
       "2024-03-12   22457000      416.855170     399.153832  2.023858  2.658752   \n",
       "2024-03-13   17115900      417.798966     399.088037  2.389025  2.604806   \n",
       "2024-03-14   34157300      421.227603     397.232401  3.455192  2.774884   \n",
       "2024-03-15   45049800      422.064058     397.381947  3.549140  2.929735   \n",
       "2024-03-18   20084800      422.869983     397.902023  3.654094  3.074607   \n",
       "\n",
       "                  RSI       Pivot          R1          S1          R2  \\\n",
       "Date                                                                    \n",
       "1993-01-29  43.908854    2.708984    2.738281    2.667969    2.779297   \n",
       "1993-02-01  49.769723    2.722656    2.773438    2.695312    2.800781   \n",
       "1993-02-02  57.023650    2.771484    2.816406    2.746094    2.841797   \n",
       "1993-02-03  53.553385    2.773438    2.796875    2.726562    2.843751   \n",
       "1993-02-04  39.554622    2.673828    2.707031    2.605469    2.775391   \n",
       "...               ...         ...         ...         ...         ...   \n",
       "2024-03-12  58.279030  413.230003  419.669998  410.889999  422.010002   \n",
       "2024-03-13  58.084471  414.957504  418.464996  411.735016  421.687485   \n",
       "2024-03-14  65.132515  424.062500  430.135010  420.304993  433.892517   \n",
       "2024-03-15  56.271762  417.057510  421.325012  411.515015  426.867508   \n",
       "2024-03-18  56.917295  417.287506  420.795013  413.845001  424.237518   \n",
       "\n",
       "                    S2          R3          S3          R4          S4  \\\n",
       "Date                                                                     \n",
       "1993-01-29    2.638672    2.808593    2.597657    2.919921    2.498048   \n",
       "1993-02-01    2.644531    2.851562    2.617188    2.957031    2.488281   \n",
       "1993-02-02    2.701172    2.886718    2.675782    2.982421    2.560548   \n",
       "1993-02-03    2.703125    2.867188    2.656250    2.984377    2.562499   \n",
       "1993-02-04    2.572265    2.808594    2.503906    2.978517    2.369139   \n",
       "...                ...         ...         ...         ...         ...   \n",
       "2024-03-12  404.450005  428.449997  402.110001  439.570000  386.890007   \n",
       "2024-03-13  408.227524  425.194977  405.005035  435.147446  394.767563   \n",
       "2024-03-14  414.232483  439.965027  410.474976  453.552551  394.572449   \n",
       "2024-03-15  407.247513  431.135010  401.705017  446.487503  387.627518   \n",
       "2024-03-18  410.337494  427.745026  406.894989  438.137543  396.437469   \n",
       "\n",
       "                   OBV       ATR         %K         %D  Close_diff  \\\n",
       "Date                                                                 \n",
       "1993-01-29   -96377600  0.077846  18.918785  17.355565   -0.015625   \n",
       "1993-02-01   -53523200  0.077846  29.729614  24.324199    0.031250   \n",
       "1993-02-02    16848000  0.073940  45.945857  31.531419    0.046875   \n",
       "1993-02-03   -54880000  0.071149  58.000020  44.558497   -0.019531   \n",
       "1993-02-04  -179094400  0.070312   8.695629  37.547168   -0.105469   \n",
       "...                ...       ...        ...        ...         ...   \n",
       "2024-03-12  5026972300  7.137857  89.082235  56.685275   10.760010   \n",
       "2024-03-13  5009856400  6.857856  84.436635  69.927694   -0.179993   \n",
       "2024-03-14  5044013700  7.274285  91.165454  88.228108   10.119995   \n",
       "2024-03-15  4998963900  7.819284  61.264027  78.955372   -8.799988   \n",
       "2024-03-18  5019048700  7.996427  64.322111  72.250531    0.899994   \n",
       "\n",
       "            Close_log_return  Volume_changes  Dividends_Sum_Last_Year  \\\n",
       "Date                                                                    \n",
       "1993-01-29         -0.005764     -37606400.0                     0.75   \n",
       "1993-02-01          0.011494       3430400.0                     0.75   \n",
       "1993-02-02          0.016998      27516800.0                     0.75   \n",
       "1993-02-03         -0.007047       1356800.0                     0.75   \n",
       "1993-02-04         -0.038938      52486400.0                     0.75   \n",
       "...                      ...             ...                      ...   \n",
       "2024-03-12          0.026252       6336200.0                     0.75   \n",
       "2024-03-13         -0.000434      -5341100.0                     0.75   \n",
       "2024-03-14          0.024087      17041400.0                     0.75   \n",
       "2024-03-15         -0.020912      10892500.0                     0.75   \n",
       "2024-03-18          0.002159     -24965000.0                     0.75   \n",
       "\n",
       "            Splits_Count_Last_Year Total_Cashflow    Net_Income  Total_Assets  \n",
       "Date                                                                           \n",
       "1993-01-29                       1           None  7.236100e+10  4.119760e+11  \n",
       "1993-02-01                       1           None  7.236100e+10  4.119760e+11  \n",
       "1993-02-02                       1           None  7.236100e+10  4.119760e+11  \n",
       "1993-02-03                       1           None  7.236100e+10  4.119760e+11  \n",
       "1993-02-04                       1           None  7.236100e+10  4.119760e+11  \n",
       "...                            ...            ...           ...           ...  \n",
       "2024-03-12                       1           None  7.236100e+10  4.119760e+11  \n",
       "2024-03-13                       1           None  7.236100e+10  4.119760e+11  \n",
       "2024-03-14                       1           None  7.236100e+10  4.119760e+11  \n",
       "2024-03-15                       1           None  7.236100e+10  4.119760e+11  \n",
       "2024-03-18                       1           None  7.236100e+10  4.119760e+11  \n",
       "\n",
       "[7839 rows x 32 columns]"
      ]
     },
     "execution_count": 128,
     "metadata": {},
     "output_type": "execute_result"
    }
   ],
   "source": [
    "quarterly_dividend_data['MSFT']"
   ]
  },
  {
   "attachments": {},
   "cell_type": "markdown",
   "metadata": {},
   "source": [
    "# Beta Weight"
   ]
  },
  {
   "cell_type": "code",
   "execution_count": 104,
   "metadata": {},
   "outputs": [],
   "source": [
    "def calculate_beta(stock_symbol, market_symbol='^GSPC', start='2020-01-01', end='2023-01-01'):\n",
    "    try:\n",
    "        stock_data = yf.download(stock_symbol, start=start, end=end)['Adj Close']\n",
    "        market_data = yf.download(market_symbol, start=start, end=end)['Adj Close']\n",
    "    except Exception as e:\n",
    "        return {'error': f'Failed to download data: {str(e)}'}\n",
    "    \n",
    "    returns = pd.DataFrame({\n",
    "        'stock_returns': stock_data.pct_change(),\n",
    "        'market_returns': market_data.pct_change()\n",
    "    }).dropna()\n",
    "    \n",
    "    betas = {}\n",
    "    \n",
    "    # Method 1: Linear Regression\n",
    "    try:\n",
    "        model = LinearRegression().fit(returns[['market_returns']], returns['stock_returns'])\n",
    "        betas['linear_regression'] = model.coef_[0]\n",
    "    except Exception as e:\n",
    "        betas['linear_regression_error'] = str(e)\n",
    "    \n",
    "    # Method 2: Covariance Method\n",
    "    try:\n",
    "        covariance = returns.cov().iloc[0, 1]\n",
    "        market_var = returns['market_returns'].var()\n",
    "        betas['covariance_method'] = covariance / market_var\n",
    "    except Exception as e:\n",
    "        betas['covariance_method_error'] = str(e)\n",
    "    \n",
    "    # Method 3: Variance Ratio\n",
    "    try:\n",
    "        stock_var = returns['stock_returns'].var()\n",
    "        betas['variance_ratio'] = stock_var / market_var\n",
    "    except Exception as e:\n",
    "        betas['variance_ratio_error'] = str(e)\n",
    "    \n",
    "    # Method 4: Using scipy linregress for an alternative linear regression method\n",
    "    try:\n",
    "        slope, _, _, _, _ = linregress(returns['market_returns'], returns['stock_returns'])\n",
    "        betas['linregress'] = slope\n",
    "    except Exception as e:\n",
    "        betas['linregress_error'] = str(e)\n",
    "    \n",
    "    return betas"
   ]
  },
  {
   "attachments": {},
   "cell_type": "markdown",
   "metadata": {},
   "source": []
  },
  {
   "cell_type": "code",
   "execution_count": 105,
   "metadata": {},
   "outputs": [
    {
     "name": "stdout",
     "output_type": "stream",
     "text": [
      "\n",
      "Calculating beta for Index Funds:\n"
     ]
    },
    {
     "name": "stderr",
     "output_type": "stream",
     "text": [
      "[*********************100%%**********************]  1 of 1 completed\n",
      "[*********************100%%**********************]  1 of 1 completed\n",
      "[*********************100%%**********************]  1 of 1 completed\n",
      "[*********************100%%**********************]  1 of 1 completed"
     ]
    },
    {
     "name": "stdout",
     "output_type": "stream",
     "text": [
      "  SPY:\n",
      "    linear_regression: 0.980756700346283\n",
      "    covariance_method: 0.9807567003462827\n",
      "    variance_ratio: 0.9640118642315548\n",
      "    linregress: 0.9807567003462829\n"
     ]
    },
    {
     "name": "stderr",
     "output_type": "stream",
     "text": [
      "\n",
      "[*********************100%%**********************]  1 of 1 completed\n",
      "[*********************100%%**********************]  1 of 1 completed\n"
     ]
    },
    {
     "name": "stdout",
     "output_type": "stream",
     "text": [
      "  QQQ:\n",
      "    linear_regression: 1.0864858935578845\n",
      "    covariance_method: 1.086485893557884\n",
      "    variance_ratio: 1.3591378803497065\n",
      "    linregress: 1.0864858935578843\n"
     ]
    },
    {
     "name": "stderr",
     "output_type": "stream",
     "text": [
      "[*********************100%%**********************]  1 of 1 completed\n",
      "[*********************100%%**********************]  1 of 1 completed\n"
     ]
    },
    {
     "name": "stdout",
     "output_type": "stream",
     "text": [
      "  DAX:\n",
      "    linear_regression: 0.8825338592042832\n",
      "    covariance_method: 0.8825338592042831\n",
      "    variance_ratio: 1.2270079681820172\n",
      "    linregress: 0.8825338592042833\n",
      "\n",
      "Calculating beta for LETFS:\n",
      "  TQQQ:\n",
      "    linear_regression: 3.2001769060090437\n",
      "    covariance_method: 3.200176906009043\n",
      "    variance_ratio: 11.845921384123255\n",
      "    linregress: 3.200176906009043\n"
     ]
    },
    {
     "name": "stderr",
     "output_type": "stream",
     "text": [
      "[*********************100%%**********************]  1 of 1 completed\n",
      "[*********************100%%**********************]  1 of 1 completed\n",
      "[*********************100%%**********************]  1 of 1 completed\n",
      "[*********************100%%**********************]  1 of 1 completed\n"
     ]
    },
    {
     "name": "stdout",
     "output_type": "stream",
     "text": [
      "  UMDD:\n",
      "    linear_regression: 3.130596898398864\n",
      "    covariance_method: 3.1305968983988652\n",
      "    variance_ratio: 11.681723384549286\n",
      "    linregress: 3.1305968983988652\n",
      "  UDOW:\n",
      "    linear_regression: 2.7727876301817016\n",
      "    covariance_method: 2.772787630181703\n",
      "    variance_ratio: 8.288392173098222\n",
      "    linregress: 2.7727876301817034\n"
     ]
    },
    {
     "name": "stderr",
     "output_type": "stream",
     "text": [
      "[*********************100%%**********************]  1 of 1 completed\n",
      "[*********************100%%**********************]  1 of 1 completed\n",
      "[*********************100%%**********************]  1 of 1 completed\n",
      "[*********************100%%**********************]  1 of 1 completed\n",
      "[*********************100%%**********************]  1 of 1 completed"
     ]
    },
    {
     "name": "stdout",
     "output_type": "stream",
     "text": [
      "  SOXL:\n",
      "    linear_regression: 3.972479549529135\n",
      "    covariance_method: 3.972479549529136\n",
      "    variance_ratio: 21.67868998570489\n",
      "    linregress: 3.9724795495291367\n",
      "  NVDL:\n",
      "    linear_regression: 2.884026158462973\n",
      "    covariance_method: 2.884026158462973\n",
      "    variance_ratio: 15.741069667210377\n",
      "    linregress: 2.884026158462973\n"
     ]
    },
    {
     "name": "stderr",
     "output_type": "stream",
     "text": [
      "\n",
      "[*********************100%%**********************]  1 of 1 completed\n",
      "[*********************100%%**********************]  1 of 1 completed\n",
      "[*********************100%%**********************]  1 of 1 completed\n"
     ]
    },
    {
     "name": "stdout",
     "output_type": "stream",
     "text": [
      "  TSLL:\n",
      "    linear_regression: 1.9597177185836097\n",
      "    covariance_method: 1.9597177185836094\n",
      "    variance_ratio: 13.771794163695178\n",
      "    linregress: 1.9597177185836099\n",
      "\n",
      "Calculating beta for Monthly Dividend REITs/ETFs:\n",
      "  O:\n",
      "    linear_regression: 0.9530990960023205\n",
      "    covariance_method: 0.9530990960023207\n",
      "    variance_ratio: 2.163264385329412\n",
      "    linregress: 0.9530990960023209\n"
     ]
    },
    {
     "name": "stderr",
     "output_type": "stream",
     "text": [
      "[*********************100%%**********************]  1 of 1 completed\n",
      "[*********************100%%**********************]  1 of 1 completed\n",
      "[*********************100%%**********************]  1 of 1 completed\n",
      "[*********************100%%**********************]  1 of 1 completed\n"
     ]
    },
    {
     "name": "stdout",
     "output_type": "stream",
     "text": [
      "  AGNC:\n",
      "    linear_regression: 0.7885079546392519\n",
      "    covariance_method: 0.7885079546392518\n",
      "    variance_ratio: 2.012154267514486\n",
      "    linregress: 0.7885079546392519\n",
      "  CSHI:\n",
      "    linear_regression: 0.02181558455468573\n",
      "    covariance_method: 0.021815584554685706\n",
      "    variance_ratio: 0.0013104101763264666\n",
      "    linregress: 0.021815584554685696\n"
     ]
    },
    {
     "name": "stderr",
     "output_type": "stream",
     "text": [
      "[*********************100%%**********************]  1 of 1 completed\n",
      "[*********************100%%**********************]  1 of 1 completed\n",
      "[*********************100%%**********************]  1 of 1 completed"
     ]
    },
    {
     "name": "stdout",
     "output_type": "stream",
     "text": [
      "  JEPI:\n",
      "    linear_regression: 0.5346877725963501\n",
      "    covariance_method: 0.53468777259635\n",
      "    variance_ratio: 0.37354753667133533\n",
      "    linregress: 0.5346877725963503\n"
     ]
    },
    {
     "name": "stderr",
     "output_type": "stream",
     "text": [
      "\n",
      "[*********************100%%**********************]  1 of 1 completed\n",
      "[*********************100%%**********************]  1 of 1 completed\n",
      "[*********************100%%**********************]  1 of 1 completed\n"
     ]
    },
    {
     "name": "stdout",
     "output_type": "stream",
     "text": [
      "  NUSI:\n",
      "    linear_regression: 0.3427235163056065\n",
      "    covariance_method: 0.3427235163056066\n",
      "    variance_ratio: 0.28968468069020986\n",
      "    linregress: 0.3427235163056067\n",
      "\n",
      "Calculating beta for Quarterly Dividend Stocks:\n",
      "  SPYD:\n",
      "    linear_regression: 0.9803365887656181\n",
      "    covariance_method: 0.9803365887656166\n",
      "    variance_ratio: 1.3805162121512646\n",
      "    linregress: 0.9803365887656169\n"
     ]
    },
    {
     "name": "stderr",
     "output_type": "stream",
     "text": [
      "[*********************100%%**********************]  1 of 1 completed\n",
      "[*********************100%%**********************]  1 of 1 completed\n",
      "[*********************100%%**********************]  1 of 1 completed\n",
      "[*********************100%%**********************]  1 of 1 completed\n"
     ]
    },
    {
     "name": "stdout",
     "output_type": "stream",
     "text": [
      "  MSFT:\n",
      "    linear_regression: 1.172797739790069\n",
      "    covariance_method: 1.1727977397900693\n",
      "    variance_ratio: 1.8630940379264633\n",
      "    linregress: 1.1727977397900695\n",
      "  INTC:\n",
      "    linear_regression: 1.1852679670322215\n",
      "    covariance_method: 1.1852679670322217\n",
      "    variance_ratio: 2.7303874073073007\n",
      "    linregress: 1.185267967032222\n"
     ]
    },
    {
     "name": "stderr",
     "output_type": "stream",
     "text": [
      "[*********************100%%**********************]  1 of 1 completed\n",
      "[*********************100%%**********************]  1 of 1 completed\n",
      "[*********************100%%**********************]  1 of 1 completed\n",
      "[*********************100%%**********************]  1 of 1 completed\n"
     ]
    },
    {
     "name": "stdout",
     "output_type": "stream",
     "text": [
      "  F:\n",
      "    linear_regression: 1.2142817906575307\n",
      "    covariance_method: 1.214281790657531\n",
      "    variance_ratio: 3.788059728324089\n",
      "    linregress: 1.2142817906575312\n",
      "  CSCO:\n",
      "    linear_regression: 0.9307120608682646\n",
      "    covariance_method: 0.9307120608682649\n",
      "    variance_ratio: 1.5342712288620366\n",
      "    linregress: 0.9307120608682651\n"
     ]
    },
    {
     "name": "stderr",
     "output_type": "stream",
     "text": [
      "[*********************100%%**********************]  1 of 1 completed\n",
      "[*********************100%%**********************]  1 of 1 completed\n"
     ]
    },
    {
     "name": "stdout",
     "output_type": "stream",
     "text": [
      "  BAC:\n",
      "    linear_regression: 1.2242348502800875\n",
      "    covariance_method: 1.2242348502800888\n",
      "    variance_ratio: 2.648173607823772\n",
      "    linregress: 1.224234850280089\n"
     ]
    },
    {
     "name": "stderr",
     "output_type": "stream",
     "text": [
      "[*********************100%%**********************]  1 of 1 completed\n",
      "[*********************100%%**********************]  1 of 1 completed\n",
      "[*********************100%%**********************]  1 of 1 completed\n",
      "[*********************100%%**********************]  1 of 1 completed"
     ]
    },
    {
     "name": "stdout",
     "output_type": "stream",
     "text": [
      "  PFE:\n",
      "    linear_regression: 0.574547179766678\n",
      "    covariance_method: 0.5745471797666774\n",
      "    variance_ratio: 1.3827263280567113\n",
      "    linregress: 0.5745471797666775\n"
     ]
    },
    {
     "name": "stderr",
     "output_type": "stream",
     "text": [
      "\n",
      "[*********************100%%**********************]  1 of 1 completed"
     ]
    },
    {
     "name": "stdout",
     "output_type": "stream",
     "text": [
      "  BX:\n",
      "    linear_regression: 1.4335141149853088\n",
      "    covariance_method: 1.4335141149853083\n",
      "    variance_ratio: 3.338991972399187\n",
      "    linregress: 1.4335141149853086\n"
     ]
    },
    {
     "name": "stderr",
     "output_type": "stream",
     "text": [
      "\n",
      "[*********************100%%**********************]  1 of 1 completed\n",
      "[*********************100%%**********************]  1 of 1 completed\n",
      "[*********************100%%**********************]  1 of 1 completed\n"
     ]
    },
    {
     "name": "stdout",
     "output_type": "stream",
     "text": [
      "  MO:\n",
      "    linear_regression: 0.5991408703893374\n",
      "    covariance_method: 0.5991408703893374\n",
      "    variance_ratio: 1.225871127786571\n",
      "    linregress: 0.5991408703893375\n",
      "  DOW:\n",
      "    linear_regression: 1.1399645341652782\n",
      "    covariance_method: 1.1399645341652778\n",
      "    variance_ratio: 2.870552655838064\n",
      "    linregress: 1.139964534165278\n"
     ]
    },
    {
     "name": "stderr",
     "output_type": "stream",
     "text": [
      "[*********************100%%**********************]  1 of 1 completed\n",
      "[*********************100%%**********************]  1 of 1 completed\n",
      "[*********************100%%**********************]  1 of 1 completed\n",
      "[*********************100%%**********************]  1 of 1 completed"
     ]
    },
    {
     "name": "stdout",
     "output_type": "stream",
     "text": [
      "  WMT:\n",
      "    linear_regression: 0.4874659535914179\n",
      "    covariance_method: 0.4874659535914181\n",
      "    variance_ratio: 1.0204925769661712\n",
      "    linregress: 0.4874659535914182\n",
      "  T:\n",
      "    linear_regression: 0.6871317944147778\n",
      "    covariance_method: 0.6871317944147777\n",
      "    variance_ratio: 1.231308857186006\n",
      "    linregress: 0.6871317944147778\n"
     ]
    },
    {
     "name": "stderr",
     "output_type": "stream",
     "text": [
      "\n",
      "[*********************100%%**********************]  1 of 1 completed\n",
      "[*********************100%%**********************]  1 of 1 completed\n",
      "[*********************100%%**********************]  1 of 1 completed"
     ]
    },
    {
     "name": "stdout",
     "output_type": "stream",
     "text": [
      "  KMB:\n",
      "    linear_regression: 0.46145469744237194\n",
      "    covariance_method: 0.46145469744237194\n",
      "    variance_ratio: 0.8933451294026667\n",
      "    linregress: 0.461454697442372\n"
     ]
    },
    {
     "name": "stderr",
     "output_type": "stream",
     "text": [
      "\n",
      "[*********************100%%**********************]  1 of 1 completed\n",
      "[*********************100%%**********************]  1 of 1 completed"
     ]
    },
    {
     "name": "stdout",
     "output_type": "stream",
     "text": [
      "  SWK:\n",
      "    linear_regression: 1.3225690586664058\n",
      "    covariance_method: 1.3225690586664085\n",
      "    variance_ratio: 3.2446297829456716\n",
      "    linregress: 1.322569058666409\n"
     ]
    },
    {
     "name": "stderr",
     "output_type": "stream",
     "text": [
      "\n",
      "[*********************100%%**********************]  1 of 1 completed\n"
     ]
    },
    {
     "name": "stdout",
     "output_type": "stream",
     "text": [
      "  IBM:\n",
      "    linear_regression: 0.809340669200693\n",
      "    covariance_method: 0.8093406692006936\n",
      "    variance_ratio: 1.4199958796939305\n",
      "    linregress: 0.8093406692006937\n"
     ]
    },
    {
     "name": "stderr",
     "output_type": "stream",
     "text": [
      "[*********************100%%**********************]  1 of 1 completed\n",
      "[*********************100%%**********************]  1 of 1 completed\n",
      "[*********************100%%**********************]  1 of 1 completed"
     ]
    },
    {
     "name": "stdout",
     "output_type": "stream",
     "text": [
      "  PEP:\n",
      "    linear_regression: 0.7336126048118109\n",
      "    covariance_method: 0.7336126048118101\n",
      "    variance_ratio: 0.9933024201017637\n",
      "    linregress: 0.7336126048118102\n"
     ]
    },
    {
     "name": "stderr",
     "output_type": "stream",
     "text": [
      "\n",
      "[*********************100%%**********************]  1 of 1 completed\n"
     ]
    },
    {
     "name": "stdout",
     "output_type": "stream",
     "text": [
      "  KO:\n",
      "    linear_regression: 0.686321707257074\n",
      "    covariance_method: 0.6863217072570734\n",
      "    variance_ratio: 0.934749318106406\n",
      "    linregress: 0.6863217072570735\n"
     ]
    },
    {
     "name": "stderr",
     "output_type": "stream",
     "text": [
      "[*********************100%%**********************]  1 of 1 completed\n",
      "[*********************100%%**********************]  1 of 1 completed"
     ]
    },
    {
     "name": "stdout",
     "output_type": "stream",
     "text": [
      "  JNJ:\n",
      "    linear_regression: 0.5395766963969222\n",
      "    covariance_method: 0.5395766963969215\n",
      "    variance_ratio: 0.7351044430886029\n",
      "    linregress: 0.5395766963969216\n"
     ]
    },
    {
     "name": "stderr",
     "output_type": "stream",
     "text": [
      "\n"
     ]
    }
   ],
   "source": [
    "# Combine all asset lists into a single dictionary for easier iteration\n",
    "assets = {\n",
    "    'Index Funds': index_funds,\n",
    "    'LETFS': leveraged_etfs,\n",
    "    'Monthly Dividend REITs/ETFs': monthly_dividend_reits_etfs,\n",
    "    'Quarterly Dividend Stocks': quarterly_dividend_stocks\n",
    "}\n",
    "\n",
    "# Initialize a dictionary to store beta values for each asset category\n",
    "beta_values = {category: {} for category in assets.keys()}\n",
    "\n",
    "# Iterate through each category and asset to calculate beta values\n",
    "for category, asset_list in assets.items():\n",
    "    print(f\"\\nCalculating beta for {category}:\")\n",
    "    for asset in asset_list:\n",
    "        try:\n",
    "            beta = calculate_beta(asset)\n",
    "            print(f\"  {asset}:\")\n",
    "            for method, value in beta.items():\n",
    "                print(f\"    {method}: {value}\")\n",
    "        except Exception as e:\n",
    "            print(f\"  Error calculating beta for {asset}: {str(e)}\")\n",
    "        beta_values[category][asset] = beta"
   ]
  },
  {
   "cell_type": "code",
   "execution_count": 106,
   "metadata": {},
   "outputs": [
    {
     "data": {
      "text/plain": [
       "{'Index Funds': {'SPY': {'linear_regression': 0.980756700346283,\n",
       "   'covariance_method': 0.9807567003462827,\n",
       "   'variance_ratio': 0.9640118642315548,\n",
       "   'linregress': 0.9807567003462829},\n",
       "  'QQQ': {'linear_regression': 1.0864858935578845,\n",
       "   'covariance_method': 1.086485893557884,\n",
       "   'variance_ratio': 1.3591378803497065,\n",
       "   'linregress': 1.0864858935578843},\n",
       "  'DAX': {'linear_regression': 0.8825338592042832,\n",
       "   'covariance_method': 0.8825338592042831,\n",
       "   'variance_ratio': 1.2270079681820172,\n",
       "   'linregress': 0.8825338592042833}},\n",
       " 'LETFS': {'TQQQ': {'linear_regression': 3.2001769060090437,\n",
       "   'covariance_method': 3.200176906009043,\n",
       "   'variance_ratio': 11.845921384123255,\n",
       "   'linregress': 3.200176906009043},\n",
       "  'UMDD': {'linear_regression': 3.130596898398864,\n",
       "   'covariance_method': 3.1305968983988652,\n",
       "   'variance_ratio': 11.681723384549286,\n",
       "   'linregress': 3.1305968983988652},\n",
       "  'UDOW': {'linear_regression': 2.7727876301817016,\n",
       "   'covariance_method': 2.772787630181703,\n",
       "   'variance_ratio': 8.288392173098222,\n",
       "   'linregress': 2.7727876301817034},\n",
       "  'SOXL': {'linear_regression': 3.972479549529135,\n",
       "   'covariance_method': 3.972479549529136,\n",
       "   'variance_ratio': 21.67868998570489,\n",
       "   'linregress': 3.9724795495291367},\n",
       "  'NVDL': {'linear_regression': 2.884026158462973,\n",
       "   'covariance_method': 2.884026158462973,\n",
       "   'variance_ratio': 15.741069667210377,\n",
       "   'linregress': 2.884026158462973},\n",
       "  'TSLL': {'linear_regression': 1.9597177185836097,\n",
       "   'covariance_method': 1.9597177185836094,\n",
       "   'variance_ratio': 13.771794163695178,\n",
       "   'linregress': 1.9597177185836099}},\n",
       " 'Monthly Dividend REITs/ETFs': {'O': {'linear_regression': 0.9530990960023205,\n",
       "   'covariance_method': 0.9530990960023207,\n",
       "   'variance_ratio': 2.163264385329412,\n",
       "   'linregress': 0.9530990960023209},\n",
       "  'AGNC': {'linear_regression': 0.7885079546392519,\n",
       "   'covariance_method': 0.7885079546392518,\n",
       "   'variance_ratio': 2.012154267514486,\n",
       "   'linregress': 0.7885079546392519},\n",
       "  'CSHI': {'linear_regression': 0.02181558455468573,\n",
       "   'covariance_method': 0.021815584554685706,\n",
       "   'variance_ratio': 0.0013104101763264666,\n",
       "   'linregress': 0.021815584554685696},\n",
       "  'JEPI': {'linear_regression': 0.5346877725963501,\n",
       "   'covariance_method': 0.53468777259635,\n",
       "   'variance_ratio': 0.37354753667133533,\n",
       "   'linregress': 0.5346877725963503},\n",
       "  'NUSI': {'linear_regression': 0.3427235163056065,\n",
       "   'covariance_method': 0.3427235163056066,\n",
       "   'variance_ratio': 0.28968468069020986,\n",
       "   'linregress': 0.3427235163056067}},\n",
       " 'Quarterly Dividend Stocks': {'SPYD': {'linear_regression': 0.9803365887656181,\n",
       "   'covariance_method': 0.9803365887656166,\n",
       "   'variance_ratio': 1.3805162121512646,\n",
       "   'linregress': 0.9803365887656169},\n",
       "  'MSFT': {'linear_regression': 1.172797739790069,\n",
       "   'covariance_method': 1.1727977397900693,\n",
       "   'variance_ratio': 1.8630940379264633,\n",
       "   'linregress': 1.1727977397900695},\n",
       "  'INTC': {'linear_regression': 1.1852679670322215,\n",
       "   'covariance_method': 1.1852679670322217,\n",
       "   'variance_ratio': 2.7303874073073007,\n",
       "   'linregress': 1.185267967032222},\n",
       "  'F': {'linear_regression': 1.2142817906575307,\n",
       "   'covariance_method': 1.214281790657531,\n",
       "   'variance_ratio': 3.788059728324089,\n",
       "   'linregress': 1.2142817906575312},\n",
       "  'CSCO': {'linear_regression': 0.9307120608682646,\n",
       "   'covariance_method': 0.9307120608682649,\n",
       "   'variance_ratio': 1.5342712288620366,\n",
       "   'linregress': 0.9307120608682651},\n",
       "  'BAC': {'linear_regression': 1.2242348502800875,\n",
       "   'covariance_method': 1.2242348502800888,\n",
       "   'variance_ratio': 2.648173607823772,\n",
       "   'linregress': 1.224234850280089},\n",
       "  'PFE': {'linear_regression': 0.574547179766678,\n",
       "   'covariance_method': 0.5745471797666774,\n",
       "   'variance_ratio': 1.3827263280567113,\n",
       "   'linregress': 0.5745471797666775},\n",
       "  'BX': {'linear_regression': 1.4335141149853088,\n",
       "   'covariance_method': 1.4335141149853083,\n",
       "   'variance_ratio': 3.338991972399187,\n",
       "   'linregress': 1.4335141149853086},\n",
       "  'MO': {'linear_regression': 0.5991408703893374,\n",
       "   'covariance_method': 0.5991408703893374,\n",
       "   'variance_ratio': 1.225871127786571,\n",
       "   'linregress': 0.5991408703893375},\n",
       "  'DOW': {'linear_regression': 1.1399645341652782,\n",
       "   'covariance_method': 1.1399645341652778,\n",
       "   'variance_ratio': 2.870552655838064,\n",
       "   'linregress': 1.139964534165278},\n",
       "  'WMT': {'linear_regression': 0.4874659535914179,\n",
       "   'covariance_method': 0.4874659535914181,\n",
       "   'variance_ratio': 1.0204925769661712,\n",
       "   'linregress': 0.4874659535914182},\n",
       "  'T': {'linear_regression': 0.6871317944147778,\n",
       "   'covariance_method': 0.6871317944147777,\n",
       "   'variance_ratio': 1.231308857186006,\n",
       "   'linregress': 0.6871317944147778},\n",
       "  'KMB': {'linear_regression': 0.46145469744237194,\n",
       "   'covariance_method': 0.46145469744237194,\n",
       "   'variance_ratio': 0.8933451294026667,\n",
       "   'linregress': 0.461454697442372},\n",
       "  'SWK': {'linear_regression': 1.3225690586664058,\n",
       "   'covariance_method': 1.3225690586664085,\n",
       "   'variance_ratio': 3.2446297829456716,\n",
       "   'linregress': 1.322569058666409},\n",
       "  'IBM': {'linear_regression': 0.809340669200693,\n",
       "   'covariance_method': 0.8093406692006936,\n",
       "   'variance_ratio': 1.4199958796939305,\n",
       "   'linregress': 0.8093406692006937},\n",
       "  'PEP': {'linear_regression': 0.7336126048118109,\n",
       "   'covariance_method': 0.7336126048118101,\n",
       "   'variance_ratio': 0.9933024201017637,\n",
       "   'linregress': 0.7336126048118102},\n",
       "  'KO': {'linear_regression': 0.686321707257074,\n",
       "   'covariance_method': 0.6863217072570734,\n",
       "   'variance_ratio': 0.934749318106406,\n",
       "   'linregress': 0.6863217072570735},\n",
       "  'JNJ': {'linear_regression': 0.5395766963969222,\n",
       "   'covariance_method': 0.5395766963969215,\n",
       "   'variance_ratio': 0.7351044430886029,\n",
       "   'linregress': 0.5395766963969216}}}"
      ]
     },
     "execution_count": 106,
     "metadata": {},
     "output_type": "execute_result"
    }
   ],
   "source": [
    "beta_values"
   ]
  },
  {
   "cell_type": "code",
   "execution_count": null,
   "metadata": {},
   "outputs": [],
   "source": []
  },
  {
   "attachments": {},
   "cell_type": "markdown",
   "metadata": {},
   "source": [
    "# Valuation Models for Each Asset Class:"
   ]
  },
  {
   "cell_type": "code",
   "execution_count": 55,
   "metadata": {},
   "outputs": [],
   "source": [
    "def calculate_cashflow_growth_rate(free_cash_flows):\n",
    "    return free_cash_flows.pct_change().mean()\n",
    "\n",
    "def project_future_free_cash_flows(last_cash_flow, growth_rate, years):\n",
    "    return [last_cash_flow * (1 + growth_rate) ** i for i in range(1, years + 1)]\n",
    "\n",
    "\n",
    "def calculate_terminal_value(last_cash_flow, growth_rate, required_rate, years):\n",
    "    return last_cash_flow * (1 + growth_rate) / (required_rate - growth_rate) / (1 + required_rate) ** years\n",
    "\n",
    "def calculate_fair_value(discounted_cash_flows, terminal_value, outstanding_shares):\n",
    "    total_present_value = sum(discounted_cash_flows) + terminal_value\n",
    "    return total_present_value / outstanding_shares\n",
    "\n",
    "def get_cost_of_equity(risk_free_rate, beta, market_return):\n",
    "    return risk_free_rate + beta * (market_return - risk_free_rate)\n",
    "\n",
    "def get_cost_of_debt(interest_rate, tax_rate):\n",
    "    return interest_rate * (1 - tax_rate)\n",
    "\n",
    "def get_proportions(market_value_equity, market_value_debt):\n",
    "    total_value = market_value_equity + market_value_debt\n",
    "    return market_value_equity / total_value, market_value_debt / total_value\n",
    "\n",
    "def calculate_wacc(cost_of_equity, cost_of_debt, equity_proportion, debt_proportion, tax_rate):\n",
    "    wacc = (cost_of_equity * equity_proportion) + ((1 - tax_rate) * cost_of_debt * debt_proportion)\n",
    "    return wacc\n",
    "\n",
    "def calculate_intrinsic_value(dividend_data, discount_rate):\n",
    "    intrinsic_value = 0\n",
    "    for year, dividend in enumerate(dividend_data, start=1):\n",
    "        if year <= 5:\n",
    "            growth_rate = 0.05\n",
    "        elif 5 < year <= 10:\n",
    "            growth_rate = 0.03\n",
    "        else:\n",
    "            growth_rate = 0.01\n",
    "        intrinsic_value += dividend / ((1 + discount_rate) ** year)\n",
    "    return intrinsic_value\n",
    "\n",
    "def calculate_cost_of_equity(beta, risk_free_rate, market_return):\n",
    "    \"\"\"\n",
    "    Calculate the cost of equity using the CAPM formula.\n",
    "    \n",
    "    :param beta: Beta of the stock\n",
    "    :param risk_free_rate: Risk-free rate\n",
    "    :param market_return: Expected market return\n",
    "    :return: Cost of equity\n",
    "    \"\"\"\n",
    "    return risk_free_rate + beta * (market_return - risk_free_rate)\n"
   ]
  },
  {
   "cell_type": "code",
   "execution_count": 57,
   "metadata": {},
   "outputs": [],
   "source": [
    "def dcf_valuation(cash_flows, discount_rate):\n",
    "    \"\"\"\n",
    "    Calculate the present value of cash flows using the discounted cash flow (DCF) method.\n",
    "    \n",
    "    Args:\n",
    "    - cash_flows (list): List of projected cash flows.\n",
    "    - discount_rate (float): Discount rate (required rate of return).\n",
    "    \n",
    "    Returns:\n",
    "    - float: Present value of the cash flows.\n",
    "    \"\"\"\n",
    "    dcf_value = sum(cf / (1 + discount_rate)**n for n, cf in enumerate(cash_flows, start=1))\n",
    "    return dcf_value\n",
    "\n",
    "def calculate_expected_return(risk_free_rate, beta, market_return, market_risk_premium):\n",
    "    \"\"\"\n",
    "    Calculate the expected return of an asset using the Capital Asset Pricing Model (CAPM).\n",
    "    \n",
    "    Args:\n",
    "    - risk_free_rate (float): Risk-free rate (e.g., yield on Treasury bills).\n",
    "    - beta (float): Beta coefficient of the asset.\n",
    "    - market_return (float): Expected return of the market portfolio.\n",
    "    - market_risk_premium (float): Market risk premium.\n",
    "    \n",
    "    Returns:\n",
    "    - float: Expected return of the asset.\n",
    "    \"\"\"\n",
    "    expected_return = risk_free_rate + beta * market_risk_premium\n",
    "    return expected_return\n",
    "\n",
    "def three_stage_dividend_discount_model(symbol, discount_rate):\n",
    "    dividend_data = fetch_dividend_data(symbol)\n",
    "    intrinsic_value = calculate_intrinsic_value(dividend_data, discount_rate)\n",
    "    return intrinsic_value\n",
    "\n",
    "\n",
    "def residual_income_model(net_income, equity, required_return):\n",
    "    \"\"\"\n",
    "    Calculate the value of equity using the Residual Income Model.\n",
    "    \n",
    "    Args:\n",
    "    - net_income (float): Net income of the company.\n",
    "    - equity (float): Book value of equity.\n",
    "    - required_return (float): Required rate of return on equity.\n",
    "    \n",
    "    Returns:\n",
    "    - float: Estimated value of equity using the Residual Income Model.\n",
    "    \"\"\"\n",
    "    # Calculate the present value of expected future residual income\n",
    "    residual_income = net_income - (required_return * equity)\n",
    "    \n",
    "    # Value of equity is the book value of equity plus the present value of expected future residual income\n",
    "    equity_value = equity + residual_income\n",
    "    \n",
    "    return equity_value\n",
    "\n"
   ]
  },
  {
   "cell_type": "code",
   "execution_count": null,
   "metadata": {},
   "outputs": [],
   "source": []
  },
  {
   "cell_type": "code",
   "execution_count": null,
   "metadata": {},
   "outputs": [],
   "source": []
  },
  {
   "attachments": {},
   "cell_type": "markdown",
   "metadata": {},
   "source": [
    "# Backtesting for DCA Strategy"
   ]
  },
  {
   "cell_type": "code",
   "execution_count": null,
   "metadata": {},
   "outputs": [],
   "source": []
  },
  {
   "attachments": {},
   "cell_type": "markdown",
   "metadata": {},
   "source": [
    "# Options Pricing Analysis"
   ]
  },
  {
   "cell_type": "code",
   "execution_count": null,
   "metadata": {},
   "outputs": [],
   "source": []
  },
  {
   "cell_type": "code",
   "execution_count": null,
   "metadata": {},
   "outputs": [],
   "source": []
  },
  {
   "cell_type": "code",
   "execution_count": null,
   "metadata": {},
   "outputs": [],
   "source": []
  },
  {
   "cell_type": "code",
   "execution_count": null,
   "metadata": {},
   "outputs": [],
   "source": []
  },
  {
   "cell_type": "code",
   "execution_count": null,
   "metadata": {},
   "outputs": [],
   "source": []
  },
  {
   "cell_type": "code",
   "execution_count": null,
   "metadata": {},
   "outputs": [],
   "source": []
  }
 ],
 "metadata": {
  "kernelspec": {
   "display_name": "jupyter-ai",
   "language": "python",
   "name": "python3"
  },
  "language_info": {
   "codemirror_mode": {
    "name": "ipython",
    "version": 3
   },
   "file_extension": ".py",
   "mimetype": "text/x-python",
   "name": "python",
   "nbconvert_exporter": "python",
   "pygments_lexer": "ipython3",
   "version": "3.11.7"
  },
  "orig_nbformat": 4
 },
 "nbformat": 4,
 "nbformat_minor": 2
}
