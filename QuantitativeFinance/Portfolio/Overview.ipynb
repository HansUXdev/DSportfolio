{
 "cells": [
  {
   "cell_type": "markdown",
   "id": "8ed768e2",
   "metadata": {},
   "source": [
    "| Type of Strategy     | Description                                                                                      | Characteristics                                                                                       |\n",
    "|----------------------|--------------------------------------------------------------------------------------------------|-------------------------------------------------------------------------------------------------------|\n",
    "| Trend Following      | Strategy that aims to profit from the continuation of existing price trends.                     | Uses moving averages (e.g., 50-day, 200-day) to identify trends. Utilizes trailing stop-loss orders.   |\n",
    "| Mean Reversion      | Strategy that aims to profit from the reversal of price movements back to their mean or average.  | Uses oscillators (e.g., RSI, Stochastic) to identify overbought or oversold conditions. Implements mean reversion entry and exit signals. |\n",
    "| Breakout Trading    | Strategy that aims to profit from significant price movements after breaking through support or resistance levels. | Uses volatility indicators (e.g., Bollinger Bands) to identify potential breakout points. Executes trades upon confirmed breakout with high volume. |\n",
    "| Scalping            | Strategy that involves making multiple trades throughout the day to capture small price movements. | Utilizes short-term moving averages (e.g., 5-minute, 15-minute) for entry and exit signals. Implements tight stop-loss orders and quick profit-taking. |\n",
    "| Momentum Trading    | Strategy that aims to profit from the continuation of existing price trends based on momentum indicators. | Relies on momentum oscillators (e.g., RSI, MACD) to confirm trend strength. Utilizes trailing stop-loss orders to ride trends. |\n",
    "\n",
    "| Technical Indicator  | Description                                                                                      | Characteristics                                                                                       |\n",
    "|----------------------|--------------------------------------------------------------------------------------------------|-------------------------------------------------------------------------------------------------------|\n",
    "| Simple Moving Average (SMA) | Indicator that calculates the average closing price over a specified period.                    | Common lengths include 20, 50, 100, and 200 periods. Used to identify trends and support/resistance levels. |\n",
    "| Exponential Moving Average (EMA) | Indicator that gives more weight to recent price data, making it more responsive to current price movements. | Common lengths include 9, 12, and 26 periods. Provides faster signals compared to SMAs. |\n",
    "| Relative Strength Index (RSI) | Momentum oscillator that measures the speed and change of price movements.                     | Typically uses a 14-period calculation. Identifies overbought (above 70) and oversold (below 30) conditions. |\n",
    "| Stochastic Oscillator | Momentum oscillator that compares the closing price to its price range over a certain period.   | Commonly uses %K (fast) and %D (slow) lines with periods of 14. Identifies overbought and oversold conditions. |\n",
    "| Moving Average Convergence Divergence (MACD) | Trend-following momentum indicator that shows the relationship between two moving averages.   | Uses two EMAs (e.g., 12-period and 26-period) and a signal line (e.g., 9-period EMA). Signals crossovers for trend changes. |\n",
    "| Bollinger Bands     | Indicator that consists of a moving average and two standard deviation bands above and below it. | Typically uses a 20-period SMA with bands set at 2 standard deviations. Identifies volatility and potential reversal points. |\n",
    "| Volume               | Indicator that measures the number of shares or contracts traded in a security.                | Used to confirm price trends or reversals. High volume confirms the validity of price movements. |\n",
    "| Fibonacci Retracement | Tool used to identify potential support and resistance levels based on Fibonacci ratios.       | Common retracement levels include 38.2%, 50%, and 61.8%. Used to identify areas of potential price reversal. |\n",
    "\n",
    "| Risk Management Technique | Description                                                                                   | Characteristics                                                                                       |\n",
    "|---------------------------|-----------------------------------------------------------------------------------------------|-------------------------------------------------------------------------------------------------------|\n",
    "| Stop-Loss Orders          | Orders placed to limit losses by automatically closing a trade when a predetermined price level is reached. | Set based on technical levels or volatility measures. Helps manage risk and protect capital. |\n",
    "| Trailing Stop-Loss Orders | Stop-loss orders that adjust automatically as the price moves in favor of the trade.          | Locks in profits while allowing for potential upside. Protects against sudden price reversals. |\n",
    "| Position Sizing           | Determines the size of each trade based on risk tolerance and account size.                  | Uses fixed fractional, fixed ratio, or Kelly criterion methods. Helps control risk exposure. |\n",
    "| Risk-Reward Ratio         | Ratio that compares potential profit to potential loss for each trade.                        | Typically aims for a minimum ratio of 2:1 or higher. Helps ensure that potential gains outweigh potential losses. |\n",
    "| Volatility-Based Stops    | Stop-loss levels adjusted based on market volatility.                                         | Utilizes ATR (Average True Range) or volatility bands for setting stop levels. Adapts to market conditions. |\n"
   ]
  },
  {
   "cell_type": "code",
   "execution_count": null,
   "id": "321b0a5f",
   "metadata": {},
   "outputs": [],
   "source": []
  },
  {
   "cell_type": "code",
   "execution_count": null,
   "id": "e77520c5",
   "metadata": {},
   "outputs": [],
   "source": []
  },
  {
   "cell_type": "code",
   "execution_count": null,
   "id": "ed2138ae",
   "metadata": {},
   "outputs": [],
   "source": []
  }
 ],
 "metadata": {
  "kernelspec": {
   "display_name": "Python 3 (ipykernel)",
   "language": "python",
   "name": "python3"
  },
  "language_info": {
   "codemirror_mode": {
    "name": "ipython",
    "version": 3
   },
   "file_extension": ".py",
   "mimetype": "text/x-python",
   "name": "python",
   "nbconvert_exporter": "python",
   "pygments_lexer": "ipython3",
   "version": "3.11.5"
  },
  "nbTranslate": {
   "displayLangs": [
    "*"
   ],
   "hotkey": "alt-t",
   "langInMainMenu": true,
   "sourceLang": "en",
   "targetLang": "fr",
   "useGoogleTranslate": true
  },
  "toc": {
   "base_numbering": 1,
   "nav_menu": {},
   "number_sections": true,
   "sideBar": true,
   "skip_h1_title": false,
   "title_cell": "Table of Contents",
   "title_sidebar": "Contents",
   "toc_cell": false,
   "toc_position": {},
   "toc_section_display": true,
   "toc_window_display": false
  },
  "varInspector": {
   "cols": {
    "lenName": 16,
    "lenType": 16,
    "lenVar": 40
   },
   "kernels_config": {
    "python": {
     "delete_cmd_postfix": "",
     "delete_cmd_prefix": "del ",
     "library": "var_list.py",
     "varRefreshCmd": "print(var_dic_list())"
    },
    "r": {
     "delete_cmd_postfix": ") ",
     "delete_cmd_prefix": "rm(",
     "library": "var_list.r",
     "varRefreshCmd": "cat(var_dic_list()) "
    }
   },
   "types_to_exclude": [
    "module",
    "function",
    "builtin_function_or_method",
    "instance",
    "_Feature"
   ],
   "window_display": false
  }
 },
 "nbformat": 4,
 "nbformat_minor": 5
}
