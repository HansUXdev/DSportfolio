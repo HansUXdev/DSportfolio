{
 "cells": [
  {
   "cell_type": "code",
   "execution_count": 1,
   "metadata": {},
   "outputs": [],
   "source": [
    "# !pip install yfinance numpy pandas scikit-learn statsmodels joblib\n",
    "# # Import necessary libraries\n",
    "# import yfinance as yf\n",
    "# import pandas as pd\n",
    "# import numpy as np\n",
    "\n",
    "\n",
    "# from IPython.core.display import clear_output\n",
    "# clear_output()\n"
   ]
  },
  {
   "cell_type": "code",
   "execution_count": 2,
   "metadata": {},
   "outputs": [
    {
     "ename": "ImportError",
     "evalue": "cannot import name 'optimize_model_hyperparameter' from 'data_forecasting' (c:\\Users\\Administrator\\Desktop\\DataSciencePortfolio\\QuantitativeFinance\\QFA-lib\\src\\data_collection\\data_forecasting.py)",
     "output_type": "error",
     "traceback": [
      "\u001b[1;31m---------------------------------------------------------------------------\u001b[0m",
      "\u001b[1;31mImportError\u001b[0m                               Traceback (most recent call last)",
      "Cell \u001b[1;32mIn[2], line 1\u001b[0m\n\u001b[1;32m----> 1\u001b[0m \u001b[39mfrom\u001b[39;00m \u001b[39mdata_processing\u001b[39;00m \u001b[39mimport\u001b[39;00m load_price_data, rsi, woodie_pivots, calculate_predictive_bands, atr, macd, stochastic_oscillator, ichimoku_cloud\n\u001b[0;32m      2\u001b[0m \u001b[39m# from data_visualization import *\u001b[39;00m\n\u001b[0;32m      3\u001b[0m \u001b[39m# from data_forecasting   import *\u001b[39;00m\n",
      "File \u001b[1;32mc:\\Users\\Administrator\\Desktop\\DataSciencePortfolio\\QuantitativeFinance\\QFA-lib\\src\\data_collection\\data_processing.py:17\u001b[0m\n\u001b[0;32m     14\u001b[0m \u001b[39mfrom\u001b[39;00m \u001b[39mpandas_datareader\u001b[39;00m \u001b[39mimport\u001b[39;00m data \u001b[39mas\u001b[39;00m pdr\n\u001b[0;32m     15\u001b[0m \u001b[39mfrom\u001b[39;00m \u001b[39mdatetime\u001b[39;00m \u001b[39mimport\u001b[39;00m datetime\n\u001b[1;32m---> 17\u001b[0m \u001b[39mfrom\u001b[39;00m \u001b[39mdata_forecasting\u001b[39;00m \u001b[39mimport\u001b[39;00m (arima_forecast, garch_forecast, get_fundamental_ratios, accuracy_score, optimize_model_hyperparameter)\n\u001b[0;32m     18\u001b[0m \u001b[39m############################################################################################################\u001b[39;00m\n\u001b[0;32m     19\u001b[0m \u001b[39m# Utility Functions\u001b[39;00m\n\u001b[0;32m     20\u001b[0m \u001b[39m############################################################################################################\u001b[39;00m\n\u001b[0;32m     21\u001b[0m \u001b[39mdef\u001b[39;00m \u001b[39mcheck_argument_types\u001b[39m(arguments, expected_types):\n",
      "\u001b[1;31mImportError\u001b[0m: cannot import name 'optimize_model_hyperparameter' from 'data_forecasting' (c:\\Users\\Administrator\\Desktop\\DataSciencePortfolio\\QuantitativeFinance\\QFA-lib\\src\\data_collection\\data_forecasting.py)"
     ]
    }
   ],
   "source": [
    "from data_processing import load_price_data, rsi, woodie_pivots, calculate_predictive_bands, atr, macd, stochastic_oscillator, ichimoku_cloud\n",
    "# from data_visualization import *\n",
    "# from data_forecasting   import *"
   ]
  },
  {
   "cell_type": "code",
   "execution_count": null,
   "metadata": {},
   "outputs": [],
   "source": [
    "DownloadSPYData = load_price_data('SPY', '2010-01-01', '2021-01-01')\n",
    "DownloadSPYData.head()\n",
    "technicalData = rsi(DownloadSPYData, 14)\n",
    "technicalData = woodie_pivots(DownloadSPYData)\n",
    "technicalData = calculate_predictive_bands(DownloadSPYData, 20, 2, 2)\n",
    "technicalData = atr(DownloadSPYData, 14)\n",
    "technicalData = macd(DownloadSPYData, 12, 26)\n",
    "technicalData = stochastic_oscillator(DownloadSPYData, 14)\n",
    "technicalData = ichimoku_cloud(DownloadSPYData)\n",
    "technicalData.dropna(inplace=True)\n",
    "# print(technicalData.head())\n",
    "\n"
   ]
  },
  {
   "cell_type": "code",
   "execution_count": null,
   "metadata": {},
   "outputs": [],
   "source": [
    "from data_forecasting import scale_data, create_sequences, build_and_train_model, calculate_metrics, forecast_and_plot, forecast_and_plot_complete"
   ]
  },
  {
   "cell_type": "code",
   "execution_count": null,
   "metadata": {},
   "outputs": [],
   "source": [
    "forecast_and_plot(DownloadSPYData, ['Open', 'High', 'Low', 'Close'], 20)"
   ]
  },
  {
   "cell_type": "code",
   "execution_count": null,
   "metadata": {},
   "outputs": [],
   "source": [
    "forecast_and_plot_complete(DownloadSPYData, ['Open', 'High', 'Low', 'Close'], 20, 0.8, 0.2, 0.2)"
   ]
  },
  {
   "cell_type": "code",
   "execution_count": 3,
   "metadata": {},
   "outputs": [
    {
     "ename": "ImportError",
     "evalue": "cannot import name 'optimize_model_hyperparameter' from 'data_forecasting' (c:\\Users\\Administrator\\Desktop\\DataSciencePortfolio\\QuantitativeFinance\\QFA-lib\\src\\data_collection\\data_forecasting.py)",
     "output_type": "error",
     "traceback": [
      "\u001b[1;31m---------------------------------------------------------------------------\u001b[0m",
      "\u001b[1;31mImportError\u001b[0m                               Traceback (most recent call last)",
      "Cell \u001b[1;32mIn[3], line 2\u001b[0m\n\u001b[0;32m      1\u001b[0m \u001b[39m# import      bollinger_bands, calculate_volume_changes, forecast_future, plot_forecasts,\u001b[39;00m\n\u001b[1;32m----> 2\u001b[0m \u001b[39mfrom\u001b[39;00m \u001b[39mdata_processing\u001b[39;00m \u001b[39mimport\u001b[39;00m bollinger_bands, calculate_volume_changes\n\u001b[0;32m      3\u001b[0m \u001b[39mfrom\u001b[39;00m \u001b[39mdata_forecasting\u001b[39;00m \u001b[39mimport\u001b[39;00m (forecast_future, arima_forecast, garch_forecast, get_fundamental_ratios, accuracy_score, optimize_model_hyperparameter)\n\u001b[0;32m      5\u001b[0m \u001b[39mdef\u001b[39;00m \u001b[39mvolume_forecasting\u001b[39m(ticker, start_date, end_date, seq_length, future_days\u001b[39m=\u001b[39m\u001b[39m10\u001b[39m):\n\u001b[0;32m      6\u001b[0m     \u001b[39m# Load price data\u001b[39;00m\n",
      "File \u001b[1;32mc:\\Users\\Administrator\\Desktop\\DataSciencePortfolio\\QuantitativeFinance\\QFA-lib\\src\\data_collection\\data_processing.py:17\u001b[0m\n\u001b[0;32m     14\u001b[0m \u001b[39mfrom\u001b[39;00m \u001b[39mpandas_datareader\u001b[39;00m \u001b[39mimport\u001b[39;00m data \u001b[39mas\u001b[39;00m pdr\n\u001b[0;32m     15\u001b[0m \u001b[39mfrom\u001b[39;00m \u001b[39mdatetime\u001b[39;00m \u001b[39mimport\u001b[39;00m datetime\n\u001b[1;32m---> 17\u001b[0m \u001b[39mfrom\u001b[39;00m \u001b[39mdata_forecasting\u001b[39;00m \u001b[39mimport\u001b[39;00m (arima_forecast, garch_forecast, get_fundamental_ratios, accuracy_score, optimize_model_hyperparameter)\n\u001b[0;32m     18\u001b[0m \u001b[39m############################################################################################################\u001b[39;00m\n\u001b[0;32m     19\u001b[0m \u001b[39m# Utility Functions\u001b[39;00m\n\u001b[0;32m     20\u001b[0m \u001b[39m############################################################################################################\u001b[39;00m\n\u001b[0;32m     21\u001b[0m \u001b[39mdef\u001b[39;00m \u001b[39mcheck_argument_types\u001b[39m(arguments, expected_types):\n",
      "\u001b[1;31mImportError\u001b[0m: cannot import name 'optimize_model_hyperparameter' from 'data_forecasting' (c:\\Users\\Administrator\\Desktop\\DataSciencePortfolio\\QuantitativeFinance\\QFA-lib\\src\\data_collection\\data_forecasting.py)"
     ]
    }
   ],
   "source": [
    "# import      bollinger_bands, calculate_volume_changes, forecast_future, plot_forecasts,\n",
    "from data_processing import bollinger_bands, calculate_volume_changes\n",
    "from data_forecasting import (forecast_future, arima_forecast, garch_forecast, get_fundamental_ratios, accuracy_score, optimize_model_hyperparameter)\n",
    "\n",
    "def volume_forecasting(ticker, start_date, end_date, seq_length, future_days=10):\n",
    "    # Load price data\n",
    "    stock_data = load_price_data(ticker, start=start_date, end=end_date)\n",
    "    \n",
    "    # Calculate technical indicators\n",
    "    stock_data = bollinger_bands(stock_data, 20, 2)\n",
    "    stock_data = macd(stock_data)\n",
    "    stock_data = rsi(stock_data)\n",
    "    stock_data = woodie_pivots(stock_data)\n",
    "    stock_data = atr(stock_data)\n",
    "    stock_data = stochastic_oscillator(stock_data)\n",
    "    stock_data = calculate_volume_changes(stock_data, 'Volume')\n",
    "\n",
    "    # Select features for forecasting\n",
    "    features = ['Volume', 'MACD', 'Signal Line', 'RSI', 'ATR', '%K', '%D']\n",
    "    scaler, scaled_data = scale_data(stock_data[features].values, features)\n",
    "    \n",
    "    X, y = create_sequences(scaled_data, seq_length)\n",
    "    split_idx = int(len(X) * 0.8)\n",
    "    X_train, y_train = X[:split_idx], y[:split_idx]\n",
    "    X_test, y_test = X[split_idx:], y[split_idx:]\n",
    "    \n",
    "    num_features = len(features)\n",
    "    X_train = X_train.reshape((X_train.shape[0], seq_length, num_features))\n",
    "    X_test = X_test.reshape((X_test.shape[0], seq_length, num_features))\n",
    "    \n",
    "    model = build_and_train_model(X_train, y_train, seq_length, num_features, epochs=50, batch_size=32)\n",
    "    \n",
    "    # Generate predictions for the test set\n",
    "    predicted_values_test = model.predict(X_test)\n",
    "    mae, mse, rmse = calculate_metrics(scaler.inverse_transform(y_test), scaler.inverse_transform(predicted_values_test))\n",
    "    print(f\"Test Set - MAE: {mae}, MSE: {mse}, RMSE: {rmse}\")\n",
    "    \n",
    "    # Forecast future volume\n",
    "    future_predictions = forecast_future(stock_data, model, scaler, seq_length, num_features, future_days)\n",
    "    \n",
    "    # Plot forecasts\n",
    "    plot_forecasts(stock_data, predicted_values_test, y_test, seq_length, split_idx, scaler)\n",
    "    \n",
    "    # Plot future predictions\n",
    "    future_dates = pd.date_range(start=stock_data.index[-1], periods=future_days+1, closed='right')\n",
    "    plt.figure(figsize=(14, 7))\n",
    "    plt.plot(future_dates, future_predictions[:, 0], marker='o', linestyle='dashed', label='Forecasted Volume')\n",
    "    plt.title('Future Volume Forecast')\n",
    "    plt.xlabel('Date')\n",
    "    plt.ylabel('Volume')\n",
    "    plt.legend()\n",
    "    plt.show()\n",
    "\n",
    "# Run the volume forecasting example\n",
    "volume_forecasting('AAPL', '2010-01-01', '2020-01-01', seq_length=60, future_days=10)"
   ]
  },
  {
   "cell_type": "code",
   "execution_count": null,
   "metadata": {},
   "outputs": [],
   "source": []
  }
 ],
 "metadata": {
  "kernelspec": {
   "display_name": "jupyter-ai",
   "language": "python",
   "name": "python3"
  },
  "language_info": {
   "codemirror_mode": {
    "name": "ipython",
    "version": 3
   },
   "file_extension": ".py",
   "mimetype": "text/x-python",
   "name": "python",
   "nbconvert_exporter": "python",
   "pygments_lexer": "ipython3",
   "version": "3.11.7"
  },
  "orig_nbformat": 4
 },
 "nbformat": 4,
 "nbformat_minor": 2
}
