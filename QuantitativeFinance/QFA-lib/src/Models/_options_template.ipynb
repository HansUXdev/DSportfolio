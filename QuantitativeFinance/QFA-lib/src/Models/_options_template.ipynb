{
 "cells": [
  {
   "attachments": {},
   "cell_type": "markdown",
   "metadata": {},
   "source": [
    "# Abstract\n"
   ]
  },
  {
   "cell_type": "code",
   "execution_count": 25,
   "metadata": {},
   "outputs": [
    {
     "name": "stdout",
     "output_type": "stream",
     "text": [
      "Requirement already satisfied: numpy in c:\\programdata\\anaconda3\\envs\\jupyter-ai\\lib\\site-packages (1.26.4)\n",
      "Requirement already satisfied: pandas in c:\\programdata\\anaconda3\\envs\\jupyter-ai\\lib\\site-packages (2.2.2)\n",
      "Requirement already satisfied: datetime in c:\\programdata\\anaconda3\\envs\\jupyter-ai\\lib\\site-packages (5.4)\n",
      "Requirement already satisfied: timedelta in c:\\programdata\\anaconda3\\envs\\jupyter-ai\\lib\\site-packages (2020.12.3)\n",
      "Requirement already satisfied: yfinance in c:\\programdata\\anaconda3\\envs\\jupyter-ai\\lib\\site-packages (0.2.35)\n",
      "Requirement already satisfied: yahoo_fin in c:\\programdata\\anaconda3\\envs\\jupyter-ai\\lib\\site-packages (0.8.9.1)\n",
      "Requirement already satisfied: yoptions in c:\\programdata\\anaconda3\\envs\\jupyter-ai\\lib\\site-packages (0.0.4)\n",
      "Requirement already satisfied: optionlab in c:\\programdata\\anaconda3\\envs\\jupyter-ai\\lib\\site-packages (1.2.0)\n",
      "Requirement already satisfied: freeoptionschain in c:\\programdata\\anaconda3\\envs\\jupyter-ai\\lib\\site-packages (0.8)\n",
      "Requirement already satisfied: eod in c:\\programdata\\anaconda3\\envs\\jupyter-ai\\lib\\site-packages (0.2.1)\n",
      "Requirement already satisfied: python-dateutil>=2.8.2 in c:\\programdata\\anaconda3\\envs\\jupyter-ai\\lib\\site-packages (from pandas) (2.9.0.post0)\n",
      "Requirement already satisfied: pytz>=2020.1 in c:\\programdata\\anaconda3\\envs\\jupyter-ai\\lib\\site-packages (from pandas) (2024.1)\n",
      "Requirement already satisfied: tzdata>=2022.7 in c:\\programdata\\anaconda3\\envs\\jupyter-ai\\lib\\site-packages (from pandas) (2024.1)\n",
      "Requirement already satisfied: zope.interface in c:\\programdata\\anaconda3\\envs\\jupyter-ai\\lib\\site-packages (from datetime) (6.2)\n",
      "Requirement already satisfied: requests>=2.31 in c:\\programdata\\anaconda3\\envs\\jupyter-ai\\lib\\site-packages (from yfinance) (2.31.0)\n",
      "Requirement already satisfied: multitasking>=0.0.7 in c:\\programdata\\anaconda3\\envs\\jupyter-ai\\lib\\site-packages (from yfinance) (0.0.11)\n",
      "Requirement already satisfied: lxml>=4.9.1 in c:\\programdata\\anaconda3\\envs\\jupyter-ai\\lib\\site-packages (from yfinance) (5.1.0)\n",
      "Requirement already satisfied: appdirs>=1.4.4 in c:\\programdata\\anaconda3\\envs\\jupyter-ai\\lib\\site-packages (from yfinance) (1.4.4)\n",
      "Requirement already satisfied: frozendict>=2.3.4 in c:\\programdata\\anaconda3\\envs\\jupyter-ai\\lib\\site-packages (from yfinance) (2.4.0)\n",
      "Requirement already satisfied: peewee>=3.16.2 in c:\\programdata\\anaconda3\\envs\\jupyter-ai\\lib\\site-packages (from yfinance) (3.17.1)\n",
      "Requirement already satisfied: beautifulsoup4>=4.11.1 in c:\\programdata\\anaconda3\\envs\\jupyter-ai\\lib\\site-packages (from yfinance) (4.12.3)\n",
      "Requirement already satisfied: html5lib>=1.1 in c:\\programdata\\anaconda3\\envs\\jupyter-ai\\lib\\site-packages (from yfinance) (1.1)\n",
      "Requirement already satisfied: requests-html in c:\\programdata\\anaconda3\\envs\\jupyter-ai\\lib\\site-packages (from yahoo_fin) (0.10.0)\n",
      "Requirement already satisfied: feedparser in c:\\programdata\\anaconda3\\envs\\jupyter-ai\\lib\\site-packages (from yahoo_fin) (6.0.11)\n",
      "Requirement already satisfied: xmltodict in c:\\programdata\\anaconda3\\envs\\jupyter-ai\\lib\\site-packages (from yoptions) (0.13.0)\n",
      "Requirement already satisfied: holidays<0.45,>=0.44 in c:\\programdata\\anaconda3\\envs\\jupyter-ai\\lib\\site-packages (from optionlab) (0.44)\n",
      "Requirement already satisfied: matplotlib<4.0.0,>=3.8.3 in c:\\programdata\\anaconda3\\envs\\jupyter-ai\\lib\\site-packages (from optionlab) (3.8.3)\n",
      "Requirement already satisfied: pydantic<3.0.0,>=2.6.3 in c:\\programdata\\anaconda3\\envs\\jupyter-ai\\lib\\site-packages (from optionlab) (2.6.4)\n",
      "Requirement already satisfied: scipy<2.0.0,>=1.12.0 in c:\\programdata\\anaconda3\\envs\\jupyter-ai\\lib\\site-packages (from optionlab) (1.12.0)\n",
      "Requirement already satisfied: urllib3 in c:\\programdata\\anaconda3\\envs\\jupyter-ai\\lib\\site-packages (from freeoptionschain) (1.26.18)\n",
      "Requirement already satisfied: build in c:\\programdata\\anaconda3\\envs\\jupyter-ai\\lib\\site-packages (from freeoptionschain) (1.2.1)\n",
      "Requirement already satisfied: cython in c:\\programdata\\anaconda3\\envs\\jupyter-ai\\lib\\site-packages (from freeoptionschain) (3.0.10)\n",
      "Requirement already satisfied: soupsieve>1.2 in c:\\programdata\\anaconda3\\envs\\jupyter-ai\\lib\\site-packages (from beautifulsoup4>=4.11.1->yfinance) (2.5)\n",
      "Requirement already satisfied: six>=1.9 in c:\\programdata\\anaconda3\\envs\\jupyter-ai\\lib\\site-packages (from html5lib>=1.1->yfinance) (1.16.0)\n",
      "Requirement already satisfied: webencodings in c:\\programdata\\anaconda3\\envs\\jupyter-ai\\lib\\site-packages (from html5lib>=1.1->yfinance) (0.5.1)\n",
      "Requirement already satisfied: contourpy>=1.0.1 in c:\\programdata\\anaconda3\\envs\\jupyter-ai\\lib\\site-packages (from matplotlib<4.0.0,>=3.8.3->optionlab) (1.2.0)\n",
      "Requirement already satisfied: cycler>=0.10 in c:\\programdata\\anaconda3\\envs\\jupyter-ai\\lib\\site-packages (from matplotlib<4.0.0,>=3.8.3->optionlab) (0.12.1)\n",
      "Requirement already satisfied: fonttools>=4.22.0 in c:\\programdata\\anaconda3\\envs\\jupyter-ai\\lib\\site-packages (from matplotlib<4.0.0,>=3.8.3->optionlab) (4.50.0)\n",
      "Requirement already satisfied: kiwisolver>=1.3.1 in c:\\programdata\\anaconda3\\envs\\jupyter-ai\\lib\\site-packages (from matplotlib<4.0.0,>=3.8.3->optionlab) (1.4.5)\n",
      "Requirement already satisfied: packaging>=20.0 in c:\\programdata\\anaconda3\\envs\\jupyter-ai\\lib\\site-packages (from matplotlib<4.0.0,>=3.8.3->optionlab) (23.2)\n",
      "Requirement already satisfied: pillow>=8 in c:\\programdata\\anaconda3\\envs\\jupyter-ai\\lib\\site-packages (from matplotlib<4.0.0,>=3.8.3->optionlab) (10.2.0)\n",
      "Requirement already satisfied: pyparsing>=2.3.1 in c:\\programdata\\anaconda3\\envs\\jupyter-ai\\lib\\site-packages (from matplotlib<4.0.0,>=3.8.3->optionlab) (3.1.2)\n",
      "Requirement already satisfied: annotated-types>=0.4.0 in c:\\programdata\\anaconda3\\envs\\jupyter-ai\\lib\\site-packages (from pydantic<3.0.0,>=2.6.3->optionlab) (0.6.0)\n",
      "Requirement already satisfied: pydantic-core==2.16.3 in c:\\programdata\\anaconda3\\envs\\jupyter-ai\\lib\\site-packages (from pydantic<3.0.0,>=2.6.3->optionlab) (2.16.3)\n",
      "Requirement already satisfied: typing-extensions>=4.6.1 in c:\\programdata\\anaconda3\\envs\\jupyter-ai\\lib\\site-packages (from pydantic<3.0.0,>=2.6.3->optionlab) (4.10.0)\n",
      "Requirement already satisfied: charset-normalizer<4,>=2 in c:\\programdata\\anaconda3\\envs\\jupyter-ai\\lib\\site-packages (from requests>=2.31->yfinance) (3.3.2)\n",
      "Requirement already satisfied: idna<4,>=2.5 in c:\\programdata\\anaconda3\\envs\\jupyter-ai\\lib\\site-packages (from requests>=2.31->yfinance) (3.6)\n",
      "Requirement already satisfied: certifi>=2017.4.17 in c:\\programdata\\anaconda3\\envs\\jupyter-ai\\lib\\site-packages (from requests>=2.31->yfinance) (2024.2.2)\n",
      "Requirement already satisfied: pyproject_hooks in c:\\programdata\\anaconda3\\envs\\jupyter-ai\\lib\\site-packages (from build->freeoptionschain) (1.0.0)\n",
      "Requirement already satisfied: colorama in c:\\programdata\\anaconda3\\envs\\jupyter-ai\\lib\\site-packages (from build->freeoptionschain) (0.4.6)\n",
      "Requirement already satisfied: sgmllib3k in c:\\programdata\\anaconda3\\envs\\jupyter-ai\\lib\\site-packages (from feedparser->yahoo_fin) (1.0.0)\n",
      "Requirement already satisfied: pyquery in c:\\programdata\\anaconda3\\envs\\jupyter-ai\\lib\\site-packages (from requests-html->yahoo_fin) (2.0.0)\n",
      "Requirement already satisfied: fake-useragent in c:\\programdata\\anaconda3\\envs\\jupyter-ai\\lib\\site-packages (from requests-html->yahoo_fin) (1.5.1)\n",
      "Requirement already satisfied: parse in c:\\programdata\\anaconda3\\envs\\jupyter-ai\\lib\\site-packages (from requests-html->yahoo_fin) (1.20.1)\n",
      "Requirement already satisfied: bs4 in c:\\programdata\\anaconda3\\envs\\jupyter-ai\\lib\\site-packages (from requests-html->yahoo_fin) (0.0.2)\n",
      "Requirement already satisfied: w3lib in c:\\programdata\\anaconda3\\envs\\jupyter-ai\\lib\\site-packages (from requests-html->yahoo_fin) (2.1.2)\n",
      "Requirement already satisfied: pyppeteer>=0.0.14 in c:\\programdata\\anaconda3\\envs\\jupyter-ai\\lib\\site-packages (from requests-html->yahoo_fin) (2.0.0)\n",
      "Requirement already satisfied: setuptools in c:\\programdata\\anaconda3\\envs\\jupyter-ai\\lib\\site-packages (from zope.interface->datetime) (69.2.0)\n",
      "Requirement already satisfied: importlib-metadata>=1.4 in c:\\programdata\\anaconda3\\envs\\jupyter-ai\\lib\\site-packages (from pyppeteer>=0.0.14->requests-html->yahoo_fin) (7.0.0)\n",
      "Requirement already satisfied: pyee<12.0.0,>=11.0.0 in c:\\programdata\\anaconda3\\envs\\jupyter-ai\\lib\\site-packages (from pyppeteer>=0.0.14->requests-html->yahoo_fin) (11.1.0)\n",
      "Requirement already satisfied: tqdm<5.0.0,>=4.42.1 in c:\\programdata\\anaconda3\\envs\\jupyter-ai\\lib\\site-packages (from pyppeteer>=0.0.14->requests-html->yahoo_fin) (4.66.2)\n",
      "Requirement already satisfied: websockets<11.0,>=10.0 in c:\\programdata\\anaconda3\\envs\\jupyter-ai\\lib\\site-packages (from pyppeteer>=0.0.14->requests-html->yahoo_fin) (10.4)\n",
      "Requirement already satisfied: cssselect>=1.2.0 in c:\\programdata\\anaconda3\\envs\\jupyter-ai\\lib\\site-packages (from pyquery->requests-html->yahoo_fin) (1.2.0)\n",
      "Requirement already satisfied: zipp>=0.5 in c:\\programdata\\anaconda3\\envs\\jupyter-ai\\lib\\site-packages (from importlib-metadata>=1.4->pyppeteer>=0.0.14->requests-html->yahoo_fin) (3.18.1)\n"
     ]
    }
   ],
   "source": [
    "!pip install numpy pandas datetime timedelta yfinance yahoo_fin yoptions optionlab freeoptionschain eod\n",
    "# from IPython.core.display import clear_output\n",
    "# clear_output()"
   ]
  },
  {
   "attachments": {},
   "cell_type": "markdown",
   "metadata": {},
   "source": [
    "## 1. Data Collection & Technical Analysis "
   ]
  },
  {
   "cell_type": "code",
   "execution_count": 29,
   "metadata": {},
   "outputs": [],
   "source": [
    "import pandas as pd\n",
    "import numpy as np\n",
    "import yfinance as yf\n",
    "import pandas_datareader.data as pdr\n",
    "import datetime"
   ]
  },
  {
   "attachments": {},
   "cell_type": "markdown",
   "metadata": {},
   "source": [
    "### 1.1 Data Sources"
   ]
  },
  {
   "cell_type": "code",
   "execution_count": 30,
   "metadata": {},
   "outputs": [
    {
     "data": {
      "text/plain": [
       "'\\n# EOD for real time or 30 years of data (https://eodhd.com/) or (https://pypi.org/project/eod/)\\n'"
      ]
     },
     "execution_count": 30,
     "metadata": {},
     "output_type": "execute_result"
    }
   ],
   "source": [
    "# Options Data Sources\n",
    "# import yahoo_fin as yf \n",
    "import yoptions as yo\n",
    "import optionlab as ol\n",
    "# import freeoptionschain as foc\n",
    "\n",
    "# Premium Options Data\n",
    "\"\"\"\n",
    "# EOD for real time or 30 years of data (https://eodhd.com/) or (https://pypi.org/project/eod/)\n",
    "\"\"\""
   ]
  },
  {
   "cell_type": "code",
   "execution_count": 31,
   "metadata": {},
   "outputs": [],
   "source": [
    "# Define the time period\n",
    "start = datetime.datetime(2020, 1, 1)\n",
    "end = datetime.datetime.now()  # This will set the end date to today's date\n",
    "\n",
    "# Ensure to use the date component only if necessary\n",
    "end = end.date()  # Converts datetime object to a date object, removing time component if not needed"
   ]
  },
  {
   "cell_type": "code",
   "execution_count": 32,
   "metadata": {},
   "outputs": [
    {
     "name": "stderr",
     "output_type": "stream",
     "text": [
      "c:\\ProgramData\\anaconda3\\envs\\jupyter-ai\\Lib\\site-packages\\yfinance\\utils.py:775: FutureWarning: The 'unit' keyword in TimedeltaIndex construction is deprecated and will be removed in a future version. Use pd.to_timedelta instead.\n",
      "  df.index += _pd.TimedeltaIndex(dst_error_hours, 'h')\n",
      "[*********************100%%**********************]  1 of 1 completed"
     ]
    },
    {
     "name": "stdout",
     "output_type": "stream",
     "text": [
      "                  Open        High         Low       Close   Adj Close  \\\n",
      "Date                                                                     \n",
      "2024-05-28  191.509995  193.000000  189.100006  189.990005  189.990005   \n",
      "2024-05-29  189.610001  192.250000  189.509995  190.289993  190.289993   \n",
      "2024-05-30  190.759995  192.179993  190.630005  191.289993  191.289993   \n",
      "2024-05-31  191.440002  192.570007  189.910004  192.250000  192.250000   \n",
      "2024-06-03  192.899994  194.990005  192.520004  194.029999  194.029999   \n",
      "2024-06-04  194.639999  195.320007  193.029999  194.350006  194.350006   \n",
      "2024-06-05  195.399994  196.899994  194.869995  195.869995  195.869995   \n",
      "2024-06-06  195.690002  196.500000  194.169998  194.479996  194.479996   \n",
      "2024-06-07  194.649994  196.940002  194.139999  196.889999  196.889999   \n",
      "2024-06-10  196.899994  197.300003  192.149994  193.119995  193.119995   \n",
      "\n",
      "              Volume  Bollinger High  Bollinger Low  Pivot Point          R1  \\\n",
      "Date                                                                           \n",
      "2024-05-28  52280100      198.415749     171.063252   190.520004  191.940002   \n",
      "2024-05-29  53068000      197.804796     173.670204   190.584995  191.659996   \n",
      "2024-05-30  49947900      196.331088     177.342911   191.347496  192.064987   \n",
      "2024-05-31  75158300      195.028796     180.567203   191.745003  193.580002   \n",
      "2024-06-03  50080500      195.757321     180.903677   193.892502  195.264999   \n",
      "2024-06-04  47471400      196.165044     181.759955   194.262505  195.495010   \n",
      "2024-06-05  54156800      196.773580     182.498418   195.877495  196.884995   \n",
      "2024-06-06  41181800      196.888025     183.557972   194.907497  195.644997   \n",
      "2024-06-07  53103900      197.581023     184.096974   196.215000  198.290001   \n",
      "2024-06-10  97262100      197.061810     185.623186   193.922497  195.695000   \n",
      "\n",
      "            ...  R3_Strike  S3_Strike  R4_Strike  Bearcall_Spread_width  \\\n",
      "Date        ...                                                           \n",
      "2024-05-28  ...      198.0      183.0      202.0                    1.0   \n",
      "2024-05-29  ...      196.0      185.0      199.0                    1.0   \n",
      "2024-05-30  ...      194.0      188.0      196.0                    1.0   \n",
      "2024-05-31  ...      197.0      186.0      200.0                    2.0   \n",
      "2024-06-03  ...      199.0      189.0      201.0                    1.0   \n",
      "2024-06-04  ...      199.0      190.0      201.0                    1.0   \n",
      "2024-06-05  ...      200.0      192.0      202.0                    1.0   \n",
      "2024-06-06  ...      200.0      190.0      202.0                    1.0   \n",
      "2024-06-07  ...      202.0      191.0      205.0                    2.0   \n",
      "2024-06-10  ...      204.0      184.0      209.0                    2.0   \n",
      "\n",
      "            Bullput_Spread_width  Bearcall_Spread_width_2  \\\n",
      "Date                                                        \n",
      "2024-05-28                   3.0                      3.0   \n",
      "2024-05-29                   2.0                      2.0   \n",
      "2024-05-30                   0.0                      2.0   \n",
      "2024-05-31                   1.0                      2.0   \n",
      "2024-06-03                   1.0                      2.0   \n",
      "2024-06-04                   1.0                      3.0   \n",
      "2024-06-05                   1.0                      2.0   \n",
      "2024-06-06                   2.0                      2.0   \n",
      "2024-06-07                   1.0                      3.0   \n",
      "2024-06-10                   3.0                      5.0   \n",
      "\n",
      "            Bullput_Spread_width_2  Bearcall_Spread_width_3  \\\n",
      "Date                                                          \n",
      "2024-05-28                     4.0                      7.0   \n",
      "2024-05-29                     3.0                      5.0   \n",
      "2024-05-30                     1.0                      3.0   \n",
      "2024-05-31                     3.0                      5.0   \n",
      "2024-06-03                     3.0                      5.0   \n",
      "2024-06-04                     2.0                      5.0   \n",
      "2024-06-05                     2.0                      4.0   \n",
      "2024-06-06                     2.0                      5.0   \n",
      "2024-06-07                     3.0                      6.0   \n",
      "2024-06-10                     5.0                     10.0   \n",
      "\n",
      "            Bullput_Spread_width_3  BB_Spread  \n",
      "Date                                           \n",
      "2024-05-28                     8.0       27.0  \n",
      "2024-05-29                     6.0       24.0  \n",
      "2024-05-30                     3.0       19.0  \n",
      "2024-05-31                     6.0       14.0  \n",
      "2024-06-03                     5.0       15.0  \n",
      "2024-06-04                     4.0       14.0  \n",
      "2024-06-05                     4.0       15.0  \n",
      "2024-06-06                     5.0       13.0  \n",
      "2024-06-07                     5.0       14.0  \n",
      "2024-06-10                    10.0       11.0  \n",
      "\n",
      "[10 rows x 33 columns]\n"
     ]
    },
    {
     "name": "stderr",
     "output_type": "stream",
     "text": [
      "\n"
     ]
    }
   ],
   "source": [
    "# Function to fetch option Greeks for given strikes\n",
    "def get_option_greeks_for_strikes(ticker, strikes):\n",
    "    # Get the options data for the given ticker\n",
    "    stock = yf.Ticker(ticker)\n",
    "    options_data = {}\n",
    "\n",
    "    # Iterate through expiration dates and strikes\n",
    "    for expiration in stock.options:\n",
    "        opt = stock.option_chain(expiration)\n",
    "        all_options = pd.concat([opt.calls, opt.puts])\n",
    "        selected_options = all_options[all_options['strike'].isin(strikes)]\n",
    "        \n",
    "        # Fetch the Greeks for the selected options\n",
    "        for index, row in selected_options.iterrows():\n",
    "            greeks = (row['delta'], row['gamma'], row['theta'], row['vega'], row['rho'])\n",
    "            strike = row['strike']\n",
    "            options_data[strike] = greeks\n",
    "\n",
    "    return options_data\n",
    "\n",
    "def get_daily_woodies_pivots_with_bollinger(ticker, start_date, end_date, window=20, no_of_stds=2, strike_increment=1):\n",
    "    # Fetch historical daily data\n",
    "    data = yf.download(ticker, start=start_date, end=end_date, interval='1d')\n",
    "    \n",
    "    # Calculate Bollinger Bands\n",
    "    rolling_mean = data['Close'].rolling(window=window).mean()\n",
    "    rolling_std = data['Close'].rolling(window=window).std()\n",
    "    data['Bollinger High'] = rolling_mean + (rolling_std * no_of_stds)\n",
    "    data['Bollinger Low'] = rolling_mean - (rolling_std * no_of_stds)\n",
    "    \n",
    "\n",
    "    # Calculate Woodie's pivot points\n",
    "    data['Pivot Point'] = (data['High'] + data['Low'] + 2 * data['Close']) / 4\n",
    "    data['R1'] = 2 * data['Pivot Point'] - data['Low']\n",
    "    data['S1'] = 2 * data['Pivot Point'] - data['High']\n",
    "    data['R2'] = data['Pivot Point'] + (data['High'] - data['Low'])     \n",
    "    data['S2'] = data['Pivot Point'] - (data['High'] - data['Low'])\n",
    "    data['R3'] = data['Pivot Point'] + 2 * (data['High'] - data['Low'])\n",
    "    data['S3'] = data['Pivot Point'] - 2 * (data['High'] - data['Low']) \n",
    "    data['R4'] = data['Pivot Point'] + 3 * (data['High'] - data['Low'])\n",
    "\n",
    "    # Round Bollinger Bands and pivot points to the nearest strike\n",
    "    rounding_columns = ['Bollinger High', 'Bollinger Low', 'Pivot Point', 'R1', 'S1', 'R2', 'S2', 'R3', 'S3', 'R4']\n",
    "    for column in rounding_columns:\n",
    "        data[column + '_Strike'] = np.round(data[column] / strike_increment) * strike_increment\n",
    "\n",
    "    # Spreads between the pivot points\n",
    "    data['Bearcall_Spread_width'] = data['R1_Strike'] - data['Pivot Point_Strike']\n",
    "    data['Bullput_Spread_width'] = data['Pivot Point_Strike'] - data['S1_Strike']\n",
    "    \n",
    "    data['Bearcall_Spread_width_2'] = data['R2_Strike'] - data['Pivot Point_Strike']\n",
    "    data['Bullput_Spread_width_2'] = data['Pivot Point_Strike'] - data['S2_Strike']\n",
    "    \n",
    "    data['Bearcall_Spread_width_3'] = data['R3_Strike'] - data['Pivot Point_Strike']\n",
    "    data['Bullput_Spread_width_3'] = data['Pivot Point_Strike'] - data['S3_Strike']\n",
    "\n",
    "    data['BB_Spread'] = data['Bollinger High_Strike'] - data['Bollinger Low_Strike']\n",
    "\n",
    "    # Percentage change for the spread\n",
    "    # data['Bearcall_Spread_Percentage'] = data['Bearcall_Spread_width'] / data['Close']\n",
    "    # data['Bullput_Spread_Percentage'] = data['Bullput_SBullput_Spread_widthpread_'] / data['Close']\n",
    "    \n",
    "    return data\n",
    "\n",
    "# Define the ticker symbol\n",
    "Strikes = get_daily_woodies_pivots_with_bollinger('AAPL', start, end) \n",
    "print(Strikes.tail(10))"
   ]
  },
  {
   "cell_type": "code",
   "execution_count": 11,
   "metadata": {},
   "outputs": [],
   "source": [
    "index_funds = ['SPY', 'QQQ', 'DAX']\n",
    "leveraged_etfs = ['TQQQ', 'UMDD', 'UDOW', 'SOXL', 'NVDL', 'TSLL']\n",
    "monthly_dividend_reits_etfs = ['O', 'AGNC', 'CSHI', 'JEPI', 'NUSI']\n",
    "quarterly_dividend_stocks = [\n",
    "    'SPYD', 'MSFT', 'INTC', 'F', 'CSCO', 'BAC', 'PFE', 'BX', 'MO', \n",
    "    'DOW', 'WMT', 'T', 'KMB', 'SWK', 'IBM', 'PEP', 'KO', 'JNJ'\n",
    "]\n",
    "hedging = ['VIX', 'UVXY', 'SPXS' ]"
   ]
  },
  {
   "cell_type": "code",
   "execution_count": 1,
   "metadata": {},
   "outputs": [
    {
     "ename": "ValueError",
     "evalue": "Expiration `2024-06-12` cannot be found. Available expirations are: [2024-06-12, 2024-06-13, 2024-06-14, 2024-06-17, 2024-06-18, 2024-06-20, 2024-06-21, 2024-06-28, 2024-07-05, 2024-07-12, 2024-07-19, 2024-07-26, 2024-07-31, 2024-08-16, 2024-08-30, 2024-09-20, 2024-09-30, 2024-10-18, 2024-10-31, 2024-11-15, 2024-11-29, 2024-12-20, 2024-12-31, 2025-01-17, 2025-01-31, 2025-03-21, 2025-03-31, 2025-06-20, 2025-09-19, 2025-12-19, 2026-01-16, 2026-06-18, 2026-12-18]",
     "output_type": "error",
     "traceback": [
      "\u001b[1;31m---------------------------------------------------------------------------\u001b[0m",
      "\u001b[1;31mValueError\u001b[0m                                Traceback (most recent call last)",
      "Cell \u001b[1;32mIn[1], line 7\u001b[0m\n\u001b[0;32m      5\u001b[0m \u001b[39m# Download options data for SPY\u001b[39;00m\n\u001b[0;32m      6\u001b[0m spy \u001b[39m=\u001b[39m yf\u001b[39m.\u001b[39mTicker(\u001b[39m\"\u001b[39m\u001b[39mSPY\u001b[39m\u001b[39m\"\u001b[39m)\n\u001b[1;32m----> 7\u001b[0m options \u001b[39m=\u001b[39m spy\u001b[39m.\u001b[39;49moption_chain(date\u001b[39m=\u001b[39;49mdate\u001b[39m.\u001b[39;49mtoday() \u001b[39m+\u001b[39;49m timedelta(days\u001b[39m=\u001b[39;49m\u001b[39m0\u001b[39;49m))\n\u001b[0;32m      9\u001b[0m \u001b[39m# Convert options data to dataframes\u001b[39;00m\n\u001b[0;32m     10\u001b[0m calls \u001b[39m=\u001b[39m pd\u001b[39m.\u001b[39mDataFrame(options\u001b[39m.\u001b[39mcalls)\n",
      "File \u001b[1;32mc:\\ProgramData\\anaconda3\\envs\\jupyter-ai\\Lib\\site-packages\\yfinance\\ticker.py:90\u001b[0m, in \u001b[0;36mTicker.option_chain\u001b[1;34m(self, date, tz)\u001b[0m\n\u001b[0;32m     88\u001b[0m     \u001b[39mself\u001b[39m\u001b[39m.\u001b[39m_download_options()\n\u001b[0;32m     89\u001b[0m \u001b[39mif\u001b[39;00m date \u001b[39mnot\u001b[39;00m \u001b[39min\u001b[39;00m \u001b[39mself\u001b[39m\u001b[39m.\u001b[39m_expirations:\n\u001b[1;32m---> 90\u001b[0m     \u001b[39mraise\u001b[39;00m \u001b[39mValueError\u001b[39;00m(\n\u001b[0;32m     91\u001b[0m         \u001b[39mf\u001b[39m\u001b[39m\"\u001b[39m\u001b[39mExpiration `\u001b[39m\u001b[39m{\u001b[39;00mdate\u001b[39m}\u001b[39;00m\u001b[39m` cannot be found. \u001b[39m\u001b[39m\"\u001b[39m\n\u001b[0;32m     92\u001b[0m         \u001b[39mf\u001b[39m\u001b[39m\"\u001b[39m\u001b[39mAvailable expirations are: [\u001b[39m\u001b[39m{\u001b[39;00m\u001b[39m'\u001b[39m\u001b[39m, \u001b[39m\u001b[39m'\u001b[39m\u001b[39m.\u001b[39mjoin(\u001b[39mself\u001b[39m\u001b[39m.\u001b[39m_expirations)\u001b[39m}\u001b[39;00m\u001b[39m]\u001b[39m\u001b[39m\"\u001b[39m)\n\u001b[0;32m     93\u001b[0m date \u001b[39m=\u001b[39m \u001b[39mself\u001b[39m\u001b[39m.\u001b[39m_expirations[date]\n\u001b[0;32m     94\u001b[0m options \u001b[39m=\u001b[39m \u001b[39mself\u001b[39m\u001b[39m.\u001b[39m_download_options(date)\n",
      "\u001b[1;31mValueError\u001b[0m: Expiration `2024-06-12` cannot be found. Available expirations are: [2024-06-12, 2024-06-13, 2024-06-14, 2024-06-17, 2024-06-18, 2024-06-20, 2024-06-21, 2024-06-28, 2024-07-05, 2024-07-12, 2024-07-19, 2024-07-26, 2024-07-31, 2024-08-16, 2024-08-30, 2024-09-20, 2024-09-30, 2024-10-18, 2024-10-31, 2024-11-15, 2024-11-29, 2024-12-20, 2024-12-31, 2025-01-17, 2025-01-31, 2025-03-21, 2025-03-31, 2025-06-20, 2025-09-19, 2025-12-19, 2026-01-16, 2026-06-18, 2026-12-18]"
     ]
    }
   ],
   "source": [
    "import yfinance as yf\n",
    "import pandas as pd\n",
    "from datetime import date, timedelta\n",
    "\n",
    "# Download options data for SPY\n",
    "spy = yf.Ticker(\"SPY\")\n",
    "options = spy.option_chain(date=date.today() + timedelta(days=0))\n",
    "\n",
    "# Convert options data to dataframes\n",
    "calls = pd.DataFrame(options.calls)\n",
    "puts = pd.DataFrame(options.puts)\n",
    "\n",
    "# Filter options data to only include options with 0 days to expiration\n",
    "zero_day_calls = calls[calls['daysToExpiration'] == 0]\n",
    "zero_day_puts = puts[puts['daysToExpiration'] == 0]\n",
    "\n",
    "# Print the filtered options data\n",
    "print(zero_day_calls)\n",
    "print(zero_day_puts)\n"
   ]
  },
  {
   "cell_type": "code",
   "execution_count": null,
   "metadata": {},
   "outputs": [
    {
     "name": "stdout",
     "output_type": "stream",
     "text": [
      "CALLS \n",
      " \n",
      "          Contract Name         Last Trade Date  Strike  Last Price  Bid   Ask  \\\n",
      "71  SPY240221C00535000   2024-02-14 3:44PM EST   535.0        0.01  0.0  0.01   \n",
      "72  SPY240221C00540000  2024-02-20 12:16PM EST   540.0        0.01  0.0  0.01   \n",
      "73  SPY240221C00545000   2024-02-13 2:34PM EST   545.0        0.01  0.0  0.01   \n",
      "74  SPY240221C00550000   2024-02-16 1:15PM EST   550.0        0.01  0.0  0.01   \n",
      "75  SPY240221C00570000  2024-02-20 12:59PM EST   570.0        0.01  0.0  0.01   \n",
      "\n",
      "    Change % Change Volume  Open Interest Implied Volatility  \n",
      "71     0.0        -      2              5             50.00%  \n",
      "72     0.0        -      9             17             53.13%  \n",
      "73     0.0        -      -             10             57.81%  \n",
      "74     0.0        -      1              1             62.50%  \n",
      "75     0.0        -      4              4             84.38%  \n",
      "\n",
      " \n",
      " PUTS \n",
      " \n",
      "          Contract Name         Last Trade Date  Strike  Last Price   Bid  \\\n",
      "91  SPY240221P00519000  2024-02-16 10:38AM EST   519.0       18.45  22.6   \n",
      "92  SPY240221P00520000   2024-02-20 2:25PM EST   520.0       24.46  23.6   \n",
      "93  SPY240221P00535000   2024-02-14 4:06PM EST   535.0       36.08  38.6   \n",
      "94  SPY240221P00540000   2024-02-14 4:06PM EST   540.0       41.06  43.6   \n",
      "95  SPY240221P00550000  2024-02-12 11:39AM EST   550.0       46.76  53.6   \n",
      "\n",
      "      Ask  Change % Change Volume  Open Interest Implied Volatility  \n",
      "91  22.97    0.00        -      7              7             58.84%  \n",
      "92  23.91    5.26  +27.40%      3             14             59.96%  \n",
      "93  38.89    0.00        -      1              0             86.82%  \n",
      "94  43.91    0.00        -      1              2             95.70%  \n",
      "95  53.89    0.00        -      3              0            111.72%  \n"
     ]
    }
   ],
   "source": [
    "from yahoo_fin import options\n",
    "import pandas as pd\n",
    "stock = \"SPY\"\n",
    "pd.set_option('display.max_columns', None)\n",
    "chain = options.get_options_chain(stock)\n",
    "print(\"CALLS \\n \\n\", chain['calls'].tail() )\n",
    "print(\"\\n \\n PUTS \\n \\n\", chain['puts'].tail()  )"
   ]
  },
  {
   "attachments": {},
   "cell_type": "markdown",
   "metadata": {},
   "source": [
    "### 1.3. Technical Indicators"
   ]
  },
  {
   "attachments": {},
   "cell_type": "markdown",
   "metadata": {},
   "source": [
    "### 1.3. Data Cleaning\n",
    "\n"
   ]
  },
  {
   "attachments": {},
   "cell_type": "markdown",
   "metadata": {},
   "source": [
    "### 1.4. Splitting Market Segments (Pre-Market, Market, After-Hours)\n",
    "\n"
   ]
  },
  {
   "attachments": {},
   "cell_type": "markdown",
   "metadata": {},
   "source": [
    "## 2. Data Visualization"
   ]
  },
  {
   "attachments": {},
   "cell_type": "markdown",
   "metadata": {},
   "source": [
    "### 2.1. Charting and Candlestick\n",
    "\n"
   ]
  },
  {
   "attachments": {},
   "cell_type": "markdown",
   "metadata": {},
   "source": [
    "### 2.2. Trend\n",
    "\n"
   ]
  },
  {
   "attachments": {},
   "cell_type": "markdown",
   "metadata": {},
   "source": [
    "### 2.3. Volume"
   ]
  },
  {
   "attachments": {},
   "cell_type": "markdown",
   "metadata": {},
   "source": [
    "### 2.4. Momentium"
   ]
  },
  {
   "attachments": {},
   "cell_type": "markdown",
   "metadata": {},
   "source": [
    "### 2.2. Volatility"
   ]
  },
  {
   "attachments": {},
   "cell_type": "markdown",
   "metadata": {},
   "source": []
  },
  {
   "attachments": {},
   "cell_type": "markdown",
   "metadata": {},
   "source": [
    "## 3. Correlation Analysis\n",
    "(Coefficent, Direction, Strength, Significance, Types of Correlation, Matrix)"
   ]
  },
  {
   "attachments": {},
   "cell_type": "markdown",
   "metadata": {},
   "source": [
    "## 4. Feature Engineering"
   ]
  },
  {
   "attachments": {},
   "cell_type": "markdown",
   "metadata": {},
   "source": [
    "## 5. Risk Analysis & Management\n",
    "(Value at Risk (VaR))\n",
    "(Conditional Value at Risk (CVaR) )\n",
    "(Sharpe Ratio)\n",
    "(Hedge Ratio)\n",
    "(Violatility Stop based on ATR)"
   ]
  },
  {
   "attachments": {},
   "cell_type": "markdown",
   "metadata": {},
   "source": [
    "## 6. Backtest Portiolio"
   ]
  },
  {
   "attachments": {},
   "cell_type": "markdown",
   "metadata": {},
   "source": []
  },
  {
   "attachments": {},
   "cell_type": "markdown",
   "metadata": {},
   "source": []
  }
 ],
 "metadata": {
  "kernelspec": {
   "display_name": "jupyter-ai",
   "language": "python",
   "name": "python3"
  },
  "language_info": {
   "codemirror_mode": {
    "name": "ipython",
    "version": 3
   },
   "file_extension": ".py",
   "mimetype": "text/x-python",
   "name": "python",
   "nbconvert_exporter": "python",
   "pygments_lexer": "ipython3",
   "version": "3.11.7"
  },
  "orig_nbformat": 4
 },
 "nbformat": 4,
 "nbformat_minor": 2
}
