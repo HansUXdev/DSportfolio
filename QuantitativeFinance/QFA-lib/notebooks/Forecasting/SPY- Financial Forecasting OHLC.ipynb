{
 "cells": [
  {
   "cell_type": "code",
   "execution_count": 3,
   "id": "f82750c3",
   "metadata": {},
   "outputs": [],
   "source": [
    "#!pip install pmdarima"
   ]
  },
  {
   "cell_type": "code",
   "execution_count": 4,
   "id": "2e236d3d",
   "metadata": {},
   "outputs": [],
   "source": [
    "!pip install tensorflow yfinance numpy pandas matplotlib scikit-learn statsmodels keras-tuner\n",
    "# Import necessary libraries\n",
    "import numpy as np\n",
    "import yfinance as yf\n",
    "import pandas as pd\n",
    "\n",
    "from sklearn.linear_model import LinearRegression\n",
    "from sklearn.metrics import mean_squared_error, mean_absolute_error\n",
    "from sklearn.preprocessing import MinMaxScaler\n",
    "from sklearn.metrics import mean_absolute_error, mean_squared_error\n",
    "\n",
    "from statsmodels.tsa.holtwinters import ExponentialSmoothing\n",
    "from tensorflow.keras.models import Sequential\n",
    "from tensorflow.keras.layers import LSTM, Dense\n",
    "\n",
    "# Data visualization\n",
    "from plotly.subplots import make_subplots\n",
    "import plotly.graph_objects as go\n",
    "\n",
    "from IPython.core.display import clear_output\n",
    "clear_output()"
   ]
  },
  {
   "attachments": {},
   "cell_type": "markdown",
   "id": "388f4c1c",
   "metadata": {},
   "source": [
    "# About this Study\n",
    "Since taking my AI class with Paul Davis, I've been relatively obsessed with trying to forecast the OHLC (Open, High, Low, Close), rather than just the Close. My reason for this goes beyond just curiosity, and frankly, has nothing to do with money. It just strikes me as odd that the only thing anyone seems to publish about on stock forecasting is limited to the close. As a technical/quant trader, I get why the close is important. However, I also understand that when everyone is doing the same thing, and that same thing doesn't seem very practical, it's clearly time to try something different...\n",
    "\n",
    "Like most forecasting studies, the main challenge here is going **mean errors**, feature importance, and **stationary vs non-stationary features**. However, this only gets exponentially worse because we're working with 4 separate variables. This also means we're going to have 4 times the amount of data cleaning, etc. My initial approach is simply a hacked-together solution made by refactoring the LSTM Model & Hyperparameter Tuning project that I built in the AI Class. I do also want to point out that a large majority of my code is written based on _advice_ from a _custom GPT_ I've made that's fine-tuned on knowledge of 20+ books on stock price forecasting, option pricing models, mathematics, and an extensive knowledge base that would have taken me months to read, and perhaps years to fully understand. I don't have an extensive knowledge of math, statistics, or AI on a lower level, so this custom GPT helps me fill that knowledge gap without the need of going into debt and wasting valuable time going to school, which ultimately won't teach what I'm going to cover in this study anyway.\n",
    "\n",
    "As one can expect from using non-stationary features, my initial approach will be a failure and SHOULD NOT BE USED to make trades or any financial decision. Even just looking at it, you know SPY isn't going to drop from 500 to 250 within 7 days. Even if you added up the losses of every major dip, this still wouldn't happen over 7 days. \n",
    "\n",
    "With that, in mind, I don't consider this a complete failure, but rather a **valuable learning experience**. The problem I have with traditional forecasting is that it's mostly curve fitting. I really couldn't care less if someone can plot two lines close together using statistics and ML and say, hey I forecasted this. That, actually isn't practical and won't make you money by itself. You need to go further and take data/model and walk it forward (without biases), and project data points into the next hour, day, or week. Once you are able to do that, even with just a 50-60% accuracy, would be very practical for trading as long as you can manage your position size, timing, and have tight risk management. Furthermore, if you can predict the OHLC, then in theory, you can also forecast various technicals, which in theory would allow a technical/quant trader to better reposition themselves ahead of the pack as trends reverse, breakout, etc. \n",
    "\n",
    "When I've talked about this on various quant forums, the herd is quick to say it's dumb. I disagree. The truly dumbest thing is doing the same thing as everyone else and expecting yourself to magically have a different result that somehow distinguishes yourself from your peers because your brain has oh so many curves... In truth, it's better to explore, to try new things, to mess around and find out. If you fail, you learn something new, and you try something different. _If you succeed, you probably don't want to publish it because that's equally dumb..._ So far, the only success I've had is in terms of plotting forward, and the failures were predictable..."
   ]
  },
  {
   "attachments": {},
   "cell_type": "markdown",
   "id": "413b1491",
   "metadata": {},
   "source": [
    "# Forecasting with LSTM Model & Hyperparameter Tuning\n",
    "\n",
    "This notebook outlines a method for forecasting stock prices using a Long Short-Term Memory (LSTM) neural network, which is a type of recurrent neural network (RNN) suitable for time series prediction. The approach includes preprocessing historical stock data, scaling features, creating input sequences for the LSTM, training the model, and visualizing predictions against actual prices.\n",
    "\n",
    "## Data Acquisition and Preprocessing\n",
    "\n",
    "The `download_stock_data` function retrieves historical stock data for a specified ticker symbol, date range, and frequency using the `yfinance` library. It ensures that there are no gaps in the data by filling missing values for non-trading days.\n",
    "\n",
    "## Feature Scaling\n",
    "\n",
    "To ensure our LSTM model receives data in a scale that neural networks find easy to process, we apply Min-Max Scaling to the input features. The `MinMaxScaler` from the scikit-learn library is used to transform the data so that it fits within a given range, typically [0, 1]. The scaling process is crucial for the convergence of the neural network during training and can significantly impact the model's performance.\n",
    "\n",
    "### `scale_data` Function\n",
    "\n",
    "The `scale_data` function takes a dataset as input and returns a fitted `MinMaxScaler` object along with the scaled dataset. This scaler can later be used to inverse-transform the predictions to their original scale, which is important for interpretability of the results.\n",
    "\n",
    "#### Parameters:\n",
    "- `data`: The input features that we want to scale.\n",
    "\n",
    "#### Returns:\n",
    "- `scaler`: The `MinMaxScaler` instance fit to the input data.\n",
    "- `scaled_data`: The input data transformed to the scale [0, 1].\n",
    "\n",
    "#### Usage:\n",
    "\n",
    "The function is typically called with the feature data as follows:\n",
    "\n",
    "```python\n",
    "scaler, scaled_data = scale_data(stock_data[features].values)\n",
    "```\n",
    "\n",
    "## Sequence Creation for Time Series Forecasting\n",
    "\n",
    "Time series forecasting with LSTM networks requires the input data to be structured as sequences. The `create_sequences` function transforms a time series data array into sequences of a specified length to be used as input for LSTM models.\n",
    "\n",
    "### `create_sequences` Function\n",
    "\n",
    "#### Parameters:\n",
    "- `data`: The array of time series data.\n",
    "- `seq_length`: The length of the look-back period for creating sequences.\n",
    "\n",
    "#### Returns:\n",
    "- `xs`: The input sequences for the model.\n",
    "- `ys`: The target values for each sequence.\n",
    "\n",
    "### LSTM Model Building and Training\n",
    "\n",
    "LSTM (Long Short-Term Memory) networks are a type of recurrent neural network capable of learning order dependence in sequence prediction problems. The `build_and_train_model` function constructs an LSTM model and trains it on the provided training data.\n",
    "\n",
    "#### Parameters:\n",
    "- `X_train`: Input features for training the model.\n",
    "- `y_train`: Target outputs for training the model.\n",
    "- `seq_length`: Number of time steps in each input sequence.\n",
    "- `num_features`: Number of features in the input data.\n",
    "- `epochs`: Number of epochs to train the model.\n",
    "- `batch_size`: Size of batches to use when training the model.\n",
    "\n",
    "#### Returns:\n",
    "- `model`: The trained LSTM model.\n",
    "\n",
    "### Performance Metrics Calculation\n",
    "\n",
    "To evaluate the forecasting model, we calculate various metrics to understand its accuracy and performance. The `calculate_metrics` function computes the Mean Absolute Error (MAE), Mean Squared Error (MSE), and Root Mean Squared Error (RMSE).\n",
    "\n",
    "#### Parameters:\n",
    "- `y_true`: The actual observed values.\n",
    "- `y_pred`: The predicted values by the model.\n",
    "\n",
    "#### Returns:\n",
    "- `mae`: Mean Absolute Error.\n",
    "- `mse`: Mean Squared Error.\n",
    "- `rmse`: Root Mean Squared Error.\n",
    "\n",
    "### Forecast Visualization\n",
    "\n",
    "Visual representation of forecasts can help in understanding how well the model predictions align with the actual data. The `plot_forecasts` function generates interactive plots using Plotly to compare the actual and predicted values.\n",
    "\n",
    "#### Parameters:\n",
    "- `stock_data`: Original DataFrame containing the stock price data.\n",
    "- `predicted_values`: Predicted values from the model.\n",
    "- `y_test`: Actual values corresponding to the predictions.\n",
    "- `seq_length`: Length of the input sequences.\n",
    "- `split_idx`: Index to split the data into training and test sets.\n",
    "- `scaler`: The MinMaxScaler used to scale the data.\n",
    "\n",
    "#### Visualization:\n",
    "- The function creates a line plot for each stock price feature, displaying both actual and predicted values.\n",
    "\n",
    "### Full Forecasting and Plotting Workflow\n",
    "\n",
    "The `forecast_and_plot` function brings together all the steps required for forecasting stock prices using the LSTM model, from data scaling and sequence creation to model training and visualization of predictions.\n",
    "\n",
    "#### Parameters:\n",
    "- `stock_data`: DataFrame containing historical stock data.\n",
    "- `features`: List of features to use for forecasting.\n",
    "- `seq_length`: Length of the input sequences for the LSTM model.\n",
    "\n",
    "#### Execution Workflow:\n",
    "- The function first scales the data, creates sequences, and splits the data into training and test sets.\n",
    "- It then builds, trains, and evaluates the LSTM model.\n",
    "- Finally, it visualizes the forecasts alongside the actual data for comparison.\n",
    "\n"
   ]
  },
  {
   "cell_type": "code",
   "execution_count": 5,
   "id": "61ab5ef9",
   "metadata": {
    "scrolled": false
   },
   "outputs": [
    {
     "name": "stderr",
     "output_type": "stream",
     "text": [
      "[*********************100%%**********************]  1 of 1 completed\n",
      "c:\\ProgramData\\anaconda3\\envs\\jupyter-ai\\Lib\\site-packages\\keras\\src\\layers\\rnn\\rnn.py:205: UserWarning: Do not pass an `input_shape`/`input_dim` argument to a layer. When using Sequential models, prefer using an `Input(shape)` object as the first layer in the model instead.\n",
      "  super().__init__(**kwargs)\n"
     ]
    },
    {
     "name": "stdout",
     "output_type": "stream",
     "text": [
      "\u001b[1m4/4\u001b[0m \u001b[32m━━━━━━━━━━━━━━━━━━━━\u001b[0m\u001b[37m\u001b[0m \u001b[1m0s\u001b[0m 64ms/step\n",
      "MAE: 3.396085057939805, MSE: 19.27039422304788, RMSE: 4.389805715865781\n"
     ]
    },
    {
     "data": {
      "application/vnd.plotly.v1+json": {
       "config": {
        "plotlyServerURL": "https://plot.ly"
       },
       "data": [
        {
         "mode": "lines",
         "name": "Actual Open",
         "type": "scatter",
         "x": [
          "2023-10-05T00:00:00",
          "2023-10-06T00:00:00",
          "2023-10-09T00:00:00",
          "2023-10-10T00:00:00",
          "2023-10-11T00:00:00",
          "2023-10-12T00:00:00",
          "2023-10-13T00:00:00",
          "2023-10-16T00:00:00",
          "2023-10-17T00:00:00",
          "2023-10-18T00:00:00",
          "2023-10-19T00:00:00",
          "2023-10-20T00:00:00",
          "2023-10-23T00:00:00",
          "2023-10-24T00:00:00",
          "2023-10-25T00:00:00",
          "2023-10-26T00:00:00",
          "2023-10-27T00:00:00",
          "2023-10-30T00:00:00",
          "2023-10-31T00:00:00",
          "2023-11-01T00:00:00",
          "2023-11-02T00:00:00",
          "2023-11-03T00:00:00",
          "2023-11-06T00:00:00",
          "2023-11-07T00:00:00",
          "2023-11-08T00:00:00",
          "2023-11-09T00:00:00",
          "2023-11-10T00:00:00",
          "2023-11-13T00:00:00",
          "2023-11-14T00:00:00",
          "2023-11-15T00:00:00",
          "2023-11-16T00:00:00",
          "2023-11-17T00:00:00",
          "2023-11-20T00:00:00",
          "2023-11-21T00:00:00",
          "2023-11-22T00:00:00",
          "2023-11-23T00:00:00",
          "2023-11-24T00:00:00",
          "2023-11-27T00:00:00",
          "2023-11-28T00:00:00",
          "2023-11-29T00:00:00",
          "2023-11-30T00:00:00",
          "2023-12-01T00:00:00",
          "2023-12-04T00:00:00",
          "2023-12-05T00:00:00",
          "2023-12-06T00:00:00",
          "2023-12-07T00:00:00",
          "2023-12-08T00:00:00",
          "2023-12-11T00:00:00",
          "2023-12-12T00:00:00",
          "2023-12-13T00:00:00",
          "2023-12-14T00:00:00",
          "2023-12-15T00:00:00",
          "2023-12-18T00:00:00",
          "2023-12-19T00:00:00",
          "2023-12-20T00:00:00",
          "2023-12-21T00:00:00",
          "2023-12-22T00:00:00",
          "2023-12-25T00:00:00",
          "2023-12-26T00:00:00",
          "2023-12-27T00:00:00",
          "2023-12-28T00:00:00",
          "2023-12-29T00:00:00",
          "2024-01-01T00:00:00",
          "2024-01-02T00:00:00",
          "2024-01-03T00:00:00",
          "2024-01-04T00:00:00",
          "2024-01-05T00:00:00",
          "2024-01-08T00:00:00",
          "2024-01-09T00:00:00",
          "2024-01-10T00:00:00",
          "2024-01-11T00:00:00",
          "2024-01-12T00:00:00",
          "2024-01-15T00:00:00",
          "2024-01-16T00:00:00",
          "2024-01-17T00:00:00",
          "2024-01-18T00:00:00",
          "2024-01-19T00:00:00",
          "2024-01-22T00:00:00",
          "2024-01-23T00:00:00",
          "2024-01-24T00:00:00",
          "2024-01-25T00:00:00",
          "2024-01-26T00:00:00",
          "2024-01-29T00:00:00",
          "2024-01-30T00:00:00",
          "2024-01-31T00:00:00",
          "2024-02-01T00:00:00",
          "2024-02-02T00:00:00",
          "2024-02-05T00:00:00",
          "2024-02-06T00:00:00",
          "2024-02-07T00:00:00",
          "2024-02-08T00:00:00",
          "2024-02-09T00:00:00",
          "2024-02-12T00:00:00",
          "2024-02-13T00:00:00",
          "2024-02-14T00:00:00",
          "2024-02-15T00:00:00",
          "2024-02-16T00:00:00",
          "2024-02-19T00:00:00",
          "2024-02-20T00:00:00",
          "2024-02-21T00:00:00",
          "2024-02-22T00:00:00",
          "2024-02-23T00:00:00",
          "2024-02-26T00:00:00",
          "2024-02-27T00:00:00",
          "2024-02-28T00:00:00",
          "2024-02-29T00:00:00",
          "2024-03-01T00:00:00",
          "2024-03-04T00:00:00",
          "2024-03-05T00:00:00",
          "2024-03-06T00:00:00",
          "2024-03-07T00:00:00",
          "2024-03-08T00:00:00"
         ],
         "xaxis": "x",
         "y": [
          424.3599853515625,
          421.9700012207031,
          427.57998657226557,
          432.94000244140625,
          435.6400146484375,
          436.9500122070313,
          435.2099914550781,
          433.82000732421875,
          432.80999755859375,
          434.19000244140625,
          430.9500122070312,
          425.9800109863281,
          419.6099853515625,
          422.6499938964844,
          421.89001464843744,
          416.4500122070312,
          414.19000244140625,
          413.55999755859375,
          416.17999267578125,
          419.2000122070312,
          426.5799865722656,
          433.1400146484375,
          435.4700012207031,
          435.6900024414063,
          437.5499877929687,
          438.42999267578125,
          435.9800109863281,
          439.2300109863281,
          446.3200073242188,
          450.1099853515625,
          449.2200012207031,
          450.239990234375,
          450.5299987792969,
          453.17999267578125,
          454.9800109863281,
          454.9800109863281,
          455.0700073242188,
          454.6499938964844,
          454.0799865722656,
          457.1499938964844,
          455.48001098632807,
          455.7699890136719,
          455.6000061035156,
          455.260009765625,
          458.80999755859375,
          456.91000366210943,
          457.4599914550781,
          459.69000244140625,
          461.6300048828125,
          464.489990234375,
          472.5,
          469.489990234375,
          470.9800109863281,
          472.5299987792969,
          473.9599914550781,
          471.3299865722656,
          473.8599853515625,
          473.8599853515625,
          474.07000732421875,
          475.4400024414062,
          476.8800048828125,
          476.489990234375,
          476.489990234375,
          472.1600036621094,
          470.42999267578125,
          468.29998779296875,
          467.489990234375,
          468.4299926757812,
          471.8699951171875,
          474.16000366210943,
          477.5899963378906,
          477.83999633789057,
          477.83999633789057,
          475.260009765625,
          471.8200073242187,
          474.010009765625,
          477.6499938964844,
          484.010009765625,
          484.010009765625,
          487.8099975585937,
          487.5799865722656,
          487.5899963378906,
          487.7300109863281,
          490.5599975585937,
          488.61999511718756,
          484.6300048828125,
          489.6499938964843,
          493.70001220703125,
          493.5199890136718,
          496.2900085449218,
          498.1000061035156,
          498.8399963378906,
          501.1700134277343,
          494.5299987792969,
          496.7900085449219,
          499.29000854492193,
          501.70001220703125,
          501.70001220703125,
          497.7200012207032,
          495.4200134277343,
          504.010009765625,
          509.2699890136719,
          508.29998779296875,
          506.70001220703125,
          505.32998657226557,
          508.07000732421875,
          508.9800109863281,
          512.030029296875,
          510.239990234375,
          510.54998779296875,
          513.1400146484375,
          515.4600219726562
         ],
         "yaxis": "y"
        },
        {
         "line": {
          "dash": "dash"
         },
         "mode": "lines",
         "name": "Predicted Open",
         "type": "scatter",
         "x": [
          "2023-10-05T00:00:00",
          "2023-10-06T00:00:00",
          "2023-10-09T00:00:00",
          "2023-10-10T00:00:00",
          "2023-10-11T00:00:00",
          "2023-10-12T00:00:00",
          "2023-10-13T00:00:00",
          "2023-10-16T00:00:00",
          "2023-10-17T00:00:00",
          "2023-10-18T00:00:00",
          "2023-10-19T00:00:00",
          "2023-10-20T00:00:00",
          "2023-10-23T00:00:00",
          "2023-10-24T00:00:00",
          "2023-10-25T00:00:00",
          "2023-10-26T00:00:00",
          "2023-10-27T00:00:00",
          "2023-10-30T00:00:00",
          "2023-10-31T00:00:00",
          "2023-11-01T00:00:00",
          "2023-11-02T00:00:00",
          "2023-11-03T00:00:00",
          "2023-11-06T00:00:00",
          "2023-11-07T00:00:00",
          "2023-11-08T00:00:00",
          "2023-11-09T00:00:00",
          "2023-11-10T00:00:00",
          "2023-11-13T00:00:00",
          "2023-11-14T00:00:00",
          "2023-11-15T00:00:00",
          "2023-11-16T00:00:00",
          "2023-11-17T00:00:00",
          "2023-11-20T00:00:00",
          "2023-11-21T00:00:00",
          "2023-11-22T00:00:00",
          "2023-11-23T00:00:00",
          "2023-11-24T00:00:00",
          "2023-11-27T00:00:00",
          "2023-11-28T00:00:00",
          "2023-11-29T00:00:00",
          "2023-11-30T00:00:00",
          "2023-12-01T00:00:00",
          "2023-12-04T00:00:00",
          "2023-12-05T00:00:00",
          "2023-12-06T00:00:00",
          "2023-12-07T00:00:00",
          "2023-12-08T00:00:00",
          "2023-12-11T00:00:00",
          "2023-12-12T00:00:00",
          "2023-12-13T00:00:00",
          "2023-12-14T00:00:00",
          "2023-12-15T00:00:00",
          "2023-12-18T00:00:00",
          "2023-12-19T00:00:00",
          "2023-12-20T00:00:00",
          "2023-12-21T00:00:00",
          "2023-12-22T00:00:00",
          "2023-12-25T00:00:00",
          "2023-12-26T00:00:00",
          "2023-12-27T00:00:00",
          "2023-12-28T00:00:00",
          "2023-12-29T00:00:00",
          "2024-01-01T00:00:00",
          "2024-01-02T00:00:00",
          "2024-01-03T00:00:00",
          "2024-01-04T00:00:00",
          "2024-01-05T00:00:00",
          "2024-01-08T00:00:00",
          "2024-01-09T00:00:00",
          "2024-01-10T00:00:00",
          "2024-01-11T00:00:00",
          "2024-01-12T00:00:00",
          "2024-01-15T00:00:00",
          "2024-01-16T00:00:00",
          "2024-01-17T00:00:00",
          "2024-01-18T00:00:00",
          "2024-01-19T00:00:00",
          "2024-01-22T00:00:00",
          "2024-01-23T00:00:00",
          "2024-01-24T00:00:00",
          "2024-01-25T00:00:00",
          "2024-01-26T00:00:00",
          "2024-01-29T00:00:00",
          "2024-01-30T00:00:00",
          "2024-01-31T00:00:00",
          "2024-02-01T00:00:00",
          "2024-02-02T00:00:00",
          "2024-02-05T00:00:00",
          "2024-02-06T00:00:00",
          "2024-02-07T00:00:00",
          "2024-02-08T00:00:00",
          "2024-02-09T00:00:00",
          "2024-02-12T00:00:00",
          "2024-02-13T00:00:00",
          "2024-02-14T00:00:00",
          "2024-02-15T00:00:00",
          "2024-02-16T00:00:00",
          "2024-02-19T00:00:00",
          "2024-02-20T00:00:00",
          "2024-02-21T00:00:00",
          "2024-02-22T00:00:00",
          "2024-02-23T00:00:00",
          "2024-02-26T00:00:00",
          "2024-02-27T00:00:00",
          "2024-02-28T00:00:00",
          "2024-02-29T00:00:00",
          "2024-03-01T00:00:00",
          "2024-03-04T00:00:00",
          "2024-03-05T00:00:00",
          "2024-03-06T00:00:00",
          "2024-03-07T00:00:00",
          "2024-03-08T00:00:00"
         ],
         "xaxis": "x",
         "y": [
          422.9211120605469,
          422.5401306152344,
          424.5936279296875,
          428.1846923828125,
          432.72210693359375,
          434.84613037109375,
          434.86004638671875,
          433.75885009765625,
          434.05596923828125,
          434.93414306640625,
          433.38311767578125,
          430.04205322265625,
          424.88433837890625,
          420.2179870605469,
          419.27703857421875,
          418.1652526855469,
          415.21209716796875,
          411.69903564453125,
          411.1754455566406,
          413.33172607421875,
          417.80999755859375,
          424.63909912109375,
          428.9285888671875,
          431.1956787109375,
          432.83697509765625,
          434.4400939941406,
          435.00616455078125,
          436.7474060058594,
          439.06494140625,
          444.54022216796875,
          448.4805908203125,
          449.4207458496094,
          450.2567138671875,
          452.3819885253906,
          453.601806640625,
          455.0863952636719,
          456.017578125,
          456.22003173828125,
          455.7544250488281,
          455.4322814941406,
          456.175048828125,
          456.51629638671875,
          457.8367614746094,
          458.0386962890625,
          457.2904357910156,
          457.05328369140625,
          457.84356689453125,
          459.4455261230469,
          461.6703796386719,
          463.9622802734375,
          468.4612121582031,
          473.0577697753906,
          472.5426025390625,
          473.16790771484375,
          475.47149658203125,
          474.6540222167969,
          473.4997863769531,
          474.5961608886719,
          475.4712219238281,
          476.78436279296875,
          477.85491943359375,
          478.9626159667969,
          478.2872314453125,
          477.5201110839844,
          474.4248962402344,
          470.4783630371094,
          467.6037292480469,
          466.7391357421875,
          470.190185546875,
          473.9222106933594,
          477.60394287109375,
          479.1534729003906,
          479.83795166015625,
          479.80194091796875,
          477.82318115234375,
          473.9427490234375,
          474.7601318359375,
          480.05419921875,
          485.96929931640625,
          488.65142822265625,
          490.5975036621094,
          491.6941833496094,
          491.8450622558594,
          493.2010498046875,
          494.505126953125,
          490.5267028808594,
          488.871826171875,
          492.9897155761719,
          496.3377685546875,
          497.899169921875,
          500.65399169921875,
          502.959228515625,
          505.3955993652344,
          506.88232421875,
          500.58111572265625,
          499.0698547363281,
          501.8158264160156,
          504.1093444824219,
          504.7278137207031,
          500.9100341796875,
          497.8370361328125,
          505.51861572265625,
          512.9778442382812,
          514.8538208007812,
          512.854248046875,
          510.55389404296875,
          511.4815368652344,
          515.09130859375,
          518.050537109375,
          514.9869995117188,
          513.4384765625,
          516.5723876953125
         ],
         "yaxis": "y"
        },
        {
         "mode": "lines",
         "name": "Actual High",
         "type": "scatter",
         "x": [
          "2023-10-05T00:00:00",
          "2023-10-06T00:00:00",
          "2023-10-09T00:00:00",
          "2023-10-10T00:00:00",
          "2023-10-11T00:00:00",
          "2023-10-12T00:00:00",
          "2023-10-13T00:00:00",
          "2023-10-16T00:00:00",
          "2023-10-17T00:00:00",
          "2023-10-18T00:00:00",
          "2023-10-19T00:00:00",
          "2023-10-20T00:00:00",
          "2023-10-23T00:00:00",
          "2023-10-24T00:00:00",
          "2023-10-25T00:00:00",
          "2023-10-26T00:00:00",
          "2023-10-27T00:00:00",
          "2023-10-30T00:00:00",
          "2023-10-31T00:00:00",
          "2023-11-01T00:00:00",
          "2023-11-02T00:00:00",
          "2023-11-03T00:00:00",
          "2023-11-06T00:00:00",
          "2023-11-07T00:00:00",
          "2023-11-08T00:00:00",
          "2023-11-09T00:00:00",
          "2023-11-10T00:00:00",
          "2023-11-13T00:00:00",
          "2023-11-14T00:00:00",
          "2023-11-15T00:00:00",
          "2023-11-16T00:00:00",
          "2023-11-17T00:00:00",
          "2023-11-20T00:00:00",
          "2023-11-21T00:00:00",
          "2023-11-22T00:00:00",
          "2023-11-23T00:00:00",
          "2023-11-24T00:00:00",
          "2023-11-27T00:00:00",
          "2023-11-28T00:00:00",
          "2023-11-29T00:00:00",
          "2023-11-30T00:00:00",
          "2023-12-01T00:00:00",
          "2023-12-04T00:00:00",
          "2023-12-05T00:00:00",
          "2023-12-06T00:00:00",
          "2023-12-07T00:00:00",
          "2023-12-08T00:00:00",
          "2023-12-11T00:00:00",
          "2023-12-12T00:00:00",
          "2023-12-13T00:00:00",
          "2023-12-14T00:00:00",
          "2023-12-15T00:00:00",
          "2023-12-18T00:00:00",
          "2023-12-19T00:00:00",
          "2023-12-20T00:00:00",
          "2023-12-21T00:00:00",
          "2023-12-22T00:00:00",
          "2023-12-25T00:00:00",
          "2023-12-26T00:00:00",
          "2023-12-27T00:00:00",
          "2023-12-28T00:00:00",
          "2023-12-29T00:00:00",
          "2024-01-01T00:00:00",
          "2024-01-02T00:00:00",
          "2024-01-03T00:00:00",
          "2024-01-04T00:00:00",
          "2024-01-05T00:00:00",
          "2024-01-08T00:00:00",
          "2024-01-09T00:00:00",
          "2024-01-10T00:00:00",
          "2024-01-11T00:00:00",
          "2024-01-12T00:00:00",
          "2024-01-15T00:00:00",
          "2024-01-16T00:00:00",
          "2024-01-17T00:00:00",
          "2024-01-18T00:00:00",
          "2024-01-19T00:00:00",
          "2024-01-22T00:00:00",
          "2024-01-23T00:00:00",
          "2024-01-24T00:00:00",
          "2024-01-25T00:00:00",
          "2024-01-26T00:00:00",
          "2024-01-29T00:00:00",
          "2024-01-30T00:00:00",
          "2024-01-31T00:00:00",
          "2024-02-01T00:00:00",
          "2024-02-02T00:00:00",
          "2024-02-05T00:00:00",
          "2024-02-06T00:00:00",
          "2024-02-07T00:00:00",
          "2024-02-08T00:00:00",
          "2024-02-09T00:00:00",
          "2024-02-12T00:00:00",
          "2024-02-13T00:00:00",
          "2024-02-14T00:00:00",
          "2024-02-15T00:00:00",
          "2024-02-16T00:00:00",
          "2024-02-19T00:00:00",
          "2024-02-20T00:00:00",
          "2024-02-21T00:00:00",
          "2024-02-22T00:00:00",
          "2024-02-23T00:00:00",
          "2024-02-26T00:00:00",
          "2024-02-27T00:00:00",
          "2024-02-28T00:00:00",
          "2024-02-29T00:00:00",
          "2024-03-01T00:00:00",
          "2024-03-04T00:00:00",
          "2024-03-05T00:00:00",
          "2024-03-06T00:00:00",
          "2024-03-07T00:00:00",
          "2024-03-08T00:00:00"
         ],
         "xaxis": "x2",
         "y": [
          425.3699951171875,
          431.1300048828125,
          432.8800048828125,
          437.2200012207031,
          436.5799865722656,
          437.3399963378906,
          436.4500122070313,
          437.1400146484375,
          438.14001464843744,
          435.1799926757812,
          432.82000732421875,
          426.5400085449219,
          424.4500122070312,
          424.82000732421875,
          421.9200134277344,
          417.3299865722656,
          414.6000061035156,
          416.67999267578125,
          418.5299987792969,
          423.5,
          430.9200134277344,
          436.2900085449219,
          436.1499938964844,
          437.5899963378906,
          438.0899963378907,
          438.4700012207031,
          440.9299926757813,
          441.3299865722656,
          450.0599975585938,
          451.3800048828125,
          450.55999755859375,
          451.4200134277344,
          455.1300048828125,
          454.13000488281256,
          456.38000488281256,
          456.38000488281256,
          455.5,
          455.489990234375,
          456.2699890136718,
          458.32000732421875,
          456.760009765625,
          459.6499938964844,
          459.11999511718744,
          457.5899963378906,
          458.8399963378906,
          458.8999938964844,
          460.75,
          462.17001342773443,
          464.20001220703125,
          470.760009765625,
          473.7300109863281,
          470.7000122070313,
          472.9800109863282,
          474.9200134277344,
          475.8999938964844,
          472.9800109863282,
          475.3800048828125,
          475.3800048828125,
          476.5799865722656,
          476.6600036621094,
          477.54998779296875,
          477.0299987792969,
          477.0299987792969,
          473.6700134277344,
          471.1900024414062,
          470.9599914550781,
          470.44000244140625,
          474.75,
          474.92999267578125,
          477.45001220703125,
          478.1199951171875,
          478.60000610351557,
          478.60000610351557,
          476.6099853515625,
          472.7900085449219,
          477.05999755859375,
          482.7200012207031,
          485.2200012207031,
          485.1099853515625,
          488.7699890136718,
          488.3099975585938,
          489.1199951171875,
          491.4200134277344,
          491.6199951171875,
          489.0799865722656,
          489.2300109863281,
          496.04998779296875,
          494.3800048828125,
          494.32000732421875,
          498.5299987792968,
          498.7099914550781,
          501.6499938964844,
          503.5,
          497.0899963378906,
          499.07000732421875,
          502.20001220703125,
          502.8699951171875,
          502.8699951171875,
          498.4100036621094,
          497.36999511718744,
          508.489990234375,
          510.1300048828125,
          508.75,
          507.1600036621093,
          506.8599853515625,
          509.739990234375,
          513.2899780273438,
          514.2000122070312,
          510.70001220703125,
          512.0700073242188,
          515.8900146484375,
          518.219970703125
         ],
         "yaxis": "y2"
        },
        {
         "line": {
          "dash": "dash"
         },
         "mode": "lines",
         "name": "Predicted High",
         "type": "scatter",
         "x": [
          "2023-10-05T00:00:00",
          "2023-10-06T00:00:00",
          "2023-10-09T00:00:00",
          "2023-10-10T00:00:00",
          "2023-10-11T00:00:00",
          "2023-10-12T00:00:00",
          "2023-10-13T00:00:00",
          "2023-10-16T00:00:00",
          "2023-10-17T00:00:00",
          "2023-10-18T00:00:00",
          "2023-10-19T00:00:00",
          "2023-10-20T00:00:00",
          "2023-10-23T00:00:00",
          "2023-10-24T00:00:00",
          "2023-10-25T00:00:00",
          "2023-10-26T00:00:00",
          "2023-10-27T00:00:00",
          "2023-10-30T00:00:00",
          "2023-10-31T00:00:00",
          "2023-11-01T00:00:00",
          "2023-11-02T00:00:00",
          "2023-11-03T00:00:00",
          "2023-11-06T00:00:00",
          "2023-11-07T00:00:00",
          "2023-11-08T00:00:00",
          "2023-11-09T00:00:00",
          "2023-11-10T00:00:00",
          "2023-11-13T00:00:00",
          "2023-11-14T00:00:00",
          "2023-11-15T00:00:00",
          "2023-11-16T00:00:00",
          "2023-11-17T00:00:00",
          "2023-11-20T00:00:00",
          "2023-11-21T00:00:00",
          "2023-11-22T00:00:00",
          "2023-11-23T00:00:00",
          "2023-11-24T00:00:00",
          "2023-11-27T00:00:00",
          "2023-11-28T00:00:00",
          "2023-11-29T00:00:00",
          "2023-11-30T00:00:00",
          "2023-12-01T00:00:00",
          "2023-12-04T00:00:00",
          "2023-12-05T00:00:00",
          "2023-12-06T00:00:00",
          "2023-12-07T00:00:00",
          "2023-12-08T00:00:00",
          "2023-12-11T00:00:00",
          "2023-12-12T00:00:00",
          "2023-12-13T00:00:00",
          "2023-12-14T00:00:00",
          "2023-12-15T00:00:00",
          "2023-12-18T00:00:00",
          "2023-12-19T00:00:00",
          "2023-12-20T00:00:00",
          "2023-12-21T00:00:00",
          "2023-12-22T00:00:00",
          "2023-12-25T00:00:00",
          "2023-12-26T00:00:00",
          "2023-12-27T00:00:00",
          "2023-12-28T00:00:00",
          "2023-12-29T00:00:00",
          "2024-01-01T00:00:00",
          "2024-01-02T00:00:00",
          "2024-01-03T00:00:00",
          "2024-01-04T00:00:00",
          "2024-01-05T00:00:00",
          "2024-01-08T00:00:00",
          "2024-01-09T00:00:00",
          "2024-01-10T00:00:00",
          "2024-01-11T00:00:00",
          "2024-01-12T00:00:00",
          "2024-01-15T00:00:00",
          "2024-01-16T00:00:00",
          "2024-01-17T00:00:00",
          "2024-01-18T00:00:00",
          "2024-01-19T00:00:00",
          "2024-01-22T00:00:00",
          "2024-01-23T00:00:00",
          "2024-01-24T00:00:00",
          "2024-01-25T00:00:00",
          "2024-01-26T00:00:00",
          "2024-01-29T00:00:00",
          "2024-01-30T00:00:00",
          "2024-01-31T00:00:00",
          "2024-02-01T00:00:00",
          "2024-02-02T00:00:00",
          "2024-02-05T00:00:00",
          "2024-02-06T00:00:00",
          "2024-02-07T00:00:00",
          "2024-02-08T00:00:00",
          "2024-02-09T00:00:00",
          "2024-02-12T00:00:00",
          "2024-02-13T00:00:00",
          "2024-02-14T00:00:00",
          "2024-02-15T00:00:00",
          "2024-02-16T00:00:00",
          "2024-02-19T00:00:00",
          "2024-02-20T00:00:00",
          "2024-02-21T00:00:00",
          "2024-02-22T00:00:00",
          "2024-02-23T00:00:00",
          "2024-02-26T00:00:00",
          "2024-02-27T00:00:00",
          "2024-02-28T00:00:00",
          "2024-02-29T00:00:00",
          "2024-03-01T00:00:00",
          "2024-03-04T00:00:00",
          "2024-03-05T00:00:00",
          "2024-03-06T00:00:00",
          "2024-03-07T00:00:00",
          "2024-03-08T00:00:00"
         ],
         "xaxis": "x2",
         "y": [
          425.9076843261719,
          425.4314270019531,
          427.2545471191406,
          430.5097961425781,
          434.6275634765625,
          436.6022644042969,
          436.6849060058594,
          435.74267578125,
          436.0660095214844,
          436.9457092285156,
          435.7103271484375,
          432.7953186035156,
          428.1057434082031,
          423.7297058105469,
          422.6773681640625,
          421.53875732421875,
          418.7691650390625,
          415.4493713378906,
          414.7197265625,
          416.4829406738281,
          420.4703674316406,
          426.597900390625,
          430.5157470703125,
          432.63800048828125,
          434.1335754394531,
          435.6939392089844,
          436.51300048828125,
          438.3289489746094,
          440.6391906738281,
          445.721435546875,
          449.5301208496094,
          450.6125183105469,
          451.51116943359375,
          453.5891418457031,
          454.8494567871094,
          456.40771484375,
          457.4519958496094,
          457.82476806640625,
          457.5625305175781,
          457.35546875,
          458.0939025878906,
          458.5175476074219,
          459.7851257324219,
          460.0847473144531,
          459.439453125,
          459.2178955078125,
          459.95458984375,
          461.4522399902344,
          463.54156494140625,
          465.69598388671875,
          469.84954833984375,
          474.09698486328125,
          473.8134460449219,
          474.6182556152344,
          476.8943786621094,
          476.4647216796875,
          475.6501159667969,
          476.78924560546875,
          477.8217468261719,
          479.1575927734375,
          480.259033203125,
          481.3050231933594,
          480.7938232421875,
          480.1072082519531,
          477.306396484375,
          473.5968322753906,
          470.890380859375,
          470.026611328125,
          473.1920471191406,
          476.6558532714844,
          480.015869140625,
          481.4854431152344,
          482.1011657714844,
          482.0632629394531,
          480.31756591796875,
          476.78668212890625,
          477.4424133300781,
          482.6334533691406,
          488.2181091308594,
          490.8021240234375,
          492.7064208984375,
          493.8114318847656,
          494.1101379394531,
          495.5218505859375,
          496.9574890136719,
          493.66571044921875,
          492.1910095214844,
          496.4132080078125,
          499.62359619140625,
          501.1371154785156,
          503.8999938964844,
          506.1450500488281,
          508.54461669921875,
          510.10687255859375,
          504.4493103027344,
          503.1320495605469,
          506.0823059082031,
          508.33642578125,
          509.02923583984375,
          505.5130920410156,
          502.6595153808594,
          510.18060302734375,
          517.215576171875,
          518.844482421875,
          517.1761474609375,
          515.1868896484375,
          516.2319946289062,
          519.8529663085938,
          522.8148803710938,
          520.1259765625,
          519.0709228515625,
          522.2920532226562
         ],
         "yaxis": "y2"
        },
        {
         "mode": "lines",
         "name": "Actual Low",
         "type": "scatter",
         "x": [
          "2023-10-05T00:00:00",
          "2023-10-06T00:00:00",
          "2023-10-09T00:00:00",
          "2023-10-10T00:00:00",
          "2023-10-11T00:00:00",
          "2023-10-12T00:00:00",
          "2023-10-13T00:00:00",
          "2023-10-16T00:00:00",
          "2023-10-17T00:00:00",
          "2023-10-18T00:00:00",
          "2023-10-19T00:00:00",
          "2023-10-20T00:00:00",
          "2023-10-23T00:00:00",
          "2023-10-24T00:00:00",
          "2023-10-25T00:00:00",
          "2023-10-26T00:00:00",
          "2023-10-27T00:00:00",
          "2023-10-30T00:00:00",
          "2023-10-31T00:00:00",
          "2023-11-01T00:00:00",
          "2023-11-02T00:00:00",
          "2023-11-03T00:00:00",
          "2023-11-06T00:00:00",
          "2023-11-07T00:00:00",
          "2023-11-08T00:00:00",
          "2023-11-09T00:00:00",
          "2023-11-10T00:00:00",
          "2023-11-13T00:00:00",
          "2023-11-14T00:00:00",
          "2023-11-15T00:00:00",
          "2023-11-16T00:00:00",
          "2023-11-17T00:00:00",
          "2023-11-20T00:00:00",
          "2023-11-21T00:00:00",
          "2023-11-22T00:00:00",
          "2023-11-23T00:00:00",
          "2023-11-24T00:00:00",
          "2023-11-27T00:00:00",
          "2023-11-28T00:00:00",
          "2023-11-29T00:00:00",
          "2023-11-30T00:00:00",
          "2023-12-01T00:00:00",
          "2023-12-04T00:00:00",
          "2023-12-05T00:00:00",
          "2023-12-06T00:00:00",
          "2023-12-07T00:00:00",
          "2023-12-08T00:00:00",
          "2023-12-11T00:00:00",
          "2023-12-12T00:00:00",
          "2023-12-13T00:00:00",
          "2023-12-14T00:00:00",
          "2023-12-15T00:00:00",
          "2023-12-18T00:00:00",
          "2023-12-19T00:00:00",
          "2023-12-20T00:00:00",
          "2023-12-21T00:00:00",
          "2023-12-22T00:00:00",
          "2023-12-25T00:00:00",
          "2023-12-26T00:00:00",
          "2023-12-27T00:00:00",
          "2023-12-28T00:00:00",
          "2023-12-29T00:00:00",
          "2024-01-01T00:00:00",
          "2024-01-02T00:00:00",
          "2024-01-03T00:00:00",
          "2024-01-04T00:00:00",
          "2024-01-05T00:00:00",
          "2024-01-08T00:00:00",
          "2024-01-09T00:00:00",
          "2024-01-10T00:00:00",
          "2024-01-11T00:00:00",
          "2024-01-12T00:00:00",
          "2024-01-15T00:00:00",
          "2024-01-16T00:00:00",
          "2024-01-17T00:00:00",
          "2024-01-18T00:00:00",
          "2024-01-19T00:00:00",
          "2024-01-22T00:00:00",
          "2024-01-23T00:00:00",
          "2024-01-24T00:00:00",
          "2024-01-25T00:00:00",
          "2024-01-26T00:00:00",
          "2024-01-29T00:00:00",
          "2024-01-30T00:00:00",
          "2024-01-31T00:00:00",
          "2024-02-01T00:00:00",
          "2024-02-02T00:00:00",
          "2024-02-05T00:00:00",
          "2024-02-06T00:00:00",
          "2024-02-07T00:00:00",
          "2024-02-08T00:00:00",
          "2024-02-09T00:00:00",
          "2024-02-12T00:00:00",
          "2024-02-13T00:00:00",
          "2024-02-14T00:00:00",
          "2024-02-15T00:00:00",
          "2024-02-16T00:00:00",
          "2024-02-19T00:00:00",
          "2024-02-20T00:00:00",
          "2024-02-21T00:00:00",
          "2024-02-22T00:00:00",
          "2024-02-23T00:00:00",
          "2024-02-26T00:00:00",
          "2024-02-27T00:00:00",
          "2024-02-28T00:00:00",
          "2024-02-29T00:00:00",
          "2024-03-01T00:00:00",
          "2024-03-04T00:00:00",
          "2024-03-05T00:00:00",
          "2024-03-06T00:00:00",
          "2024-03-07T00:00:00",
          "2024-03-08T00:00:00"
         ],
         "xaxis": "x3",
         "y": [
          421.1700134277344,
          420.6000061035156,
          427.010009765625,
          432.5299987792968,
          433.17999267578125,
          431.2300109863281,
          429.8800048828125,
          433.5700073242187,
          432.45001220703125,
          429.08999633789057,
          425.7300109863281,
          421.0799865722656,
          417.79998779296875,
          420.739990234375,
          417.0199890136719,
          411.60000610351557,
          409.2099914550781,
          412.2200012207031,
          414.2099914550781,
          418.64999389648443,
          426.5599975585938,
          433.01000976562494,
          433.67999267578125,
          434.510009765625,
          434.8699951171875,
          433.3999938964844,
          433.8299865722656,
          438.4200134277344,
          446.0899963378906,
          448.79998779296875,
          448.1199951171875,
          449.2900085449219,
          450.5199890136719,
          451.95999145507807,
          453.8900146484375,
          453.8900146484375,
          454.7300109863281,
          454.0799865722656,
          453.5,
          454.20001220703125,
          453.3399963378907,
          455.1600036621094,
          454.3399963378906,
          454.8699951171875,
          454.30999755859375,
          456.2900085449219,
          457.2099914550781,
          459.4700012207031,
          460.6000061035156,
          464.1199951171875,
          469.25000000000006,
          467.42999267578125,
          469.8900146484375,
          472.45001220703125,
          467.82000732421875,
          468.8399963378906,
          471.70001220703125,
          471.70001220703125,
          473.989990234375,
          474.89001464843756,
          476.26000976562494,
          473.29998779296875,
          473.29998779296875,
          470.48999023437506,
          468.1700134277344,
          467.0499877929688,
          466.42999267578125,
          468.29998779296875,
          471.3500061035156,
          473.8699951171875,
          472.26000976562494,
          475.2300109863282,
          475.2300109863282,
          473.05999755859375,
          469.8699951171875,
          472.4200134277344,
          476.5400085449219,
          482.7799987792969,
          482.8900146484375,
          484.8800048828125,
          485.3900146484375,
          486.5400085449219,
          487.1700134277344,
          490.1099853515625,
          482.8599853515625,
          483.79998779296875,
          489.29998779296875,
          490.23001098632807,
          492.04998779296875,
          495.3599853515625,
          497.260009765625,
          498.489990234375,
          500.23999023437506,
          490.7200012207031,
          494.3999938964844,
          498.79998779296875,
          498.75,
          498.75,
          494.4500122070313,
          493.55999755859375,
          503.0199890136719,
          507.1000061035156,
          505.8599853515625,
          504.75,
          504.9599914550781,
          505.3500061035156,
          508.55999755859375,
          512,
          504.9100036621094,
          508.42001342773443,
          509.80999755859375,
          511.1300048828125
         ],
         "yaxis": "y3"
        },
        {
         "line": {
          "dash": "dash"
         },
         "mode": "lines",
         "name": "Predicted Low",
         "type": "scatter",
         "x": [
          "2023-10-05T00:00:00",
          "2023-10-06T00:00:00",
          "2023-10-09T00:00:00",
          "2023-10-10T00:00:00",
          "2023-10-11T00:00:00",
          "2023-10-12T00:00:00",
          "2023-10-13T00:00:00",
          "2023-10-16T00:00:00",
          "2023-10-17T00:00:00",
          "2023-10-18T00:00:00",
          "2023-10-19T00:00:00",
          "2023-10-20T00:00:00",
          "2023-10-23T00:00:00",
          "2023-10-24T00:00:00",
          "2023-10-25T00:00:00",
          "2023-10-26T00:00:00",
          "2023-10-27T00:00:00",
          "2023-10-30T00:00:00",
          "2023-10-31T00:00:00",
          "2023-11-01T00:00:00",
          "2023-11-02T00:00:00",
          "2023-11-03T00:00:00",
          "2023-11-06T00:00:00",
          "2023-11-07T00:00:00",
          "2023-11-08T00:00:00",
          "2023-11-09T00:00:00",
          "2023-11-10T00:00:00",
          "2023-11-13T00:00:00",
          "2023-11-14T00:00:00",
          "2023-11-15T00:00:00",
          "2023-11-16T00:00:00",
          "2023-11-17T00:00:00",
          "2023-11-20T00:00:00",
          "2023-11-21T00:00:00",
          "2023-11-22T00:00:00",
          "2023-11-23T00:00:00",
          "2023-11-24T00:00:00",
          "2023-11-27T00:00:00",
          "2023-11-28T00:00:00",
          "2023-11-29T00:00:00",
          "2023-11-30T00:00:00",
          "2023-12-01T00:00:00",
          "2023-12-04T00:00:00",
          "2023-12-05T00:00:00",
          "2023-12-06T00:00:00",
          "2023-12-07T00:00:00",
          "2023-12-08T00:00:00",
          "2023-12-11T00:00:00",
          "2023-12-12T00:00:00",
          "2023-12-13T00:00:00",
          "2023-12-14T00:00:00",
          "2023-12-15T00:00:00",
          "2023-12-18T00:00:00",
          "2023-12-19T00:00:00",
          "2023-12-20T00:00:00",
          "2023-12-21T00:00:00",
          "2023-12-22T00:00:00",
          "2023-12-25T00:00:00",
          "2023-12-26T00:00:00",
          "2023-12-27T00:00:00",
          "2023-12-28T00:00:00",
          "2023-12-29T00:00:00",
          "2024-01-01T00:00:00",
          "2024-01-02T00:00:00",
          "2024-01-03T00:00:00",
          "2024-01-04T00:00:00",
          "2024-01-05T00:00:00",
          "2024-01-08T00:00:00",
          "2024-01-09T00:00:00",
          "2024-01-10T00:00:00",
          "2024-01-11T00:00:00",
          "2024-01-12T00:00:00",
          "2024-01-15T00:00:00",
          "2024-01-16T00:00:00",
          "2024-01-17T00:00:00",
          "2024-01-18T00:00:00",
          "2024-01-19T00:00:00",
          "2024-01-22T00:00:00",
          "2024-01-23T00:00:00",
          "2024-01-24T00:00:00",
          "2024-01-25T00:00:00",
          "2024-01-26T00:00:00",
          "2024-01-29T00:00:00",
          "2024-01-30T00:00:00",
          "2024-01-31T00:00:00",
          "2024-02-01T00:00:00",
          "2024-02-02T00:00:00",
          "2024-02-05T00:00:00",
          "2024-02-06T00:00:00",
          "2024-02-07T00:00:00",
          "2024-02-08T00:00:00",
          "2024-02-09T00:00:00",
          "2024-02-12T00:00:00",
          "2024-02-13T00:00:00",
          "2024-02-14T00:00:00",
          "2024-02-15T00:00:00",
          "2024-02-16T00:00:00",
          "2024-02-19T00:00:00",
          "2024-02-20T00:00:00",
          "2024-02-21T00:00:00",
          "2024-02-22T00:00:00",
          "2024-02-23T00:00:00",
          "2024-02-26T00:00:00",
          "2024-02-27T00:00:00",
          "2024-02-28T00:00:00",
          "2024-02-29T00:00:00",
          "2024-03-01T00:00:00",
          "2024-03-04T00:00:00",
          "2024-03-05T00:00:00",
          "2024-03-06T00:00:00",
          "2024-03-07T00:00:00",
          "2024-03-08T00:00:00"
         ],
         "xaxis": "x3",
         "y": [
          421.42181396484375,
          420.72119140625,
          422.6011047363281,
          426.19219970703125,
          430.77740478515625,
          432.9305419921875,
          432.93121337890625,
          431.8299560546875,
          431.9325866699219,
          432.7744140625,
          431.54986572265625,
          428.4803771972656,
          423.46563720703125,
          418.4757995605469,
          416.9703674316406,
          415.9350891113281,
          413.5411682128906,
          410.2682800292969,
          409.20660400390625,
          411.031494140625,
          415.6520690917969,
          422.6048583984375,
          426.8868103027344,
          428.97515869140625,
          430.2716979980469,
          431.7127380371094,
          432.6021728515625,
          434.2549133300781,
          436.6209411621094,
          441.6148376464844,
          445.6414794921875,
          446.7442932128906,
          447.503662109375,
          449.4360656738281,
          450.6159973144531,
          452.03314208984375,
          453.02606201171875,
          453.2834167480469,
          452.8458251953125,
          452.49188232421875,
          453.0922546386719,
          453.5381774902344,
          454.6623840332031,
          455.0433044433594,
          454.2607116699219,
          453.87017822265625,
          454.5715637207031,
          456.0998840332031,
          458.3363037109375,
          460.58367919921875,
          464.6795349121094,
          468.9669189453125,
          468.54083251953125,
          469.0281982421875,
          471.1064147949219,
          470.5050354003906,
          469.1375732421875,
          469.8128662109375,
          470.8416442871094,
          472.01446533203125,
          473.1361083984375,
          474.2372741699219,
          473.6655578613281,
          472.62176513671875,
          469.6393737792969,
          465.3128356933594,
          462.09027099609375,
          461.0947265625,
          464.5026550292969,
          468.7874755859375,
          472.7757263183594,
          474.6265563964844,
          475.2577209472656,
          475.1761474609375,
          473.2026062011719,
          469.1151428222656,
          468.9004821777344,
          474.67864990234375,
          480.9784240722656,
          483.70025634765625,
          485.4396667480469,
          486.37725830078125,
          486.3889465332031,
          487.3810119628906,
          488.47430419921875,
          484.6481018066406,
          481.7635498046875,
          486.17938232421875,
          489.7743835449219,
          491.0972900390625,
          493.9405822753906,
          496.2517395019531,
          498.5301208496094,
          499.8536682128906,
          493.43072509765625,
          490.53582763671875,
          493.60260009765625,
          496.08428955078125,
          496.334716796875,
          492.04632568359375,
          488.6536560058594,
          497.1376953125,
          505.5614318847656,
          507.063232421875,
          504.3547058105469,
          501.6383972167969,
          502.44232177734375,
          506.086669921875,
          508.9984130859375,
          505.1576232910156,
          503.0260925292969,
          506.5375061035156
         ],
         "yaxis": "y3"
        },
        {
         "mode": "lines",
         "name": "Actual Close",
         "type": "scatter",
         "x": [
          "2023-10-05T00:00:00",
          "2023-10-06T00:00:00",
          "2023-10-09T00:00:00",
          "2023-10-10T00:00:00",
          "2023-10-11T00:00:00",
          "2023-10-12T00:00:00",
          "2023-10-13T00:00:00",
          "2023-10-16T00:00:00",
          "2023-10-17T00:00:00",
          "2023-10-18T00:00:00",
          "2023-10-19T00:00:00",
          "2023-10-20T00:00:00",
          "2023-10-23T00:00:00",
          "2023-10-24T00:00:00",
          "2023-10-25T00:00:00",
          "2023-10-26T00:00:00",
          "2023-10-27T00:00:00",
          "2023-10-30T00:00:00",
          "2023-10-31T00:00:00",
          "2023-11-01T00:00:00",
          "2023-11-02T00:00:00",
          "2023-11-03T00:00:00",
          "2023-11-06T00:00:00",
          "2023-11-07T00:00:00",
          "2023-11-08T00:00:00",
          "2023-11-09T00:00:00",
          "2023-11-10T00:00:00",
          "2023-11-13T00:00:00",
          "2023-11-14T00:00:00",
          "2023-11-15T00:00:00",
          "2023-11-16T00:00:00",
          "2023-11-17T00:00:00",
          "2023-11-20T00:00:00",
          "2023-11-21T00:00:00",
          "2023-11-22T00:00:00",
          "2023-11-23T00:00:00",
          "2023-11-24T00:00:00",
          "2023-11-27T00:00:00",
          "2023-11-28T00:00:00",
          "2023-11-29T00:00:00",
          "2023-11-30T00:00:00",
          "2023-12-01T00:00:00",
          "2023-12-04T00:00:00",
          "2023-12-05T00:00:00",
          "2023-12-06T00:00:00",
          "2023-12-07T00:00:00",
          "2023-12-08T00:00:00",
          "2023-12-11T00:00:00",
          "2023-12-12T00:00:00",
          "2023-12-13T00:00:00",
          "2023-12-14T00:00:00",
          "2023-12-15T00:00:00",
          "2023-12-18T00:00:00",
          "2023-12-19T00:00:00",
          "2023-12-20T00:00:00",
          "2023-12-21T00:00:00",
          "2023-12-22T00:00:00",
          "2023-12-25T00:00:00",
          "2023-12-26T00:00:00",
          "2023-12-27T00:00:00",
          "2023-12-28T00:00:00",
          "2023-12-29T00:00:00",
          "2024-01-01T00:00:00",
          "2024-01-02T00:00:00",
          "2024-01-03T00:00:00",
          "2024-01-04T00:00:00",
          "2024-01-05T00:00:00",
          "2024-01-08T00:00:00",
          "2024-01-09T00:00:00",
          "2024-01-10T00:00:00",
          "2024-01-11T00:00:00",
          "2024-01-12T00:00:00",
          "2024-01-15T00:00:00",
          "2024-01-16T00:00:00",
          "2024-01-17T00:00:00",
          "2024-01-18T00:00:00",
          "2024-01-19T00:00:00",
          "2024-01-22T00:00:00",
          "2024-01-23T00:00:00",
          "2024-01-24T00:00:00",
          "2024-01-25T00:00:00",
          "2024-01-26T00:00:00",
          "2024-01-29T00:00:00",
          "2024-01-30T00:00:00",
          "2024-01-31T00:00:00",
          "2024-02-01T00:00:00",
          "2024-02-02T00:00:00",
          "2024-02-05T00:00:00",
          "2024-02-06T00:00:00",
          "2024-02-07T00:00:00",
          "2024-02-08T00:00:00",
          "2024-02-09T00:00:00",
          "2024-02-12T00:00:00",
          "2024-02-13T00:00:00",
          "2024-02-14T00:00:00",
          "2024-02-15T00:00:00",
          "2024-02-16T00:00:00",
          "2024-02-19T00:00:00",
          "2024-02-20T00:00:00",
          "2024-02-21T00:00:00",
          "2024-02-22T00:00:00",
          "2024-02-23T00:00:00",
          "2024-02-26T00:00:00",
          "2024-02-27T00:00:00",
          "2024-02-28T00:00:00",
          "2024-02-29T00:00:00",
          "2024-03-01T00:00:00",
          "2024-03-04T00:00:00",
          "2024-03-05T00:00:00",
          "2024-03-06T00:00:00",
          "2024-03-07T00:00:00",
          "2024-03-08T00:00:00"
         ],
         "xaxis": "x4",
         "y": [
          424.5,
          429.5400085449219,
          432.2900085449219,
          434.5400085449219,
          436.32000732421875,
          433.6600036621094,
          431.5,
          436.04000854492193,
          436.0199890136719,
          430.2099914550781,
          426.42999267578125,
          421.19000244140625,
          420.4599914550781,
          423.6300048828125,
          417.5499877929688,
          412.54998779296875,
          410.67999267578125,
          415.5899963378907,
          418.20001220703125,
          422.6600036621094,
          430.760009765625,
          434.69000244140625,
          435.69000244140625,
          436.9299926757813,
          437.25,
          433.8399963378906,
          440.6099853515625,
          440.19000244140625,
          448.7300109863281,
          449.6799926757812,
          450.2300109863281,
          450.7900085449218,
          454.260009765625,
          453.2699890136719,
          455.0199890136719,
          455.0199890136719,
          455.2999877929687,
          454.4800109863281,
          454.92999267578125,
          454.6099853515625,
          456.3999938964844,
          459.1000061035156,
          456.69000244140625,
          456.6000061035157,
          454.760009765625,
          458.2300109863281,
          460.20001220703125,
          461.989990234375,
          464.1000061035156,
          470.5,
          472.010009765625,
          469.3299865722656,
          471.9700012207031,
          474.8399963378906,
          468.260009765625,
          472.70001220703125,
          473.64999389648443,
          473.64999389648443,
          475.64999389648443,
          476.510009765625,
          476.69000244140625,
          475.3099975585937,
          475.3099975585937,
          472.6499938964844,
          468.7900085449219,
          467.2799987792969,
          467.92001342773443,
          474.6000061035156,
          473.8800048828125,
          476.55999755859375,
          476.3500061035156,
          476.6799926757812,
          476.6799926757812,
          474.92999267578125,
          472.2900085449219,
          476.48999023437494,
          482.42999267578125,
          483.4500122070313,
          484.8599853515625,
          485.3900146484375,
          488.0299987792969,
          487.41000366210943,
          491.2699890136719,
          490.8900146484375,
          482.8800048828125,
          489.20001220703125,
          494.3500061035156,
          492.5499877929688,
          493.9800109863281,
          498.1000061035157,
          498.32000732421875,
          501.20001220703125,
          500.9800109863282,
          494.0799865722656,
          498.57000732421875,
          502.01000976562494,
          499.510009765625,
          499.510009765625,
          496.760009765625,
          497.2099914550781,
          507.5,
          507.8500061035156,
          505.989990234375,
          506.92999267578125,
          506.260009765625,
          508.0799865722657,
          512.8499755859375,
          512.2999877929688,
          507.17999267578125,
          509.75,
          514.8099975585938,
          511.7200012207031
         ],
         "yaxis": "y4"
        },
        {
         "line": {
          "dash": "dash"
         },
         "mode": "lines",
         "name": "Predicted Close",
         "type": "scatter",
         "x": [
          "2023-10-05T00:00:00",
          "2023-10-06T00:00:00",
          "2023-10-09T00:00:00",
          "2023-10-10T00:00:00",
          "2023-10-11T00:00:00",
          "2023-10-12T00:00:00",
          "2023-10-13T00:00:00",
          "2023-10-16T00:00:00",
          "2023-10-17T00:00:00",
          "2023-10-18T00:00:00",
          "2023-10-19T00:00:00",
          "2023-10-20T00:00:00",
          "2023-10-23T00:00:00",
          "2023-10-24T00:00:00",
          "2023-10-25T00:00:00",
          "2023-10-26T00:00:00",
          "2023-10-27T00:00:00",
          "2023-10-30T00:00:00",
          "2023-10-31T00:00:00",
          "2023-11-01T00:00:00",
          "2023-11-02T00:00:00",
          "2023-11-03T00:00:00",
          "2023-11-06T00:00:00",
          "2023-11-07T00:00:00",
          "2023-11-08T00:00:00",
          "2023-11-09T00:00:00",
          "2023-11-10T00:00:00",
          "2023-11-13T00:00:00",
          "2023-11-14T00:00:00",
          "2023-11-15T00:00:00",
          "2023-11-16T00:00:00",
          "2023-11-17T00:00:00",
          "2023-11-20T00:00:00",
          "2023-11-21T00:00:00",
          "2023-11-22T00:00:00",
          "2023-11-23T00:00:00",
          "2023-11-24T00:00:00",
          "2023-11-27T00:00:00",
          "2023-11-28T00:00:00",
          "2023-11-29T00:00:00",
          "2023-11-30T00:00:00",
          "2023-12-01T00:00:00",
          "2023-12-04T00:00:00",
          "2023-12-05T00:00:00",
          "2023-12-06T00:00:00",
          "2023-12-07T00:00:00",
          "2023-12-08T00:00:00",
          "2023-12-11T00:00:00",
          "2023-12-12T00:00:00",
          "2023-12-13T00:00:00",
          "2023-12-14T00:00:00",
          "2023-12-15T00:00:00",
          "2023-12-18T00:00:00",
          "2023-12-19T00:00:00",
          "2023-12-20T00:00:00",
          "2023-12-21T00:00:00",
          "2023-12-22T00:00:00",
          "2023-12-25T00:00:00",
          "2023-12-26T00:00:00",
          "2023-12-27T00:00:00",
          "2023-12-28T00:00:00",
          "2023-12-29T00:00:00",
          "2024-01-01T00:00:00",
          "2024-01-02T00:00:00",
          "2024-01-03T00:00:00",
          "2024-01-04T00:00:00",
          "2024-01-05T00:00:00",
          "2024-01-08T00:00:00",
          "2024-01-09T00:00:00",
          "2024-01-10T00:00:00",
          "2024-01-11T00:00:00",
          "2024-01-12T00:00:00",
          "2024-01-15T00:00:00",
          "2024-01-16T00:00:00",
          "2024-01-17T00:00:00",
          "2024-01-18T00:00:00",
          "2024-01-19T00:00:00",
          "2024-01-22T00:00:00",
          "2024-01-23T00:00:00",
          "2024-01-24T00:00:00",
          "2024-01-25T00:00:00",
          "2024-01-26T00:00:00",
          "2024-01-29T00:00:00",
          "2024-01-30T00:00:00",
          "2024-01-31T00:00:00",
          "2024-02-01T00:00:00",
          "2024-02-02T00:00:00",
          "2024-02-05T00:00:00",
          "2024-02-06T00:00:00",
          "2024-02-07T00:00:00",
          "2024-02-08T00:00:00",
          "2024-02-09T00:00:00",
          "2024-02-12T00:00:00",
          "2024-02-13T00:00:00",
          "2024-02-14T00:00:00",
          "2024-02-15T00:00:00",
          "2024-02-16T00:00:00",
          "2024-02-19T00:00:00",
          "2024-02-20T00:00:00",
          "2024-02-21T00:00:00",
          "2024-02-22T00:00:00",
          "2024-02-23T00:00:00",
          "2024-02-26T00:00:00",
          "2024-02-27T00:00:00",
          "2024-02-28T00:00:00",
          "2024-02-29T00:00:00",
          "2024-03-01T00:00:00",
          "2024-03-04T00:00:00",
          "2024-03-05T00:00:00",
          "2024-03-06T00:00:00",
          "2024-03-07T00:00:00",
          "2024-03-08T00:00:00"
         ],
         "xaxis": "x4",
         "y": [
          422.69891357421875,
          422.3377685546875,
          424.367431640625,
          427.9422912597656,
          432.3144226074219,
          434.2969970703125,
          434.3113708496094,
          433.2671813964844,
          433.6039733886719,
          434.42059326171875,
          432.912353515625,
          429.7226867675781,
          424.6533203125,
          420.0089111328125,
          419.09893798828125,
          418.0523376464844,
          415.1559753417969,
          411.67742919921875,
          411.1543273925781,
          413.3223571777344,
          417.78741455078125,
          424.36431884765625,
          428.35614013671875,
          430.44781494140625,
          432.00701904296875,
          433.58770751953125,
          434.3338623046875,
          436.0819091796875,
          438.33441162109375,
          443.5982971191406,
          447.3331298828125,
          448.3429870605469,
          449.18719482421875,
          451.2566223144531,
          452.4272766113281,
          453.9142761230469,
          454.7969665527344,
          455.0206604003906,
          454.6125793457031,
          454.3283996582031,
          455.09381103515625,
          455.4521484375,
          456.7140808105469,
          456.95458984375,
          456.1632385253906,
          455.9925842285156,
          456.79876708984375,
          458.36883544921875,
          460.5516052246094,
          462.7361755371094,
          467.0762634277344,
          471.5014343261719,
          470.9501953125,
          471.6837463378906,
          473.9845275878906,
          473.2043151855469,
          472.1640319824219,
          473.32421875,
          474.2135314941406,
          475.4549865722656,
          476.5226135253906,
          477.5813903808594,
          476.90484619140625,
          476.11761474609375,
          473.0699462890625,
          469.0565490722656,
          466.23687744140625,
          465.4256591796875,
          468.888916015625,
          472.6493225097656,
          476.2025451660156,
          477.7780456542969,
          478.4410400390625,
          478.43792724609375,
          476.4698486328125,
          472.5849914550781,
          473.3197326660156,
          478.7403869628906,
          484.6046447753906,
          487.0928955078125,
          489.0444641113281,
          490.1189880371094,
          490.27130126953125,
          491.6187744140625,
          492.92755126953125,
          488.9937744140625,
          487.225341796875,
          491.5372314453125,
          494.9151611328125,
          496.2783203125,
          499.1144714355469,
          501.4007263183594,
          503.7359619140625,
          505.238525390625,
          498.9079895019531,
          497.3080139160156,
          500.322509765625,
          502.6791687011719,
          503.11651611328125,
          499.2413024902344,
          496.13433837890625,
          504.0782470703125,
          511.74969482421875,
          513.3153686523438,
          511.1524963378906,
          508.8890380859375,
          509.8738098144531,
          513.5047607421875,
          516.465576171875,
          513.2385864257812,
          511.7055358886719,
          515.0747680664062
         ],
         "yaxis": "y4"
        }
       ],
       "layout": {
        "height": 800,
        "template": {
         "data": {
          "bar": [
           {
            "error_x": {
             "color": "#2a3f5f"
            },
            "error_y": {
             "color": "#2a3f5f"
            },
            "marker": {
             "line": {
              "color": "#E5ECF6",
              "width": 0.5
             },
             "pattern": {
              "fillmode": "overlay",
              "size": 10,
              "solidity": 0.2
             }
            },
            "type": "bar"
           }
          ],
          "barpolar": [
           {
            "marker": {
             "line": {
              "color": "#E5ECF6",
              "width": 0.5
             },
             "pattern": {
              "fillmode": "overlay",
              "size": 10,
              "solidity": 0.2
             }
            },
            "type": "barpolar"
           }
          ],
          "carpet": [
           {
            "aaxis": {
             "endlinecolor": "#2a3f5f",
             "gridcolor": "white",
             "linecolor": "white",
             "minorgridcolor": "white",
             "startlinecolor": "#2a3f5f"
            },
            "baxis": {
             "endlinecolor": "#2a3f5f",
             "gridcolor": "white",
             "linecolor": "white",
             "minorgridcolor": "white",
             "startlinecolor": "#2a3f5f"
            },
            "type": "carpet"
           }
          ],
          "choropleth": [
           {
            "colorbar": {
             "outlinewidth": 0,
             "ticks": ""
            },
            "type": "choropleth"
           }
          ],
          "contour": [
           {
            "colorbar": {
             "outlinewidth": 0,
             "ticks": ""
            },
            "colorscale": [
             [
              0,
              "#0d0887"
             ],
             [
              0.1111111111111111,
              "#46039f"
             ],
             [
              0.2222222222222222,
              "#7201a8"
             ],
             [
              0.3333333333333333,
              "#9c179e"
             ],
             [
              0.4444444444444444,
              "#bd3786"
             ],
             [
              0.5555555555555556,
              "#d8576b"
             ],
             [
              0.6666666666666666,
              "#ed7953"
             ],
             [
              0.7777777777777778,
              "#fb9f3a"
             ],
             [
              0.8888888888888888,
              "#fdca26"
             ],
             [
              1,
              "#f0f921"
             ]
            ],
            "type": "contour"
           }
          ],
          "contourcarpet": [
           {
            "colorbar": {
             "outlinewidth": 0,
             "ticks": ""
            },
            "type": "contourcarpet"
           }
          ],
          "heatmap": [
           {
            "colorbar": {
             "outlinewidth": 0,
             "ticks": ""
            },
            "colorscale": [
             [
              0,
              "#0d0887"
             ],
             [
              0.1111111111111111,
              "#46039f"
             ],
             [
              0.2222222222222222,
              "#7201a8"
             ],
             [
              0.3333333333333333,
              "#9c179e"
             ],
             [
              0.4444444444444444,
              "#bd3786"
             ],
             [
              0.5555555555555556,
              "#d8576b"
             ],
             [
              0.6666666666666666,
              "#ed7953"
             ],
             [
              0.7777777777777778,
              "#fb9f3a"
             ],
             [
              0.8888888888888888,
              "#fdca26"
             ],
             [
              1,
              "#f0f921"
             ]
            ],
            "type": "heatmap"
           }
          ],
          "heatmapgl": [
           {
            "colorbar": {
             "outlinewidth": 0,
             "ticks": ""
            },
            "colorscale": [
             [
              0,
              "#0d0887"
             ],
             [
              0.1111111111111111,
              "#46039f"
             ],
             [
              0.2222222222222222,
              "#7201a8"
             ],
             [
              0.3333333333333333,
              "#9c179e"
             ],
             [
              0.4444444444444444,
              "#bd3786"
             ],
             [
              0.5555555555555556,
              "#d8576b"
             ],
             [
              0.6666666666666666,
              "#ed7953"
             ],
             [
              0.7777777777777778,
              "#fb9f3a"
             ],
             [
              0.8888888888888888,
              "#fdca26"
             ],
             [
              1,
              "#f0f921"
             ]
            ],
            "type": "heatmapgl"
           }
          ],
          "histogram": [
           {
            "marker": {
             "pattern": {
              "fillmode": "overlay",
              "size": 10,
              "solidity": 0.2
             }
            },
            "type": "histogram"
           }
          ],
          "histogram2d": [
           {
            "colorbar": {
             "outlinewidth": 0,
             "ticks": ""
            },
            "colorscale": [
             [
              0,
              "#0d0887"
             ],
             [
              0.1111111111111111,
              "#46039f"
             ],
             [
              0.2222222222222222,
              "#7201a8"
             ],
             [
              0.3333333333333333,
              "#9c179e"
             ],
             [
              0.4444444444444444,
              "#bd3786"
             ],
             [
              0.5555555555555556,
              "#d8576b"
             ],
             [
              0.6666666666666666,
              "#ed7953"
             ],
             [
              0.7777777777777778,
              "#fb9f3a"
             ],
             [
              0.8888888888888888,
              "#fdca26"
             ],
             [
              1,
              "#f0f921"
             ]
            ],
            "type": "histogram2d"
           }
          ],
          "histogram2dcontour": [
           {
            "colorbar": {
             "outlinewidth": 0,
             "ticks": ""
            },
            "colorscale": [
             [
              0,
              "#0d0887"
             ],
             [
              0.1111111111111111,
              "#46039f"
             ],
             [
              0.2222222222222222,
              "#7201a8"
             ],
             [
              0.3333333333333333,
              "#9c179e"
             ],
             [
              0.4444444444444444,
              "#bd3786"
             ],
             [
              0.5555555555555556,
              "#d8576b"
             ],
             [
              0.6666666666666666,
              "#ed7953"
             ],
             [
              0.7777777777777778,
              "#fb9f3a"
             ],
             [
              0.8888888888888888,
              "#fdca26"
             ],
             [
              1,
              "#f0f921"
             ]
            ],
            "type": "histogram2dcontour"
           }
          ],
          "mesh3d": [
           {
            "colorbar": {
             "outlinewidth": 0,
             "ticks": ""
            },
            "type": "mesh3d"
           }
          ],
          "parcoords": [
           {
            "line": {
             "colorbar": {
              "outlinewidth": 0,
              "ticks": ""
             }
            },
            "type": "parcoords"
           }
          ],
          "pie": [
           {
            "automargin": true,
            "type": "pie"
           }
          ],
          "scatter": [
           {
            "fillpattern": {
             "fillmode": "overlay",
             "size": 10,
             "solidity": 0.2
            },
            "type": "scatter"
           }
          ],
          "scatter3d": [
           {
            "line": {
             "colorbar": {
              "outlinewidth": 0,
              "ticks": ""
             }
            },
            "marker": {
             "colorbar": {
              "outlinewidth": 0,
              "ticks": ""
             }
            },
            "type": "scatter3d"
           }
          ],
          "scattercarpet": [
           {
            "marker": {
             "colorbar": {
              "outlinewidth": 0,
              "ticks": ""
             }
            },
            "type": "scattercarpet"
           }
          ],
          "scattergeo": [
           {
            "marker": {
             "colorbar": {
              "outlinewidth": 0,
              "ticks": ""
             }
            },
            "type": "scattergeo"
           }
          ],
          "scattergl": [
           {
            "marker": {
             "colorbar": {
              "outlinewidth": 0,
              "ticks": ""
             }
            },
            "type": "scattergl"
           }
          ],
          "scattermapbox": [
           {
            "marker": {
             "colorbar": {
              "outlinewidth": 0,
              "ticks": ""
             }
            },
            "type": "scattermapbox"
           }
          ],
          "scatterpolar": [
           {
            "marker": {
             "colorbar": {
              "outlinewidth": 0,
              "ticks": ""
             }
            },
            "type": "scatterpolar"
           }
          ],
          "scatterpolargl": [
           {
            "marker": {
             "colorbar": {
              "outlinewidth": 0,
              "ticks": ""
             }
            },
            "type": "scatterpolargl"
           }
          ],
          "scatterternary": [
           {
            "marker": {
             "colorbar": {
              "outlinewidth": 0,
              "ticks": ""
             }
            },
            "type": "scatterternary"
           }
          ],
          "surface": [
           {
            "colorbar": {
             "outlinewidth": 0,
             "ticks": ""
            },
            "colorscale": [
             [
              0,
              "#0d0887"
             ],
             [
              0.1111111111111111,
              "#46039f"
             ],
             [
              0.2222222222222222,
              "#7201a8"
             ],
             [
              0.3333333333333333,
              "#9c179e"
             ],
             [
              0.4444444444444444,
              "#bd3786"
             ],
             [
              0.5555555555555556,
              "#d8576b"
             ],
             [
              0.6666666666666666,
              "#ed7953"
             ],
             [
              0.7777777777777778,
              "#fb9f3a"
             ],
             [
              0.8888888888888888,
              "#fdca26"
             ],
             [
              1,
              "#f0f921"
             ]
            ],
            "type": "surface"
           }
          ],
          "table": [
           {
            "cells": {
             "fill": {
              "color": "#EBF0F8"
             },
             "line": {
              "color": "white"
             }
            },
            "header": {
             "fill": {
              "color": "#C8D4E3"
             },
             "line": {
              "color": "white"
             }
            },
            "type": "table"
           }
          ]
         },
         "layout": {
          "annotationdefaults": {
           "arrowcolor": "#2a3f5f",
           "arrowhead": 0,
           "arrowwidth": 1
          },
          "autotypenumbers": "strict",
          "coloraxis": {
           "colorbar": {
            "outlinewidth": 0,
            "ticks": ""
           }
          },
          "colorscale": {
           "diverging": [
            [
             0,
             "#8e0152"
            ],
            [
             0.1,
             "#c51b7d"
            ],
            [
             0.2,
             "#de77ae"
            ],
            [
             0.3,
             "#f1b6da"
            ],
            [
             0.4,
             "#fde0ef"
            ],
            [
             0.5,
             "#f7f7f7"
            ],
            [
             0.6,
             "#e6f5d0"
            ],
            [
             0.7,
             "#b8e186"
            ],
            [
             0.8,
             "#7fbc41"
            ],
            [
             0.9,
             "#4d9221"
            ],
            [
             1,
             "#276419"
            ]
           ],
           "sequential": [
            [
             0,
             "#0d0887"
            ],
            [
             0.1111111111111111,
             "#46039f"
            ],
            [
             0.2222222222222222,
             "#7201a8"
            ],
            [
             0.3333333333333333,
             "#9c179e"
            ],
            [
             0.4444444444444444,
             "#bd3786"
            ],
            [
             0.5555555555555556,
             "#d8576b"
            ],
            [
             0.6666666666666666,
             "#ed7953"
            ],
            [
             0.7777777777777778,
             "#fb9f3a"
            ],
            [
             0.8888888888888888,
             "#fdca26"
            ],
            [
             1,
             "#f0f921"
            ]
           ],
           "sequentialminus": [
            [
             0,
             "#0d0887"
            ],
            [
             0.1111111111111111,
             "#46039f"
            ],
            [
             0.2222222222222222,
             "#7201a8"
            ],
            [
             0.3333333333333333,
             "#9c179e"
            ],
            [
             0.4444444444444444,
             "#bd3786"
            ],
            [
             0.5555555555555556,
             "#d8576b"
            ],
            [
             0.6666666666666666,
             "#ed7953"
            ],
            [
             0.7777777777777778,
             "#fb9f3a"
            ],
            [
             0.8888888888888888,
             "#fdca26"
            ],
            [
             1,
             "#f0f921"
            ]
           ]
          },
          "colorway": [
           "#636efa",
           "#EF553B",
           "#00cc96",
           "#ab63fa",
           "#FFA15A",
           "#19d3f3",
           "#FF6692",
           "#B6E880",
           "#FF97FF",
           "#FECB52"
          ],
          "font": {
           "color": "#2a3f5f"
          },
          "geo": {
           "bgcolor": "white",
           "lakecolor": "white",
           "landcolor": "#E5ECF6",
           "showlakes": true,
           "showland": true,
           "subunitcolor": "white"
          },
          "hoverlabel": {
           "align": "left"
          },
          "hovermode": "closest",
          "mapbox": {
           "style": "light"
          },
          "paper_bgcolor": "white",
          "plot_bgcolor": "#E5ECF6",
          "polar": {
           "angularaxis": {
            "gridcolor": "white",
            "linecolor": "white",
            "ticks": ""
           },
           "bgcolor": "#E5ECF6",
           "radialaxis": {
            "gridcolor": "white",
            "linecolor": "white",
            "ticks": ""
           }
          },
          "scene": {
           "xaxis": {
            "backgroundcolor": "#E5ECF6",
            "gridcolor": "white",
            "gridwidth": 2,
            "linecolor": "white",
            "showbackground": true,
            "ticks": "",
            "zerolinecolor": "white"
           },
           "yaxis": {
            "backgroundcolor": "#E5ECF6",
            "gridcolor": "white",
            "gridwidth": 2,
            "linecolor": "white",
            "showbackground": true,
            "ticks": "",
            "zerolinecolor": "white"
           },
           "zaxis": {
            "backgroundcolor": "#E5ECF6",
            "gridcolor": "white",
            "gridwidth": 2,
            "linecolor": "white",
            "showbackground": true,
            "ticks": "",
            "zerolinecolor": "white"
           }
          },
          "shapedefaults": {
           "line": {
            "color": "#2a3f5f"
           }
          },
          "ternary": {
           "aaxis": {
            "gridcolor": "white",
            "linecolor": "white",
            "ticks": ""
           },
           "baxis": {
            "gridcolor": "white",
            "linecolor": "white",
            "ticks": ""
           },
           "bgcolor": "#E5ECF6",
           "caxis": {
            "gridcolor": "white",
            "linecolor": "white",
            "ticks": ""
           }
          },
          "title": {
           "x": 0.05
          },
          "xaxis": {
           "automargin": true,
           "gridcolor": "white",
           "linecolor": "white",
           "ticks": "",
           "title": {
            "standoff": 15
           },
           "zerolinecolor": "white",
           "zerolinewidth": 2
          },
          "yaxis": {
           "automargin": true,
           "gridcolor": "white",
           "linecolor": "white",
           "ticks": "",
           "title": {
            "standoff": 15
           },
           "zerolinecolor": "white",
           "zerolinewidth": 2
          }
         }
        },
        "title": {
         "text": "Stock Price Forecasting"
        },
        "width": 1000,
        "xaxis": {
         "anchor": "y",
         "domain": [
          0,
          1
         ],
         "matches": "x4",
         "rangeslider": {
          "visible": false
         },
         "showticklabels": false
        },
        "xaxis2": {
         "anchor": "y2",
         "domain": [
          0,
          1
         ],
         "matches": "x4",
         "showticklabels": false
        },
        "xaxis3": {
         "anchor": "y3",
         "domain": [
          0,
          1
         ],
         "matches": "x4",
         "showticklabels": false
        },
        "xaxis4": {
         "anchor": "y4",
         "domain": [
          0,
          1
         ],
         "title": {
          "text": "<b>Date</b>"
         }
        },
        "yaxis": {
         "anchor": "x",
         "domain": [
          0.7649999999999999,
          0.9999999999999999
         ],
         "title": {
          "text": "<b>Price</b>"
         }
        },
        "yaxis2": {
         "anchor": "x2",
         "domain": [
          0.51,
          0.745
         ],
         "title": {
          "text": "<b>Price</b>"
         }
        },
        "yaxis3": {
         "anchor": "x3",
         "domain": [
          0.255,
          0.49
         ],
         "title": {
          "text": "<b>Price</b>"
         }
        },
        "yaxis4": {
         "anchor": "x4",
         "domain": [
          0,
          0.235
         ],
         "title": {
          "text": "<b>Price</b>"
         }
        }
       }
      }
     },
     "metadata": {},
     "output_type": "display_data"
    }
   ],
   "source": [
    "\n",
    "def download_stock_data(ticker, start_date, end_date):\n",
    "    stock_data = yf.download(ticker, start=start_date, end=end_date)\n",
    "    stock_data = stock_data.sort_index().asfreq('B', method='ffill')\n",
    "    stock_data.index = pd.to_datetime(stock_data.index)\n",
    "    return stock_data\n",
    "\n",
    "# def scale_data(data):\n",
    "#     scaler = MinMaxScaler()\n",
    "#     scaled_data = scaler.fit_transform(data)\n",
    "#     return scaler, scaled_data\n",
    "def scale_data(data, feature_names):\n",
    "    scaler = MinMaxScaler()\n",
    "    # Convert the data to a DataFrame to ensure feature names are used\n",
    "    data_df = pd.DataFrame(data, columns=feature_names)\n",
    "    scaled_data = scaler.fit_transform(data_df)\n",
    "    return scaler, scaled_data\n",
    "\n",
    "\n",
    "def create_sequences(data, seq_length):\n",
    "    xs, ys = [], []\n",
    "    for i in range(len(data) - seq_length):\n",
    "        xs.append(data[i:(i + seq_length)])\n",
    "        ys.append(data[i + seq_length])\n",
    "    return np.array(xs), np.array(ys)\n",
    "\n",
    "def build_and_train_model(X_train, y_train, seq_length, num_features, epochs, batch_size):\n",
    "    model = Sequential([\n",
    "        LSTM(50, activation='relu', return_sequences=True, input_shape=(seq_length, num_features)),\n",
    "        LSTM(50, activation='relu'),\n",
    "        Dense(num_features)\n",
    "    ])\n",
    "    model.compile(optimizer='adam', loss='mse')\n",
    "    model.fit(X_train, y_train, epochs=epochs, batch_size=batch_size, verbose=0)\n",
    "    return model\n",
    "\n",
    "def calculate_metrics(y_true, y_pred):\n",
    "    mae = mean_absolute_error(y_true, y_pred)\n",
    "    mse = mean_squared_error(y_true, y_pred)\n",
    "    rmse = np.sqrt(mse)\n",
    "    return mae, mse, rmse\n",
    "\n",
    "def plot_forecasts(stock_data, predicted_values, y_test, seq_length, split_idx, scaler):\n",
    "    dates = stock_data.index[split_idx + seq_length:]\n",
    "    predicted_prices = scaler.inverse_transform(predicted_values)\n",
    "    actual_prices = scaler.inverse_transform(y_test)\n",
    "\n",
    "    fig = make_subplots(rows=4, cols=1, shared_xaxes=True, vertical_spacing=0.02)\n",
    "    feature_names = ['Open', 'High', 'Low', 'Close']\n",
    "\n",
    "    for i, feature in enumerate(feature_names):\n",
    "        fig.add_trace(go.Scatter(x=dates, y=actual_prices[:, i], mode='lines', name=f'Actual {feature}'), row=i+1, col=1)\n",
    "        fig.add_trace(go.Scatter(x=dates, y=predicted_prices[:, i], mode='lines', name=f'Predicted {feature}', line=dict(dash='dash')), row=i+1, col=1)\n",
    "\n",
    "    fig.update_layout(height=800, width=1000, title_text=\"Stock Price Forecasting\")\n",
    "    fig.update_yaxes(title_text=\"<b>Price</b>\")\n",
    "    fig.update_xaxes(title_text=\"<b>Date</b>\", row=4, col=1)\n",
    "    fig.update_layout(xaxis_rangeslider_visible=False)\n",
    "    fig.show()\n",
    "\n",
    "def forecast_and_plot(stock_data, features, seq_length):\n",
    "#     scaler, scaled_data = scale_data(stock_data[features].values)\n",
    "    scaler, scaled_data = scale_data(stock_data[features].values, features)\n",
    "    X, y = create_sequences(scaled_data, seq_length)\n",
    "    split_idx = int(len(X) * 0.8)\n",
    "    X_train, y_train = X[:split_idx], y[:split_idx]\n",
    "    X_test, y_test = X[split_idx:], y[split_idx:]\n",
    "\n",
    "    X_train = X_train.reshape((X_train.shape[0], X_train.shape[1], len(features)))\n",
    "    X_test = X_test.reshape((X_test.shape[0], X_test.shape[1], len(features)))\n",
    "    \n",
    "    model = build_and_train_model(X_train, y_train, seq_length, len(features), epochs=50, batch_size=32)\n",
    "    predicted_values = model.predict(X_test)\n",
    "    mae, mse, rmse = calculate_metrics(scaler.inverse_transform(y_test), scaler.inverse_transform(predicted_values))\n",
    "    \n",
    "    print(f\"MAE: {mae}, MSE: {mse}, RMSE: {rmse}\")\n",
    "    plot_forecasts(stock_data, predicted_values, y_test, seq_length, split_idx, scaler)\n",
    "\n",
    "# Parameters and usage\n",
    "ticker = 'SPY'\n",
    "features = ['Open', 'High', 'Low', 'Close']\n",
    "start_date = '2022-01-01'\n",
    "end_date = '2024-03-11'\n",
    "seq_length = 10\n",
    "\n",
    "stock_data = download_stock_data(ticker, start_date, end_date)\n",
    "forecast_and_plot(stock_data, features, seq_length)\n"
   ]
  },
  {
   "attachments": {},
   "cell_type": "markdown",
   "id": "425cf39f",
   "metadata": {},
   "source": [
    "## Future Price Forecasting Function\n",
    "\n",
    "The `forecast_future` function aims to predict future stock prices for a set number of days beyond the available data. It uses the last known data sequence as the input to the LSTM model to generate future predictions iteratively.\n",
    "\n",
    "### Parameters:\n",
    "- `stock_data`: The DataFrame containing historical stock data.\n",
    "- `model`: The trained LSTM model for prediction.\n",
    "- `scaler`: The scaler object used for normalizing the data.\n",
    "- `seq_length`: The length of the input data sequence for the LSTM model.\n",
    "- `num_features`: The number of features in the input data.\n",
    "- `future_days`: The number of future days to predict.\n",
    "\n",
    "### Process:\n",
    "- The function first extracts the last sequence of data from the DataFrame.\n",
    "- This sequence is then scaled and fed into the model to predict the next time step.\n",
    "- This process is repeated for the specified number of `future_days`.\n",
    "- Each new prediction is appended to the sequence for subsequent predictions.\n",
    "\n",
    "### Returns:\n",
    "- `future_predictions`: An array of predicted values for the specified number of days into the future.\n",
    "\n",
    "## Complete Forecasting and Plotting Function\n",
    "\n",
    "The `forecast_and_plot_complete` function encompasses the entire process of forecasting and visualization. It integrates data preparation, model training, evaluation, and future price prediction into a single workflow.\n",
    "\n",
    "### Parameters:\n",
    "- `ticker`: The stock symbol for the company being analyzed.\n",
    "- `features`: The list of stock attributes to use for prediction, such as 'Open', 'High', 'Low', 'Close'.\n",
    "- `start_date`: The starting date for the historical data to download.\n",
    "- `end_date`: The ending date for the historical data to download.\n",
    "- `seq_length`: The length of the sequence to use in the LSTM model.\n",
    "- `future_days`: The number of future days to forecast and visualize.\n",
    "\n",
    "### Workflow:\n",
    "- The function begins by downloading and scaling the stock data.\n",
    "- It then creates sequences for the LSTM and splits the data into training and test sets.\n",
    "- A LSTM model is built and trained with the training data.\n",
    "- The model's performance is evaluated on the test data using metrics such as MAE, MSE, and RMSE.\n",
    "- Future prices are forecasted using the entire available dataset.\n",
    "- The future predictions are visualized as 'ghost candles' on a plot, providing a graphical representation of expected future price movements.\n",
    "\n",
    "### Execution:\n",
    "- Set the parameters for the stock symbol, features, date range, and sequence length.\n",
    "- Call `forecast_and_plot_complete` to perform the forecasting and plotting.\n"
   ]
  },
  {
   "cell_type": "code",
   "execution_count": 6,
   "id": "09b4c695",
   "metadata": {},
   "outputs": [
    {
     "name": "stderr",
     "output_type": "stream",
     "text": [
      "[*********************100%%**********************]  1 of 1 completed\n",
      "c:\\ProgramData\\anaconda3\\envs\\jupyter-ai\\Lib\\site-packages\\keras\\src\\layers\\rnn\\rnn.py:205: UserWarning:\n",
      "\n",
      "Do not pass an `input_shape`/`input_dim` argument to a layer. When using Sequential models, prefer using an `Input(shape)` object as the first layer in the model instead.\n",
      "\n"
     ]
    },
    {
     "name": "stdout",
     "output_type": "stream",
     "text": [
      "\u001b[1m4/4\u001b[0m \u001b[32m━━━━━━━━━━━━━━━━━━━━\u001b[0m\u001b[37m\u001b[0m \u001b[1m0s\u001b[0m 66ms/step\n",
      "Test Set - MAE: 3.8451298093332857, MSE: 25.77214113223251, RMSE: 5.07662694436301\n",
      "\u001b[1m1/1\u001b[0m \u001b[32m━━━━━━━━━━━━━━━━━━━━\u001b[0m\u001b[37m\u001b[0m \u001b[1m0s\u001b[0m 18ms/step\n",
      "\u001b[1m1/1\u001b[0m \u001b[32m━━━━━━━━━━━━━━━━━━━━\u001b[0m\u001b[37m\u001b[0m \u001b[1m0s\u001b[0m 17ms/step\n",
      "\u001b[1m1/1\u001b[0m \u001b[32m━━━━━━━━━━━━━━━━━━━━\u001b[0m\u001b[37m\u001b[0m \u001b[1m0s\u001b[0m 17ms/step\n",
      "\u001b[1m1/1\u001b[0m \u001b[32m━━━━━━━━━━━━━━━━━━━━\u001b[0m\u001b[37m\u001b[0m \u001b[1m0s\u001b[0m 16ms/step\n",
      "\u001b[1m1/1\u001b[0m \u001b[32m━━━━━━━━━━━━━━━━━━━━\u001b[0m\u001b[37m\u001b[0m \u001b[1m0s\u001b[0m 17ms/step\n",
      "\u001b[1m1/1\u001b[0m \u001b[32m━━━━━━━━━━━━━━━━━━━━\u001b[0m\u001b[37m\u001b[0m \u001b[1m0s\u001b[0m 16ms/step\n",
      "\u001b[1m1/1\u001b[0m \u001b[32m━━━━━━━━━━━━━━━━━━━━\u001b[0m\u001b[37m\u001b[0m \u001b[1m0s\u001b[0m 18ms/step\n",
      "\u001b[1m1/1\u001b[0m \u001b[32m━━━━━━━━━━━━━━━━━━━━\u001b[0m\u001b[37m\u001b[0m \u001b[1m0s\u001b[0m 18ms/step\n",
      "\u001b[1m1/1\u001b[0m \u001b[32m━━━━━━━━━━━━━━━━━━━━\u001b[0m\u001b[37m\u001b[0m \u001b[1m0s\u001b[0m 16ms/step\n",
      "\u001b[1m1/1\u001b[0m \u001b[32m━━━━━━━━━━━━━━━━━━━━\u001b[0m\u001b[37m\u001b[0m \u001b[1m0s\u001b[0m 18ms/step\n"
     ]
    },
    {
     "data": {
      "application/vnd.plotly.v1+json": {
       "config": {
        "plotlyServerURL": "https://plot.ly"
       },
       "data": [
        {
         "close": [
          510.0438232421875,
          509.1671447753906,
          505.4958801269531,
          499.5770263671875,
          489.437744140625,
          472.9251708984375,
          447.2040710449219,
          408.8868103027344,
          357.6507263183594,
          299.8592529296875
         ],
         "high": [
          521.0415649414062,
          520.472412109375,
          517.4617919921875,
          512.5592651367188,
          503.7379150390625,
          488.9042663574219,
          465.3503112792969,
          429.8312683105469,
          380.5845947265625,
          321.5823669433594
         ],
         "low": [
          506.66412353515625,
          505.91461181640625,
          501.759033203125,
          495.28125,
          484.5173034667969,
          467.1011047363281,
          440.2206726074219,
          400.74627685546875,
          348.615478515625,
          292.3798828125
         ],
         "name": "Forecast",
         "open": [
          510.3900451660156,
          509.6353454589844,
          505.98382568359375,
          500.3141784667969,
          490.6683349609375,
          474.9004821777344,
          450.6538391113281,
          414.4216003417969,
          365.0967712402344,
          312.20697021484375
         ],
         "type": "candlestick",
         "x": [
          "2024-03-11T00:00:00",
          "2024-03-12T00:00:00",
          "2024-03-13T00:00:00",
          "2024-03-14T00:00:00",
          "2024-03-15T00:00:00",
          "2024-03-18T00:00:00",
          "2024-03-19T00:00:00",
          "2024-03-20T00:00:00",
          "2024-03-21T00:00:00",
          "2024-03-22T00:00:00"
         ]
        }
       ],
       "layout": {
        "template": {
         "data": {
          "bar": [
           {
            "error_x": {
             "color": "#2a3f5f"
            },
            "error_y": {
             "color": "#2a3f5f"
            },
            "marker": {
             "line": {
              "color": "#E5ECF6",
              "width": 0.5
             },
             "pattern": {
              "fillmode": "overlay",
              "size": 10,
              "solidity": 0.2
             }
            },
            "type": "bar"
           }
          ],
          "barpolar": [
           {
            "marker": {
             "line": {
              "color": "#E5ECF6",
              "width": 0.5
             },
             "pattern": {
              "fillmode": "overlay",
              "size": 10,
              "solidity": 0.2
             }
            },
            "type": "barpolar"
           }
          ],
          "carpet": [
           {
            "aaxis": {
             "endlinecolor": "#2a3f5f",
             "gridcolor": "white",
             "linecolor": "white",
             "minorgridcolor": "white",
             "startlinecolor": "#2a3f5f"
            },
            "baxis": {
             "endlinecolor": "#2a3f5f",
             "gridcolor": "white",
             "linecolor": "white",
             "minorgridcolor": "white",
             "startlinecolor": "#2a3f5f"
            },
            "type": "carpet"
           }
          ],
          "choropleth": [
           {
            "colorbar": {
             "outlinewidth": 0,
             "ticks": ""
            },
            "type": "choropleth"
           }
          ],
          "contour": [
           {
            "colorbar": {
             "outlinewidth": 0,
             "ticks": ""
            },
            "colorscale": [
             [
              0,
              "#0d0887"
             ],
             [
              0.1111111111111111,
              "#46039f"
             ],
             [
              0.2222222222222222,
              "#7201a8"
             ],
             [
              0.3333333333333333,
              "#9c179e"
             ],
             [
              0.4444444444444444,
              "#bd3786"
             ],
             [
              0.5555555555555556,
              "#d8576b"
             ],
             [
              0.6666666666666666,
              "#ed7953"
             ],
             [
              0.7777777777777778,
              "#fb9f3a"
             ],
             [
              0.8888888888888888,
              "#fdca26"
             ],
             [
              1,
              "#f0f921"
             ]
            ],
            "type": "contour"
           }
          ],
          "contourcarpet": [
           {
            "colorbar": {
             "outlinewidth": 0,
             "ticks": ""
            },
            "type": "contourcarpet"
           }
          ],
          "heatmap": [
           {
            "colorbar": {
             "outlinewidth": 0,
             "ticks": ""
            },
            "colorscale": [
             [
              0,
              "#0d0887"
             ],
             [
              0.1111111111111111,
              "#46039f"
             ],
             [
              0.2222222222222222,
              "#7201a8"
             ],
             [
              0.3333333333333333,
              "#9c179e"
             ],
             [
              0.4444444444444444,
              "#bd3786"
             ],
             [
              0.5555555555555556,
              "#d8576b"
             ],
             [
              0.6666666666666666,
              "#ed7953"
             ],
             [
              0.7777777777777778,
              "#fb9f3a"
             ],
             [
              0.8888888888888888,
              "#fdca26"
             ],
             [
              1,
              "#f0f921"
             ]
            ],
            "type": "heatmap"
           }
          ],
          "heatmapgl": [
           {
            "colorbar": {
             "outlinewidth": 0,
             "ticks": ""
            },
            "colorscale": [
             [
              0,
              "#0d0887"
             ],
             [
              0.1111111111111111,
              "#46039f"
             ],
             [
              0.2222222222222222,
              "#7201a8"
             ],
             [
              0.3333333333333333,
              "#9c179e"
             ],
             [
              0.4444444444444444,
              "#bd3786"
             ],
             [
              0.5555555555555556,
              "#d8576b"
             ],
             [
              0.6666666666666666,
              "#ed7953"
             ],
             [
              0.7777777777777778,
              "#fb9f3a"
             ],
             [
              0.8888888888888888,
              "#fdca26"
             ],
             [
              1,
              "#f0f921"
             ]
            ],
            "type": "heatmapgl"
           }
          ],
          "histogram": [
           {
            "marker": {
             "pattern": {
              "fillmode": "overlay",
              "size": 10,
              "solidity": 0.2
             }
            },
            "type": "histogram"
           }
          ],
          "histogram2d": [
           {
            "colorbar": {
             "outlinewidth": 0,
             "ticks": ""
            },
            "colorscale": [
             [
              0,
              "#0d0887"
             ],
             [
              0.1111111111111111,
              "#46039f"
             ],
             [
              0.2222222222222222,
              "#7201a8"
             ],
             [
              0.3333333333333333,
              "#9c179e"
             ],
             [
              0.4444444444444444,
              "#bd3786"
             ],
             [
              0.5555555555555556,
              "#d8576b"
             ],
             [
              0.6666666666666666,
              "#ed7953"
             ],
             [
              0.7777777777777778,
              "#fb9f3a"
             ],
             [
              0.8888888888888888,
              "#fdca26"
             ],
             [
              1,
              "#f0f921"
             ]
            ],
            "type": "histogram2d"
           }
          ],
          "histogram2dcontour": [
           {
            "colorbar": {
             "outlinewidth": 0,
             "ticks": ""
            },
            "colorscale": [
             [
              0,
              "#0d0887"
             ],
             [
              0.1111111111111111,
              "#46039f"
             ],
             [
              0.2222222222222222,
              "#7201a8"
             ],
             [
              0.3333333333333333,
              "#9c179e"
             ],
             [
              0.4444444444444444,
              "#bd3786"
             ],
             [
              0.5555555555555556,
              "#d8576b"
             ],
             [
              0.6666666666666666,
              "#ed7953"
             ],
             [
              0.7777777777777778,
              "#fb9f3a"
             ],
             [
              0.8888888888888888,
              "#fdca26"
             ],
             [
              1,
              "#f0f921"
             ]
            ],
            "type": "histogram2dcontour"
           }
          ],
          "mesh3d": [
           {
            "colorbar": {
             "outlinewidth": 0,
             "ticks": ""
            },
            "type": "mesh3d"
           }
          ],
          "parcoords": [
           {
            "line": {
             "colorbar": {
              "outlinewidth": 0,
              "ticks": ""
             }
            },
            "type": "parcoords"
           }
          ],
          "pie": [
           {
            "automargin": true,
            "type": "pie"
           }
          ],
          "scatter": [
           {
            "fillpattern": {
             "fillmode": "overlay",
             "size": 10,
             "solidity": 0.2
            },
            "type": "scatter"
           }
          ],
          "scatter3d": [
           {
            "line": {
             "colorbar": {
              "outlinewidth": 0,
              "ticks": ""
             }
            },
            "marker": {
             "colorbar": {
              "outlinewidth": 0,
              "ticks": ""
             }
            },
            "type": "scatter3d"
           }
          ],
          "scattercarpet": [
           {
            "marker": {
             "colorbar": {
              "outlinewidth": 0,
              "ticks": ""
             }
            },
            "type": "scattercarpet"
           }
          ],
          "scattergeo": [
           {
            "marker": {
             "colorbar": {
              "outlinewidth": 0,
              "ticks": ""
             }
            },
            "type": "scattergeo"
           }
          ],
          "scattergl": [
           {
            "marker": {
             "colorbar": {
              "outlinewidth": 0,
              "ticks": ""
             }
            },
            "type": "scattergl"
           }
          ],
          "scattermapbox": [
           {
            "marker": {
             "colorbar": {
              "outlinewidth": 0,
              "ticks": ""
             }
            },
            "type": "scattermapbox"
           }
          ],
          "scatterpolar": [
           {
            "marker": {
             "colorbar": {
              "outlinewidth": 0,
              "ticks": ""
             }
            },
            "type": "scatterpolar"
           }
          ],
          "scatterpolargl": [
           {
            "marker": {
             "colorbar": {
              "outlinewidth": 0,
              "ticks": ""
             }
            },
            "type": "scatterpolargl"
           }
          ],
          "scatterternary": [
           {
            "marker": {
             "colorbar": {
              "outlinewidth": 0,
              "ticks": ""
             }
            },
            "type": "scatterternary"
           }
          ],
          "surface": [
           {
            "colorbar": {
             "outlinewidth": 0,
             "ticks": ""
            },
            "colorscale": [
             [
              0,
              "#0d0887"
             ],
             [
              0.1111111111111111,
              "#46039f"
             ],
             [
              0.2222222222222222,
              "#7201a8"
             ],
             [
              0.3333333333333333,
              "#9c179e"
             ],
             [
              0.4444444444444444,
              "#bd3786"
             ],
             [
              0.5555555555555556,
              "#d8576b"
             ],
             [
              0.6666666666666666,
              "#ed7953"
             ],
             [
              0.7777777777777778,
              "#fb9f3a"
             ],
             [
              0.8888888888888888,
              "#fdca26"
             ],
             [
              1,
              "#f0f921"
             ]
            ],
            "type": "surface"
           }
          ],
          "table": [
           {
            "cells": {
             "fill": {
              "color": "#EBF0F8"
             },
             "line": {
              "color": "white"
             }
            },
            "header": {
             "fill": {
              "color": "#C8D4E3"
             },
             "line": {
              "color": "white"
             }
            },
            "type": "table"
           }
          ]
         },
         "layout": {
          "annotationdefaults": {
           "arrowcolor": "#2a3f5f",
           "arrowhead": 0,
           "arrowwidth": 1
          },
          "autotypenumbers": "strict",
          "coloraxis": {
           "colorbar": {
            "outlinewidth": 0,
            "ticks": ""
           }
          },
          "colorscale": {
           "diverging": [
            [
             0,
             "#8e0152"
            ],
            [
             0.1,
             "#c51b7d"
            ],
            [
             0.2,
             "#de77ae"
            ],
            [
             0.3,
             "#f1b6da"
            ],
            [
             0.4,
             "#fde0ef"
            ],
            [
             0.5,
             "#f7f7f7"
            ],
            [
             0.6,
             "#e6f5d0"
            ],
            [
             0.7,
             "#b8e186"
            ],
            [
             0.8,
             "#7fbc41"
            ],
            [
             0.9,
             "#4d9221"
            ],
            [
             1,
             "#276419"
            ]
           ],
           "sequential": [
            [
             0,
             "#0d0887"
            ],
            [
             0.1111111111111111,
             "#46039f"
            ],
            [
             0.2222222222222222,
             "#7201a8"
            ],
            [
             0.3333333333333333,
             "#9c179e"
            ],
            [
             0.4444444444444444,
             "#bd3786"
            ],
            [
             0.5555555555555556,
             "#d8576b"
            ],
            [
             0.6666666666666666,
             "#ed7953"
            ],
            [
             0.7777777777777778,
             "#fb9f3a"
            ],
            [
             0.8888888888888888,
             "#fdca26"
            ],
            [
             1,
             "#f0f921"
            ]
           ],
           "sequentialminus": [
            [
             0,
             "#0d0887"
            ],
            [
             0.1111111111111111,
             "#46039f"
            ],
            [
             0.2222222222222222,
             "#7201a8"
            ],
            [
             0.3333333333333333,
             "#9c179e"
            ],
            [
             0.4444444444444444,
             "#bd3786"
            ],
            [
             0.5555555555555556,
             "#d8576b"
            ],
            [
             0.6666666666666666,
             "#ed7953"
            ],
            [
             0.7777777777777778,
             "#fb9f3a"
            ],
            [
             0.8888888888888888,
             "#fdca26"
            ],
            [
             1,
             "#f0f921"
            ]
           ]
          },
          "colorway": [
           "#636efa",
           "#EF553B",
           "#00cc96",
           "#ab63fa",
           "#FFA15A",
           "#19d3f3",
           "#FF6692",
           "#B6E880",
           "#FF97FF",
           "#FECB52"
          ],
          "font": {
           "color": "#2a3f5f"
          },
          "geo": {
           "bgcolor": "white",
           "lakecolor": "white",
           "landcolor": "#E5ECF6",
           "showlakes": true,
           "showland": true,
           "subunitcolor": "white"
          },
          "hoverlabel": {
           "align": "left"
          },
          "hovermode": "closest",
          "mapbox": {
           "style": "light"
          },
          "paper_bgcolor": "white",
          "plot_bgcolor": "#E5ECF6",
          "polar": {
           "angularaxis": {
            "gridcolor": "white",
            "linecolor": "white",
            "ticks": ""
           },
           "bgcolor": "#E5ECF6",
           "radialaxis": {
            "gridcolor": "white",
            "linecolor": "white",
            "ticks": ""
           }
          },
          "scene": {
           "xaxis": {
            "backgroundcolor": "#E5ECF6",
            "gridcolor": "white",
            "gridwidth": 2,
            "linecolor": "white",
            "showbackground": true,
            "ticks": "",
            "zerolinecolor": "white"
           },
           "yaxis": {
            "backgroundcolor": "#E5ECF6",
            "gridcolor": "white",
            "gridwidth": 2,
            "linecolor": "white",
            "showbackground": true,
            "ticks": "",
            "zerolinecolor": "white"
           },
           "zaxis": {
            "backgroundcolor": "#E5ECF6",
            "gridcolor": "white",
            "gridwidth": 2,
            "linecolor": "white",
            "showbackground": true,
            "ticks": "",
            "zerolinecolor": "white"
           }
          },
          "shapedefaults": {
           "line": {
            "color": "#2a3f5f"
           }
          },
          "ternary": {
           "aaxis": {
            "gridcolor": "white",
            "linecolor": "white",
            "ticks": ""
           },
           "baxis": {
            "gridcolor": "white",
            "linecolor": "white",
            "ticks": ""
           },
           "bgcolor": "#E5ECF6",
           "caxis": {
            "gridcolor": "white",
            "linecolor": "white",
            "ticks": ""
           }
          },
          "title": {
           "x": 0.05
          },
          "xaxis": {
           "automargin": true,
           "gridcolor": "white",
           "linecolor": "white",
           "ticks": "",
           "title": {
            "standoff": 15
           },
           "zerolinecolor": "white",
           "zerolinewidth": 2
          },
          "yaxis": {
           "automargin": true,
           "gridcolor": "white",
           "linecolor": "white",
           "ticks": "",
           "title": {
            "standoff": 15
           },
           "zerolinecolor": "white",
           "zerolinewidth": 2
          }
         }
        },
        "title": {
         "text": "Forecasted OHLC Prices for the Next Days"
        },
        "xaxis": {
         "rangeslider": {
          "visible": false
         },
         "title": {
          "text": "Date"
         }
        },
        "yaxis": {
         "title": {
          "text": "Price"
         }
        }
       }
      }
     },
     "metadata": {},
     "output_type": "display_data"
    }
   ],
   "source": [
    "def plot_ghost_candles(future_predictions, start_date):\n",
    "    future_dates = pd.date_range(start=start_date, periods=len(future_predictions), freq='B')\n",
    "    \n",
    "    fig = go.Figure(data=[go.Candlestick(x=future_dates,\n",
    "                                         open=future_predictions[:, 0],\n",
    "                                         high=future_predictions[:, 1],\n",
    "                                         low=future_predictions[:, 2],\n",
    "                                         close=future_predictions[:, 3],\n",
    "                                         name='Forecast')])\n",
    "    fig.update_layout(title='Forecasted OHLC Prices for the Next Days',\n",
    "                      xaxis_title='Date',\n",
    "                      yaxis_title='Price',\n",
    "                      xaxis_rangeslider_visible=False)\n",
    "    fig.show()\n",
    "def forecast_future(stock_data, model, scaler, seq_length, num_features, future_days=10):\n",
    "    # Directly use the DataFrame without slicing it before the function call\n",
    "    # Ensure stock_data is in the expected DataFrame format with columns\n",
    "    \n",
    "    # Extract the last sequence from the DataFrame\n",
    "    last_sequence_df = stock_data.iloc[-seq_length:]  # Ensure this is a DataFrame slice\n",
    "    last_sequence = scaler.transform(last_sequence_df[features])\n",
    "    last_sequence = np.expand_dims(last_sequence, axis=0)\n",
    "    \n",
    "    future_predictions = []\n",
    "    \n",
    "    for _ in range(future_days):\n",
    "        prediction = model.predict(last_sequence)\n",
    "        future_predictions.append(prediction[0])\n",
    "        last_sequence = np.roll(last_sequence, -1, axis=1)\n",
    "        last_sequence[:, -1, :] = prediction\n",
    "\n",
    "    future_predictions = np.array(future_predictions)\n",
    "    future_predictions = scaler.inverse_transform(future_predictions)\n",
    "    \n",
    "    return future_predictions\n",
    "\n",
    "def forecast_and_plot_complete(ticker, features, start_date, end_date, seq_length, future_days=10):\n",
    "    stock_data = download_stock_data(ticker, start_date, end_date)\n",
    "#     scaler, scaled_data = scale_data(stock_data[features].values)\n",
    "    scaler, scaled_data = scale_data(stock_data[features].values, features)\n",
    "    \n",
    "    X, y = create_sequences(scaled_data, seq_length)\n",
    "    split_idx = int(len(X) * 0.8)\n",
    "    X_train, y_train = X[:split_idx], y[:split_idx]\n",
    "    X_test, y_test = X[split_idx:], y[split_idx:]\n",
    "    \n",
    "    num_features = len(features)\n",
    "    X_train = X_train.reshape((X_train.shape[0], seq_length, num_features))\n",
    "    X_test = X_test.reshape((X_test.shape[0], seq_length, num_features))\n",
    "    \n",
    "    model = build_and_train_model(X_train, y_train, seq_length, num_features, epochs=50, batch_size=32)\n",
    "    \n",
    "    # Generate predictions for the test set\n",
    "    predicted_values_test = model.predict(X_test)\n",
    "    mae, mse, rmse = calculate_metrics(scaler.inverse_transform(y_test), scaler.inverse_transform(predicted_values_test))\n",
    "    print(f\"Test Set - MAE: {mae}, MSE: {mse}, RMSE: {rmse}\")\n",
    "    \n",
    "    # Forecast future prices directly from the entire stock_data DataFrame\n",
    "    future_predictions = forecast_future(stock_data, model, scaler, seq_length, num_features, future_days)\n",
    "    plot_ghost_candles(future_predictions, '2024-03-11')\n",
    "\n",
    "# Parameters\n",
    "ticker = 'SPY'\n",
    "features = ['Open', 'High', 'Low', 'Close']\n",
    "start_date = '2022-03-11'\n",
    "end_date = '2024-03-11'\n",
    "seq_length = 10\n",
    "\n",
    "# Execute the complete forecast and plot function\n",
    "forecast_and_plot_complete(ticker, features, start_date, end_date, seq_length)"
   ]
  },
  {
   "attachments": {},
   "cell_type": "markdown",
   "id": "30aae71f",
   "metadata": {},
   "source": [
    "## Improving OHLC Data Forecasting with LSTM Models\n",
    "\n",
    "### Refactoring Using Stationary Features\n",
    "\n",
    "Making time series data stationary can help improve model performance. Here are two methods:\n",
    "\n",
    "- **Differencing**\n",
    "    ```python\n",
    "    def make_stationary(data):\n",
    "        return data.diff().dropna()\n",
    "    ```\n",
    "\n",
    "- **Log Transformation and Differencing**\n",
    "    ```python\n",
    "    def log_and_difference(data):\n",
    "        return np.log(data).diff().dropna()\n",
    "    ```\n",
    "\n",
    "### Model Architecture and Training Enhancements\n",
    "\n",
    "- **Hyperparameter Tuning**: Use grid search or Bayesian optimization for optimal configurations.\n",
    "- **Regularization**: Add dropout layers or use L1/L2 regularization to reduce overfitting.\n",
    "- **Feature Engineering**: Include additional features like volume, moving averages, or economic indicators.\n",
    "\n",
    "### Forecasting Strategy Adjustments\n",
    "\n",
    "- **Forecasting Each Feature Individually**: Build separate models for Open, High, Low, Close to potentially improve accuracy.\n",
    "- **Using Lower Timeframes**: Incorporate lower timeframe data (e.g., hourly) for more granular insights.\n",
    "- **Ensemble Methods**: Use a combination of models, including different architectures or configurations, to make predictions.\n",
    "\n",
    "### Reducing Mean Errors\n",
    "\n",
    "- **Loss Function**: Experiment with different loss functions, like Mean Squared Logarithmic Error (MSLE), which is more robust to outliers.\n",
    "- **Evaluation on a Normalized Scale**: Use percentage errors for meaningful and consistent evaluation.\n",
    "- **Advanced Architectures**: Explore Transformer models or GRU networks that might offer better performance for time series data.\n",
    "\n",
    "### Practical Implementation Tips\n",
    "\n",
    "- **Backtesting Strategy**: Implement a comprehensive backtesting strategy to evaluate model performance under various conditions.\n",
    "- **Incremental Learning**: Update model parameters incrementally as new data arrives to adapt to market changes.\n",
    "- **Error Analysis**: Conduct an in-depth analysis of model errors to guide adjustments.\n",
    "\n",
    "Experimentation and thorough validation are crucial in identifying the most effective approach for your forecasting task. Tailor these suggestions to fit your specific data and modeling requirements."
   ]
  },
  {
   "cell_type": "code",
   "execution_count": null,
   "id": "2e04f157",
   "metadata": {},
   "outputs": [],
   "source": []
  },
  {
   "cell_type": "code",
   "execution_count": null,
   "id": "50d5728e",
   "metadata": {},
   "outputs": [],
   "source": []
  }
 ],
 "metadata": {
  "kernelspec": {
   "display_name": "Python 3 (ipykernel)",
   "language": "python",
   "name": "python3"
  },
  "language_info": {
   "codemirror_mode": {
    "name": "ipython",
    "version": 3
   },
   "file_extension": ".py",
   "mimetype": "text/x-python",
   "name": "python",
   "nbconvert_exporter": "python",
   "pygments_lexer": "ipython3",
   "version": "3.11.7"
  },
  "nbTranslate": {
   "displayLangs": [
    "*"
   ],
   "hotkey": "alt-t",
   "langInMainMenu": true,
   "sourceLang": "en",
   "targetLang": "fr",
   "useGoogleTranslate": true
  },
  "toc": {
   "base_numbering": 1,
   "nav_menu": {},
   "number_sections": true,
   "sideBar": true,
   "skip_h1_title": false,
   "title_cell": "Table of Contents",
   "title_sidebar": "Contents",
   "toc_cell": false,
   "toc_position": {},
   "toc_section_display": true,
   "toc_window_display": false
  },
  "varInspector": {
   "cols": {
    "lenName": 16,
    "lenType": 16,
    "lenVar": 40
   },
   "kernels_config": {
    "python": {
     "delete_cmd_postfix": "",
     "delete_cmd_prefix": "del ",
     "library": "var_list.py",
     "varRefreshCmd": "print(var_dic_list())"
    },
    "r": {
     "delete_cmd_postfix": ") ",
     "delete_cmd_prefix": "rm(",
     "library": "var_list.r",
     "varRefreshCmd": "cat(var_dic_list()) "
    }
   },
   "types_to_exclude": [
    "module",
    "function",
    "builtin_function_or_method",
    "instance",
    "_Feature"
   ],
   "window_display": false
  }
 },
 "nbformat": 4,
 "nbformat_minor": 5
}
