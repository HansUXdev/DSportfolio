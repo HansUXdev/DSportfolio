{
 "cells": [
  {
   "attachments": {},
   "cell_type": "markdown",
   "metadata": {},
   "source": [
    "# Abstract"
   ]
  },
  {
   "cell_type": "code",
   "execution_count": 2,
   "metadata": {},
   "outputs": [],
   "source": [
    "!pip install yfinance yahoo_fin yoptions optionlab quandl QuantLib quantstats backtrader tensorflow numpy pandas matplotlib scikit-learn statsmodels keras-tunertall matplotlib datetime timedelta asyncio\n",
    "from IPython.core.display import clear_output\n",
    "clear_output()"
   ]
  },
  {
   "attachments": {},
   "cell_type": "markdown",
   "metadata": {},
   "source": [
    "## 1. Data Collection & Technical Analysis "
   ]
  },
  {
   "cell_type": "code",
   "execution_count": 6,
   "metadata": {},
   "outputs": [],
   "source": [
    "import yfinance as yf\n",
    "import backtrader as bt\n",
    "import matplotlib.pyplot as plt\n",
    "import pandas as pd\n",
    "import numpy as np\n",
    "from datetime import datetime, timedelta\n",
    "\n",
    "from scipy.stats import linregress\n",
    "from sklearn.linear_model import LinearRegression\n",
    "from statsmodels.tsa.seasonal import seasonal_decompose"
   ]
  },
  {
   "attachments": {},
   "cell_type": "markdown",
   "metadata": {},
   "source": [
    "### 1.1 Data Sources (Bonds, Currencies, ETFs, Stocks, Futures, Options)"
   ]
  },
  {
   "cell_type": "code",
   "execution_count": 7,
   "metadata": {},
   "outputs": [],
   "source": [
    "index_funds = ['SPY', 'QQQ', 'DAX']\n",
    "leveraged_etfs = ['TQQQ', 'UMDD', 'UDOW', 'SOXL', 'NVDL', 'TSLL']\n",
    "monthly_dividend_reits_etfs = ['O', 'AGNC', 'CSHI', 'JEPI', 'NUSI']\n",
    "quarterly_dividend_stocks = [\n",
    "    'SPYD', 'MSFT', 'INTC', 'F', 'CSCO', 'BAC', 'PFE', 'BX', 'MO', \n",
    "    'DOW', 'WMT', 'T', 'KMB', 'SWK', 'IBM', 'PEP', 'KO', 'JNJ'\n",
    "]\n",
    "hedging = ['VIX', 'UVXY', 'SPXS' ]"
   ]
  },
  {
   "cell_type": "code",
   "execution_count": null,
   "metadata": {},
   "outputs": [],
   "source": [
    "def fetch_fundamentals(ticker):\n",
    "    \"\"\"\n",
    "    Fetches comprehensive fundamental data for a given ticker, including balance sheet and cash flow,\n",
    "    and returns it as a DataFrame.\n",
    "\n",
    "    Args:\n",
    "    - ticker (str): The ticker symbol of the stock.\n",
    "\n",
    "    Returns:\n",
    "    - DataFrame: DataFrame with merged market, technical, and fundamental data.\n",
    "    \"\"\"\n",
    "    try:\n",
    "        # Define start date and end date based on current date and one year ago\n",
    "        end_date = datetime.now().strftime('%Y-%m-%d')\n",
    "        start_date = (datetime.now() - timedelta(days=365)).strftime('%Y-%m-%d')\n",
    "\n",
    "        ticker_obj = yf.Ticker(ticker)\n",
    "        \n",
    "        # Fetch Beta from ticker's info\n",
    "        beta_value = ticker_obj.info.get('beta', 0)\n",
    "        \n",
    "        balance_sheet = ticker_obj.balance_sheet\n",
    "        cashflow = ticker_obj.cashflow\n",
    "\n",
    "        balance_sheet_transposed = balance_sheet.T\n",
    "        cashflow_transposed = cashflow.T\n",
    "\n",
    "        fundamentals = pd.concat([balance_sheet_transposed, cashflow_transposed], axis=1)\n",
    "        fundamentals.index.names = ['Date']\n",
    "        \n",
    "        # Insert Beta as the first column\n",
    "        fundamentals.insert(0, 'Beta', beta_value)\n",
    "\n",
    "        fundamentals.fillna(method='backfill', inplace=True)\n",
    "        fundamentals.fillna(method='ffill', inplace=True)\n",
    "        fundamentals.fillna(0, inplace=True)\n",
    "\n",
    "        # Example of calculating growth rate of free cash flows (replace with your actual data)\n",
    "        free_cash_flows = pd.Series([100, 120, 140, 160, 180])\n",
    "        growth_rate = free_cash_flows.pct_change().mean()\n",
    "        print(\"Free Cash Flow Growth Rate:\", growth_rate)\n",
    "\n",
    "        return fundamentals\n",
    "\n",
    "    except Exception as e:\n",
    "        print(f\"Failed to fetch or process fundamental data for {ticker}: {e}\")\n",
    "        return pd.DataFrame()  # Return empty DataFrame in case of failure\n",
    "    \n",
    "\n",
    "# Apply the function to fetch and merge fundamental data for MSFT\n",
    "fundamental_data = fetch_fundamentals('MSFT')\n",
    "\n",
    "# Displaying the first few rows of the fundamental dataset\n",
    "fundamental_data"
   ]
  },
  {
   "cell_type": "code",
   "execution_count": null,
   "metadata": {},
   "outputs": [],
   "source": []
  },
  {
   "attachments": {},
   "cell_type": "markdown",
   "metadata": {},
   "source": [
    "### 1.3. Technical Indicators"
   ]
  },
  {
   "attachments": {},
   "cell_type": "markdown",
   "metadata": {},
   "source": [
    "### 1.3. Data Cleaning\n",
    "\n"
   ]
  },
  {
   "attachments": {},
   "cell_type": "markdown",
   "metadata": {},
   "source": [
    "### 1.4. Splitting Market Segments (Pre-Market, Market, After-Hours)\n",
    "\n"
   ]
  },
  {
   "attachments": {},
   "cell_type": "markdown",
   "metadata": {},
   "source": [
    "## 2. Data Visualization"
   ]
  },
  {
   "attachments": {},
   "cell_type": "markdown",
   "metadata": {},
   "source": [
    "### 2.1. Charting and Candlestick\n",
    "\n"
   ]
  },
  {
   "attachments": {},
   "cell_type": "markdown",
   "metadata": {},
   "source": [
    "### 2.2. Trend\n",
    "\n"
   ]
  },
  {
   "attachments": {},
   "cell_type": "markdown",
   "metadata": {},
   "source": [
    "### 2.3. Volume"
   ]
  },
  {
   "attachments": {},
   "cell_type": "markdown",
   "metadata": {},
   "source": [
    "### 2.4. Momentium"
   ]
  },
  {
   "attachments": {},
   "cell_type": "markdown",
   "metadata": {},
   "source": [
    "### 2.2. Volatility"
   ]
  },
  {
   "attachments": {},
   "cell_type": "markdown",
   "metadata": {},
   "source": []
  },
  {
   "attachments": {},
   "cell_type": "markdown",
   "metadata": {},
   "source": [
    "## 3. Correlation Analysis\n",
    "(Coefficent, Direction, Strength, Significance, Types of Correlation, Matrix)"
   ]
  },
  {
   "attachments": {},
   "cell_type": "markdown",
   "metadata": {},
   "source": [
    "## 4. Feature Engineering"
   ]
  },
  {
   "attachments": {},
   "cell_type": "markdown",
   "metadata": {},
   "source": [
    "## 5. Risk Analysis & Management\n",
    "(Value at Risk (VaR))\n",
    "(Conditional Value at Risk (CVaR) )\n",
    "(Sharpe Ratio)\n",
    "(Hedge Ratio)\n",
    "(Violatility Stop based on ATR)"
   ]
  },
  {
   "attachments": {},
   "cell_type": "markdown",
   "metadata": {},
   "source": [
    "## 6. Backtest Portiolio"
   ]
  },
  {
   "attachments": {},
   "cell_type": "markdown",
   "metadata": {},
   "source": []
  },
  {
   "attachments": {},
   "cell_type": "markdown",
   "metadata": {},
   "source": []
  }
 ],
 "metadata": {
  "kernelspec": {
   "display_name": "jupyter-ai",
   "language": "python",
   "name": "python3"
  },
  "language_info": {
   "codemirror_mode": {
    "name": "ipython",
    "version": 3
   },
   "file_extension": ".py",
   "mimetype": "text/x-python",
   "name": "python",
   "nbconvert_exporter": "python",
   "pygments_lexer": "ipython3",
   "version": "3.11.7"
  },
  "orig_nbformat": 4
 },
 "nbformat": 4,
 "nbformat_minor": 2
}
