{
 "cells": [
  {
   "cell_type": "markdown",
   "id": "81a20801",
   "metadata": {},
   "source": [
    "# DOW Scraper for monthly income\n",
    "This is my quick (re)implementation of a DOW scrapper for monthly income"
   ]
  },
  {
   "cell_type": "code",
   "execution_count": 62,
   "id": "9815e90e",
   "metadata": {},
   "outputs": [],
   "source": [
    "!pip install yfinance\n",
    "import yfinance as yf\n",
    "import pandas as pd\n",
    "import numpy as np\n",
    "import datetime as date\n",
    "from IPython.core.display import clear_output\n",
    "clear_output()"
   ]
  },
  {
   "cell_type": "code",
   "execution_count": 63,
   "id": "6795cb0e",
   "metadata": {},
   "outputs": [
    {
     "name": "stdout",
     "output_type": "stream",
     "text": [
      "            Aug        Feb       Jul        May        Nov\n",
      "MMM   23.177815  24.647378  1.200000  23.152253  23.150314\n",
      "AXP    0.000000   0.000000  0.065648   0.000000   0.000000\n",
      "AMGN  14.860000  16.830000  0.000000  14.580000  14.860000\n",
      "AMZN   0.000000   0.000000  0.000000   0.000000   0.000000\n",
      "AAPL   2.029552   2.029016  0.000000   1.933838   2.030087\n",
      "BA    14.271028  16.293147  0.000000  14.321810  14.358273\n",
      "CAT    0.000000   0.000000  0.100000   0.000000   0.000000\n",
      "CVX   24.088889  24.665377  0.000000  23.909127  24.137952\n",
      "CSCO   0.000000   0.000000  0.000000   0.000000   0.140000\n",
      "KO     0.000000   0.000000  0.000000   0.012917   6.991448\n",
      "DIS    0.000000   0.000000  0.036172   0.006166   0.214487\n",
      "DOW    3.500000   3.500000  0.000000   3.500000   3.500000\n",
      "GS    15.280000  10.017000  0.000000  13.260000  12.050000\n",
      "HD     7.912358   0.010370  0.000000   4.995000   8.250361\n",
      "HON   14.009207  15.040664  0.000000  13.863097  14.804706\n",
      "IBM   25.236305  25.285681  0.000000  25.258652  25.038430\n",
      "INTC   4.314500   4.598000  0.006250   4.258000   4.317000\n",
      "JNJ   15.958486  15.973817  0.000000  15.956633  15.957444\n",
      "JPM    0.000000   0.000000  0.186667   0.000000   0.000000\n",
      "MCD   14.974250  16.548392  0.000000   8.382221  21.064250\n",
      "MRK    4.782682   0.129745  0.000000   1.172737   0.494990\n",
      "MSFT   5.900000   6.650000  0.000000   5.820000   9.560000\n",
      "NKE    1.435000   0.885000  0.000000   1.195000   0.465000\n",
      "PG     0.000000   0.000000  0.112500   0.000000   0.000000\n",
      "CRM    0.000000   0.000000  0.000000   0.000000   0.000000\n",
      "TRV    0.044000   0.000000  0.000000   0.000000   0.000000\n",
      "UNH    0.000219   0.000000  0.000000   0.000219   2.275000\n",
      "VZ     0.000000   0.000000  0.323756   0.000000   0.000000\n",
      "V      2.688750   3.182500  0.000000   2.662500   3.167500\n",
      "WMT    2.699101   0.000000  0.000000   2.655000   0.020725\n"
     ]
    }
   ],
   "source": [
    "import yfinance as yf\n",
    "import pandas as pd\n",
    "import datetime as dt\n",
    "\n",
    "# Function to fetch the list of tickers for the Dow Jones Industrial Average from Wikipedia\n",
    "def get_tickers(_url):\n",
    "    tickers_df = pd.read_html('https://en.wikipedia.org/wiki/Dow_Jones_Industrial_Average')[1]\n",
    "    return tickers_df['Symbol'].to_list()\n",
    "\n",
    "# Function to fetch dividend data for a given ticker\n",
    "def fetch_dividend_data(ticker):\n",
    "    stock = yf.Ticker(ticker)\n",
    "    hist = stock.dividends.groupby([stock.dividends.index.year, stock.dividends.index.month]).sum()\n",
    "    return hist\n",
    "\n",
    "# Function to create a dividend calendar DataFrame\n",
    "def create_dividend_calendar(tickers):\n",
    "    dividends_df = pd.DataFrame()  # Initialize an empty DataFrame\n",
    "    for ticker in tickers:\n",
    "        dividends_df[ticker] = fetch_dividend_data(ticker)\n",
    "    dividends_df = dividends_df.T  # Transpose the DataFrame\n",
    "    dividends_df.columns = dividends_df.columns.map(lambda x: dt.date(1900, x[1], 1).strftime('%b'))  # Change the index to month names\n",
    "    dividends_calendar = dividends_df.groupby(dividends_df.columns, axis=1).sum()  # Aggregate the data\n",
    "    return dividends_calendar\n",
    "\n",
    "# Fetch the list of tickers\n",
    "DOW = get_tickers('https://en.wikipedia.org/wiki/Dow_Jones_Industrial_Average')\n",
    "\n",
    "# Create the dividend calendar\n",
    "dividends_calendar = create_dividend_calendar(DOW)\n",
    "\n",
    "# Display the resulting DataFrame\n",
    "print(dividends_calendar)"
   ]
  },
  {
   "cell_type": "code",
   "execution_count": null,
   "id": "9f4b1a2e",
   "metadata": {},
   "outputs": [],
   "source": []
  },
  {
   "cell_type": "markdown",
   "id": "a3ee195b",
   "metadata": {},
   "source": [
    "# Resources:\n",
    "- [Original Scraper](https://www.youtube.com/watch?v=BGG4t8VvlMo)"
   ]
  },
  {
   "cell_type": "code",
   "execution_count": null,
   "id": "2fa7ea7f",
   "metadata": {},
   "outputs": [],
   "source": []
  }
 ],
 "metadata": {
  "kernelspec": {
   "display_name": "Python 3 (ipykernel)",
   "language": "python",
   "name": "python3"
  },
  "language_info": {
   "codemirror_mode": {
    "name": "ipython",
    "version": 3
   },
   "file_extension": ".py",
   "mimetype": "text/x-python",
   "name": "python",
   "nbconvert_exporter": "python",
   "pygments_lexer": "ipython3",
   "version": "3.11.5"
  },
  "nbTranslate": {
   "displayLangs": [
    "*"
   ],
   "hotkey": "alt-t",
   "langInMainMenu": true,
   "sourceLang": "en",
   "targetLang": "fr",
   "useGoogleTranslate": true
  },
  "toc": {
   "base_numbering": 1,
   "nav_menu": {},
   "number_sections": true,
   "sideBar": true,
   "skip_h1_title": false,
   "title_cell": "Table of Contents",
   "title_sidebar": "Contents",
   "toc_cell": false,
   "toc_position": {},
   "toc_section_display": true,
   "toc_window_display": false
  },
  "varInspector": {
   "cols": {
    "lenName": 16,
    "lenType": 16,
    "lenVar": 40
   },
   "kernels_config": {
    "python": {
     "delete_cmd_postfix": "",
     "delete_cmd_prefix": "del ",
     "library": "var_list.py",
     "varRefreshCmd": "print(var_dic_list())"
    },
    "r": {
     "delete_cmd_postfix": ") ",
     "delete_cmd_prefix": "rm(",
     "library": "var_list.r",
     "varRefreshCmd": "cat(var_dic_list()) "
    }
   },
   "types_to_exclude": [
    "module",
    "function",
    "builtin_function_or_method",
    "instance",
    "_Feature"
   ],
   "window_display": false
  }
 },
 "nbformat": 4,
 "nbformat_minor": 5
}
