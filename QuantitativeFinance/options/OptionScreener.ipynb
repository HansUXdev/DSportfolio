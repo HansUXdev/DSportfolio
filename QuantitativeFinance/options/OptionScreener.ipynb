{
 "cells": [
  {
   "cell_type": "code",
   "execution_count": 2,
   "id": "3bdc48a3-04cc-4e5e-849c-03dfbc72c069",
   "metadata": {
    "collapsed": true
   },
   "outputs": [
    {
     "name": "stdout",
     "output_type": "stream",
     "text": [
      "Requirement already satisfied: yahoo_fin in c:\\programdata\\anaconda3\\lib\\site-packages (0.8.9.1)\n",
      "Requirement already satisfied: requests-html in c:\\programdata\\anaconda3\\lib\\site-packages (from yahoo_fin) (0.10.0)\n",
      "Requirement already satisfied: feedparser in c:\\programdata\\anaconda3\\lib\\site-packages (from yahoo_fin) (6.0.11)\n",
      "Requirement already satisfied: requests in c:\\programdata\\anaconda3\\lib\\site-packages (from yahoo_fin) (2.31.0)\n",
      "Requirement already satisfied: pandas in c:\\programdata\\anaconda3\\lib\\site-packages (from yahoo_fin) (2.0.3)\n",
      "Requirement already satisfied: sgmllib3k in c:\\programdata\\anaconda3\\lib\\site-packages (from feedparser->yahoo_fin) (1.0.0)\n",
      "Requirement already satisfied: python-dateutil>=2.8.2 in c:\\programdata\\anaconda3\\lib\\site-packages (from pandas->yahoo_fin) (2.8.2)\n",
      "Requirement already satisfied: pytz>=2020.1 in c:\\programdata\\anaconda3\\lib\\site-packages (from pandas->yahoo_fin) (2023.3.post1)\n",
      "Requirement already satisfied: tzdata>=2022.1 in c:\\programdata\\anaconda3\\lib\\site-packages (from pandas->yahoo_fin) (2023.3)\n",
      "Requirement already satisfied: numpy>=1.21.0 in c:\\programdata\\anaconda3\\lib\\site-packages (from pandas->yahoo_fin) (1.24.3)\n",
      "Requirement already satisfied: charset-normalizer<4,>=2 in c:\\programdata\\anaconda3\\lib\\site-packages (from requests->yahoo_fin) (2.0.4)\n",
      "Requirement already satisfied: idna<4,>=2.5 in c:\\programdata\\anaconda3\\lib\\site-packages (from requests->yahoo_fin) (3.4)\n",
      "Requirement already satisfied: urllib3<3,>=1.21.1 in c:\\programdata\\anaconda3\\lib\\site-packages (from requests->yahoo_fin) (1.26.16)\n",
      "Requirement already satisfied: certifi>=2017.4.17 in c:\\programdata\\anaconda3\\lib\\site-packages (from requests->yahoo_fin) (2023.7.22)\n",
      "Requirement already satisfied: pyquery in c:\\programdata\\anaconda3\\lib\\site-packages (from requests-html->yahoo_fin) (2.0.0)\n",
      "Requirement already satisfied: fake-useragent in c:\\programdata\\anaconda3\\lib\\site-packages (from requests-html->yahoo_fin) (1.4.0)\n",
      "Requirement already satisfied: parse in c:\\programdata\\anaconda3\\lib\\site-packages (from requests-html->yahoo_fin) (1.20.1)\n",
      "Requirement already satisfied: bs4 in c:\\programdata\\anaconda3\\lib\\site-packages (from requests-html->yahoo_fin) (0.0.2)\n",
      "Requirement already satisfied: w3lib in c:\\programdata\\anaconda3\\lib\\site-packages (from requests-html->yahoo_fin) (1.21.0)\n",
      "Requirement already satisfied: pyppeteer>=0.0.14 in c:\\programdata\\anaconda3\\lib\\site-packages (from requests-html->yahoo_fin) (2.0.0)\n",
      "Requirement already satisfied: appdirs<2.0.0,>=1.4.3 in c:\\programdata\\anaconda3\\lib\\site-packages (from pyppeteer>=0.0.14->requests-html->yahoo_fin) (1.4.4)\n",
      "Requirement already satisfied: importlib-metadata>=1.4 in c:\\programdata\\anaconda3\\lib\\site-packages (from pyppeteer>=0.0.14->requests-html->yahoo_fin) (6.0.0)\n",
      "Requirement already satisfied: pyee<12.0.0,>=11.0.0 in c:\\programdata\\anaconda3\\lib\\site-packages (from pyppeteer>=0.0.14->requests-html->yahoo_fin) (11.1.0)\n",
      "Requirement already satisfied: tqdm<5.0.0,>=4.42.1 in c:\\programdata\\anaconda3\\lib\\site-packages (from pyppeteer>=0.0.14->requests-html->yahoo_fin) (4.65.0)\n",
      "Requirement already satisfied: websockets<11.0,>=10.0 in c:\\programdata\\anaconda3\\lib\\site-packages (from pyppeteer>=0.0.14->requests-html->yahoo_fin) (10.4)\n",
      "Requirement already satisfied: six>=1.5 in c:\\programdata\\anaconda3\\lib\\site-packages (from python-dateutil>=2.8.2->pandas->yahoo_fin) (1.16.0)\n",
      "Requirement already satisfied: beautifulsoup4 in c:\\programdata\\anaconda3\\lib\\site-packages (from bs4->requests-html->yahoo_fin) (4.12.2)\n",
      "Requirement already satisfied: lxml>=2.1 in c:\\programdata\\anaconda3\\lib\\site-packages (from pyquery->requests-html->yahoo_fin) (4.9.3)\n",
      "Requirement already satisfied: cssselect>=1.2.0 in c:\\programdata\\anaconda3\\lib\\site-packages (from pyquery->requests-html->yahoo_fin) (1.2.0)\n",
      "Requirement already satisfied: zipp>=0.5 in c:\\programdata\\anaconda3\\lib\\site-packages (from importlib-metadata>=1.4->pyppeteer>=0.0.14->requests-html->yahoo_fin) (3.11.0)\n",
      "Requirement already satisfied: typing-extensions in c:\\programdata\\anaconda3\\lib\\site-packages (from pyee<12.0.0,>=11.0.0->pyppeteer>=0.0.14->requests-html->yahoo_fin) (4.7.1)\n",
      "Requirement already satisfied: colorama in c:\\programdata\\anaconda3\\lib\\site-packages (from tqdm<5.0.0,>=4.42.1->pyppeteer>=0.0.14->requests-html->yahoo_fin) (0.4.6)\n",
      "Requirement already satisfied: soupsieve>1.2 in c:\\programdata\\anaconda3\\lib\\site-packages (from beautifulsoup4->bs4->requests-html->yahoo_fin) (2.4)\n"
     ]
    },
    {
     "ename": "NameError",
     "evalue": "name 'clear_output' is not defined",
     "output_type": "error",
     "traceback": [
      "\u001b[1;31m---------------------------------------------------------------------------\u001b[0m",
      "\u001b[1;31mNameError\u001b[0m                                 Traceback (most recent call last)",
      "Cell \u001b[1;32mIn[2], line 2\u001b[0m\n\u001b[0;32m      1\u001b[0m get_ipython()\u001b[38;5;241m.\u001b[39msystem(\u001b[38;5;124m'\u001b[39m\u001b[38;5;124mpip install  yahoo_fin\u001b[39m\u001b[38;5;124m'\u001b[39m)\n\u001b[1;32m----> 2\u001b[0m clear_output()\n",
      "\u001b[1;31mNameError\u001b[0m: name 'clear_output' is not defined"
     ]
    }
   ],
   "source": [
    "!pip install  yahoo_fin\n",
    "# from IPython.core.display import clear_output\n",
    "# clear_output()"
   ]
  },
  {
   "cell_type": "code",
   "execution_count": 20,
   "id": "4e51e774-20ce-48f5-8ab7-cd93a3a22384",
   "metadata": {},
   "outputs": [
    {
     "name": "stdout",
     "output_type": "stream",
     "text": [
      "CALLS \n",
      " \n",
      "          Contract Name         Last Trade Date  Strike  Last Price  Bid   Ask  \\\n",
      "71  SPY240221C00535000   2024-02-14 3:44PM EST   535.0        0.01  0.0  0.01   \n",
      "72  SPY240221C00540000  2024-02-20 12:16PM EST   540.0        0.01  0.0  0.01   \n",
      "73  SPY240221C00545000   2024-02-13 2:34PM EST   545.0        0.01  0.0  0.01   \n",
      "74  SPY240221C00550000   2024-02-16 1:15PM EST   550.0        0.01  0.0  0.01   \n",
      "75  SPY240221C00570000  2024-02-20 12:59PM EST   570.0        0.01  0.0  0.01   \n",
      "\n",
      "    Change % Change Volume  Open Interest Implied Volatility  \n",
      "71     0.0        -      2              5             50.00%  \n",
      "72     0.0        -      9             17             53.13%  \n",
      "73     0.0        -      -             10             57.81%  \n",
      "74     0.0        -      1              1             62.50%  \n",
      "75     0.0        -      4              4             84.38%  \n",
      "\n",
      " \n",
      " PUTS \n",
      " \n",
      "          Contract Name         Last Trade Date  Strike  Last Price   Bid  \\\n",
      "91  SPY240221P00519000  2024-02-16 10:38AM EST   519.0       18.45  22.6   \n",
      "92  SPY240221P00520000   2024-02-20 2:25PM EST   520.0       24.46  23.6   \n",
      "93  SPY240221P00535000   2024-02-14 4:06PM EST   535.0       36.08  38.6   \n",
      "94  SPY240221P00540000   2024-02-14 4:06PM EST   540.0       41.06  43.6   \n",
      "95  SPY240221P00550000  2024-02-12 11:39AM EST   550.0       46.76  53.6   \n",
      "\n",
      "      Ask  Change % Change Volume  Open Interest Implied Volatility  \n",
      "91  22.97    0.00        -      7              7             58.84%  \n",
      "92  23.91    5.26  +27.40%      3             14             59.96%  \n",
      "93  38.89    0.00        -      1              0             86.82%  \n",
      "94  43.91    0.00        -      1              2             95.70%  \n",
      "95  53.89    0.00        -      3              0            111.72%  \n"
     ]
    }
   ],
   "source": [
    "from yahoo_fin import options\n",
    "import pandas as pd\n",
    "stock = \"SPY\"\n",
    "pd.set_option('display.max_columns', None)\n",
    "chain = options.get_options_chain(stock)\n",
    "print(\"CALLS \\n \\n\", chain['calls'].tail() )\n",
    "print(\"\\n \\n PUTS \\n \\n\", chain['puts'].tail()  )"
   ]
  },
  {
   "cell_type": "code",
   "execution_count": null,
   "id": "a13eea9a-50a2-4643-ada5-fa43c1ff1964",
   "metadata": {},
   "outputs": [],
   "source": []
  },
  {
   "cell_type": "code",
   "execution_count": null,
   "id": "39d0b3f1-dad2-4f86-83e0-5edf0297ccef",
   "metadata": {},
   "outputs": [],
   "source": []
  },
  {
   "cell_type": "code",
   "execution_count": null,
   "id": "4498351c-ed4c-42c0-b68e-0e6d826fa043",
   "metadata": {},
   "outputs": [],
   "source": []
  }
 ],
 "metadata": {
  "kernelspec": {
   "display_name": "Python 3 (ipykernel)",
   "language": "python",
   "name": "python3"
  },
  "language_info": {
   "codemirror_mode": {
    "name": "ipython",
    "version": 3
   },
   "file_extension": ".py",
   "mimetype": "text/x-python",
   "name": "python",
   "nbconvert_exporter": "python",
   "pygments_lexer": "ipython3",
   "version": "3.11.7"
  },
  "nbTranslate": {
   "displayLangs": [
    "*"
   ],
   "hotkey": "alt-t",
   "langInMainMenu": true,
   "sourceLang": "en",
   "targetLang": "fr",
   "useGoogleTranslate": true
  },
  "toc": {
   "base_numbering": 1,
   "nav_menu": {},
   "number_sections": true,
   "sideBar": true,
   "skip_h1_title": false,
   "title_cell": "Table of Contents",
   "title_sidebar": "Contents",
   "toc_cell": false,
   "toc_position": {},
   "toc_section_display": true,
   "toc_window_display": false
  },
  "varInspector": {
   "cols": {
    "lenName": 16,
    "lenType": 16,
    "lenVar": 40
   },
   "kernels_config": {
    "python": {
     "delete_cmd_postfix": "",
     "delete_cmd_prefix": "del ",
     "library": "var_list.py",
     "varRefreshCmd": "print(var_dic_list())"
    },
    "r": {
     "delete_cmd_postfix": ") ",
     "delete_cmd_prefix": "rm(",
     "library": "var_list.r",
     "varRefreshCmd": "cat(var_dic_list()) "
    }
   },
   "types_to_exclude": [
    "module",
    "function",
    "builtin_function_or_method",
    "instance",
    "_Feature"
   ],
   "window_display": false
  }
 },
 "nbformat": 4,
 "nbformat_minor": 5
}
