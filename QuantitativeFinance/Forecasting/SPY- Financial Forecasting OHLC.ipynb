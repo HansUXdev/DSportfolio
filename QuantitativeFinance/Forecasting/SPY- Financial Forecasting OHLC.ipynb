{
 "cells": [
  {
   "cell_type": "code",
   "execution_count": 1,
   "id": "f82750c3",
   "metadata": {},
   "outputs": [],
   "source": [
    "#!pip install pmdarima"
   ]
  },
  {
   "cell_type": "code",
   "execution_count": null,
   "id": "2e236d3d",
   "metadata": {},
   "outputs": [],
   "source": [
    "!pip install tensorflow yfinance numpy pandas matplotlib scikit-learn statsmodels keras-tuner\n",
    "# Import necessary libraries\n",
    "import numpy as np\n",
    "import yfinance as yf\n",
    "import pandas as pd\n",
    "import matplotlib.pyplot as plt\n",
    "from sklearn.linear_model import LinearRegression\n",
    "from sklearn.metrics import mean_squared_error, mean_absolute_error\n",
    "from statsmodels.tsa.holtwinters import ExponentialSmoothing\n",
    "from IPython.core.display import clear_output\n",
    "clear_output()"
   ]
  },
  {
   "cell_type": "markdown",
   "id": "79b4fe6a",
   "metadata": {},
   "source": [
    "# About this Study\n",
    "Since taking my AI class with Paul Davis, I've been relatively obsessed with trying to forecast the OHLC (Open, High, Low, Close), rather than just the Close. My reason for this goes beyond just curiosity, and frankly, has nothing to do with money. It just strikes me as odd that the only thing anyone seems to publish about on stock forecasting is limited to the close. As a technical/quant trader, I get why the close is important. However, I also understand that when everyone is doing the same thing, and that same thing doesn't seem very practical, it's clearly time to try something different...\n",
    "\n",
    "Like most forecasting studies, the main challenge here is going **mean errors**, feature importance, and **stationary vs non-stationary features**. However, this only gets exponentially worse because we're working with 4 separate variables. This also means we're going to have 4 times the amount of data cleaning, etc. My initial approach is simply a hacked-together solution made by refactoring the LSTM Model & Hyperparameter Tuning project that I built in the AI Class. I do also want to point out that a large majority of my code is written based on _advice_ from a _custom GPT_ I've made that's fine-tuned on knowledge of 20+ books on stock price forecasting, option pricing models, mathematics, and an extensive knowledge base that would have taken me months to read, and perhaps years to fully understand. I don't have an extensive knowledge of math, statistics, or AI on a lower level, so this custom GPT helps me fill that knowledge gap without the need of going into debt and wasting valuable time going to school, which ultimately won't teach what I'm going to cover in this study anyway.\n",
    "\n",
    "As one can expect from using non-stationary features, my initial approach will be a failure and SHOULD NOT BE USED to make trades or any financial decision. Even just looking at it, you know SPY isn't going to drop from 500 to 250 within 7 days. Even if you added up the losses of every major dip, this still wouldn't happen over 7 days. \n",
    "\n",
    "With that, in mind, I don't consider this a complete failure, but rather a **valuable learning experience**. The problem I have with traditional forecasting is that it's mostly curve fitting. I really couldn't care less if someone can plot two lines close together using statistics and ML and say, hey I forecasted this. That, actually isn't practical and won't make you money by itself. You need to go further and take data/model and walk it forward (without biases), and project data points into the next hour, day, or week. Once you are able to do that, even with just a 50-60% accuracy, would be very practical for trading as long as you can manage your position size, timing, and have tight risk management. Furthermore, if you can predict the OHLC, then in theory, you can also forecast various technicals. When I've talked about this on various quant forums, the herd is quick to say it's dumb. I disagree. The truly dumbest thing is doing the same thing as everyone else and expecting yourself to magically have a different result that somehow distinguishes yourself from your peers because your brain has oh so many curves... In truth, it's better to explore, to try new things, to mess around and find out. If you fail, you learn something new, and you try something different. _If you succeed, you probably don't want to publish it because that's equally dumb..._\n"
   ]
  },
  {
   "cell_type": "markdown",
   "id": "413b1491",
   "metadata": {},
   "source": [
    "# Forecasting with LSTM Model & Hyperparameter Tuning\n",
    "\n",
    "This notebook outlines a method for forecasting stock prices using a Long Short-Term Memory (LSTM) neural network, which is a type of recurrent neural network (RNN) suitable for time series prediction. The approach includes preprocessing historical stock data, scaling features, creating input sequences for the LSTM, training the model, and visualizing predictions against actual prices.\n",
    "\n",
    "## Data Acquisition and Preprocessing\n",
    "\n",
    "The `download_stock_data` function retrieves historical stock data for a specified ticker symbol, date range, and frequency using the `yfinance` library. It ensures that there are no gaps in the data by filling missing values for non-trading days.\n",
    "\n",
    "## Feature Scaling\n",
    "\n",
    "To ensure our LSTM model receives data in a scale that neural networks find easy to process, we apply Min-Max Scaling to the input features. The `MinMaxScaler` from the scikit-learn library is used to transform the data so that it fits within a given range, typically [0, 1]. The scaling process is crucial for the convergence of the neural network during training and can significantly impact the model's performance.\n",
    "\n",
    "### `scale_data` Function\n",
    "\n",
    "The `scale_data` function takes a dataset as input and returns a fitted `MinMaxScaler` object along with the scaled dataset. This scaler can later be used to inverse-transform the predictions to their original scale, which is important for interpretability of the results.\n",
    "\n",
    "#### Parameters:\n",
    "- `data`: The input features that we want to scale.\n",
    "\n",
    "#### Returns:\n",
    "- `scaler`: The `MinMaxScaler` instance fit to the input data.\n",
    "- `scaled_data`: The input data transformed to the scale [0, 1].\n",
    "\n",
    "#### Usage:\n",
    "\n",
    "The function is typically called with the feature data as follows:\n",
    "\n",
    "```python\n",
    "scaler, scaled_data = scale_data(stock_data[features].values)\n",
    "```\n",
    "\n",
    "## Sequence Creation for Time Series Forecasting\n",
    "\n",
    "Time series forecasting with LSTM networks requires the input data to be structured as sequences. The `create_sequences` function transforms a time series data array into sequences of a specified length to be used as input for LSTM models.\n",
    "\n",
    "### `create_sequences` Function\n",
    "\n",
    "#### Parameters:\n",
    "- `data`: The array of time series data.\n",
    "- `seq_length`: The length of the look-back period for creating sequences.\n",
    "\n",
    "#### Returns:\n",
    "- `xs`: The input sequences for the model.\n",
    "- `ys`: The target values for each sequence.\n",
    "\n",
    "### LSTM Model Building and Training\n",
    "\n",
    "LSTM (Long Short-Term Memory) networks are a type of recurrent neural network capable of learning order dependence in sequence prediction problems. The `build_and_train_model` function constructs an LSTM model and trains it on the provided training data.\n",
    "\n",
    "#### Parameters:\n",
    "- `X_train`: Input features for training the model.\n",
    "- `y_train`: Target outputs for training the model.\n",
    "- `seq_length`: Number of time steps in each input sequence.\n",
    "- `num_features`: Number of features in the input data.\n",
    "- `epochs`: Number of epochs to train the model.\n",
    "- `batch_size`: Size of batches to use when training the model.\n",
    "\n",
    "#### Returns:\n",
    "- `model`: The trained LSTM model.\n",
    "\n",
    "### Performance Metrics Calculation\n",
    "\n",
    "To evaluate the forecasting model, we calculate various metrics to understand its accuracy and performance. The `calculate_metrics` function computes the Mean Absolute Error (MAE), Mean Squared Error (MSE), and Root Mean Squared Error (RMSE).\n",
    "\n",
    "#### Parameters:\n",
    "- `y_true`: The actual observed values.\n",
    "- `y_pred`: The predicted values by the model.\n",
    "\n",
    "#### Returns:\n",
    "- `mae`: Mean Absolute Error.\n",
    "- `mse`: Mean Squared Error.\n",
    "- `rmse`: Root Mean Squared Error.\n",
    "\n",
    "### Forecast Visualization\n",
    "\n",
    "Visual representation of forecasts can help in understanding how well the model predictions align with the actual data. The `plot_forecasts` function generates interactive plots using Plotly to compare the actual and predicted values.\n",
    "\n",
    "#### Parameters:\n",
    "- `stock_data`: Original DataFrame containing the stock price data.\n",
    "- `predicted_values`: Predicted values from the model.\n",
    "- `y_test`: Actual values corresponding to the predictions.\n",
    "- `seq_length`: Length of the input sequences.\n",
    "- `split_idx`: Index to split the data into training and test sets.\n",
    "- `scaler`: The MinMaxScaler used to scale the data.\n",
    "\n",
    "#### Visualization:\n",
    "- The function creates a line plot for each stock price feature, displaying both actual and predicted values.\n",
    "\n",
    "### Full Forecasting and Plotting Workflow\n",
    "\n",
    "The `forecast_and_plot` function brings together all the steps required for forecasting stock prices using the LSTM model, from data scaling and sequence creation to model training and visualization of predictions.\n",
    "\n",
    "#### Parameters:\n",
    "- `stock_data`: DataFrame containing historical stock data.\n",
    "- `features`: List of features to use for forecasting.\n",
    "- `seq_length`: Length of the input sequences for the LSTM model.\n",
    "\n",
    "#### Execution Workflow:\n",
    "- The function first scales the data, creates sequences, and splits the data into training and test sets.\n",
    "- It then builds, trains, and evaluates the LSTM model.\n",
    "- Finally, it visualizes the forecasts alongside the actual data for comparison.\n",
    "\n"
   ]
  },
  {
   "cell_type": "code",
   "execution_count": 12,
   "id": "61ab5ef9",
   "metadata": {
    "scrolled": false
   },
   "outputs": [
    {
     "name": "stderr",
     "output_type": "stream",
     "text": [
      "[*********************100%%**********************]  1 of 1 completed\n"
     ]
    },
    {
     "name": "stdout",
     "output_type": "stream",
     "text": [
      "4/4 [==============================] - 0s 2ms/step\n",
      "MAE: 4.9977457182748, MSE: 43.02610855564751, RMSE: 6.559428980913469\n"
     ]
    },
    {
     "data": {
      "application/vnd.plotly.v1+json": {
       "config": {
        "plotlyServerURL": "https://plot.ly"
       },
       "data": [
        {
         "mode": "lines",
         "name": "Actual Open",
         "type": "scatter",
         "x": [
          "2023-10-05T00:00:00",
          "2023-10-06T00:00:00",
          "2023-10-09T00:00:00",
          "2023-10-10T00:00:00",
          "2023-10-11T00:00:00",
          "2023-10-12T00:00:00",
          "2023-10-13T00:00:00",
          "2023-10-16T00:00:00",
          "2023-10-17T00:00:00",
          "2023-10-18T00:00:00",
          "2023-10-19T00:00:00",
          "2023-10-20T00:00:00",
          "2023-10-23T00:00:00",
          "2023-10-24T00:00:00",
          "2023-10-25T00:00:00",
          "2023-10-26T00:00:00",
          "2023-10-27T00:00:00",
          "2023-10-30T00:00:00",
          "2023-10-31T00:00:00",
          "2023-11-01T00:00:00",
          "2023-11-02T00:00:00",
          "2023-11-03T00:00:00",
          "2023-11-06T00:00:00",
          "2023-11-07T00:00:00",
          "2023-11-08T00:00:00",
          "2023-11-09T00:00:00",
          "2023-11-10T00:00:00",
          "2023-11-13T00:00:00",
          "2023-11-14T00:00:00",
          "2023-11-15T00:00:00",
          "2023-11-16T00:00:00",
          "2023-11-17T00:00:00",
          "2023-11-20T00:00:00",
          "2023-11-21T00:00:00",
          "2023-11-22T00:00:00",
          "2023-11-23T00:00:00",
          "2023-11-24T00:00:00",
          "2023-11-27T00:00:00",
          "2023-11-28T00:00:00",
          "2023-11-29T00:00:00",
          "2023-11-30T00:00:00",
          "2023-12-01T00:00:00",
          "2023-12-04T00:00:00",
          "2023-12-05T00:00:00",
          "2023-12-06T00:00:00",
          "2023-12-07T00:00:00",
          "2023-12-08T00:00:00",
          "2023-12-11T00:00:00",
          "2023-12-12T00:00:00",
          "2023-12-13T00:00:00",
          "2023-12-14T00:00:00",
          "2023-12-15T00:00:00",
          "2023-12-18T00:00:00",
          "2023-12-19T00:00:00",
          "2023-12-20T00:00:00",
          "2023-12-21T00:00:00",
          "2023-12-22T00:00:00",
          "2023-12-25T00:00:00",
          "2023-12-26T00:00:00",
          "2023-12-27T00:00:00",
          "2023-12-28T00:00:00",
          "2023-12-29T00:00:00",
          "2024-01-01T00:00:00",
          "2024-01-02T00:00:00",
          "2024-01-03T00:00:00",
          "2024-01-04T00:00:00",
          "2024-01-05T00:00:00",
          "2024-01-08T00:00:00",
          "2024-01-09T00:00:00",
          "2024-01-10T00:00:00",
          "2024-01-11T00:00:00",
          "2024-01-12T00:00:00",
          "2024-01-15T00:00:00",
          "2024-01-16T00:00:00",
          "2024-01-17T00:00:00",
          "2024-01-18T00:00:00",
          "2024-01-19T00:00:00",
          "2024-01-22T00:00:00",
          "2024-01-23T00:00:00",
          "2024-01-24T00:00:00",
          "2024-01-25T00:00:00",
          "2024-01-26T00:00:00",
          "2024-01-29T00:00:00",
          "2024-01-30T00:00:00",
          "2024-01-31T00:00:00",
          "2024-02-01T00:00:00",
          "2024-02-02T00:00:00",
          "2024-02-05T00:00:00",
          "2024-02-06T00:00:00",
          "2024-02-07T00:00:00",
          "2024-02-08T00:00:00",
          "2024-02-09T00:00:00",
          "2024-02-12T00:00:00",
          "2024-02-13T00:00:00",
          "2024-02-14T00:00:00",
          "2024-02-15T00:00:00",
          "2024-02-16T00:00:00",
          "2024-02-19T00:00:00",
          "2024-02-20T00:00:00",
          "2024-02-21T00:00:00",
          "2024-02-22T00:00:00",
          "2024-02-23T00:00:00",
          "2024-02-26T00:00:00",
          "2024-02-27T00:00:00",
          "2024-02-28T00:00:00",
          "2024-02-29T00:00:00",
          "2024-03-01T00:00:00",
          "2024-03-04T00:00:00",
          "2024-03-05T00:00:00",
          "2024-03-06T00:00:00",
          "2024-03-07T00:00:00",
          "2024-03-08T00:00:00"
         ],
         "xaxis": "x",
         "y": [
          424.3599853515625,
          421.9700012207031,
          427.57998657226557,
          432.94000244140625,
          435.6400146484375,
          436.9500122070313,
          435.2099914550781,
          433.82000732421875,
          432.80999755859375,
          434.19000244140625,
          430.9500122070312,
          425.9800109863281,
          419.6099853515625,
          422.6499938964844,
          421.89001464843744,
          416.4500122070312,
          414.19000244140625,
          413.55999755859375,
          416.17999267578125,
          419.2000122070312,
          426.5799865722656,
          433.1400146484375,
          435.4700012207031,
          435.6900024414063,
          437.5499877929687,
          438.42999267578125,
          435.9800109863281,
          439.2300109863281,
          446.3200073242188,
          450.1099853515625,
          449.2200012207031,
          450.239990234375,
          450.5299987792969,
          453.17999267578125,
          454.9800109863281,
          454.9800109863281,
          455.0700073242188,
          454.6499938964844,
          454.0799865722656,
          457.1499938964844,
          455.48001098632807,
          455.7699890136719,
          455.6000061035156,
          455.260009765625,
          458.80999755859375,
          456.91000366210943,
          457.4599914550781,
          459.69000244140625,
          461.6300048828125,
          464.489990234375,
          472.5,
          469.489990234375,
          470.9800109863281,
          472.5299987792969,
          473.9599914550781,
          471.3299865722656,
          473.8599853515625,
          473.8599853515625,
          474.07000732421875,
          475.4400024414062,
          476.8800048828125,
          476.489990234375,
          476.489990234375,
          472.1600036621094,
          470.42999267578125,
          468.29998779296875,
          467.489990234375,
          468.4299926757812,
          471.8699951171875,
          474.16000366210943,
          477.5899963378906,
          477.83999633789057,
          477.83999633789057,
          475.260009765625,
          471.8200073242187,
          474.010009765625,
          477.6499938964844,
          484.010009765625,
          484.010009765625,
          487.8099975585937,
          487.5799865722656,
          487.5899963378906,
          487.7300109863281,
          490.5599975585937,
          488.61999511718756,
          484.6300048828125,
          489.6499938964843,
          493.70001220703125,
          493.5199890136718,
          496.2900085449218,
          498.1000061035156,
          498.8399963378906,
          501.1700134277343,
          494.5299987792969,
          496.7900085449219,
          499.29000854492193,
          501.70001220703125,
          501.70001220703125,
          497.7200012207032,
          495.4200134277343,
          504.010009765625,
          509.2699890136719,
          508.29998779296875,
          506.70001220703125,
          505.32998657226557,
          508.07000732421875,
          508.9800109863281,
          512.030029296875,
          510.239990234375,
          510.54998779296875,
          513.1400146484375,
          515.4600219726562
         ],
         "yaxis": "y"
        },
        {
         "line": {
          "dash": "dash"
         },
         "mode": "lines",
         "name": "Predicted Open",
         "type": "scatter",
         "x": [
          "2023-10-05T00:00:00",
          "2023-10-06T00:00:00",
          "2023-10-09T00:00:00",
          "2023-10-10T00:00:00",
          "2023-10-11T00:00:00",
          "2023-10-12T00:00:00",
          "2023-10-13T00:00:00",
          "2023-10-16T00:00:00",
          "2023-10-17T00:00:00",
          "2023-10-18T00:00:00",
          "2023-10-19T00:00:00",
          "2023-10-20T00:00:00",
          "2023-10-23T00:00:00",
          "2023-10-24T00:00:00",
          "2023-10-25T00:00:00",
          "2023-10-26T00:00:00",
          "2023-10-27T00:00:00",
          "2023-10-30T00:00:00",
          "2023-10-31T00:00:00",
          "2023-11-01T00:00:00",
          "2023-11-02T00:00:00",
          "2023-11-03T00:00:00",
          "2023-11-06T00:00:00",
          "2023-11-07T00:00:00",
          "2023-11-08T00:00:00",
          "2023-11-09T00:00:00",
          "2023-11-10T00:00:00",
          "2023-11-13T00:00:00",
          "2023-11-14T00:00:00",
          "2023-11-15T00:00:00",
          "2023-11-16T00:00:00",
          "2023-11-17T00:00:00",
          "2023-11-20T00:00:00",
          "2023-11-21T00:00:00",
          "2023-11-22T00:00:00",
          "2023-11-23T00:00:00",
          "2023-11-24T00:00:00",
          "2023-11-27T00:00:00",
          "2023-11-28T00:00:00",
          "2023-11-29T00:00:00",
          "2023-11-30T00:00:00",
          "2023-12-01T00:00:00",
          "2023-12-04T00:00:00",
          "2023-12-05T00:00:00",
          "2023-12-06T00:00:00",
          "2023-12-07T00:00:00",
          "2023-12-08T00:00:00",
          "2023-12-11T00:00:00",
          "2023-12-12T00:00:00",
          "2023-12-13T00:00:00",
          "2023-12-14T00:00:00",
          "2023-12-15T00:00:00",
          "2023-12-18T00:00:00",
          "2023-12-19T00:00:00",
          "2023-12-20T00:00:00",
          "2023-12-21T00:00:00",
          "2023-12-22T00:00:00",
          "2023-12-25T00:00:00",
          "2023-12-26T00:00:00",
          "2023-12-27T00:00:00",
          "2023-12-28T00:00:00",
          "2023-12-29T00:00:00",
          "2024-01-01T00:00:00",
          "2024-01-02T00:00:00",
          "2024-01-03T00:00:00",
          "2024-01-04T00:00:00",
          "2024-01-05T00:00:00",
          "2024-01-08T00:00:00",
          "2024-01-09T00:00:00",
          "2024-01-10T00:00:00",
          "2024-01-11T00:00:00",
          "2024-01-12T00:00:00",
          "2024-01-15T00:00:00",
          "2024-01-16T00:00:00",
          "2024-01-17T00:00:00",
          "2024-01-18T00:00:00",
          "2024-01-19T00:00:00",
          "2024-01-22T00:00:00",
          "2024-01-23T00:00:00",
          "2024-01-24T00:00:00",
          "2024-01-25T00:00:00",
          "2024-01-26T00:00:00",
          "2024-01-29T00:00:00",
          "2024-01-30T00:00:00",
          "2024-01-31T00:00:00",
          "2024-02-01T00:00:00",
          "2024-02-02T00:00:00",
          "2024-02-05T00:00:00",
          "2024-02-06T00:00:00",
          "2024-02-07T00:00:00",
          "2024-02-08T00:00:00",
          "2024-02-09T00:00:00",
          "2024-02-12T00:00:00",
          "2024-02-13T00:00:00",
          "2024-02-14T00:00:00",
          "2024-02-15T00:00:00",
          "2024-02-16T00:00:00",
          "2024-02-19T00:00:00",
          "2024-02-20T00:00:00",
          "2024-02-21T00:00:00",
          "2024-02-22T00:00:00",
          "2024-02-23T00:00:00",
          "2024-02-26T00:00:00",
          "2024-02-27T00:00:00",
          "2024-02-28T00:00:00",
          "2024-02-29T00:00:00",
          "2024-03-01T00:00:00",
          "2024-03-04T00:00:00",
          "2024-03-05T00:00:00",
          "2024-03-06T00:00:00",
          "2024-03-07T00:00:00",
          "2024-03-08T00:00:00"
         ],
         "xaxis": "x",
         "y": [
          423.0445861816406,
          422.3382568359375,
          423.4666442871094,
          426.46539306640625,
          430.3370056152344,
          432.32623291015625,
          432.84185791015625,
          432.4453125,
          432.82098388671875,
          433.505859375,
          432.40777587890625,
          429.86529541015625,
          425.7939453125,
          421.0348205566406,
          419.41705322265625,
          418.8134460449219,
          416.5417785644531,
          413.0499267578125,
          411.87884521484375,
          413.2286682128906,
          417.0646667480469,
          422.6191711425781,
          426.179931640625,
          428.2177734375,
          429.93621826171875,
          431.9252014160156,
          433.0360412597656,
          434.8374938964844,
          436.982666015625,
          441.799072265625,
          445.49163818359375,
          446.731689453125,
          447.9178161621094,
          449.64080810546875,
          451.0350341796875,
          452.7013244628906,
          453.6839904785156,
          454.0288391113281,
          453.7596130371094,
          453.3442077636719,
          454.08502197265625,
          454.3151550292969,
          455.1372375488281,
          455.3297119140625,
          454.6851806640625,
          454.8098449707031,
          455.57672119140625,
          456.7753601074219,
          458.6916198730469,
          460.76373291015625,
          464.1866760253906,
          468.81463623046875,
          468.8883361816406,
          469.236083984375,
          471.4658508300781,
          470.9656677246094,
          469.6404113769531,
          470.5279235839844,
          471.54608154296875,
          472.3400573730469,
          473.3562316894531,
          474.57220458984375,
          473.9609680175781,
          473.0158996582031,
          470.11199951171875,
          466.19793701171875,
          463.01275634765625,
          461.78839111328125,
          464.1217041015625,
          468.003173828125,
          471.91986083984375,
          474.2527770996094,
          475.5653381347656,
          475.8713073730469,
          474.0295715332031,
          470.0467834472656,
          469.44720458984375,
          473.66534423828125,
          480.3990783691406,
          483.140869140625,
          485.0276794433594,
          486.0364074707031,
          486.3138732910156,
          487.03973388671875,
          488.3271179199219,
          484.5948181152344,
          480.9530334472656,
          483.5374450683594,
          488.09832763671875,
          489.9625549316406,
          492.3414611816406,
          495.0020446777344,
          496.7862243652344,
          498.25982666015625,
          492.189208984375,
          488.7106018066406,
          490.7403564453125,
          493.87506103515625,
          493.9518737792969,
          489.75433349609375,
          486.11773681640625,
          492.75177001953125,
          502.0642395019531,
          504.7557067871094,
          501.6490783691406,
          498.7391662597656,
          498.84771728515625,
          501.6883239746094,
          504.7721862792969,
          501.24072265625,
          498.5523376464844,
          500.6413879394531
         ],
         "yaxis": "y"
        },
        {
         "mode": "lines",
         "name": "Actual High",
         "type": "scatter",
         "x": [
          "2023-10-05T00:00:00",
          "2023-10-06T00:00:00",
          "2023-10-09T00:00:00",
          "2023-10-10T00:00:00",
          "2023-10-11T00:00:00",
          "2023-10-12T00:00:00",
          "2023-10-13T00:00:00",
          "2023-10-16T00:00:00",
          "2023-10-17T00:00:00",
          "2023-10-18T00:00:00",
          "2023-10-19T00:00:00",
          "2023-10-20T00:00:00",
          "2023-10-23T00:00:00",
          "2023-10-24T00:00:00",
          "2023-10-25T00:00:00",
          "2023-10-26T00:00:00",
          "2023-10-27T00:00:00",
          "2023-10-30T00:00:00",
          "2023-10-31T00:00:00",
          "2023-11-01T00:00:00",
          "2023-11-02T00:00:00",
          "2023-11-03T00:00:00",
          "2023-11-06T00:00:00",
          "2023-11-07T00:00:00",
          "2023-11-08T00:00:00",
          "2023-11-09T00:00:00",
          "2023-11-10T00:00:00",
          "2023-11-13T00:00:00",
          "2023-11-14T00:00:00",
          "2023-11-15T00:00:00",
          "2023-11-16T00:00:00",
          "2023-11-17T00:00:00",
          "2023-11-20T00:00:00",
          "2023-11-21T00:00:00",
          "2023-11-22T00:00:00",
          "2023-11-23T00:00:00",
          "2023-11-24T00:00:00",
          "2023-11-27T00:00:00",
          "2023-11-28T00:00:00",
          "2023-11-29T00:00:00",
          "2023-11-30T00:00:00",
          "2023-12-01T00:00:00",
          "2023-12-04T00:00:00",
          "2023-12-05T00:00:00",
          "2023-12-06T00:00:00",
          "2023-12-07T00:00:00",
          "2023-12-08T00:00:00",
          "2023-12-11T00:00:00",
          "2023-12-12T00:00:00",
          "2023-12-13T00:00:00",
          "2023-12-14T00:00:00",
          "2023-12-15T00:00:00",
          "2023-12-18T00:00:00",
          "2023-12-19T00:00:00",
          "2023-12-20T00:00:00",
          "2023-12-21T00:00:00",
          "2023-12-22T00:00:00",
          "2023-12-25T00:00:00",
          "2023-12-26T00:00:00",
          "2023-12-27T00:00:00",
          "2023-12-28T00:00:00",
          "2023-12-29T00:00:00",
          "2024-01-01T00:00:00",
          "2024-01-02T00:00:00",
          "2024-01-03T00:00:00",
          "2024-01-04T00:00:00",
          "2024-01-05T00:00:00",
          "2024-01-08T00:00:00",
          "2024-01-09T00:00:00",
          "2024-01-10T00:00:00",
          "2024-01-11T00:00:00",
          "2024-01-12T00:00:00",
          "2024-01-15T00:00:00",
          "2024-01-16T00:00:00",
          "2024-01-17T00:00:00",
          "2024-01-18T00:00:00",
          "2024-01-19T00:00:00",
          "2024-01-22T00:00:00",
          "2024-01-23T00:00:00",
          "2024-01-24T00:00:00",
          "2024-01-25T00:00:00",
          "2024-01-26T00:00:00",
          "2024-01-29T00:00:00",
          "2024-01-30T00:00:00",
          "2024-01-31T00:00:00",
          "2024-02-01T00:00:00",
          "2024-02-02T00:00:00",
          "2024-02-05T00:00:00",
          "2024-02-06T00:00:00",
          "2024-02-07T00:00:00",
          "2024-02-08T00:00:00",
          "2024-02-09T00:00:00",
          "2024-02-12T00:00:00",
          "2024-02-13T00:00:00",
          "2024-02-14T00:00:00",
          "2024-02-15T00:00:00",
          "2024-02-16T00:00:00",
          "2024-02-19T00:00:00",
          "2024-02-20T00:00:00",
          "2024-02-21T00:00:00",
          "2024-02-22T00:00:00",
          "2024-02-23T00:00:00",
          "2024-02-26T00:00:00",
          "2024-02-27T00:00:00",
          "2024-02-28T00:00:00",
          "2024-02-29T00:00:00",
          "2024-03-01T00:00:00",
          "2024-03-04T00:00:00",
          "2024-03-05T00:00:00",
          "2024-03-06T00:00:00",
          "2024-03-07T00:00:00",
          "2024-03-08T00:00:00"
         ],
         "xaxis": "x2",
         "y": [
          425.3699951171875,
          431.1300048828125,
          432.8800048828125,
          437.2200012207031,
          436.5799865722656,
          437.3399963378906,
          436.4500122070313,
          437.1400146484375,
          438.14001464843744,
          435.1799926757812,
          432.82000732421875,
          426.5400085449219,
          424.4500122070312,
          424.82000732421875,
          421.9200134277344,
          417.3299865722656,
          414.6000061035156,
          416.67999267578125,
          418.5299987792969,
          423.5,
          430.9200134277344,
          436.2900085449219,
          436.1499938964844,
          437.5899963378906,
          438.0899963378907,
          438.4700012207031,
          440.9299926757813,
          441.3299865722656,
          450.0599975585938,
          451.3800048828125,
          450.55999755859375,
          451.4200134277344,
          455.1300048828125,
          454.13000488281256,
          456.38000488281256,
          456.38000488281256,
          455.5,
          455.489990234375,
          456.2699890136718,
          458.32000732421875,
          456.760009765625,
          459.6499938964844,
          459.11999511718744,
          457.5899963378906,
          458.8399963378906,
          458.8999938964844,
          460.75,
          462.17001342773443,
          464.20001220703125,
          470.760009765625,
          473.7300109863281,
          470.7000122070313,
          472.9800109863282,
          474.9200134277344,
          475.8999938964844,
          472.9800109863282,
          475.3800048828125,
          475.3800048828125,
          476.5799865722656,
          476.6600036621094,
          477.54998779296875,
          477.0299987792969,
          477.0299987792969,
          473.6700134277344,
          471.1900024414062,
          470.9599914550781,
          470.44000244140625,
          474.75,
          474.92999267578125,
          477.45001220703125,
          478.1199951171875,
          478.60000610351557,
          478.60000610351557,
          476.6099853515625,
          472.7900085449219,
          477.05999755859375,
          482.7200012207031,
          485.2200012207031,
          485.1099853515625,
          488.7699890136718,
          488.3099975585938,
          489.1199951171875,
          491.4200134277344,
          491.6199951171875,
          489.0799865722656,
          489.2300109863281,
          496.04998779296875,
          494.3800048828125,
          494.32000732421875,
          498.5299987792968,
          498.7099914550781,
          501.6499938964844,
          503.5,
          497.0899963378906,
          499.07000732421875,
          502.20001220703125,
          502.8699951171875,
          502.8699951171875,
          498.4100036621094,
          497.36999511718744,
          508.489990234375,
          510.1300048828125,
          508.75,
          507.1600036621093,
          506.8599853515625,
          509.739990234375,
          513.2899780273438,
          514.2000122070312,
          510.70001220703125,
          512.0700073242188,
          515.8900146484375,
          518.219970703125
         ],
         "yaxis": "y2"
        },
        {
         "line": {
          "dash": "dash"
         },
         "mode": "lines",
         "name": "Predicted High",
         "type": "scatter",
         "x": [
          "2023-10-05T00:00:00",
          "2023-10-06T00:00:00",
          "2023-10-09T00:00:00",
          "2023-10-10T00:00:00",
          "2023-10-11T00:00:00",
          "2023-10-12T00:00:00",
          "2023-10-13T00:00:00",
          "2023-10-16T00:00:00",
          "2023-10-17T00:00:00",
          "2023-10-18T00:00:00",
          "2023-10-19T00:00:00",
          "2023-10-20T00:00:00",
          "2023-10-23T00:00:00",
          "2023-10-24T00:00:00",
          "2023-10-25T00:00:00",
          "2023-10-26T00:00:00",
          "2023-10-27T00:00:00",
          "2023-10-30T00:00:00",
          "2023-10-31T00:00:00",
          "2023-11-01T00:00:00",
          "2023-11-02T00:00:00",
          "2023-11-03T00:00:00",
          "2023-11-06T00:00:00",
          "2023-11-07T00:00:00",
          "2023-11-08T00:00:00",
          "2023-11-09T00:00:00",
          "2023-11-10T00:00:00",
          "2023-11-13T00:00:00",
          "2023-11-14T00:00:00",
          "2023-11-15T00:00:00",
          "2023-11-16T00:00:00",
          "2023-11-17T00:00:00",
          "2023-11-20T00:00:00",
          "2023-11-21T00:00:00",
          "2023-11-22T00:00:00",
          "2023-11-23T00:00:00",
          "2023-11-24T00:00:00",
          "2023-11-27T00:00:00",
          "2023-11-28T00:00:00",
          "2023-11-29T00:00:00",
          "2023-11-30T00:00:00",
          "2023-12-01T00:00:00",
          "2023-12-04T00:00:00",
          "2023-12-05T00:00:00",
          "2023-12-06T00:00:00",
          "2023-12-07T00:00:00",
          "2023-12-08T00:00:00",
          "2023-12-11T00:00:00",
          "2023-12-12T00:00:00",
          "2023-12-13T00:00:00",
          "2023-12-14T00:00:00",
          "2023-12-15T00:00:00",
          "2023-12-18T00:00:00",
          "2023-12-19T00:00:00",
          "2023-12-20T00:00:00",
          "2023-12-21T00:00:00",
          "2023-12-22T00:00:00",
          "2023-12-25T00:00:00",
          "2023-12-26T00:00:00",
          "2023-12-27T00:00:00",
          "2023-12-28T00:00:00",
          "2023-12-29T00:00:00",
          "2024-01-01T00:00:00",
          "2024-01-02T00:00:00",
          "2024-01-03T00:00:00",
          "2024-01-04T00:00:00",
          "2024-01-05T00:00:00",
          "2024-01-08T00:00:00",
          "2024-01-09T00:00:00",
          "2024-01-10T00:00:00",
          "2024-01-11T00:00:00",
          "2024-01-12T00:00:00",
          "2024-01-15T00:00:00",
          "2024-01-16T00:00:00",
          "2024-01-17T00:00:00",
          "2024-01-18T00:00:00",
          "2024-01-19T00:00:00",
          "2024-01-22T00:00:00",
          "2024-01-23T00:00:00",
          "2024-01-24T00:00:00",
          "2024-01-25T00:00:00",
          "2024-01-26T00:00:00",
          "2024-01-29T00:00:00",
          "2024-01-30T00:00:00",
          "2024-01-31T00:00:00",
          "2024-02-01T00:00:00",
          "2024-02-02T00:00:00",
          "2024-02-05T00:00:00",
          "2024-02-06T00:00:00",
          "2024-02-07T00:00:00",
          "2024-02-08T00:00:00",
          "2024-02-09T00:00:00",
          "2024-02-12T00:00:00",
          "2024-02-13T00:00:00",
          "2024-02-14T00:00:00",
          "2024-02-15T00:00:00",
          "2024-02-16T00:00:00",
          "2024-02-19T00:00:00",
          "2024-02-20T00:00:00",
          "2024-02-21T00:00:00",
          "2024-02-22T00:00:00",
          "2024-02-23T00:00:00",
          "2024-02-26T00:00:00",
          "2024-02-27T00:00:00",
          "2024-02-28T00:00:00",
          "2024-02-29T00:00:00",
          "2024-03-01T00:00:00",
          "2024-03-04T00:00:00",
          "2024-03-05T00:00:00",
          "2024-03-06T00:00:00",
          "2024-03-07T00:00:00",
          "2024-03-08T00:00:00"
         ],
         "xaxis": "x2",
         "y": [
          425.72564697265625,
          425.1762390136719,
          426.2857971191406,
          429.2350769042969,
          432.985595703125,
          434.8782043457031,
          435.3277893066406,
          434.9225769042969,
          435.39788818359375,
          436.0643310546875,
          434.93963623046875,
          432.4331970214844,
          428.40277099609375,
          423.8661193847656,
          422.629150390625,
          421.8995666503906,
          419.371826171875,
          415.96026611328125,
          415.03704833984375,
          416.4259338378906,
          419.9925231933594,
          425.2706604003906,
          428.75213623046875,
          430.8768005371094,
          432.6651916503906,
          434.64202880859375,
          435.6643371582031,
          437.4638671875,
          439.6304931640625,
          444.6173095703125,
          448.25543212890625,
          449.49945068359375,
          450.7869873046875,
          452.5992126464844,
          454.0208435058594,
          455.7896728515625,
          456.7892761230469,
          457.22503662109375,
          457.0323486328125,
          456.7023620605469,
          457.5445861816406,
          457.7711486816406,
          458.7088928222656,
          458.8662109375,
          458.25421142578125,
          458.4531555175781,
          459.2287902832031,
          460.4280700683594,
          462.3763122558594,
          464.4619445800781,
          468.0741882324219,
          472.8111877441406,
          472.6912536621094,
          473.3852844238281,
          475.8132629394531,
          475.2271423339844,
          474.2033386230469,
          475.452392578125,
          476.4613037109375,
          477.36346435546875,
          478.4647216796875,
          479.68450927734375,
          479.02703857421875,
          478.23101806640625,
          475.30535888671875,
          471.489990234375,
          468.5057678222656,
          467.365966796875,
          469.8846130371094,
          473.5321044921875,
          477.1618347167969,
          479.23260498046875,
          480.5020751953125,
          480.8018798828125,
          478.9443359375,
          475.07666015625,
          475.09869384765625,
          479.6552734375,
          486.17449951171875,
          488.5605773925781,
          490.5979309082031,
          491.7574768066406,
          492.17449951171875,
          493.24517822265625,
          494.8297119140625,
          490.9244689941406,
          487.92889404296875,
          491.3863830566406,
          495.57171630859375,
          497.23590087890625,
          499.95037841796875,
          502.5788879394531,
          504.50640869140625,
          506.18084716796875,
          499.7333068847656,
          497.3998107910156,
          500.1387939453125,
          502.8897705078125,
          502.8611145019531,
          498.5487365722656,
          495.2200622558594,
          502.95721435546875,
          511.7247009277344,
          513.588623046875,
          510.8421325683594,
          508.427978515625,
          509.0329284667969,
          512.2407836914062,
          515.3688354492188,
          511.5045166015625,
          509.6393737792969,
          512.3276977539062
         ],
         "yaxis": "y2"
        },
        {
         "mode": "lines",
         "name": "Actual Low",
         "type": "scatter",
         "x": [
          "2023-10-05T00:00:00",
          "2023-10-06T00:00:00",
          "2023-10-09T00:00:00",
          "2023-10-10T00:00:00",
          "2023-10-11T00:00:00",
          "2023-10-12T00:00:00",
          "2023-10-13T00:00:00",
          "2023-10-16T00:00:00",
          "2023-10-17T00:00:00",
          "2023-10-18T00:00:00",
          "2023-10-19T00:00:00",
          "2023-10-20T00:00:00",
          "2023-10-23T00:00:00",
          "2023-10-24T00:00:00",
          "2023-10-25T00:00:00",
          "2023-10-26T00:00:00",
          "2023-10-27T00:00:00",
          "2023-10-30T00:00:00",
          "2023-10-31T00:00:00",
          "2023-11-01T00:00:00",
          "2023-11-02T00:00:00",
          "2023-11-03T00:00:00",
          "2023-11-06T00:00:00",
          "2023-11-07T00:00:00",
          "2023-11-08T00:00:00",
          "2023-11-09T00:00:00",
          "2023-11-10T00:00:00",
          "2023-11-13T00:00:00",
          "2023-11-14T00:00:00",
          "2023-11-15T00:00:00",
          "2023-11-16T00:00:00",
          "2023-11-17T00:00:00",
          "2023-11-20T00:00:00",
          "2023-11-21T00:00:00",
          "2023-11-22T00:00:00",
          "2023-11-23T00:00:00",
          "2023-11-24T00:00:00",
          "2023-11-27T00:00:00",
          "2023-11-28T00:00:00",
          "2023-11-29T00:00:00",
          "2023-11-30T00:00:00",
          "2023-12-01T00:00:00",
          "2023-12-04T00:00:00",
          "2023-12-05T00:00:00",
          "2023-12-06T00:00:00",
          "2023-12-07T00:00:00",
          "2023-12-08T00:00:00",
          "2023-12-11T00:00:00",
          "2023-12-12T00:00:00",
          "2023-12-13T00:00:00",
          "2023-12-14T00:00:00",
          "2023-12-15T00:00:00",
          "2023-12-18T00:00:00",
          "2023-12-19T00:00:00",
          "2023-12-20T00:00:00",
          "2023-12-21T00:00:00",
          "2023-12-22T00:00:00",
          "2023-12-25T00:00:00",
          "2023-12-26T00:00:00",
          "2023-12-27T00:00:00",
          "2023-12-28T00:00:00",
          "2023-12-29T00:00:00",
          "2024-01-01T00:00:00",
          "2024-01-02T00:00:00",
          "2024-01-03T00:00:00",
          "2024-01-04T00:00:00",
          "2024-01-05T00:00:00",
          "2024-01-08T00:00:00",
          "2024-01-09T00:00:00",
          "2024-01-10T00:00:00",
          "2024-01-11T00:00:00",
          "2024-01-12T00:00:00",
          "2024-01-15T00:00:00",
          "2024-01-16T00:00:00",
          "2024-01-17T00:00:00",
          "2024-01-18T00:00:00",
          "2024-01-19T00:00:00",
          "2024-01-22T00:00:00",
          "2024-01-23T00:00:00",
          "2024-01-24T00:00:00",
          "2024-01-25T00:00:00",
          "2024-01-26T00:00:00",
          "2024-01-29T00:00:00",
          "2024-01-30T00:00:00",
          "2024-01-31T00:00:00",
          "2024-02-01T00:00:00",
          "2024-02-02T00:00:00",
          "2024-02-05T00:00:00",
          "2024-02-06T00:00:00",
          "2024-02-07T00:00:00",
          "2024-02-08T00:00:00",
          "2024-02-09T00:00:00",
          "2024-02-12T00:00:00",
          "2024-02-13T00:00:00",
          "2024-02-14T00:00:00",
          "2024-02-15T00:00:00",
          "2024-02-16T00:00:00",
          "2024-02-19T00:00:00",
          "2024-02-20T00:00:00",
          "2024-02-21T00:00:00",
          "2024-02-22T00:00:00",
          "2024-02-23T00:00:00",
          "2024-02-26T00:00:00",
          "2024-02-27T00:00:00",
          "2024-02-28T00:00:00",
          "2024-02-29T00:00:00",
          "2024-03-01T00:00:00",
          "2024-03-04T00:00:00",
          "2024-03-05T00:00:00",
          "2024-03-06T00:00:00",
          "2024-03-07T00:00:00",
          "2024-03-08T00:00:00"
         ],
         "xaxis": "x3",
         "y": [
          421.1700134277344,
          420.6000061035156,
          427.010009765625,
          432.5299987792968,
          433.17999267578125,
          431.2300109863281,
          429.8800048828125,
          433.5700073242187,
          432.45001220703125,
          429.08999633789057,
          425.7300109863281,
          421.0799865722656,
          417.79998779296875,
          420.739990234375,
          417.0199890136719,
          411.60000610351557,
          409.2099914550781,
          412.2200012207031,
          414.2099914550781,
          418.64999389648443,
          426.5599975585938,
          433.01000976562494,
          433.67999267578125,
          434.510009765625,
          434.8699951171875,
          433.3999938964844,
          433.8299865722656,
          438.4200134277344,
          446.0899963378906,
          448.79998779296875,
          448.1199951171875,
          449.2900085449219,
          450.5199890136719,
          451.95999145507807,
          453.8900146484375,
          453.8900146484375,
          454.7300109863281,
          454.0799865722656,
          453.5,
          454.20001220703125,
          453.3399963378907,
          455.1600036621094,
          454.3399963378906,
          454.8699951171875,
          454.30999755859375,
          456.2900085449219,
          457.2099914550781,
          459.4700012207031,
          460.6000061035156,
          464.1199951171875,
          469.25000000000006,
          467.42999267578125,
          469.8900146484375,
          472.45001220703125,
          467.82000732421875,
          468.8399963378906,
          471.70001220703125,
          471.70001220703125,
          473.989990234375,
          474.89001464843756,
          476.26000976562494,
          473.29998779296875,
          473.29998779296875,
          470.48999023437506,
          468.1700134277344,
          467.0499877929688,
          466.42999267578125,
          468.29998779296875,
          471.3500061035156,
          473.8699951171875,
          472.26000976562494,
          475.2300109863282,
          475.2300109863282,
          473.05999755859375,
          469.8699951171875,
          472.4200134277344,
          476.5400085449219,
          482.7799987792969,
          482.8900146484375,
          484.8800048828125,
          485.3900146484375,
          486.5400085449219,
          487.1700134277344,
          490.1099853515625,
          482.8599853515625,
          483.79998779296875,
          489.29998779296875,
          490.23001098632807,
          492.04998779296875,
          495.3599853515625,
          497.260009765625,
          498.489990234375,
          500.23999023437506,
          490.7200012207031,
          494.3999938964844,
          498.79998779296875,
          498.75,
          498.75,
          494.4500122070313,
          493.55999755859375,
          503.0199890136719,
          507.1000061035156,
          505.8599853515625,
          504.75,
          504.9599914550781,
          505.3500061035156,
          508.55999755859375,
          512,
          504.9100036621094,
          508.42001342773443,
          509.80999755859375,
          511.1300048828125
         ],
         "yaxis": "y3"
        },
        {
         "line": {
          "dash": "dash"
         },
         "mode": "lines",
         "name": "Predicted Low",
         "type": "scatter",
         "x": [
          "2023-10-05T00:00:00",
          "2023-10-06T00:00:00",
          "2023-10-09T00:00:00",
          "2023-10-10T00:00:00",
          "2023-10-11T00:00:00",
          "2023-10-12T00:00:00",
          "2023-10-13T00:00:00",
          "2023-10-16T00:00:00",
          "2023-10-17T00:00:00",
          "2023-10-18T00:00:00",
          "2023-10-19T00:00:00",
          "2023-10-20T00:00:00",
          "2023-10-23T00:00:00",
          "2023-10-24T00:00:00",
          "2023-10-25T00:00:00",
          "2023-10-26T00:00:00",
          "2023-10-27T00:00:00",
          "2023-10-30T00:00:00",
          "2023-10-31T00:00:00",
          "2023-11-01T00:00:00",
          "2023-11-02T00:00:00",
          "2023-11-03T00:00:00",
          "2023-11-06T00:00:00",
          "2023-11-07T00:00:00",
          "2023-11-08T00:00:00",
          "2023-11-09T00:00:00",
          "2023-11-10T00:00:00",
          "2023-11-13T00:00:00",
          "2023-11-14T00:00:00",
          "2023-11-15T00:00:00",
          "2023-11-16T00:00:00",
          "2023-11-17T00:00:00",
          "2023-11-20T00:00:00",
          "2023-11-21T00:00:00",
          "2023-11-22T00:00:00",
          "2023-11-23T00:00:00",
          "2023-11-24T00:00:00",
          "2023-11-27T00:00:00",
          "2023-11-28T00:00:00",
          "2023-11-29T00:00:00",
          "2023-11-30T00:00:00",
          "2023-12-01T00:00:00",
          "2023-12-04T00:00:00",
          "2023-12-05T00:00:00",
          "2023-12-06T00:00:00",
          "2023-12-07T00:00:00",
          "2023-12-08T00:00:00",
          "2023-12-11T00:00:00",
          "2023-12-12T00:00:00",
          "2023-12-13T00:00:00",
          "2023-12-14T00:00:00",
          "2023-12-15T00:00:00",
          "2023-12-18T00:00:00",
          "2023-12-19T00:00:00",
          "2023-12-20T00:00:00",
          "2023-12-21T00:00:00",
          "2023-12-22T00:00:00",
          "2023-12-25T00:00:00",
          "2023-12-26T00:00:00",
          "2023-12-27T00:00:00",
          "2023-12-28T00:00:00",
          "2023-12-29T00:00:00",
          "2024-01-01T00:00:00",
          "2024-01-02T00:00:00",
          "2024-01-03T00:00:00",
          "2024-01-04T00:00:00",
          "2024-01-05T00:00:00",
          "2024-01-08T00:00:00",
          "2024-01-09T00:00:00",
          "2024-01-10T00:00:00",
          "2024-01-11T00:00:00",
          "2024-01-12T00:00:00",
          "2024-01-15T00:00:00",
          "2024-01-16T00:00:00",
          "2024-01-17T00:00:00",
          "2024-01-18T00:00:00",
          "2024-01-19T00:00:00",
          "2024-01-22T00:00:00",
          "2024-01-23T00:00:00",
          "2024-01-24T00:00:00",
          "2024-01-25T00:00:00",
          "2024-01-26T00:00:00",
          "2024-01-29T00:00:00",
          "2024-01-30T00:00:00",
          "2024-01-31T00:00:00",
          "2024-02-01T00:00:00",
          "2024-02-02T00:00:00",
          "2024-02-05T00:00:00",
          "2024-02-06T00:00:00",
          "2024-02-07T00:00:00",
          "2024-02-08T00:00:00",
          "2024-02-09T00:00:00",
          "2024-02-12T00:00:00",
          "2024-02-13T00:00:00",
          "2024-02-14T00:00:00",
          "2024-02-15T00:00:00",
          "2024-02-16T00:00:00",
          "2024-02-19T00:00:00",
          "2024-02-20T00:00:00",
          "2024-02-21T00:00:00",
          "2024-02-22T00:00:00",
          "2024-02-23T00:00:00",
          "2024-02-26T00:00:00",
          "2024-02-27T00:00:00",
          "2024-02-28T00:00:00",
          "2024-02-29T00:00:00",
          "2024-03-01T00:00:00",
          "2024-03-04T00:00:00",
          "2024-03-05T00:00:00",
          "2024-03-06T00:00:00",
          "2024-03-07T00:00:00",
          "2024-03-08T00:00:00"
         ],
         "xaxis": "x3",
         "y": [
          419.54150390625,
          418.7862243652344,
          420.0268859863281,
          423.2613830566406,
          427.464599609375,
          429.65509033203125,
          430.380126953125,
          430.06756591796875,
          430.38433837890625,
          430.9272155761719,
          429.5795593261719,
          426.69384765625,
          422.259765625,
          417.0341491699219,
          415.1076965332031,
          414.54876708984375,
          412.355224609375,
          408.74310302734375,
          407.569091796875,
          409.18145751953125,
          413.5288391113281,
          419.6953125,
          423.6459655761719,
          425.9866638183594,
          428.0327453613281,
          430.201904296875,
          431.23046875,
          432.8190002441406,
          434.7384033203125,
          439.45367431640625,
          443.2209167480469,
          444.49267578125,
          445.6901550292969,
          447.3617248535156,
          448.6651611328125,
          450.1943359375,
          450.9873046875,
          451.08734130859375,
          450.5210876464844,
          449.94140625,
          450.6018371582031,
          450.75286865234375,
          451.48699951171875,
          451.6690979003906,
          450.9031066894531,
          450.9814147949219,
          451.7800598144531,
          453.0265197753906,
          455.01177978515625,
          457.1815490722656,
          460.7315673828125,
          465.6019592285156,
          465.8544006347656,
          466.02044677734375,
          468.1139221191406,
          467.4131774902344,
          465.61566162109375,
          466.1067199707031,
          466.9696044921875,
          467.5726623535156,
          468.5359802246094,
          469.8313903808594,
          469.14019775390625,
          468.0135192871094,
          464.910888671875,
          460.5963439941406,
          456.9742126464844,
          455.5459289550781,
          457.8561706542969,
          462.1272277832031,
          466.5686340332031,
          469.3905029296875,
          470.9802551269531,
          471.44281005859375,
          469.4911804199219,
          465.0570068359375,
          463.89697265625,
          467.998291015625,
          475.2308349609375,
          478.4076232910156,
          480.4372863769531,
          481.4544677734375,
          481.6358947753906,
          482.0694580078125,
          483.0336608886719,
          478.8583068847656,
          474.37432861328125,
          476.368408203125,
          481.2814025878906,
          483.3145751953125,
          485.66302490234375,
          488.45660400390625,
          490.23663330078125,
          491.60552978515625,
          485.2801513671875,
          480.6531982421875,
          482.04632568359375,
          485.5223388671875,
          485.59918212890625,
          481.11181640625,
          477.02740478515625,
          483.29388427734375,
          493.5151672363281,
          497.0677795410156,
          493.4955749511719,
          489.96087646484375,
          489.6627502441406,
          492.2945251464844,
          495.3660583496094,
          491.6243591308594,
          488.0006103515625,
          489.7251892089844
         ],
         "yaxis": "y3"
        },
        {
         "mode": "lines",
         "name": "Actual Close",
         "type": "scatter",
         "x": [
          "2023-10-05T00:00:00",
          "2023-10-06T00:00:00",
          "2023-10-09T00:00:00",
          "2023-10-10T00:00:00",
          "2023-10-11T00:00:00",
          "2023-10-12T00:00:00",
          "2023-10-13T00:00:00",
          "2023-10-16T00:00:00",
          "2023-10-17T00:00:00",
          "2023-10-18T00:00:00",
          "2023-10-19T00:00:00",
          "2023-10-20T00:00:00",
          "2023-10-23T00:00:00",
          "2023-10-24T00:00:00",
          "2023-10-25T00:00:00",
          "2023-10-26T00:00:00",
          "2023-10-27T00:00:00",
          "2023-10-30T00:00:00",
          "2023-10-31T00:00:00",
          "2023-11-01T00:00:00",
          "2023-11-02T00:00:00",
          "2023-11-03T00:00:00",
          "2023-11-06T00:00:00",
          "2023-11-07T00:00:00",
          "2023-11-08T00:00:00",
          "2023-11-09T00:00:00",
          "2023-11-10T00:00:00",
          "2023-11-13T00:00:00",
          "2023-11-14T00:00:00",
          "2023-11-15T00:00:00",
          "2023-11-16T00:00:00",
          "2023-11-17T00:00:00",
          "2023-11-20T00:00:00",
          "2023-11-21T00:00:00",
          "2023-11-22T00:00:00",
          "2023-11-23T00:00:00",
          "2023-11-24T00:00:00",
          "2023-11-27T00:00:00",
          "2023-11-28T00:00:00",
          "2023-11-29T00:00:00",
          "2023-11-30T00:00:00",
          "2023-12-01T00:00:00",
          "2023-12-04T00:00:00",
          "2023-12-05T00:00:00",
          "2023-12-06T00:00:00",
          "2023-12-07T00:00:00",
          "2023-12-08T00:00:00",
          "2023-12-11T00:00:00",
          "2023-12-12T00:00:00",
          "2023-12-13T00:00:00",
          "2023-12-14T00:00:00",
          "2023-12-15T00:00:00",
          "2023-12-18T00:00:00",
          "2023-12-19T00:00:00",
          "2023-12-20T00:00:00",
          "2023-12-21T00:00:00",
          "2023-12-22T00:00:00",
          "2023-12-25T00:00:00",
          "2023-12-26T00:00:00",
          "2023-12-27T00:00:00",
          "2023-12-28T00:00:00",
          "2023-12-29T00:00:00",
          "2024-01-01T00:00:00",
          "2024-01-02T00:00:00",
          "2024-01-03T00:00:00",
          "2024-01-04T00:00:00",
          "2024-01-05T00:00:00",
          "2024-01-08T00:00:00",
          "2024-01-09T00:00:00",
          "2024-01-10T00:00:00",
          "2024-01-11T00:00:00",
          "2024-01-12T00:00:00",
          "2024-01-15T00:00:00",
          "2024-01-16T00:00:00",
          "2024-01-17T00:00:00",
          "2024-01-18T00:00:00",
          "2024-01-19T00:00:00",
          "2024-01-22T00:00:00",
          "2024-01-23T00:00:00",
          "2024-01-24T00:00:00",
          "2024-01-25T00:00:00",
          "2024-01-26T00:00:00",
          "2024-01-29T00:00:00",
          "2024-01-30T00:00:00",
          "2024-01-31T00:00:00",
          "2024-02-01T00:00:00",
          "2024-02-02T00:00:00",
          "2024-02-05T00:00:00",
          "2024-02-06T00:00:00",
          "2024-02-07T00:00:00",
          "2024-02-08T00:00:00",
          "2024-02-09T00:00:00",
          "2024-02-12T00:00:00",
          "2024-02-13T00:00:00",
          "2024-02-14T00:00:00",
          "2024-02-15T00:00:00",
          "2024-02-16T00:00:00",
          "2024-02-19T00:00:00",
          "2024-02-20T00:00:00",
          "2024-02-21T00:00:00",
          "2024-02-22T00:00:00",
          "2024-02-23T00:00:00",
          "2024-02-26T00:00:00",
          "2024-02-27T00:00:00",
          "2024-02-28T00:00:00",
          "2024-02-29T00:00:00",
          "2024-03-01T00:00:00",
          "2024-03-04T00:00:00",
          "2024-03-05T00:00:00",
          "2024-03-06T00:00:00",
          "2024-03-07T00:00:00",
          "2024-03-08T00:00:00"
         ],
         "xaxis": "x4",
         "y": [
          424.5,
          429.5400085449219,
          432.2900085449219,
          434.5400085449219,
          436.32000732421875,
          433.6600036621094,
          431.5,
          436.04000854492193,
          436.0199890136719,
          430.2099914550781,
          426.42999267578125,
          421.19000244140625,
          420.4599914550781,
          423.6300048828125,
          417.5499877929688,
          412.54998779296875,
          410.67999267578125,
          415.5899963378907,
          418.20001220703125,
          422.6600036621094,
          430.760009765625,
          434.69000244140625,
          435.69000244140625,
          436.9299926757813,
          437.25,
          433.8399963378906,
          440.6099853515625,
          440.19000244140625,
          448.7300109863281,
          449.6799926757812,
          450.2300109863281,
          450.7900085449218,
          454.260009765625,
          453.2699890136719,
          455.0199890136719,
          455.0199890136719,
          455.2999877929687,
          454.4800109863281,
          454.92999267578125,
          454.6099853515625,
          456.3999938964844,
          459.1000061035156,
          456.69000244140625,
          456.6000061035157,
          454.760009765625,
          458.2300109863281,
          460.20001220703125,
          461.989990234375,
          464.1000061035156,
          470.5,
          472.010009765625,
          469.3299865722656,
          471.9700012207031,
          474.8399963378906,
          468.260009765625,
          472.70001220703125,
          473.64999389648443,
          473.64999389648443,
          475.64999389648443,
          476.510009765625,
          476.69000244140625,
          475.3099975585937,
          475.3099975585937,
          472.6499938964844,
          468.7900085449219,
          467.2799987792969,
          467.92001342773443,
          474.6000061035156,
          473.8800048828125,
          476.55999755859375,
          476.3500061035156,
          476.6799926757812,
          476.6799926757812,
          474.92999267578125,
          472.2900085449219,
          476.48999023437494,
          482.42999267578125,
          483.4500122070313,
          484.8599853515625,
          485.3900146484375,
          488.0299987792969,
          487.41000366210943,
          491.2699890136719,
          490.8900146484375,
          482.8800048828125,
          489.20001220703125,
          494.3500061035156,
          492.5499877929688,
          493.9800109863281,
          498.1000061035157,
          498.32000732421875,
          501.20001220703125,
          500.9800109863282,
          494.0799865722656,
          498.57000732421875,
          502.01000976562494,
          499.510009765625,
          499.510009765625,
          496.760009765625,
          497.2099914550781,
          507.5,
          507.8500061035156,
          505.989990234375,
          506.92999267578125,
          506.260009765625,
          508.0799865722657,
          512.8499755859375,
          512.2999877929688,
          507.17999267578125,
          509.75,
          514.8099975585938,
          511.7200012207031
         ],
         "yaxis": "y4"
        },
        {
         "line": {
          "dash": "dash"
         },
         "mode": "lines",
         "name": "Predicted Close",
         "type": "scatter",
         "x": [
          "2023-10-05T00:00:00",
          "2023-10-06T00:00:00",
          "2023-10-09T00:00:00",
          "2023-10-10T00:00:00",
          "2023-10-11T00:00:00",
          "2023-10-12T00:00:00",
          "2023-10-13T00:00:00",
          "2023-10-16T00:00:00",
          "2023-10-17T00:00:00",
          "2023-10-18T00:00:00",
          "2023-10-19T00:00:00",
          "2023-10-20T00:00:00",
          "2023-10-23T00:00:00",
          "2023-10-24T00:00:00",
          "2023-10-25T00:00:00",
          "2023-10-26T00:00:00",
          "2023-10-27T00:00:00",
          "2023-10-30T00:00:00",
          "2023-10-31T00:00:00",
          "2023-11-01T00:00:00",
          "2023-11-02T00:00:00",
          "2023-11-03T00:00:00",
          "2023-11-06T00:00:00",
          "2023-11-07T00:00:00",
          "2023-11-08T00:00:00",
          "2023-11-09T00:00:00",
          "2023-11-10T00:00:00",
          "2023-11-13T00:00:00",
          "2023-11-14T00:00:00",
          "2023-11-15T00:00:00",
          "2023-11-16T00:00:00",
          "2023-11-17T00:00:00",
          "2023-11-20T00:00:00",
          "2023-11-21T00:00:00",
          "2023-11-22T00:00:00",
          "2023-11-23T00:00:00",
          "2023-11-24T00:00:00",
          "2023-11-27T00:00:00",
          "2023-11-28T00:00:00",
          "2023-11-29T00:00:00",
          "2023-11-30T00:00:00",
          "2023-12-01T00:00:00",
          "2023-12-04T00:00:00",
          "2023-12-05T00:00:00",
          "2023-12-06T00:00:00",
          "2023-12-07T00:00:00",
          "2023-12-08T00:00:00",
          "2023-12-11T00:00:00",
          "2023-12-12T00:00:00",
          "2023-12-13T00:00:00",
          "2023-12-14T00:00:00",
          "2023-12-15T00:00:00",
          "2023-12-18T00:00:00",
          "2023-12-19T00:00:00",
          "2023-12-20T00:00:00",
          "2023-12-21T00:00:00",
          "2023-12-22T00:00:00",
          "2023-12-25T00:00:00",
          "2023-12-26T00:00:00",
          "2023-12-27T00:00:00",
          "2023-12-28T00:00:00",
          "2023-12-29T00:00:00",
          "2024-01-01T00:00:00",
          "2024-01-02T00:00:00",
          "2024-01-03T00:00:00",
          "2024-01-04T00:00:00",
          "2024-01-05T00:00:00",
          "2024-01-08T00:00:00",
          "2024-01-09T00:00:00",
          "2024-01-10T00:00:00",
          "2024-01-11T00:00:00",
          "2024-01-12T00:00:00",
          "2024-01-15T00:00:00",
          "2024-01-16T00:00:00",
          "2024-01-17T00:00:00",
          "2024-01-18T00:00:00",
          "2024-01-19T00:00:00",
          "2024-01-22T00:00:00",
          "2024-01-23T00:00:00",
          "2024-01-24T00:00:00",
          "2024-01-25T00:00:00",
          "2024-01-26T00:00:00",
          "2024-01-29T00:00:00",
          "2024-01-30T00:00:00",
          "2024-01-31T00:00:00",
          "2024-02-01T00:00:00",
          "2024-02-02T00:00:00",
          "2024-02-05T00:00:00",
          "2024-02-06T00:00:00",
          "2024-02-07T00:00:00",
          "2024-02-08T00:00:00",
          "2024-02-09T00:00:00",
          "2024-02-12T00:00:00",
          "2024-02-13T00:00:00",
          "2024-02-14T00:00:00",
          "2024-02-15T00:00:00",
          "2024-02-16T00:00:00",
          "2024-02-19T00:00:00",
          "2024-02-20T00:00:00",
          "2024-02-21T00:00:00",
          "2024-02-22T00:00:00",
          "2024-02-23T00:00:00",
          "2024-02-26T00:00:00",
          "2024-02-27T00:00:00",
          "2024-02-28T00:00:00",
          "2024-02-29T00:00:00",
          "2024-03-01T00:00:00",
          "2024-03-04T00:00:00",
          "2024-03-05T00:00:00",
          "2024-03-06T00:00:00",
          "2024-03-07T00:00:00",
          "2024-03-08T00:00:00"
         ],
         "xaxis": "x4",
         "y": [
          422.5983581542969,
          421.886474609375,
          423.0029296875,
          425.9854431152344,
          429.876953125,
          432.0291748046875,
          432.6779479980469,
          432.374267578125,
          432.77264404296875,
          433.3946838378906,
          432.2283935546875,
          429.60162353515625,
          425.4383239746094,
          420.6167907714844,
          418.8981018066406,
          418.1614685058594,
          415.8650207519531,
          412.4523010253906,
          411.3182678222656,
          412.6537780761719,
          416.4732971191406,
          422.0805969238281,
          425.91595458984375,
          428.2249755859375,
          430.1566162109375,
          432.2419738769531,
          433.3083801269531,
          434.96954345703125,
          436.98980712890625,
          441.7300720214844,
          445.4986877441406,
          446.8751220703125,
          448.1523132324219,
          449.9290466308594,
          451.34527587890625,
          453.01190185546875,
          453.9777526855469,
          454.2921447753906,
          453.96014404296875,
          453.5199279785156,
          454.2198791503906,
          454.42828369140625,
          455.2850646972656,
          455.47808837890625,
          454.8696594238281,
          454.9731750488281,
          455.7419128417969,
          456.97222900390625,
          458.92486572265625,
          461.0675354003906,
          464.6756286621094,
          469.5287780761719,
          469.8642272949219,
          470.3604431152344,
          472.69049072265625,
          472.1909484863281,
          470.89483642578125,
          471.72314453125,
          472.6671447753906,
          473.48187255859375,
          474.5226135253906,
          475.81561279296875,
          475.22332763671875,
          474.31005859375,
          471.35772705078125,
          467.3266296386719,
          463.936279296875,
          462.5376281738281,
          464.797607421875,
          468.6427001953125,
          472.70196533203125,
          475.2294921875,
          476.75213623046875,
          477.23126220703125,
          475.46173095703125,
          471.4120178222656,
          470.7321472167969,
          474.8815002441406,
          481.7154235839844,
          484.74456787109375,
          486.93719482421875,
          488.18438720703125,
          488.62103271484375,
          489.5001525878906,
          490.8486022949219,
          487.0023498535156,
          483.39898681640625,
          485.9467468261719,
          490.4978942871094,
          492.5394592285156,
          495.1539001464844,
          497.9604797363281,
          500.01055908203125,
          501.66534423828125,
          495.5751953125,
          492.18157958984375,
          494.0560302734375,
          497.2266540527344,
          497.400634765625,
          493.1407165527344,
          489.4623107910156,
          496.2042541503906,
          505.6347351074219,
          508.73236083984375,
          505.8817443847656,
          503.01806640625,
          503.19720458984375,
          506.1719055175781,
          509.4117126464844,
          505.8872985839844,
          503.29058837890625,
          505.42816162109375
         ],
         "yaxis": "y4"
        }
       ],
       "layout": {
        "height": 800,
        "template": {
         "data": {
          "bar": [
           {
            "error_x": {
             "color": "#2a3f5f"
            },
            "error_y": {
             "color": "#2a3f5f"
            },
            "marker": {
             "line": {
              "color": "#E5ECF6",
              "width": 0.5
             },
             "pattern": {
              "fillmode": "overlay",
              "size": 10,
              "solidity": 0.2
             }
            },
            "type": "bar"
           }
          ],
          "barpolar": [
           {
            "marker": {
             "line": {
              "color": "#E5ECF6",
              "width": 0.5
             },
             "pattern": {
              "fillmode": "overlay",
              "size": 10,
              "solidity": 0.2
             }
            },
            "type": "barpolar"
           }
          ],
          "carpet": [
           {
            "aaxis": {
             "endlinecolor": "#2a3f5f",
             "gridcolor": "white",
             "linecolor": "white",
             "minorgridcolor": "white",
             "startlinecolor": "#2a3f5f"
            },
            "baxis": {
             "endlinecolor": "#2a3f5f",
             "gridcolor": "white",
             "linecolor": "white",
             "minorgridcolor": "white",
             "startlinecolor": "#2a3f5f"
            },
            "type": "carpet"
           }
          ],
          "choropleth": [
           {
            "colorbar": {
             "outlinewidth": 0,
             "ticks": ""
            },
            "type": "choropleth"
           }
          ],
          "contour": [
           {
            "colorbar": {
             "outlinewidth": 0,
             "ticks": ""
            },
            "colorscale": [
             [
              0,
              "#0d0887"
             ],
             [
              0.1111111111111111,
              "#46039f"
             ],
             [
              0.2222222222222222,
              "#7201a8"
             ],
             [
              0.3333333333333333,
              "#9c179e"
             ],
             [
              0.4444444444444444,
              "#bd3786"
             ],
             [
              0.5555555555555556,
              "#d8576b"
             ],
             [
              0.6666666666666666,
              "#ed7953"
             ],
             [
              0.7777777777777778,
              "#fb9f3a"
             ],
             [
              0.8888888888888888,
              "#fdca26"
             ],
             [
              1,
              "#f0f921"
             ]
            ],
            "type": "contour"
           }
          ],
          "contourcarpet": [
           {
            "colorbar": {
             "outlinewidth": 0,
             "ticks": ""
            },
            "type": "contourcarpet"
           }
          ],
          "heatmap": [
           {
            "colorbar": {
             "outlinewidth": 0,
             "ticks": ""
            },
            "colorscale": [
             [
              0,
              "#0d0887"
             ],
             [
              0.1111111111111111,
              "#46039f"
             ],
             [
              0.2222222222222222,
              "#7201a8"
             ],
             [
              0.3333333333333333,
              "#9c179e"
             ],
             [
              0.4444444444444444,
              "#bd3786"
             ],
             [
              0.5555555555555556,
              "#d8576b"
             ],
             [
              0.6666666666666666,
              "#ed7953"
             ],
             [
              0.7777777777777778,
              "#fb9f3a"
             ],
             [
              0.8888888888888888,
              "#fdca26"
             ],
             [
              1,
              "#f0f921"
             ]
            ],
            "type": "heatmap"
           }
          ],
          "heatmapgl": [
           {
            "colorbar": {
             "outlinewidth": 0,
             "ticks": ""
            },
            "colorscale": [
             [
              0,
              "#0d0887"
             ],
             [
              0.1111111111111111,
              "#46039f"
             ],
             [
              0.2222222222222222,
              "#7201a8"
             ],
             [
              0.3333333333333333,
              "#9c179e"
             ],
             [
              0.4444444444444444,
              "#bd3786"
             ],
             [
              0.5555555555555556,
              "#d8576b"
             ],
             [
              0.6666666666666666,
              "#ed7953"
             ],
             [
              0.7777777777777778,
              "#fb9f3a"
             ],
             [
              0.8888888888888888,
              "#fdca26"
             ],
             [
              1,
              "#f0f921"
             ]
            ],
            "type": "heatmapgl"
           }
          ],
          "histogram": [
           {
            "marker": {
             "pattern": {
              "fillmode": "overlay",
              "size": 10,
              "solidity": 0.2
             }
            },
            "type": "histogram"
           }
          ],
          "histogram2d": [
           {
            "colorbar": {
             "outlinewidth": 0,
             "ticks": ""
            },
            "colorscale": [
             [
              0,
              "#0d0887"
             ],
             [
              0.1111111111111111,
              "#46039f"
             ],
             [
              0.2222222222222222,
              "#7201a8"
             ],
             [
              0.3333333333333333,
              "#9c179e"
             ],
             [
              0.4444444444444444,
              "#bd3786"
             ],
             [
              0.5555555555555556,
              "#d8576b"
             ],
             [
              0.6666666666666666,
              "#ed7953"
             ],
             [
              0.7777777777777778,
              "#fb9f3a"
             ],
             [
              0.8888888888888888,
              "#fdca26"
             ],
             [
              1,
              "#f0f921"
             ]
            ],
            "type": "histogram2d"
           }
          ],
          "histogram2dcontour": [
           {
            "colorbar": {
             "outlinewidth": 0,
             "ticks": ""
            },
            "colorscale": [
             [
              0,
              "#0d0887"
             ],
             [
              0.1111111111111111,
              "#46039f"
             ],
             [
              0.2222222222222222,
              "#7201a8"
             ],
             [
              0.3333333333333333,
              "#9c179e"
             ],
             [
              0.4444444444444444,
              "#bd3786"
             ],
             [
              0.5555555555555556,
              "#d8576b"
             ],
             [
              0.6666666666666666,
              "#ed7953"
             ],
             [
              0.7777777777777778,
              "#fb9f3a"
             ],
             [
              0.8888888888888888,
              "#fdca26"
             ],
             [
              1,
              "#f0f921"
             ]
            ],
            "type": "histogram2dcontour"
           }
          ],
          "mesh3d": [
           {
            "colorbar": {
             "outlinewidth": 0,
             "ticks": ""
            },
            "type": "mesh3d"
           }
          ],
          "parcoords": [
           {
            "line": {
             "colorbar": {
              "outlinewidth": 0,
              "ticks": ""
             }
            },
            "type": "parcoords"
           }
          ],
          "pie": [
           {
            "automargin": true,
            "type": "pie"
           }
          ],
          "scatter": [
           {
            "fillpattern": {
             "fillmode": "overlay",
             "size": 10,
             "solidity": 0.2
            },
            "type": "scatter"
           }
          ],
          "scatter3d": [
           {
            "line": {
             "colorbar": {
              "outlinewidth": 0,
              "ticks": ""
             }
            },
            "marker": {
             "colorbar": {
              "outlinewidth": 0,
              "ticks": ""
             }
            },
            "type": "scatter3d"
           }
          ],
          "scattercarpet": [
           {
            "marker": {
             "colorbar": {
              "outlinewidth": 0,
              "ticks": ""
             }
            },
            "type": "scattercarpet"
           }
          ],
          "scattergeo": [
           {
            "marker": {
             "colorbar": {
              "outlinewidth": 0,
              "ticks": ""
             }
            },
            "type": "scattergeo"
           }
          ],
          "scattergl": [
           {
            "marker": {
             "colorbar": {
              "outlinewidth": 0,
              "ticks": ""
             }
            },
            "type": "scattergl"
           }
          ],
          "scattermapbox": [
           {
            "marker": {
             "colorbar": {
              "outlinewidth": 0,
              "ticks": ""
             }
            },
            "type": "scattermapbox"
           }
          ],
          "scatterpolar": [
           {
            "marker": {
             "colorbar": {
              "outlinewidth": 0,
              "ticks": ""
             }
            },
            "type": "scatterpolar"
           }
          ],
          "scatterpolargl": [
           {
            "marker": {
             "colorbar": {
              "outlinewidth": 0,
              "ticks": ""
             }
            },
            "type": "scatterpolargl"
           }
          ],
          "scatterternary": [
           {
            "marker": {
             "colorbar": {
              "outlinewidth": 0,
              "ticks": ""
             }
            },
            "type": "scatterternary"
           }
          ],
          "surface": [
           {
            "colorbar": {
             "outlinewidth": 0,
             "ticks": ""
            },
            "colorscale": [
             [
              0,
              "#0d0887"
             ],
             [
              0.1111111111111111,
              "#46039f"
             ],
             [
              0.2222222222222222,
              "#7201a8"
             ],
             [
              0.3333333333333333,
              "#9c179e"
             ],
             [
              0.4444444444444444,
              "#bd3786"
             ],
             [
              0.5555555555555556,
              "#d8576b"
             ],
             [
              0.6666666666666666,
              "#ed7953"
             ],
             [
              0.7777777777777778,
              "#fb9f3a"
             ],
             [
              0.8888888888888888,
              "#fdca26"
             ],
             [
              1,
              "#f0f921"
             ]
            ],
            "type": "surface"
           }
          ],
          "table": [
           {
            "cells": {
             "fill": {
              "color": "#EBF0F8"
             },
             "line": {
              "color": "white"
             }
            },
            "header": {
             "fill": {
              "color": "#C8D4E3"
             },
             "line": {
              "color": "white"
             }
            },
            "type": "table"
           }
          ]
         },
         "layout": {
          "annotationdefaults": {
           "arrowcolor": "#2a3f5f",
           "arrowhead": 0,
           "arrowwidth": 1
          },
          "autotypenumbers": "strict",
          "coloraxis": {
           "colorbar": {
            "outlinewidth": 0,
            "ticks": ""
           }
          },
          "colorscale": {
           "diverging": [
            [
             0,
             "#8e0152"
            ],
            [
             0.1,
             "#c51b7d"
            ],
            [
             0.2,
             "#de77ae"
            ],
            [
             0.3,
             "#f1b6da"
            ],
            [
             0.4,
             "#fde0ef"
            ],
            [
             0.5,
             "#f7f7f7"
            ],
            [
             0.6,
             "#e6f5d0"
            ],
            [
             0.7,
             "#b8e186"
            ],
            [
             0.8,
             "#7fbc41"
            ],
            [
             0.9,
             "#4d9221"
            ],
            [
             1,
             "#276419"
            ]
           ],
           "sequential": [
            [
             0,
             "#0d0887"
            ],
            [
             0.1111111111111111,
             "#46039f"
            ],
            [
             0.2222222222222222,
             "#7201a8"
            ],
            [
             0.3333333333333333,
             "#9c179e"
            ],
            [
             0.4444444444444444,
             "#bd3786"
            ],
            [
             0.5555555555555556,
             "#d8576b"
            ],
            [
             0.6666666666666666,
             "#ed7953"
            ],
            [
             0.7777777777777778,
             "#fb9f3a"
            ],
            [
             0.8888888888888888,
             "#fdca26"
            ],
            [
             1,
             "#f0f921"
            ]
           ],
           "sequentialminus": [
            [
             0,
             "#0d0887"
            ],
            [
             0.1111111111111111,
             "#46039f"
            ],
            [
             0.2222222222222222,
             "#7201a8"
            ],
            [
             0.3333333333333333,
             "#9c179e"
            ],
            [
             0.4444444444444444,
             "#bd3786"
            ],
            [
             0.5555555555555556,
             "#d8576b"
            ],
            [
             0.6666666666666666,
             "#ed7953"
            ],
            [
             0.7777777777777778,
             "#fb9f3a"
            ],
            [
             0.8888888888888888,
             "#fdca26"
            ],
            [
             1,
             "#f0f921"
            ]
           ]
          },
          "colorway": [
           "#636efa",
           "#EF553B",
           "#00cc96",
           "#ab63fa",
           "#FFA15A",
           "#19d3f3",
           "#FF6692",
           "#B6E880",
           "#FF97FF",
           "#FECB52"
          ],
          "font": {
           "color": "#2a3f5f"
          },
          "geo": {
           "bgcolor": "white",
           "lakecolor": "white",
           "landcolor": "#E5ECF6",
           "showlakes": true,
           "showland": true,
           "subunitcolor": "white"
          },
          "hoverlabel": {
           "align": "left"
          },
          "hovermode": "closest",
          "mapbox": {
           "style": "light"
          },
          "paper_bgcolor": "white",
          "plot_bgcolor": "#E5ECF6",
          "polar": {
           "angularaxis": {
            "gridcolor": "white",
            "linecolor": "white",
            "ticks": ""
           },
           "bgcolor": "#E5ECF6",
           "radialaxis": {
            "gridcolor": "white",
            "linecolor": "white",
            "ticks": ""
           }
          },
          "scene": {
           "xaxis": {
            "backgroundcolor": "#E5ECF6",
            "gridcolor": "white",
            "gridwidth": 2,
            "linecolor": "white",
            "showbackground": true,
            "ticks": "",
            "zerolinecolor": "white"
           },
           "yaxis": {
            "backgroundcolor": "#E5ECF6",
            "gridcolor": "white",
            "gridwidth": 2,
            "linecolor": "white",
            "showbackground": true,
            "ticks": "",
            "zerolinecolor": "white"
           },
           "zaxis": {
            "backgroundcolor": "#E5ECF6",
            "gridcolor": "white",
            "gridwidth": 2,
            "linecolor": "white",
            "showbackground": true,
            "ticks": "",
            "zerolinecolor": "white"
           }
          },
          "shapedefaults": {
           "line": {
            "color": "#2a3f5f"
           }
          },
          "ternary": {
           "aaxis": {
            "gridcolor": "white",
            "linecolor": "white",
            "ticks": ""
           },
           "baxis": {
            "gridcolor": "white",
            "linecolor": "white",
            "ticks": ""
           },
           "bgcolor": "#E5ECF6",
           "caxis": {
            "gridcolor": "white",
            "linecolor": "white",
            "ticks": ""
           }
          },
          "title": {
           "x": 0.05
          },
          "xaxis": {
           "automargin": true,
           "gridcolor": "white",
           "linecolor": "white",
           "ticks": "",
           "title": {
            "standoff": 15
           },
           "zerolinecolor": "white",
           "zerolinewidth": 2
          },
          "yaxis": {
           "automargin": true,
           "gridcolor": "white",
           "linecolor": "white",
           "ticks": "",
           "title": {
            "standoff": 15
           },
           "zerolinecolor": "white",
           "zerolinewidth": 2
          }
         }
        },
        "title": {
         "text": "Stock Price Forecasting"
        },
        "width": 1000,
        "xaxis": {
         "anchor": "y",
         "domain": [
          0,
          1
         ],
         "matches": "x4",
         "rangeslider": {
          "visible": false
         },
         "showticklabels": false
        },
        "xaxis2": {
         "anchor": "y2",
         "domain": [
          0,
          1
         ],
         "matches": "x4",
         "showticklabels": false
        },
        "xaxis3": {
         "anchor": "y3",
         "domain": [
          0,
          1
         ],
         "matches": "x4",
         "showticklabels": false
        },
        "xaxis4": {
         "anchor": "y4",
         "domain": [
          0,
          1
         ],
         "title": {
          "text": "<b>Date</b>"
         }
        },
        "yaxis": {
         "anchor": "x",
         "domain": [
          0.7649999999999999,
          0.9999999999999999
         ],
         "title": {
          "text": "<b>Price</b>"
         }
        },
        "yaxis2": {
         "anchor": "x2",
         "domain": [
          0.51,
          0.745
         ],
         "title": {
          "text": "<b>Price</b>"
         }
        },
        "yaxis3": {
         "anchor": "x3",
         "domain": [
          0.255,
          0.49
         ],
         "title": {
          "text": "<b>Price</b>"
         }
        },
        "yaxis4": {
         "anchor": "x4",
         "domain": [
          0,
          0.235
         ],
         "title": {
          "text": "<b>Price</b>"
         }
        }
       }
      },
      "text/html": [
       "<div>                            <div id=\"ea4da350-ea63-4f0d-b67c-aa13bf867719\" class=\"plotly-graph-div\" style=\"height:800px; width:1000px;\"></div>            <script type=\"text/javascript\">                require([\"plotly\"], function(Plotly) {                    window.PLOTLYENV=window.PLOTLYENV || {};                                    if (document.getElementById(\"ea4da350-ea63-4f0d-b67c-aa13bf867719\")) {                    Plotly.newPlot(                        \"ea4da350-ea63-4f0d-b67c-aa13bf867719\",                        [{\"mode\":\"lines\",\"name\":\"Actual Open\",\"x\":[\"2023-10-05T00:00:00\",\"2023-10-06T00:00:00\",\"2023-10-09T00:00:00\",\"2023-10-10T00:00:00\",\"2023-10-11T00:00:00\",\"2023-10-12T00:00:00\",\"2023-10-13T00:00:00\",\"2023-10-16T00:00:00\",\"2023-10-17T00:00:00\",\"2023-10-18T00:00:00\",\"2023-10-19T00:00:00\",\"2023-10-20T00:00:00\",\"2023-10-23T00:00:00\",\"2023-10-24T00:00:00\",\"2023-10-25T00:00:00\",\"2023-10-26T00:00:00\",\"2023-10-27T00:00:00\",\"2023-10-30T00:00:00\",\"2023-10-31T00:00:00\",\"2023-11-01T00:00:00\",\"2023-11-02T00:00:00\",\"2023-11-03T00:00:00\",\"2023-11-06T00:00:00\",\"2023-11-07T00:00:00\",\"2023-11-08T00:00:00\",\"2023-11-09T00:00:00\",\"2023-11-10T00:00:00\",\"2023-11-13T00:00:00\",\"2023-11-14T00:00:00\",\"2023-11-15T00:00:00\",\"2023-11-16T00:00:00\",\"2023-11-17T00:00:00\",\"2023-11-20T00:00:00\",\"2023-11-21T00:00:00\",\"2023-11-22T00:00:00\",\"2023-11-23T00:00:00\",\"2023-11-24T00:00:00\",\"2023-11-27T00:00:00\",\"2023-11-28T00:00:00\",\"2023-11-29T00:00:00\",\"2023-11-30T00:00:00\",\"2023-12-01T00:00:00\",\"2023-12-04T00:00:00\",\"2023-12-05T00:00:00\",\"2023-12-06T00:00:00\",\"2023-12-07T00:00:00\",\"2023-12-08T00:00:00\",\"2023-12-11T00:00:00\",\"2023-12-12T00:00:00\",\"2023-12-13T00:00:00\",\"2023-12-14T00:00:00\",\"2023-12-15T00:00:00\",\"2023-12-18T00:00:00\",\"2023-12-19T00:00:00\",\"2023-12-20T00:00:00\",\"2023-12-21T00:00:00\",\"2023-12-22T00:00:00\",\"2023-12-25T00:00:00\",\"2023-12-26T00:00:00\",\"2023-12-27T00:00:00\",\"2023-12-28T00:00:00\",\"2023-12-29T00:00:00\",\"2024-01-01T00:00:00\",\"2024-01-02T00:00:00\",\"2024-01-03T00:00:00\",\"2024-01-04T00:00:00\",\"2024-01-05T00:00:00\",\"2024-01-08T00:00:00\",\"2024-01-09T00:00:00\",\"2024-01-10T00:00:00\",\"2024-01-11T00:00:00\",\"2024-01-12T00:00:00\",\"2024-01-15T00:00:00\",\"2024-01-16T00:00:00\",\"2024-01-17T00:00:00\",\"2024-01-18T00:00:00\",\"2024-01-19T00:00:00\",\"2024-01-22T00:00:00\",\"2024-01-23T00:00:00\",\"2024-01-24T00:00:00\",\"2024-01-25T00:00:00\",\"2024-01-26T00:00:00\",\"2024-01-29T00:00:00\",\"2024-01-30T00:00:00\",\"2024-01-31T00:00:00\",\"2024-02-01T00:00:00\",\"2024-02-02T00:00:00\",\"2024-02-05T00:00:00\",\"2024-02-06T00:00:00\",\"2024-02-07T00:00:00\",\"2024-02-08T00:00:00\",\"2024-02-09T00:00:00\",\"2024-02-12T00:00:00\",\"2024-02-13T00:00:00\",\"2024-02-14T00:00:00\",\"2024-02-15T00:00:00\",\"2024-02-16T00:00:00\",\"2024-02-19T00:00:00\",\"2024-02-20T00:00:00\",\"2024-02-21T00:00:00\",\"2024-02-22T00:00:00\",\"2024-02-23T00:00:00\",\"2024-02-26T00:00:00\",\"2024-02-27T00:00:00\",\"2024-02-28T00:00:00\",\"2024-02-29T00:00:00\",\"2024-03-01T00:00:00\",\"2024-03-04T00:00:00\",\"2024-03-05T00:00:00\",\"2024-03-06T00:00:00\",\"2024-03-07T00:00:00\",\"2024-03-08T00:00:00\"],\"y\":[424.3599853515625,421.9700012207031,427.57998657226557,432.94000244140625,435.6400146484375,436.9500122070313,435.2099914550781,433.82000732421875,432.80999755859375,434.19000244140625,430.9500122070312,425.9800109863281,419.6099853515625,422.6499938964844,421.89001464843744,416.4500122070312,414.19000244140625,413.55999755859375,416.17999267578125,419.2000122070312,426.5799865722656,433.1400146484375,435.4700012207031,435.6900024414063,437.5499877929687,438.42999267578125,435.9800109863281,439.2300109863281,446.3200073242188,450.1099853515625,449.2200012207031,450.239990234375,450.5299987792969,453.17999267578125,454.9800109863281,454.9800109863281,455.0700073242188,454.6499938964844,454.0799865722656,457.1499938964844,455.48001098632807,455.7699890136719,455.6000061035156,455.260009765625,458.80999755859375,456.91000366210943,457.4599914550781,459.69000244140625,461.6300048828125,464.489990234375,472.5,469.489990234375,470.9800109863281,472.5299987792969,473.9599914550781,471.3299865722656,473.8599853515625,473.8599853515625,474.07000732421875,475.4400024414062,476.8800048828125,476.489990234375,476.489990234375,472.1600036621094,470.42999267578125,468.29998779296875,467.489990234375,468.4299926757812,471.8699951171875,474.16000366210943,477.5899963378906,477.83999633789057,477.83999633789057,475.260009765625,471.8200073242187,474.010009765625,477.6499938964844,484.010009765625,484.010009765625,487.8099975585937,487.5799865722656,487.5899963378906,487.7300109863281,490.5599975585937,488.61999511718756,484.6300048828125,489.6499938964843,493.70001220703125,493.5199890136718,496.2900085449218,498.1000061035156,498.8399963378906,501.1700134277343,494.5299987792969,496.7900085449219,499.29000854492193,501.70001220703125,501.70001220703125,497.7200012207032,495.4200134277343,504.010009765625,509.2699890136719,508.29998779296875,506.70001220703125,505.32998657226557,508.07000732421875,508.9800109863281,512.030029296875,510.239990234375,510.54998779296875,513.1400146484375,515.4600219726562],\"type\":\"scatter\",\"xaxis\":\"x\",\"yaxis\":\"y\"},{\"line\":{\"dash\":\"dash\"},\"mode\":\"lines\",\"name\":\"Predicted Open\",\"x\":[\"2023-10-05T00:00:00\",\"2023-10-06T00:00:00\",\"2023-10-09T00:00:00\",\"2023-10-10T00:00:00\",\"2023-10-11T00:00:00\",\"2023-10-12T00:00:00\",\"2023-10-13T00:00:00\",\"2023-10-16T00:00:00\",\"2023-10-17T00:00:00\",\"2023-10-18T00:00:00\",\"2023-10-19T00:00:00\",\"2023-10-20T00:00:00\",\"2023-10-23T00:00:00\",\"2023-10-24T00:00:00\",\"2023-10-25T00:00:00\",\"2023-10-26T00:00:00\",\"2023-10-27T00:00:00\",\"2023-10-30T00:00:00\",\"2023-10-31T00:00:00\",\"2023-11-01T00:00:00\",\"2023-11-02T00:00:00\",\"2023-11-03T00:00:00\",\"2023-11-06T00:00:00\",\"2023-11-07T00:00:00\",\"2023-11-08T00:00:00\",\"2023-11-09T00:00:00\",\"2023-11-10T00:00:00\",\"2023-11-13T00:00:00\",\"2023-11-14T00:00:00\",\"2023-11-15T00:00:00\",\"2023-11-16T00:00:00\",\"2023-11-17T00:00:00\",\"2023-11-20T00:00:00\",\"2023-11-21T00:00:00\",\"2023-11-22T00:00:00\",\"2023-11-23T00:00:00\",\"2023-11-24T00:00:00\",\"2023-11-27T00:00:00\",\"2023-11-28T00:00:00\",\"2023-11-29T00:00:00\",\"2023-11-30T00:00:00\",\"2023-12-01T00:00:00\",\"2023-12-04T00:00:00\",\"2023-12-05T00:00:00\",\"2023-12-06T00:00:00\",\"2023-12-07T00:00:00\",\"2023-12-08T00:00:00\",\"2023-12-11T00:00:00\",\"2023-12-12T00:00:00\",\"2023-12-13T00:00:00\",\"2023-12-14T00:00:00\",\"2023-12-15T00:00:00\",\"2023-12-18T00:00:00\",\"2023-12-19T00:00:00\",\"2023-12-20T00:00:00\",\"2023-12-21T00:00:00\",\"2023-12-22T00:00:00\",\"2023-12-25T00:00:00\",\"2023-12-26T00:00:00\",\"2023-12-27T00:00:00\",\"2023-12-28T00:00:00\",\"2023-12-29T00:00:00\",\"2024-01-01T00:00:00\",\"2024-01-02T00:00:00\",\"2024-01-03T00:00:00\",\"2024-01-04T00:00:00\",\"2024-01-05T00:00:00\",\"2024-01-08T00:00:00\",\"2024-01-09T00:00:00\",\"2024-01-10T00:00:00\",\"2024-01-11T00:00:00\",\"2024-01-12T00:00:00\",\"2024-01-15T00:00:00\",\"2024-01-16T00:00:00\",\"2024-01-17T00:00:00\",\"2024-01-18T00:00:00\",\"2024-01-19T00:00:00\",\"2024-01-22T00:00:00\",\"2024-01-23T00:00:00\",\"2024-01-24T00:00:00\",\"2024-01-25T00:00:00\",\"2024-01-26T00:00:00\",\"2024-01-29T00:00:00\",\"2024-01-30T00:00:00\",\"2024-01-31T00:00:00\",\"2024-02-01T00:00:00\",\"2024-02-02T00:00:00\",\"2024-02-05T00:00:00\",\"2024-02-06T00:00:00\",\"2024-02-07T00:00:00\",\"2024-02-08T00:00:00\",\"2024-02-09T00:00:00\",\"2024-02-12T00:00:00\",\"2024-02-13T00:00:00\",\"2024-02-14T00:00:00\",\"2024-02-15T00:00:00\",\"2024-02-16T00:00:00\",\"2024-02-19T00:00:00\",\"2024-02-20T00:00:00\",\"2024-02-21T00:00:00\",\"2024-02-22T00:00:00\",\"2024-02-23T00:00:00\",\"2024-02-26T00:00:00\",\"2024-02-27T00:00:00\",\"2024-02-28T00:00:00\",\"2024-02-29T00:00:00\",\"2024-03-01T00:00:00\",\"2024-03-04T00:00:00\",\"2024-03-05T00:00:00\",\"2024-03-06T00:00:00\",\"2024-03-07T00:00:00\",\"2024-03-08T00:00:00\"],\"y\":[423.0445861816406,422.3382568359375,423.4666442871094,426.46539306640625,430.3370056152344,432.32623291015625,432.84185791015625,432.4453125,432.82098388671875,433.505859375,432.40777587890625,429.86529541015625,425.7939453125,421.0348205566406,419.41705322265625,418.8134460449219,416.5417785644531,413.0499267578125,411.87884521484375,413.2286682128906,417.0646667480469,422.6191711425781,426.179931640625,428.2177734375,429.93621826171875,431.9252014160156,433.0360412597656,434.8374938964844,436.982666015625,441.799072265625,445.49163818359375,446.731689453125,447.9178161621094,449.64080810546875,451.0350341796875,452.7013244628906,453.6839904785156,454.0288391113281,453.7596130371094,453.3442077636719,454.08502197265625,454.3151550292969,455.1372375488281,455.3297119140625,454.6851806640625,454.8098449707031,455.57672119140625,456.7753601074219,458.6916198730469,460.76373291015625,464.1866760253906,468.81463623046875,468.8883361816406,469.236083984375,471.4658508300781,470.9656677246094,469.6404113769531,470.5279235839844,471.54608154296875,472.3400573730469,473.3562316894531,474.57220458984375,473.9609680175781,473.0158996582031,470.11199951171875,466.19793701171875,463.01275634765625,461.78839111328125,464.1217041015625,468.003173828125,471.91986083984375,474.2527770996094,475.5653381347656,475.8713073730469,474.0295715332031,470.0467834472656,469.44720458984375,473.66534423828125,480.3990783691406,483.140869140625,485.0276794433594,486.0364074707031,486.3138732910156,487.03973388671875,488.3271179199219,484.5948181152344,480.9530334472656,483.5374450683594,488.09832763671875,489.9625549316406,492.3414611816406,495.0020446777344,496.7862243652344,498.25982666015625,492.189208984375,488.7106018066406,490.7403564453125,493.87506103515625,493.9518737792969,489.75433349609375,486.11773681640625,492.75177001953125,502.0642395019531,504.7557067871094,501.6490783691406,498.7391662597656,498.84771728515625,501.6883239746094,504.7721862792969,501.24072265625,498.5523376464844,500.6413879394531],\"type\":\"scatter\",\"xaxis\":\"x\",\"yaxis\":\"y\"},{\"mode\":\"lines\",\"name\":\"Actual High\",\"x\":[\"2023-10-05T00:00:00\",\"2023-10-06T00:00:00\",\"2023-10-09T00:00:00\",\"2023-10-10T00:00:00\",\"2023-10-11T00:00:00\",\"2023-10-12T00:00:00\",\"2023-10-13T00:00:00\",\"2023-10-16T00:00:00\",\"2023-10-17T00:00:00\",\"2023-10-18T00:00:00\",\"2023-10-19T00:00:00\",\"2023-10-20T00:00:00\",\"2023-10-23T00:00:00\",\"2023-10-24T00:00:00\",\"2023-10-25T00:00:00\",\"2023-10-26T00:00:00\",\"2023-10-27T00:00:00\",\"2023-10-30T00:00:00\",\"2023-10-31T00:00:00\",\"2023-11-01T00:00:00\",\"2023-11-02T00:00:00\",\"2023-11-03T00:00:00\",\"2023-11-06T00:00:00\",\"2023-11-07T00:00:00\",\"2023-11-08T00:00:00\",\"2023-11-09T00:00:00\",\"2023-11-10T00:00:00\",\"2023-11-13T00:00:00\",\"2023-11-14T00:00:00\",\"2023-11-15T00:00:00\",\"2023-11-16T00:00:00\",\"2023-11-17T00:00:00\",\"2023-11-20T00:00:00\",\"2023-11-21T00:00:00\",\"2023-11-22T00:00:00\",\"2023-11-23T00:00:00\",\"2023-11-24T00:00:00\",\"2023-11-27T00:00:00\",\"2023-11-28T00:00:00\",\"2023-11-29T00:00:00\",\"2023-11-30T00:00:00\",\"2023-12-01T00:00:00\",\"2023-12-04T00:00:00\",\"2023-12-05T00:00:00\",\"2023-12-06T00:00:00\",\"2023-12-07T00:00:00\",\"2023-12-08T00:00:00\",\"2023-12-11T00:00:00\",\"2023-12-12T00:00:00\",\"2023-12-13T00:00:00\",\"2023-12-14T00:00:00\",\"2023-12-15T00:00:00\",\"2023-12-18T00:00:00\",\"2023-12-19T00:00:00\",\"2023-12-20T00:00:00\",\"2023-12-21T00:00:00\",\"2023-12-22T00:00:00\",\"2023-12-25T00:00:00\",\"2023-12-26T00:00:00\",\"2023-12-27T00:00:00\",\"2023-12-28T00:00:00\",\"2023-12-29T00:00:00\",\"2024-01-01T00:00:00\",\"2024-01-02T00:00:00\",\"2024-01-03T00:00:00\",\"2024-01-04T00:00:00\",\"2024-01-05T00:00:00\",\"2024-01-08T00:00:00\",\"2024-01-09T00:00:00\",\"2024-01-10T00:00:00\",\"2024-01-11T00:00:00\",\"2024-01-12T00:00:00\",\"2024-01-15T00:00:00\",\"2024-01-16T00:00:00\",\"2024-01-17T00:00:00\",\"2024-01-18T00:00:00\",\"2024-01-19T00:00:00\",\"2024-01-22T00:00:00\",\"2024-01-23T00:00:00\",\"2024-01-24T00:00:00\",\"2024-01-25T00:00:00\",\"2024-01-26T00:00:00\",\"2024-01-29T00:00:00\",\"2024-01-30T00:00:00\",\"2024-01-31T00:00:00\",\"2024-02-01T00:00:00\",\"2024-02-02T00:00:00\",\"2024-02-05T00:00:00\",\"2024-02-06T00:00:00\",\"2024-02-07T00:00:00\",\"2024-02-08T00:00:00\",\"2024-02-09T00:00:00\",\"2024-02-12T00:00:00\",\"2024-02-13T00:00:00\",\"2024-02-14T00:00:00\",\"2024-02-15T00:00:00\",\"2024-02-16T00:00:00\",\"2024-02-19T00:00:00\",\"2024-02-20T00:00:00\",\"2024-02-21T00:00:00\",\"2024-02-22T00:00:00\",\"2024-02-23T00:00:00\",\"2024-02-26T00:00:00\",\"2024-02-27T00:00:00\",\"2024-02-28T00:00:00\",\"2024-02-29T00:00:00\",\"2024-03-01T00:00:00\",\"2024-03-04T00:00:00\",\"2024-03-05T00:00:00\",\"2024-03-06T00:00:00\",\"2024-03-07T00:00:00\",\"2024-03-08T00:00:00\"],\"y\":[425.3699951171875,431.1300048828125,432.8800048828125,437.2200012207031,436.5799865722656,437.3399963378906,436.4500122070313,437.1400146484375,438.14001464843744,435.1799926757812,432.82000732421875,426.5400085449219,424.4500122070312,424.82000732421875,421.9200134277344,417.3299865722656,414.6000061035156,416.67999267578125,418.5299987792969,423.5,430.9200134277344,436.2900085449219,436.1499938964844,437.5899963378906,438.0899963378907,438.4700012207031,440.9299926757813,441.3299865722656,450.0599975585938,451.3800048828125,450.55999755859375,451.4200134277344,455.1300048828125,454.13000488281256,456.38000488281256,456.38000488281256,455.5,455.489990234375,456.2699890136718,458.32000732421875,456.760009765625,459.6499938964844,459.11999511718744,457.5899963378906,458.8399963378906,458.8999938964844,460.75,462.17001342773443,464.20001220703125,470.760009765625,473.7300109863281,470.7000122070313,472.9800109863282,474.9200134277344,475.8999938964844,472.9800109863282,475.3800048828125,475.3800048828125,476.5799865722656,476.6600036621094,477.54998779296875,477.0299987792969,477.0299987792969,473.6700134277344,471.1900024414062,470.9599914550781,470.44000244140625,474.75,474.92999267578125,477.45001220703125,478.1199951171875,478.60000610351557,478.60000610351557,476.6099853515625,472.7900085449219,477.05999755859375,482.7200012207031,485.2200012207031,485.1099853515625,488.7699890136718,488.3099975585938,489.1199951171875,491.4200134277344,491.6199951171875,489.0799865722656,489.2300109863281,496.04998779296875,494.3800048828125,494.32000732421875,498.5299987792968,498.7099914550781,501.6499938964844,503.5,497.0899963378906,499.07000732421875,502.20001220703125,502.8699951171875,502.8699951171875,498.4100036621094,497.36999511718744,508.489990234375,510.1300048828125,508.75,507.1600036621093,506.8599853515625,509.739990234375,513.2899780273438,514.2000122070312,510.70001220703125,512.0700073242188,515.8900146484375,518.219970703125],\"type\":\"scatter\",\"xaxis\":\"x2\",\"yaxis\":\"y2\"},{\"line\":{\"dash\":\"dash\"},\"mode\":\"lines\",\"name\":\"Predicted High\",\"x\":[\"2023-10-05T00:00:00\",\"2023-10-06T00:00:00\",\"2023-10-09T00:00:00\",\"2023-10-10T00:00:00\",\"2023-10-11T00:00:00\",\"2023-10-12T00:00:00\",\"2023-10-13T00:00:00\",\"2023-10-16T00:00:00\",\"2023-10-17T00:00:00\",\"2023-10-18T00:00:00\",\"2023-10-19T00:00:00\",\"2023-10-20T00:00:00\",\"2023-10-23T00:00:00\",\"2023-10-24T00:00:00\",\"2023-10-25T00:00:00\",\"2023-10-26T00:00:00\",\"2023-10-27T00:00:00\",\"2023-10-30T00:00:00\",\"2023-10-31T00:00:00\",\"2023-11-01T00:00:00\",\"2023-11-02T00:00:00\",\"2023-11-03T00:00:00\",\"2023-11-06T00:00:00\",\"2023-11-07T00:00:00\",\"2023-11-08T00:00:00\",\"2023-11-09T00:00:00\",\"2023-11-10T00:00:00\",\"2023-11-13T00:00:00\",\"2023-11-14T00:00:00\",\"2023-11-15T00:00:00\",\"2023-11-16T00:00:00\",\"2023-11-17T00:00:00\",\"2023-11-20T00:00:00\",\"2023-11-21T00:00:00\",\"2023-11-22T00:00:00\",\"2023-11-23T00:00:00\",\"2023-11-24T00:00:00\",\"2023-11-27T00:00:00\",\"2023-11-28T00:00:00\",\"2023-11-29T00:00:00\",\"2023-11-30T00:00:00\",\"2023-12-01T00:00:00\",\"2023-12-04T00:00:00\",\"2023-12-05T00:00:00\",\"2023-12-06T00:00:00\",\"2023-12-07T00:00:00\",\"2023-12-08T00:00:00\",\"2023-12-11T00:00:00\",\"2023-12-12T00:00:00\",\"2023-12-13T00:00:00\",\"2023-12-14T00:00:00\",\"2023-12-15T00:00:00\",\"2023-12-18T00:00:00\",\"2023-12-19T00:00:00\",\"2023-12-20T00:00:00\",\"2023-12-21T00:00:00\",\"2023-12-22T00:00:00\",\"2023-12-25T00:00:00\",\"2023-12-26T00:00:00\",\"2023-12-27T00:00:00\",\"2023-12-28T00:00:00\",\"2023-12-29T00:00:00\",\"2024-01-01T00:00:00\",\"2024-01-02T00:00:00\",\"2024-01-03T00:00:00\",\"2024-01-04T00:00:00\",\"2024-01-05T00:00:00\",\"2024-01-08T00:00:00\",\"2024-01-09T00:00:00\",\"2024-01-10T00:00:00\",\"2024-01-11T00:00:00\",\"2024-01-12T00:00:00\",\"2024-01-15T00:00:00\",\"2024-01-16T00:00:00\",\"2024-01-17T00:00:00\",\"2024-01-18T00:00:00\",\"2024-01-19T00:00:00\",\"2024-01-22T00:00:00\",\"2024-01-23T00:00:00\",\"2024-01-24T00:00:00\",\"2024-01-25T00:00:00\",\"2024-01-26T00:00:00\",\"2024-01-29T00:00:00\",\"2024-01-30T00:00:00\",\"2024-01-31T00:00:00\",\"2024-02-01T00:00:00\",\"2024-02-02T00:00:00\",\"2024-02-05T00:00:00\",\"2024-02-06T00:00:00\",\"2024-02-07T00:00:00\",\"2024-02-08T00:00:00\",\"2024-02-09T00:00:00\",\"2024-02-12T00:00:00\",\"2024-02-13T00:00:00\",\"2024-02-14T00:00:00\",\"2024-02-15T00:00:00\",\"2024-02-16T00:00:00\",\"2024-02-19T00:00:00\",\"2024-02-20T00:00:00\",\"2024-02-21T00:00:00\",\"2024-02-22T00:00:00\",\"2024-02-23T00:00:00\",\"2024-02-26T00:00:00\",\"2024-02-27T00:00:00\",\"2024-02-28T00:00:00\",\"2024-02-29T00:00:00\",\"2024-03-01T00:00:00\",\"2024-03-04T00:00:00\",\"2024-03-05T00:00:00\",\"2024-03-06T00:00:00\",\"2024-03-07T00:00:00\",\"2024-03-08T00:00:00\"],\"y\":[425.72564697265625,425.1762390136719,426.2857971191406,429.2350769042969,432.985595703125,434.8782043457031,435.3277893066406,434.9225769042969,435.39788818359375,436.0643310546875,434.93963623046875,432.4331970214844,428.40277099609375,423.8661193847656,422.629150390625,421.8995666503906,419.371826171875,415.96026611328125,415.03704833984375,416.4259338378906,419.9925231933594,425.2706604003906,428.75213623046875,430.8768005371094,432.6651916503906,434.64202880859375,435.6643371582031,437.4638671875,439.6304931640625,444.6173095703125,448.25543212890625,449.49945068359375,450.7869873046875,452.5992126464844,454.0208435058594,455.7896728515625,456.7892761230469,457.22503662109375,457.0323486328125,456.7023620605469,457.5445861816406,457.7711486816406,458.7088928222656,458.8662109375,458.25421142578125,458.4531555175781,459.2287902832031,460.4280700683594,462.3763122558594,464.4619445800781,468.0741882324219,472.8111877441406,472.6912536621094,473.3852844238281,475.8132629394531,475.2271423339844,474.2033386230469,475.452392578125,476.4613037109375,477.36346435546875,478.4647216796875,479.68450927734375,479.02703857421875,478.23101806640625,475.30535888671875,471.489990234375,468.5057678222656,467.365966796875,469.8846130371094,473.5321044921875,477.1618347167969,479.23260498046875,480.5020751953125,480.8018798828125,478.9443359375,475.07666015625,475.09869384765625,479.6552734375,486.17449951171875,488.5605773925781,490.5979309082031,491.7574768066406,492.17449951171875,493.24517822265625,494.8297119140625,490.9244689941406,487.92889404296875,491.3863830566406,495.57171630859375,497.23590087890625,499.95037841796875,502.5788879394531,504.50640869140625,506.18084716796875,499.7333068847656,497.3998107910156,500.1387939453125,502.8897705078125,502.8611145019531,498.5487365722656,495.2200622558594,502.95721435546875,511.7247009277344,513.588623046875,510.8421325683594,508.427978515625,509.0329284667969,512.2407836914062,515.3688354492188,511.5045166015625,509.6393737792969,512.3276977539062],\"type\":\"scatter\",\"xaxis\":\"x2\",\"yaxis\":\"y2\"},{\"mode\":\"lines\",\"name\":\"Actual Low\",\"x\":[\"2023-10-05T00:00:00\",\"2023-10-06T00:00:00\",\"2023-10-09T00:00:00\",\"2023-10-10T00:00:00\",\"2023-10-11T00:00:00\",\"2023-10-12T00:00:00\",\"2023-10-13T00:00:00\",\"2023-10-16T00:00:00\",\"2023-10-17T00:00:00\",\"2023-10-18T00:00:00\",\"2023-10-19T00:00:00\",\"2023-10-20T00:00:00\",\"2023-10-23T00:00:00\",\"2023-10-24T00:00:00\",\"2023-10-25T00:00:00\",\"2023-10-26T00:00:00\",\"2023-10-27T00:00:00\",\"2023-10-30T00:00:00\",\"2023-10-31T00:00:00\",\"2023-11-01T00:00:00\",\"2023-11-02T00:00:00\",\"2023-11-03T00:00:00\",\"2023-11-06T00:00:00\",\"2023-11-07T00:00:00\",\"2023-11-08T00:00:00\",\"2023-11-09T00:00:00\",\"2023-11-10T00:00:00\",\"2023-11-13T00:00:00\",\"2023-11-14T00:00:00\",\"2023-11-15T00:00:00\",\"2023-11-16T00:00:00\",\"2023-11-17T00:00:00\",\"2023-11-20T00:00:00\",\"2023-11-21T00:00:00\",\"2023-11-22T00:00:00\",\"2023-11-23T00:00:00\",\"2023-11-24T00:00:00\",\"2023-11-27T00:00:00\",\"2023-11-28T00:00:00\",\"2023-11-29T00:00:00\",\"2023-11-30T00:00:00\",\"2023-12-01T00:00:00\",\"2023-12-04T00:00:00\",\"2023-12-05T00:00:00\",\"2023-12-06T00:00:00\",\"2023-12-07T00:00:00\",\"2023-12-08T00:00:00\",\"2023-12-11T00:00:00\",\"2023-12-12T00:00:00\",\"2023-12-13T00:00:00\",\"2023-12-14T00:00:00\",\"2023-12-15T00:00:00\",\"2023-12-18T00:00:00\",\"2023-12-19T00:00:00\",\"2023-12-20T00:00:00\",\"2023-12-21T00:00:00\",\"2023-12-22T00:00:00\",\"2023-12-25T00:00:00\",\"2023-12-26T00:00:00\",\"2023-12-27T00:00:00\",\"2023-12-28T00:00:00\",\"2023-12-29T00:00:00\",\"2024-01-01T00:00:00\",\"2024-01-02T00:00:00\",\"2024-01-03T00:00:00\",\"2024-01-04T00:00:00\",\"2024-01-05T00:00:00\",\"2024-01-08T00:00:00\",\"2024-01-09T00:00:00\",\"2024-01-10T00:00:00\",\"2024-01-11T00:00:00\",\"2024-01-12T00:00:00\",\"2024-01-15T00:00:00\",\"2024-01-16T00:00:00\",\"2024-01-17T00:00:00\",\"2024-01-18T00:00:00\",\"2024-01-19T00:00:00\",\"2024-01-22T00:00:00\",\"2024-01-23T00:00:00\",\"2024-01-24T00:00:00\",\"2024-01-25T00:00:00\",\"2024-01-26T00:00:00\",\"2024-01-29T00:00:00\",\"2024-01-30T00:00:00\",\"2024-01-31T00:00:00\",\"2024-02-01T00:00:00\",\"2024-02-02T00:00:00\",\"2024-02-05T00:00:00\",\"2024-02-06T00:00:00\",\"2024-02-07T00:00:00\",\"2024-02-08T00:00:00\",\"2024-02-09T00:00:00\",\"2024-02-12T00:00:00\",\"2024-02-13T00:00:00\",\"2024-02-14T00:00:00\",\"2024-02-15T00:00:00\",\"2024-02-16T00:00:00\",\"2024-02-19T00:00:00\",\"2024-02-20T00:00:00\",\"2024-02-21T00:00:00\",\"2024-02-22T00:00:00\",\"2024-02-23T00:00:00\",\"2024-02-26T00:00:00\",\"2024-02-27T00:00:00\",\"2024-02-28T00:00:00\",\"2024-02-29T00:00:00\",\"2024-03-01T00:00:00\",\"2024-03-04T00:00:00\",\"2024-03-05T00:00:00\",\"2024-03-06T00:00:00\",\"2024-03-07T00:00:00\",\"2024-03-08T00:00:00\"],\"y\":[421.1700134277344,420.6000061035156,427.010009765625,432.5299987792968,433.17999267578125,431.2300109863281,429.8800048828125,433.5700073242187,432.45001220703125,429.08999633789057,425.7300109863281,421.0799865722656,417.79998779296875,420.739990234375,417.0199890136719,411.60000610351557,409.2099914550781,412.2200012207031,414.2099914550781,418.64999389648443,426.5599975585938,433.01000976562494,433.67999267578125,434.510009765625,434.8699951171875,433.3999938964844,433.8299865722656,438.4200134277344,446.0899963378906,448.79998779296875,448.1199951171875,449.2900085449219,450.5199890136719,451.95999145507807,453.8900146484375,453.8900146484375,454.7300109863281,454.0799865722656,453.5,454.20001220703125,453.3399963378907,455.1600036621094,454.3399963378906,454.8699951171875,454.30999755859375,456.2900085449219,457.2099914550781,459.4700012207031,460.6000061035156,464.1199951171875,469.25000000000006,467.42999267578125,469.8900146484375,472.45001220703125,467.82000732421875,468.8399963378906,471.70001220703125,471.70001220703125,473.989990234375,474.89001464843756,476.26000976562494,473.29998779296875,473.29998779296875,470.48999023437506,468.1700134277344,467.0499877929688,466.42999267578125,468.29998779296875,471.3500061035156,473.8699951171875,472.26000976562494,475.2300109863282,475.2300109863282,473.05999755859375,469.8699951171875,472.4200134277344,476.5400085449219,482.7799987792969,482.8900146484375,484.8800048828125,485.3900146484375,486.5400085449219,487.1700134277344,490.1099853515625,482.8599853515625,483.79998779296875,489.29998779296875,490.23001098632807,492.04998779296875,495.3599853515625,497.260009765625,498.489990234375,500.23999023437506,490.7200012207031,494.3999938964844,498.79998779296875,498.75,498.75,494.4500122070313,493.55999755859375,503.0199890136719,507.1000061035156,505.8599853515625,504.75,504.9599914550781,505.3500061035156,508.55999755859375,512.0,504.9100036621094,508.42001342773443,509.80999755859375,511.1300048828125],\"type\":\"scatter\",\"xaxis\":\"x3\",\"yaxis\":\"y3\"},{\"line\":{\"dash\":\"dash\"},\"mode\":\"lines\",\"name\":\"Predicted Low\",\"x\":[\"2023-10-05T00:00:00\",\"2023-10-06T00:00:00\",\"2023-10-09T00:00:00\",\"2023-10-10T00:00:00\",\"2023-10-11T00:00:00\",\"2023-10-12T00:00:00\",\"2023-10-13T00:00:00\",\"2023-10-16T00:00:00\",\"2023-10-17T00:00:00\",\"2023-10-18T00:00:00\",\"2023-10-19T00:00:00\",\"2023-10-20T00:00:00\",\"2023-10-23T00:00:00\",\"2023-10-24T00:00:00\",\"2023-10-25T00:00:00\",\"2023-10-26T00:00:00\",\"2023-10-27T00:00:00\",\"2023-10-30T00:00:00\",\"2023-10-31T00:00:00\",\"2023-11-01T00:00:00\",\"2023-11-02T00:00:00\",\"2023-11-03T00:00:00\",\"2023-11-06T00:00:00\",\"2023-11-07T00:00:00\",\"2023-11-08T00:00:00\",\"2023-11-09T00:00:00\",\"2023-11-10T00:00:00\",\"2023-11-13T00:00:00\",\"2023-11-14T00:00:00\",\"2023-11-15T00:00:00\",\"2023-11-16T00:00:00\",\"2023-11-17T00:00:00\",\"2023-11-20T00:00:00\",\"2023-11-21T00:00:00\",\"2023-11-22T00:00:00\",\"2023-11-23T00:00:00\",\"2023-11-24T00:00:00\",\"2023-11-27T00:00:00\",\"2023-11-28T00:00:00\",\"2023-11-29T00:00:00\",\"2023-11-30T00:00:00\",\"2023-12-01T00:00:00\",\"2023-12-04T00:00:00\",\"2023-12-05T00:00:00\",\"2023-12-06T00:00:00\",\"2023-12-07T00:00:00\",\"2023-12-08T00:00:00\",\"2023-12-11T00:00:00\",\"2023-12-12T00:00:00\",\"2023-12-13T00:00:00\",\"2023-12-14T00:00:00\",\"2023-12-15T00:00:00\",\"2023-12-18T00:00:00\",\"2023-12-19T00:00:00\",\"2023-12-20T00:00:00\",\"2023-12-21T00:00:00\",\"2023-12-22T00:00:00\",\"2023-12-25T00:00:00\",\"2023-12-26T00:00:00\",\"2023-12-27T00:00:00\",\"2023-12-28T00:00:00\",\"2023-12-29T00:00:00\",\"2024-01-01T00:00:00\",\"2024-01-02T00:00:00\",\"2024-01-03T00:00:00\",\"2024-01-04T00:00:00\",\"2024-01-05T00:00:00\",\"2024-01-08T00:00:00\",\"2024-01-09T00:00:00\",\"2024-01-10T00:00:00\",\"2024-01-11T00:00:00\",\"2024-01-12T00:00:00\",\"2024-01-15T00:00:00\",\"2024-01-16T00:00:00\",\"2024-01-17T00:00:00\",\"2024-01-18T00:00:00\",\"2024-01-19T00:00:00\",\"2024-01-22T00:00:00\",\"2024-01-23T00:00:00\",\"2024-01-24T00:00:00\",\"2024-01-25T00:00:00\",\"2024-01-26T00:00:00\",\"2024-01-29T00:00:00\",\"2024-01-30T00:00:00\",\"2024-01-31T00:00:00\",\"2024-02-01T00:00:00\",\"2024-02-02T00:00:00\",\"2024-02-05T00:00:00\",\"2024-02-06T00:00:00\",\"2024-02-07T00:00:00\",\"2024-02-08T00:00:00\",\"2024-02-09T00:00:00\",\"2024-02-12T00:00:00\",\"2024-02-13T00:00:00\",\"2024-02-14T00:00:00\",\"2024-02-15T00:00:00\",\"2024-02-16T00:00:00\",\"2024-02-19T00:00:00\",\"2024-02-20T00:00:00\",\"2024-02-21T00:00:00\",\"2024-02-22T00:00:00\",\"2024-02-23T00:00:00\",\"2024-02-26T00:00:00\",\"2024-02-27T00:00:00\",\"2024-02-28T00:00:00\",\"2024-02-29T00:00:00\",\"2024-03-01T00:00:00\",\"2024-03-04T00:00:00\",\"2024-03-05T00:00:00\",\"2024-03-06T00:00:00\",\"2024-03-07T00:00:00\",\"2024-03-08T00:00:00\"],\"y\":[419.54150390625,418.7862243652344,420.0268859863281,423.2613830566406,427.464599609375,429.65509033203125,430.380126953125,430.06756591796875,430.38433837890625,430.9272155761719,429.5795593261719,426.69384765625,422.259765625,417.0341491699219,415.1076965332031,414.54876708984375,412.355224609375,408.74310302734375,407.569091796875,409.18145751953125,413.5288391113281,419.6953125,423.6459655761719,425.9866638183594,428.0327453613281,430.201904296875,431.23046875,432.8190002441406,434.7384033203125,439.45367431640625,443.2209167480469,444.49267578125,445.6901550292969,447.3617248535156,448.6651611328125,450.1943359375,450.9873046875,451.08734130859375,450.5210876464844,449.94140625,450.6018371582031,450.75286865234375,451.48699951171875,451.6690979003906,450.9031066894531,450.9814147949219,451.7800598144531,453.0265197753906,455.01177978515625,457.1815490722656,460.7315673828125,465.6019592285156,465.8544006347656,466.02044677734375,468.1139221191406,467.4131774902344,465.61566162109375,466.1067199707031,466.9696044921875,467.5726623535156,468.5359802246094,469.8313903808594,469.14019775390625,468.0135192871094,464.910888671875,460.5963439941406,456.9742126464844,455.5459289550781,457.8561706542969,462.1272277832031,466.5686340332031,469.3905029296875,470.9802551269531,471.44281005859375,469.4911804199219,465.0570068359375,463.89697265625,467.998291015625,475.2308349609375,478.4076232910156,480.4372863769531,481.4544677734375,481.6358947753906,482.0694580078125,483.0336608886719,478.8583068847656,474.37432861328125,476.368408203125,481.2814025878906,483.3145751953125,485.66302490234375,488.45660400390625,490.23663330078125,491.60552978515625,485.2801513671875,480.6531982421875,482.04632568359375,485.5223388671875,485.59918212890625,481.11181640625,477.02740478515625,483.29388427734375,493.5151672363281,497.0677795410156,493.4955749511719,489.96087646484375,489.6627502441406,492.2945251464844,495.3660583496094,491.6243591308594,488.0006103515625,489.7251892089844],\"type\":\"scatter\",\"xaxis\":\"x3\",\"yaxis\":\"y3\"},{\"mode\":\"lines\",\"name\":\"Actual Close\",\"x\":[\"2023-10-05T00:00:00\",\"2023-10-06T00:00:00\",\"2023-10-09T00:00:00\",\"2023-10-10T00:00:00\",\"2023-10-11T00:00:00\",\"2023-10-12T00:00:00\",\"2023-10-13T00:00:00\",\"2023-10-16T00:00:00\",\"2023-10-17T00:00:00\",\"2023-10-18T00:00:00\",\"2023-10-19T00:00:00\",\"2023-10-20T00:00:00\",\"2023-10-23T00:00:00\",\"2023-10-24T00:00:00\",\"2023-10-25T00:00:00\",\"2023-10-26T00:00:00\",\"2023-10-27T00:00:00\",\"2023-10-30T00:00:00\",\"2023-10-31T00:00:00\",\"2023-11-01T00:00:00\",\"2023-11-02T00:00:00\",\"2023-11-03T00:00:00\",\"2023-11-06T00:00:00\",\"2023-11-07T00:00:00\",\"2023-11-08T00:00:00\",\"2023-11-09T00:00:00\",\"2023-11-10T00:00:00\",\"2023-11-13T00:00:00\",\"2023-11-14T00:00:00\",\"2023-11-15T00:00:00\",\"2023-11-16T00:00:00\",\"2023-11-17T00:00:00\",\"2023-11-20T00:00:00\",\"2023-11-21T00:00:00\",\"2023-11-22T00:00:00\",\"2023-11-23T00:00:00\",\"2023-11-24T00:00:00\",\"2023-11-27T00:00:00\",\"2023-11-28T00:00:00\",\"2023-11-29T00:00:00\",\"2023-11-30T00:00:00\",\"2023-12-01T00:00:00\",\"2023-12-04T00:00:00\",\"2023-12-05T00:00:00\",\"2023-12-06T00:00:00\",\"2023-12-07T00:00:00\",\"2023-12-08T00:00:00\",\"2023-12-11T00:00:00\",\"2023-12-12T00:00:00\",\"2023-12-13T00:00:00\",\"2023-12-14T00:00:00\",\"2023-12-15T00:00:00\",\"2023-12-18T00:00:00\",\"2023-12-19T00:00:00\",\"2023-12-20T00:00:00\",\"2023-12-21T00:00:00\",\"2023-12-22T00:00:00\",\"2023-12-25T00:00:00\",\"2023-12-26T00:00:00\",\"2023-12-27T00:00:00\",\"2023-12-28T00:00:00\",\"2023-12-29T00:00:00\",\"2024-01-01T00:00:00\",\"2024-01-02T00:00:00\",\"2024-01-03T00:00:00\",\"2024-01-04T00:00:00\",\"2024-01-05T00:00:00\",\"2024-01-08T00:00:00\",\"2024-01-09T00:00:00\",\"2024-01-10T00:00:00\",\"2024-01-11T00:00:00\",\"2024-01-12T00:00:00\",\"2024-01-15T00:00:00\",\"2024-01-16T00:00:00\",\"2024-01-17T00:00:00\",\"2024-01-18T00:00:00\",\"2024-01-19T00:00:00\",\"2024-01-22T00:00:00\",\"2024-01-23T00:00:00\",\"2024-01-24T00:00:00\",\"2024-01-25T00:00:00\",\"2024-01-26T00:00:00\",\"2024-01-29T00:00:00\",\"2024-01-30T00:00:00\",\"2024-01-31T00:00:00\",\"2024-02-01T00:00:00\",\"2024-02-02T00:00:00\",\"2024-02-05T00:00:00\",\"2024-02-06T00:00:00\",\"2024-02-07T00:00:00\",\"2024-02-08T00:00:00\",\"2024-02-09T00:00:00\",\"2024-02-12T00:00:00\",\"2024-02-13T00:00:00\",\"2024-02-14T00:00:00\",\"2024-02-15T00:00:00\",\"2024-02-16T00:00:00\",\"2024-02-19T00:00:00\",\"2024-02-20T00:00:00\",\"2024-02-21T00:00:00\",\"2024-02-22T00:00:00\",\"2024-02-23T00:00:00\",\"2024-02-26T00:00:00\",\"2024-02-27T00:00:00\",\"2024-02-28T00:00:00\",\"2024-02-29T00:00:00\",\"2024-03-01T00:00:00\",\"2024-03-04T00:00:00\",\"2024-03-05T00:00:00\",\"2024-03-06T00:00:00\",\"2024-03-07T00:00:00\",\"2024-03-08T00:00:00\"],\"y\":[424.5,429.5400085449219,432.2900085449219,434.5400085449219,436.32000732421875,433.6600036621094,431.5,436.04000854492193,436.0199890136719,430.2099914550781,426.42999267578125,421.19000244140625,420.4599914550781,423.6300048828125,417.5499877929688,412.54998779296875,410.67999267578125,415.5899963378907,418.20001220703125,422.6600036621094,430.760009765625,434.69000244140625,435.69000244140625,436.9299926757813,437.25,433.8399963378906,440.6099853515625,440.19000244140625,448.7300109863281,449.6799926757812,450.2300109863281,450.7900085449218,454.260009765625,453.2699890136719,455.0199890136719,455.0199890136719,455.2999877929687,454.4800109863281,454.92999267578125,454.6099853515625,456.3999938964844,459.1000061035156,456.69000244140625,456.6000061035157,454.760009765625,458.2300109863281,460.20001220703125,461.989990234375,464.1000061035156,470.5,472.010009765625,469.3299865722656,471.9700012207031,474.8399963378906,468.260009765625,472.70001220703125,473.64999389648443,473.64999389648443,475.64999389648443,476.510009765625,476.69000244140625,475.3099975585937,475.3099975585937,472.6499938964844,468.7900085449219,467.2799987792969,467.92001342773443,474.6000061035156,473.8800048828125,476.55999755859375,476.3500061035156,476.6799926757812,476.6799926757812,474.92999267578125,472.2900085449219,476.48999023437494,482.42999267578125,483.4500122070313,484.8599853515625,485.3900146484375,488.0299987792969,487.41000366210943,491.2699890136719,490.8900146484375,482.8800048828125,489.20001220703125,494.3500061035156,492.5499877929688,493.9800109863281,498.1000061035157,498.32000732421875,501.20001220703125,500.9800109863282,494.0799865722656,498.57000732421875,502.01000976562494,499.510009765625,499.510009765625,496.760009765625,497.2099914550781,507.5,507.8500061035156,505.989990234375,506.92999267578125,506.260009765625,508.0799865722657,512.8499755859375,512.2999877929688,507.17999267578125,509.75,514.8099975585938,511.7200012207031],\"type\":\"scatter\",\"xaxis\":\"x4\",\"yaxis\":\"y4\"},{\"line\":{\"dash\":\"dash\"},\"mode\":\"lines\",\"name\":\"Predicted Close\",\"x\":[\"2023-10-05T00:00:00\",\"2023-10-06T00:00:00\",\"2023-10-09T00:00:00\",\"2023-10-10T00:00:00\",\"2023-10-11T00:00:00\",\"2023-10-12T00:00:00\",\"2023-10-13T00:00:00\",\"2023-10-16T00:00:00\",\"2023-10-17T00:00:00\",\"2023-10-18T00:00:00\",\"2023-10-19T00:00:00\",\"2023-10-20T00:00:00\",\"2023-10-23T00:00:00\",\"2023-10-24T00:00:00\",\"2023-10-25T00:00:00\",\"2023-10-26T00:00:00\",\"2023-10-27T00:00:00\",\"2023-10-30T00:00:00\",\"2023-10-31T00:00:00\",\"2023-11-01T00:00:00\",\"2023-11-02T00:00:00\",\"2023-11-03T00:00:00\",\"2023-11-06T00:00:00\",\"2023-11-07T00:00:00\",\"2023-11-08T00:00:00\",\"2023-11-09T00:00:00\",\"2023-11-10T00:00:00\",\"2023-11-13T00:00:00\",\"2023-11-14T00:00:00\",\"2023-11-15T00:00:00\",\"2023-11-16T00:00:00\",\"2023-11-17T00:00:00\",\"2023-11-20T00:00:00\",\"2023-11-21T00:00:00\",\"2023-11-22T00:00:00\",\"2023-11-23T00:00:00\",\"2023-11-24T00:00:00\",\"2023-11-27T00:00:00\",\"2023-11-28T00:00:00\",\"2023-11-29T00:00:00\",\"2023-11-30T00:00:00\",\"2023-12-01T00:00:00\",\"2023-12-04T00:00:00\",\"2023-12-05T00:00:00\",\"2023-12-06T00:00:00\",\"2023-12-07T00:00:00\",\"2023-12-08T00:00:00\",\"2023-12-11T00:00:00\",\"2023-12-12T00:00:00\",\"2023-12-13T00:00:00\",\"2023-12-14T00:00:00\",\"2023-12-15T00:00:00\",\"2023-12-18T00:00:00\",\"2023-12-19T00:00:00\",\"2023-12-20T00:00:00\",\"2023-12-21T00:00:00\",\"2023-12-22T00:00:00\",\"2023-12-25T00:00:00\",\"2023-12-26T00:00:00\",\"2023-12-27T00:00:00\",\"2023-12-28T00:00:00\",\"2023-12-29T00:00:00\",\"2024-01-01T00:00:00\",\"2024-01-02T00:00:00\",\"2024-01-03T00:00:00\",\"2024-01-04T00:00:00\",\"2024-01-05T00:00:00\",\"2024-01-08T00:00:00\",\"2024-01-09T00:00:00\",\"2024-01-10T00:00:00\",\"2024-01-11T00:00:00\",\"2024-01-12T00:00:00\",\"2024-01-15T00:00:00\",\"2024-01-16T00:00:00\",\"2024-01-17T00:00:00\",\"2024-01-18T00:00:00\",\"2024-01-19T00:00:00\",\"2024-01-22T00:00:00\",\"2024-01-23T00:00:00\",\"2024-01-24T00:00:00\",\"2024-01-25T00:00:00\",\"2024-01-26T00:00:00\",\"2024-01-29T00:00:00\",\"2024-01-30T00:00:00\",\"2024-01-31T00:00:00\",\"2024-02-01T00:00:00\",\"2024-02-02T00:00:00\",\"2024-02-05T00:00:00\",\"2024-02-06T00:00:00\",\"2024-02-07T00:00:00\",\"2024-02-08T00:00:00\",\"2024-02-09T00:00:00\",\"2024-02-12T00:00:00\",\"2024-02-13T00:00:00\",\"2024-02-14T00:00:00\",\"2024-02-15T00:00:00\",\"2024-02-16T00:00:00\",\"2024-02-19T00:00:00\",\"2024-02-20T00:00:00\",\"2024-02-21T00:00:00\",\"2024-02-22T00:00:00\",\"2024-02-23T00:00:00\",\"2024-02-26T00:00:00\",\"2024-02-27T00:00:00\",\"2024-02-28T00:00:00\",\"2024-02-29T00:00:00\",\"2024-03-01T00:00:00\",\"2024-03-04T00:00:00\",\"2024-03-05T00:00:00\",\"2024-03-06T00:00:00\",\"2024-03-07T00:00:00\",\"2024-03-08T00:00:00\"],\"y\":[422.5983581542969,421.886474609375,423.0029296875,425.9854431152344,429.876953125,432.0291748046875,432.6779479980469,432.374267578125,432.77264404296875,433.3946838378906,432.2283935546875,429.60162353515625,425.4383239746094,420.6167907714844,418.8981018066406,418.1614685058594,415.8650207519531,412.4523010253906,411.3182678222656,412.6537780761719,416.4732971191406,422.0805969238281,425.91595458984375,428.2249755859375,430.1566162109375,432.2419738769531,433.3083801269531,434.96954345703125,436.98980712890625,441.7300720214844,445.4986877441406,446.8751220703125,448.1523132324219,449.9290466308594,451.34527587890625,453.01190185546875,453.9777526855469,454.2921447753906,453.96014404296875,453.5199279785156,454.2198791503906,454.42828369140625,455.2850646972656,455.47808837890625,454.8696594238281,454.9731750488281,455.7419128417969,456.97222900390625,458.92486572265625,461.0675354003906,464.6756286621094,469.5287780761719,469.8642272949219,470.3604431152344,472.69049072265625,472.1909484863281,470.89483642578125,471.72314453125,472.6671447753906,473.48187255859375,474.5226135253906,475.81561279296875,475.22332763671875,474.31005859375,471.35772705078125,467.3266296386719,463.936279296875,462.5376281738281,464.797607421875,468.6427001953125,472.70196533203125,475.2294921875,476.75213623046875,477.23126220703125,475.46173095703125,471.4120178222656,470.7321472167969,474.8815002441406,481.7154235839844,484.74456787109375,486.93719482421875,488.18438720703125,488.62103271484375,489.5001525878906,490.8486022949219,487.0023498535156,483.39898681640625,485.9467468261719,490.4978942871094,492.5394592285156,495.1539001464844,497.9604797363281,500.01055908203125,501.66534423828125,495.5751953125,492.18157958984375,494.0560302734375,497.2266540527344,497.400634765625,493.1407165527344,489.4623107910156,496.2042541503906,505.6347351074219,508.73236083984375,505.8817443847656,503.01806640625,503.19720458984375,506.1719055175781,509.4117126464844,505.8872985839844,503.29058837890625,505.42816162109375],\"type\":\"scatter\",\"xaxis\":\"x4\",\"yaxis\":\"y4\"}],                        {\"template\":{\"data\":{\"histogram2dcontour\":[{\"type\":\"histogram2dcontour\",\"colorbar\":{\"outlinewidth\":0,\"ticks\":\"\"},\"colorscale\":[[0.0,\"#0d0887\"],[0.1111111111111111,\"#46039f\"],[0.2222222222222222,\"#7201a8\"],[0.3333333333333333,\"#9c179e\"],[0.4444444444444444,\"#bd3786\"],[0.5555555555555556,\"#d8576b\"],[0.6666666666666666,\"#ed7953\"],[0.7777777777777778,\"#fb9f3a\"],[0.8888888888888888,\"#fdca26\"],[1.0,\"#f0f921\"]]}],\"choropleth\":[{\"type\":\"choropleth\",\"colorbar\":{\"outlinewidth\":0,\"ticks\":\"\"}}],\"histogram2d\":[{\"type\":\"histogram2d\",\"colorbar\":{\"outlinewidth\":0,\"ticks\":\"\"},\"colorscale\":[[0.0,\"#0d0887\"],[0.1111111111111111,\"#46039f\"],[0.2222222222222222,\"#7201a8\"],[0.3333333333333333,\"#9c179e\"],[0.4444444444444444,\"#bd3786\"],[0.5555555555555556,\"#d8576b\"],[0.6666666666666666,\"#ed7953\"],[0.7777777777777778,\"#fb9f3a\"],[0.8888888888888888,\"#fdca26\"],[1.0,\"#f0f921\"]]}],\"heatmap\":[{\"type\":\"heatmap\",\"colorbar\":{\"outlinewidth\":0,\"ticks\":\"\"},\"colorscale\":[[0.0,\"#0d0887\"],[0.1111111111111111,\"#46039f\"],[0.2222222222222222,\"#7201a8\"],[0.3333333333333333,\"#9c179e\"],[0.4444444444444444,\"#bd3786\"],[0.5555555555555556,\"#d8576b\"],[0.6666666666666666,\"#ed7953\"],[0.7777777777777778,\"#fb9f3a\"],[0.8888888888888888,\"#fdca26\"],[1.0,\"#f0f921\"]]}],\"heatmapgl\":[{\"type\":\"heatmapgl\",\"colorbar\":{\"outlinewidth\":0,\"ticks\":\"\"},\"colorscale\":[[0.0,\"#0d0887\"],[0.1111111111111111,\"#46039f\"],[0.2222222222222222,\"#7201a8\"],[0.3333333333333333,\"#9c179e\"],[0.4444444444444444,\"#bd3786\"],[0.5555555555555556,\"#d8576b\"],[0.6666666666666666,\"#ed7953\"],[0.7777777777777778,\"#fb9f3a\"],[0.8888888888888888,\"#fdca26\"],[1.0,\"#f0f921\"]]}],\"contourcarpet\":[{\"type\":\"contourcarpet\",\"colorbar\":{\"outlinewidth\":0,\"ticks\":\"\"}}],\"contour\":[{\"type\":\"contour\",\"colorbar\":{\"outlinewidth\":0,\"ticks\":\"\"},\"colorscale\":[[0.0,\"#0d0887\"],[0.1111111111111111,\"#46039f\"],[0.2222222222222222,\"#7201a8\"],[0.3333333333333333,\"#9c179e\"],[0.4444444444444444,\"#bd3786\"],[0.5555555555555556,\"#d8576b\"],[0.6666666666666666,\"#ed7953\"],[0.7777777777777778,\"#fb9f3a\"],[0.8888888888888888,\"#fdca26\"],[1.0,\"#f0f921\"]]}],\"surface\":[{\"type\":\"surface\",\"colorbar\":{\"outlinewidth\":0,\"ticks\":\"\"},\"colorscale\":[[0.0,\"#0d0887\"],[0.1111111111111111,\"#46039f\"],[0.2222222222222222,\"#7201a8\"],[0.3333333333333333,\"#9c179e\"],[0.4444444444444444,\"#bd3786\"],[0.5555555555555556,\"#d8576b\"],[0.6666666666666666,\"#ed7953\"],[0.7777777777777778,\"#fb9f3a\"],[0.8888888888888888,\"#fdca26\"],[1.0,\"#f0f921\"]]}],\"mesh3d\":[{\"type\":\"mesh3d\",\"colorbar\":{\"outlinewidth\":0,\"ticks\":\"\"}}],\"scatter\":[{\"fillpattern\":{\"fillmode\":\"overlay\",\"size\":10,\"solidity\":0.2},\"type\":\"scatter\"}],\"parcoords\":[{\"type\":\"parcoords\",\"line\":{\"colorbar\":{\"outlinewidth\":0,\"ticks\":\"\"}}}],\"scatterpolargl\":[{\"type\":\"scatterpolargl\",\"marker\":{\"colorbar\":{\"outlinewidth\":0,\"ticks\":\"\"}}}],\"bar\":[{\"error_x\":{\"color\":\"#2a3f5f\"},\"error_y\":{\"color\":\"#2a3f5f\"},\"marker\":{\"line\":{\"color\":\"#E5ECF6\",\"width\":0.5},\"pattern\":{\"fillmode\":\"overlay\",\"size\":10,\"solidity\":0.2}},\"type\":\"bar\"}],\"scattergeo\":[{\"type\":\"scattergeo\",\"marker\":{\"colorbar\":{\"outlinewidth\":0,\"ticks\":\"\"}}}],\"scatterpolar\":[{\"type\":\"scatterpolar\",\"marker\":{\"colorbar\":{\"outlinewidth\":0,\"ticks\":\"\"}}}],\"histogram\":[{\"marker\":{\"pattern\":{\"fillmode\":\"overlay\",\"size\":10,\"solidity\":0.2}},\"type\":\"histogram\"}],\"scattergl\":[{\"type\":\"scattergl\",\"marker\":{\"colorbar\":{\"outlinewidth\":0,\"ticks\":\"\"}}}],\"scatter3d\":[{\"type\":\"scatter3d\",\"line\":{\"colorbar\":{\"outlinewidth\":0,\"ticks\":\"\"}},\"marker\":{\"colorbar\":{\"outlinewidth\":0,\"ticks\":\"\"}}}],\"scattermapbox\":[{\"type\":\"scattermapbox\",\"marker\":{\"colorbar\":{\"outlinewidth\":0,\"ticks\":\"\"}}}],\"scatterternary\":[{\"type\":\"scatterternary\",\"marker\":{\"colorbar\":{\"outlinewidth\":0,\"ticks\":\"\"}}}],\"scattercarpet\":[{\"type\":\"scattercarpet\",\"marker\":{\"colorbar\":{\"outlinewidth\":0,\"ticks\":\"\"}}}],\"carpet\":[{\"aaxis\":{\"endlinecolor\":\"#2a3f5f\",\"gridcolor\":\"white\",\"linecolor\":\"white\",\"minorgridcolor\":\"white\",\"startlinecolor\":\"#2a3f5f\"},\"baxis\":{\"endlinecolor\":\"#2a3f5f\",\"gridcolor\":\"white\",\"linecolor\":\"white\",\"minorgridcolor\":\"white\",\"startlinecolor\":\"#2a3f5f\"},\"type\":\"carpet\"}],\"table\":[{\"cells\":{\"fill\":{\"color\":\"#EBF0F8\"},\"line\":{\"color\":\"white\"}},\"header\":{\"fill\":{\"color\":\"#C8D4E3\"},\"line\":{\"color\":\"white\"}},\"type\":\"table\"}],\"barpolar\":[{\"marker\":{\"line\":{\"color\":\"#E5ECF6\",\"width\":0.5},\"pattern\":{\"fillmode\":\"overlay\",\"size\":10,\"solidity\":0.2}},\"type\":\"barpolar\"}],\"pie\":[{\"automargin\":true,\"type\":\"pie\"}]},\"layout\":{\"autotypenumbers\":\"strict\",\"colorway\":[\"#636efa\",\"#EF553B\",\"#00cc96\",\"#ab63fa\",\"#FFA15A\",\"#19d3f3\",\"#FF6692\",\"#B6E880\",\"#FF97FF\",\"#FECB52\"],\"font\":{\"color\":\"#2a3f5f\"},\"hovermode\":\"closest\",\"hoverlabel\":{\"align\":\"left\"},\"paper_bgcolor\":\"white\",\"plot_bgcolor\":\"#E5ECF6\",\"polar\":{\"bgcolor\":\"#E5ECF6\",\"angularaxis\":{\"gridcolor\":\"white\",\"linecolor\":\"white\",\"ticks\":\"\"},\"radialaxis\":{\"gridcolor\":\"white\",\"linecolor\":\"white\",\"ticks\":\"\"}},\"ternary\":{\"bgcolor\":\"#E5ECF6\",\"aaxis\":{\"gridcolor\":\"white\",\"linecolor\":\"white\",\"ticks\":\"\"},\"baxis\":{\"gridcolor\":\"white\",\"linecolor\":\"white\",\"ticks\":\"\"},\"caxis\":{\"gridcolor\":\"white\",\"linecolor\":\"white\",\"ticks\":\"\"}},\"coloraxis\":{\"colorbar\":{\"outlinewidth\":0,\"ticks\":\"\"}},\"colorscale\":{\"sequential\":[[0.0,\"#0d0887\"],[0.1111111111111111,\"#46039f\"],[0.2222222222222222,\"#7201a8\"],[0.3333333333333333,\"#9c179e\"],[0.4444444444444444,\"#bd3786\"],[0.5555555555555556,\"#d8576b\"],[0.6666666666666666,\"#ed7953\"],[0.7777777777777778,\"#fb9f3a\"],[0.8888888888888888,\"#fdca26\"],[1.0,\"#f0f921\"]],\"sequentialminus\":[[0.0,\"#0d0887\"],[0.1111111111111111,\"#46039f\"],[0.2222222222222222,\"#7201a8\"],[0.3333333333333333,\"#9c179e\"],[0.4444444444444444,\"#bd3786\"],[0.5555555555555556,\"#d8576b\"],[0.6666666666666666,\"#ed7953\"],[0.7777777777777778,\"#fb9f3a\"],[0.8888888888888888,\"#fdca26\"],[1.0,\"#f0f921\"]],\"diverging\":[[0,\"#8e0152\"],[0.1,\"#c51b7d\"],[0.2,\"#de77ae\"],[0.3,\"#f1b6da\"],[0.4,\"#fde0ef\"],[0.5,\"#f7f7f7\"],[0.6,\"#e6f5d0\"],[0.7,\"#b8e186\"],[0.8,\"#7fbc41\"],[0.9,\"#4d9221\"],[1,\"#276419\"]]},\"xaxis\":{\"gridcolor\":\"white\",\"linecolor\":\"white\",\"ticks\":\"\",\"title\":{\"standoff\":15},\"zerolinecolor\":\"white\",\"automargin\":true,\"zerolinewidth\":2},\"yaxis\":{\"gridcolor\":\"white\",\"linecolor\":\"white\",\"ticks\":\"\",\"title\":{\"standoff\":15},\"zerolinecolor\":\"white\",\"automargin\":true,\"zerolinewidth\":2},\"scene\":{\"xaxis\":{\"backgroundcolor\":\"#E5ECF6\",\"gridcolor\":\"white\",\"linecolor\":\"white\",\"showbackground\":true,\"ticks\":\"\",\"zerolinecolor\":\"white\",\"gridwidth\":2},\"yaxis\":{\"backgroundcolor\":\"#E5ECF6\",\"gridcolor\":\"white\",\"linecolor\":\"white\",\"showbackground\":true,\"ticks\":\"\",\"zerolinecolor\":\"white\",\"gridwidth\":2},\"zaxis\":{\"backgroundcolor\":\"#E5ECF6\",\"gridcolor\":\"white\",\"linecolor\":\"white\",\"showbackground\":true,\"ticks\":\"\",\"zerolinecolor\":\"white\",\"gridwidth\":2}},\"shapedefaults\":{\"line\":{\"color\":\"#2a3f5f\"}},\"annotationdefaults\":{\"arrowcolor\":\"#2a3f5f\",\"arrowhead\":0,\"arrowwidth\":1},\"geo\":{\"bgcolor\":\"white\",\"landcolor\":\"#E5ECF6\",\"subunitcolor\":\"white\",\"showland\":true,\"showlakes\":true,\"lakecolor\":\"white\"},\"title\":{\"x\":0.05},\"mapbox\":{\"style\":\"light\"}}},\"xaxis\":{\"anchor\":\"y\",\"domain\":[0.0,1.0],\"matches\":\"x4\",\"showticklabels\":false,\"rangeslider\":{\"visible\":false}},\"yaxis\":{\"anchor\":\"x\",\"domain\":[0.7649999999999999,0.9999999999999999],\"title\":{\"text\":\"<b>Price</b>\"}},\"xaxis2\":{\"anchor\":\"y2\",\"domain\":[0.0,1.0],\"matches\":\"x4\",\"showticklabels\":false},\"yaxis2\":{\"anchor\":\"x2\",\"domain\":[0.51,0.745],\"title\":{\"text\":\"<b>Price</b>\"}},\"xaxis3\":{\"anchor\":\"y3\",\"domain\":[0.0,1.0],\"matches\":\"x4\",\"showticklabels\":false},\"yaxis3\":{\"anchor\":\"x3\",\"domain\":[0.255,0.49],\"title\":{\"text\":\"<b>Price</b>\"}},\"xaxis4\":{\"anchor\":\"y4\",\"domain\":[0.0,1.0],\"title\":{\"text\":\"<b>Date</b>\"}},\"yaxis4\":{\"anchor\":\"x4\",\"domain\":[0.0,0.235],\"title\":{\"text\":\"<b>Price</b>\"}},\"title\":{\"text\":\"Stock Price Forecasting\"},\"height\":800,\"width\":1000},                        {\"responsive\": true}                    ).then(function(){\n",
       "                            \n",
       "var gd = document.getElementById('ea4da350-ea63-4f0d-b67c-aa13bf867719');\n",
       "var x = new MutationObserver(function (mutations, observer) {{\n",
       "        var display = window.getComputedStyle(gd).display;\n",
       "        if (!display || display === 'none') {{\n",
       "            console.log([gd, 'removed!']);\n",
       "            Plotly.purge(gd);\n",
       "            observer.disconnect();\n",
       "        }}\n",
       "}});\n",
       "\n",
       "// Listen for the removal of the full notebook cells\n",
       "var notebookContainer = gd.closest('#notebook-container');\n",
       "if (notebookContainer) {{\n",
       "    x.observe(notebookContainer, {childList: true});\n",
       "}}\n",
       "\n",
       "// Listen for the clearing of the current output cell\n",
       "var outputEl = gd.closest('.output');\n",
       "if (outputEl) {{\n",
       "    x.observe(outputEl, {childList: true});\n",
       "}}\n",
       "\n",
       "                        })                };                });            </script>        </div>"
      ]
     },
     "metadata": {},
     "output_type": "display_data"
    }
   ],
   "source": [
    "import numpy as np\n",
    "import yfinance as yf\n",
    "import pandas as pd\n",
    "from sklearn.preprocessing import MinMaxScaler\n",
    "from sklearn.metrics import mean_absolute_error, mean_squared_error\n",
    "from tensorflow.keras.models import Sequential\n",
    "from tensorflow.keras.layers import LSTM, Dense\n",
    "from plotly.subplots import make_subplots\n",
    "import plotly.graph_objects as go\n",
    "\n",
    "def download_stock_data(ticker, start_date, end_date):\n",
    "    stock_data = yf.download(ticker, start=start_date, end=end_date)\n",
    "    stock_data = stock_data.sort_index().asfreq('B', method='ffill')\n",
    "    stock_data.index = pd.to_datetime(stock_data.index)\n",
    "    return stock_data\n",
    "\n",
    "# def scale_data(data):\n",
    "#     scaler = MinMaxScaler()\n",
    "#     scaled_data = scaler.fit_transform(data)\n",
    "#     return scaler, scaled_data\n",
    "def scale_data(data, feature_names):\n",
    "    scaler = MinMaxScaler()\n",
    "    # Convert the data to a DataFrame to ensure feature names are used\n",
    "    data_df = pd.DataFrame(data, columns=feature_names)\n",
    "    scaled_data = scaler.fit_transform(data_df)\n",
    "    return scaler, scaled_data\n",
    "\n",
    "\n",
    "def create_sequences(data, seq_length):\n",
    "    xs, ys = [], []\n",
    "    for i in range(len(data) - seq_length):\n",
    "        xs.append(data[i:(i + seq_length)])\n",
    "        ys.append(data[i + seq_length])\n",
    "    return np.array(xs), np.array(ys)\n",
    "\n",
    "def build_and_train_model(X_train, y_train, seq_length, num_features, epochs, batch_size):\n",
    "    model = Sequential([\n",
    "        LSTM(50, activation='relu', return_sequences=True, input_shape=(seq_length, num_features)),\n",
    "        LSTM(50, activation='relu'),\n",
    "        Dense(num_features)\n",
    "    ])\n",
    "    model.compile(optimizer='adam', loss='mse')\n",
    "    model.fit(X_train, y_train, epochs=epochs, batch_size=batch_size, verbose=0)\n",
    "    return model\n",
    "\n",
    "def calculate_metrics(y_true, y_pred):\n",
    "    mae = mean_absolute_error(y_true, y_pred)\n",
    "    mse = mean_squared_error(y_true, y_pred)\n",
    "    rmse = np.sqrt(mse)\n",
    "    return mae, mse, rmse\n",
    "\n",
    "def plot_forecasts(stock_data, predicted_values, y_test, seq_length, split_idx, scaler):\n",
    "    dates = stock_data.index[split_idx + seq_length:]\n",
    "    predicted_prices = scaler.inverse_transform(predicted_values)\n",
    "    actual_prices = scaler.inverse_transform(y_test)\n",
    "\n",
    "    fig = make_subplots(rows=4, cols=1, shared_xaxes=True, vertical_spacing=0.02)\n",
    "    feature_names = ['Open', 'High', 'Low', 'Close']\n",
    "\n",
    "    for i, feature in enumerate(feature_names):\n",
    "        fig.add_trace(go.Scatter(x=dates, y=actual_prices[:, i], mode='lines', name=f'Actual {feature}'), row=i+1, col=1)\n",
    "        fig.add_trace(go.Scatter(x=dates, y=predicted_prices[:, i], mode='lines', name=f'Predicted {feature}', line=dict(dash='dash')), row=i+1, col=1)\n",
    "\n",
    "    fig.update_layout(height=800, width=1000, title_text=\"Stock Price Forecasting\")\n",
    "    fig.update_yaxes(title_text=\"<b>Price</b>\")\n",
    "    fig.update_xaxes(title_text=\"<b>Date</b>\", row=4, col=1)\n",
    "    fig.update_layout(xaxis_rangeslider_visible=False)\n",
    "    fig.show()\n",
    "\n",
    "def forecast_and_plot(stock_data, features, seq_length):\n",
    "#     scaler, scaled_data = scale_data(stock_data[features].values)\n",
    "    scaler, scaled_data = scale_data(stock_data[features].values, features)\n",
    "    X, y = create_sequences(scaled_data, seq_length)\n",
    "    split_idx = int(len(X) * 0.8)\n",
    "    X_train, y_train = X[:split_idx], y[:split_idx]\n",
    "    X_test, y_test = X[split_idx:], y[split_idx:]\n",
    "\n",
    "    X_train = X_train.reshape((X_train.shape[0], X_train.shape[1], len(features)))\n",
    "    X_test = X_test.reshape((X_test.shape[0], X_test.shape[1], len(features)))\n",
    "    \n",
    "    model = build_and_train_model(X_train, y_train, seq_length, len(features), epochs=50, batch_size=32)\n",
    "    predicted_values = model.predict(X_test)\n",
    "    mae, mse, rmse = calculate_metrics(scaler.inverse_transform(y_test), scaler.inverse_transform(predicted_values))\n",
    "    \n",
    "    print(f\"MAE: {mae}, MSE: {mse}, RMSE: {rmse}\")\n",
    "    plot_forecasts(stock_data, predicted_values, y_test, seq_length, split_idx, scaler)\n",
    "\n",
    "# Parameters and usage\n",
    "ticker = 'SPY'\n",
    "features = ['Open', 'High', 'Low', 'Close']\n",
    "start_date = '2022-01-01'\n",
    "end_date = '2024-03-11'\n",
    "seq_length = 10\n",
    "\n",
    "stock_data = download_stock_data(ticker, start_date, end_date)\n",
    "forecast_and_plot(stock_data, features, seq_length)\n"
   ]
  },
  {
   "cell_type": "markdown",
   "id": "425cf39f",
   "metadata": {},
   "source": [
    "## Future Price Forecasting Function\n",
    "\n",
    "The `forecast_future` function aims to predict future stock prices for a set number of days beyond the available data. It uses the last known data sequence as the input to the LSTM model to generate future predictions iteratively.\n",
    "\n",
    "### Parameters:\n",
    "- `stock_data`: The DataFrame containing historical stock data.\n",
    "- `model`: The trained LSTM model for prediction.\n",
    "- `scaler`: The scaler object used for normalizing the data.\n",
    "- `seq_length`: The length of the input data sequence for the LSTM model.\n",
    "- `num_features`: The number of features in the input data.\n",
    "- `future_days`: The number of future days to predict.\n",
    "\n",
    "### Process:\n",
    "- The function first extracts the last sequence of data from the DataFrame.\n",
    "- This sequence is then scaled and fed into the model to predict the next time step.\n",
    "- This process is repeated for the specified number of `future_days`.\n",
    "- Each new prediction is appended to the sequence for subsequent predictions.\n",
    "\n",
    "### Returns:\n",
    "- `future_predictions`: An array of predicted values for the specified number of days into the future.\n",
    "\n",
    "## Complete Forecasting and Plotting Function\n",
    "\n",
    "The `forecast_and_plot_complete` function encompasses the entire process of forecasting and visualization. It integrates data preparation, model training, evaluation, and future price prediction into a single workflow.\n",
    "\n",
    "### Parameters:\n",
    "- `ticker`: The stock symbol for the company being analyzed.\n",
    "- `features`: The list of stock attributes to use for prediction, such as 'Open', 'High', 'Low', 'Close'.\n",
    "- `start_date`: The starting date for the historical data to download.\n",
    "- `end_date`: The ending date for the historical data to download.\n",
    "- `seq_length`: The length of the sequence to use in the LSTM model.\n",
    "- `future_days`: The number of future days to forecast and visualize.\n",
    "\n",
    "### Workflow:\n",
    "- The function begins by downloading and scaling the stock data.\n",
    "- It then creates sequences for the LSTM and splits the data into training and test sets.\n",
    "- A LSTM model is built and trained with the training data.\n",
    "- The model's performance is evaluated on the test data using metrics such as MAE, MSE, and RMSE.\n",
    "- Future prices are forecasted using the entire available dataset.\n",
    "- The future predictions are visualized as 'ghost candles' on a plot, providing a graphical representation of expected future price movements.\n",
    "\n",
    "### Execution:\n",
    "- Set the parameters for the stock symbol, features, date range, and sequence length.\n",
    "- Call `forecast_and_plot_complete` to perform the forecasting and plotting.\n"
   ]
  },
  {
   "cell_type": "code",
   "execution_count": 14,
   "id": "09b4c695",
   "metadata": {},
   "outputs": [
    {
     "name": "stderr",
     "output_type": "stream",
     "text": [
      "[*********************100%%**********************]  1 of 1 completed\n"
     ]
    },
    {
     "name": "stdout",
     "output_type": "stream",
     "text": [
      "4/4 [==============================] - 0s 3ms/step\n",
      "Test Set - MAE: 4.777807957917742, MSE: 37.5046792166258, RMSE: 6.124106401478162\n",
      "1/1 [==============================] - 0s 17ms/step\n",
      "1/1 [==============================] - 0s 18ms/step\n",
      "1/1 [==============================] - 0s 16ms/step\n",
      "1/1 [==============================] - 0s 17ms/step\n",
      "1/1 [==============================] - 0s 16ms/step\n",
      "1/1 [==============================] - 0s 16ms/step\n",
      "1/1 [==============================] - 0s 16ms/step\n",
      "1/1 [==============================] - 0s 16ms/step\n",
      "1/1 [==============================] - 0s 16ms/step\n",
      "1/1 [==============================] - 0s 16ms/step\n"
     ]
    },
    {
     "data": {
      "application/vnd.plotly.v1+json": {
       "config": {
        "plotlyServerURL": "https://plot.ly"
       },
       "data": [
        {
         "close": [
          510.215576171875,
          506.42193603515625,
          495.4815979003906,
          479.49114990234375,
          452.45635986328125,
          413.2591552734375,
          365.4504089355469,
          316.5456848144531,
          278.5619812011719,
          257.41693115234375
         ],
         "high": [
          513.2647705078125,
          509.9398498535156,
          499.7129821777344,
          484.67388916015625,
          458.9980773925781,
          418.3103332519531,
          367.5549621582031,
          314.0574035644531,
          274.8476867675781,
          255.54623413085938
         ],
         "low": [
          504.2348937988281,
          500.072998046875,
          489.0989990234375,
          472.86676025390625,
          445.5564270019531,
          404.8185119628906,
          353.6875305175781,
          302.14813232421875,
          260.26800537109375,
          238.4606170654297
         ],
         "name": "Forecast",
         "open": [
          508.5479736328125,
          504.2790222167969,
          493.5310363769531,
          477.67535400390625,
          451.0725402832031,
          412.2124938964844,
          360.9586181640625,
          306.5125732421875,
          264.220947265625,
          243.03900146484375
         ],
         "type": "candlestick",
         "x": [
          "2024-03-11T00:00:00",
          "2024-03-12T00:00:00",
          "2024-03-13T00:00:00",
          "2024-03-14T00:00:00",
          "2024-03-15T00:00:00",
          "2024-03-18T00:00:00",
          "2024-03-19T00:00:00",
          "2024-03-20T00:00:00",
          "2024-03-21T00:00:00",
          "2024-03-22T00:00:00"
         ]
        }
       ],
       "layout": {
        "template": {
         "data": {
          "bar": [
           {
            "error_x": {
             "color": "#2a3f5f"
            },
            "error_y": {
             "color": "#2a3f5f"
            },
            "marker": {
             "line": {
              "color": "#E5ECF6",
              "width": 0.5
             },
             "pattern": {
              "fillmode": "overlay",
              "size": 10,
              "solidity": 0.2
             }
            },
            "type": "bar"
           }
          ],
          "barpolar": [
           {
            "marker": {
             "line": {
              "color": "#E5ECF6",
              "width": 0.5
             },
             "pattern": {
              "fillmode": "overlay",
              "size": 10,
              "solidity": 0.2
             }
            },
            "type": "barpolar"
           }
          ],
          "carpet": [
           {
            "aaxis": {
             "endlinecolor": "#2a3f5f",
             "gridcolor": "white",
             "linecolor": "white",
             "minorgridcolor": "white",
             "startlinecolor": "#2a3f5f"
            },
            "baxis": {
             "endlinecolor": "#2a3f5f",
             "gridcolor": "white",
             "linecolor": "white",
             "minorgridcolor": "white",
             "startlinecolor": "#2a3f5f"
            },
            "type": "carpet"
           }
          ],
          "choropleth": [
           {
            "colorbar": {
             "outlinewidth": 0,
             "ticks": ""
            },
            "type": "choropleth"
           }
          ],
          "contour": [
           {
            "colorbar": {
             "outlinewidth": 0,
             "ticks": ""
            },
            "colorscale": [
             [
              0,
              "#0d0887"
             ],
             [
              0.1111111111111111,
              "#46039f"
             ],
             [
              0.2222222222222222,
              "#7201a8"
             ],
             [
              0.3333333333333333,
              "#9c179e"
             ],
             [
              0.4444444444444444,
              "#bd3786"
             ],
             [
              0.5555555555555556,
              "#d8576b"
             ],
             [
              0.6666666666666666,
              "#ed7953"
             ],
             [
              0.7777777777777778,
              "#fb9f3a"
             ],
             [
              0.8888888888888888,
              "#fdca26"
             ],
             [
              1,
              "#f0f921"
             ]
            ],
            "type": "contour"
           }
          ],
          "contourcarpet": [
           {
            "colorbar": {
             "outlinewidth": 0,
             "ticks": ""
            },
            "type": "contourcarpet"
           }
          ],
          "heatmap": [
           {
            "colorbar": {
             "outlinewidth": 0,
             "ticks": ""
            },
            "colorscale": [
             [
              0,
              "#0d0887"
             ],
             [
              0.1111111111111111,
              "#46039f"
             ],
             [
              0.2222222222222222,
              "#7201a8"
             ],
             [
              0.3333333333333333,
              "#9c179e"
             ],
             [
              0.4444444444444444,
              "#bd3786"
             ],
             [
              0.5555555555555556,
              "#d8576b"
             ],
             [
              0.6666666666666666,
              "#ed7953"
             ],
             [
              0.7777777777777778,
              "#fb9f3a"
             ],
             [
              0.8888888888888888,
              "#fdca26"
             ],
             [
              1,
              "#f0f921"
             ]
            ],
            "type": "heatmap"
           }
          ],
          "heatmapgl": [
           {
            "colorbar": {
             "outlinewidth": 0,
             "ticks": ""
            },
            "colorscale": [
             [
              0,
              "#0d0887"
             ],
             [
              0.1111111111111111,
              "#46039f"
             ],
             [
              0.2222222222222222,
              "#7201a8"
             ],
             [
              0.3333333333333333,
              "#9c179e"
             ],
             [
              0.4444444444444444,
              "#bd3786"
             ],
             [
              0.5555555555555556,
              "#d8576b"
             ],
             [
              0.6666666666666666,
              "#ed7953"
             ],
             [
              0.7777777777777778,
              "#fb9f3a"
             ],
             [
              0.8888888888888888,
              "#fdca26"
             ],
             [
              1,
              "#f0f921"
             ]
            ],
            "type": "heatmapgl"
           }
          ],
          "histogram": [
           {
            "marker": {
             "pattern": {
              "fillmode": "overlay",
              "size": 10,
              "solidity": 0.2
             }
            },
            "type": "histogram"
           }
          ],
          "histogram2d": [
           {
            "colorbar": {
             "outlinewidth": 0,
             "ticks": ""
            },
            "colorscale": [
             [
              0,
              "#0d0887"
             ],
             [
              0.1111111111111111,
              "#46039f"
             ],
             [
              0.2222222222222222,
              "#7201a8"
             ],
             [
              0.3333333333333333,
              "#9c179e"
             ],
             [
              0.4444444444444444,
              "#bd3786"
             ],
             [
              0.5555555555555556,
              "#d8576b"
             ],
             [
              0.6666666666666666,
              "#ed7953"
             ],
             [
              0.7777777777777778,
              "#fb9f3a"
             ],
             [
              0.8888888888888888,
              "#fdca26"
             ],
             [
              1,
              "#f0f921"
             ]
            ],
            "type": "histogram2d"
           }
          ],
          "histogram2dcontour": [
           {
            "colorbar": {
             "outlinewidth": 0,
             "ticks": ""
            },
            "colorscale": [
             [
              0,
              "#0d0887"
             ],
             [
              0.1111111111111111,
              "#46039f"
             ],
             [
              0.2222222222222222,
              "#7201a8"
             ],
             [
              0.3333333333333333,
              "#9c179e"
             ],
             [
              0.4444444444444444,
              "#bd3786"
             ],
             [
              0.5555555555555556,
              "#d8576b"
             ],
             [
              0.6666666666666666,
              "#ed7953"
             ],
             [
              0.7777777777777778,
              "#fb9f3a"
             ],
             [
              0.8888888888888888,
              "#fdca26"
             ],
             [
              1,
              "#f0f921"
             ]
            ],
            "type": "histogram2dcontour"
           }
          ],
          "mesh3d": [
           {
            "colorbar": {
             "outlinewidth": 0,
             "ticks": ""
            },
            "type": "mesh3d"
           }
          ],
          "parcoords": [
           {
            "line": {
             "colorbar": {
              "outlinewidth": 0,
              "ticks": ""
             }
            },
            "type": "parcoords"
           }
          ],
          "pie": [
           {
            "automargin": true,
            "type": "pie"
           }
          ],
          "scatter": [
           {
            "fillpattern": {
             "fillmode": "overlay",
             "size": 10,
             "solidity": 0.2
            },
            "type": "scatter"
           }
          ],
          "scatter3d": [
           {
            "line": {
             "colorbar": {
              "outlinewidth": 0,
              "ticks": ""
             }
            },
            "marker": {
             "colorbar": {
              "outlinewidth": 0,
              "ticks": ""
             }
            },
            "type": "scatter3d"
           }
          ],
          "scattercarpet": [
           {
            "marker": {
             "colorbar": {
              "outlinewidth": 0,
              "ticks": ""
             }
            },
            "type": "scattercarpet"
           }
          ],
          "scattergeo": [
           {
            "marker": {
             "colorbar": {
              "outlinewidth": 0,
              "ticks": ""
             }
            },
            "type": "scattergeo"
           }
          ],
          "scattergl": [
           {
            "marker": {
             "colorbar": {
              "outlinewidth": 0,
              "ticks": ""
             }
            },
            "type": "scattergl"
           }
          ],
          "scattermapbox": [
           {
            "marker": {
             "colorbar": {
              "outlinewidth": 0,
              "ticks": ""
             }
            },
            "type": "scattermapbox"
           }
          ],
          "scatterpolar": [
           {
            "marker": {
             "colorbar": {
              "outlinewidth": 0,
              "ticks": ""
             }
            },
            "type": "scatterpolar"
           }
          ],
          "scatterpolargl": [
           {
            "marker": {
             "colorbar": {
              "outlinewidth": 0,
              "ticks": ""
             }
            },
            "type": "scatterpolargl"
           }
          ],
          "scatterternary": [
           {
            "marker": {
             "colorbar": {
              "outlinewidth": 0,
              "ticks": ""
             }
            },
            "type": "scatterternary"
           }
          ],
          "surface": [
           {
            "colorbar": {
             "outlinewidth": 0,
             "ticks": ""
            },
            "colorscale": [
             [
              0,
              "#0d0887"
             ],
             [
              0.1111111111111111,
              "#46039f"
             ],
             [
              0.2222222222222222,
              "#7201a8"
             ],
             [
              0.3333333333333333,
              "#9c179e"
             ],
             [
              0.4444444444444444,
              "#bd3786"
             ],
             [
              0.5555555555555556,
              "#d8576b"
             ],
             [
              0.6666666666666666,
              "#ed7953"
             ],
             [
              0.7777777777777778,
              "#fb9f3a"
             ],
             [
              0.8888888888888888,
              "#fdca26"
             ],
             [
              1,
              "#f0f921"
             ]
            ],
            "type": "surface"
           }
          ],
          "table": [
           {
            "cells": {
             "fill": {
              "color": "#EBF0F8"
             },
             "line": {
              "color": "white"
             }
            },
            "header": {
             "fill": {
              "color": "#C8D4E3"
             },
             "line": {
              "color": "white"
             }
            },
            "type": "table"
           }
          ]
         },
         "layout": {
          "annotationdefaults": {
           "arrowcolor": "#2a3f5f",
           "arrowhead": 0,
           "arrowwidth": 1
          },
          "autotypenumbers": "strict",
          "coloraxis": {
           "colorbar": {
            "outlinewidth": 0,
            "ticks": ""
           }
          },
          "colorscale": {
           "diverging": [
            [
             0,
             "#8e0152"
            ],
            [
             0.1,
             "#c51b7d"
            ],
            [
             0.2,
             "#de77ae"
            ],
            [
             0.3,
             "#f1b6da"
            ],
            [
             0.4,
             "#fde0ef"
            ],
            [
             0.5,
             "#f7f7f7"
            ],
            [
             0.6,
             "#e6f5d0"
            ],
            [
             0.7,
             "#b8e186"
            ],
            [
             0.8,
             "#7fbc41"
            ],
            [
             0.9,
             "#4d9221"
            ],
            [
             1,
             "#276419"
            ]
           ],
           "sequential": [
            [
             0,
             "#0d0887"
            ],
            [
             0.1111111111111111,
             "#46039f"
            ],
            [
             0.2222222222222222,
             "#7201a8"
            ],
            [
             0.3333333333333333,
             "#9c179e"
            ],
            [
             0.4444444444444444,
             "#bd3786"
            ],
            [
             0.5555555555555556,
             "#d8576b"
            ],
            [
             0.6666666666666666,
             "#ed7953"
            ],
            [
             0.7777777777777778,
             "#fb9f3a"
            ],
            [
             0.8888888888888888,
             "#fdca26"
            ],
            [
             1,
             "#f0f921"
            ]
           ],
           "sequentialminus": [
            [
             0,
             "#0d0887"
            ],
            [
             0.1111111111111111,
             "#46039f"
            ],
            [
             0.2222222222222222,
             "#7201a8"
            ],
            [
             0.3333333333333333,
             "#9c179e"
            ],
            [
             0.4444444444444444,
             "#bd3786"
            ],
            [
             0.5555555555555556,
             "#d8576b"
            ],
            [
             0.6666666666666666,
             "#ed7953"
            ],
            [
             0.7777777777777778,
             "#fb9f3a"
            ],
            [
             0.8888888888888888,
             "#fdca26"
            ],
            [
             1,
             "#f0f921"
            ]
           ]
          },
          "colorway": [
           "#636efa",
           "#EF553B",
           "#00cc96",
           "#ab63fa",
           "#FFA15A",
           "#19d3f3",
           "#FF6692",
           "#B6E880",
           "#FF97FF",
           "#FECB52"
          ],
          "font": {
           "color": "#2a3f5f"
          },
          "geo": {
           "bgcolor": "white",
           "lakecolor": "white",
           "landcolor": "#E5ECF6",
           "showlakes": true,
           "showland": true,
           "subunitcolor": "white"
          },
          "hoverlabel": {
           "align": "left"
          },
          "hovermode": "closest",
          "mapbox": {
           "style": "light"
          },
          "paper_bgcolor": "white",
          "plot_bgcolor": "#E5ECF6",
          "polar": {
           "angularaxis": {
            "gridcolor": "white",
            "linecolor": "white",
            "ticks": ""
           },
           "bgcolor": "#E5ECF6",
           "radialaxis": {
            "gridcolor": "white",
            "linecolor": "white",
            "ticks": ""
           }
          },
          "scene": {
           "xaxis": {
            "backgroundcolor": "#E5ECF6",
            "gridcolor": "white",
            "gridwidth": 2,
            "linecolor": "white",
            "showbackground": true,
            "ticks": "",
            "zerolinecolor": "white"
           },
           "yaxis": {
            "backgroundcolor": "#E5ECF6",
            "gridcolor": "white",
            "gridwidth": 2,
            "linecolor": "white",
            "showbackground": true,
            "ticks": "",
            "zerolinecolor": "white"
           },
           "zaxis": {
            "backgroundcolor": "#E5ECF6",
            "gridcolor": "white",
            "gridwidth": 2,
            "linecolor": "white",
            "showbackground": true,
            "ticks": "",
            "zerolinecolor": "white"
           }
          },
          "shapedefaults": {
           "line": {
            "color": "#2a3f5f"
           }
          },
          "ternary": {
           "aaxis": {
            "gridcolor": "white",
            "linecolor": "white",
            "ticks": ""
           },
           "baxis": {
            "gridcolor": "white",
            "linecolor": "white",
            "ticks": ""
           },
           "bgcolor": "#E5ECF6",
           "caxis": {
            "gridcolor": "white",
            "linecolor": "white",
            "ticks": ""
           }
          },
          "title": {
           "x": 0.05
          },
          "xaxis": {
           "automargin": true,
           "gridcolor": "white",
           "linecolor": "white",
           "ticks": "",
           "title": {
            "standoff": 15
           },
           "zerolinecolor": "white",
           "zerolinewidth": 2
          },
          "yaxis": {
           "automargin": true,
           "gridcolor": "white",
           "linecolor": "white",
           "ticks": "",
           "title": {
            "standoff": 15
           },
           "zerolinecolor": "white",
           "zerolinewidth": 2
          }
         }
        },
        "title": {
         "text": "Forecasted OHLC Prices for the Next Days"
        },
        "xaxis": {
         "rangeslider": {
          "visible": false
         },
         "title": {
          "text": "Date"
         }
        },
        "yaxis": {
         "title": {
          "text": "Price"
         }
        }
       }
      },
      "text/html": [
       "<div>                            <div id=\"f0d47c56-40c5-4e03-aef8-3270786c2112\" class=\"plotly-graph-div\" style=\"height:525px; width:100%;\"></div>            <script type=\"text/javascript\">                require([\"plotly\"], function(Plotly) {                    window.PLOTLYENV=window.PLOTLYENV || {};                                    if (document.getElementById(\"f0d47c56-40c5-4e03-aef8-3270786c2112\")) {                    Plotly.newPlot(                        \"f0d47c56-40c5-4e03-aef8-3270786c2112\",                        [{\"close\":[510.215576171875,506.42193603515625,495.4815979003906,479.49114990234375,452.45635986328125,413.2591552734375,365.4504089355469,316.5456848144531,278.5619812011719,257.41693115234375],\"high\":[513.2647705078125,509.9398498535156,499.7129821777344,484.67388916015625,458.9980773925781,418.3103332519531,367.5549621582031,314.0574035644531,274.8476867675781,255.54623413085938],\"low\":[504.2348937988281,500.072998046875,489.0989990234375,472.86676025390625,445.5564270019531,404.8185119628906,353.6875305175781,302.14813232421875,260.26800537109375,238.4606170654297],\"name\":\"Forecast\",\"open\":[508.5479736328125,504.2790222167969,493.5310363769531,477.67535400390625,451.0725402832031,412.2124938964844,360.9586181640625,306.5125732421875,264.220947265625,243.03900146484375],\"x\":[\"2024-03-11T00:00:00\",\"2024-03-12T00:00:00\",\"2024-03-13T00:00:00\",\"2024-03-14T00:00:00\",\"2024-03-15T00:00:00\",\"2024-03-18T00:00:00\",\"2024-03-19T00:00:00\",\"2024-03-20T00:00:00\",\"2024-03-21T00:00:00\",\"2024-03-22T00:00:00\"],\"type\":\"candlestick\"}],                        {\"template\":{\"data\":{\"histogram2dcontour\":[{\"type\":\"histogram2dcontour\",\"colorbar\":{\"outlinewidth\":0,\"ticks\":\"\"},\"colorscale\":[[0.0,\"#0d0887\"],[0.1111111111111111,\"#46039f\"],[0.2222222222222222,\"#7201a8\"],[0.3333333333333333,\"#9c179e\"],[0.4444444444444444,\"#bd3786\"],[0.5555555555555556,\"#d8576b\"],[0.6666666666666666,\"#ed7953\"],[0.7777777777777778,\"#fb9f3a\"],[0.8888888888888888,\"#fdca26\"],[1.0,\"#f0f921\"]]}],\"choropleth\":[{\"type\":\"choropleth\",\"colorbar\":{\"outlinewidth\":0,\"ticks\":\"\"}}],\"histogram2d\":[{\"type\":\"histogram2d\",\"colorbar\":{\"outlinewidth\":0,\"ticks\":\"\"},\"colorscale\":[[0.0,\"#0d0887\"],[0.1111111111111111,\"#46039f\"],[0.2222222222222222,\"#7201a8\"],[0.3333333333333333,\"#9c179e\"],[0.4444444444444444,\"#bd3786\"],[0.5555555555555556,\"#d8576b\"],[0.6666666666666666,\"#ed7953\"],[0.7777777777777778,\"#fb9f3a\"],[0.8888888888888888,\"#fdca26\"],[1.0,\"#f0f921\"]]}],\"heatmap\":[{\"type\":\"heatmap\",\"colorbar\":{\"outlinewidth\":0,\"ticks\":\"\"},\"colorscale\":[[0.0,\"#0d0887\"],[0.1111111111111111,\"#46039f\"],[0.2222222222222222,\"#7201a8\"],[0.3333333333333333,\"#9c179e\"],[0.4444444444444444,\"#bd3786\"],[0.5555555555555556,\"#d8576b\"],[0.6666666666666666,\"#ed7953\"],[0.7777777777777778,\"#fb9f3a\"],[0.8888888888888888,\"#fdca26\"],[1.0,\"#f0f921\"]]}],\"heatmapgl\":[{\"type\":\"heatmapgl\",\"colorbar\":{\"outlinewidth\":0,\"ticks\":\"\"},\"colorscale\":[[0.0,\"#0d0887\"],[0.1111111111111111,\"#46039f\"],[0.2222222222222222,\"#7201a8\"],[0.3333333333333333,\"#9c179e\"],[0.4444444444444444,\"#bd3786\"],[0.5555555555555556,\"#d8576b\"],[0.6666666666666666,\"#ed7953\"],[0.7777777777777778,\"#fb9f3a\"],[0.8888888888888888,\"#fdca26\"],[1.0,\"#f0f921\"]]}],\"contourcarpet\":[{\"type\":\"contourcarpet\",\"colorbar\":{\"outlinewidth\":0,\"ticks\":\"\"}}],\"contour\":[{\"type\":\"contour\",\"colorbar\":{\"outlinewidth\":0,\"ticks\":\"\"},\"colorscale\":[[0.0,\"#0d0887\"],[0.1111111111111111,\"#46039f\"],[0.2222222222222222,\"#7201a8\"],[0.3333333333333333,\"#9c179e\"],[0.4444444444444444,\"#bd3786\"],[0.5555555555555556,\"#d8576b\"],[0.6666666666666666,\"#ed7953\"],[0.7777777777777778,\"#fb9f3a\"],[0.8888888888888888,\"#fdca26\"],[1.0,\"#f0f921\"]]}],\"surface\":[{\"type\":\"surface\",\"colorbar\":{\"outlinewidth\":0,\"ticks\":\"\"},\"colorscale\":[[0.0,\"#0d0887\"],[0.1111111111111111,\"#46039f\"],[0.2222222222222222,\"#7201a8\"],[0.3333333333333333,\"#9c179e\"],[0.4444444444444444,\"#bd3786\"],[0.5555555555555556,\"#d8576b\"],[0.6666666666666666,\"#ed7953\"],[0.7777777777777778,\"#fb9f3a\"],[0.8888888888888888,\"#fdca26\"],[1.0,\"#f0f921\"]]}],\"mesh3d\":[{\"type\":\"mesh3d\",\"colorbar\":{\"outlinewidth\":0,\"ticks\":\"\"}}],\"scatter\":[{\"fillpattern\":{\"fillmode\":\"overlay\",\"size\":10,\"solidity\":0.2},\"type\":\"scatter\"}],\"parcoords\":[{\"type\":\"parcoords\",\"line\":{\"colorbar\":{\"outlinewidth\":0,\"ticks\":\"\"}}}],\"scatterpolargl\":[{\"type\":\"scatterpolargl\",\"marker\":{\"colorbar\":{\"outlinewidth\":0,\"ticks\":\"\"}}}],\"bar\":[{\"error_x\":{\"color\":\"#2a3f5f\"},\"error_y\":{\"color\":\"#2a3f5f\"},\"marker\":{\"line\":{\"color\":\"#E5ECF6\",\"width\":0.5},\"pattern\":{\"fillmode\":\"overlay\",\"size\":10,\"solidity\":0.2}},\"type\":\"bar\"}],\"scattergeo\":[{\"type\":\"scattergeo\",\"marker\":{\"colorbar\":{\"outlinewidth\":0,\"ticks\":\"\"}}}],\"scatterpolar\":[{\"type\":\"scatterpolar\",\"marker\":{\"colorbar\":{\"outlinewidth\":0,\"ticks\":\"\"}}}],\"histogram\":[{\"marker\":{\"pattern\":{\"fillmode\":\"overlay\",\"size\":10,\"solidity\":0.2}},\"type\":\"histogram\"}],\"scattergl\":[{\"type\":\"scattergl\",\"marker\":{\"colorbar\":{\"outlinewidth\":0,\"ticks\":\"\"}}}],\"scatter3d\":[{\"type\":\"scatter3d\",\"line\":{\"colorbar\":{\"outlinewidth\":0,\"ticks\":\"\"}},\"marker\":{\"colorbar\":{\"outlinewidth\":0,\"ticks\":\"\"}}}],\"scattermapbox\":[{\"type\":\"scattermapbox\",\"marker\":{\"colorbar\":{\"outlinewidth\":0,\"ticks\":\"\"}}}],\"scatterternary\":[{\"type\":\"scatterternary\",\"marker\":{\"colorbar\":{\"outlinewidth\":0,\"ticks\":\"\"}}}],\"scattercarpet\":[{\"type\":\"scattercarpet\",\"marker\":{\"colorbar\":{\"outlinewidth\":0,\"ticks\":\"\"}}}],\"carpet\":[{\"aaxis\":{\"endlinecolor\":\"#2a3f5f\",\"gridcolor\":\"white\",\"linecolor\":\"white\",\"minorgridcolor\":\"white\",\"startlinecolor\":\"#2a3f5f\"},\"baxis\":{\"endlinecolor\":\"#2a3f5f\",\"gridcolor\":\"white\",\"linecolor\":\"white\",\"minorgridcolor\":\"white\",\"startlinecolor\":\"#2a3f5f\"},\"type\":\"carpet\"}],\"table\":[{\"cells\":{\"fill\":{\"color\":\"#EBF0F8\"},\"line\":{\"color\":\"white\"}},\"header\":{\"fill\":{\"color\":\"#C8D4E3\"},\"line\":{\"color\":\"white\"}},\"type\":\"table\"}],\"barpolar\":[{\"marker\":{\"line\":{\"color\":\"#E5ECF6\",\"width\":0.5},\"pattern\":{\"fillmode\":\"overlay\",\"size\":10,\"solidity\":0.2}},\"type\":\"barpolar\"}],\"pie\":[{\"automargin\":true,\"type\":\"pie\"}]},\"layout\":{\"autotypenumbers\":\"strict\",\"colorway\":[\"#636efa\",\"#EF553B\",\"#00cc96\",\"#ab63fa\",\"#FFA15A\",\"#19d3f3\",\"#FF6692\",\"#B6E880\",\"#FF97FF\",\"#FECB52\"],\"font\":{\"color\":\"#2a3f5f\"},\"hovermode\":\"closest\",\"hoverlabel\":{\"align\":\"left\"},\"paper_bgcolor\":\"white\",\"plot_bgcolor\":\"#E5ECF6\",\"polar\":{\"bgcolor\":\"#E5ECF6\",\"angularaxis\":{\"gridcolor\":\"white\",\"linecolor\":\"white\",\"ticks\":\"\"},\"radialaxis\":{\"gridcolor\":\"white\",\"linecolor\":\"white\",\"ticks\":\"\"}},\"ternary\":{\"bgcolor\":\"#E5ECF6\",\"aaxis\":{\"gridcolor\":\"white\",\"linecolor\":\"white\",\"ticks\":\"\"},\"baxis\":{\"gridcolor\":\"white\",\"linecolor\":\"white\",\"ticks\":\"\"},\"caxis\":{\"gridcolor\":\"white\",\"linecolor\":\"white\",\"ticks\":\"\"}},\"coloraxis\":{\"colorbar\":{\"outlinewidth\":0,\"ticks\":\"\"}},\"colorscale\":{\"sequential\":[[0.0,\"#0d0887\"],[0.1111111111111111,\"#46039f\"],[0.2222222222222222,\"#7201a8\"],[0.3333333333333333,\"#9c179e\"],[0.4444444444444444,\"#bd3786\"],[0.5555555555555556,\"#d8576b\"],[0.6666666666666666,\"#ed7953\"],[0.7777777777777778,\"#fb9f3a\"],[0.8888888888888888,\"#fdca26\"],[1.0,\"#f0f921\"]],\"sequentialminus\":[[0.0,\"#0d0887\"],[0.1111111111111111,\"#46039f\"],[0.2222222222222222,\"#7201a8\"],[0.3333333333333333,\"#9c179e\"],[0.4444444444444444,\"#bd3786\"],[0.5555555555555556,\"#d8576b\"],[0.6666666666666666,\"#ed7953\"],[0.7777777777777778,\"#fb9f3a\"],[0.8888888888888888,\"#fdca26\"],[1.0,\"#f0f921\"]],\"diverging\":[[0,\"#8e0152\"],[0.1,\"#c51b7d\"],[0.2,\"#de77ae\"],[0.3,\"#f1b6da\"],[0.4,\"#fde0ef\"],[0.5,\"#f7f7f7\"],[0.6,\"#e6f5d0\"],[0.7,\"#b8e186\"],[0.8,\"#7fbc41\"],[0.9,\"#4d9221\"],[1,\"#276419\"]]},\"xaxis\":{\"gridcolor\":\"white\",\"linecolor\":\"white\",\"ticks\":\"\",\"title\":{\"standoff\":15},\"zerolinecolor\":\"white\",\"automargin\":true,\"zerolinewidth\":2},\"yaxis\":{\"gridcolor\":\"white\",\"linecolor\":\"white\",\"ticks\":\"\",\"title\":{\"standoff\":15},\"zerolinecolor\":\"white\",\"automargin\":true,\"zerolinewidth\":2},\"scene\":{\"xaxis\":{\"backgroundcolor\":\"#E5ECF6\",\"gridcolor\":\"white\",\"linecolor\":\"white\",\"showbackground\":true,\"ticks\":\"\",\"zerolinecolor\":\"white\",\"gridwidth\":2},\"yaxis\":{\"backgroundcolor\":\"#E5ECF6\",\"gridcolor\":\"white\",\"linecolor\":\"white\",\"showbackground\":true,\"ticks\":\"\",\"zerolinecolor\":\"white\",\"gridwidth\":2},\"zaxis\":{\"backgroundcolor\":\"#E5ECF6\",\"gridcolor\":\"white\",\"linecolor\":\"white\",\"showbackground\":true,\"ticks\":\"\",\"zerolinecolor\":\"white\",\"gridwidth\":2}},\"shapedefaults\":{\"line\":{\"color\":\"#2a3f5f\"}},\"annotationdefaults\":{\"arrowcolor\":\"#2a3f5f\",\"arrowhead\":0,\"arrowwidth\":1},\"geo\":{\"bgcolor\":\"white\",\"landcolor\":\"#E5ECF6\",\"subunitcolor\":\"white\",\"showland\":true,\"showlakes\":true,\"lakecolor\":\"white\"},\"title\":{\"x\":0.05},\"mapbox\":{\"style\":\"light\"}}},\"xaxis\":{\"rangeslider\":{\"visible\":false},\"title\":{\"text\":\"Date\"}},\"title\":{\"text\":\"Forecasted OHLC Prices for the Next Days\"},\"yaxis\":{\"title\":{\"text\":\"Price\"}}},                        {\"responsive\": true}                    ).then(function(){\n",
       "                            \n",
       "var gd = document.getElementById('f0d47c56-40c5-4e03-aef8-3270786c2112');\n",
       "var x = new MutationObserver(function (mutations, observer) {{\n",
       "        var display = window.getComputedStyle(gd).display;\n",
       "        if (!display || display === 'none') {{\n",
       "            console.log([gd, 'removed!']);\n",
       "            Plotly.purge(gd);\n",
       "            observer.disconnect();\n",
       "        }}\n",
       "}});\n",
       "\n",
       "// Listen for the removal of the full notebook cells\n",
       "var notebookContainer = gd.closest('#notebook-container');\n",
       "if (notebookContainer) {{\n",
       "    x.observe(notebookContainer, {childList: true});\n",
       "}}\n",
       "\n",
       "// Listen for the clearing of the current output cell\n",
       "var outputEl = gd.closest('.output');\n",
       "if (outputEl) {{\n",
       "    x.observe(outputEl, {childList: true});\n",
       "}}\n",
       "\n",
       "                        })                };                });            </script>        </div>"
      ]
     },
     "metadata": {},
     "output_type": "display_data"
    }
   ],
   "source": [
    "def plot_ghost_candles(future_predictions, start_date):\n",
    "    future_dates = pd.date_range(start=start_date, periods=len(future_predictions), freq='B')\n",
    "    \n",
    "    fig = go.Figure(data=[go.Candlestick(x=future_dates,\n",
    "                                         open=future_predictions[:, 0],\n",
    "                                         high=future_predictions[:, 1],\n",
    "                                         low=future_predictions[:, 2],\n",
    "                                         close=future_predictions[:, 3],\n",
    "                                         name='Forecast')])\n",
    "    fig.update_layout(title='Forecasted OHLC Prices for the Next Days',\n",
    "                      xaxis_title='Date',\n",
    "                      yaxis_title='Price',\n",
    "                      xaxis_rangeslider_visible=False)\n",
    "    fig.show()\n",
    "def forecast_future(stock_data, model, scaler, seq_length, num_features, future_days=10):\n",
    "    # Directly use the DataFrame without slicing it before the function call\n",
    "    # Ensure stock_data is in the expected DataFrame format with columns\n",
    "    \n",
    "    # Extract the last sequence from the DataFrame\n",
    "    last_sequence_df = stock_data.iloc[-seq_length:]  # Ensure this is a DataFrame slice\n",
    "    last_sequence = scaler.transform(last_sequence_df[features])\n",
    "    last_sequence = np.expand_dims(last_sequence, axis=0)\n",
    "    \n",
    "    future_predictions = []\n",
    "    \n",
    "    for _ in range(future_days):\n",
    "        prediction = model.predict(last_sequence)\n",
    "        future_predictions.append(prediction[0])\n",
    "        last_sequence = np.roll(last_sequence, -1, axis=1)\n",
    "        last_sequence[:, -1, :] = prediction\n",
    "\n",
    "    future_predictions = np.array(future_predictions)\n",
    "    future_predictions = scaler.inverse_transform(future_predictions)\n",
    "    \n",
    "    return future_predictions\n",
    "\n",
    "def forecast_and_plot_complete(ticker, features, start_date, end_date, seq_length, future_days=10):\n",
    "    stock_data = download_stock_data(ticker, start_date, end_date)\n",
    "#     scaler, scaled_data = scale_data(stock_data[features].values)\n",
    "    scaler, scaled_data = scale_data(stock_data[features].values, features)\n",
    "    \n",
    "    X, y = create_sequences(scaled_data, seq_length)\n",
    "    split_idx = int(len(X) * 0.8)\n",
    "    X_train, y_train = X[:split_idx], y[:split_idx]\n",
    "    X_test, y_test = X[split_idx:], y[split_idx:]\n",
    "    \n",
    "    num_features = len(features)\n",
    "    X_train = X_train.reshape((X_train.shape[0], seq_length, num_features))\n",
    "    X_test = X_test.reshape((X_test.shape[0], seq_length, num_features))\n",
    "    \n",
    "    model = build_and_train_model(X_train, y_train, seq_length, num_features, epochs=50, batch_size=32)\n",
    "    \n",
    "    # Generate predictions for the test set\n",
    "    predicted_values_test = model.predict(X_test)\n",
    "    mae, mse, rmse = calculate_metrics(scaler.inverse_transform(y_test), scaler.inverse_transform(predicted_values_test))\n",
    "    print(f\"Test Set - MAE: {mae}, MSE: {mse}, RMSE: {rmse}\")\n",
    "    \n",
    "    # Forecast future prices directly from the entire stock_data DataFrame\n",
    "    future_predictions = forecast_future(stock_data, model, scaler, seq_length, num_features, future_days)\n",
    "    plot_ghost_candles(future_predictions, '2024-03-11')\n",
    "\n",
    "# Parameters\n",
    "ticker = 'SPY'\n",
    "features = ['Open', 'High', 'Low', 'Close']\n",
    "start_date = '2022-03-11'\n",
    "end_date = '2024-03-11'\n",
    "seq_length = 10\n",
    "\n",
    "# Execute the complete forecast and plot function\n",
    "forecast_and_plot_complete(ticker, features, start_date, end_date, seq_length)"
   ]
  },
  {
   "cell_type": "code",
   "execution_count": null,
   "id": "d792861e",
   "metadata": {},
   "outputs": [],
   "source": []
  },
  {
   "cell_type": "code",
   "execution_count": null,
   "id": "2e04f157",
   "metadata": {},
   "outputs": [],
   "source": []
  },
  {
   "cell_type": "code",
   "execution_count": null,
   "id": "8b210dd2",
   "metadata": {},
   "outputs": [],
   "source": []
  }
 ],
 "metadata": {
  "kernelspec": {
   "display_name": "Python 3 (ipykernel)",
   "language": "python",
   "name": "python3"
  },
  "language_info": {
   "codemirror_mode": {
    "name": "ipython",
    "version": 3
   },
   "file_extension": ".py",
   "mimetype": "text/x-python",
   "name": "python",
   "nbconvert_exporter": "python",
   "pygments_lexer": "ipython3",
   "version": "3.11.5"
  },
  "nbTranslate": {
   "displayLangs": [
    "*"
   ],
   "hotkey": "alt-t",
   "langInMainMenu": true,
   "sourceLang": "en",
   "targetLang": "fr",
   "useGoogleTranslate": true
  },
  "toc": {
   "base_numbering": 1,
   "nav_menu": {},
   "number_sections": true,
   "sideBar": true,
   "skip_h1_title": false,
   "title_cell": "Table of Contents",
   "title_sidebar": "Contents",
   "toc_cell": false,
   "toc_position": {},
   "toc_section_display": true,
   "toc_window_display": false
  },
  "varInspector": {
   "cols": {
    "lenName": 16,
    "lenType": 16,
    "lenVar": 40
   },
   "kernels_config": {
    "python": {
     "delete_cmd_postfix": "",
     "delete_cmd_prefix": "del ",
     "library": "var_list.py",
     "varRefreshCmd": "print(var_dic_list())"
    },
    "r": {
     "delete_cmd_postfix": ") ",
     "delete_cmd_prefix": "rm(",
     "library": "var_list.r",
     "varRefreshCmd": "cat(var_dic_list()) "
    }
   },
   "types_to_exclude": [
    "module",
    "function",
    "builtin_function_or_method",
    "instance",
    "_Feature"
   ],
   "window_display": false
  }
 },
 "nbformat": 4,
 "nbformat_minor": 5
}
