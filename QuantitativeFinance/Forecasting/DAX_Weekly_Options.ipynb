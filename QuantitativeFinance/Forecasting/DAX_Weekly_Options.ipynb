{
 "cells": [
  {
   "attachments": {},
   "cell_type": "markdown",
   "metadata": {},
   "source": [
    "# Studying Weekly Options on DAX Index\n",
    "\n",
    "## Introduction\n",
    "\n",
    "The purpose of this study is to develop a simple and reliable forecasting model for options trading, specifically focusing on weekly options on the DAX index. The study aims to create a forecasting model that does not incorporate the added complexities of dividends and American-style options, making it more accessible and easier to understand for traders.\n",
    "\n",
    "\n",
    "## Goals\n",
    "- Develop a simple and reliable forecasting model for options trading.\n",
    "- Utilize machine learning and AI techniques to enhance prediction accuracy.\n",
    "- Study the effectiveness of using daily and weekly pivot points to determine strike prices for options trading.\n"
   ]
  },
  {
   "cell_type": "code",
   "execution_count": null,
   "metadata": {},
   "outputs": [],
   "source": []
  },
  {
   "attachments": {},
   "cell_type": "markdown",
   "metadata": {},
   "source": [
    "### Data Collection\n",
    "- Historical price data for the DAX index will be obtained from a reliable financial data source.\n",
    "- Option chain data for weekly options on the DAX will be collected, including strike prices, expiration dates, and option prices.\n"
   ]
  },
  {
   "cell_type": "code",
   "execution_count": null,
   "metadata": {},
   "outputs": [],
   "source": []
  },
  {
   "attachments": {},
   "cell_type": "markdown",
   "metadata": {},
   "source": [
    "### Feature Selection\n",
    "- Daily and weekly pivot points will be calculated from the historical price data.\n",
    "- The nearest strike price to the pivot points (R1 for calls, S1 for puts) will be identified.\n"
   ]
  },
  {
   "cell_type": "code",
   "execution_count": null,
   "metadata": {},
   "outputs": [],
   "source": []
  },
  {
   "cell_type": "code",
   "execution_count": null,
   "metadata": {},
   "outputs": [],
   "source": [
    "### Forecasting Model\n",
    "- Machine learning and AI techniques will be employed to develop the forecasting model.\n",
    "- Theoretical prices of the options will be computed based on the identified strike prices and other relevant factors.\n",
    "- The theoretical probability of assignment will be calculated for the nearest call or put option to R1 or S1.\n"
   ]
  },
  {
   "cell_type": "code",
   "execution_count": null,
   "metadata": {},
   "outputs": [],
   "source": []
  },
  {
   "attachments": {},
   "cell_type": "markdown",
   "metadata": {},
   "source": [
    "## Conclusion\n",
    "This study aims to provide valuable insights into the prediction of option prices and the likelihood of assignment for weekly options on the DAX index. By focusing on simplicity and reliability, the developed forecasting model can be easily implemented by traders looking to enhance their options trading strategies."
   ]
  },
  {
   "cell_type": "code",
   "execution_count": null,
   "metadata": {},
   "outputs": [],
   "source": []
  }
 ],
 "metadata": {
  "kernelspec": {
   "display_name": "jupyter-ai",
   "language": "python",
   "name": "python3"
  },
  "language_info": {
   "codemirror_mode": {
    "name": "ipython",
    "version": 3
   },
   "file_extension": ".py",
   "mimetype": "text/x-python",
   "name": "python",
   "nbconvert_exporter": "python",
   "pygments_lexer": "ipython3",
   "version": "3.11.7"
  },
  "orig_nbformat": 4
 },
 "nbformat": 4,
 "nbformat_minor": 2
}
