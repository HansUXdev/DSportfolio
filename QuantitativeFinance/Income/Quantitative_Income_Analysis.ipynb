{
 "cells": [
  {
   "cell_type": "markdown",
   "id": "7641367d",
   "metadata": {},
   "source": [
    "# Quantitative Income Analysis\n",
    "\n",
    "This document presents a comprehensive overview of different financial analysis methods used to evaluate income-generating assets.\n"
   ]
  },
  {
   "cell_type": "markdown",
   "id": "d6dd6b8a",
   "metadata": {},
   "source": [
    "# Bonds"
   ]
  },
  {
   "cell_type": "markdown",
   "id": "c157a02e",
   "metadata": {},
   "source": [
    "| Method Name              | Description                                                                                                       | Pros                                                                                                    | Cons                                                                                                    | Use Cases                                                                                      |\n",
    "|--------------------------|-------------------------------------------------------------------------------------------------------------------|---------------------------------------------------------------------------------------------------------|---------------------------------------------------------------------------------------------------------|------------------------------------------------------------------------------------------------|\n",
    "| Yield to Maturity (YTM)  | Calculates the internal rate of return of a bond, considering its current price, coupon payments, and maturity. | - Provides a single measure of return for comparing bonds. - Considers both coupon payments and capital gain/loss. | - Ignores reinvestment risk. - Assumes the bond is held to maturity.                                   | - Evaluating the expected return on individual bonds or bond portfolios.                          |\n",
    "| Yield to Call (YTC)      | Calculates the yield of a bond if it is called by the issuer before maturity, incorporating call features.    | - Accounts for potential early redemption by the issuer. - Helps investors assess the risk of call provisions. | - Assumes the bond will be called at the earliest opportunity. - Complexity in modeling call features. | - Assessing bonds with callable features to understand potential returns under different scenarios. |\n",
    "| Spot Rate Curve          | Calculates the yield to maturity for bonds of different maturities, forming a curve representing spot rates.  | - Reflects the term structure of interest rates more accurately. - Provides insights into market expectations. | - Requires accurate estimation of spot rates for various maturities. - Complexity in constructing the curve. | - Analyzing the yield curve to make decisions on bond investments or hedging strategies.           |\n",
    "| Duration                 | Measures the sensitivity of a bond's price to changes in interest rates, helping manage interest rate risk.    | - Provides a measure of interest rate risk for bond portfolios. - Useful for immunizing portfolios against interest rate movements. | - Assumes parallel shifts in the yield curve. - Does not account for changes in convexity.           | - Managing interest rate risk in bond portfolios through duration matching or hedging strategies.  |\n",
    "| Convexity                | Measures the curvature of the price-yield curve for a bond, providing additional insights into price changes. | - Offers more accurate estimation of price changes than duration alone. - Useful for larger interest rate movements. | - Complexity in calculation and interpretation. - Additional data required compared to duration. | - Fine-tuning bond portfolio risk management strategies by considering both duration and convexity. |\n"
   ]
  },
  {
   "cell_type": "markdown",
   "id": "a0586919",
   "metadata": {},
   "source": [
    "# Stocks, REITS and ETFs"
   ]
  },
  {
   "cell_type": "markdown",
   "id": "d94f4b7d",
   "metadata": {},
   "source": [
    "| Method Name              | Description                                                                                                       | Pros                                                                                                    | Cons                                                                                                    | Use Cases                                                                                      |\n",
    "|--------------------------|-------------------------------------------------------------------------------------------------------------------|---------------------------------------------------------------------------------------------------------|---------------------------------------------------------------------------------------------------------|------------------------------------------------------------------------------------------------|\n",
    "| Gordon Growth Model      | Estimates the intrinsic value of a stock based on the present value of expected future dividends.               | - Simple and intuitive. - Provides a clear valuation framework.                                          | - Assumes constant growth rate which may not be realistic. - Sensitive to inputs like growth rate.       | - Long-term investments in stable companies with consistent dividend payments.                   |\n",
    "| Dividend Discount Model  | Calculates the present value of all expected future dividends, often with adjustments for growth or risk.        | - Accounts for changes in dividend growth rates. - Can incorporate changes in risk over time.             | - Requires accurate estimation of future dividends and discount rate. - Sensitivity to assumptions.     | - Assessing value of income-generating assets like stocks, REITs, or utility companies.          |\n",
    "| Two-Stage Dividend Model | Divides the forecast period into two stages, typically a high-growth phase followed by a stable growth phase. | - Allows for more accurate modeling of companies with changing growth rates. - Can capture transitions from high growth to stable periods. | - Requires accurate estimation of growth rates for each stage. - Complexity in modeling transitions. | - Companies undergoing transitions in growth rates, such as startups or mature companies.        |\n",
    "| Three-Stage Dividend Model | Extends the two-stage model to three stages, often including a decline phase after stable growth.            | - Provides more flexibility in modeling complex growth patterns. - Accounts for decline phase after maturity. | - Requires accurate estimation of growth rates for each stage. - Increased complexity in analysis. | - Companies with prolonged periods of growth followed by decline, e.g., tech companies with product cycles. |\n",
    "| Residual Income Model    | Values equity as the sum of its book value and the present value of future residual incomes.                    | - Reflects the value generated by the company's future earnings. - Accounts for cost of equity capital.   | - Requires accurate estimation of future residual incomes. - Sensitivity to discount rate assumptions. | - Evaluating companies with volatile or unpredictable earnings, such as tech startups.            |\n",
    "| Multi-Period Excess Earnings Method | Estimates the value of an asset by considering its excess earnings over multiple periods.                    | - Accounts for the specific earnings generated by the asset. - Can incorporate changes in earnings over time. | - Requires accurate estimation of future excess earnings. - Sensitivity to assumptions regarding future earnings. | - Valuing assets with a history of generating excess earnings, such as intellectual property or patents. |\n",
    "| Vasicek Model            | A one-factor model that describes the evolution of interest rates over time, incorporating mean reversion.       | - Provides insights into the behavior of interest rates over time. - Incorporates mean reversion dynamics.  | - Assumes constant volatility and mean reversion parameters. - Limited in capturing complex interest rate dynamics. | - Analyzing the term structure of interest rates and pricing fixed income derivatives.            |\n",
    "| Cox-Ingersoll-Ross (CIR) Model | Extends the Vasicek model by incorporating a stochastic volatility parameter, improving interest rate dynamics representation. | - Captures stochastic volatility in interest rate movements. - Allows for more flexible modeling of interest rate dynamics. | - Requires estimation of additional parameters compared to the Vasicek model. - Complexity in calibration and implementation. | - Pricing interest rate derivatives and managing interest rate risk in bond portfolios.         |\n",
    "| Heath-Jarrow-Morton (HJM) Model | A multi-factor model that describes the term structure of interest rates by considering multiple sources of risk. | - Allows for more accurate modeling of term structure dynamics. - Incorporates multiple sources of interest rate risk. | - Requires estimation of numerous parameters, increasing model complexity. - Calibration challenges due to high dimensionality. | - Pricing exotic interest rate derivatives and understanding the dynamics of the yield curve.  |\n",
    "| Black-Derman-Toy (BDT) Model | A lattice-based interest rate model that allows for stochastic interest rate evolution over time.                  | - Captures interest rate uncertainty through a lattice structure. - Allows for flexible modeling of interest rate volatility. | - Computational complexity increases with finer lattice granularity. - May require simplifications for practical use. | - Valuing interest rate derivatives and structuring fixed income products with embedded options. |\n",
    "| Discounted Cash Flow (DCF) | Values an asset based on the present value of its expected future cash flows.                                 | - Flexible and widely applicable across various income-generating assets. - Incorporates changes in cash flows over time. | - Requires accurate estimation of future cash flows and discount rate. - Sensitivity to assumptions.    | - Valuing a wide range of income-generating assets such as bonds, real estate, or business investments. |\n",
    "| Capital Asset Pricing Model (CAPM) | Estimates the required return on an asset by considering its risk relative to the market and the risk-free rate. | - Incorporates systematic risk through beta. - Provides a clear framework for estimating the cost of equity. | - Assumes market efficiency and linear relationship between risk and return. - Sensitivity to market conditions. | - Determining the appropriate discount rate for assets based on their risk profile.                  |\n",
    "| Arbitrage-Free Models    | Various models such as the Ho-Lee, Hull-White, and LIBOR Market Model (LMM) aim to construct interest rate models without arbitrage opportunities. | - Ensure consistency with observed market prices and avoid arbitrage opportunities. - Can incorporate complex interest rate structures. | - Requires accurate calibration to market data. - Complexity in modeling interest rate dynamics. | - Pricing interest rate derivatives, understanding term structure movements, and hedging interest rate risk. |\n"
   ]
  },
  {
   "cell_type": "code",
   "execution_count": null,
   "id": "0250dae8",
   "metadata": {},
   "outputs": [],
   "source": [
    "!pip install requests yfinance yahoo_fin\n",
    "from IPython.core.display import clear_output\n",
    "clear_output()"
   ]
  },
  {
   "cell_type": "code",
   "execution_count": 15,
   "id": "0dc81c48",
   "metadata": {},
   "outputs": [],
   "source": [
    " # Imports go here\n",
    "    "
   ]
  },
  {
   "cell_type": "markdown",
   "id": "58bc9aec",
   "metadata": {},
   "source": [
    "# Gordon Growth Model"
   ]
  },
  {
   "cell_type": "code",
   "execution_count": null,
   "id": "32c59c9f",
   "metadata": {},
   "outputs": [],
   "source": []
  },
  {
   "cell_type": "markdown",
   "id": "4204c9d7",
   "metadata": {},
   "source": [
    "# Dividend Discount Model"
   ]
  },
  {
   "cell_type": "code",
   "execution_count": null,
   "id": "5806baf1",
   "metadata": {},
   "outputs": [],
   "source": []
  },
  {
   "cell_type": "markdown",
   "id": "44049d47",
   "metadata": {},
   "source": [
    "# Two-Stage Dividend Model"
   ]
  },
  {
   "cell_type": "code",
   "execution_count": null,
   "id": "cea9527b",
   "metadata": {},
   "outputs": [],
   "source": []
  },
  {
   "cell_type": "markdown",
   "id": "7d528d9d",
   "metadata": {},
   "source": [
    "# Three-Stage Dividend Model"
   ]
  },
  {
   "cell_type": "code",
   "execution_count": 5,
   "id": "4aa2f853",
   "metadata": {},
   "outputs": [
    {
     "name": "stdout",
     "output_type": "stream",
     "text": [
      "Intrinsic value of the stock: 0\n"
     ]
    }
   ],
   "source": [
    "def fetch_dividend_data(symbol):\n",
    "    # Replace 'YOUR_API_KEY' with your actual API key from Alpha Vantage\n",
    "    api_key = 'YOUR_API_KEY'\n",
    "    url = f'https://www.alphavantage.co/query?function=DIVIDEND&symbol={symbol}&apikey={api_key}'\n",
    "    response = requests.get(url)\n",
    "    if response.status_code == 200:\n",
    "        dividend_data = response.json()\n",
    "        if 'annualReports' in dividend_data:\n",
    "            return [report['amount'] for report in dividend_data['annualReports']]\n",
    "    return []\n",
    "\n",
    "def calculate_intrinsic_value(dividend_data, discount_rate):\n",
    "    intrinsic_value = 0\n",
    "    for year, dividend in enumerate(dividend_data, start=1):\n",
    "        if year <= 5:\n",
    "            growth_rate = 0.05\n",
    "        elif 5 < year <= 10:\n",
    "            growth_rate = 0.03\n",
    "        else:\n",
    "            growth_rate = 0.01\n",
    "        intrinsic_value += dividend / ((1 + discount_rate) ** year)\n",
    "    return intrinsic_value\n",
    "\n",
    "def three_stage_dividend_discount_model(symbol, discount_rate):\n",
    "    dividend_data = fetch_dividend_data(symbol)\n",
    "    intrinsic_value = calculate_intrinsic_value(dividend_data, discount_rate)\n",
    "    return intrinsic_value\n",
    "\n",
    "# Example usage:\n",
    "symbol = 'AAPL'  # Example symbol\n",
    "discount_rate = 0.08  # Example discount rate\n",
    "\n",
    "intrinsic_value = three_stage_dividend_discount_model(symbol, discount_rate)\n",
    "print(\"Intrinsic value of the stock:\", intrinsic_value)\n"
   ]
  },
  {
   "cell_type": "markdown",
   "id": "8facf5b7",
   "metadata": {},
   "source": [
    "# Residual Income Mode"
   ]
  },
  {
   "cell_type": "code",
   "execution_count": 6,
   "id": "edfd84a1",
   "metadata": {},
   "outputs": [
    {
     "name": "stdout",
     "output_type": "stream",
     "text": [
      "Estimated value of equity using Residual Income Model: 5500000.0\n"
     ]
    }
   ],
   "source": [
    "def residual_income_model(net_income, equity, required_return):\n",
    "    \"\"\"\n",
    "    Calculate the value of equity using the Residual Income Model.\n",
    "    \n",
    "    Args:\n",
    "    - net_income (float): Net income of the company.\n",
    "    - equity (float): Book value of equity.\n",
    "    - required_return (float): Required rate of return on equity.\n",
    "    \n",
    "    Returns:\n",
    "    - float: Estimated value of equity using the Residual Income Model.\n",
    "    \"\"\"\n",
    "    # Calculate the present value of expected future residual income\n",
    "    residual_income = net_income - (required_return * equity)\n",
    "    \n",
    "    # Value of equity is the book value of equity plus the present value of expected future residual income\n",
    "    equity_value = equity + residual_income\n",
    "    \n",
    "    return equity_value\n",
    "\n",
    "net_income = 1000000  # Example net income\n",
    "equity = 5000000      # Example book value of equity\n",
    "required_return = 0.1  # Example required rate of return on equity (10%)\n",
    "\n",
    "equity_value = residual_income_model(net_income, equity, required_return)\n",
    "print(\"Estimated value of equity using Residual Income Model:\", equity_value)\n"
   ]
  },
  {
   "cell_type": "markdown",
   "id": "79d55d44",
   "metadata": {},
   "source": [
    "# Multi-Period Excess Earnings Method"
   ]
  },
  {
   "cell_type": "code",
   "execution_count": 7,
   "id": "7a12e459",
   "metadata": {},
   "outputs": [
    {
     "name": "stdout",
     "output_type": "stream",
     "text": [
      "Estimated value of the business using Multi-Period Excess Earnings Method: 295266.71675432\n"
     ]
    }
   ],
   "source": [
    "def multi_period_excess_earnings_method(excess_earnings, discount_rate, num_periods):\n",
    "    \"\"\"\n",
    "    Calculate the value of a business using the Multi-Period Excess Earnings Method.\n",
    "    \n",
    "    Args:\n",
    "    - excess_earnings (list of floats): List of excess earnings for each period.\n",
    "    - discount_rate (float): Discount rate to calculate the present value of future excess earnings.\n",
    "    - num_periods (int): Number of periods for which excess earnings are projected.\n",
    "    \n",
    "    Returns:\n",
    "    - float: Estimated value of the business using the Multi-Period Excess Earnings Method.\n",
    "    \"\"\"\n",
    "    # Calculate the present value of future excess earnings\n",
    "    present_value = sum([excess_earnings[i] / ((1 + discount_rate) ** (i + 1)) for i in range(num_periods)])\n",
    "    \n",
    "    return present_value\n",
    "\n",
    "excess_earnings = [100000, 120000, 140000]  # Example excess earnings for three periods\n",
    "discount_rate = 0.1  # Example discount rate (10%)\n",
    "num_periods = 3  # Example number of periods\n",
    "\n",
    "business_value = multi_period_excess_earnings_method(excess_earnings, discount_rate, num_periods)\n",
    "print(\"Estimated value of the business using Multi-Period Excess Earnings Method:\", business_value)\n"
   ]
  },
  {
   "cell_type": "markdown",
   "id": "24b76f06",
   "metadata": {},
   "source": [
    "# Vasicek Model"
   ]
  },
  {
   "cell_type": "code",
   "execution_count": 8,
   "id": "c5f48081",
   "metadata": {},
   "outputs": [
    {
     "name": "stdout",
     "output_type": "stream",
     "text": [
      "Simulated interest rates: [0.05, 0.04928111769697068, 0.050178076090744705, 0.05074843679712352, 0.05237119851514273, 0.05279176800604873, 0.05228108299942387, 0.0532109870712835, 0.053507485274847603, 0.05255804702977624, 0.05185615957945097, 0.05223961135147096, 0.053134061983263314, 0.05275069159280677, 0.051160017399629235, 0.052387754074624225, 0.05306043213068201, 0.05563339820805308, 0.05529799918254576, 0.056165758006392244, 0.05798689494903352, 0.0594664080381106, 0.05791832957276688, 0.0583491582623507, 0.05827017744509774, 0.05968798758483529, 0.05897383511482053, 0.05744187551673465, 0.05720387025859113, 0.05639547840165769, 0.05646777902606942, 0.0570453821161671, 0.05704845376080955, 0.056256400258930354, 0.057845816711004035, 0.057972281047876176, 0.05774409125873786, 0.058421441130440455, 0.05869073879421507, 0.057512319821451566, 0.05722666547659982, 0.059053170987157066, 0.05857430759756226, 0.057239858482422544, 0.05881942877261522, 0.05777128035590093, 0.05923599972035238, 0.05974345252909241, 0.05811048059413597, 0.0571168410487924, 0.05673024168372574, 0.05845163498027263, 0.058843931083278116, 0.058850598619779454, 0.05830546864343257, 0.059624524933803845, 0.0601487881109778, 0.05796479853031829, 0.058768706373315785, 0.05884927040241223, 0.05556207449689419, 0.05367812563782355, 0.05521739836545723, 0.05416049225832111, 0.05694335896192748, 0.05713011352274811, 0.05675025804080044, 0.05658704022800531, 0.05629951438944655, 0.05593025561857311, 0.055912550339031857, 0.0580016392870417, 0.057381404991128974, 0.058557136334485414, 0.05809680278200864, 0.060209521748056376, 0.059379544144084084, 0.0585285534385801, 0.058911988339931054, 0.057802684263228724, 0.05743862727703736, 0.05769616619203152, 0.059118732510366215, 0.05773021156168194, 0.058337978574401955, 0.05866398899825919, 0.057747534737027845, 0.05918882949309684, 0.059885459191978005, 0.06105328686127018, 0.06235850462155472, 0.06322091551588566, 0.06313453386846374, 0.06306680071134459, 0.06332400341115144, 0.06349355393794537, 0.06357859238015612, 0.06384480008783841, 0.0636738409064085, 0.06356707332654239, 0.06345880690537029]\n"
     ]
    }
   ],
   "source": [
    "def vasicek_model(r0, kappa, theta, sigma, T, n, seed=None):\n",
    "    \"\"\"\n",
    "    Simulate interest rates using the Vasicek model.\n",
    "    \n",
    "    Args:\n",
    "    - r0 (float): Initial interest rate.\n",
    "    - kappa (float): Speed of mean reversion.\n",
    "    - theta (float): Mean reversion level.\n",
    "    - sigma (float): Volatility of interest rates.\n",
    "    - T (float): Time horizon.\n",
    "    - n (int): Number of time steps.\n",
    "    - seed (int): Random seed for reproducibility (optional).\n",
    "    \n",
    "    Returns:\n",
    "    - list of floats: Simulated interest rates over time.\n",
    "    \"\"\"\n",
    "    if seed is not None:\n",
    "        np.random.seed(seed)\n",
    "    \n",
    "    dt = T / n\n",
    "    rates = [r0]\n",
    "    \n",
    "    for _ in range(n):\n",
    "        dr = kappa * (theta - rates[-1]) * dt + sigma * np.sqrt(dt) * np.random.normal()\n",
    "        rates.append(rates[-1] + dr)\n",
    "    \n",
    "    return rates\n",
    "\n",
    "# Parameters for the Vasicek model\n",
    "r0 = 0.05  # Initial interest rate\n",
    "kappa = 0.1  # Speed of mean reversion\n",
    "theta = 0.05  # Mean reversion level\n",
    "sigma = 0.01  # Volatility of interest rates\n",
    "T = 1  # Time horizon\n",
    "n = 100  # Number of time steps\n",
    "\n",
    "# Simulate interest rates using the Vasicek model\n",
    "simulated_rates = vasicek_model(r0, kappa, theta, sigma, T, n)\n",
    "\n",
    "# Print the simulated interest rates\n",
    "print(\"Simulated interest rates:\", simulated_rates)\n",
    "\n"
   ]
  },
  {
   "cell_type": "markdown",
   "id": "88f30c52",
   "metadata": {},
   "source": [
    "# Cox-Ingersoll-Ross (CIR) Model"
   ]
  },
  {
   "cell_type": "code",
   "execution_count": 10,
   "id": "32224b2e",
   "metadata": {},
   "outputs": [
    {
     "name": "stdout",
     "output_type": "stream",
     "text": [
      "Simulated interest rates: [0.05, 0.04990025478511054, 0.050210928065083316, 0.05018839031899537, 0.05017248748934256, 0.04967685131763537, 0.04940247301735501, 0.04955582800199587, 0.049753525748327726, 0.04957689406120199, 0.049688592955688525, 0.04989202079408762, 0.04995072036493207, 0.04975124901802783, 0.04958570146726922, 0.049652943594254054, 0.050007712039597474, 0.05027812376546675, 0.05023634871142059, 0.049816923754058884, 0.04951217107321696, 0.04966672867713206, 0.049556940297863415, 0.04943371868919611, 0.04937474993579568, 0.04937705397961126, 0.04956010060662111, 0.04969401042189267, 0.04926904615646996, 0.04900124976334237, 0.04896063829851186, 0.048909134782996966, 0.04878629884972845, 0.04915483133967384, 0.04918290548667255, 0.049649853309304014, 0.04932233991730561, 0.04953363950781, 0.04940832254407296, 0.0496255481103989, 0.04989185510526571, 0.050007516706984896, 0.04971393957219155, 0.049243817696831456, 0.04938724513463417, 0.049657999361800126, 0.049806475407043665, 0.04995901828858599, 0.04951828692937156, 0.04963968382808914, 0.04967182490407892, 0.049689989293913175, 0.049763853891030954, 0.04982724846470213, 0.04954860543098171, 0.04925679405603803, 0.04927584906313964, 0.04940273442593239, 0.04972496360432471, 0.049818738590500566, 0.0499565516928656, 0.050006008191964844, 0.050024562814243057, 0.050407243438704175, 0.05027746864776625, 0.05039687255276807, 0.05014591321011994, 0.05012613984265525, 0.050126583699272184, 0.050254686519960644, 0.05008480920868402, 0.049664872690968274, 0.04961319155090592, 0.049668904694784355, 0.049615158501619044, 0.049547930207453905, 0.04951279991779474, 0.049455284031227904, 0.04918385564868511, 0.04908640112848091, 0.04904956530194999, 0.04865932048246065, 0.04843356063583125, 0.04844042774395822, 0.04829208403154589, 0.04819814553595245, 0.04774990667489667, 0.04742789926929503, 0.04729665013956655, 0.047016914559082995, 0.0472074463339396, 0.04672187536338431, 0.04678382453699282, 0.04682200550672434, 0.04679748304874849, 0.047009570665504145, 0.04676661113075921, 0.04668636443297004, 0.04662438872684568, 0.04666075573855825, 0.04700561743123912]\n"
     ]
    }
   ],
   "source": [
    "\n",
    "def cir_model(r0, kappa, theta, sigma, T, n, seed=None):\n",
    "    \"\"\"\n",
    "    Simulate interest rates using the Cox-Ingersoll-Ross (CIR) model.\n",
    "    \n",
    "    Args:\n",
    "    - r0 (float): Initial interest rate.\n",
    "    - kappa (float): Speed of mean reversion.\n",
    "    - theta (float): Mean reversion level.\n",
    "    - sigma (float): Volatility of interest rates.\n",
    "    - T (float): Time horizon.\n",
    "    - n (int): Number of time steps.\n",
    "    - seed (int): Random seed for reproducibility (optional).\n",
    "    \n",
    "    Returns:\n",
    "    - list of floats: Simulated interest rates over time.\n",
    "    \"\"\"\n",
    "    if seed is not None:\n",
    "        np.random.seed(seed)\n",
    "    \n",
    "    dt = T / n\n",
    "    rates = [r0]\n",
    "    \n",
    "    for _ in range(n):\n",
    "        dr = kappa * (theta - rates[-1]) * dt + sigma * np.sqrt(rates[-1]) * np.sqrt(dt) * np.random.normal()\n",
    "        rates.append(max(rates[-1] + dr, 0))  # Ensure non-negative interest rates\n",
    "    \n",
    "    return rates\n",
    "\n",
    "# Parameters for the CIR model\n",
    "r0 = 0.05  # Initial interest rate\n",
    "kappa = 0.1  # Speed of mean reversion\n",
    "theta = 0.05  # Mean reversion level\n",
    "sigma = 0.01  # Volatility of interest rates\n",
    "T = 1  # Time horizon\n",
    "n = 100  # Number of time steps\n",
    "\n",
    "# Simulate interest rates using the CIR model\n",
    "simulated_rates = cir_model(r0, kappa, theta, sigma, T, n)\n",
    "\n",
    "# Print the simulated interest rates\n",
    "print(\"Simulated interest rates:\", simulated_rates)\n"
   ]
  },
  {
   "cell_type": "markdown",
   "id": "2e5be679",
   "metadata": {},
   "source": [
    "# Heath-Jarrow-Morton (HJM) Model"
   ]
  },
  {
   "cell_type": "code",
   "execution_count": null,
   "id": "e8d33d77",
   "metadata": {},
   "outputs": [],
   "source": [
    "\n",
    "def hjm_model(n_simulations, n_periods, dt, sigma):\n",
    "    \"\"\"\n",
    "    Simulate forward rates using the Heath-Jarrow-Morton (HJM) model via Monte Carlo simulation.\n",
    "    \n",
    "    Args:\n",
    "    - n_simulations (int): Number of simulation paths.\n",
    "    - n_periods (int): Number of time periods.\n",
    "    - dt (float): Time increment.\n",
    "    - sigma (float): Constant volatility.\n",
    "    \n",
    "    Returns:\n",
    "    - ndarray of shape (n_simulations, n_periods): Simulated forward rates over time.\n",
    "    \"\"\"\n",
    "    forward_rates = np.zeros((n_simulations, n_periods))\n",
    "    \n",
    "    for i in range(1, n_periods):\n",
    "        # Generate random shocks\n",
    "        dW = np.random.normal(scale=np.sqrt(dt), size=(n_simulations,))\n",
    "        \n",
    "        # Update forward rates using Euler-Maruyama method\n",
    "        forward_rates[:, i] = forward_rates[:, i - 1] + sigma * dW\n",
    "        \n",
    "    return forward_rates\n"
   ]
  },
  {
   "cell_type": "markdown",
   "id": "71f6e8e6",
   "metadata": {},
   "source": [
    "# Black-Derman-Toy (BDT) Model"
   ]
  },
  {
   "cell_type": "code",
   "execution_count": null,
   "id": "1f7ea20a",
   "metadata": {},
   "outputs": [],
   "source": [
    "\n",
    "def bdt_model(n_periods, dt, r0, kappa, theta, sigma):\n",
    "    \"\"\"\n",
    "    Simulate short rates using the Black-Derman-Toy (BDT) model via binomial tree approach.\n",
    "    \n",
    "    Args:\n",
    "    - n_periods (int): Number of time periods.\n",
    "    - dt (float): Time increment.\n",
    "    - r0 (float): Initial short rate.\n",
    "    - kappa (float): Mean reversion speed.\n",
    "    - theta (float): Long-term mean of the short rate.\n",
    "    - sigma (float): Volatility parameter.\n",
    "    \n",
    "    Returns:\n",
    "    - ndarray of shape (n_periods, n_periods): Binomial tree of short rates over time.\n",
    "    \"\"\"\n",
    "    short_rates = np.zeros((n_periods, n_periods))\n",
    "    \n",
    "    for i in range(n_periods):\n",
    "        for j in range(i + 1):\n",
    "            # Calculate the up and down factors\n",
    "            u = np.exp(sigma * np.sqrt(dt))\n",
    "            d = 1 / u\n",
    "            \n",
    "            # Calculate the probability of up movement\n",
    "            p = (np.exp(kappa * dt) - d) / (u - d)\n",
    "            \n",
    "            # Calculate the short rate at each node\n",
    "            short_rates[i, j] = r0 * u**j * d**(i - j)\n",
    "    \n",
    "    return short_rates\n"
   ]
  },
  {
   "cell_type": "markdown",
   "id": "5aea1240",
   "metadata": {},
   "source": [
    "# Discounted Cash Flow (DCF)"
   ]
  },
  {
   "cell_type": "code",
   "execution_count": null,
   "id": "a483dc1a",
   "metadata": {},
   "outputs": [],
   "source": [
    "def dcf_valuation(cash_flows, discount_rate):\n",
    "    \"\"\"\n",
    "    Calculate the present value of cash flows using the discounted cash flow (DCF) method.\n",
    "    \n",
    "    Args:\n",
    "    - cash_flows (list): List of projected cash flows.\n",
    "    - discount_rate (float): Discount rate (required rate of return).\n",
    "    \n",
    "    Returns:\n",
    "    - float: Present value of the cash flows.\n",
    "    \"\"\"\n",
    "    dcf_value = sum(cf / (1 + discount_rate)**n for n, cf in enumerate(cash_flows, start=1))\n",
    "    return dcf_value\n"
   ]
  },
  {
   "cell_type": "markdown",
   "id": "96158499",
   "metadata": {},
   "source": [
    "# Capital Asset Pricing Model (CAPM)"
   ]
  },
  {
   "cell_type": "code",
   "execution_count": null,
   "id": "4f33e819",
   "metadata": {},
   "outputs": [],
   "source": [
    "def calculate_expected_return(risk_free_rate, beta, market_return, market_risk_premium):\n",
    "    \"\"\"\n",
    "    Calculate the expected return of an asset using the Capital Asset Pricing Model (CAPM).\n",
    "    \n",
    "    Args:\n",
    "    - risk_free_rate (float): Risk-free rate (e.g., yield on Treasury bills).\n",
    "    - beta (float): Beta coefficient of the asset.\n",
    "    - market_return (float): Expected return of the market portfolio.\n",
    "    - market_risk_premium (float): Market risk premium.\n",
    "    \n",
    "    Returns:\n",
    "    - float: Expected return of the asset.\n",
    "    \"\"\"\n",
    "    expected_return = risk_free_rate + beta * market_risk_premium\n",
    "    return expected_return\n"
   ]
  },
  {
   "cell_type": "code",
   "execution_count": null,
   "id": "629eb2f9",
   "metadata": {},
   "outputs": [],
   "source": []
  },
  {
   "cell_type": "code",
   "execution_count": null,
   "id": "e3affcba",
   "metadata": {},
   "outputs": [],
   "source": []
  },
  {
   "cell_type": "code",
   "execution_count": null,
   "id": "54982618",
   "metadata": {},
   "outputs": [],
   "source": []
  },
  {
   "cell_type": "code",
   "execution_count": null,
   "id": "f3e40e62",
   "metadata": {},
   "outputs": [],
   "source": []
  },
  {
   "cell_type": "code",
   "execution_count": null,
   "id": "26c353a1",
   "metadata": {},
   "outputs": [],
   "source": []
  },
  {
   "cell_type": "code",
   "execution_count": null,
   "id": "0f77cc7e",
   "metadata": {},
   "outputs": [],
   "source": []
  },
  {
   "cell_type": "code",
   "execution_count": null,
   "id": "186d697b",
   "metadata": {},
   "outputs": [],
   "source": []
  },
  {
   "cell_type": "code",
   "execution_count": null,
   "id": "8d888018",
   "metadata": {},
   "outputs": [],
   "source": []
  },
  {
   "cell_type": "code",
   "execution_count": null,
   "id": "6be94530",
   "metadata": {},
   "outputs": [],
   "source": []
  }
 ],
 "metadata": {
  "kernelspec": {
   "display_name": "Python 3 (ipykernel)",
   "language": "python",
   "name": "python3"
  },
  "language_info": {
   "codemirror_mode": {
    "name": "ipython",
    "version": 3
   },
   "file_extension": ".py",
   "mimetype": "text/x-python",
   "name": "python",
   "nbconvert_exporter": "python",
   "pygments_lexer": "ipython3",
   "version": "3.11.5"
  },
  "nbTranslate": {
   "displayLangs": [
    "*"
   ],
   "hotkey": "alt-t",
   "langInMainMenu": true,
   "sourceLang": "en",
   "targetLang": "fr",
   "useGoogleTranslate": true
  },
  "toc": {
   "base_numbering": 1,
   "nav_menu": {},
   "number_sections": true,
   "sideBar": true,
   "skip_h1_title": false,
   "title_cell": "Table of Contents",
   "title_sidebar": "Contents",
   "toc_cell": false,
   "toc_position": {},
   "toc_section_display": true,
   "toc_window_display": false
  },
  "varInspector": {
   "cols": {
    "lenName": 16,
    "lenType": 16,
    "lenVar": 40
   },
   "kernels_config": {
    "python": {
     "delete_cmd_postfix": "",
     "delete_cmd_prefix": "del ",
     "library": "var_list.py",
     "varRefreshCmd": "print(var_dic_list())"
    },
    "r": {
     "delete_cmd_postfix": ") ",
     "delete_cmd_prefix": "rm(",
     "library": "var_list.r",
     "varRefreshCmd": "cat(var_dic_list()) "
    }
   },
   "types_to_exclude": [
    "module",
    "function",
    "builtin_function_or_method",
    "instance",
    "_Feature"
   ],
   "window_display": false
  }
 },
 "nbformat": 4,
 "nbformat_minor": 5
}
