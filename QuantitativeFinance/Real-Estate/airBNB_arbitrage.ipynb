{
 "cells": [
  {
   "attachments": {},
   "cell_type": "markdown",
   "metadata": {},
   "source": [
    "# Airbnb Rental Arbitrage\n",
    "\n",
    "Articles:\n",
    "- [what is it?](https://www.hostaway.com/blog/what-is-airbnb-rental-arbitrage/)\n",
    "- [Occupancy Rates](https://www.mashvisor.com/blog/airbnb-occupancy-rate/#:~:text=Calculating%20the%20Airbnb%20occupancy%20rate,the%20same%20period%20of%20time.)"
   ]
  },
  {
   "cell_type": "code",
   "execution_count": 1,
   "metadata": {},
   "outputs": [],
   "source": [
    "def estimate_airbnb_arbitrage(monthly_rent, airbnb_price_per_night, occupancy_rate, additional_costs_per_month):\n",
    "    days_in_month = 30  # Average number of days in a month\n",
    "    # Calculate potential monthly revenue from Airbnb\n",
    "    potential_revenue = airbnb_price_per_night * occupancy_rate * days_in_month\n",
    "    # Calculate total monthly costs\n",
    "    total_monthly_costs = monthly_rent + additional_costs_per_month\n",
    "    # Calculate net profit\n",
    "    net_monthly_profit = potential_revenue - total_monthly_costs\n",
    "    return net_monthly_profit\n",
    "\n"
   ]
  },
  {
   "cell_type": "code",
   "execution_count": 24,
   "metadata": {},
   "outputs": [
    {
     "name": "stdout",
     "output_type": "stream",
     "text": [
      "Estimated net monthly profit: $625.00\n"
     ]
    }
   ],
   "source": [
    "# Example usage:\n",
    "initial_monthly_rent = 2000  \n",
    "monthly_rent = 1500  # Negotiated monthly rent\n",
    "airbnb_price_per_night = 250  # Example price per night\n",
    "occupancy_rate = 0.35  # 35% occupancy rate\n",
    "additional_costs_per_month = 500  # Additional monthly costs\n",
    "\n",
    "# Calculate the net monthly profit\n",
    "profit = estimate_airbnb_arbitrage(monthly_rent, airbnb_price_per_night, occupancy_rate, additional_costs_per_month)\n",
    "print(f\"Estimated net monthly profit: ${profit:.2f}\")"
   ]
  },
  {
   "cell_type": "code",
   "execution_count": 25,
   "metadata": {},
   "outputs": [
    {
     "name": "stdout",
     "output_type": "stream",
     "text": [
      "Estimated net monthly profit: $2000.00\n"
     ]
    }
   ],
   "source": [
    "# Example usage:\n",
    "monthly_rent = 2000  \n",
    "airbnb_price_per_night = 250 \n",
    "occupancy_rate = 0.6  # 60% occupancy rate\n",
    "additional_costs_per_month = 500  \n",
    "\n",
    "# Calculate the net monthly profit\n",
    "profit = estimate_airbnb_arbitrage(monthly_rent, airbnb_price_per_night, occupancy_rate, additional_costs_per_month)\n",
    "print(f\"Estimated net monthly profit: ${profit:.2f}\")"
   ]
  },
  {
   "cell_type": "code",
   "execution_count": null,
   "metadata": {},
   "outputs": [],
   "source": []
  }
 ],
 "metadata": {
  "kernelspec": {
   "display_name": "jupyter-ai",
   "language": "python",
   "name": "python3"
  },
  "language_info": {
   "codemirror_mode": {
    "name": "ipython",
    "version": 3
   },
   "file_extension": ".py",
   "mimetype": "text/x-python",
   "name": "python",
   "nbconvert_exporter": "python",
   "pygments_lexer": "ipython3",
   "version": "3.11.7"
  },
  "orig_nbformat": 4
 },
 "nbformat": 4,
 "nbformat_minor": 2
}
