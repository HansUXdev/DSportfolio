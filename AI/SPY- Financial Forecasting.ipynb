{
 "cells": [
  {
   "cell_type": "code",
   "execution_count": 1,
   "id": "f82750c3",
   "metadata": {},
   "outputs": [],
   "source": [
    "#!pip install pmdarima"
   ]
  },
  {
   "cell_type": "code",
   "execution_count": 53,
   "id": "e2b4b2be",
   "metadata": {
    "collapsed": true
   },
   "outputs": [
    {
     "name": "stdout",
     "output_type": "stream",
     "text": [
      "Requirement already satisfied: tensorflow in c:\\programdata\\anaconda3\\lib\\site-packages (2.15.0)\n",
      "Requirement already satisfied: yfinance in c:\\programdata\\anaconda3\\lib\\site-packages (0.2.33)\n",
      "Requirement already satisfied: numpy in c:\\programdata\\anaconda3\\lib\\site-packages (1.24.3)\n",
      "Requirement already satisfied: pandas in c:\\programdata\\anaconda3\\lib\\site-packages (2.0.3)\n",
      "Requirement already satisfied: matplotlib in c:\\programdata\\anaconda3\\lib\\site-packages (3.7.2)\n",
      "Requirement already satisfied: scikit-learn in c:\\programdata\\anaconda3\\lib\\site-packages (1.3.0)\n",
      "Requirement already satisfied: statsmodels in c:\\programdata\\anaconda3\\lib\\site-packages (0.14.0)\n",
      "Requirement already satisfied: tensorflow-intel==2.15.0 in c:\\programdata\\anaconda3\\lib\\site-packages (from tensorflow) (2.15.0)\n",
      "Requirement already satisfied: absl-py>=1.0.0 in c:\\programdata\\anaconda3\\lib\\site-packages (from tensorflow-intel==2.15.0->tensorflow) (2.1.0)\n",
      "Requirement already satisfied: astunparse>=1.6.0 in c:\\programdata\\anaconda3\\lib\\site-packages (from tensorflow-intel==2.15.0->tensorflow) (1.6.3)\n",
      "Requirement already satisfied: flatbuffers>=23.5.26 in c:\\programdata\\anaconda3\\lib\\site-packages (from tensorflow-intel==2.15.0->tensorflow) (23.5.26)\n",
      "Requirement already satisfied: gast!=0.5.0,!=0.5.1,!=0.5.2,>=0.2.1 in c:\\programdata\\anaconda3\\lib\\site-packages (from tensorflow-intel==2.15.0->tensorflow) (0.5.4)\n",
      "Requirement already satisfied: google-pasta>=0.1.1 in c:\\programdata\\anaconda3\\lib\\site-packages (from tensorflow-intel==2.15.0->tensorflow) (0.2.0)\n",
      "Requirement already satisfied: h5py>=2.9.0 in c:\\programdata\\anaconda3\\lib\\site-packages (from tensorflow-intel==2.15.0->tensorflow) (3.9.0)\n",
      "Requirement already satisfied: libclang>=13.0.0 in c:\\programdata\\anaconda3\\lib\\site-packages (from tensorflow-intel==2.15.0->tensorflow) (16.0.6)\n",
      "Requirement already satisfied: ml-dtypes~=0.2.0 in c:\\programdata\\anaconda3\\lib\\site-packages (from tensorflow-intel==2.15.0->tensorflow) (0.2.0)\n",
      "Requirement already satisfied: opt-einsum>=2.3.2 in c:\\programdata\\anaconda3\\lib\\site-packages (from tensorflow-intel==2.15.0->tensorflow) (3.3.0)\n",
      "Requirement already satisfied: packaging in c:\\programdata\\anaconda3\\lib\\site-packages (from tensorflow-intel==2.15.0->tensorflow) (23.1)\n",
      "Requirement already satisfied: protobuf!=4.21.0,!=4.21.1,!=4.21.2,!=4.21.3,!=4.21.4,!=4.21.5,<5.0.0dev,>=3.20.3 in c:\\programdata\\anaconda3\\lib\\site-packages (from tensorflow-intel==2.15.0->tensorflow) (4.23.4)\n",
      "Requirement already satisfied: setuptools in c:\\programdata\\anaconda3\\lib\\site-packages (from tensorflow-intel==2.15.0->tensorflow) (68.0.0)\n",
      "Requirement already satisfied: six>=1.12.0 in c:\\programdata\\anaconda3\\lib\\site-packages (from tensorflow-intel==2.15.0->tensorflow) (1.16.0)\n",
      "Requirement already satisfied: termcolor>=1.1.0 in c:\\programdata\\anaconda3\\lib\\site-packages (from tensorflow-intel==2.15.0->tensorflow) (2.4.0)\n",
      "Requirement already satisfied: typing-extensions>=3.6.6 in c:\\programdata\\anaconda3\\lib\\site-packages (from tensorflow-intel==2.15.0->tensorflow) (4.7.1)\n",
      "Requirement already satisfied: wrapt<1.15,>=1.11.0 in c:\\programdata\\anaconda3\\lib\\site-packages (from tensorflow-intel==2.15.0->tensorflow) (1.14.1)\n",
      "Requirement already satisfied: tensorflow-io-gcs-filesystem>=0.23.1 in c:\\programdata\\anaconda3\\lib\\site-packages (from tensorflow-intel==2.15.0->tensorflow) (0.31.0)\n",
      "Requirement already satisfied: grpcio<2.0,>=1.24.3 in c:\\programdata\\anaconda3\\lib\\site-packages (from tensorflow-intel==2.15.0->tensorflow) (1.60.0)\n",
      "Requirement already satisfied: tensorboard<2.16,>=2.15 in c:\\programdata\\anaconda3\\lib\\site-packages (from tensorflow-intel==2.15.0->tensorflow) (2.15.1)\n",
      "Requirement already satisfied: tensorflow-estimator<2.16,>=2.15.0 in c:\\programdata\\anaconda3\\lib\\site-packages (from tensorflow-intel==2.15.0->tensorflow) (2.15.0)\n",
      "Requirement already satisfied: keras<2.16,>=2.15.0 in c:\\programdata\\anaconda3\\lib\\site-packages (from tensorflow-intel==2.15.0->tensorflow) (2.15.0)\n",
      "Requirement already satisfied: requests>=2.31 in c:\\programdata\\anaconda3\\lib\\site-packages (from yfinance) (2.31.0)\n",
      "Requirement already satisfied: multitasking>=0.0.7 in c:\\programdata\\anaconda3\\lib\\site-packages (from yfinance) (0.0.11)\n",
      "Requirement already satisfied: lxml>=4.9.1 in c:\\programdata\\anaconda3\\lib\\site-packages (from yfinance) (4.9.3)\n",
      "Requirement already satisfied: appdirs>=1.4.4 in c:\\programdata\\anaconda3\\lib\\site-packages (from yfinance) (1.4.4)\n",
      "Requirement already satisfied: pytz>=2022.5 in c:\\programdata\\anaconda3\\lib\\site-packages (from yfinance) (2023.3.post1)\n",
      "Requirement already satisfied: frozendict>=2.3.4 in c:\\programdata\\anaconda3\\lib\\site-packages (from yfinance) (2.3.10)\n",
      "Requirement already satisfied: peewee>=3.16.2 in c:\\programdata\\anaconda3\\lib\\site-packages (from yfinance) (3.17.0)\n",
      "Requirement already satisfied: beautifulsoup4>=4.11.1 in c:\\programdata\\anaconda3\\lib\\site-packages (from yfinance) (4.12.2)\n",
      "Requirement already satisfied: html5lib>=1.1 in c:\\programdata\\anaconda3\\lib\\site-packages (from yfinance) (1.1)\n",
      "Requirement already satisfied: python-dateutil>=2.8.2 in c:\\programdata\\anaconda3\\lib\\site-packages (from pandas) (2.8.2)\n",
      "Requirement already satisfied: tzdata>=2022.1 in c:\\programdata\\anaconda3\\lib\\site-packages (from pandas) (2023.3)\n",
      "Requirement already satisfied: contourpy>=1.0.1 in c:\\programdata\\anaconda3\\lib\\site-packages (from matplotlib) (1.0.5)\n",
      "Requirement already satisfied: cycler>=0.10 in c:\\programdata\\anaconda3\\lib\\site-packages (from matplotlib) (0.11.0)\n",
      "Requirement already satisfied: fonttools>=4.22.0 in c:\\programdata\\anaconda3\\lib\\site-packages (from matplotlib) (4.25.0)\n",
      "Requirement already satisfied: kiwisolver>=1.0.1 in c:\\programdata\\anaconda3\\lib\\site-packages (from matplotlib) (1.4.4)\n",
      "Requirement already satisfied: pillow>=6.2.0 in c:\\programdata\\anaconda3\\lib\\site-packages (from matplotlib) (9.4.0)\n",
      "Requirement already satisfied: pyparsing<3.1,>=2.3.1 in c:\\programdata\\anaconda3\\lib\\site-packages (from matplotlib) (3.0.9)\n",
      "Requirement already satisfied: scipy>=1.5.0 in c:\\programdata\\anaconda3\\lib\\site-packages (from scikit-learn) (1.11.1)\n",
      "Requirement already satisfied: joblib>=1.1.1 in c:\\programdata\\anaconda3\\lib\\site-packages (from scikit-learn) (1.2.0)\n",
      "Requirement already satisfied: threadpoolctl>=2.0.0 in c:\\programdata\\anaconda3\\lib\\site-packages (from scikit-learn) (2.2.0)\n",
      "Requirement already satisfied: patsy>=0.5.2 in c:\\programdata\\anaconda3\\lib\\site-packages (from statsmodels) (0.5.3)\n",
      "Requirement already satisfied: soupsieve>1.2 in c:\\programdata\\anaconda3\\lib\\site-packages (from beautifulsoup4>=4.11.1->yfinance) (2.4)\n",
      "Requirement already satisfied: webencodings in c:\\programdata\\anaconda3\\lib\\site-packages (from html5lib>=1.1->yfinance) (0.5.1)\n",
      "Requirement already satisfied: charset-normalizer<4,>=2 in c:\\programdata\\anaconda3\\lib\\site-packages (from requests>=2.31->yfinance) (2.0.4)\n",
      "Requirement already satisfied: idna<4,>=2.5 in c:\\programdata\\anaconda3\\lib\\site-packages (from requests>=2.31->yfinance) (3.4)\n",
      "Requirement already satisfied: urllib3<3,>=1.21.1 in c:\\programdata\\anaconda3\\lib\\site-packages (from requests>=2.31->yfinance) (1.26.16)\n",
      "Requirement already satisfied: certifi>=2017.4.17 in c:\\programdata\\anaconda3\\lib\\site-packages (from requests>=2.31->yfinance) (2023.7.22)\n",
      "Requirement already satisfied: wheel<1.0,>=0.23.0 in c:\\programdata\\anaconda3\\lib\\site-packages (from astunparse>=1.6.0->tensorflow-intel==2.15.0->tensorflow) (0.38.4)\n",
      "Requirement already satisfied: google-auth<3,>=1.6.3 in c:\\programdata\\anaconda3\\lib\\site-packages (from tensorboard<2.16,>=2.15->tensorflow-intel==2.15.0->tensorflow) (2.26.2)\n",
      "Requirement already satisfied: google-auth-oauthlib<2,>=0.5 in c:\\programdata\\anaconda3\\lib\\site-packages (from tensorboard<2.16,>=2.15->tensorflow-intel==2.15.0->tensorflow) (1.2.0)\n",
      "Requirement already satisfied: markdown>=2.6.8 in c:\\programdata\\anaconda3\\lib\\site-packages (from tensorboard<2.16,>=2.15->tensorflow-intel==2.15.0->tensorflow) (3.4.1)\n",
      "Requirement already satisfied: tensorboard-data-server<0.8.0,>=0.7.0 in c:\\programdata\\anaconda3\\lib\\site-packages (from tensorboard<2.16,>=2.15->tensorflow-intel==2.15.0->tensorflow) (0.7.2)\n",
      "Requirement already satisfied: werkzeug>=1.0.1 in c:\\programdata\\anaconda3\\lib\\site-packages (from tensorboard<2.16,>=2.15->tensorflow-intel==2.15.0->tensorflow) (2.2.3)\n",
      "Requirement already satisfied: cachetools<6.0,>=2.0.0 in c:\\programdata\\anaconda3\\lib\\site-packages (from google-auth<3,>=1.6.3->tensorboard<2.16,>=2.15->tensorflow-intel==2.15.0->tensorflow) (5.3.2)\n",
      "Requirement already satisfied: pyasn1-modules>=0.2.1 in c:\\programdata\\anaconda3\\lib\\site-packages (from google-auth<3,>=1.6.3->tensorboard<2.16,>=2.15->tensorflow-intel==2.15.0->tensorflow) (0.2.8)\n",
      "Requirement already satisfied: rsa<5,>=3.1.4 in c:\\programdata\\anaconda3\\lib\\site-packages (from google-auth<3,>=1.6.3->tensorboard<2.16,>=2.15->tensorflow-intel==2.15.0->tensorflow) (4.9)\n",
      "Requirement already satisfied: requests-oauthlib>=0.7.0 in c:\\programdata\\anaconda3\\lib\\site-packages (from google-auth-oauthlib<2,>=0.5->tensorboard<2.16,>=2.15->tensorflow-intel==2.15.0->tensorflow) (1.3.1)\n",
      "Requirement already satisfied: MarkupSafe>=2.1.1 in c:\\programdata\\anaconda3\\lib\\site-packages (from werkzeug>=1.0.1->tensorboard<2.16,>=2.15->tensorflow-intel==2.15.0->tensorflow) (2.1.1)\n",
      "Requirement already satisfied: pyasn1<0.5.0,>=0.4.6 in c:\\programdata\\anaconda3\\lib\\site-packages (from pyasn1-modules>=0.2.1->google-auth<3,>=1.6.3->tensorboard<2.16,>=2.15->tensorflow-intel==2.15.0->tensorflow) (0.4.8)\n",
      "Requirement already satisfied: oauthlib>=3.0.0 in c:\\programdata\\anaconda3\\lib\\site-packages (from requests-oauthlib>=0.7.0->google-auth-oauthlib<2,>=0.5->tensorboard<2.16,>=2.15->tensorflow-intel==2.15.0->tensorflow) (3.2.2)\n"
     ]
    }
   ],
   "source": [
    "!pip install tensorflow yfinance numpy pandas matplotlib scikit-learn statsmodels keras-tuner"
   ]
  },
  {
   "cell_type": "markdown",
   "id": "adbdc783",
   "metadata": {},
   "source": [
    "# Create a function for forecasting\n",
    "This function forecasts the Open, High, Low, or Close prices of a stock using linear regression and exponential smoothing models. It is designed to work modularly for each type of price by accepting two arguments: `stock_data` and `price_type`.\n",
    "\n",
    "### Parameters:\n",
    "- `stock_data`: A DataFrame containing the historical stock data fetched using the `yfinance` library.\n",
    "- `price_type`: A string indicating the type of price to forecast. Valid options are \"Open\", \"High\", \"Low\", and \"Close\".\n",
    "\n",
    "### Workflow:\n",
    "\n",
    "1. **Rolling Averages Calculation:**\n",
    "   - For the specified `price_type`, it calculates the 6-day and 25-day rolling averages and adds them as new columns to the `stock_data` DataFrame.\n",
    "\n",
    "2. **Data Splitting:**\n",
    "   - The data is split into training and test sets based on a predefined split date. The training set is used to fit the models, while the test set is used for forecasting.\n",
    "\n",
    "3. **Linear Regression Model:**\n",
    "   - Prepares training and test data specifically for the linear regression model, focusing on the rolling averages as features.\n",
    "   - Fits the linear regression model on the training data and predicts the specified price type for the test set.\n",
    "\n",
    "4. **Exponential Smoothing Model:**\n",
    "   - Utilizes the Exponential Smoothing model from the `statsmodels` library, configured to account for both trend and seasonality.\n",
    "   - Fits the model on the training data and forecasts the specified price type for the test set.\n",
    "\n",
    "5. **Performance Metrics:**\n",
    "   - Calculates and prints the Mean Absolute Error (MAE), Mean Squared Error (MSE), and Root Mean Squared Error (RMSE) for the exponential smoothing model's forecasts.\n",
    "\n",
    "6. **Visualization:**\n",
    "   - Generates plots to visually compare the actual vs. predicted prices for both the linear regression and exponential smoothing forecasts. This includes the training data, actual test data, and the predictions from both models.\n",
    "\n",
    "### Usage:\n",
    "\n",
    "To forecast different price types (Open, High, Low, Close), call the `forecast_price` function with the `stock_data` DataFrame and the desired `price_type` as arguments. For example:\n",
    "\n"
   ]
  },
  {
   "cell_type": "code",
   "execution_count": 17,
   "id": "df85611b",
   "metadata": {
    "scrolled": false
   },
   "outputs": [],
   "source": [
    "# Import necessary libraries\n",
    "import numpy as np\n",
    "import yfinance as yf\n",
    "import pandas as pd\n",
    "import matplotlib.pyplot as plt\n",
    "from sklearn.linear_model import LinearRegression\n",
    "from sklearn.metrics import mean_squared_error, mean_absolute_error\n",
    "from statsmodels.tsa.holtwinters import ExponentialSmoothing\n",
    "\n",
    "def forecast_price(stock_data, price_type):\n",
    "    # Calculate rolling averages for the specified price type\n",
    "    stock_data[f'6_day_avg_{price_type}'] = stock_data[price_type].rolling(window=6, min_periods=1).mean()\n",
    "    stock_data[f'25_day_avg_{price_type}'] = stock_data[price_type].rolling(window=25, min_periods=1).mean()\n",
    "\n",
    "    # Split the data into training and test sets\n",
    "    split_date = pd.to_datetime('2023-10-01')\n",
    "    train = stock_data[:split_date].copy()  # Explicitly copying here as well if train will be modified\n",
    "    test = stock_data[split_date:].copy()\n",
    "\n",
    "    # Prepare the training and test data\n",
    "    X_train_lr = train[[f'6_day_avg_{price_type}', f'25_day_avg_{price_type}']]\n",
    "    y_train_lr = train[price_type]\n",
    "    X_test_lr = test[[f'6_day_avg_{price_type}', f'25_day_avg_{price_type}']]\n",
    "\n",
    "    # Fit and predict with linear regression\n",
    "    model_lr = LinearRegression()\n",
    "    model_lr.fit(X_train_lr, y_train_lr)\n",
    "    test[f'{price_type}_Predicted_LR'] = model_lr.predict(X_test_lr)\n",
    "\n",
    "    # Fit and forecast with exponential smoothing\n",
    "    es_model = ExponentialSmoothing(train[price_type], trend='add', seasonal='add', seasonal_periods=12)\n",
    "    fit_es_model = es_model.fit()\n",
    "    test[f'{price_type}_Predicted_ES'] = fit_es_model.forecast(len(test))\n",
    "\n",
    "    # Calculate and print performance metrics\n",
    "    mae_es = mean_absolute_error(test[price_type], test[f'{price_type}_Predicted_ES'])\n",
    "    mse_es = mean_squared_error(test[price_type], test[f'{price_type}_Predicted_ES'])\n",
    "    rmse_es = np.sqrt(mse_es)\n",
    "\n",
    "    print(f\"\\n{price_type} - Exponential Smoothing Metrics:\")\n",
    "    print(f\"Mean Absolute Error (MAE): {mae_es:.2f}\")\n",
    "    print(f\"Mean Squared Error (MSE): {mse_es:.2f}\")\n",
    "    print(f\"Root Mean Squared Error (RMSE): {rmse_es:.2f}\")\n",
    "\n",
    "    # Visualization\n",
    "    plt.figure(figsize=(12, 6))\n",
    "    plt.plot(train.index, train[price_type], label='Train Data')\n",
    "    plt.plot(test.index, test[price_type], label=f'Actual Test Data - {price_type}')\n",
    "    plt.plot(test.index, test[f'{price_type}_Predicted_LR'], label=f'Predicted Test Data (LR) - {price_type}', linestyle='--')\n",
    "    plt.plot(test.index, test[f'{price_type}_Predicted_ES'], label=f'Predicted Test Data (ES) - {price_type}', linestyle='-.')\n",
    "    plt.title(f'{price_type} Forecasting')\n",
    "    plt.xlabel('Date')\n",
    "    plt.ylabel(f'{price_type} Price')\n",
    "    plt.legend()\n",
    "    plt.show()\n"
   ]
  },
  {
   "cell_type": "markdown",
   "id": "1c8e7edf",
   "metadata": {},
   "source": [
    "# Forecast OHLC"
   ]
  },
  {
   "cell_type": "code",
   "execution_count": 26,
   "id": "1f955307",
   "metadata": {
    "scrolled": false
   },
   "outputs": [
    {
     "name": "stdout",
     "output_type": "stream",
     "text": [
      "[*********************100%%**********************]  1 of 1 completed\n",
      "\n",
      "Open - Exponential Smoothing Metrics:\n",
      "Mean Absolute Error (MAE): 21.06\n",
      "Mean Squared Error (MSE): 684.61\n",
      "Root Mean Squared Error (RMSE): 26.16\n"
     ]
    },
    {
     "data": {
      "image/png": "[encoded data removed]",
      "text/plain": [
       "<Figure size 1200x600 with 1 Axes>"
      ]
     },
     "metadata": {},
     "output_type": "display_data"
    },
    {
     "name": "stdout",
     "output_type": "stream",
     "text": [
      "\n",
      "High - Exponential Smoothing Metrics:\n",
      "Mean Absolute Error (MAE): 21.93\n",
      "Mean Squared Error (MSE): 752.86\n",
      "Root Mean Squared Error (RMSE): 27.44\n"
     ]
    },
    {
     "data": {
      "image/png": "[encoded data removed]",
      "text/plain": [
       "<Figure size 1200x600 with 1 Axes>"
      ]
     },
     "metadata": {},
     "output_type": "display_data"
    },
    {
     "name": "stdout",
     "output_type": "stream",
     "text": [
      "\n",
      "Low - Exponential Smoothing Metrics:\n",
      "Mean Absolute Error (MAE): 23.77\n",
      "Mean Squared Error (MSE): 874.43\n",
      "Root Mean Squared Error (RMSE): 29.57\n"
     ]
    },
    {
     "data": {
      "image/png": "[encoded data removed]",
      "text/plain": [
       "<Figure size 1200x600 with 1 Axes>"
      ]
     },
     "metadata": {},
     "output_type": "display_data"
    },
    {
     "name": "stdout",
     "output_type": "stream",
     "text": [
      "\n",
      "Close - Exponential Smoothing Metrics:\n",
      "Mean Absolute Error (MAE): 24.21\n",
      "Mean Squared Error (MSE): 911.82\n",
      "Root Mean Squared Error (RMSE): 30.20\n"
     ]
    },
    {
     "data": {
      "image/png": "[encoded data removed]",
      "text/plain": [
       "<Figure size 1200x600 with 1 Axes>"
      ]
     },
     "metadata": {},
     "output_type": "display_data"
    }
   ],
   "source": [
    "# Data Acquisition\n",
    "stock_data = yf.download('SPY', start='2022-01-01', end='2024-01-01')\n",
    "stock_data.sort_index(ascending=True, inplace=True)\n",
    "\n",
    "# Ensure proper DatetimeIndex with frequency for time series analysis\n",
    "stock_data.index = pd.to_datetime(stock_data.index)\n",
    "stock_data = stock_data.asfreq('B', method='ffill')\n",
    "\n",
    "# Forecast for each price type\n",
    "for price_type in ['Open', 'High', 'Low', 'Close']:\n",
    "    forecast_price(stock_data, price_type)"
   ]
  },
  {
   "cell_type": "markdown",
   "id": "413b1491",
   "metadata": {},
   "source": [
    "# Forecasting with LSTM Model & Hyperparameter Tuning\n",
    "\n",
    "This notebook outlines a method for forecasting stock prices using a Long Short-Term Memory (LSTM) neural network, which is a type of recurrent neural network (RNN) suitable for time series prediction. The approach includes preprocessing historical stock data, scaling features, creating input sequences for the LSTM, training the model, and visualizing predictions against actual prices.\n",
    "\n",
    "## Data Acquisition and Preprocessing\n",
    "\n",
    "The `download_stock_data` function retrieves historical stock data for a specified ticker symbol, date range, and frequency using the `yfinance` library. It ensures that there are no gaps in the data by filling missing values for non-trading days.\n",
    "\n",
    "## Feature Scaling\n",
    "\n",
    "To ensure our LSTM model receives data in a scale that neural networks find easy to process, we apply Min-Max Scaling to the input features. The `MinMaxScaler` from the scikit-learn library is used to transform the data so that it fits within a given range, typically [0, 1]. The scaling process is crucial for the convergence of the neural network during training and can significantly impact the model's performance.\n",
    "\n",
    "### `scale_data` Function\n",
    "\n",
    "The `scale_data` function takes a dataset as input and returns a fitted `MinMaxScaler` object along with the scaled dataset. This scaler can later be used to inverse-transform the predictions to their original scale, which is important for interpretability of the results.\n",
    "\n",
    "#### Parameters:\n",
    "- `data`: The input features that we want to scale.\n",
    "\n",
    "#### Returns:\n",
    "- `scaler`: The `MinMaxScaler` instance fit to the input data.\n",
    "- `scaled_data`: The input data transformed to the scale [0, 1].\n",
    "\n",
    "#### Usage:\n",
    "\n",
    "The function is typically called with the feature data as follows:\n",
    "\n",
    "```python\n",
    "scaler, scaled_data = scale_data(stock_data[features].values)\n",
    "```\n",
    "\n",
    "## Sequence Creation for Time Series Forecasting\n",
    "\n",
    "Time series forecasting with LSTM networks requires the input data to be structured as sequences. The `create_sequences` function transforms a time series data array into sequences of a specified length to be used as input for LSTM models.\n",
    "\n",
    "### `create_sequences` Function\n",
    "\n",
    "#### Parameters:\n",
    "- `data`: The array of time series data.\n",
    "- `seq_length`: The length of the look-back period for creating sequences.\n",
    "\n",
    "#### Returns:\n",
    "- `xs`: The input sequences for the model.\n",
    "- `ys`: The target values for each sequence.\n",
    "\n",
    "### LSTM Model Building and Training\n",
    "\n",
    "LSTM (Long Short-Term Memory) networks are a type of recurrent neural network capable of learning order dependence in sequence prediction problems. The `build_and_train_model` function constructs an LSTM model and trains it on the provided training data.\n",
    "\n",
    "#### Parameters:\n",
    "- `X_train`: Input features for training the model.\n",
    "- `y_train`: Target outputs for training the model.\n",
    "- `seq_length`: Number of time steps in each input sequence.\n",
    "- `num_features`: Number of features in the input data.\n",
    "- `epochs`: Number of epochs to train the model.\n",
    "- `batch_size`: Size of batches to use when training the model.\n",
    "\n",
    "#### Returns:\n",
    "- `model`: The trained LSTM model.\n",
    "\n",
    "### Performance Metrics Calculation\n",
    "\n",
    "To evaluate the forecasting model, we calculate various metrics to understand its accuracy and performance. The `calculate_metrics` function computes the Mean Absolute Error (MAE), Mean Squared Error (MSE), and Root Mean Squared Error (RMSE).\n",
    "\n",
    "#### Parameters:\n",
    "- `y_true`: The actual observed values.\n",
    "- `y_pred`: The predicted values by the model.\n",
    "\n",
    "#### Returns:\n",
    "- `mae`: Mean Absolute Error.\n",
    "- `mse`: Mean Squared Error.\n",
    "- `rmse`: Root Mean Squared Error.\n",
    "\n",
    "### Forecast Visualization\n",
    "\n",
    "Visual representation of forecasts can help in understanding how well the model predictions align with the actual data. The `plot_forecasts` function generates interactive plots using Plotly to compare the actual and predicted values.\n",
    "\n",
    "#### Parameters:\n",
    "- `stock_data`: Original DataFrame containing the stock price data.\n",
    "- `predicted_values`: Predicted values from the model.\n",
    "- `y_test`: Actual values corresponding to the predictions.\n",
    "- `seq_length`: Length of the input sequences.\n",
    "- `split_idx`: Index to split the data into training and test sets.\n",
    "- `scaler`: The MinMaxScaler used to scale the data.\n",
    "\n",
    "#### Visualization:\n",
    "- The function creates a line plot for each stock price feature, displaying both actual and predicted values.\n",
    "\n",
    "### Full Forecasting and Plotting Workflow\n",
    "\n",
    "The `forecast_and_plot` function brings together all the steps required for forecasting stock prices using the LSTM model, from data scaling and sequence creation to model training and visualization of predictions.\n",
    "\n",
    "#### Parameters:\n",
    "- `stock_data`: DataFrame containing historical stock data.\n",
    "- `features`: List of features to use for forecasting.\n",
    "- `seq_length`: Length of the input sequences for the LSTM model.\n",
    "\n",
    "#### Execution Workflow:\n",
    "- The function first scales the data, creates sequences, and splits the data into training and test sets.\n",
    "- It then builds, trains, and evaluates the LSTM model.\n",
    "- Finally, it visualizes the forecasts alongside the actual data for comparison.\n",
    "\n"
   ]
  },
  {
   "cell_type": "code",
   "execution_count": 18,
   "id": "61ab5ef9",
   "metadata": {
    "scrolled": false
   },
   "outputs": [
    {
     "name": "stdout",
     "output_type": "stream",
     "text": [
      "[*********************100%%**********************]  1 of 1 completed\n",
      "4/4 [==============================] - 0s 3ms/step\n",
      "MAE: 3.531090463910786, MSE: 21.281319858086416, RMSE: 4.61316809341329\n"
     ]
    },
    {
     "data": {
      "application/vnd.plotly.v1+json": {
       "config": {
        "plotlyServerURL": "https://plot.ly"
       },
       "data": [
        {
         "mode": "lines",
         "name": "Actual Open",
         "type": "scatter",
         "x": [
          "2023-10-05T00:00:00",
          "2023-10-06T00:00:00",
          "2023-10-09T00:00:00",
          "2023-10-10T00:00:00",
          "2023-10-11T00:00:00",
          "2023-10-12T00:00:00",
          "2023-10-13T00:00:00",
          "2023-10-16T00:00:00",
          "2023-10-17T00:00:00",
          "2023-10-18T00:00:00",
          "2023-10-19T00:00:00",
          "2023-10-20T00:00:00",
          "2023-10-23T00:00:00",
          "2023-10-24T00:00:00",
          "2023-10-25T00:00:00",
          "2023-10-26T00:00:00",
          "2023-10-27T00:00:00",
          "2023-10-30T00:00:00",
          "2023-10-31T00:00:00",
          "2023-11-01T00:00:00",
          "2023-11-02T00:00:00",
          "2023-11-03T00:00:00",
          "2023-11-06T00:00:00",
          "2023-11-07T00:00:00",
          "2023-11-08T00:00:00",
          "2023-11-09T00:00:00",
          "2023-11-10T00:00:00",
          "2023-11-13T00:00:00",
          "2023-11-14T00:00:00",
          "2023-11-15T00:00:00",
          "2023-11-16T00:00:00",
          "2023-11-17T00:00:00",
          "2023-11-20T00:00:00",
          "2023-11-21T00:00:00",
          "2023-11-22T00:00:00",
          "2023-11-23T00:00:00",
          "2023-11-24T00:00:00",
          "2023-11-27T00:00:00",
          "2023-11-28T00:00:00",
          "2023-11-29T00:00:00",
          "2023-11-30T00:00:00",
          "2023-12-01T00:00:00",
          "2023-12-04T00:00:00",
          "2023-12-05T00:00:00",
          "2023-12-06T00:00:00",
          "2023-12-07T00:00:00",
          "2023-12-08T00:00:00",
          "2023-12-11T00:00:00",
          "2023-12-12T00:00:00",
          "2023-12-13T00:00:00",
          "2023-12-14T00:00:00",
          "2023-12-15T00:00:00",
          "2023-12-18T00:00:00",
          "2023-12-19T00:00:00",
          "2023-12-20T00:00:00",
          "2023-12-21T00:00:00",
          "2023-12-22T00:00:00",
          "2023-12-25T00:00:00",
          "2023-12-26T00:00:00",
          "2023-12-27T00:00:00",
          "2023-12-28T00:00:00",
          "2023-12-29T00:00:00",
          "2024-01-01T00:00:00",
          "2024-01-02T00:00:00",
          "2024-01-03T00:00:00",
          "2024-01-04T00:00:00",
          "2024-01-05T00:00:00",
          "2024-01-08T00:00:00",
          "2024-01-09T00:00:00",
          "2024-01-10T00:00:00",
          "2024-01-11T00:00:00",
          "2024-01-12T00:00:00",
          "2024-01-15T00:00:00",
          "2024-01-16T00:00:00",
          "2024-01-17T00:00:00",
          "2024-01-18T00:00:00",
          "2024-01-19T00:00:00",
          "2024-01-22T00:00:00",
          "2024-01-23T00:00:00",
          "2024-01-24T00:00:00",
          "2024-01-25T00:00:00",
          "2024-01-26T00:00:00",
          "2024-01-29T00:00:00",
          "2024-01-30T00:00:00",
          "2024-01-31T00:00:00",
          "2024-02-01T00:00:00",
          "2024-02-02T00:00:00",
          "2024-02-05T00:00:00",
          "2024-02-06T00:00:00",
          "2024-02-07T00:00:00",
          "2024-02-08T00:00:00",
          "2024-02-09T00:00:00",
          "2024-02-12T00:00:00",
          "2024-02-13T00:00:00",
          "2024-02-14T00:00:00",
          "2024-02-15T00:00:00",
          "2024-02-16T00:00:00",
          "2024-02-19T00:00:00",
          "2024-02-20T00:00:00",
          "2024-02-21T00:00:00",
          "2024-02-22T00:00:00",
          "2024-02-23T00:00:00",
          "2024-02-26T00:00:00",
          "2024-02-27T00:00:00",
          "2024-02-28T00:00:00",
          "2024-02-29T00:00:00",
          "2024-03-01T00:00:00",
          "2024-03-04T00:00:00",
          "2024-03-05T00:00:00",
          "2024-03-06T00:00:00",
          "2024-03-07T00:00:00",
          "2024-03-08T00:00:00"
         ],
         "xaxis": "x",
         "y": [
          424.3599853515625,
          421.9700012207031,
          427.57998657226557,
          432.94000244140625,
          435.6400146484375,
          436.9500122070313,
          435.2099914550781,
          433.82000732421875,
          432.80999755859375,
          434.19000244140625,
          430.9500122070312,
          425.9800109863281,
          419.6099853515625,
          422.6499938964844,
          421.89001464843744,
          416.4500122070312,
          414.19000244140625,
          413.55999755859375,
          416.17999267578125,
          419.2000122070312,
          426.5799865722656,
          433.1400146484375,
          435.4700012207031,
          435.6900024414063,
          437.5499877929687,
          438.42999267578125,
          435.9800109863281,
          439.2300109863281,
          446.3200073242188,
          450.1099853515625,
          449.2200012207031,
          450.239990234375,
          450.5299987792969,
          453.17999267578125,
          454.9800109863281,
          454.9800109863281,
          455.0700073242188,
          454.6499938964844,
          454.0799865722656,
          457.1499938964844,
          455.48001098632807,
          455.7699890136719,
          455.6000061035156,
          455.260009765625,
          458.80999755859375,
          456.91000366210943,
          457.4599914550781,
          459.69000244140625,
          461.6300048828125,
          464.489990234375,
          472.5,
          469.489990234375,
          470.9800109863281,
          472.5299987792969,
          473.9599914550781,
          471.3299865722656,
          473.8599853515625,
          473.8599853515625,
          474.07000732421875,
          475.4400024414062,
          476.8800048828125,
          476.489990234375,
          476.489990234375,
          472.1600036621094,
          470.42999267578125,
          468.29998779296875,
          467.489990234375,
          468.4299926757812,
          471.8699951171875,
          474.16000366210943,
          477.5899963378906,
          477.83999633789057,
          477.83999633789057,
          475.260009765625,
          471.8200073242187,
          474.010009765625,
          477.6499938964844,
          484.010009765625,
          484.010009765625,
          487.8099975585937,
          487.5799865722656,
          487.5899963378906,
          487.7300109863281,
          490.5599975585937,
          488.61999511718756,
          484.6300048828125,
          489.6499938964843,
          493.70001220703125,
          493.5199890136718,
          496.2900085449218,
          498.1000061035156,
          498.8399963378906,
          501.1700134277343,
          494.5299987792969,
          496.7900085449219,
          499.29000854492193,
          501.70001220703125,
          501.70001220703125,
          497.7200012207032,
          495.4200134277343,
          504.010009765625,
          509.2699890136719,
          508.29998779296875,
          506.70001220703125,
          505.32998657226557,
          508.07000732421875,
          508.9800109863281,
          512.030029296875,
          510.239990234375,
          510.54998779296875,
          513.1400146484375,
          515.4600219726562
         ],
         "yaxis": "y"
        },
        {
         "line": {
          "dash": "dash"
         },
         "mode": "lines",
         "name": "Predicted Open",
         "type": "scatter",
         "x": [
          "2023-10-05T00:00:00",
          "2023-10-06T00:00:00",
          "2023-10-09T00:00:00",
          "2023-10-10T00:00:00",
          "2023-10-11T00:00:00",
          "2023-10-12T00:00:00",
          "2023-10-13T00:00:00",
          "2023-10-16T00:00:00",
          "2023-10-17T00:00:00",
          "2023-10-18T00:00:00",
          "2023-10-19T00:00:00",
          "2023-10-20T00:00:00",
          "2023-10-23T00:00:00",
          "2023-10-24T00:00:00",
          "2023-10-25T00:00:00",
          "2023-10-26T00:00:00",
          "2023-10-27T00:00:00",
          "2023-10-30T00:00:00",
          "2023-10-31T00:00:00",
          "2023-11-01T00:00:00",
          "2023-11-02T00:00:00",
          "2023-11-03T00:00:00",
          "2023-11-06T00:00:00",
          "2023-11-07T00:00:00",
          "2023-11-08T00:00:00",
          "2023-11-09T00:00:00",
          "2023-11-10T00:00:00",
          "2023-11-13T00:00:00",
          "2023-11-14T00:00:00",
          "2023-11-15T00:00:00",
          "2023-11-16T00:00:00",
          "2023-11-17T00:00:00",
          "2023-11-20T00:00:00",
          "2023-11-21T00:00:00",
          "2023-11-22T00:00:00",
          "2023-11-23T00:00:00",
          "2023-11-24T00:00:00",
          "2023-11-27T00:00:00",
          "2023-11-28T00:00:00",
          "2023-11-29T00:00:00",
          "2023-11-30T00:00:00",
          "2023-12-01T00:00:00",
          "2023-12-04T00:00:00",
          "2023-12-05T00:00:00",
          "2023-12-06T00:00:00",
          "2023-12-07T00:00:00",
          "2023-12-08T00:00:00",
          "2023-12-11T00:00:00",
          "2023-12-12T00:00:00",
          "2023-12-13T00:00:00",
          "2023-12-14T00:00:00",
          "2023-12-15T00:00:00",
          "2023-12-18T00:00:00",
          "2023-12-19T00:00:00",
          "2023-12-20T00:00:00",
          "2023-12-21T00:00:00",
          "2023-12-22T00:00:00",
          "2023-12-25T00:00:00",
          "2023-12-26T00:00:00",
          "2023-12-27T00:00:00",
          "2023-12-28T00:00:00",
          "2023-12-29T00:00:00",
          "2024-01-01T00:00:00",
          "2024-01-02T00:00:00",
          "2024-01-03T00:00:00",
          "2024-01-04T00:00:00",
          "2024-01-05T00:00:00",
          "2024-01-08T00:00:00",
          "2024-01-09T00:00:00",
          "2024-01-10T00:00:00",
          "2024-01-11T00:00:00",
          "2024-01-12T00:00:00",
          "2024-01-15T00:00:00",
          "2024-01-16T00:00:00",
          "2024-01-17T00:00:00",
          "2024-01-18T00:00:00",
          "2024-01-19T00:00:00",
          "2024-01-22T00:00:00",
          "2024-01-23T00:00:00",
          "2024-01-24T00:00:00",
          "2024-01-25T00:00:00",
          "2024-01-26T00:00:00",
          "2024-01-29T00:00:00",
          "2024-01-30T00:00:00",
          "2024-01-31T00:00:00",
          "2024-02-01T00:00:00",
          "2024-02-02T00:00:00",
          "2024-02-05T00:00:00",
          "2024-02-06T00:00:00",
          "2024-02-07T00:00:00",
          "2024-02-08T00:00:00",
          "2024-02-09T00:00:00",
          "2024-02-12T00:00:00",
          "2024-02-13T00:00:00",
          "2024-02-14T00:00:00",
          "2024-02-15T00:00:00",
          "2024-02-16T00:00:00",
          "2024-02-19T00:00:00",
          "2024-02-20T00:00:00",
          "2024-02-21T00:00:00",
          "2024-02-22T00:00:00",
          "2024-02-23T00:00:00",
          "2024-02-26T00:00:00",
          "2024-02-27T00:00:00",
          "2024-02-28T00:00:00",
          "2024-02-29T00:00:00",
          "2024-03-01T00:00:00",
          "2024-03-04T00:00:00",
          "2024-03-05T00:00:00",
          "2024-03-06T00:00:00",
          "2024-03-07T00:00:00",
          "2024-03-08T00:00:00"
         ],
         "xaxis": "x",
         "y": [
          426.3945007324219,
          425.3576965332031,
          426.17877197265625,
          429.0298767089844,
          433.1241760253906,
          435.62725830078125,
          436.2164611816406,
          435.53851318359375,
          436.0058288574219,
          436.8572082519531,
          435.79052734375,
          433.3974914550781,
          429.316162109375,
          424.5704040527344,
          422.5547790527344,
          421.44097900390625,
          419.5506591796875,
          416.25860595703125,
          414.70489501953125,
          415.8620300292969,
          419.5929870605469,
          425.50128173828125,
          428.79266357421875,
          431.0352783203125,
          432.6459045410156,
          434.56085205078125,
          435.9665222167969,
          437.6932373046875,
          440.06292724609375,
          445.0594177246094,
          449.13677978515625,
          451.0220031738281,
          452.1908874511719,
          453.67950439453125,
          455.15277099609375,
          457.0056457519531,
          458.1161193847656,
          458.66192626953125,
          458.5354919433594,
          458.0009765625,
          458.3041076660156,
          458.5350036621094,
          459.2169189453125,
          459.541259765625,
          459.019287109375,
          459.0954895019531,
          459.899658203125,
          461.0821228027344,
          462.99676513671875,
          465.1861572265625,
          468.7652282714844,
          473.4228515625,
          474.06591796875,
          475.1640625,
          477.2938232421875,
          476.3934631347656,
          475.04632568359375,
          475.3147888183594,
          476.17791748046875,
          477.29034423828125,
          478.5717468261719,
          479.85821533203125,
          479.38336181640625,
          478.2041320800781,
          475.3726806640625,
          471.2515869140625,
          468.13531494140625,
          466.6546936035156,
          468.5013122558594,
          472.20941162109375,
          476.2672119140625,
          478.9337158203125,
          480.43414306640625,
          481.0335388183594,
          479.36517333984375,
          475.47882080078125,
          474.3092346191406,
          477.98779296875,
          484.37158203125,
          488.66033935546875,
          491.26129150390625,
          492.6003112792969,
          492.57080078125,
          493.0356140136719,
          493.9197692871094,
          490.33905029296875,
          486.664306640625,
          488.7090759277344,
          492.48406982421875,
          495.0043029785156,
          498.1916198730469,
          500.8253173828125,
          502.9425964355469,
          504.4271240234375,
          498.6844177246094,
          494.3746032714844,
          495.9103698730469,
          498.37738037109375,
          499.49566650390625,
          496.3207092285156,
          492.41424560546875,
          497.9678955078125,
          506.75299072265625,
          510.5510559082031,
          509.0231628417969,
          506.0301513671875,
          505.3418273925781,
          507.60589599609375,
          510.63568115234375,
          507.804443359375,
          505.13458251953125,
          507.06536865234375
         ],
         "yaxis": "y"
        },
        {
         "mode": "lines",
         "name": "Actual High",
         "type": "scatter",
         "x": [
          "2023-10-05T00:00:00",
          "2023-10-06T00:00:00",
          "2023-10-09T00:00:00",
          "2023-10-10T00:00:00",
          "2023-10-11T00:00:00",
          "2023-10-12T00:00:00",
          "2023-10-13T00:00:00",
          "2023-10-16T00:00:00",
          "2023-10-17T00:00:00",
          "2023-10-18T00:00:00",
          "2023-10-19T00:00:00",
          "2023-10-20T00:00:00",
          "2023-10-23T00:00:00",
          "2023-10-24T00:00:00",
          "2023-10-25T00:00:00",
          "2023-10-26T00:00:00",
          "2023-10-27T00:00:00",
          "2023-10-30T00:00:00",
          "2023-10-31T00:00:00",
          "2023-11-01T00:00:00",
          "2023-11-02T00:00:00",
          "2023-11-03T00:00:00",
          "2023-11-06T00:00:00",
          "2023-11-07T00:00:00",
          "2023-11-08T00:00:00",
          "2023-11-09T00:00:00",
          "2023-11-10T00:00:00",
          "2023-11-13T00:00:00",
          "2023-11-14T00:00:00",
          "2023-11-15T00:00:00",
          "2023-11-16T00:00:00",
          "2023-11-17T00:00:00",
          "2023-11-20T00:00:00",
          "2023-11-21T00:00:00",
          "2023-11-22T00:00:00",
          "2023-11-23T00:00:00",
          "2023-11-24T00:00:00",
          "2023-11-27T00:00:00",
          "2023-11-28T00:00:00",
          "2023-11-29T00:00:00",
          "2023-11-30T00:00:00",
          "2023-12-01T00:00:00",
          "2023-12-04T00:00:00",
          "2023-12-05T00:00:00",
          "2023-12-06T00:00:00",
          "2023-12-07T00:00:00",
          "2023-12-08T00:00:00",
          "2023-12-11T00:00:00",
          "2023-12-12T00:00:00",
          "2023-12-13T00:00:00",
          "2023-12-14T00:00:00",
          "2023-12-15T00:00:00",
          "2023-12-18T00:00:00",
          "2023-12-19T00:00:00",
          "2023-12-20T00:00:00",
          "2023-12-21T00:00:00",
          "2023-12-22T00:00:00",
          "2023-12-25T00:00:00",
          "2023-12-26T00:00:00",
          "2023-12-27T00:00:00",
          "2023-12-28T00:00:00",
          "2023-12-29T00:00:00",
          "2024-01-01T00:00:00",
          "2024-01-02T00:00:00",
          "2024-01-03T00:00:00",
          "2024-01-04T00:00:00",
          "2024-01-05T00:00:00",
          "2024-01-08T00:00:00",
          "2024-01-09T00:00:00",
          "2024-01-10T00:00:00",
          "2024-01-11T00:00:00",
          "2024-01-12T00:00:00",
          "2024-01-15T00:00:00",
          "2024-01-16T00:00:00",
          "2024-01-17T00:00:00",
          "2024-01-18T00:00:00",
          "2024-01-19T00:00:00",
          "2024-01-22T00:00:00",
          "2024-01-23T00:00:00",
          "2024-01-24T00:00:00",
          "2024-01-25T00:00:00",
          "2024-01-26T00:00:00",
          "2024-01-29T00:00:00",
          "2024-01-30T00:00:00",
          "2024-01-31T00:00:00",
          "2024-02-01T00:00:00",
          "2024-02-02T00:00:00",
          "2024-02-05T00:00:00",
          "2024-02-06T00:00:00",
          "2024-02-07T00:00:00",
          "2024-02-08T00:00:00",
          "2024-02-09T00:00:00",
          "2024-02-12T00:00:00",
          "2024-02-13T00:00:00",
          "2024-02-14T00:00:00",
          "2024-02-15T00:00:00",
          "2024-02-16T00:00:00",
          "2024-02-19T00:00:00",
          "2024-02-20T00:00:00",
          "2024-02-21T00:00:00",
          "2024-02-22T00:00:00",
          "2024-02-23T00:00:00",
          "2024-02-26T00:00:00",
          "2024-02-27T00:00:00",
          "2024-02-28T00:00:00",
          "2024-02-29T00:00:00",
          "2024-03-01T00:00:00",
          "2024-03-04T00:00:00",
          "2024-03-05T00:00:00",
          "2024-03-06T00:00:00",
          "2024-03-07T00:00:00",
          "2024-03-08T00:00:00"
         ],
         "xaxis": "x2",
         "y": [
          425.3699951171875,
          431.1300048828125,
          432.8800048828125,
          437.2200012207031,
          436.5799865722656,
          437.3399963378906,
          436.4500122070313,
          437.1400146484375,
          438.14001464843744,
          435.1799926757812,
          432.82000732421875,
          426.5400085449219,
          424.4500122070312,
          424.82000732421875,
          421.9200134277344,
          417.3299865722656,
          414.6000061035156,
          416.67999267578125,
          418.5299987792969,
          423.5,
          430.9200134277344,
          436.2900085449219,
          436.1499938964844,
          437.5899963378906,
          438.0899963378907,
          438.4700012207031,
          440.9299926757813,
          441.3299865722656,
          450.0599975585938,
          451.3800048828125,
          450.55999755859375,
          451.4200134277344,
          455.1300048828125,
          454.13000488281256,
          456.38000488281256,
          456.38000488281256,
          455.5,
          455.489990234375,
          456.2699890136718,
          458.32000732421875,
          456.760009765625,
          459.6499938964844,
          459.11999511718744,
          457.5899963378906,
          458.8399963378906,
          458.8999938964844,
          460.75,
          462.17001342773443,
          464.20001220703125,
          470.760009765625,
          473.7300109863281,
          470.7000122070313,
          472.9800109863282,
          474.9200134277344,
          475.8999938964844,
          472.9800109863282,
          475.3800048828125,
          475.3800048828125,
          476.5799865722656,
          476.6600036621094,
          477.54998779296875,
          477.0299987792969,
          477.0299987792969,
          473.6700134277344,
          471.1900024414062,
          470.9599914550781,
          470.44000244140625,
          474.75,
          474.92999267578125,
          477.45001220703125,
          478.1199951171875,
          478.60000610351557,
          478.60000610351557,
          476.6099853515625,
          472.7900085449219,
          477.05999755859375,
          482.7200012207031,
          485.2200012207031,
          485.1099853515625,
          488.7699890136718,
          488.3099975585938,
          489.1199951171875,
          491.4200134277344,
          491.6199951171875,
          489.0799865722656,
          489.2300109863281,
          496.04998779296875,
          494.3800048828125,
          494.32000732421875,
          498.5299987792968,
          498.7099914550781,
          501.6499938964844,
          503.5,
          497.0899963378906,
          499.07000732421875,
          502.20001220703125,
          502.8699951171875,
          502.8699951171875,
          498.4100036621094,
          497.36999511718744,
          508.489990234375,
          510.1300048828125,
          508.75,
          507.1600036621093,
          506.8599853515625,
          509.739990234375,
          513.2899780273438,
          514.2000122070312,
          510.70001220703125,
          512.0700073242188,
          515.8900146484375,
          518.219970703125
         ],
         "yaxis": "y2"
        },
        {
         "line": {
          "dash": "dash"
         },
         "mode": "lines",
         "name": "Predicted High",
         "type": "scatter",
         "x": [
          "2023-10-05T00:00:00",
          "2023-10-06T00:00:00",
          "2023-10-09T00:00:00",
          "2023-10-10T00:00:00",
          "2023-10-11T00:00:00",
          "2023-10-12T00:00:00",
          "2023-10-13T00:00:00",
          "2023-10-16T00:00:00",
          "2023-10-17T00:00:00",
          "2023-10-18T00:00:00",
          "2023-10-19T00:00:00",
          "2023-10-20T00:00:00",
          "2023-10-23T00:00:00",
          "2023-10-24T00:00:00",
          "2023-10-25T00:00:00",
          "2023-10-26T00:00:00",
          "2023-10-27T00:00:00",
          "2023-10-30T00:00:00",
          "2023-10-31T00:00:00",
          "2023-11-01T00:00:00",
          "2023-11-02T00:00:00",
          "2023-11-03T00:00:00",
          "2023-11-06T00:00:00",
          "2023-11-07T00:00:00",
          "2023-11-08T00:00:00",
          "2023-11-09T00:00:00",
          "2023-11-10T00:00:00",
          "2023-11-13T00:00:00",
          "2023-11-14T00:00:00",
          "2023-11-15T00:00:00",
          "2023-11-16T00:00:00",
          "2023-11-17T00:00:00",
          "2023-11-20T00:00:00",
          "2023-11-21T00:00:00",
          "2023-11-22T00:00:00",
          "2023-11-23T00:00:00",
          "2023-11-24T00:00:00",
          "2023-11-27T00:00:00",
          "2023-11-28T00:00:00",
          "2023-11-29T00:00:00",
          "2023-11-30T00:00:00",
          "2023-12-01T00:00:00",
          "2023-12-04T00:00:00",
          "2023-12-05T00:00:00",
          "2023-12-06T00:00:00",
          "2023-12-07T00:00:00",
          "2023-12-08T00:00:00",
          "2023-12-11T00:00:00",
          "2023-12-12T00:00:00",
          "2023-12-13T00:00:00",
          "2023-12-14T00:00:00",
          "2023-12-15T00:00:00",
          "2023-12-18T00:00:00",
          "2023-12-19T00:00:00",
          "2023-12-20T00:00:00",
          "2023-12-21T00:00:00",
          "2023-12-22T00:00:00",
          "2023-12-25T00:00:00",
          "2023-12-26T00:00:00",
          "2023-12-27T00:00:00",
          "2023-12-28T00:00:00",
          "2023-12-29T00:00:00",
          "2024-01-01T00:00:00",
          "2024-01-02T00:00:00",
          "2024-01-03T00:00:00",
          "2024-01-04T00:00:00",
          "2024-01-05T00:00:00",
          "2024-01-08T00:00:00",
          "2024-01-09T00:00:00",
          "2024-01-10T00:00:00",
          "2024-01-11T00:00:00",
          "2024-01-12T00:00:00",
          "2024-01-15T00:00:00",
          "2024-01-16T00:00:00",
          "2024-01-17T00:00:00",
          "2024-01-18T00:00:00",
          "2024-01-19T00:00:00",
          "2024-01-22T00:00:00",
          "2024-01-23T00:00:00",
          "2024-01-24T00:00:00",
          "2024-01-25T00:00:00",
          "2024-01-26T00:00:00",
          "2024-01-29T00:00:00",
          "2024-01-30T00:00:00",
          "2024-01-31T00:00:00",
          "2024-02-01T00:00:00",
          "2024-02-02T00:00:00",
          "2024-02-05T00:00:00",
          "2024-02-06T00:00:00",
          "2024-02-07T00:00:00",
          "2024-02-08T00:00:00",
          "2024-02-09T00:00:00",
          "2024-02-12T00:00:00",
          "2024-02-13T00:00:00",
          "2024-02-14T00:00:00",
          "2024-02-15T00:00:00",
          "2024-02-16T00:00:00",
          "2024-02-19T00:00:00",
          "2024-02-20T00:00:00",
          "2024-02-21T00:00:00",
          "2024-02-22T00:00:00",
          "2024-02-23T00:00:00",
          "2024-02-26T00:00:00",
          "2024-02-27T00:00:00",
          "2024-02-28T00:00:00",
          "2024-02-29T00:00:00",
          "2024-03-01T00:00:00",
          "2024-03-04T00:00:00",
          "2024-03-05T00:00:00",
          "2024-03-06T00:00:00",
          "2024-03-07T00:00:00",
          "2024-03-08T00:00:00"
         ],
         "xaxis": "x2",
         "y": [
          427.504638671875,
          426.6785583496094,
          427.4520263671875,
          430.0245666503906,
          433.73199462890625,
          436.1191711425781,
          436.7981872558594,
          436.3662109375,
          436.95953369140625,
          437.7396240234375,
          436.6860046386719,
          434.4128112792969,
          430.5449523925781,
          426.231689453125,
          424.50341796875,
          423.2060546875,
          421.06768798828125,
          417.94415283203125,
          416.6031494140625,
          417.5768127441406,
          420.8074645996094,
          426.10479736328125,
          429.4841613769531,
          431.9130859375,
          433.8117370605469,
          435.834228515625,
          437.1560974121094,
          438.8204345703125,
          440.93914794921875,
          445.6007385253906,
          449.3570861816406,
          451.1581726074219,
          452.4562683105469,
          454.0736083984375,
          455.5120849609375,
          457.2981262207031,
          458.34442138671875,
          458.842041015625,
          458.7392272949219,
          458.3628234863281,
          458.73797607421875,
          458.91680908203125,
          459.68084716796875,
          459.8981018066406,
          459.5053405761719,
          459.6036376953125,
          460.3678283691406,
          461.4853515625,
          463.2483215332031,
          465.25201416015625,
          468.74298095703125,
          473.1358947753906,
          473.8067932128906,
          475.1048583984375,
          477.246337890625,
          476.4812316894531,
          475.5648498535156,
          476.06884765625,
          476.7577209472656,
          477.81549072265625,
          478.9391784667969,
          480.1384582519531,
          479.6808776855469,
          478.8362121582031,
          476.2906188964844,
          472.77178955078125,
          470.06048583984375,
          468.724853515625,
          470.4672546386719,
          473.43804931640625,
          476.8699645996094,
          479.0580749511719,
          480.5067443847656,
          481.1681213378906,
          479.7929992675781,
          476.4695739746094,
          475.9259338378906,
          479.4051513671875,
          484.83905029296875,
          488.2867736816406,
          490.80267333984375,
          492.2236328125,
          492.5577392578125,
          493.4247131347656,
          494.5029602050781,
          491.1203918457031,
          488.54852294921875,
          490.9892883300781,
          493.9738464355469,
          496.0292663574219,
          499.1394348144531,
          501.4685363769531,
          503.6187744140625,
          505.1680908203125,
          499.8241882324219,
          497.2347717285156,
          499.09381103515625,
          500.9171447753906,
          501.6798095703125,
          498.5823974609375,
          495.4902038574219,
          501.5821533203125,
          508.7584228515625,
          511.279541015625,
          510.1801452636719,
          508.0028991699219,
          507.938232421875,
          510.4251403808594,
          513.13232421875,
          510.1178283691406,
          508.6108093261719,
          510.8823547363281
         ],
         "yaxis": "y2"
        },
        {
         "mode": "lines",
         "name": "Actual Low",
         "type": "scatter",
         "x": [
          "2023-10-05T00:00:00",
          "2023-10-06T00:00:00",
          "2023-10-09T00:00:00",
          "2023-10-10T00:00:00",
          "2023-10-11T00:00:00",
          "2023-10-12T00:00:00",
          "2023-10-13T00:00:00",
          "2023-10-16T00:00:00",
          "2023-10-17T00:00:00",
          "2023-10-18T00:00:00",
          "2023-10-19T00:00:00",
          "2023-10-20T00:00:00",
          "2023-10-23T00:00:00",
          "2023-10-24T00:00:00",
          "2023-10-25T00:00:00",
          "2023-10-26T00:00:00",
          "2023-10-27T00:00:00",
          "2023-10-30T00:00:00",
          "2023-10-31T00:00:00",
          "2023-11-01T00:00:00",
          "2023-11-02T00:00:00",
          "2023-11-03T00:00:00",
          "2023-11-06T00:00:00",
          "2023-11-07T00:00:00",
          "2023-11-08T00:00:00",
          "2023-11-09T00:00:00",
          "2023-11-10T00:00:00",
          "2023-11-13T00:00:00",
          "2023-11-14T00:00:00",
          "2023-11-15T00:00:00",
          "2023-11-16T00:00:00",
          "2023-11-17T00:00:00",
          "2023-11-20T00:00:00",
          "2023-11-21T00:00:00",
          "2023-11-22T00:00:00",
          "2023-11-23T00:00:00",
          "2023-11-24T00:00:00",
          "2023-11-27T00:00:00",
          "2023-11-28T00:00:00",
          "2023-11-29T00:00:00",
          "2023-11-30T00:00:00",
          "2023-12-01T00:00:00",
          "2023-12-04T00:00:00",
          "2023-12-05T00:00:00",
          "2023-12-06T00:00:00",
          "2023-12-07T00:00:00",
          "2023-12-08T00:00:00",
          "2023-12-11T00:00:00",
          "2023-12-12T00:00:00",
          "2023-12-13T00:00:00",
          "2023-12-14T00:00:00",
          "2023-12-15T00:00:00",
          "2023-12-18T00:00:00",
          "2023-12-19T00:00:00",
          "2023-12-20T00:00:00",
          "2023-12-21T00:00:00",
          "2023-12-22T00:00:00",
          "2023-12-25T00:00:00",
          "2023-12-26T00:00:00",
          "2023-12-27T00:00:00",
          "2023-12-28T00:00:00",
          "2023-12-29T00:00:00",
          "2024-01-01T00:00:00",
          "2024-01-02T00:00:00",
          "2024-01-03T00:00:00",
          "2024-01-04T00:00:00",
          "2024-01-05T00:00:00",
          "2024-01-08T00:00:00",
          "2024-01-09T00:00:00",
          "2024-01-10T00:00:00",
          "2024-01-11T00:00:00",
          "2024-01-12T00:00:00",
          "2024-01-15T00:00:00",
          "2024-01-16T00:00:00",
          "2024-01-17T00:00:00",
          "2024-01-18T00:00:00",
          "2024-01-19T00:00:00",
          "2024-01-22T00:00:00",
          "2024-01-23T00:00:00",
          "2024-01-24T00:00:00",
          "2024-01-25T00:00:00",
          "2024-01-26T00:00:00",
          "2024-01-29T00:00:00",
          "2024-01-30T00:00:00",
          "2024-01-31T00:00:00",
          "2024-02-01T00:00:00",
          "2024-02-02T00:00:00",
          "2024-02-05T00:00:00",
          "2024-02-06T00:00:00",
          "2024-02-07T00:00:00",
          "2024-02-08T00:00:00",
          "2024-02-09T00:00:00",
          "2024-02-12T00:00:00",
          "2024-02-13T00:00:00",
          "2024-02-14T00:00:00",
          "2024-02-15T00:00:00",
          "2024-02-16T00:00:00",
          "2024-02-19T00:00:00",
          "2024-02-20T00:00:00",
          "2024-02-21T00:00:00",
          "2024-02-22T00:00:00",
          "2024-02-23T00:00:00",
          "2024-02-26T00:00:00",
          "2024-02-27T00:00:00",
          "2024-02-28T00:00:00",
          "2024-02-29T00:00:00",
          "2024-03-01T00:00:00",
          "2024-03-04T00:00:00",
          "2024-03-05T00:00:00",
          "2024-03-06T00:00:00",
          "2024-03-07T00:00:00",
          "2024-03-08T00:00:00"
         ],
         "xaxis": "x3",
         "y": [
          421.1700134277344,
          420.6000061035156,
          427.010009765625,
          432.5299987792968,
          433.17999267578125,
          431.2300109863281,
          429.8800048828125,
          433.5700073242187,
          432.45001220703125,
          429.08999633789057,
          425.7300109863281,
          421.0799865722656,
          417.79998779296875,
          420.739990234375,
          417.0199890136719,
          411.60000610351557,
          409.2099914550781,
          412.2200012207031,
          414.2099914550781,
          418.64999389648443,
          426.5599975585938,
          433.01000976562494,
          433.67999267578125,
          434.510009765625,
          434.8699951171875,
          433.3999938964844,
          433.8299865722656,
          438.4200134277344,
          446.0899963378906,
          448.79998779296875,
          448.1199951171875,
          449.2900085449219,
          450.5199890136719,
          451.95999145507807,
          453.8900146484375,
          453.8900146484375,
          454.7300109863281,
          454.0799865722656,
          453.5,
          454.20001220703125,
          453.3399963378907,
          455.1600036621094,
          454.3399963378906,
          454.8699951171875,
          454.30999755859375,
          456.2900085449219,
          457.2099914550781,
          459.4700012207031,
          460.6000061035156,
          464.1199951171875,
          469.25000000000006,
          467.42999267578125,
          469.8900146484375,
          472.45001220703125,
          467.82000732421875,
          468.8399963378906,
          471.70001220703125,
          471.70001220703125,
          473.989990234375,
          474.89001464843756,
          476.26000976562494,
          473.29998779296875,
          473.29998779296875,
          470.48999023437506,
          468.1700134277344,
          467.0499877929688,
          466.42999267578125,
          468.29998779296875,
          471.3500061035156,
          473.8699951171875,
          472.26000976562494,
          475.2300109863282,
          475.2300109863282,
          473.05999755859375,
          469.8699951171875,
          472.4200134277344,
          476.5400085449219,
          482.7799987792969,
          482.8900146484375,
          484.8800048828125,
          485.3900146484375,
          486.5400085449219,
          487.1700134277344,
          490.1099853515625,
          482.8599853515625,
          483.79998779296875,
          489.29998779296875,
          490.23001098632807,
          492.04998779296875,
          495.3599853515625,
          497.260009765625,
          498.489990234375,
          500.23999023437506,
          490.7200012207031,
          494.3999938964844,
          498.79998779296875,
          498.75,
          498.75,
          494.4500122070313,
          493.55999755859375,
          503.0199890136719,
          507.1000061035156,
          505.8599853515625,
          504.75,
          504.9599914550781,
          505.3500061035156,
          508.55999755859375,
          512,
          504.9100036621094,
          508.42001342773443,
          509.80999755859375,
          511.1300048828125
         ],
         "yaxis": "y3"
        },
        {
         "line": {
          "dash": "dash"
         },
         "mode": "lines",
         "name": "Predicted Low",
         "type": "scatter",
         "x": [
          "2023-10-05T00:00:00",
          "2023-10-06T00:00:00",
          "2023-10-09T00:00:00",
          "2023-10-10T00:00:00",
          "2023-10-11T00:00:00",
          "2023-10-12T00:00:00",
          "2023-10-13T00:00:00",
          "2023-10-16T00:00:00",
          "2023-10-17T00:00:00",
          "2023-10-18T00:00:00",
          "2023-10-19T00:00:00",
          "2023-10-20T00:00:00",
          "2023-10-23T00:00:00",
          "2023-10-24T00:00:00",
          "2023-10-25T00:00:00",
          "2023-10-26T00:00:00",
          "2023-10-27T00:00:00",
          "2023-10-30T00:00:00",
          "2023-10-31T00:00:00",
          "2023-11-01T00:00:00",
          "2023-11-02T00:00:00",
          "2023-11-03T00:00:00",
          "2023-11-06T00:00:00",
          "2023-11-07T00:00:00",
          "2023-11-08T00:00:00",
          "2023-11-09T00:00:00",
          "2023-11-10T00:00:00",
          "2023-11-13T00:00:00",
          "2023-11-14T00:00:00",
          "2023-11-15T00:00:00",
          "2023-11-16T00:00:00",
          "2023-11-17T00:00:00",
          "2023-11-20T00:00:00",
          "2023-11-21T00:00:00",
          "2023-11-22T00:00:00",
          "2023-11-23T00:00:00",
          "2023-11-24T00:00:00",
          "2023-11-27T00:00:00",
          "2023-11-28T00:00:00",
          "2023-11-29T00:00:00",
          "2023-11-30T00:00:00",
          "2023-12-01T00:00:00",
          "2023-12-04T00:00:00",
          "2023-12-05T00:00:00",
          "2023-12-06T00:00:00",
          "2023-12-07T00:00:00",
          "2023-12-08T00:00:00",
          "2023-12-11T00:00:00",
          "2023-12-12T00:00:00",
          "2023-12-13T00:00:00",
          "2023-12-14T00:00:00",
          "2023-12-15T00:00:00",
          "2023-12-18T00:00:00",
          "2023-12-19T00:00:00",
          "2023-12-20T00:00:00",
          "2023-12-21T00:00:00",
          "2023-12-22T00:00:00",
          "2023-12-25T00:00:00",
          "2023-12-26T00:00:00",
          "2023-12-27T00:00:00",
          "2023-12-28T00:00:00",
          "2023-12-29T00:00:00",
          "2024-01-01T00:00:00",
          "2024-01-02T00:00:00",
          "2024-01-03T00:00:00",
          "2024-01-04T00:00:00",
          "2024-01-05T00:00:00",
          "2024-01-08T00:00:00",
          "2024-01-09T00:00:00",
          "2024-01-10T00:00:00",
          "2024-01-11T00:00:00",
          "2024-01-12T00:00:00",
          "2024-01-15T00:00:00",
          "2024-01-16T00:00:00",
          "2024-01-17T00:00:00",
          "2024-01-18T00:00:00",
          "2024-01-19T00:00:00",
          "2024-01-22T00:00:00",
          "2024-01-23T00:00:00",
          "2024-01-24T00:00:00",
          "2024-01-25T00:00:00",
          "2024-01-26T00:00:00",
          "2024-01-29T00:00:00",
          "2024-01-30T00:00:00",
          "2024-01-31T00:00:00",
          "2024-02-01T00:00:00",
          "2024-02-02T00:00:00",
          "2024-02-05T00:00:00",
          "2024-02-06T00:00:00",
          "2024-02-07T00:00:00",
          "2024-02-08T00:00:00",
          "2024-02-09T00:00:00",
          "2024-02-12T00:00:00",
          "2024-02-13T00:00:00",
          "2024-02-14T00:00:00",
          "2024-02-15T00:00:00",
          "2024-02-16T00:00:00",
          "2024-02-19T00:00:00",
          "2024-02-20T00:00:00",
          "2024-02-21T00:00:00",
          "2024-02-22T00:00:00",
          "2024-02-23T00:00:00",
          "2024-02-26T00:00:00",
          "2024-02-27T00:00:00",
          "2024-02-28T00:00:00",
          "2024-02-29T00:00:00",
          "2024-03-01T00:00:00",
          "2024-03-04T00:00:00",
          "2024-03-05T00:00:00",
          "2024-03-06T00:00:00",
          "2024-03-07T00:00:00",
          "2024-03-08T00:00:00"
         ],
         "xaxis": "x3",
         "y": [
          422.4037780761719,
          421.40234375,
          422.40472412109375,
          425.5784606933594,
          430.1048889160156,
          432.96099853515625,
          433.7085266113281,
          433.0087585449219,
          433.4158935546875,
          434.1550598144531,
          432.78289794921875,
          429.9273986816406,
          425.2181701660156,
          419.94036865234375,
          417.7752380371094,
          416.659912109375,
          414.7062683105469,
          411.2851867675781,
          409.8486022949219,
          411.36962890625,
          415.6573486328125,
          422.28900146484375,
          426.2772216796875,
          429.02947998046875,
          430.94451904296875,
          432.9326171875,
          434.1259460449219,
          435.604736328125,
          437.7425231933594,
          442.8248596191406,
          447.0676574707031,
          449.0882263183594,
          450.2055969238281,
          451.67919921875,
          453.0841979980469,
          454.87115478515625,
          455.8438720703125,
          456.16204833984375,
          455.7596740722656,
          455.0428466796875,
          455.259521484375,
          455.39996337890625,
          456.0762023925781,
          456.3686828613281,
          455.7662353515625,
          455.7927551269531,
          456.645263671875,
          457.9446716308594,
          460.03179931640625,
          462.42364501953125,
          466.3995056152344,
          471.47137451171875,
          472.16717529296875,
          473.2061767578125,
          475.3547668457031,
          474.14300537109375,
          472.39166259765625,
          472.4993591308594,
          473.2108154296875,
          474.2488708496094,
          475.568603515625,
          476.9747314453125,
          476.3597717285156,
          474.9647216796875,
          471.8095703125,
          467.12420654296875,
          463.53570556640625,
          461.8548583984375,
          463.9547119140625,
          468.1340637207031,
          472.7893981933594,
          475.898681640625,
          477.6543273925781,
          478.3965759277344,
          476.5240173339844,
          472.1013488769531,
          470.676513671875,
          474.5881042480469,
          481.5450439453125,
          486.28179931640625,
          489.0767822265625,
          490.5757141113281,
          490.4939880371094,
          490.9338073730469,
          491.72894287109375,
          487.42291259765625,
          483.0909423828125,
          485.26422119140625,
          489.32452392578125,
          492.0105285644531,
          495.5299072265625,
          498.4194030761719,
          500.6814270019531,
          502.251708984375,
          495.7735595703125,
          490.7355651855469,
          492.3045654296875,
          494.88818359375,
          495.9388122558594,
          492.27874755859375,
          487.86920166015625,
          494.0932922363281,
          503.91314697265625,
          508.1358642578125,
          506.28125,
          502.91351318359375,
          502.1066589355469,
          504.579833984375,
          507.8240051269531,
          504.4017028808594,
          501.1087951660156,
          503.2665100097656
         ],
         "yaxis": "y3"
        },
        {
         "mode": "lines",
         "name": "Actual Close",
         "type": "scatter",
         "x": [
          "2023-10-05T00:00:00",
          "2023-10-06T00:00:00",
          "2023-10-09T00:00:00",
          "2023-10-10T00:00:00",
          "2023-10-11T00:00:00",
          "2023-10-12T00:00:00",
          "2023-10-13T00:00:00",
          "2023-10-16T00:00:00",
          "2023-10-17T00:00:00",
          "2023-10-18T00:00:00",
          "2023-10-19T00:00:00",
          "2023-10-20T00:00:00",
          "2023-10-23T00:00:00",
          "2023-10-24T00:00:00",
          "2023-10-25T00:00:00",
          "2023-10-26T00:00:00",
          "2023-10-27T00:00:00",
          "2023-10-30T00:00:00",
          "2023-10-31T00:00:00",
          "2023-11-01T00:00:00",
          "2023-11-02T00:00:00",
          "2023-11-03T00:00:00",
          "2023-11-06T00:00:00",
          "2023-11-07T00:00:00",
          "2023-11-08T00:00:00",
          "2023-11-09T00:00:00",
          "2023-11-10T00:00:00",
          "2023-11-13T00:00:00",
          "2023-11-14T00:00:00",
          "2023-11-15T00:00:00",
          "2023-11-16T00:00:00",
          "2023-11-17T00:00:00",
          "2023-11-20T00:00:00",
          "2023-11-21T00:00:00",
          "2023-11-22T00:00:00",
          "2023-11-23T00:00:00",
          "2023-11-24T00:00:00",
          "2023-11-27T00:00:00",
          "2023-11-28T00:00:00",
          "2023-11-29T00:00:00",
          "2023-11-30T00:00:00",
          "2023-12-01T00:00:00",
          "2023-12-04T00:00:00",
          "2023-12-05T00:00:00",
          "2023-12-06T00:00:00",
          "2023-12-07T00:00:00",
          "2023-12-08T00:00:00",
          "2023-12-11T00:00:00",
          "2023-12-12T00:00:00",
          "2023-12-13T00:00:00",
          "2023-12-14T00:00:00",
          "2023-12-15T00:00:00",
          "2023-12-18T00:00:00",
          "2023-12-19T00:00:00",
          "2023-12-20T00:00:00",
          "2023-12-21T00:00:00",
          "2023-12-22T00:00:00",
          "2023-12-25T00:00:00",
          "2023-12-26T00:00:00",
          "2023-12-27T00:00:00",
          "2023-12-28T00:00:00",
          "2023-12-29T00:00:00",
          "2024-01-01T00:00:00",
          "2024-01-02T00:00:00",
          "2024-01-03T00:00:00",
          "2024-01-04T00:00:00",
          "2024-01-05T00:00:00",
          "2024-01-08T00:00:00",
          "2024-01-09T00:00:00",
          "2024-01-10T00:00:00",
          "2024-01-11T00:00:00",
          "2024-01-12T00:00:00",
          "2024-01-15T00:00:00",
          "2024-01-16T00:00:00",
          "2024-01-17T00:00:00",
          "2024-01-18T00:00:00",
          "2024-01-19T00:00:00",
          "2024-01-22T00:00:00",
          "2024-01-23T00:00:00",
          "2024-01-24T00:00:00",
          "2024-01-25T00:00:00",
          "2024-01-26T00:00:00",
          "2024-01-29T00:00:00",
          "2024-01-30T00:00:00",
          "2024-01-31T00:00:00",
          "2024-02-01T00:00:00",
          "2024-02-02T00:00:00",
          "2024-02-05T00:00:00",
          "2024-02-06T00:00:00",
          "2024-02-07T00:00:00",
          "2024-02-08T00:00:00",
          "2024-02-09T00:00:00",
          "2024-02-12T00:00:00",
          "2024-02-13T00:00:00",
          "2024-02-14T00:00:00",
          "2024-02-15T00:00:00",
          "2024-02-16T00:00:00",
          "2024-02-19T00:00:00",
          "2024-02-20T00:00:00",
          "2024-02-21T00:00:00",
          "2024-02-22T00:00:00",
          "2024-02-23T00:00:00",
          "2024-02-26T00:00:00",
          "2024-02-27T00:00:00",
          "2024-02-28T00:00:00",
          "2024-02-29T00:00:00",
          "2024-03-01T00:00:00",
          "2024-03-04T00:00:00",
          "2024-03-05T00:00:00",
          "2024-03-06T00:00:00",
          "2024-03-07T00:00:00",
          "2024-03-08T00:00:00"
         ],
         "xaxis": "x4",
         "y": [
          424.5,
          429.5400085449219,
          432.2900085449219,
          434.5400085449219,
          436.32000732421875,
          433.6600036621094,
          431.5,
          436.04000854492193,
          436.0199890136719,
          430.2099914550781,
          426.42999267578125,
          421.19000244140625,
          420.4599914550781,
          423.6300048828125,
          417.5499877929688,
          412.54998779296875,
          410.67999267578125,
          415.5899963378907,
          418.20001220703125,
          422.6600036621094,
          430.760009765625,
          434.69000244140625,
          435.69000244140625,
          436.9299926757813,
          437.25,
          433.8399963378906,
          440.6099853515625,
          440.19000244140625,
          448.7300109863281,
          449.6799926757812,
          450.2300109863281,
          450.7900085449218,
          454.260009765625,
          453.2699890136719,
          455.0199890136719,
          455.0199890136719,
          455.2999877929687,
          454.4800109863281,
          454.92999267578125,
          454.6099853515625,
          456.3999938964844,
          459.1000061035156,
          456.69000244140625,
          456.6000061035157,
          454.760009765625,
          458.2300109863281,
          460.20001220703125,
          461.989990234375,
          464.1000061035156,
          470.5,
          472.010009765625,
          469.3299865722656,
          471.9700012207031,
          474.8399963378906,
          468.260009765625,
          472.70001220703125,
          473.64999389648443,
          473.64999389648443,
          475.64999389648443,
          476.510009765625,
          476.69000244140625,
          475.3099975585937,
          475.3099975585937,
          472.6499938964844,
          468.7900085449219,
          467.2799987792969,
          467.92001342773443,
          474.6000061035156,
          473.8800048828125,
          476.55999755859375,
          476.3500061035156,
          476.6799926757812,
          476.6799926757812,
          474.92999267578125,
          472.2900085449219,
          476.48999023437494,
          482.42999267578125,
          483.4500122070313,
          484.8599853515625,
          485.3900146484375,
          488.0299987792969,
          487.41000366210943,
          491.2699890136719,
          490.8900146484375,
          482.8800048828125,
          489.20001220703125,
          494.3500061035156,
          492.5499877929688,
          493.9800109863281,
          498.1000061035157,
          498.32000732421875,
          501.20001220703125,
          500.9800109863282,
          494.0799865722656,
          498.57000732421875,
          502.01000976562494,
          499.510009765625,
          499.510009765625,
          496.760009765625,
          497.2099914550781,
          507.5,
          507.8500061035156,
          505.989990234375,
          506.92999267578125,
          506.260009765625,
          508.0799865722657,
          512.8499755859375,
          512.2999877929688,
          507.17999267578125,
          509.75,
          514.8099975585938,
          511.7200012207031
         ],
         "yaxis": "y4"
        },
        {
         "line": {
          "dash": "dash"
         },
         "mode": "lines",
         "name": "Predicted Close",
         "type": "scatter",
         "x": [
          "2023-10-05T00:00:00",
          "2023-10-06T00:00:00",
          "2023-10-09T00:00:00",
          "2023-10-10T00:00:00",
          "2023-10-11T00:00:00",
          "2023-10-12T00:00:00",
          "2023-10-13T00:00:00",
          "2023-10-16T00:00:00",
          "2023-10-17T00:00:00",
          "2023-10-18T00:00:00",
          "2023-10-19T00:00:00",
          "2023-10-20T00:00:00",
          "2023-10-23T00:00:00",
          "2023-10-24T00:00:00",
          "2023-10-25T00:00:00",
          "2023-10-26T00:00:00",
          "2023-10-27T00:00:00",
          "2023-10-30T00:00:00",
          "2023-10-31T00:00:00",
          "2023-11-01T00:00:00",
          "2023-11-02T00:00:00",
          "2023-11-03T00:00:00",
          "2023-11-06T00:00:00",
          "2023-11-07T00:00:00",
          "2023-11-08T00:00:00",
          "2023-11-09T00:00:00",
          "2023-11-10T00:00:00",
          "2023-11-13T00:00:00",
          "2023-11-14T00:00:00",
          "2023-11-15T00:00:00",
          "2023-11-16T00:00:00",
          "2023-11-17T00:00:00",
          "2023-11-20T00:00:00",
          "2023-11-21T00:00:00",
          "2023-11-22T00:00:00",
          "2023-11-23T00:00:00",
          "2023-11-24T00:00:00",
          "2023-11-27T00:00:00",
          "2023-11-28T00:00:00",
          "2023-11-29T00:00:00",
          "2023-11-30T00:00:00",
          "2023-12-01T00:00:00",
          "2023-12-04T00:00:00",
          "2023-12-05T00:00:00",
          "2023-12-06T00:00:00",
          "2023-12-07T00:00:00",
          "2023-12-08T00:00:00",
          "2023-12-11T00:00:00",
          "2023-12-12T00:00:00",
          "2023-12-13T00:00:00",
          "2023-12-14T00:00:00",
          "2023-12-15T00:00:00",
          "2023-12-18T00:00:00",
          "2023-12-19T00:00:00",
          "2023-12-20T00:00:00",
          "2023-12-21T00:00:00",
          "2023-12-22T00:00:00",
          "2023-12-25T00:00:00",
          "2023-12-26T00:00:00",
          "2023-12-27T00:00:00",
          "2023-12-28T00:00:00",
          "2023-12-29T00:00:00",
          "2024-01-01T00:00:00",
          "2024-01-02T00:00:00",
          "2024-01-03T00:00:00",
          "2024-01-04T00:00:00",
          "2024-01-05T00:00:00",
          "2024-01-08T00:00:00",
          "2024-01-09T00:00:00",
          "2024-01-10T00:00:00",
          "2024-01-11T00:00:00",
          "2024-01-12T00:00:00",
          "2024-01-15T00:00:00",
          "2024-01-16T00:00:00",
          "2024-01-17T00:00:00",
          "2024-01-18T00:00:00",
          "2024-01-19T00:00:00",
          "2024-01-22T00:00:00",
          "2024-01-23T00:00:00",
          "2024-01-24T00:00:00",
          "2024-01-25T00:00:00",
          "2024-01-26T00:00:00",
          "2024-01-29T00:00:00",
          "2024-01-30T00:00:00",
          "2024-01-31T00:00:00",
          "2024-02-01T00:00:00",
          "2024-02-02T00:00:00",
          "2024-02-05T00:00:00",
          "2024-02-06T00:00:00",
          "2024-02-07T00:00:00",
          "2024-02-08T00:00:00",
          "2024-02-09T00:00:00",
          "2024-02-12T00:00:00",
          "2024-02-13T00:00:00",
          "2024-02-14T00:00:00",
          "2024-02-15T00:00:00",
          "2024-02-16T00:00:00",
          "2024-02-19T00:00:00",
          "2024-02-20T00:00:00",
          "2024-02-21T00:00:00",
          "2024-02-22T00:00:00",
          "2024-02-23T00:00:00",
          "2024-02-26T00:00:00",
          "2024-02-27T00:00:00",
          "2024-02-28T00:00:00",
          "2024-02-29T00:00:00",
          "2024-03-01T00:00:00",
          "2024-03-04T00:00:00",
          "2024-03-05T00:00:00",
          "2024-03-06T00:00:00",
          "2024-03-07T00:00:00",
          "2024-03-08T00:00:00"
         ],
         "xaxis": "x4",
         "y": [
          424.3273620605469,
          423.56640625,
          424.5193176269531,
          427.4752502441406,
          431.6373596191406,
          434.1791076660156,
          434.83441162109375,
          434.2585144042969,
          434.75091552734375,
          435.4315490722656,
          434.0836486816406,
          431.384765625,
          427.0437927246094,
          422.25384521484375,
          420.4942932128906,
          419.3151550292969,
          417.10552978515625,
          413.7853088378906,
          412.6514587402344,
          414.1225280761719,
          417.92901611328125,
          423.9127197265625,
          427.7425842285156,
          430.423828125,
          432.38018798828125,
          434.32904052734375,
          435.4661865234375,
          436.99969482421875,
          439.0428771972656,
          443.9588623046875,
          447.9062805175781,
          449.6616516113281,
          450.89501953125,
          452.45697021484375,
          453.81805419921875,
          455.5401916503906,
          456.4447021484375,
          456.7673645019531,
          456.4109191894531,
          455.8695373535156,
          456.2430114746094,
          456.3855895996094,
          457.1430358886719,
          457.3458251953125,
          456.79632568359375,
          456.8769836425781,
          457.70404052734375,
          458.9189147949219,
          460.85302734375,
          463.0588073730469,
          466.9142150878906,
          471.7619323730469,
          472.254150390625,
          473.3527526855469,
          475.47869873046875,
          474.3126220703125,
          472.8977355957031,
          473.36090087890625,
          473.97552490234375,
          474.97601318359375,
          476.1813659667969,
          477.4826965332031,
          476.8202209472656,
          475.6909484863281,
          472.7001953125,
          468.51556396484375,
          465.3855285644531,
          463.9941711425781,
          466.1807861328125,
          469.8685607910156,
          473.96026611328125,
          476.4959411621094,
          478.06402587890625,
          478.7095031738281,
          476.9420471191406,
          472.8631591796875,
          472.1402282714844,
          476.2216796875,
          482.5305480957031,
          486.324951171875,
          488.8606872558594,
          490.2823791503906,
          490.3684387207031,
          491.0423889160156,
          492.02923583984375,
          487.7098693847656,
          484.2376708984375,
          487.0829772949219,
          490.6067810058594,
          492.7449645996094,
          496.1233215332031,
          498.6977844238281,
          500.85455322265625,
          502.37420654296875,
          495.8945007324219,
          492.38232421875,
          494.5280456542969,
          496.755615234375,
          497.372314453125,
          493.6156005859375,
          489.85516357421875,
          496.7818603515625,
          505.4262390136719,
          508.2475280761719,
          506.4786376953125,
          503.7169189453125,
          503.4888916015625,
          506.2115783691406,
          509.21697998046875,
          505.51654052734375,
          503.18798828125,
          505.75701904296875
         ],
         "yaxis": "y4"
        }
       ],
       "layout": {
        "height": 800,
        "template": {
         "data": {
          "bar": [
           {
            "error_x": {
             "color": "#2a3f5f"
            },
            "error_y": {
             "color": "#2a3f5f"
            },
            "marker": {
             "line": {
              "color": "#E5ECF6",
              "width": 0.5
             },
             "pattern": {
              "fillmode": "overlay",
              "size": 10,
              "solidity": 0.2
             }
            },
            "type": "bar"
           }
          ],
          "barpolar": [
           {
            "marker": {
             "line": {
              "color": "#E5ECF6",
              "width": 0.5
             },
             "pattern": {
              "fillmode": "overlay",
              "size": 10,
              "solidity": 0.2
             }
            },
            "type": "barpolar"
           }
          ],
          "carpet": [
           {
            "aaxis": {
             "endlinecolor": "#2a3f5f",
             "gridcolor": "white",
             "linecolor": "white",
             "minorgridcolor": "white",
             "startlinecolor": "#2a3f5f"
            },
            "baxis": {
             "endlinecolor": "#2a3f5f",
             "gridcolor": "white",
             "linecolor": "white",
             "minorgridcolor": "white",
             "startlinecolor": "#2a3f5f"
            },
            "type": "carpet"
           }
          ],
          "choropleth": [
           {
            "colorbar": {
             "outlinewidth": 0,
             "ticks": ""
            },
            "type": "choropleth"
           }
          ],
          "contour": [
           {
            "colorbar": {
             "outlinewidth": 0,
             "ticks": ""
            },
            "colorscale": [
             [
              0,
              "#0d0887"
             ],
             [
              0.1111111111111111,
              "#46039f"
             ],
             [
              0.2222222222222222,
              "#7201a8"
             ],
             [
              0.3333333333333333,
              "#9c179e"
             ],
             [
              0.4444444444444444,
              "#bd3786"
             ],
             [
              0.5555555555555556,
              "#d8576b"
             ],
             [
              0.6666666666666666,
              "#ed7953"
             ],
             [
              0.7777777777777778,
              "#fb9f3a"
             ],
             [
              0.8888888888888888,
              "#fdca26"
             ],
             [
              1,
              "#f0f921"
             ]
            ],
            "type": "contour"
           }
          ],
          "contourcarpet": [
           {
            "colorbar": {
             "outlinewidth": 0,
             "ticks": ""
            },
            "type": "contourcarpet"
           }
          ],
          "heatmap": [
           {
            "colorbar": {
             "outlinewidth": 0,
             "ticks": ""
            },
            "colorscale": [
             [
              0,
              "#0d0887"
             ],
             [
              0.1111111111111111,
              "#46039f"
             ],
             [
              0.2222222222222222,
              "#7201a8"
             ],
             [
              0.3333333333333333,
              "#9c179e"
             ],
             [
              0.4444444444444444,
              "#bd3786"
             ],
             [
              0.5555555555555556,
              "#d8576b"
             ],
             [
              0.6666666666666666,
              "#ed7953"
             ],
             [
              0.7777777777777778,
              "#fb9f3a"
             ],
             [
              0.8888888888888888,
              "#fdca26"
             ],
             [
              1,
              "#f0f921"
             ]
            ],
            "type": "heatmap"
           }
          ],
          "heatmapgl": [
           {
            "colorbar": {
             "outlinewidth": 0,
             "ticks": ""
            },
            "colorscale": [
             [
              0,
              "#0d0887"
             ],
             [
              0.1111111111111111,
              "#46039f"
             ],
             [
              0.2222222222222222,
              "#7201a8"
             ],
             [
              0.3333333333333333,
              "#9c179e"
             ],
             [
              0.4444444444444444,
              "#bd3786"
             ],
             [
              0.5555555555555556,
              "#d8576b"
             ],
             [
              0.6666666666666666,
              "#ed7953"
             ],
             [
              0.7777777777777778,
              "#fb9f3a"
             ],
             [
              0.8888888888888888,
              "#fdca26"
             ],
             [
              1,
              "#f0f921"
             ]
            ],
            "type": "heatmapgl"
           }
          ],
          "histogram": [
           {
            "marker": {
             "pattern": {
              "fillmode": "overlay",
              "size": 10,
              "solidity": 0.2
             }
            },
            "type": "histogram"
           }
          ],
          "histogram2d": [
           {
            "colorbar": {
             "outlinewidth": 0,
             "ticks": ""
            },
            "colorscale": [
             [
              0,
              "#0d0887"
             ],
             [
              0.1111111111111111,
              "#46039f"
             ],
             [
              0.2222222222222222,
              "#7201a8"
             ],
             [
              0.3333333333333333,
              "#9c179e"
             ],
             [
              0.4444444444444444,
              "#bd3786"
             ],
             [
              0.5555555555555556,
              "#d8576b"
             ],
             [
              0.6666666666666666,
              "#ed7953"
             ],
             [
              0.7777777777777778,
              "#fb9f3a"
             ],
             [
              0.8888888888888888,
              "#fdca26"
             ],
             [
              1,
              "#f0f921"
             ]
            ],
            "type": "histogram2d"
           }
          ],
          "histogram2dcontour": [
           {
            "colorbar": {
             "outlinewidth": 0,
             "ticks": ""
            },
            "colorscale": [
             [
              0,
              "#0d0887"
             ],
             [
              0.1111111111111111,
              "#46039f"
             ],
             [
              0.2222222222222222,
              "#7201a8"
             ],
             [
              0.3333333333333333,
              "#9c179e"
             ],
             [
              0.4444444444444444,
              "#bd3786"
             ],
             [
              0.5555555555555556,
              "#d8576b"
             ],
             [
              0.6666666666666666,
              "#ed7953"
             ],
             [
              0.7777777777777778,
              "#fb9f3a"
             ],
             [
              0.8888888888888888,
              "#fdca26"
             ],
             [
              1,
              "#f0f921"
             ]
            ],
            "type": "histogram2dcontour"
           }
          ],
          "mesh3d": [
           {
            "colorbar": {
             "outlinewidth": 0,
             "ticks": ""
            },
            "type": "mesh3d"
           }
          ],
          "parcoords": [
           {
            "line": {
             "colorbar": {
              "outlinewidth": 0,
              "ticks": ""
             }
            },
            "type": "parcoords"
           }
          ],
          "pie": [
           {
            "automargin": true,
            "type": "pie"
           }
          ],
          "scatter": [
           {
            "fillpattern": {
             "fillmode": "overlay",
             "size": 10,
             "solidity": 0.2
            },
            "type": "scatter"
           }
          ],
          "scatter3d": [
           {
            "line": {
             "colorbar": {
              "outlinewidth": 0,
              "ticks": ""
             }
            },
            "marker": {
             "colorbar": {
              "outlinewidth": 0,
              "ticks": ""
             }
            },
            "type": "scatter3d"
           }
          ],
          "scattercarpet": [
           {
            "marker": {
             "colorbar": {
              "outlinewidth": 0,
              "ticks": ""
             }
            },
            "type": "scattercarpet"
           }
          ],
          "scattergeo": [
           {
            "marker": {
             "colorbar": {
              "outlinewidth": 0,
              "ticks": ""
             }
            },
            "type": "scattergeo"
           }
          ],
          "scattergl": [
           {
            "marker": {
             "colorbar": {
              "outlinewidth": 0,
              "ticks": ""
             }
            },
            "type": "scattergl"
           }
          ],
          "scattermapbox": [
           {
            "marker": {
             "colorbar": {
              "outlinewidth": 0,
              "ticks": ""
             }
            },
            "type": "scattermapbox"
           }
          ],
          "scatterpolar": [
           {
            "marker": {
             "colorbar": {
              "outlinewidth": 0,
              "ticks": ""
             }
            },
            "type": "scatterpolar"
           }
          ],
          "scatterpolargl": [
           {
            "marker": {
             "colorbar": {
              "outlinewidth": 0,
              "ticks": ""
             }
            },
            "type": "scatterpolargl"
           }
          ],
          "scatterternary": [
           {
            "marker": {
             "colorbar": {
              "outlinewidth": 0,
              "ticks": ""
             }
            },
            "type": "scatterternary"
           }
          ],
          "surface": [
           {
            "colorbar": {
             "outlinewidth": 0,
             "ticks": ""
            },
            "colorscale": [
             [
              0,
              "#0d0887"
             ],
             [
              0.1111111111111111,
              "#46039f"
             ],
             [
              0.2222222222222222,
              "#7201a8"
             ],
             [
              0.3333333333333333,
              "#9c179e"
             ],
             [
              0.4444444444444444,
              "#bd3786"
             ],
             [
              0.5555555555555556,
              "#d8576b"
             ],
             [
              0.6666666666666666,
              "#ed7953"
             ],
             [
              0.7777777777777778,
              "#fb9f3a"
             ],
             [
              0.8888888888888888,
              "#fdca26"
             ],
             [
              1,
              "#f0f921"
             ]
            ],
            "type": "surface"
           }
          ],
          "table": [
           {
            "cells": {
             "fill": {
              "color": "#EBF0F8"
             },
             "line": {
              "color": "white"
             }
            },
            "header": {
             "fill": {
              "color": "#C8D4E3"
             },
             "line": {
              "color": "white"
             }
            },
            "type": "table"
           }
          ]
         },
         "layout": {
          "annotationdefaults": {
           "arrowcolor": "#2a3f5f",
           "arrowhead": 0,
           "arrowwidth": 1
          },
          "autotypenumbers": "strict",
          "coloraxis": {
           "colorbar": {
            "outlinewidth": 0,
            "ticks": ""
           }
          },
          "colorscale": {
           "diverging": [
            [
             0,
             "#8e0152"
            ],
            [
             0.1,
             "#c51b7d"
            ],
            [
             0.2,
             "#de77ae"
            ],
            [
             0.3,
             "#f1b6da"
            ],
            [
             0.4,
             "#fde0ef"
            ],
            [
             0.5,
             "#f7f7f7"
            ],
            [
             0.6,
             "#e6f5d0"
            ],
            [
             0.7,
             "#b8e186"
            ],
            [
             0.8,
             "#7fbc41"
            ],
            [
             0.9,
             "#4d9221"
            ],
            [
             1,
             "#276419"
            ]
           ],
           "sequential": [
            [
             0,
             "#0d0887"
            ],
            [
             0.1111111111111111,
             "#46039f"
            ],
            [
             0.2222222222222222,
             "#7201a8"
            ],
            [
             0.3333333333333333,
             "#9c179e"
            ],
            [
             0.4444444444444444,
             "#bd3786"
            ],
            [
             0.5555555555555556,
             "#d8576b"
            ],
            [
             0.6666666666666666,
             "#ed7953"
            ],
            [
             0.7777777777777778,
             "#fb9f3a"
            ],
            [
             0.8888888888888888,
             "#fdca26"
            ],
            [
             1,
             "#f0f921"
            ]
           ],
           "sequentialminus": [
            [
             0,
             "#0d0887"
            ],
            [
             0.1111111111111111,
             "#46039f"
            ],
            [
             0.2222222222222222,
             "#7201a8"
            ],
            [
             0.3333333333333333,
             "#9c179e"
            ],
            [
             0.4444444444444444,
             "#bd3786"
            ],
            [
             0.5555555555555556,
             "#d8576b"
            ],
            [
             0.6666666666666666,
             "#ed7953"
            ],
            [
             0.7777777777777778,
             "#fb9f3a"
            ],
            [
             0.8888888888888888,
             "#fdca26"
            ],
            [
             1,
             "#f0f921"
            ]
           ]
          },
          "colorway": [
           "#636efa",
           "#EF553B",
           "#00cc96",
           "#ab63fa",
           "#FFA15A",
           "#19d3f3",
           "#FF6692",
           "#B6E880",
           "#FF97FF",
           "#FECB52"
          ],
          "font": {
           "color": "#2a3f5f"
          },
          "geo": {
           "bgcolor": "white",
           "lakecolor": "white",
           "landcolor": "#E5ECF6",
           "showlakes": true,
           "showland": true,
           "subunitcolor": "white"
          },
          "hoverlabel": {
           "align": "left"
          },
          "hovermode": "closest",
          "mapbox": {
           "style": "light"
          },
          "paper_bgcolor": "white",
          "plot_bgcolor": "#E5ECF6",
          "polar": {
           "angularaxis": {
            "gridcolor": "white",
            "linecolor": "white",
            "ticks": ""
           },
           "bgcolor": "#E5ECF6",
           "radialaxis": {
            "gridcolor": "white",
            "linecolor": "white",
            "ticks": ""
           }
          },
          "scene": {
           "xaxis": {
            "backgroundcolor": "#E5ECF6",
            "gridcolor": "white",
            "gridwidth": 2,
            "linecolor": "white",
            "showbackground": true,
            "ticks": "",
            "zerolinecolor": "white"
           },
           "yaxis": {
            "backgroundcolor": "#E5ECF6",
            "gridcolor": "white",
            "gridwidth": 2,
            "linecolor": "white",
            "showbackground": true,
            "ticks": "",
            "zerolinecolor": "white"
           },
           "zaxis": {
            "backgroundcolor": "#E5ECF6",
            "gridcolor": "white",
            "gridwidth": 2,
            "linecolor": "white",
            "showbackground": true,
            "ticks": "",
            "zerolinecolor": "white"
           }
          },
          "shapedefaults": {
           "line": {
            "color": "#2a3f5f"
           }
          },
          "ternary": {
           "aaxis": {
            "gridcolor": "white",
            "linecolor": "white",
            "ticks": ""
           },
           "baxis": {
            "gridcolor": "white",
            "linecolor": "white",
            "ticks": ""
           },
           "bgcolor": "#E5ECF6",
           "caxis": {
            "gridcolor": "white",
            "linecolor": "white",
            "ticks": ""
           }
          },
          "title": {
           "x": 0.05
          },
          "xaxis": {
           "automargin": true,
           "gridcolor": "white",
           "linecolor": "white",
           "ticks": "",
           "title": {
            "standoff": 15
           },
           "zerolinecolor": "white",
           "zerolinewidth": 2
          },
          "yaxis": {
           "automargin": true,
           "gridcolor": "white",
           "linecolor": "white",
           "ticks": "",
           "title": {
            "standoff": 15
           },
           "zerolinecolor": "white",
           "zerolinewidth": 2
          }
         }
        },
        "title": {
         "text": "Stock Price Forecasting"
        },
        "width": 1000,
        "xaxis": {
         "anchor": "y",
         "domain": [
          0,
          1
         ],
         "matches": "x4",
         "rangeslider": {
          "visible": false
         },
         "showticklabels": false
        },
        "xaxis2": {
         "anchor": "y2",
         "domain": [
          0,
          1
         ],
         "matches": "x4",
         "showticklabels": false
        },
        "xaxis3": {
         "anchor": "y3",
         "domain": [
          0,
          1
         ],
         "matches": "x4",
         "showticklabels": false
        },
        "xaxis4": {
         "anchor": "y4",
         "domain": [
          0,
          1
         ],
         "title": {
          "text": "<b>Date</b>"
         }
        },
        "yaxis": {
         "anchor": "x",
         "domain": [
          0.7649999999999999,
          0.9999999999999999
         ],
         "title": {
          "text": "<b>Price</b>"
         }
        },
        "yaxis2": {
         "anchor": "x2",
         "domain": [
          0.51,
          0.745
         ],
         "title": {
          "text": "<b>Price</b>"
         }
        },
        "yaxis3": {
         "anchor": "x3",
         "domain": [
          0.255,
          0.49
         ],
         "title": {
          "text": "<b>Price</b>"
         }
        },
        "yaxis4": {
         "anchor": "x4",
         "domain": [
          0,
          0.235
         ],
         "title": {
          "text": "<b>Price</b>"
         }
        }
       }
      },
      "text/html": [
       "<div>                            <div id=\"af4df9ee-5e81-434e-9a3e-37bd4fcf49ea\" class=\"plotly-graph-div\" style=\"height:800px; width:1000px;\"></div>            <script type=\"text/javascript\">                require([\"plotly\"], function(Plotly) {                    window.PLOTLYENV=window.PLOTLYENV || {};                                    if (document.getElementById(\"af4df9ee-5e81-434e-9a3e-37bd4fcf49ea\")) {                    Plotly.newPlot(                        \"af4df9ee-5e81-434e-9a3e-37bd4fcf49ea\",                        [{\"mode\":\"lines\",\"name\":\"Actual Open\",\"x\":[\"2023-10-05T00:00:00\",\"2023-10-06T00:00:00\",\"2023-10-09T00:00:00\",\"2023-10-10T00:00:00\",\"2023-10-11T00:00:00\",\"2023-10-12T00:00:00\",\"2023-10-13T00:00:00\",\"2023-10-16T00:00:00\",\"2023-10-17T00:00:00\",\"2023-10-18T00:00:00\",\"2023-10-19T00:00:00\",\"2023-10-20T00:00:00\",\"2023-10-23T00:00:00\",\"2023-10-24T00:00:00\",\"2023-10-25T00:00:00\",\"2023-10-26T00:00:00\",\"2023-10-27T00:00:00\",\"2023-10-30T00:00:00\",\"2023-10-31T00:00:00\",\"2023-11-01T00:00:00\",\"2023-11-02T00:00:00\",\"2023-11-03T00:00:00\",\"2023-11-06T00:00:00\",\"2023-11-07T00:00:00\",\"2023-11-08T00:00:00\",\"2023-11-09T00:00:00\",\"2023-11-10T00:00:00\",\"2023-11-13T00:00:00\",\"2023-11-14T00:00:00\",\"2023-11-15T00:00:00\",\"2023-11-16T00:00:00\",\"2023-11-17T00:00:00\",\"2023-11-20T00:00:00\",\"2023-11-21T00:00:00\",\"2023-11-22T00:00:00\",\"2023-11-23T00:00:00\",\"2023-11-24T00:00:00\",\"2023-11-27T00:00:00\",\"2023-11-28T00:00:00\",\"2023-11-29T00:00:00\",\"2023-11-30T00:00:00\",\"2023-12-01T00:00:00\",\"2023-12-04T00:00:00\",\"2023-12-05T00:00:00\",\"2023-12-06T00:00:00\",\"2023-12-07T00:00:00\",\"2023-12-08T00:00:00\",\"2023-12-11T00:00:00\",\"2023-12-12T00:00:00\",\"2023-12-13T00:00:00\",\"2023-12-14T00:00:00\",\"2023-12-15T00:00:00\",\"2023-12-18T00:00:00\",\"2023-12-19T00:00:00\",\"2023-12-20T00:00:00\",\"2023-12-21T00:00:00\",\"2023-12-22T00:00:00\",\"2023-12-25T00:00:00\",\"2023-12-26T00:00:00\",\"2023-12-27T00:00:00\",\"2023-12-28T00:00:00\",\"2023-12-29T00:00:00\",\"2024-01-01T00:00:00\",\"2024-01-02T00:00:00\",\"2024-01-03T00:00:00\",\"2024-01-04T00:00:00\",\"2024-01-05T00:00:00\",\"2024-01-08T00:00:00\",\"2024-01-09T00:00:00\",\"2024-01-10T00:00:00\",\"2024-01-11T00:00:00\",\"2024-01-12T00:00:00\",\"2024-01-15T00:00:00\",\"2024-01-16T00:00:00\",\"2024-01-17T00:00:00\",\"2024-01-18T00:00:00\",\"2024-01-19T00:00:00\",\"2024-01-22T00:00:00\",\"2024-01-23T00:00:00\",\"2024-01-24T00:00:00\",\"2024-01-25T00:00:00\",\"2024-01-26T00:00:00\",\"2024-01-29T00:00:00\",\"2024-01-30T00:00:00\",\"2024-01-31T00:00:00\",\"2024-02-01T00:00:00\",\"2024-02-02T00:00:00\",\"2024-02-05T00:00:00\",\"2024-02-06T00:00:00\",\"2024-02-07T00:00:00\",\"2024-02-08T00:00:00\",\"2024-02-09T00:00:00\",\"2024-02-12T00:00:00\",\"2024-02-13T00:00:00\",\"2024-02-14T00:00:00\",\"2024-02-15T00:00:00\",\"2024-02-16T00:00:00\",\"2024-02-19T00:00:00\",\"2024-02-20T00:00:00\",\"2024-02-21T00:00:00\",\"2024-02-22T00:00:00\",\"2024-02-23T00:00:00\",\"2024-02-26T00:00:00\",\"2024-02-27T00:00:00\",\"2024-02-28T00:00:00\",\"2024-02-29T00:00:00\",\"2024-03-01T00:00:00\",\"2024-03-04T00:00:00\",\"2024-03-05T00:00:00\",\"2024-03-06T00:00:00\",\"2024-03-07T00:00:00\",\"2024-03-08T00:00:00\"],\"y\":[424.3599853515625,421.9700012207031,427.57998657226557,432.94000244140625,435.6400146484375,436.9500122070313,435.2099914550781,433.82000732421875,432.80999755859375,434.19000244140625,430.9500122070312,425.9800109863281,419.6099853515625,422.6499938964844,421.89001464843744,416.4500122070312,414.19000244140625,413.55999755859375,416.17999267578125,419.2000122070312,426.5799865722656,433.1400146484375,435.4700012207031,435.6900024414063,437.5499877929687,438.42999267578125,435.9800109863281,439.2300109863281,446.3200073242188,450.1099853515625,449.2200012207031,450.239990234375,450.5299987792969,453.17999267578125,454.9800109863281,454.9800109863281,455.0700073242188,454.6499938964844,454.0799865722656,457.1499938964844,455.48001098632807,455.7699890136719,455.6000061035156,455.260009765625,458.80999755859375,456.91000366210943,457.4599914550781,459.69000244140625,461.6300048828125,464.489990234375,472.5,469.489990234375,470.9800109863281,472.5299987792969,473.9599914550781,471.3299865722656,473.8599853515625,473.8599853515625,474.07000732421875,475.4400024414062,476.8800048828125,476.489990234375,476.489990234375,472.1600036621094,470.42999267578125,468.29998779296875,467.489990234375,468.4299926757812,471.8699951171875,474.16000366210943,477.5899963378906,477.83999633789057,477.83999633789057,475.260009765625,471.8200073242187,474.010009765625,477.6499938964844,484.010009765625,484.010009765625,487.8099975585937,487.5799865722656,487.5899963378906,487.7300109863281,490.5599975585937,488.61999511718756,484.6300048828125,489.6499938964843,493.70001220703125,493.5199890136718,496.2900085449218,498.1000061035156,498.8399963378906,501.1700134277343,494.5299987792969,496.7900085449219,499.29000854492193,501.70001220703125,501.70001220703125,497.7200012207032,495.4200134277343,504.010009765625,509.2699890136719,508.29998779296875,506.70001220703125,505.32998657226557,508.07000732421875,508.9800109863281,512.030029296875,510.239990234375,510.54998779296875,513.1400146484375,515.4600219726562],\"type\":\"scatter\",\"xaxis\":\"x\",\"yaxis\":\"y\"},{\"line\":{\"dash\":\"dash\"},\"mode\":\"lines\",\"name\":\"Predicted Open\",\"x\":[\"2023-10-05T00:00:00\",\"2023-10-06T00:00:00\",\"2023-10-09T00:00:00\",\"2023-10-10T00:00:00\",\"2023-10-11T00:00:00\",\"2023-10-12T00:00:00\",\"2023-10-13T00:00:00\",\"2023-10-16T00:00:00\",\"2023-10-17T00:00:00\",\"2023-10-18T00:00:00\",\"2023-10-19T00:00:00\",\"2023-10-20T00:00:00\",\"2023-10-23T00:00:00\",\"2023-10-24T00:00:00\",\"2023-10-25T00:00:00\",\"2023-10-26T00:00:00\",\"2023-10-27T00:00:00\",\"2023-10-30T00:00:00\",\"2023-10-31T00:00:00\",\"2023-11-01T00:00:00\",\"2023-11-02T00:00:00\",\"2023-11-03T00:00:00\",\"2023-11-06T00:00:00\",\"2023-11-07T00:00:00\",\"2023-11-08T00:00:00\",\"2023-11-09T00:00:00\",\"2023-11-10T00:00:00\",\"2023-11-13T00:00:00\",\"2023-11-14T00:00:00\",\"2023-11-15T00:00:00\",\"2023-11-16T00:00:00\",\"2023-11-17T00:00:00\",\"2023-11-20T00:00:00\",\"2023-11-21T00:00:00\",\"2023-11-22T00:00:00\",\"2023-11-23T00:00:00\",\"2023-11-24T00:00:00\",\"2023-11-27T00:00:00\",\"2023-11-28T00:00:00\",\"2023-11-29T00:00:00\",\"2023-11-30T00:00:00\",\"2023-12-01T00:00:00\",\"2023-12-04T00:00:00\",\"2023-12-05T00:00:00\",\"2023-12-06T00:00:00\",\"2023-12-07T00:00:00\",\"2023-12-08T00:00:00\",\"2023-12-11T00:00:00\",\"2023-12-12T00:00:00\",\"2023-12-13T00:00:00\",\"2023-12-14T00:00:00\",\"2023-12-15T00:00:00\",\"2023-12-18T00:00:00\",\"2023-12-19T00:00:00\",\"2023-12-20T00:00:00\",\"2023-12-21T00:00:00\",\"2023-12-22T00:00:00\",\"2023-12-25T00:00:00\",\"2023-12-26T00:00:00\",\"2023-12-27T00:00:00\",\"2023-12-28T00:00:00\",\"2023-12-29T00:00:00\",\"2024-01-01T00:00:00\",\"2024-01-02T00:00:00\",\"2024-01-03T00:00:00\",\"2024-01-04T00:00:00\",\"2024-01-05T00:00:00\",\"2024-01-08T00:00:00\",\"2024-01-09T00:00:00\",\"2024-01-10T00:00:00\",\"2024-01-11T00:00:00\",\"2024-01-12T00:00:00\",\"2024-01-15T00:00:00\",\"2024-01-16T00:00:00\",\"2024-01-17T00:00:00\",\"2024-01-18T00:00:00\",\"2024-01-19T00:00:00\",\"2024-01-22T00:00:00\",\"2024-01-23T00:00:00\",\"2024-01-24T00:00:00\",\"2024-01-25T00:00:00\",\"2024-01-26T00:00:00\",\"2024-01-29T00:00:00\",\"2024-01-30T00:00:00\",\"2024-01-31T00:00:00\",\"2024-02-01T00:00:00\",\"2024-02-02T00:00:00\",\"2024-02-05T00:00:00\",\"2024-02-06T00:00:00\",\"2024-02-07T00:00:00\",\"2024-02-08T00:00:00\",\"2024-02-09T00:00:00\",\"2024-02-12T00:00:00\",\"2024-02-13T00:00:00\",\"2024-02-14T00:00:00\",\"2024-02-15T00:00:00\",\"2024-02-16T00:00:00\",\"2024-02-19T00:00:00\",\"2024-02-20T00:00:00\",\"2024-02-21T00:00:00\",\"2024-02-22T00:00:00\",\"2024-02-23T00:00:00\",\"2024-02-26T00:00:00\",\"2024-02-27T00:00:00\",\"2024-02-28T00:00:00\",\"2024-02-29T00:00:00\",\"2024-03-01T00:00:00\",\"2024-03-04T00:00:00\",\"2024-03-05T00:00:00\",\"2024-03-06T00:00:00\",\"2024-03-07T00:00:00\",\"2024-03-08T00:00:00\"],\"y\":[426.3945007324219,425.3576965332031,426.17877197265625,429.0298767089844,433.1241760253906,435.62725830078125,436.2164611816406,435.53851318359375,436.0058288574219,436.8572082519531,435.79052734375,433.3974914550781,429.316162109375,424.5704040527344,422.5547790527344,421.44097900390625,419.5506591796875,416.25860595703125,414.70489501953125,415.8620300292969,419.5929870605469,425.50128173828125,428.79266357421875,431.0352783203125,432.6459045410156,434.56085205078125,435.9665222167969,437.6932373046875,440.06292724609375,445.0594177246094,449.13677978515625,451.0220031738281,452.1908874511719,453.67950439453125,455.15277099609375,457.0056457519531,458.1161193847656,458.66192626953125,458.5354919433594,458.0009765625,458.3041076660156,458.5350036621094,459.2169189453125,459.541259765625,459.019287109375,459.0954895019531,459.899658203125,461.0821228027344,462.99676513671875,465.1861572265625,468.7652282714844,473.4228515625,474.06591796875,475.1640625,477.2938232421875,476.3934631347656,475.04632568359375,475.3147888183594,476.17791748046875,477.29034423828125,478.5717468261719,479.85821533203125,479.38336181640625,478.2041320800781,475.3726806640625,471.2515869140625,468.13531494140625,466.6546936035156,468.5013122558594,472.20941162109375,476.2672119140625,478.9337158203125,480.43414306640625,481.0335388183594,479.36517333984375,475.47882080078125,474.3092346191406,477.98779296875,484.37158203125,488.66033935546875,491.26129150390625,492.6003112792969,492.57080078125,493.0356140136719,493.9197692871094,490.33905029296875,486.664306640625,488.7090759277344,492.48406982421875,495.0043029785156,498.1916198730469,500.8253173828125,502.9425964355469,504.4271240234375,498.6844177246094,494.3746032714844,495.9103698730469,498.37738037109375,499.49566650390625,496.3207092285156,492.41424560546875,497.9678955078125,506.75299072265625,510.5510559082031,509.0231628417969,506.0301513671875,505.3418273925781,507.60589599609375,510.63568115234375,507.804443359375,505.13458251953125,507.06536865234375],\"type\":\"scatter\",\"xaxis\":\"x\",\"yaxis\":\"y\"},{\"mode\":\"lines\",\"name\":\"Actual High\",\"x\":[\"2023-10-05T00:00:00\",\"2023-10-06T00:00:00\",\"2023-10-09T00:00:00\",\"2023-10-10T00:00:00\",\"2023-10-11T00:00:00\",\"2023-10-12T00:00:00\",\"2023-10-13T00:00:00\",\"2023-10-16T00:00:00\",\"2023-10-17T00:00:00\",\"2023-10-18T00:00:00\",\"2023-10-19T00:00:00\",\"2023-10-20T00:00:00\",\"2023-10-23T00:00:00\",\"2023-10-24T00:00:00\",\"2023-10-25T00:00:00\",\"2023-10-26T00:00:00\",\"2023-10-27T00:00:00\",\"2023-10-30T00:00:00\",\"2023-10-31T00:00:00\",\"2023-11-01T00:00:00\",\"2023-11-02T00:00:00\",\"2023-11-03T00:00:00\",\"2023-11-06T00:00:00\",\"2023-11-07T00:00:00\",\"2023-11-08T00:00:00\",\"2023-11-09T00:00:00\",\"2023-11-10T00:00:00\",\"2023-11-13T00:00:00\",\"2023-11-14T00:00:00\",\"2023-11-15T00:00:00\",\"2023-11-16T00:00:00\",\"2023-11-17T00:00:00\",\"2023-11-20T00:00:00\",\"2023-11-21T00:00:00\",\"2023-11-22T00:00:00\",\"2023-11-23T00:00:00\",\"2023-11-24T00:00:00\",\"2023-11-27T00:00:00\",\"2023-11-28T00:00:00\",\"2023-11-29T00:00:00\",\"2023-11-30T00:00:00\",\"2023-12-01T00:00:00\",\"2023-12-04T00:00:00\",\"2023-12-05T00:00:00\",\"2023-12-06T00:00:00\",\"2023-12-07T00:00:00\",\"2023-12-08T00:00:00\",\"2023-12-11T00:00:00\",\"2023-12-12T00:00:00\",\"2023-12-13T00:00:00\",\"2023-12-14T00:00:00\",\"2023-12-15T00:00:00\",\"2023-12-18T00:00:00\",\"2023-12-19T00:00:00\",\"2023-12-20T00:00:00\",\"2023-12-21T00:00:00\",\"2023-12-22T00:00:00\",\"2023-12-25T00:00:00\",\"2023-12-26T00:00:00\",\"2023-12-27T00:00:00\",\"2023-12-28T00:00:00\",\"2023-12-29T00:00:00\",\"2024-01-01T00:00:00\",\"2024-01-02T00:00:00\",\"2024-01-03T00:00:00\",\"2024-01-04T00:00:00\",\"2024-01-05T00:00:00\",\"2024-01-08T00:00:00\",\"2024-01-09T00:00:00\",\"2024-01-10T00:00:00\",\"2024-01-11T00:00:00\",\"2024-01-12T00:00:00\",\"2024-01-15T00:00:00\",\"2024-01-16T00:00:00\",\"2024-01-17T00:00:00\",\"2024-01-18T00:00:00\",\"2024-01-19T00:00:00\",\"2024-01-22T00:00:00\",\"2024-01-23T00:00:00\",\"2024-01-24T00:00:00\",\"2024-01-25T00:00:00\",\"2024-01-26T00:00:00\",\"2024-01-29T00:00:00\",\"2024-01-30T00:00:00\",\"2024-01-31T00:00:00\",\"2024-02-01T00:00:00\",\"2024-02-02T00:00:00\",\"2024-02-05T00:00:00\",\"2024-02-06T00:00:00\",\"2024-02-07T00:00:00\",\"2024-02-08T00:00:00\",\"2024-02-09T00:00:00\",\"2024-02-12T00:00:00\",\"2024-02-13T00:00:00\",\"2024-02-14T00:00:00\",\"2024-02-15T00:00:00\",\"2024-02-16T00:00:00\",\"2024-02-19T00:00:00\",\"2024-02-20T00:00:00\",\"2024-02-21T00:00:00\",\"2024-02-22T00:00:00\",\"2024-02-23T00:00:00\",\"2024-02-26T00:00:00\",\"2024-02-27T00:00:00\",\"2024-02-28T00:00:00\",\"2024-02-29T00:00:00\",\"2024-03-01T00:00:00\",\"2024-03-04T00:00:00\",\"2024-03-05T00:00:00\",\"2024-03-06T00:00:00\",\"2024-03-07T00:00:00\",\"2024-03-08T00:00:00\"],\"y\":[425.3699951171875,431.1300048828125,432.8800048828125,437.2200012207031,436.5799865722656,437.3399963378906,436.4500122070313,437.1400146484375,438.14001464843744,435.1799926757812,432.82000732421875,426.5400085449219,424.4500122070312,424.82000732421875,421.9200134277344,417.3299865722656,414.6000061035156,416.67999267578125,418.5299987792969,423.5,430.9200134277344,436.2900085449219,436.1499938964844,437.5899963378906,438.0899963378907,438.4700012207031,440.9299926757813,441.3299865722656,450.0599975585938,451.3800048828125,450.55999755859375,451.4200134277344,455.1300048828125,454.13000488281256,456.38000488281256,456.38000488281256,455.5,455.489990234375,456.2699890136718,458.32000732421875,456.760009765625,459.6499938964844,459.11999511718744,457.5899963378906,458.8399963378906,458.8999938964844,460.75,462.17001342773443,464.20001220703125,470.760009765625,473.7300109863281,470.7000122070313,472.9800109863282,474.9200134277344,475.8999938964844,472.9800109863282,475.3800048828125,475.3800048828125,476.5799865722656,476.6600036621094,477.54998779296875,477.0299987792969,477.0299987792969,473.6700134277344,471.1900024414062,470.9599914550781,470.44000244140625,474.75,474.92999267578125,477.45001220703125,478.1199951171875,478.60000610351557,478.60000610351557,476.6099853515625,472.7900085449219,477.05999755859375,482.7200012207031,485.2200012207031,485.1099853515625,488.7699890136718,488.3099975585938,489.1199951171875,491.4200134277344,491.6199951171875,489.0799865722656,489.2300109863281,496.04998779296875,494.3800048828125,494.32000732421875,498.5299987792968,498.7099914550781,501.6499938964844,503.5,497.0899963378906,499.07000732421875,502.20001220703125,502.8699951171875,502.8699951171875,498.4100036621094,497.36999511718744,508.489990234375,510.1300048828125,508.75,507.1600036621093,506.8599853515625,509.739990234375,513.2899780273438,514.2000122070312,510.70001220703125,512.0700073242188,515.8900146484375,518.219970703125],\"type\":\"scatter\",\"xaxis\":\"x2\",\"yaxis\":\"y2\"},{\"line\":{\"dash\":\"dash\"},\"mode\":\"lines\",\"name\":\"Predicted High\",\"x\":[\"2023-10-05T00:00:00\",\"2023-10-06T00:00:00\",\"2023-10-09T00:00:00\",\"2023-10-10T00:00:00\",\"2023-10-11T00:00:00\",\"2023-10-12T00:00:00\",\"2023-10-13T00:00:00\",\"2023-10-16T00:00:00\",\"2023-10-17T00:00:00\",\"2023-10-18T00:00:00\",\"2023-10-19T00:00:00\",\"2023-10-20T00:00:00\",\"2023-10-23T00:00:00\",\"2023-10-24T00:00:00\",\"2023-10-25T00:00:00\",\"2023-10-26T00:00:00\",\"2023-10-27T00:00:00\",\"2023-10-30T00:00:00\",\"2023-10-31T00:00:00\",\"2023-11-01T00:00:00\",\"2023-11-02T00:00:00\",\"2023-11-03T00:00:00\",\"2023-11-06T00:00:00\",\"2023-11-07T00:00:00\",\"2023-11-08T00:00:00\",\"2023-11-09T00:00:00\",\"2023-11-10T00:00:00\",\"2023-11-13T00:00:00\",\"2023-11-14T00:00:00\",\"2023-11-15T00:00:00\",\"2023-11-16T00:00:00\",\"2023-11-17T00:00:00\",\"2023-11-20T00:00:00\",\"2023-11-21T00:00:00\",\"2023-11-22T00:00:00\",\"2023-11-23T00:00:00\",\"2023-11-24T00:00:00\",\"2023-11-27T00:00:00\",\"2023-11-28T00:00:00\",\"2023-11-29T00:00:00\",\"2023-11-30T00:00:00\",\"2023-12-01T00:00:00\",\"2023-12-04T00:00:00\",\"2023-12-05T00:00:00\",\"2023-12-06T00:00:00\",\"2023-12-07T00:00:00\",\"2023-12-08T00:00:00\",\"2023-12-11T00:00:00\",\"2023-12-12T00:00:00\",\"2023-12-13T00:00:00\",\"2023-12-14T00:00:00\",\"2023-12-15T00:00:00\",\"2023-12-18T00:00:00\",\"2023-12-19T00:00:00\",\"2023-12-20T00:00:00\",\"2023-12-21T00:00:00\",\"2023-12-22T00:00:00\",\"2023-12-25T00:00:00\",\"2023-12-26T00:00:00\",\"2023-12-27T00:00:00\",\"2023-12-28T00:00:00\",\"2023-12-29T00:00:00\",\"2024-01-01T00:00:00\",\"2024-01-02T00:00:00\",\"2024-01-03T00:00:00\",\"2024-01-04T00:00:00\",\"2024-01-05T00:00:00\",\"2024-01-08T00:00:00\",\"2024-01-09T00:00:00\",\"2024-01-10T00:00:00\",\"2024-01-11T00:00:00\",\"2024-01-12T00:00:00\",\"2024-01-15T00:00:00\",\"2024-01-16T00:00:00\",\"2024-01-17T00:00:00\",\"2024-01-18T00:00:00\",\"2024-01-19T00:00:00\",\"2024-01-22T00:00:00\",\"2024-01-23T00:00:00\",\"2024-01-24T00:00:00\",\"2024-01-25T00:00:00\",\"2024-01-26T00:00:00\",\"2024-01-29T00:00:00\",\"2024-01-30T00:00:00\",\"2024-01-31T00:00:00\",\"2024-02-01T00:00:00\",\"2024-02-02T00:00:00\",\"2024-02-05T00:00:00\",\"2024-02-06T00:00:00\",\"2024-02-07T00:00:00\",\"2024-02-08T00:00:00\",\"2024-02-09T00:00:00\",\"2024-02-12T00:00:00\",\"2024-02-13T00:00:00\",\"2024-02-14T00:00:00\",\"2024-02-15T00:00:00\",\"2024-02-16T00:00:00\",\"2024-02-19T00:00:00\",\"2024-02-20T00:00:00\",\"2024-02-21T00:00:00\",\"2024-02-22T00:00:00\",\"2024-02-23T00:00:00\",\"2024-02-26T00:00:00\",\"2024-02-27T00:00:00\",\"2024-02-28T00:00:00\",\"2024-02-29T00:00:00\",\"2024-03-01T00:00:00\",\"2024-03-04T00:00:00\",\"2024-03-05T00:00:00\",\"2024-03-06T00:00:00\",\"2024-03-07T00:00:00\",\"2024-03-08T00:00:00\"],\"y\":[427.504638671875,426.6785583496094,427.4520263671875,430.0245666503906,433.73199462890625,436.1191711425781,436.7981872558594,436.3662109375,436.95953369140625,437.7396240234375,436.6860046386719,434.4128112792969,430.5449523925781,426.231689453125,424.50341796875,423.2060546875,421.06768798828125,417.94415283203125,416.6031494140625,417.5768127441406,420.8074645996094,426.10479736328125,429.4841613769531,431.9130859375,433.8117370605469,435.834228515625,437.1560974121094,438.8204345703125,440.93914794921875,445.6007385253906,449.3570861816406,451.1581726074219,452.4562683105469,454.0736083984375,455.5120849609375,457.2981262207031,458.34442138671875,458.842041015625,458.7392272949219,458.3628234863281,458.73797607421875,458.91680908203125,459.68084716796875,459.8981018066406,459.5053405761719,459.6036376953125,460.3678283691406,461.4853515625,463.2483215332031,465.25201416015625,468.74298095703125,473.1358947753906,473.8067932128906,475.1048583984375,477.246337890625,476.4812316894531,475.5648498535156,476.06884765625,476.7577209472656,477.81549072265625,478.9391784667969,480.1384582519531,479.6808776855469,478.8362121582031,476.2906188964844,472.77178955078125,470.06048583984375,468.724853515625,470.4672546386719,473.43804931640625,476.8699645996094,479.0580749511719,480.5067443847656,481.1681213378906,479.7929992675781,476.4695739746094,475.9259338378906,479.4051513671875,484.83905029296875,488.2867736816406,490.80267333984375,492.2236328125,492.5577392578125,493.4247131347656,494.5029602050781,491.1203918457031,488.54852294921875,490.9892883300781,493.9738464355469,496.0292663574219,499.1394348144531,501.4685363769531,503.6187744140625,505.1680908203125,499.8241882324219,497.2347717285156,499.09381103515625,500.9171447753906,501.6798095703125,498.5823974609375,495.4902038574219,501.5821533203125,508.7584228515625,511.279541015625,510.1801452636719,508.0028991699219,507.938232421875,510.4251403808594,513.13232421875,510.1178283691406,508.6108093261719,510.8823547363281],\"type\":\"scatter\",\"xaxis\":\"x2\",\"yaxis\":\"y2\"},{\"mode\":\"lines\",\"name\":\"Actual Low\",\"x\":[\"2023-10-05T00:00:00\",\"2023-10-06T00:00:00\",\"2023-10-09T00:00:00\",\"2023-10-10T00:00:00\",\"2023-10-11T00:00:00\",\"2023-10-12T00:00:00\",\"2023-10-13T00:00:00\",\"2023-10-16T00:00:00\",\"2023-10-17T00:00:00\",\"2023-10-18T00:00:00\",\"2023-10-19T00:00:00\",\"2023-10-20T00:00:00\",\"2023-10-23T00:00:00\",\"2023-10-24T00:00:00\",\"2023-10-25T00:00:00\",\"2023-10-26T00:00:00\",\"2023-10-27T00:00:00\",\"2023-10-30T00:00:00\",\"2023-10-31T00:00:00\",\"2023-11-01T00:00:00\",\"2023-11-02T00:00:00\",\"2023-11-03T00:00:00\",\"2023-11-06T00:00:00\",\"2023-11-07T00:00:00\",\"2023-11-08T00:00:00\",\"2023-11-09T00:00:00\",\"2023-11-10T00:00:00\",\"2023-11-13T00:00:00\",\"2023-11-14T00:00:00\",\"2023-11-15T00:00:00\",\"2023-11-16T00:00:00\",\"2023-11-17T00:00:00\",\"2023-11-20T00:00:00\",\"2023-11-21T00:00:00\",\"2023-11-22T00:00:00\",\"2023-11-23T00:00:00\",\"2023-11-24T00:00:00\",\"2023-11-27T00:00:00\",\"2023-11-28T00:00:00\",\"2023-11-29T00:00:00\",\"2023-11-30T00:00:00\",\"2023-12-01T00:00:00\",\"2023-12-04T00:00:00\",\"2023-12-05T00:00:00\",\"2023-12-06T00:00:00\",\"2023-12-07T00:00:00\",\"2023-12-08T00:00:00\",\"2023-12-11T00:00:00\",\"2023-12-12T00:00:00\",\"2023-12-13T00:00:00\",\"2023-12-14T00:00:00\",\"2023-12-15T00:00:00\",\"2023-12-18T00:00:00\",\"2023-12-19T00:00:00\",\"2023-12-20T00:00:00\",\"2023-12-21T00:00:00\",\"2023-12-22T00:00:00\",\"2023-12-25T00:00:00\",\"2023-12-26T00:00:00\",\"2023-12-27T00:00:00\",\"2023-12-28T00:00:00\",\"2023-12-29T00:00:00\",\"2024-01-01T00:00:00\",\"2024-01-02T00:00:00\",\"2024-01-03T00:00:00\",\"2024-01-04T00:00:00\",\"2024-01-05T00:00:00\",\"2024-01-08T00:00:00\",\"2024-01-09T00:00:00\",\"2024-01-10T00:00:00\",\"2024-01-11T00:00:00\",\"2024-01-12T00:00:00\",\"2024-01-15T00:00:00\",\"2024-01-16T00:00:00\",\"2024-01-17T00:00:00\",\"2024-01-18T00:00:00\",\"2024-01-19T00:00:00\",\"2024-01-22T00:00:00\",\"2024-01-23T00:00:00\",\"2024-01-24T00:00:00\",\"2024-01-25T00:00:00\",\"2024-01-26T00:00:00\",\"2024-01-29T00:00:00\",\"2024-01-30T00:00:00\",\"2024-01-31T00:00:00\",\"2024-02-01T00:00:00\",\"2024-02-02T00:00:00\",\"2024-02-05T00:00:00\",\"2024-02-06T00:00:00\",\"2024-02-07T00:00:00\",\"2024-02-08T00:00:00\",\"2024-02-09T00:00:00\",\"2024-02-12T00:00:00\",\"2024-02-13T00:00:00\",\"2024-02-14T00:00:00\",\"2024-02-15T00:00:00\",\"2024-02-16T00:00:00\",\"2024-02-19T00:00:00\",\"2024-02-20T00:00:00\",\"2024-02-21T00:00:00\",\"2024-02-22T00:00:00\",\"2024-02-23T00:00:00\",\"2024-02-26T00:00:00\",\"2024-02-27T00:00:00\",\"2024-02-28T00:00:00\",\"2024-02-29T00:00:00\",\"2024-03-01T00:00:00\",\"2024-03-04T00:00:00\",\"2024-03-05T00:00:00\",\"2024-03-06T00:00:00\",\"2024-03-07T00:00:00\",\"2024-03-08T00:00:00\"],\"y\":[421.1700134277344,420.6000061035156,427.010009765625,432.5299987792968,433.17999267578125,431.2300109863281,429.8800048828125,433.5700073242187,432.45001220703125,429.08999633789057,425.7300109863281,421.0799865722656,417.79998779296875,420.739990234375,417.0199890136719,411.60000610351557,409.2099914550781,412.2200012207031,414.2099914550781,418.64999389648443,426.5599975585938,433.01000976562494,433.67999267578125,434.510009765625,434.8699951171875,433.3999938964844,433.8299865722656,438.4200134277344,446.0899963378906,448.79998779296875,448.1199951171875,449.2900085449219,450.5199890136719,451.95999145507807,453.8900146484375,453.8900146484375,454.7300109863281,454.0799865722656,453.5,454.20001220703125,453.3399963378907,455.1600036621094,454.3399963378906,454.8699951171875,454.30999755859375,456.2900085449219,457.2099914550781,459.4700012207031,460.6000061035156,464.1199951171875,469.25000000000006,467.42999267578125,469.8900146484375,472.45001220703125,467.82000732421875,468.8399963378906,471.70001220703125,471.70001220703125,473.989990234375,474.89001464843756,476.26000976562494,473.29998779296875,473.29998779296875,470.48999023437506,468.1700134277344,467.0499877929688,466.42999267578125,468.29998779296875,471.3500061035156,473.8699951171875,472.26000976562494,475.2300109863282,475.2300109863282,473.05999755859375,469.8699951171875,472.4200134277344,476.5400085449219,482.7799987792969,482.8900146484375,484.8800048828125,485.3900146484375,486.5400085449219,487.1700134277344,490.1099853515625,482.8599853515625,483.79998779296875,489.29998779296875,490.23001098632807,492.04998779296875,495.3599853515625,497.260009765625,498.489990234375,500.23999023437506,490.7200012207031,494.3999938964844,498.79998779296875,498.75,498.75,494.4500122070313,493.55999755859375,503.0199890136719,507.1000061035156,505.8599853515625,504.75,504.9599914550781,505.3500061035156,508.55999755859375,512.0,504.9100036621094,508.42001342773443,509.80999755859375,511.1300048828125],\"type\":\"scatter\",\"xaxis\":\"x3\",\"yaxis\":\"y3\"},{\"line\":{\"dash\":\"dash\"},\"mode\":\"lines\",\"name\":\"Predicted Low\",\"x\":[\"2023-10-05T00:00:00\",\"2023-10-06T00:00:00\",\"2023-10-09T00:00:00\",\"2023-10-10T00:00:00\",\"2023-10-11T00:00:00\",\"2023-10-12T00:00:00\",\"2023-10-13T00:00:00\",\"2023-10-16T00:00:00\",\"2023-10-17T00:00:00\",\"2023-10-18T00:00:00\",\"2023-10-19T00:00:00\",\"2023-10-20T00:00:00\",\"2023-10-23T00:00:00\",\"2023-10-24T00:00:00\",\"2023-10-25T00:00:00\",\"2023-10-26T00:00:00\",\"2023-10-27T00:00:00\",\"2023-10-30T00:00:00\",\"2023-10-31T00:00:00\",\"2023-11-01T00:00:00\",\"2023-11-02T00:00:00\",\"2023-11-03T00:00:00\",\"2023-11-06T00:00:00\",\"2023-11-07T00:00:00\",\"2023-11-08T00:00:00\",\"2023-11-09T00:00:00\",\"2023-11-10T00:00:00\",\"2023-11-13T00:00:00\",\"2023-11-14T00:00:00\",\"2023-11-15T00:00:00\",\"2023-11-16T00:00:00\",\"2023-11-17T00:00:00\",\"2023-11-20T00:00:00\",\"2023-11-21T00:00:00\",\"2023-11-22T00:00:00\",\"2023-11-23T00:00:00\",\"2023-11-24T00:00:00\",\"2023-11-27T00:00:00\",\"2023-11-28T00:00:00\",\"2023-11-29T00:00:00\",\"2023-11-30T00:00:00\",\"2023-12-01T00:00:00\",\"2023-12-04T00:00:00\",\"2023-12-05T00:00:00\",\"2023-12-06T00:00:00\",\"2023-12-07T00:00:00\",\"2023-12-08T00:00:00\",\"2023-12-11T00:00:00\",\"2023-12-12T00:00:00\",\"2023-12-13T00:00:00\",\"2023-12-14T00:00:00\",\"2023-12-15T00:00:00\",\"2023-12-18T00:00:00\",\"2023-12-19T00:00:00\",\"2023-12-20T00:00:00\",\"2023-12-21T00:00:00\",\"2023-12-22T00:00:00\",\"2023-12-25T00:00:00\",\"2023-12-26T00:00:00\",\"2023-12-27T00:00:00\",\"2023-12-28T00:00:00\",\"2023-12-29T00:00:00\",\"2024-01-01T00:00:00\",\"2024-01-02T00:00:00\",\"2024-01-03T00:00:00\",\"2024-01-04T00:00:00\",\"2024-01-05T00:00:00\",\"2024-01-08T00:00:00\",\"2024-01-09T00:00:00\",\"2024-01-10T00:00:00\",\"2024-01-11T00:00:00\",\"2024-01-12T00:00:00\",\"2024-01-15T00:00:00\",\"2024-01-16T00:00:00\",\"2024-01-17T00:00:00\",\"2024-01-18T00:00:00\",\"2024-01-19T00:00:00\",\"2024-01-22T00:00:00\",\"2024-01-23T00:00:00\",\"2024-01-24T00:00:00\",\"2024-01-25T00:00:00\",\"2024-01-26T00:00:00\",\"2024-01-29T00:00:00\",\"2024-01-30T00:00:00\",\"2024-01-31T00:00:00\",\"2024-02-01T00:00:00\",\"2024-02-02T00:00:00\",\"2024-02-05T00:00:00\",\"2024-02-06T00:00:00\",\"2024-02-07T00:00:00\",\"2024-02-08T00:00:00\",\"2024-02-09T00:00:00\",\"2024-02-12T00:00:00\",\"2024-02-13T00:00:00\",\"2024-02-14T00:00:00\",\"2024-02-15T00:00:00\",\"2024-02-16T00:00:00\",\"2024-02-19T00:00:00\",\"2024-02-20T00:00:00\",\"2024-02-21T00:00:00\",\"2024-02-22T00:00:00\",\"2024-02-23T00:00:00\",\"2024-02-26T00:00:00\",\"2024-02-27T00:00:00\",\"2024-02-28T00:00:00\",\"2024-02-29T00:00:00\",\"2024-03-01T00:00:00\",\"2024-03-04T00:00:00\",\"2024-03-05T00:00:00\",\"2024-03-06T00:00:00\",\"2024-03-07T00:00:00\",\"2024-03-08T00:00:00\"],\"y\":[422.4037780761719,421.40234375,422.40472412109375,425.5784606933594,430.1048889160156,432.96099853515625,433.7085266113281,433.0087585449219,433.4158935546875,434.1550598144531,432.78289794921875,429.9273986816406,425.2181701660156,419.94036865234375,417.7752380371094,416.659912109375,414.7062683105469,411.2851867675781,409.8486022949219,411.36962890625,415.6573486328125,422.28900146484375,426.2772216796875,429.02947998046875,430.94451904296875,432.9326171875,434.1259460449219,435.604736328125,437.7425231933594,442.8248596191406,447.0676574707031,449.0882263183594,450.2055969238281,451.67919921875,453.0841979980469,454.87115478515625,455.8438720703125,456.16204833984375,455.7596740722656,455.0428466796875,455.259521484375,455.39996337890625,456.0762023925781,456.3686828613281,455.7662353515625,455.7927551269531,456.645263671875,457.9446716308594,460.03179931640625,462.42364501953125,466.3995056152344,471.47137451171875,472.16717529296875,473.2061767578125,475.3547668457031,474.14300537109375,472.39166259765625,472.4993591308594,473.2108154296875,474.2488708496094,475.568603515625,476.9747314453125,476.3597717285156,474.9647216796875,471.8095703125,467.12420654296875,463.53570556640625,461.8548583984375,463.9547119140625,468.1340637207031,472.7893981933594,475.898681640625,477.6543273925781,478.3965759277344,476.5240173339844,472.1013488769531,470.676513671875,474.5881042480469,481.5450439453125,486.28179931640625,489.0767822265625,490.5757141113281,490.4939880371094,490.9338073730469,491.72894287109375,487.42291259765625,483.0909423828125,485.26422119140625,489.32452392578125,492.0105285644531,495.5299072265625,498.4194030761719,500.6814270019531,502.251708984375,495.7735595703125,490.7355651855469,492.3045654296875,494.88818359375,495.9388122558594,492.27874755859375,487.86920166015625,494.0932922363281,503.91314697265625,508.1358642578125,506.28125,502.91351318359375,502.1066589355469,504.579833984375,507.8240051269531,504.4017028808594,501.1087951660156,503.2665100097656],\"type\":\"scatter\",\"xaxis\":\"x3\",\"yaxis\":\"y3\"},{\"mode\":\"lines\",\"name\":\"Actual Close\",\"x\":[\"2023-10-05T00:00:00\",\"2023-10-06T00:00:00\",\"2023-10-09T00:00:00\",\"2023-10-10T00:00:00\",\"2023-10-11T00:00:00\",\"2023-10-12T00:00:00\",\"2023-10-13T00:00:00\",\"2023-10-16T00:00:00\",\"2023-10-17T00:00:00\",\"2023-10-18T00:00:00\",\"2023-10-19T00:00:00\",\"2023-10-20T00:00:00\",\"2023-10-23T00:00:00\",\"2023-10-24T00:00:00\",\"2023-10-25T00:00:00\",\"2023-10-26T00:00:00\",\"2023-10-27T00:00:00\",\"2023-10-30T00:00:00\",\"2023-10-31T00:00:00\",\"2023-11-01T00:00:00\",\"2023-11-02T00:00:00\",\"2023-11-03T00:00:00\",\"2023-11-06T00:00:00\",\"2023-11-07T00:00:00\",\"2023-11-08T00:00:00\",\"2023-11-09T00:00:00\",\"2023-11-10T00:00:00\",\"2023-11-13T00:00:00\",\"2023-11-14T00:00:00\",\"2023-11-15T00:00:00\",\"2023-11-16T00:00:00\",\"2023-11-17T00:00:00\",\"2023-11-20T00:00:00\",\"2023-11-21T00:00:00\",\"2023-11-22T00:00:00\",\"2023-11-23T00:00:00\",\"2023-11-24T00:00:00\",\"2023-11-27T00:00:00\",\"2023-11-28T00:00:00\",\"2023-11-29T00:00:00\",\"2023-11-30T00:00:00\",\"2023-12-01T00:00:00\",\"2023-12-04T00:00:00\",\"2023-12-05T00:00:00\",\"2023-12-06T00:00:00\",\"2023-12-07T00:00:00\",\"2023-12-08T00:00:00\",\"2023-12-11T00:00:00\",\"2023-12-12T00:00:00\",\"2023-12-13T00:00:00\",\"2023-12-14T00:00:00\",\"2023-12-15T00:00:00\",\"2023-12-18T00:00:00\",\"2023-12-19T00:00:00\",\"2023-12-20T00:00:00\",\"2023-12-21T00:00:00\",\"2023-12-22T00:00:00\",\"2023-12-25T00:00:00\",\"2023-12-26T00:00:00\",\"2023-12-27T00:00:00\",\"2023-12-28T00:00:00\",\"2023-12-29T00:00:00\",\"2024-01-01T00:00:00\",\"2024-01-02T00:00:00\",\"2024-01-03T00:00:00\",\"2024-01-04T00:00:00\",\"2024-01-05T00:00:00\",\"2024-01-08T00:00:00\",\"2024-01-09T00:00:00\",\"2024-01-10T00:00:00\",\"2024-01-11T00:00:00\",\"2024-01-12T00:00:00\",\"2024-01-15T00:00:00\",\"2024-01-16T00:00:00\",\"2024-01-17T00:00:00\",\"2024-01-18T00:00:00\",\"2024-01-19T00:00:00\",\"2024-01-22T00:00:00\",\"2024-01-23T00:00:00\",\"2024-01-24T00:00:00\",\"2024-01-25T00:00:00\",\"2024-01-26T00:00:00\",\"2024-01-29T00:00:00\",\"2024-01-30T00:00:00\",\"2024-01-31T00:00:00\",\"2024-02-01T00:00:00\",\"2024-02-02T00:00:00\",\"2024-02-05T00:00:00\",\"2024-02-06T00:00:00\",\"2024-02-07T00:00:00\",\"2024-02-08T00:00:00\",\"2024-02-09T00:00:00\",\"2024-02-12T00:00:00\",\"2024-02-13T00:00:00\",\"2024-02-14T00:00:00\",\"2024-02-15T00:00:00\",\"2024-02-16T00:00:00\",\"2024-02-19T00:00:00\",\"2024-02-20T00:00:00\",\"2024-02-21T00:00:00\",\"2024-02-22T00:00:00\",\"2024-02-23T00:00:00\",\"2024-02-26T00:00:00\",\"2024-02-27T00:00:00\",\"2024-02-28T00:00:00\",\"2024-02-29T00:00:00\",\"2024-03-01T00:00:00\",\"2024-03-04T00:00:00\",\"2024-03-05T00:00:00\",\"2024-03-06T00:00:00\",\"2024-03-07T00:00:00\",\"2024-03-08T00:00:00\"],\"y\":[424.5,429.5400085449219,432.2900085449219,434.5400085449219,436.32000732421875,433.6600036621094,431.5,436.04000854492193,436.0199890136719,430.2099914550781,426.42999267578125,421.19000244140625,420.4599914550781,423.6300048828125,417.5499877929688,412.54998779296875,410.67999267578125,415.5899963378907,418.20001220703125,422.6600036621094,430.760009765625,434.69000244140625,435.69000244140625,436.9299926757813,437.25,433.8399963378906,440.6099853515625,440.19000244140625,448.7300109863281,449.6799926757812,450.2300109863281,450.7900085449218,454.260009765625,453.2699890136719,455.0199890136719,455.0199890136719,455.2999877929687,454.4800109863281,454.92999267578125,454.6099853515625,456.3999938964844,459.1000061035156,456.69000244140625,456.6000061035157,454.760009765625,458.2300109863281,460.20001220703125,461.989990234375,464.1000061035156,470.5,472.010009765625,469.3299865722656,471.9700012207031,474.8399963378906,468.260009765625,472.70001220703125,473.64999389648443,473.64999389648443,475.64999389648443,476.510009765625,476.69000244140625,475.3099975585937,475.3099975585937,472.6499938964844,468.7900085449219,467.2799987792969,467.92001342773443,474.6000061035156,473.8800048828125,476.55999755859375,476.3500061035156,476.6799926757812,476.6799926757812,474.92999267578125,472.2900085449219,476.48999023437494,482.42999267578125,483.4500122070313,484.8599853515625,485.3900146484375,488.0299987792969,487.41000366210943,491.2699890136719,490.8900146484375,482.8800048828125,489.20001220703125,494.3500061035156,492.5499877929688,493.9800109863281,498.1000061035157,498.32000732421875,501.20001220703125,500.9800109863282,494.0799865722656,498.57000732421875,502.01000976562494,499.510009765625,499.510009765625,496.760009765625,497.2099914550781,507.5,507.8500061035156,505.989990234375,506.92999267578125,506.260009765625,508.0799865722657,512.8499755859375,512.2999877929688,507.17999267578125,509.75,514.8099975585938,511.7200012207031],\"type\":\"scatter\",\"xaxis\":\"x4\",\"yaxis\":\"y4\"},{\"line\":{\"dash\":\"dash\"},\"mode\":\"lines\",\"name\":\"Predicted Close\",\"x\":[\"2023-10-05T00:00:00\",\"2023-10-06T00:00:00\",\"2023-10-09T00:00:00\",\"2023-10-10T00:00:00\",\"2023-10-11T00:00:00\",\"2023-10-12T00:00:00\",\"2023-10-13T00:00:00\",\"2023-10-16T00:00:00\",\"2023-10-17T00:00:00\",\"2023-10-18T00:00:00\",\"2023-10-19T00:00:00\",\"2023-10-20T00:00:00\",\"2023-10-23T00:00:00\",\"2023-10-24T00:00:00\",\"2023-10-25T00:00:00\",\"2023-10-26T00:00:00\",\"2023-10-27T00:00:00\",\"2023-10-30T00:00:00\",\"2023-10-31T00:00:00\",\"2023-11-01T00:00:00\",\"2023-11-02T00:00:00\",\"2023-11-03T00:00:00\",\"2023-11-06T00:00:00\",\"2023-11-07T00:00:00\",\"2023-11-08T00:00:00\",\"2023-11-09T00:00:00\",\"2023-11-10T00:00:00\",\"2023-11-13T00:00:00\",\"2023-11-14T00:00:00\",\"2023-11-15T00:00:00\",\"2023-11-16T00:00:00\",\"2023-11-17T00:00:00\",\"2023-11-20T00:00:00\",\"2023-11-21T00:00:00\",\"2023-11-22T00:00:00\",\"2023-11-23T00:00:00\",\"2023-11-24T00:00:00\",\"2023-11-27T00:00:00\",\"2023-11-28T00:00:00\",\"2023-11-29T00:00:00\",\"2023-11-30T00:00:00\",\"2023-12-01T00:00:00\",\"2023-12-04T00:00:00\",\"2023-12-05T00:00:00\",\"2023-12-06T00:00:00\",\"2023-12-07T00:00:00\",\"2023-12-08T00:00:00\",\"2023-12-11T00:00:00\",\"2023-12-12T00:00:00\",\"2023-12-13T00:00:00\",\"2023-12-14T00:00:00\",\"2023-12-15T00:00:00\",\"2023-12-18T00:00:00\",\"2023-12-19T00:00:00\",\"2023-12-20T00:00:00\",\"2023-12-21T00:00:00\",\"2023-12-22T00:00:00\",\"2023-12-25T00:00:00\",\"2023-12-26T00:00:00\",\"2023-12-27T00:00:00\",\"2023-12-28T00:00:00\",\"2023-12-29T00:00:00\",\"2024-01-01T00:00:00\",\"2024-01-02T00:00:00\",\"2024-01-03T00:00:00\",\"2024-01-04T00:00:00\",\"2024-01-05T00:00:00\",\"2024-01-08T00:00:00\",\"2024-01-09T00:00:00\",\"2024-01-10T00:00:00\",\"2024-01-11T00:00:00\",\"2024-01-12T00:00:00\",\"2024-01-15T00:00:00\",\"2024-01-16T00:00:00\",\"2024-01-17T00:00:00\",\"2024-01-18T00:00:00\",\"2024-01-19T00:00:00\",\"2024-01-22T00:00:00\",\"2024-01-23T00:00:00\",\"2024-01-24T00:00:00\",\"2024-01-25T00:00:00\",\"2024-01-26T00:00:00\",\"2024-01-29T00:00:00\",\"2024-01-30T00:00:00\",\"2024-01-31T00:00:00\",\"2024-02-01T00:00:00\",\"2024-02-02T00:00:00\",\"2024-02-05T00:00:00\",\"2024-02-06T00:00:00\",\"2024-02-07T00:00:00\",\"2024-02-08T00:00:00\",\"2024-02-09T00:00:00\",\"2024-02-12T00:00:00\",\"2024-02-13T00:00:00\",\"2024-02-14T00:00:00\",\"2024-02-15T00:00:00\",\"2024-02-16T00:00:00\",\"2024-02-19T00:00:00\",\"2024-02-20T00:00:00\",\"2024-02-21T00:00:00\",\"2024-02-22T00:00:00\",\"2024-02-23T00:00:00\",\"2024-02-26T00:00:00\",\"2024-02-27T00:00:00\",\"2024-02-28T00:00:00\",\"2024-02-29T00:00:00\",\"2024-03-01T00:00:00\",\"2024-03-04T00:00:00\",\"2024-03-05T00:00:00\",\"2024-03-06T00:00:00\",\"2024-03-07T00:00:00\",\"2024-03-08T00:00:00\"],\"y\":[424.3273620605469,423.56640625,424.5193176269531,427.4752502441406,431.6373596191406,434.1791076660156,434.83441162109375,434.2585144042969,434.75091552734375,435.4315490722656,434.0836486816406,431.384765625,427.0437927246094,422.25384521484375,420.4942932128906,419.3151550292969,417.10552978515625,413.7853088378906,412.6514587402344,414.1225280761719,417.92901611328125,423.9127197265625,427.7425842285156,430.423828125,432.38018798828125,434.32904052734375,435.4661865234375,436.99969482421875,439.0428771972656,443.9588623046875,447.9062805175781,449.6616516113281,450.89501953125,452.45697021484375,453.81805419921875,455.5401916503906,456.4447021484375,456.7673645019531,456.4109191894531,455.8695373535156,456.2430114746094,456.3855895996094,457.1430358886719,457.3458251953125,456.79632568359375,456.8769836425781,457.70404052734375,458.9189147949219,460.85302734375,463.0588073730469,466.9142150878906,471.7619323730469,472.254150390625,473.3527526855469,475.47869873046875,474.3126220703125,472.8977355957031,473.36090087890625,473.97552490234375,474.97601318359375,476.1813659667969,477.4826965332031,476.8202209472656,475.6909484863281,472.7001953125,468.51556396484375,465.3855285644531,463.9941711425781,466.1807861328125,469.8685607910156,473.96026611328125,476.4959411621094,478.06402587890625,478.7095031738281,476.9420471191406,472.8631591796875,472.1402282714844,476.2216796875,482.5305480957031,486.324951171875,488.8606872558594,490.2823791503906,490.3684387207031,491.0423889160156,492.02923583984375,487.7098693847656,484.2376708984375,487.0829772949219,490.6067810058594,492.7449645996094,496.1233215332031,498.6977844238281,500.85455322265625,502.37420654296875,495.8945007324219,492.38232421875,494.5280456542969,496.755615234375,497.372314453125,493.6156005859375,489.85516357421875,496.7818603515625,505.4262390136719,508.2475280761719,506.4786376953125,503.7169189453125,503.4888916015625,506.2115783691406,509.21697998046875,505.51654052734375,503.18798828125,505.75701904296875],\"type\":\"scatter\",\"xaxis\":\"x4\",\"yaxis\":\"y4\"}],                        {\"template\":{\"data\":{\"histogram2dcontour\":[{\"type\":\"histogram2dcontour\",\"colorbar\":{\"outlinewidth\":0,\"ticks\":\"\"},\"colorscale\":[[0.0,\"#0d0887\"],[0.1111111111111111,\"#46039f\"],[0.2222222222222222,\"#7201a8\"],[0.3333333333333333,\"#9c179e\"],[0.4444444444444444,\"#bd3786\"],[0.5555555555555556,\"#d8576b\"],[0.6666666666666666,\"#ed7953\"],[0.7777777777777778,\"#fb9f3a\"],[0.8888888888888888,\"#fdca26\"],[1.0,\"#f0f921\"]]}],\"choropleth\":[{\"type\":\"choropleth\",\"colorbar\":{\"outlinewidth\":0,\"ticks\":\"\"}}],\"histogram2d\":[{\"type\":\"histogram2d\",\"colorbar\":{\"outlinewidth\":0,\"ticks\":\"\"},\"colorscale\":[[0.0,\"#0d0887\"],[0.1111111111111111,\"#46039f\"],[0.2222222222222222,\"#7201a8\"],[0.3333333333333333,\"#9c179e\"],[0.4444444444444444,\"#bd3786\"],[0.5555555555555556,\"#d8576b\"],[0.6666666666666666,\"#ed7953\"],[0.7777777777777778,\"#fb9f3a\"],[0.8888888888888888,\"#fdca26\"],[1.0,\"#f0f921\"]]}],\"heatmap\":[{\"type\":\"heatmap\",\"colorbar\":{\"outlinewidth\":0,\"ticks\":\"\"},\"colorscale\":[[0.0,\"#0d0887\"],[0.1111111111111111,\"#46039f\"],[0.2222222222222222,\"#7201a8\"],[0.3333333333333333,\"#9c179e\"],[0.4444444444444444,\"#bd3786\"],[0.5555555555555556,\"#d8576b\"],[0.6666666666666666,\"#ed7953\"],[0.7777777777777778,\"#fb9f3a\"],[0.8888888888888888,\"#fdca26\"],[1.0,\"#f0f921\"]]}],\"heatmapgl\":[{\"type\":\"heatmapgl\",\"colorbar\":{\"outlinewidth\":0,\"ticks\":\"\"},\"colorscale\":[[0.0,\"#0d0887\"],[0.1111111111111111,\"#46039f\"],[0.2222222222222222,\"#7201a8\"],[0.3333333333333333,\"#9c179e\"],[0.4444444444444444,\"#bd3786\"],[0.5555555555555556,\"#d8576b\"],[0.6666666666666666,\"#ed7953\"],[0.7777777777777778,\"#fb9f3a\"],[0.8888888888888888,\"#fdca26\"],[1.0,\"#f0f921\"]]}],\"contourcarpet\":[{\"type\":\"contourcarpet\",\"colorbar\":{\"outlinewidth\":0,\"ticks\":\"\"}}],\"contour\":[{\"type\":\"contour\",\"colorbar\":{\"outlinewidth\":0,\"ticks\":\"\"},\"colorscale\":[[0.0,\"#0d0887\"],[0.1111111111111111,\"#46039f\"],[0.2222222222222222,\"#7201a8\"],[0.3333333333333333,\"#9c179e\"],[0.4444444444444444,\"#bd3786\"],[0.5555555555555556,\"#d8576b\"],[0.6666666666666666,\"#ed7953\"],[0.7777777777777778,\"#fb9f3a\"],[0.8888888888888888,\"#fdca26\"],[1.0,\"#f0f921\"]]}],\"surface\":[{\"type\":\"surface\",\"colorbar\":{\"outlinewidth\":0,\"ticks\":\"\"},\"colorscale\":[[0.0,\"#0d0887\"],[0.1111111111111111,\"#46039f\"],[0.2222222222222222,\"#7201a8\"],[0.3333333333333333,\"#9c179e\"],[0.4444444444444444,\"#bd3786\"],[0.5555555555555556,\"#d8576b\"],[0.6666666666666666,\"#ed7953\"],[0.7777777777777778,\"#fb9f3a\"],[0.8888888888888888,\"#fdca26\"],[1.0,\"#f0f921\"]]}],\"mesh3d\":[{\"type\":\"mesh3d\",\"colorbar\":{\"outlinewidth\":0,\"ticks\":\"\"}}],\"scatter\":[{\"fillpattern\":{\"fillmode\":\"overlay\",\"size\":10,\"solidity\":0.2},\"type\":\"scatter\"}],\"parcoords\":[{\"type\":\"parcoords\",\"line\":{\"colorbar\":{\"outlinewidth\":0,\"ticks\":\"\"}}}],\"scatterpolargl\":[{\"type\":\"scatterpolargl\",\"marker\":{\"colorbar\":{\"outlinewidth\":0,\"ticks\":\"\"}}}],\"bar\":[{\"error_x\":{\"color\":\"#2a3f5f\"},\"error_y\":{\"color\":\"#2a3f5f\"},\"marker\":{\"line\":{\"color\":\"#E5ECF6\",\"width\":0.5},\"pattern\":{\"fillmode\":\"overlay\",\"size\":10,\"solidity\":0.2}},\"type\":\"bar\"}],\"scattergeo\":[{\"type\":\"scattergeo\",\"marker\":{\"colorbar\":{\"outlinewidth\":0,\"ticks\":\"\"}}}],\"scatterpolar\":[{\"type\":\"scatterpolar\",\"marker\":{\"colorbar\":{\"outlinewidth\":0,\"ticks\":\"\"}}}],\"histogram\":[{\"marker\":{\"pattern\":{\"fillmode\":\"overlay\",\"size\":10,\"solidity\":0.2}},\"type\":\"histogram\"}],\"scattergl\":[{\"type\":\"scattergl\",\"marker\":{\"colorbar\":{\"outlinewidth\":0,\"ticks\":\"\"}}}],\"scatter3d\":[{\"type\":\"scatter3d\",\"line\":{\"colorbar\":{\"outlinewidth\":0,\"ticks\":\"\"}},\"marker\":{\"colorbar\":{\"outlinewidth\":0,\"ticks\":\"\"}}}],\"scattermapbox\":[{\"type\":\"scattermapbox\",\"marker\":{\"colorbar\":{\"outlinewidth\":0,\"ticks\":\"\"}}}],\"scatterternary\":[{\"type\":\"scatterternary\",\"marker\":{\"colorbar\":{\"outlinewidth\":0,\"ticks\":\"\"}}}],\"scattercarpet\":[{\"type\":\"scattercarpet\",\"marker\":{\"colorbar\":{\"outlinewidth\":0,\"ticks\":\"\"}}}],\"carpet\":[{\"aaxis\":{\"endlinecolor\":\"#2a3f5f\",\"gridcolor\":\"white\",\"linecolor\":\"white\",\"minorgridcolor\":\"white\",\"startlinecolor\":\"#2a3f5f\"},\"baxis\":{\"endlinecolor\":\"#2a3f5f\",\"gridcolor\":\"white\",\"linecolor\":\"white\",\"minorgridcolor\":\"white\",\"startlinecolor\":\"#2a3f5f\"},\"type\":\"carpet\"}],\"table\":[{\"cells\":{\"fill\":{\"color\":\"#EBF0F8\"},\"line\":{\"color\":\"white\"}},\"header\":{\"fill\":{\"color\":\"#C8D4E3\"},\"line\":{\"color\":\"white\"}},\"type\":\"table\"}],\"barpolar\":[{\"marker\":{\"line\":{\"color\":\"#E5ECF6\",\"width\":0.5},\"pattern\":{\"fillmode\":\"overlay\",\"size\":10,\"solidity\":0.2}},\"type\":\"barpolar\"}],\"pie\":[{\"automargin\":true,\"type\":\"pie\"}]},\"layout\":{\"autotypenumbers\":\"strict\",\"colorway\":[\"#636efa\",\"#EF553B\",\"#00cc96\",\"#ab63fa\",\"#FFA15A\",\"#19d3f3\",\"#FF6692\",\"#B6E880\",\"#FF97FF\",\"#FECB52\"],\"font\":{\"color\":\"#2a3f5f\"},\"hovermode\":\"closest\",\"hoverlabel\":{\"align\":\"left\"},\"paper_bgcolor\":\"white\",\"plot_bgcolor\":\"#E5ECF6\",\"polar\":{\"bgcolor\":\"#E5ECF6\",\"angularaxis\":{\"gridcolor\":\"white\",\"linecolor\":\"white\",\"ticks\":\"\"},\"radialaxis\":{\"gridcolor\":\"white\",\"linecolor\":\"white\",\"ticks\":\"\"}},\"ternary\":{\"bgcolor\":\"#E5ECF6\",\"aaxis\":{\"gridcolor\":\"white\",\"linecolor\":\"white\",\"ticks\":\"\"},\"baxis\":{\"gridcolor\":\"white\",\"linecolor\":\"white\",\"ticks\":\"\"},\"caxis\":{\"gridcolor\":\"white\",\"linecolor\":\"white\",\"ticks\":\"\"}},\"coloraxis\":{\"colorbar\":{\"outlinewidth\":0,\"ticks\":\"\"}},\"colorscale\":{\"sequential\":[[0.0,\"#0d0887\"],[0.1111111111111111,\"#46039f\"],[0.2222222222222222,\"#7201a8\"],[0.3333333333333333,\"#9c179e\"],[0.4444444444444444,\"#bd3786\"],[0.5555555555555556,\"#d8576b\"],[0.6666666666666666,\"#ed7953\"],[0.7777777777777778,\"#fb9f3a\"],[0.8888888888888888,\"#fdca26\"],[1.0,\"#f0f921\"]],\"sequentialminus\":[[0.0,\"#0d0887\"],[0.1111111111111111,\"#46039f\"],[0.2222222222222222,\"#7201a8\"],[0.3333333333333333,\"#9c179e\"],[0.4444444444444444,\"#bd3786\"],[0.5555555555555556,\"#d8576b\"],[0.6666666666666666,\"#ed7953\"],[0.7777777777777778,\"#fb9f3a\"],[0.8888888888888888,\"#fdca26\"],[1.0,\"#f0f921\"]],\"diverging\":[[0,\"#8e0152\"],[0.1,\"#c51b7d\"],[0.2,\"#de77ae\"],[0.3,\"#f1b6da\"],[0.4,\"#fde0ef\"],[0.5,\"#f7f7f7\"],[0.6,\"#e6f5d0\"],[0.7,\"#b8e186\"],[0.8,\"#7fbc41\"],[0.9,\"#4d9221\"],[1,\"#276419\"]]},\"xaxis\":{\"gridcolor\":\"white\",\"linecolor\":\"white\",\"ticks\":\"\",\"title\":{\"standoff\":15},\"zerolinecolor\":\"white\",\"automargin\":true,\"zerolinewidth\":2},\"yaxis\":{\"gridcolor\":\"white\",\"linecolor\":\"white\",\"ticks\":\"\",\"title\":{\"standoff\":15},\"zerolinecolor\":\"white\",\"automargin\":true,\"zerolinewidth\":2},\"scene\":{\"xaxis\":{\"backgroundcolor\":\"#E5ECF6\",\"gridcolor\":\"white\",\"linecolor\":\"white\",\"showbackground\":true,\"ticks\":\"\",\"zerolinecolor\":\"white\",\"gridwidth\":2},\"yaxis\":{\"backgroundcolor\":\"#E5ECF6\",\"gridcolor\":\"white\",\"linecolor\":\"white\",\"showbackground\":true,\"ticks\":\"\",\"zerolinecolor\":\"white\",\"gridwidth\":2},\"zaxis\":{\"backgroundcolor\":\"#E5ECF6\",\"gridcolor\":\"white\",\"linecolor\":\"white\",\"showbackground\":true,\"ticks\":\"\",\"zerolinecolor\":\"white\",\"gridwidth\":2}},\"shapedefaults\":{\"line\":{\"color\":\"#2a3f5f\"}},\"annotationdefaults\":{\"arrowcolor\":\"#2a3f5f\",\"arrowhead\":0,\"arrowwidth\":1},\"geo\":{\"bgcolor\":\"white\",\"landcolor\":\"#E5ECF6\",\"subunitcolor\":\"white\",\"showland\":true,\"showlakes\":true,\"lakecolor\":\"white\"},\"title\":{\"x\":0.05},\"mapbox\":{\"style\":\"light\"}}},\"xaxis\":{\"anchor\":\"y\",\"domain\":[0.0,1.0],\"matches\":\"x4\",\"showticklabels\":false,\"rangeslider\":{\"visible\":false}},\"yaxis\":{\"anchor\":\"x\",\"domain\":[0.7649999999999999,0.9999999999999999],\"title\":{\"text\":\"<b>Price</b>\"}},\"xaxis2\":{\"anchor\":\"y2\",\"domain\":[0.0,1.0],\"matches\":\"x4\",\"showticklabels\":false},\"yaxis2\":{\"anchor\":\"x2\",\"domain\":[0.51,0.745],\"title\":{\"text\":\"<b>Price</b>\"}},\"xaxis3\":{\"anchor\":\"y3\",\"domain\":[0.0,1.0],\"matches\":\"x4\",\"showticklabels\":false},\"yaxis3\":{\"anchor\":\"x3\",\"domain\":[0.255,0.49],\"title\":{\"text\":\"<b>Price</b>\"}},\"xaxis4\":{\"anchor\":\"y4\",\"domain\":[0.0,1.0],\"title\":{\"text\":\"<b>Date</b>\"}},\"yaxis4\":{\"anchor\":\"x4\",\"domain\":[0.0,0.235],\"title\":{\"text\":\"<b>Price</b>\"}},\"title\":{\"text\":\"Stock Price Forecasting\"},\"height\":800,\"width\":1000},                        {\"responsive\": true}                    ).then(function(){\n",
       "                            \n",
       "var gd = document.getElementById('af4df9ee-5e81-434e-9a3e-37bd4fcf49ea');\n",
       "var x = new MutationObserver(function (mutations, observer) {{\n",
       "        var display = window.getComputedStyle(gd).display;\n",
       "        if (!display || display === 'none') {{\n",
       "            console.log([gd, 'removed!']);\n",
       "            Plotly.purge(gd);\n",
       "            observer.disconnect();\n",
       "        }}\n",
       "}});\n",
       "\n",
       "// Listen for the removal of the full notebook cells\n",
       "var notebookContainer = gd.closest('#notebook-container');\n",
       "if (notebookContainer) {{\n",
       "    x.observe(notebookContainer, {childList: true});\n",
       "}}\n",
       "\n",
       "// Listen for the clearing of the current output cell\n",
       "var outputEl = gd.closest('.output');\n",
       "if (outputEl) {{\n",
       "    x.observe(outputEl, {childList: true});\n",
       "}}\n",
       "\n",
       "                        })                };                });            </script>        </div>"
      ]
     },
     "metadata": {},
     "output_type": "display_data"
    }
   ],
   "source": [
    "import numpy as np\n",
    "import yfinance as yf\n",
    "import pandas as pd\n",
    "from sklearn.preprocessing import MinMaxScaler\n",
    "from sklearn.metrics import mean_absolute_error, mean_squared_error\n",
    "from tensorflow.keras.models import Sequential\n",
    "from tensorflow.keras.layers import LSTM, Dense\n",
    "from plotly.subplots import make_subplots\n",
    "import plotly.graph_objects as go\n",
    "\n",
    "def download_stock_data(ticker, start_date, end_date):\n",
    "    stock_data = yf.download(ticker, start=start_date, end=end_date)\n",
    "    stock_data = stock_data.sort_index().asfreq('B', method='ffill')\n",
    "    stock_data.index = pd.to_datetime(stock_data.index)\n",
    "    return stock_data\n",
    "\n",
    "# def scale_data(data):\n",
    "#     scaler = MinMaxScaler()\n",
    "#     scaled_data = scaler.fit_transform(data)\n",
    "#     return scaler, scaled_data\n",
    "def scale_data(data, feature_names):\n",
    "    scaler = MinMaxScaler()\n",
    "    # Convert the data to a DataFrame to ensure feature names are used\n",
    "    data_df = pd.DataFrame(data, columns=feature_names)\n",
    "    scaled_data = scaler.fit_transform(data_df)\n",
    "    return scaler, scaled_data\n",
    "\n",
    "\n",
    "def create_sequences(data, seq_length):\n",
    "    xs, ys = [], []\n",
    "    for i in range(len(data) - seq_length):\n",
    "        xs.append(data[i:(i + seq_length)])\n",
    "        ys.append(data[i + seq_length])\n",
    "    return np.array(xs), np.array(ys)\n",
    "\n",
    "def build_and_train_model(X_train, y_train, seq_length, num_features, epochs, batch_size):\n",
    "    model = Sequential([\n",
    "        LSTM(50, activation='relu', return_sequences=True, input_shape=(seq_length, num_features)),\n",
    "        LSTM(50, activation='relu'),\n",
    "        Dense(num_features)\n",
    "    ])\n",
    "    model.compile(optimizer='adam', loss='mse')\n",
    "    model.fit(X_train, y_train, epochs=epochs, batch_size=batch_size, verbose=0)\n",
    "    return model\n",
    "\n",
    "def calculate_metrics(y_true, y_pred):\n",
    "    mae = mean_absolute_error(y_true, y_pred)\n",
    "    mse = mean_squared_error(y_true, y_pred)\n",
    "    rmse = np.sqrt(mse)\n",
    "    return mae, mse, rmse\n",
    "\n",
    "def plot_forecasts(stock_data, predicted_values, y_test, seq_length, split_idx, scaler):\n",
    "    dates = stock_data.index[split_idx + seq_length:]\n",
    "    predicted_prices = scaler.inverse_transform(predicted_values)\n",
    "    actual_prices = scaler.inverse_transform(y_test)\n",
    "\n",
    "    fig = make_subplots(rows=4, cols=1, shared_xaxes=True, vertical_spacing=0.02)\n",
    "    feature_names = ['Open', 'High', 'Low', 'Close']\n",
    "\n",
    "    for i, feature in enumerate(feature_names):\n",
    "        fig.add_trace(go.Scatter(x=dates, y=actual_prices[:, i], mode='lines', name=f'Actual {feature}'), row=i+1, col=1)\n",
    "        fig.add_trace(go.Scatter(x=dates, y=predicted_prices[:, i], mode='lines', name=f'Predicted {feature}', line=dict(dash='dash')), row=i+1, col=1)\n",
    "\n",
    "    fig.update_layout(height=800, width=1000, title_text=\"Stock Price Forecasting\")\n",
    "    fig.update_yaxes(title_text=\"<b>Price</b>\")\n",
    "    fig.update_xaxes(title_text=\"<b>Date</b>\", row=4, col=1)\n",
    "    fig.update_layout(xaxis_rangeslider_visible=False)\n",
    "    fig.show()\n",
    "\n",
    "def forecast_and_plot(stock_data, features, seq_length):\n",
    "#     scaler, scaled_data = scale_data(stock_data[features].values)\n",
    "    scaler, scaled_data = scale_data(stock_data[features].values, features)\n",
    "    X, y = create_sequences(scaled_data, seq_length)\n",
    "    split_idx = int(len(X) * 0.8)\n",
    "    X_train, y_train = X[:split_idx], y[:split_idx]\n",
    "    X_test, y_test = X[split_idx:], y[split_idx:]\n",
    "\n",
    "    X_train = X_train.reshape((X_train.shape[0], X_train.shape[1], len(features)))\n",
    "    X_test = X_test.reshape((X_test.shape[0], X_test.shape[1], len(features)))\n",
    "    \n",
    "    model = build_and_train_model(X_train, y_train, seq_length, len(features), epochs=50, batch_size=32)\n",
    "    predicted_values = model.predict(X_test)\n",
    "    mae, mse, rmse = calculate_metrics(scaler.inverse_transform(y_test), scaler.inverse_transform(predicted_values))\n",
    "    \n",
    "    print(f\"MAE: {mae}, MSE: {mse}, RMSE: {rmse}\")\n",
    "    plot_forecasts(stock_data, predicted_values, y_test, seq_length, split_idx, scaler)\n",
    "\n",
    "# Parameters and usage\n",
    "ticker = 'SPY'\n",
    "features = ['Open', 'High', 'Low', 'Close']\n",
    "start_date = '2022-01-01'\n",
    "end_date = '2024-03-11'\n",
    "seq_length = 10\n",
    "\n",
    "stock_data = download_stock_data(ticker, start_date, end_date)\n",
    "forecast_and_plot(stock_data, features, seq_length)\n"
   ]
  },
  {
   "cell_type": "markdown",
   "id": "2570a4bf",
   "metadata": {},
   "source": [
    "## Future Price Forecasting Function\n",
    "\n",
    "The `forecast_future` function aims to predict future stock prices for a set number of days beyond the available data. It uses the last known data sequence as the input to the LSTM model to generate future predictions iteratively.\n",
    "\n",
    "### Parameters:\n",
    "- `stock_data`: The DataFrame containing historical stock data.\n",
    "- `model`: The trained LSTM model for prediction.\n",
    "- `scaler`: The scaler object used for normalizing the data.\n",
    "- `seq_length`: The length of the input data sequence for the LSTM model.\n",
    "- `num_features`: The number of features in the input data.\n",
    "- `future_days`: The number of future days to predict.\n",
    "\n",
    "### Process:\n",
    "- The function first extracts the last sequence of data from the DataFrame.\n",
    "- This sequence is then scaled and fed into the model to predict the next time step.\n",
    "- This process is repeated for the specified number of `future_days`.\n",
    "- Each new prediction is appended to the sequence for subsequent predictions.\n",
    "\n",
    "### Returns:\n",
    "- `future_predictions`: An array of predicted values for the specified number of days into the future.\n",
    "\n",
    "## Complete Forecasting and Plotting Function\n",
    "\n",
    "The `forecast_and_plot_complete` function encompasses the entire process of forecasting and visualization. It integrates data preparation, model training, evaluation, and future price prediction into a single workflow.\n",
    "\n",
    "### Parameters:\n",
    "- `ticker`: The stock symbol for the company being analyzed.\n",
    "- `features`: The list of stock attributes to use for prediction, such as 'Open', 'High', 'Low', 'Close'.\n",
    "- `start_date`: The starting date for the historical data to download.\n",
    "- `end_date`: The ending date for the historical data to download.\n",
    "- `seq_length`: The length of the sequence to use in the LSTM model.\n",
    "- `future_days`: The number of future days to forecast and visualize.\n",
    "\n",
    "### Workflow:\n",
    "- The function begins by downloading and scaling the stock data.\n",
    "- It then creates sequences for the LSTM and splits the data into training and test sets.\n",
    "- A LSTM model is built and trained with the training data.\n",
    "- The model's performance is evaluated on the test data using metrics such as MAE, MSE, and RMSE.\n",
    "- Future prices are forecasted using the entire available dataset.\n",
    "- The future predictions are visualized as 'ghost candles' on a plot, providing a graphical representation of expected future price movements.\n",
    "\n",
    "### Execution:\n",
    "- Set the parameters for the stock symbol, features, date range, and sequence length.\n",
    "- Call `forecast_and_plot_complete` to perform the forecasting and plotting.\n"
   ]
  },
  {
   "cell_type": "code",
   "execution_count": 19,
   "id": "09b4c695",
   "metadata": {},
   "outputs": [
    {
     "name": "stdout",
     "output_type": "stream",
     "text": [
      "[*********************100%%**********************]  1 of 1 completed\n",
      "4/4 [==============================] - 0s 3ms/step\n",
      "Test Set - MAE: 10.584443546035917, MSE: 194.51482103463235, RMSE: 13.94685703069449\n",
      "1/1 [==============================] - 0s 18ms/step\n",
      "1/1 [==============================] - 0s 21ms/step\n",
      "1/1 [==============================] - 0s 18ms/step\n",
      "1/1 [==============================] - 0s 20ms/step\n",
      "1/1 [==============================] - 0s 19ms/step\n",
      "1/1 [==============================] - 0s 18ms/step\n",
      "1/1 [==============================] - 0s 22ms/step\n",
      "1/1 [==============================] - 0s 17ms/step\n",
      "1/1 [==============================] - 0s 16ms/step\n",
      "1/1 [==============================] - 0s 16ms/step\n"
     ]
    },
    {
     "data": {
      "application/vnd.plotly.v1+json": {
       "config": {
        "plotlyServerURL": "https://plot.ly"
       },
       "data": [
        {
         "close": [
          485.5971374511719,
          458.3362731933594,
          404.78118896484375,
          327.1553955078125,
          247.78004455566406,
          190.5751190185547,
          160.71099853515625,
          150.780517578125,
          153.55508422851562,
          165.9988555908203
         ],
         "high": [
          485.2488098144531,
          463.85040283203125,
          420.9390563964844,
          362.4102478027344,
          310.3924865722656,
          277.11895751953125,
          263.59698486328125,
          262.5740966796875,
          268.8914794921875,
          279.2218017578125
         ],
         "low": [
          464.3155517578125,
          435.1337585449219,
          379.31005859375,
          299.2076721191406,
          219.99208068847656,
          170.07017517089844,
          148.349609375,
          146.42942810058594,
          156.65687561035156,
          174.64749145507812
         ],
         "name": "Ghost Candles",
         "open": [
          480.3304443359375,
          456.0342102050781,
          406.1466064453125,
          334.4013977050781,
          264.3008117675781,
          216.40310668945312,
          192.06192016601562,
          186.00384521484375,
          191.8387451171875,
          205.4678192138672
         ],
         "type": "candlestick",
         "x": [
          "2024-03-11T00:00:00",
          "2024-03-12T00:00:00",
          "2024-03-13T00:00:00",
          "2024-03-14T00:00:00",
          "2024-03-15T00:00:00",
          "2024-03-18T00:00:00",
          "2024-03-19T00:00:00",
          "2024-03-20T00:00:00",
          "2024-03-21T00:00:00",
          "2024-03-22T00:00:00"
         ]
        }
       ],
       "layout": {
        "template": {
         "data": {
          "bar": [
           {
            "error_x": {
             "color": "#2a3f5f"
            },
            "error_y": {
             "color": "#2a3f5f"
            },
            "marker": {
             "line": {
              "color": "#E5ECF6",
              "width": 0.5
             },
             "pattern": {
              "fillmode": "overlay",
              "size": 10,
              "solidity": 0.2
             }
            },
            "type": "bar"
           }
          ],
          "barpolar": [
           {
            "marker": {
             "line": {
              "color": "#E5ECF6",
              "width": 0.5
             },
             "pattern": {
              "fillmode": "overlay",
              "size": 10,
              "solidity": 0.2
             }
            },
            "type": "barpolar"
           }
          ],
          "carpet": [
           {
            "aaxis": {
             "endlinecolor": "#2a3f5f",
             "gridcolor": "white",
             "linecolor": "white",
             "minorgridcolor": "white",
             "startlinecolor": "#2a3f5f"
            },
            "baxis": {
             "endlinecolor": "#2a3f5f",
             "gridcolor": "white",
             "linecolor": "white",
             "minorgridcolor": "white",
             "startlinecolor": "#2a3f5f"
            },
            "type": "carpet"
           }
          ],
          "choropleth": [
           {
            "colorbar": {
             "outlinewidth": 0,
             "ticks": ""
            },
            "type": "choropleth"
           }
          ],
          "contour": [
           {
            "colorbar": {
             "outlinewidth": 0,
             "ticks": ""
            },
            "colorscale": [
             [
              0,
              "#0d0887"
             ],
             [
              0.1111111111111111,
              "#46039f"
             ],
             [
              0.2222222222222222,
              "#7201a8"
             ],
             [
              0.3333333333333333,
              "#9c179e"
             ],
             [
              0.4444444444444444,
              "#bd3786"
             ],
             [
              0.5555555555555556,
              "#d8576b"
             ],
             [
              0.6666666666666666,
              "#ed7953"
             ],
             [
              0.7777777777777778,
              "#fb9f3a"
             ],
             [
              0.8888888888888888,
              "#fdca26"
             ],
             [
              1,
              "#f0f921"
             ]
            ],
            "type": "contour"
           }
          ],
          "contourcarpet": [
           {
            "colorbar": {
             "outlinewidth": 0,
             "ticks": ""
            },
            "type": "contourcarpet"
           }
          ],
          "heatmap": [
           {
            "colorbar": {
             "outlinewidth": 0,
             "ticks": ""
            },
            "colorscale": [
             [
              0,
              "#0d0887"
             ],
             [
              0.1111111111111111,
              "#46039f"
             ],
             [
              0.2222222222222222,
              "#7201a8"
             ],
             [
              0.3333333333333333,
              "#9c179e"
             ],
             [
              0.4444444444444444,
              "#bd3786"
             ],
             [
              0.5555555555555556,
              "#d8576b"
             ],
             [
              0.6666666666666666,
              "#ed7953"
             ],
             [
              0.7777777777777778,
              "#fb9f3a"
             ],
             [
              0.8888888888888888,
              "#fdca26"
             ],
             [
              1,
              "#f0f921"
             ]
            ],
            "type": "heatmap"
           }
          ],
          "heatmapgl": [
           {
            "colorbar": {
             "outlinewidth": 0,
             "ticks": ""
            },
            "colorscale": [
             [
              0,
              "#0d0887"
             ],
             [
              0.1111111111111111,
              "#46039f"
             ],
             [
              0.2222222222222222,
              "#7201a8"
             ],
             [
              0.3333333333333333,
              "#9c179e"
             ],
             [
              0.4444444444444444,
              "#bd3786"
             ],
             [
              0.5555555555555556,
              "#d8576b"
             ],
             [
              0.6666666666666666,
              "#ed7953"
             ],
             [
              0.7777777777777778,
              "#fb9f3a"
             ],
             [
              0.8888888888888888,
              "#fdca26"
             ],
             [
              1,
              "#f0f921"
             ]
            ],
            "type": "heatmapgl"
           }
          ],
          "histogram": [
           {
            "marker": {
             "pattern": {
              "fillmode": "overlay",
              "size": 10,
              "solidity": 0.2
             }
            },
            "type": "histogram"
           }
          ],
          "histogram2d": [
           {
            "colorbar": {
             "outlinewidth": 0,
             "ticks": ""
            },
            "colorscale": [
             [
              0,
              "#0d0887"
             ],
             [
              0.1111111111111111,
              "#46039f"
             ],
             [
              0.2222222222222222,
              "#7201a8"
             ],
             [
              0.3333333333333333,
              "#9c179e"
             ],
             [
              0.4444444444444444,
              "#bd3786"
             ],
             [
              0.5555555555555556,
              "#d8576b"
             ],
             [
              0.6666666666666666,
              "#ed7953"
             ],
             [
              0.7777777777777778,
              "#fb9f3a"
             ],
             [
              0.8888888888888888,
              "#fdca26"
             ],
             [
              1,
              "#f0f921"
             ]
            ],
            "type": "histogram2d"
           }
          ],
          "histogram2dcontour": [
           {
            "colorbar": {
             "outlinewidth": 0,
             "ticks": ""
            },
            "colorscale": [
             [
              0,
              "#0d0887"
             ],
             [
              0.1111111111111111,
              "#46039f"
             ],
             [
              0.2222222222222222,
              "#7201a8"
             ],
             [
              0.3333333333333333,
              "#9c179e"
             ],
             [
              0.4444444444444444,
              "#bd3786"
             ],
             [
              0.5555555555555556,
              "#d8576b"
             ],
             [
              0.6666666666666666,
              "#ed7953"
             ],
             [
              0.7777777777777778,
              "#fb9f3a"
             ],
             [
              0.8888888888888888,
              "#fdca26"
             ],
             [
              1,
              "#f0f921"
             ]
            ],
            "type": "histogram2dcontour"
           }
          ],
          "mesh3d": [
           {
            "colorbar": {
             "outlinewidth": 0,
             "ticks": ""
            },
            "type": "mesh3d"
           }
          ],
          "parcoords": [
           {
            "line": {
             "colorbar": {
              "outlinewidth": 0,
              "ticks": ""
             }
            },
            "type": "parcoords"
           }
          ],
          "pie": [
           {
            "automargin": true,
            "type": "pie"
           }
          ],
          "scatter": [
           {
            "fillpattern": {
             "fillmode": "overlay",
             "size": 10,
             "solidity": 0.2
            },
            "type": "scatter"
           }
          ],
          "scatter3d": [
           {
            "line": {
             "colorbar": {
              "outlinewidth": 0,
              "ticks": ""
             }
            },
            "marker": {
             "colorbar": {
              "outlinewidth": 0,
              "ticks": ""
             }
            },
            "type": "scatter3d"
           }
          ],
          "scattercarpet": [
           {
            "marker": {
             "colorbar": {
              "outlinewidth": 0,
              "ticks": ""
             }
            },
            "type": "scattercarpet"
           }
          ],
          "scattergeo": [
           {
            "marker": {
             "colorbar": {
              "outlinewidth": 0,
              "ticks": ""
             }
            },
            "type": "scattergeo"
           }
          ],
          "scattergl": [
           {
            "marker": {
             "colorbar": {
              "outlinewidth": 0,
              "ticks": ""
             }
            },
            "type": "scattergl"
           }
          ],
          "scattermapbox": [
           {
            "marker": {
             "colorbar": {
              "outlinewidth": 0,
              "ticks": ""
             }
            },
            "type": "scattermapbox"
           }
          ],
          "scatterpolar": [
           {
            "marker": {
             "colorbar": {
              "outlinewidth": 0,
              "ticks": ""
             }
            },
            "type": "scatterpolar"
           }
          ],
          "scatterpolargl": [
           {
            "marker": {
             "colorbar": {
              "outlinewidth": 0,
              "ticks": ""
             }
            },
            "type": "scatterpolargl"
           }
          ],
          "scatterternary": [
           {
            "marker": {
             "colorbar": {
              "outlinewidth": 0,
              "ticks": ""
             }
            },
            "type": "scatterternary"
           }
          ],
          "surface": [
           {
            "colorbar": {
             "outlinewidth": 0,
             "ticks": ""
            },
            "colorscale": [
             [
              0,
              "#0d0887"
             ],
             [
              0.1111111111111111,
              "#46039f"
             ],
             [
              0.2222222222222222,
              "#7201a8"
             ],
             [
              0.3333333333333333,
              "#9c179e"
             ],
             [
              0.4444444444444444,
              "#bd3786"
             ],
             [
              0.5555555555555556,
              "#d8576b"
             ],
             [
              0.6666666666666666,
              "#ed7953"
             ],
             [
              0.7777777777777778,
              "#fb9f3a"
             ],
             [
              0.8888888888888888,
              "#fdca26"
             ],
             [
              1,
              "#f0f921"
             ]
            ],
            "type": "surface"
           }
          ],
          "table": [
           {
            "cells": {
             "fill": {
              "color": "#EBF0F8"
             },
             "line": {
              "color": "white"
             }
            },
            "header": {
             "fill": {
              "color": "#C8D4E3"
             },
             "line": {
              "color": "white"
             }
            },
            "type": "table"
           }
          ]
         },
         "layout": {
          "annotationdefaults": {
           "arrowcolor": "#2a3f5f",
           "arrowhead": 0,
           "arrowwidth": 1
          },
          "autotypenumbers": "strict",
          "coloraxis": {
           "colorbar": {
            "outlinewidth": 0,
            "ticks": ""
           }
          },
          "colorscale": {
           "diverging": [
            [
             0,
             "#8e0152"
            ],
            [
             0.1,
             "#c51b7d"
            ],
            [
             0.2,
             "#de77ae"
            ],
            [
             0.3,
             "#f1b6da"
            ],
            [
             0.4,
             "#fde0ef"
            ],
            [
             0.5,
             "#f7f7f7"
            ],
            [
             0.6,
             "#e6f5d0"
            ],
            [
             0.7,
             "#b8e186"
            ],
            [
             0.8,
             "#7fbc41"
            ],
            [
             0.9,
             "#4d9221"
            ],
            [
             1,
             "#276419"
            ]
           ],
           "sequential": [
            [
             0,
             "#0d0887"
            ],
            [
             0.1111111111111111,
             "#46039f"
            ],
            [
             0.2222222222222222,
             "#7201a8"
            ],
            [
             0.3333333333333333,
             "#9c179e"
            ],
            [
             0.4444444444444444,
             "#bd3786"
            ],
            [
             0.5555555555555556,
             "#d8576b"
            ],
            [
             0.6666666666666666,
             "#ed7953"
            ],
            [
             0.7777777777777778,
             "#fb9f3a"
            ],
            [
             0.8888888888888888,
             "#fdca26"
            ],
            [
             1,
             "#f0f921"
            ]
           ],
           "sequentialminus": [
            [
             0,
             "#0d0887"
            ],
            [
             0.1111111111111111,
             "#46039f"
            ],
            [
             0.2222222222222222,
             "#7201a8"
            ],
            [
             0.3333333333333333,
             "#9c179e"
            ],
            [
             0.4444444444444444,
             "#bd3786"
            ],
            [
             0.5555555555555556,
             "#d8576b"
            ],
            [
             0.6666666666666666,
             "#ed7953"
            ],
            [
             0.7777777777777778,
             "#fb9f3a"
            ],
            [
             0.8888888888888888,
             "#fdca26"
            ],
            [
             1,
             "#f0f921"
            ]
           ]
          },
          "colorway": [
           "#636efa",
           "#EF553B",
           "#00cc96",
           "#ab63fa",
           "#FFA15A",
           "#19d3f3",
           "#FF6692",
           "#B6E880",
           "#FF97FF",
           "#FECB52"
          ],
          "font": {
           "color": "#2a3f5f"
          },
          "geo": {
           "bgcolor": "white",
           "lakecolor": "white",
           "landcolor": "#E5ECF6",
           "showlakes": true,
           "showland": true,
           "subunitcolor": "white"
          },
          "hoverlabel": {
           "align": "left"
          },
          "hovermode": "closest",
          "mapbox": {
           "style": "light"
          },
          "paper_bgcolor": "white",
          "plot_bgcolor": "#E5ECF6",
          "polar": {
           "angularaxis": {
            "gridcolor": "white",
            "linecolor": "white",
            "ticks": ""
           },
           "bgcolor": "#E5ECF6",
           "radialaxis": {
            "gridcolor": "white",
            "linecolor": "white",
            "ticks": ""
           }
          },
          "scene": {
           "xaxis": {
            "backgroundcolor": "#E5ECF6",
            "gridcolor": "white",
            "gridwidth": 2,
            "linecolor": "white",
            "showbackground": true,
            "ticks": "",
            "zerolinecolor": "white"
           },
           "yaxis": {
            "backgroundcolor": "#E5ECF6",
            "gridcolor": "white",
            "gridwidth": 2,
            "linecolor": "white",
            "showbackground": true,
            "ticks": "",
            "zerolinecolor": "white"
           },
           "zaxis": {
            "backgroundcolor": "#E5ECF6",
            "gridcolor": "white",
            "gridwidth": 2,
            "linecolor": "white",
            "showbackground": true,
            "ticks": "",
            "zerolinecolor": "white"
           }
          },
          "shapedefaults": {
           "line": {
            "color": "#2a3f5f"
           }
          },
          "ternary": {
           "aaxis": {
            "gridcolor": "white",
            "linecolor": "white",
            "ticks": ""
           },
           "baxis": {
            "gridcolor": "white",
            "linecolor": "white",
            "ticks": ""
           },
           "bgcolor": "#E5ECF6",
           "caxis": {
            "gridcolor": "white",
            "linecolor": "white",
            "ticks": ""
           }
          },
          "title": {
           "x": 0.05
          },
          "xaxis": {
           "automargin": true,
           "gridcolor": "white",
           "linecolor": "white",
           "ticks": "",
           "title": {
            "standoff": 15
           },
           "zerolinecolor": "white",
           "zerolinewidth": 2
          },
          "yaxis": {
           "automargin": true,
           "gridcolor": "white",
           "linecolor": "white",
           "ticks": "",
           "title": {
            "standoff": 15
           },
           "zerolinecolor": "white",
           "zerolinewidth": 2
          }
         }
        },
        "title": {
         "text": "Forecasted OHLC Prices for the Next Days"
        },
        "xaxis": {
         "rangeslider": {
          "visible": false
         },
         "title": {
          "text": "Date"
         }
        },
        "yaxis": {
         "title": {
          "text": "Price"
         }
        }
       }
      },
      "text/html": [
       "<div>                            <div id=\"a532f6c3-3fbc-4a82-8cfc-64fcf99ac352\" class=\"plotly-graph-div\" style=\"height:525px; width:100%;\"></div>            <script type=\"text/javascript\">                require([\"plotly\"], function(Plotly) {                    window.PLOTLYENV=window.PLOTLYENV || {};                                    if (document.getElementById(\"a532f6c3-3fbc-4a82-8cfc-64fcf99ac352\")) {                    Plotly.newPlot(                        \"a532f6c3-3fbc-4a82-8cfc-64fcf99ac352\",                        [{\"close\":[485.5971374511719,458.3362731933594,404.78118896484375,327.1553955078125,247.78004455566406,190.5751190185547,160.71099853515625,150.780517578125,153.55508422851562,165.9988555908203],\"high\":[485.2488098144531,463.85040283203125,420.9390563964844,362.4102478027344,310.3924865722656,277.11895751953125,263.59698486328125,262.5740966796875,268.8914794921875,279.2218017578125],\"low\":[464.3155517578125,435.1337585449219,379.31005859375,299.2076721191406,219.99208068847656,170.07017517089844,148.349609375,146.42942810058594,156.65687561035156,174.64749145507812],\"name\":\"Ghost Candles\",\"open\":[480.3304443359375,456.0342102050781,406.1466064453125,334.4013977050781,264.3008117675781,216.40310668945312,192.06192016601562,186.00384521484375,191.8387451171875,205.4678192138672],\"x\":[\"2024-03-11T00:00:00\",\"2024-03-12T00:00:00\",\"2024-03-13T00:00:00\",\"2024-03-14T00:00:00\",\"2024-03-15T00:00:00\",\"2024-03-18T00:00:00\",\"2024-03-19T00:00:00\",\"2024-03-20T00:00:00\",\"2024-03-21T00:00:00\",\"2024-03-22T00:00:00\"],\"type\":\"candlestick\"}],                        {\"template\":{\"data\":{\"histogram2dcontour\":[{\"type\":\"histogram2dcontour\",\"colorbar\":{\"outlinewidth\":0,\"ticks\":\"\"},\"colorscale\":[[0.0,\"#0d0887\"],[0.1111111111111111,\"#46039f\"],[0.2222222222222222,\"#7201a8\"],[0.3333333333333333,\"#9c179e\"],[0.4444444444444444,\"#bd3786\"],[0.5555555555555556,\"#d8576b\"],[0.6666666666666666,\"#ed7953\"],[0.7777777777777778,\"#fb9f3a\"],[0.8888888888888888,\"#fdca26\"],[1.0,\"#f0f921\"]]}],\"choropleth\":[{\"type\":\"choropleth\",\"colorbar\":{\"outlinewidth\":0,\"ticks\":\"\"}}],\"histogram2d\":[{\"type\":\"histogram2d\",\"colorbar\":{\"outlinewidth\":0,\"ticks\":\"\"},\"colorscale\":[[0.0,\"#0d0887\"],[0.1111111111111111,\"#46039f\"],[0.2222222222222222,\"#7201a8\"],[0.3333333333333333,\"#9c179e\"],[0.4444444444444444,\"#bd3786\"],[0.5555555555555556,\"#d8576b\"],[0.6666666666666666,\"#ed7953\"],[0.7777777777777778,\"#fb9f3a\"],[0.8888888888888888,\"#fdca26\"],[1.0,\"#f0f921\"]]}],\"heatmap\":[{\"type\":\"heatmap\",\"colorbar\":{\"outlinewidth\":0,\"ticks\":\"\"},\"colorscale\":[[0.0,\"#0d0887\"],[0.1111111111111111,\"#46039f\"],[0.2222222222222222,\"#7201a8\"],[0.3333333333333333,\"#9c179e\"],[0.4444444444444444,\"#bd3786\"],[0.5555555555555556,\"#d8576b\"],[0.6666666666666666,\"#ed7953\"],[0.7777777777777778,\"#fb9f3a\"],[0.8888888888888888,\"#fdca26\"],[1.0,\"#f0f921\"]]}],\"heatmapgl\":[{\"type\":\"heatmapgl\",\"colorbar\":{\"outlinewidth\":0,\"ticks\":\"\"},\"colorscale\":[[0.0,\"#0d0887\"],[0.1111111111111111,\"#46039f\"],[0.2222222222222222,\"#7201a8\"],[0.3333333333333333,\"#9c179e\"],[0.4444444444444444,\"#bd3786\"],[0.5555555555555556,\"#d8576b\"],[0.6666666666666666,\"#ed7953\"],[0.7777777777777778,\"#fb9f3a\"],[0.8888888888888888,\"#fdca26\"],[1.0,\"#f0f921\"]]}],\"contourcarpet\":[{\"type\":\"contourcarpet\",\"colorbar\":{\"outlinewidth\":0,\"ticks\":\"\"}}],\"contour\":[{\"type\":\"contour\",\"colorbar\":{\"outlinewidth\":0,\"ticks\":\"\"},\"colorscale\":[[0.0,\"#0d0887\"],[0.1111111111111111,\"#46039f\"],[0.2222222222222222,\"#7201a8\"],[0.3333333333333333,\"#9c179e\"],[0.4444444444444444,\"#bd3786\"],[0.5555555555555556,\"#d8576b\"],[0.6666666666666666,\"#ed7953\"],[0.7777777777777778,\"#fb9f3a\"],[0.8888888888888888,\"#fdca26\"],[1.0,\"#f0f921\"]]}],\"surface\":[{\"type\":\"surface\",\"colorbar\":{\"outlinewidth\":0,\"ticks\":\"\"},\"colorscale\":[[0.0,\"#0d0887\"],[0.1111111111111111,\"#46039f\"],[0.2222222222222222,\"#7201a8\"],[0.3333333333333333,\"#9c179e\"],[0.4444444444444444,\"#bd3786\"],[0.5555555555555556,\"#d8576b\"],[0.6666666666666666,\"#ed7953\"],[0.7777777777777778,\"#fb9f3a\"],[0.8888888888888888,\"#fdca26\"],[1.0,\"#f0f921\"]]}],\"mesh3d\":[{\"type\":\"mesh3d\",\"colorbar\":{\"outlinewidth\":0,\"ticks\":\"\"}}],\"scatter\":[{\"fillpattern\":{\"fillmode\":\"overlay\",\"size\":10,\"solidity\":0.2},\"type\":\"scatter\"}],\"parcoords\":[{\"type\":\"parcoords\",\"line\":{\"colorbar\":{\"outlinewidth\":0,\"ticks\":\"\"}}}],\"scatterpolargl\":[{\"type\":\"scatterpolargl\",\"marker\":{\"colorbar\":{\"outlinewidth\":0,\"ticks\":\"\"}}}],\"bar\":[{\"error_x\":{\"color\":\"#2a3f5f\"},\"error_y\":{\"color\":\"#2a3f5f\"},\"marker\":{\"line\":{\"color\":\"#E5ECF6\",\"width\":0.5},\"pattern\":{\"fillmode\":\"overlay\",\"size\":10,\"solidity\":0.2}},\"type\":\"bar\"}],\"scattergeo\":[{\"type\":\"scattergeo\",\"marker\":{\"colorbar\":{\"outlinewidth\":0,\"ticks\":\"\"}}}],\"scatterpolar\":[{\"type\":\"scatterpolar\",\"marker\":{\"colorbar\":{\"outlinewidth\":0,\"ticks\":\"\"}}}],\"histogram\":[{\"marker\":{\"pattern\":{\"fillmode\":\"overlay\",\"size\":10,\"solidity\":0.2}},\"type\":\"histogram\"}],\"scattergl\":[{\"type\":\"scattergl\",\"marker\":{\"colorbar\":{\"outlinewidth\":0,\"ticks\":\"\"}}}],\"scatter3d\":[{\"type\":\"scatter3d\",\"line\":{\"colorbar\":{\"outlinewidth\":0,\"ticks\":\"\"}},\"marker\":{\"colorbar\":{\"outlinewidth\":0,\"ticks\":\"\"}}}],\"scattermapbox\":[{\"type\":\"scattermapbox\",\"marker\":{\"colorbar\":{\"outlinewidth\":0,\"ticks\":\"\"}}}],\"scatterternary\":[{\"type\":\"scatterternary\",\"marker\":{\"colorbar\":{\"outlinewidth\":0,\"ticks\":\"\"}}}],\"scattercarpet\":[{\"type\":\"scattercarpet\",\"marker\":{\"colorbar\":{\"outlinewidth\":0,\"ticks\":\"\"}}}],\"carpet\":[{\"aaxis\":{\"endlinecolor\":\"#2a3f5f\",\"gridcolor\":\"white\",\"linecolor\":\"white\",\"minorgridcolor\":\"white\",\"startlinecolor\":\"#2a3f5f\"},\"baxis\":{\"endlinecolor\":\"#2a3f5f\",\"gridcolor\":\"white\",\"linecolor\":\"white\",\"minorgridcolor\":\"white\",\"startlinecolor\":\"#2a3f5f\"},\"type\":\"carpet\"}],\"table\":[{\"cells\":{\"fill\":{\"color\":\"#EBF0F8\"},\"line\":{\"color\":\"white\"}},\"header\":{\"fill\":{\"color\":\"#C8D4E3\"},\"line\":{\"color\":\"white\"}},\"type\":\"table\"}],\"barpolar\":[{\"marker\":{\"line\":{\"color\":\"#E5ECF6\",\"width\":0.5},\"pattern\":{\"fillmode\":\"overlay\",\"size\":10,\"solidity\":0.2}},\"type\":\"barpolar\"}],\"pie\":[{\"automargin\":true,\"type\":\"pie\"}]},\"layout\":{\"autotypenumbers\":\"strict\",\"colorway\":[\"#636efa\",\"#EF553B\",\"#00cc96\",\"#ab63fa\",\"#FFA15A\",\"#19d3f3\",\"#FF6692\",\"#B6E880\",\"#FF97FF\",\"#FECB52\"],\"font\":{\"color\":\"#2a3f5f\"},\"hovermode\":\"closest\",\"hoverlabel\":{\"align\":\"left\"},\"paper_bgcolor\":\"white\",\"plot_bgcolor\":\"#E5ECF6\",\"polar\":{\"bgcolor\":\"#E5ECF6\",\"angularaxis\":{\"gridcolor\":\"white\",\"linecolor\":\"white\",\"ticks\":\"\"},\"radialaxis\":{\"gridcolor\":\"white\",\"linecolor\":\"white\",\"ticks\":\"\"}},\"ternary\":{\"bgcolor\":\"#E5ECF6\",\"aaxis\":{\"gridcolor\":\"white\",\"linecolor\":\"white\",\"ticks\":\"\"},\"baxis\":{\"gridcolor\":\"white\",\"linecolor\":\"white\",\"ticks\":\"\"},\"caxis\":{\"gridcolor\":\"white\",\"linecolor\":\"white\",\"ticks\":\"\"}},\"coloraxis\":{\"colorbar\":{\"outlinewidth\":0,\"ticks\":\"\"}},\"colorscale\":{\"sequential\":[[0.0,\"#0d0887\"],[0.1111111111111111,\"#46039f\"],[0.2222222222222222,\"#7201a8\"],[0.3333333333333333,\"#9c179e\"],[0.4444444444444444,\"#bd3786\"],[0.5555555555555556,\"#d8576b\"],[0.6666666666666666,\"#ed7953\"],[0.7777777777777778,\"#fb9f3a\"],[0.8888888888888888,\"#fdca26\"],[1.0,\"#f0f921\"]],\"sequentialminus\":[[0.0,\"#0d0887\"],[0.1111111111111111,\"#46039f\"],[0.2222222222222222,\"#7201a8\"],[0.3333333333333333,\"#9c179e\"],[0.4444444444444444,\"#bd3786\"],[0.5555555555555556,\"#d8576b\"],[0.6666666666666666,\"#ed7953\"],[0.7777777777777778,\"#fb9f3a\"],[0.8888888888888888,\"#fdca26\"],[1.0,\"#f0f921\"]],\"diverging\":[[0,\"#8e0152\"],[0.1,\"#c51b7d\"],[0.2,\"#de77ae\"],[0.3,\"#f1b6da\"],[0.4,\"#fde0ef\"],[0.5,\"#f7f7f7\"],[0.6,\"#e6f5d0\"],[0.7,\"#b8e186\"],[0.8,\"#7fbc41\"],[0.9,\"#4d9221\"],[1,\"#276419\"]]},\"xaxis\":{\"gridcolor\":\"white\",\"linecolor\":\"white\",\"ticks\":\"\",\"title\":{\"standoff\":15},\"zerolinecolor\":\"white\",\"automargin\":true,\"zerolinewidth\":2},\"yaxis\":{\"gridcolor\":\"white\",\"linecolor\":\"white\",\"ticks\":\"\",\"title\":{\"standoff\":15},\"zerolinecolor\":\"white\",\"automargin\":true,\"zerolinewidth\":2},\"scene\":{\"xaxis\":{\"backgroundcolor\":\"#E5ECF6\",\"gridcolor\":\"white\",\"linecolor\":\"white\",\"showbackground\":true,\"ticks\":\"\",\"zerolinecolor\":\"white\",\"gridwidth\":2},\"yaxis\":{\"backgroundcolor\":\"#E5ECF6\",\"gridcolor\":\"white\",\"linecolor\":\"white\",\"showbackground\":true,\"ticks\":\"\",\"zerolinecolor\":\"white\",\"gridwidth\":2},\"zaxis\":{\"backgroundcolor\":\"#E5ECF6\",\"gridcolor\":\"white\",\"linecolor\":\"white\",\"showbackground\":true,\"ticks\":\"\",\"zerolinecolor\":\"white\",\"gridwidth\":2}},\"shapedefaults\":{\"line\":{\"color\":\"#2a3f5f\"}},\"annotationdefaults\":{\"arrowcolor\":\"#2a3f5f\",\"arrowhead\":0,\"arrowwidth\":1},\"geo\":{\"bgcolor\":\"white\",\"landcolor\":\"#E5ECF6\",\"subunitcolor\":\"white\",\"showland\":true,\"showlakes\":true,\"lakecolor\":\"white\"},\"title\":{\"x\":0.05},\"mapbox\":{\"style\":\"light\"}}},\"xaxis\":{\"rangeslider\":{\"visible\":false},\"title\":{\"text\":\"Date\"}},\"title\":{\"text\":\"Forecasted OHLC Prices for the Next Days\"},\"yaxis\":{\"title\":{\"text\":\"Price\"}}},                        {\"responsive\": true}                    ).then(function(){\n",
       "                            \n",
       "var gd = document.getElementById('a532f6c3-3fbc-4a82-8cfc-64fcf99ac352');\n",
       "var x = new MutationObserver(function (mutations, observer) {{\n",
       "        var display = window.getComputedStyle(gd).display;\n",
       "        if (!display || display === 'none') {{\n",
       "            console.log([gd, 'removed!']);\n",
       "            Plotly.purge(gd);\n",
       "            observer.disconnect();\n",
       "        }}\n",
       "}});\n",
       "\n",
       "// Listen for the removal of the full notebook cells\n",
       "var notebookContainer = gd.closest('#notebook-container');\n",
       "if (notebookContainer) {{\n",
       "    x.observe(notebookContainer, {childList: true});\n",
       "}}\n",
       "\n",
       "// Listen for the clearing of the current output cell\n",
       "var outputEl = gd.closest('.output');\n",
       "if (outputEl) {{\n",
       "    x.observe(outputEl, {childList: true});\n",
       "}}\n",
       "\n",
       "                        })                };                });            </script>        </div>"
      ]
     },
     "metadata": {},
     "output_type": "display_data"
    }
   ],
   "source": [
    "def forecast_future(stock_data, model, scaler, seq_length, num_features, future_days=10):\n",
    "    # Directly use the DataFrame without slicing it before the function call\n",
    "    # Ensure stock_data is in the expected DataFrame format with columns\n",
    "    \n",
    "    # Extract the last sequence from the DataFrame\n",
    "    last_sequence_df = stock_data.iloc[-seq_length:]  # Ensure this is a DataFrame slice\n",
    "    last_sequence = scaler.transform(last_sequence_df[features])\n",
    "    last_sequence = np.expand_dims(last_sequence, axis=0)\n",
    "    \n",
    "    future_predictions = []\n",
    "    \n",
    "    for _ in range(future_days):\n",
    "        prediction = model.predict(last_sequence)\n",
    "        future_predictions.append(prediction[0])\n",
    "        last_sequence = np.roll(last_sequence, -1, axis=1)\n",
    "        last_sequence[:, -1, :] = prediction\n",
    "\n",
    "    future_predictions = np.array(future_predictions)\n",
    "    future_predictions = scaler.inverse_transform(future_predictions)\n",
    "    \n",
    "    return future_predictions\n",
    "\n",
    "def forecast_and_plot_complete(ticker, features, start_date, end_date, seq_length, future_days=10):\n",
    "    stock_data = download_stock_data(ticker, start_date, end_date)\n",
    "#     scaler, scaled_data = scale_data(stock_data[features].values)\n",
    "    scaler, scaled_data = scale_data(stock_data[features].values, features)\n",
    "    \n",
    "    X, y = create_sequences(scaled_data, seq_length)\n",
    "    split_idx = int(len(X) * 0.8)\n",
    "    X_train, y_train = X[:split_idx], y[:split_idx]\n",
    "    X_test, y_test = X[split_idx:], y[split_idx:]\n",
    "    \n",
    "    num_features = len(features)\n",
    "    X_train = X_train.reshape((X_train.shape[0], seq_length, num_features))\n",
    "    X_test = X_test.reshape((X_test.shape[0], seq_length, num_features))\n",
    "    \n",
    "    model = build_and_train_model(X_train, y_train, seq_length, num_features, epochs=50, batch_size=32)\n",
    "    \n",
    "    # Generate predictions for the test set\n",
    "    predicted_values_test = model.predict(X_test)\n",
    "    mae, mse, rmse = calculate_metrics(scaler.inverse_transform(y_test), scaler.inverse_transform(predicted_values_test))\n",
    "    print(f\"Test Set - MAE: {mae}, MSE: {mse}, RMSE: {rmse}\")\n",
    "    \n",
    "    # Forecast future prices directly from the entire stock_data DataFrame\n",
    "    future_predictions = forecast_future(stock_data, model, scaler, seq_length, num_features, future_days)\n",
    "    plot_ghost_candles(future_predictions, '2024-03-11')\n",
    "\n",
    "# Parameters\n",
    "ticker = 'SPY'\n",
    "features = ['Open', 'High', 'Low', 'Close']\n",
    "start_date = '2022-03-11'\n",
    "end_date = '2024-03-11'\n",
    "seq_length = 10\n",
    "\n",
    "# Execute the complete forecast and plot function\n",
    "forecast_and_plot_complete(ticker, features, start_date, end_date, seq_length)"
   ]
  },
  {
   "cell_type": "code",
   "execution_count": null,
   "id": "837f2c41",
   "metadata": {},
   "outputs": [],
   "source": []
  },
  {
   "cell_type": "code",
   "execution_count": null,
   "id": "97e6f809",
   "metadata": {},
   "outputs": [],
   "source": []
  }
 ],
 "metadata": {
  "kernelspec": {
   "display_name": "Python 3 (ipykernel)",
   "language": "python",
   "name": "python3"
  },
  "language_info": {
   "codemirror_mode": {
    "name": "ipython",
    "version": 3
   },
   "file_extension": ".py",
   "mimetype": "text/x-python",
   "name": "python",
   "nbconvert_exporter": "python",
   "pygments_lexer": "ipython3",
   "version": "3.11.5"
  },
  "nbTranslate": {
   "displayLangs": [
    "*"
   ],
   "hotkey": "alt-t",
   "langInMainMenu": true,
   "sourceLang": "en",
   "targetLang": "fr",
   "useGoogleTranslate": true
  },
  "toc": {
   "base_numbering": 1,
   "nav_menu": {},
   "number_sections": true,
   "sideBar": true,
   "skip_h1_title": false,
   "title_cell": "Table of Contents",
   "title_sidebar": "Contents",
   "toc_cell": false,
   "toc_position": {},
   "toc_section_display": true,
   "toc_window_display": false
  },
  "varInspector": {
   "cols": {
    "lenName": 16,
    "lenType": 16,
    "lenVar": 40
   },
   "kernels_config": {
    "python": {
     "delete_cmd_postfix": "",
     "delete_cmd_prefix": "del ",
     "library": "var_list.py",
     "varRefreshCmd": "print(var_dic_list())"
    },
    "r": {
     "delete_cmd_postfix": ") ",
     "delete_cmd_prefix": "rm(",
     "library": "var_list.r",
     "varRefreshCmd": "cat(var_dic_list()) "
    }
   },
   "types_to_exclude": [
    "module",
    "function",
    "builtin_function_or_method",
    "instance",
    "_Feature"
   ],
   "window_display": false
  }
 },
 "nbformat": 4,
 "nbformat_minor": 5
}
