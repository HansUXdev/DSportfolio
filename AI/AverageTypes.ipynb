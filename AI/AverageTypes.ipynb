{
 "cells": [
  {
   "cell_type": "markdown",
   "id": "cf375a4d",
   "metadata": {},
   "source": [
    "# Analysis of Different Types of Moving Averages\n",
    "\n",
    "## Introduction\n",
    "Moving averages are a popular technical analysis tool used by traders to identify trends and potential trading opportunities in financial markets. In this notebook, we will explore and compare various types of moving averages commonly used in technical analysis."
   ]
  },
  {
   "cell_type": "markdown",
   "id": "cd7d4f0d",
   "metadata": {},
   "source": [
    "| Type of Average     | When to Use                                      | When Not to Use                                        | Pros/Cons                                                         | Ideal Timeframe          |\n",
    "|----------------------|--------------------------------------------------|--------------------------------------------------------|--------------------------------------------------------------------|--------------------------|\n",
    "| Simple Moving Average (SMA) | Identifying trends over a longer period     | During periods of high volatility                         | Pros: Smooths out price fluctuations; Cons: Lagging indicator   | Medium to Long-term      |\n",
    "| Exponential Moving Average (EMA) | Reacting quickly to price changes              | In ranging markets or during choppy price action          | Pros: More responsive to recent price movements; Cons: More noise | Short to Medium-term     |\n",
    "| Weighted Moving Average (WMA)  | Giving more weight to recent data             | When the trader wants to emphasize recent price movements | Pros: Reacts quickly to recent data; Cons: Can be more volatile  | Short to Medium-term     |\n",
    "| Hull Moving Average (HMA)     | Reducing lag while maintaining smoothness      | In very volatile markets or during sharp price reversals | Pros: Low lag, smooths out price action; Cons: Complex calculation | Short to Medium-term     |\n",
    "| Triangular Moving Average (TMA) | Reducing lag and providing smoother transitions | During periods of low volatility or sideways markets     | Pros: Reduces lag, smoother transitions; Cons: May still lag behind price action | Medium-term              |\n",
    "| Adaptive Moving Average (AMA)   | Adjusting to different market conditions       | During periods of extreme volatility or erratic price movements | Pros: Adapts to changing market conditions; Cons: May be slower to react | Short to Medium-term     |\n",
    "| Volume Weighted Moving Average (VWMA) | Incorporating volume into price analysis | When analyzing volume alongside price movements     | Pros: Reflects volume as a factor in price analysis; Cons: More complex to interpret | Short to Medium-term     |\n",
    "| Smoothed Moving Average (SMMA) | Reducing noise and providing a smoother curve | When the trader wants to filter out short-term fluctuations | Pros: Reduces noise, smoother curve; Cons: Lagging indicator        | Short to Medium-term     |\n",
    "| Double Exponential Moving Average (DEMA) | Identifying trends with reduced lag        | In choppy or sideways markets                            | Pros: Reduces lag compared to traditional EMAs; Cons: More complex calculation | Short to Medium-term     |\n",
    "| Triple Exponential Moving Average (TEMA) | Smoothing out price movements while reducing lag | In volatile markets or during significant price reversals | Pros: Less lag than traditional EMAs; Cons: More complex calculation | Short to Medium-term     |\n",
    "| Kaufman Adaptive Moving Average (KAMA)   | Adjusting to different market conditions       | During periods of low volatility or sideways markets     | Pros: Adapts to changing market conditions; Cons: May be slower to react | Short to Medium-term     |\n",
    "| Zero Lag Exponential Moving Average (ZLEMA) | Reducing lag in moving average calculations  | In highly volatile markets or during sharp price reversals | Pros: Reduces lag compared to traditional EMAs; Cons: More sensitive to price noise | Short to Medium-term     |\n",
    "| Adaptive Moving Average Convergence Divergence (AMACD) | Identifying trend reversals and divergences | In choppy or range-bound markets                       | Pros: Incorporates adaptive moving averages into MACD analysis; Cons: More complex interpretation | Short to Medium-term     |\n",
    "| Fractal Adaptive Moving Average (FRAMA)    | Providing smoother trend identification       | During periods of high volatility or choppy price action | Pros: Smooths out price fluctuations; Cons: Complex calculation       | Short to Medium-term     |\n",
    "| Variable Moving Average (VMA)               | Adjusting sensitivity to price movements      | In choppy or sideways markets                            | Pros: Adapts to changing market conditions; Cons: More complex interpretation | Short to Medium-term     |\n",
    "| Median Moving Average (MMA)    | Reducing the impact of outliers in price data   | In markets with consistent price movements               | Pros: Reduces the impact of outliers; Cons: Less commonly used       | Short to Medium-term     |\n",
    "| Time Series Moving Average (TSMA) | Identifying trends in time series data        | In time series analysis or forecasting                    | Pros: Suitable for time series data; Cons: Less commonly used       | Short to Medium-term     |\n",
    "| Variable Index Dynamic Average (VIDYA) | Adapting to different market conditions      | During periods of low volatility or choppy price action | Pros: Adapts to changing market conditions; Cons: Less commonly used | Short to Medium-term     |\n",
    "| Kaufman's Efficiency Ratio (ER) | Identifying trends and market efficiency      | In trending markets or when analyzing market efficiency | Pros: Helps identify trending markets; Cons: Less commonly used       | Short to Medium-term     |\n",
    "| Chande Momentum Oscillator (CMO) | Identifying overbought or oversold conditions | During periods of low volatility or choppy price action | Pros: Helps identify overbought/oversold conditions; Cons: Less commonly used | Short to Medium-term     |\n",
    "| Adaptive Cyber Cycle (ACC) | Identifying cyclical patterns in price data    | In cyclical markets or when analyzing cycles            | Pros: Adapts to different market cycles; Cons: Less commonly used    | Short to Medium-term     |\n",
    "| Dynamic Momentum Index (DMI) | Identifying trend strength and direction      | In trending markets or when analyzing momentum          | Pros: Reflects trend strength and direction; Cons: Less commonly used | Short to Medium-term     |\n",
    "| Wilder's Moving Average (WMA) | Identifying trends with increased sensitivity | In highly volatile markets or during choppy price action | Pros: More responsive to recent price movements; Cons: Can be more volatile | Short to Medium-term     |\n",
    "| Geometric Moving Average (GMA) | Smoothing out price data with geometric progression | In trending markets or during consistent price movements | Pros: Provides a geometrically weighted average; Cons: Less commonly used | Short to Medium-term     |\n",
    "| Least Squares Moving Average (LSMA) | Reducing lag and providing a smoother curve | In choppy or volatile markets                            | Pros: Reduces lag, smoother curve; Cons: Less commonly used          | Short to Medium-term     |\n",
    "| Fractal Moving Average (FMA)      | Identifying trend reversals and breakout points | In ranging or sideways markets                           | Pros: Highlights fractal patterns in price data; Cons: Less commonly used | Short to Medium-term     |\n",
    "| Gaussian Moving Average (GMA)     | Smoothing out price fluctuations with Gaussian distribution | In stable or consistent price movements                | Pros: Smooths out price fluctuations; Cons: Less commonly used        | Short to Medium-term     |\n",
    "| Zero Lag Moving Average (ZLMA) | Reducing lag in moving average calculations    | In choppy or volatile markets                           | Pros: Reduces lag compared to traditional EMAs; Cons: May be more sensitive to noise | Short to Medium-term     |\n",
    "| Displaced Moving Average (DMA)  | Projecting price movements forward or backward | In trending markets or when anticipating price movements | Pros: Helps anticipate future price movements; Cons: May result in false signals |\n"
   ]
  },
  {
   "cell_type": "markdown",
   "id": "bd0ff613",
   "metadata": {},
   "source": [
    "\n",
    "## 1. Simple Moving Average (SMA)\n",
    "- Definition\n",
    "- Formula\n",
    "- Pros and Cons\n",
    "- Example Chart\n"
   ]
  },
  {
   "cell_type": "code",
   "execution_count": null,
   "id": "e885f55c",
   "metadata": {},
   "outputs": [],
   "source": []
  },
  {
   "cell_type": "markdown",
   "id": "a3aa5f79",
   "metadata": {},
   "source": [
    "\n",
    "## 2. Exponential Moving Average (EMA)\n",
    "- Definition\n",
    "- Formula\n",
    "- Pros and Cons\n",
    "- Example Chart\n",
    "\n"
   ]
  },
  {
   "cell_type": "code",
   "execution_count": null,
   "id": "d92acca8",
   "metadata": {},
   "outputs": [],
   "source": []
  },
  {
   "cell_type": "markdown",
   "id": "4e758d22",
   "metadata": {},
   "source": [
    "## 3. Weighted Moving Average (WMA)\n",
    "- Definition\n",
    "- Formula\n",
    "- Pros and Cons\n",
    "- Example Chart\n",
    "\n"
   ]
  },
  {
   "cell_type": "code",
   "execution_count": null,
   "id": "e285c0e2",
   "metadata": {},
   "outputs": [],
   "source": []
  },
  {
   "cell_type": "markdown",
   "id": "395a0c26",
   "metadata": {},
   "source": [
    "## 4. Hull Moving Average (HMA)\n",
    "- Definition\n",
    "- Formula\n",
    "- Pros and Cons\n",
    "- Example Chart\n",
    "\n"
   ]
  },
  {
   "cell_type": "code",
   "execution_count": null,
   "id": "ea0a8de5",
   "metadata": {},
   "outputs": [],
   "source": []
  },
  {
   "cell_type": "markdown",
   "id": "0b440a07",
   "metadata": {},
   "source": [
    "## 5. Triangular Moving Average (TMA)\n",
    "- Definition\n",
    "- Formula\n",
    "- Pros and Cons\n",
    "- Example Chart\n",
    "\n"
   ]
  },
  {
   "cell_type": "code",
   "execution_count": null,
   "id": "def01f25",
   "metadata": {},
   "outputs": [],
   "source": []
  },
  {
   "cell_type": "markdown",
   "id": "8198cb21",
   "metadata": {},
   "source": [
    "## 6. Adaptive Moving Average (AMA)\n",
    "- Definition\n",
    "- Formula\n",
    "- Pros and Cons\n",
    "- Example Chart\n",
    "\n"
   ]
  },
  {
   "cell_type": "code",
   "execution_count": null,
   "id": "3f7444df",
   "metadata": {},
   "outputs": [],
   "source": []
  },
  {
   "cell_type": "markdown",
   "id": "be7e2cbc",
   "metadata": {},
   "source": [
    "## 7. Volume Weighted Moving Average (VWMA)\n",
    "- Definition\n",
    "- Formula\n",
    "- Pros and Cons\n",
    "- Example Chart"
   ]
  },
  {
   "cell_type": "code",
   "execution_count": null,
   "id": "3ea04d4a",
   "metadata": {},
   "outputs": [],
   "source": []
  },
  {
   "cell_type": "code",
   "execution_count": null,
   "id": "8a249c1b",
   "metadata": {},
   "outputs": [],
   "source": []
  },
  {
   "cell_type": "code",
   "execution_count": null,
   "id": "5311c740",
   "metadata": {},
   "outputs": [],
   "source": []
  },
  {
   "cell_type": "code",
   "execution_count": null,
   "id": "629764c1",
   "metadata": {},
   "outputs": [],
   "source": []
  },
  {
   "cell_type": "code",
   "execution_count": null,
   "id": "16737283",
   "metadata": {},
   "outputs": [],
   "source": []
  },
  {
   "cell_type": "code",
   "execution_count": null,
   "id": "e3621c60",
   "metadata": {},
   "outputs": [],
   "source": []
  },
  {
   "cell_type": "code",
   "execution_count": null,
   "id": "2ef34542",
   "metadata": {},
   "outputs": [],
   "source": []
  },
  {
   "cell_type": "code",
   "execution_count": null,
   "id": "ac87f0a4",
   "metadata": {},
   "outputs": [],
   "source": []
  },
  {
   "cell_type": "code",
   "execution_count": null,
   "id": "7fd407a8",
   "metadata": {},
   "outputs": [],
   "source": []
  },
  {
   "cell_type": "code",
   "execution_count": null,
   "id": "9623d09d",
   "metadata": {},
   "outputs": [],
   "source": []
  },
  {
   "cell_type": "code",
   "execution_count": null,
   "id": "9ebf52bc",
   "metadata": {},
   "outputs": [],
   "source": []
  },
  {
   "cell_type": "code",
   "execution_count": null,
   "id": "f7467002",
   "metadata": {},
   "outputs": [],
   "source": []
  },
  {
   "cell_type": "code",
   "execution_count": null,
   "id": "62d3d92e",
   "metadata": {},
   "outputs": [],
   "source": []
  },
  {
   "cell_type": "code",
   "execution_count": null,
   "id": "d978959c",
   "metadata": {},
   "outputs": [],
   "source": []
  },
  {
   "cell_type": "code",
   "execution_count": null,
   "id": "09901580",
   "metadata": {},
   "outputs": [],
   "source": []
  },
  {
   "cell_type": "code",
   "execution_count": null,
   "id": "a83d9745",
   "metadata": {},
   "outputs": [],
   "source": []
  },
  {
   "cell_type": "code",
   "execution_count": null,
   "id": "c2b346da",
   "metadata": {},
   "outputs": [],
   "source": []
  },
  {
   "cell_type": "code",
   "execution_count": null,
   "id": "2d007ae9",
   "metadata": {},
   "outputs": [],
   "source": []
  },
  {
   "cell_type": "code",
   "execution_count": null,
   "id": "11991451",
   "metadata": {},
   "outputs": [],
   "source": []
  },
  {
   "cell_type": "code",
   "execution_count": null,
   "id": "a30d44b9",
   "metadata": {},
   "outputs": [],
   "source": []
  },
  {
   "cell_type": "code",
   "execution_count": null,
   "id": "6c5e3e8c",
   "metadata": {},
   "outputs": [],
   "source": []
  },
  {
   "cell_type": "code",
   "execution_count": null,
   "id": "370c2b4d",
   "metadata": {},
   "outputs": [],
   "source": []
  },
  {
   "cell_type": "code",
   "execution_count": null,
   "id": "43bf7f03",
   "metadata": {},
   "outputs": [],
   "source": []
  },
  {
   "cell_type": "code",
   "execution_count": null,
   "id": "cf389c21",
   "metadata": {},
   "outputs": [],
   "source": []
  },
  {
   "cell_type": "code",
   "execution_count": null,
   "id": "2b058677",
   "metadata": {},
   "outputs": [],
   "source": []
  },
  {
   "cell_type": "code",
   "execution_count": null,
   "id": "f094d913",
   "metadata": {},
   "outputs": [],
   "source": []
  },
  {
   "cell_type": "code",
   "execution_count": null,
   "id": "2e3389f4",
   "metadata": {},
   "outputs": [],
   "source": []
  },
  {
   "cell_type": "code",
   "execution_count": null,
   "id": "de10a3ea",
   "metadata": {},
   "outputs": [],
   "source": []
  },
  {
   "cell_type": "code",
   "execution_count": null,
   "id": "d2c91064",
   "metadata": {},
   "outputs": [],
   "source": []
  },
  {
   "cell_type": "code",
   "execution_count": null,
   "id": "d5c23795",
   "metadata": {},
   "outputs": [],
   "source": []
  },
  {
   "cell_type": "code",
   "execution_count": null,
   "id": "0e5b88a3",
   "metadata": {},
   "outputs": [],
   "source": []
  },
  {
   "cell_type": "code",
   "execution_count": null,
   "id": "64a29997",
   "metadata": {},
   "outputs": [],
   "source": []
  },
  {
   "cell_type": "markdown",
   "id": "ab01057d",
   "metadata": {},
   "source": [
    "## Conclusion\n",
    "- Summary of findings\n",
    "- Recommendations for further research\n",
    "\n",
    "## References\n",
    "- List of sources and references used in the analysis"
   ]
  },
  {
   "cell_type": "code",
   "execution_count": null,
   "id": "de5a2505",
   "metadata": {},
   "outputs": [],
   "source": []
  },
  {
   "cell_type": "code",
   "execution_count": null,
   "id": "3e5904dd",
   "metadata": {},
   "outputs": [],
   "source": []
  },
  {
   "cell_type": "code",
   "execution_count": null,
   "id": "1b0a10f4",
   "metadata": {},
   "outputs": [],
   "source": []
  }
 ],
 "metadata": {
  "kernelspec": {
   "display_name": "Python 3 (ipykernel)",
   "language": "python",
   "name": "python3"
  },
  "language_info": {
   "codemirror_mode": {
    "name": "ipython",
    "version": 3
   },
   "file_extension": ".py",
   "mimetype": "text/x-python",
   "name": "python",
   "nbconvert_exporter": "python",
   "pygments_lexer": "ipython3",
   "version": "3.11.5"
  },
  "nbTranslate": {
   "displayLangs": [
    "*"
   ],
   "hotkey": "alt-t",
   "langInMainMenu": true,
   "sourceLang": "en",
   "targetLang": "fr",
   "useGoogleTranslate": true
  },
  "toc": {
   "base_numbering": 1,
   "nav_menu": {},
   "number_sections": true,
   "sideBar": true,
   "skip_h1_title": false,
   "title_cell": "Table of Contents",
   "title_sidebar": "Contents",
   "toc_cell": false,
   "toc_position": {},
   "toc_section_display": true,
   "toc_window_display": false
  },
  "varInspector": {
   "cols": {
    "lenName": 16,
    "lenType": 16,
    "lenVar": 40
   },
   "kernels_config": {
    "python": {
     "delete_cmd_postfix": "",
     "delete_cmd_prefix": "del ",
     "library": "var_list.py",
     "varRefreshCmd": "print(var_dic_list())"
    },
    "r": {
     "delete_cmd_postfix": ") ",
     "delete_cmd_prefix": "rm(",
     "library": "var_list.r",
     "varRefreshCmd": "cat(var_dic_list()) "
    }
   },
   "types_to_exclude": [
    "module",
    "function",
    "builtin_function_or_method",
    "instance",
    "_Feature"
   ],
   "window_display": false
  }
 },
 "nbformat": 4,
 "nbformat_minor": 5
}
